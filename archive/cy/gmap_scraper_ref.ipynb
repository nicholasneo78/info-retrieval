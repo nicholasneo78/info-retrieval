{
 "cells": [
  {
   "cell_type": "markdown",
   "metadata": {},
   "source": [
    "# Google Map Scraper\n",
    "https://github.com/dhanraj6/Google-Maps-Scraper"
   ]
  },
  {
   "cell_type": "code",
   "execution_count": 1,
   "metadata": {},
   "outputs": [],
   "source": [
    "from selenium import webdriver\n",
    "from selenium.webdriver.common.action_chains import ActionChains\n",
    "from selenium.webdriver.common.keys import Keys\n",
    "from bs4 import BeautifulSoup\n",
    "import time\n",
    "import io\n",
    "import pandas as pd\n",
    "\n"
   ]
  },
  {
   "cell_type": "code",
   "execution_count": 3,
   "metadata": {},
   "outputs": [],
   "source": [
    "\n",
    "# relative path to chromedriver (located in same folder), might need update ur chrome to latest version\n",
    "chromedriver_path = \"chromedriver.exe\"\n",
    "# url to google map\n",
    "gmap_url='https://www.google.com/maps/place/Kempegowda+International+Airport+Bengaluru/@13.1986348,77.7044041,17z/data=!4m7!3m6!1s0x3bae1cfe75446265:0x296c70e9a129418e!8m2!3d13.1986348!4d77.7065928!9m1!1b1'\n"
   ]
  },
  {
   "cell_type": "code",
   "execution_count": 5,
   "metadata": {},
   "outputs": [
    {
     "name": "stdout",
     "output_type": "stream",
     "text": [
      "Total reviews scraped:8\n"
     ]
    }
   ],
   "source": [
    "browser = webdriver.Chrome(chromedriver_path)\n",
    "\n",
    "#add your google map link whose data you want to scrape\n",
    "browser.get(gmap_url)\n",
    "\n",
    "actions = ActionChains(browser)\n",
    "\n",
    "browser.maximize_window()\n",
    "time.sleep(3)\n",
    "content = browser.find_element_by_class_name('scrollable-show').click()\n",
    "htmlstring = browser.page_source\n",
    "afterstring=\"\"\n",
    "for i in range(12):\n",
    "    afterstring = htmlstring\n",
    "    actions.send_keys(Keys.PAGE_DOWN).perform()\n",
    "    htmlstring = browser.page_source\n",
    "    if (i>12):\n",
    "        print (\"ended scraping crack test one\")\n",
    "        actions.send_keys(Keys.PAGE_DOWN).perform()\n",
    "        htmlstring = browser.page_source\n",
    "        if (i>12):\n",
    "           print (\"--Scrapping End--\")\n",
    "           break\n",
    "    time.sleep(3)\n",
    "    \n",
    "\n",
    "textdoc = io.open(\"data.txt\", \"a+\", encoding=\"utf-8\")\n",
    "soup = BeautifulSoup(htmlstring,\"html.parser\")\n",
    "mydivs = soup.findAll(\"div\", {\"class\": \"section-review-content\"})\n",
    "counter = 0\n",
    "Reviwer_data ={'Reviewer Name':[],'Reviewer Rating':[],'Reviewer Profile URL':[],'Review':[],'Time':[]}\n",
    "for a in mydivs:\n",
    "    textdoc.write(str(\"\\nReviewer name: \"+a.find(\"div\", class_=\"section-review-title\").text)+\" \\n||Reviewerer Profile URL:\"+ str(a.find(\"a\").get('href')))\n",
    "    textdoc.write(\" \\n||Review:\" + a.find(\"span\", class_=\"section-review-text\").text+\" \\n||Time: \" + a.find(\"span\", class_=\"section-review-publish-date\").text)\n",
    "    textdoc.write(\"\\n\")\n",
    "    textdoc.write(str(a.find(\"span\", class_=\"section-review-stars\")))\n",
    "    textdoc.write(\"=========================================\\n\")\n",
    "    Reviwer_data['Reviewer Name'].append(a.find(\"div\", class_=\"section-review-title\").text)\n",
    "    Reviwer_data['Reviewer Rating'].append(str(a.find(\"span\", class_=\"section-review-stars\")))\n",
    "    Reviwer_data['Reviewer Profile URL'].append(str(a.find(\"a\").get('href')))\n",
    "    Reviwer_data['Review'].append(a.find(\"span\", class_=\"section-review-text\").text)\n",
    "    Reviwer_data['Time'].append(a.find(\"span\", class_=\"section-review-publish-date\").text)\n",
    "    counter = counter + 1\n",
    "print(\"Total reviews scraped:\"+str(counter))\n",
    "textdoc.close()\n",
    "pd.DataFrame(Reviwer_data).to_csv('data.csv',index=0)"
   ]
  },
  {
   "cell_type": "code",
   "execution_count": null,
   "metadata": {},
   "outputs": [],
   "source": []
  }
 ],
 "metadata": {
  "kernelspec": {
   "display_name": "Python 3",
   "language": "python",
   "name": "python3"
  },
  "language_info": {
   "codemirror_mode": {
    "name": "ipython",
    "version": 3
   },
   "file_extension": ".py",
   "mimetype": "text/x-python",
   "name": "python",
   "nbconvert_exporter": "python",
   "pygments_lexer": "ipython3",
   "version": "3.8.5"
  }
 },
 "nbformat": 4,
 "nbformat_minor": 4
}
