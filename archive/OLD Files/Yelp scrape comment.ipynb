{
 "cells": [
  {
   "cell_type": "code",
   "execution_count": 1,
   "metadata": {},
   "outputs": [],
   "source": [
    "from requests import get\n",
    "import matplotlib.pyplot as plt\n",
    "from bs4 import BeautifulSoup\n",
    "import pandas as pd\n",
    "from time import sleep\n",
    "from random import randint\n",
    "from time import time \n",
    "from IPython.core.display import clear_output\n",
    "from warnings import warn\n",
    "import pickle"
   ]
  },
  {
   "cell_type": "code",
   "execution_count": 2,
   "metadata": {},
   "outputs": [
    {
     "name": "stdout",
     "output_type": "stream",
     "text": [
      "0      yelp.com/biz/sungei-road-laksa-singapore-2?osq...\n",
      "1      yelp.com/biz/tian-tian-hainanese-chicken-rice-...\n",
      "2      yelp.com/biz/coriander-leaf-singapore-2?osq=Re...\n",
      "3        yelp.com/biz/holycrab-singapore?osq=Restaurants\n",
      "4      yelp.com/biz/burnt-ends-singapore?osq=Restaurants\n",
      "                             ...                        \n",
      "215        yelp.com/biz/gram-singapore-2?osq=Restaurants\n",
      "216    yelp.com/biz/super-loco-customs-house-singapor...\n",
      "217    yelp.com/biz/salted-and-hung-singapore?osq=Res...\n",
      "218    yelp.com/biz/soon-kee-wanton-mee-singapore?osq...\n",
      "219    yelp.com/biz/red-stove-hokkien-prawn-mee-singa...\n",
      "Name: Reviews Link, Length: 220, dtype: object\n"
     ]
    }
   ],
   "source": [
    "data = pd.read_csv('restaurant_ratings.csv')\n",
    "df = pd.DataFrame(data)\n",
    "linkFrame = df['Reviews Link']\n",
    "print(linkFrame)"
   ]
  },
  {
   "cell_type": "code",
   "execution_count": 3,
   "metadata": {},
   "outputs": [
    {
     "name": "stdout",
     "output_type": "stream",
     "text": [
      "['yelp.com/biz/sungei-road-laksa-singapore-2?osq=Restaurants', 'yelp.com/biz/tian-tian-hainanese-chicken-rice-singapore-7?osq=Restaurants', 'yelp.com/biz/coriander-leaf-singapore-2?osq=Restaurants', 'yelp.com/biz/holycrab-singapore?osq=Restaurants', 'yelp.com/biz/burnt-ends-singapore?osq=Restaurants', 'yelp.com/biz/jumbo-seafood-singapore-4?osq=Restaurants', 'yelp.com/biz/song-fa-bak-kut-teh-singapore-11?osq=Restaurants', 'yelp.com/biz/two-men-bagel-house-singapore?osq=Restaurants', 'yelp.com/biz/din-tai-fung-singapore-5?osq=Restaurants', 'yelp.com/biz/usman-restaurant-singapore?osq=Restaurants', 'yelp.com/biz/tim-ho-wan-singapore-7?osq=Restaurants', 'yelp.com/biz/vatos-urban-tacos-singapore?osq=Restaurants', 'yelp.com/biz/cibo-italiano-singapore?osq=Restaurants', 'yelp.com/biz/national-kitchen-by-violet-oon-singapore-2?osq=Restaurants', 'yelp.com/biz/hong-kong-style-chee-cheong-fun-singapore-3?osq=Restaurants', 'yelp.com/biz/stuttgart-blackforest-boutique-s-cafe-singapore-2?osq=Restaurants', 'yelp.com/biz/artichoke-cafe-and-bar-singapore?osq=Restaurants', 'yelp.com/biz/the-sushi-bar-singapore?osq=Restaurants', 'yelp.com/biz/the-coconut-club-singapore?osq=Restaurants', 'yelp.com/biz/hokkaido-ramen-santouka-singapore?osq=Restaurants', 'yelp.com/biz/swee-choon-tim-sum-singapore?osq=Restaurants', 'yelp.com/biz/pek-kio-market-and-food-centre-singapore?osq=Restaurants', 'yelp.com/biz/the-butchers-wife-singapore?osq=Restaurants', 'yelp.com/biz/lavender-food-hub-singapore?osq=Restaurants', 'yelp.com/biz/wee-nam-kee-chicken-rice-singapore?osq=Restaurants', 'yelp.com/biz/two-men-bagel-house-singapore-4?osq=Restaurants', 'yelp.com/biz/yakinikutei-ao-chan-singapore?osq=Restaurants', 'yelp.com/biz/outram-park-fried-kway-teow-mee-singapore-2?osq=Restaurants', 'yelp.com/biz/foc-singapore?osq=Restaurants', 'yelp.com/biz/lighthouse-bistro-singapore?osq=Restaurants', 'yelp.com/biz/rui-xiang-restaurant-singapore?osq=Restaurants', 'yelp.com/biz/zhong-guo-la-mian-xiao-long-bao-singapore?osq=Restaurants', 'yelp.com/biz/hui-ji-local-delights-singapore-2?osq=Restaurants', 'yelp.com/biz/mrs-pho-house-rangoon-singapore?osq=Restaurants', 'yelp.com/biz/liao-fan-hawker-chan-singapore-3?osq=Restaurants', 'yelp.com/biz/momiji-japanese-buffet-restaurant-singapore?osq=Restaurants', 'yelp.com/biz/lang-nuong-viet-nam-singapore?osq=Restaurants', 'yelp.com/biz/sawadee-thai-cuisine-singapore-2?osq=Restaurants', 'yelp.com/biz/the-banana-leaf-apolo-singapore-2?osq=Restaurants', 'yelp.com/biz/la-strada-singapore?osq=Restaurants', 'yelp.com/biz/ps-cafe-singapore-10?osq=Restaurants', 'yelp.com/biz/cut-singapore-2?osq=Restaurants', 'yelp.com/biz/wolf-burgers-singapore?osq=Restaurants', 'yelp.com/biz/tai-hwa-pork-noodle-singapore?osq=Restaurants', 'yelp.com/biz/kampong-glam-cafe-singapore?osq=Restaurants', 'yelp.com/biz/mrs-pho-singapore?osq=Restaurants', 'yelp.com/biz/nanyang-old-taste-singapore?osq=Restaurants', 'yelp.com/biz/brunches-cafe-singapore-3?osq=Restaurants', 'yelp.com/biz/once-upon-a-thyme-singapore?osq=Restaurants', 'yelp.com/biz/din-tai-fung-singapore-4?osq=Restaurants', 'yelp.com/biz/five-star-hainanese-chicken-rice-singapore-2?osq=Restaurants', 'yelp.com/biz/dancing-crab-singapore-2?osq=Restaurants', 'yelp.com/biz/penang-seafood-restaurant-singapore?osq=Restaurants', 'yelp.com/biz/man-man-japanese-unagi-singapore?osq=Restaurants', 'yelp.com/biz/shake-shack-singapore-2?osq=Restaurants', 'yelp.com/biz/mei-toy-thai-food-singapore?osq=Restaurants', 'yelp.com/biz/black-tap-singapore?osq=Restaurants', 'yelp.com/biz/waku-ghin-singapore?osq=Restaurants', 'yelp.com/biz/din-tai-fung-singapore-23?osq=Restaurants', 'yelp.com/biz/three-buns-singapore-2?osq=Restaurants', 'yelp.com/biz/khansama-tandoori-singapore?osq=Restaurants', 'yelp.com/biz/everest-kitchen-singapore-2?osq=Restaurants', 'yelp.com/biz/riverside-indonesian-bbq-singapore-4?osq=Restaurants', 'yelp.com/biz/beef-yakiniku-dining-yakiniquest-singapore?osq=Restaurants', 'yelp.com/biz/da-lian-traditional-noodles-singapore?osq=Restaurants', 'yelp.com/biz/zam-zam-restaurant-singapore?osq=Restaurants', 'yelp.com/biz/yardbird-southern-table-and-bar-singapore?osq=Restaurants', 'yelp.com/biz/happy-crab-singapore?osq=Restaurants', 'yelp.com/biz/isle-eating-house-singapore?osq=Restaurants', 'yelp.com/biz/old-airport-road-food-centre-singapore?osq=Restaurants', 'yelp.com/biz/a-noodle-story-singapore?osq=Restaurants', 'yelp.com/biz/barking-irons-singapore?osq=Restaurants', 'yelp.com/biz/the-royals-steakhouse-singapore?osq=Restaurants', 'yelp.com/biz/komala-vilas-restaurant-singapore?osq=Restaurants', 'yelp.com/biz/food-republic-singapore-5?osq=Restaurants', 'yelp.com/biz/sbcd-tofu-millenia-walk-singapore?osq=Restaurants', 'yelp.com/biz/lai-wah-restaurant-singapore?osq=Restaurants', 'yelp.com/biz/328-katong-laksa-singapore-3?osq=Restaurants', 'yelp.com/biz/enchanted-cafe-singapore?osq=Restaurants', 'yelp.com/biz/the-other-room-singapore?osq=Restaurants', 'yelp.com/biz/beach-road-kitchen-singapore?osq=Restaurants', 'yelp.com/biz/escape-restaurant-and-lounge-singapore?osq=Restaurants', 'yelp.com/biz/hong-kong-street-family-restaurant-singapore-2?osq=Restaurants', 'yelp.com/biz/ldm-charcoal-bbq-restaurant-singapore?osq=Restaurants', 'yelp.com/biz/jb-ah-meng-singapore?osq=Restaurants', 'yelp.com/biz/grannys-pancake-singapore?osq=Restaurants', 'yelp.com/biz/tolidos-espresso-nook-singapore-3?osq=Restaurants', 'yelp.com/biz/edge-singapore?osq=Restaurants', 'yelp.com/biz/my-little-spanish-place-singapore?osq=Restaurants', 'yelp.com/biz/fat-cow-singapore?osq=Restaurants', 'yelp.com/biz/seiwaa-okonomiyaki-and-teppanyaki-restaurant-singapore?osq=Restaurants', 'yelp.com/biz/waa-cow-sushi-bar-singapore?osq=Restaurants', 'yelp.com/biz/dolphins-singapore?osq=Restaurants', 'yelp.com/biz/founder-bak-kut-teh-no-title?osq=Restaurants', 'yelp.com/biz/hawkerman-singapore-2?osq=Restaurants', 'yelp.com/biz/crystal-jade-steamboat-no-title?osq=Restaurants', 'yelp.com/biz/satay-by-the-bay-singapore?osq=Restaurants', 'yelp.com/biz/shabu-shabu-gen-singapore-2?osq=Restaurants', 'yelp.com/biz/culina-singapore-3?osq=Restaurants', 'yelp.com/biz/origin-grill-and-bar-singapore?osq=Restaurants', 'yelp.com/biz/the-naked-finn-singapore?osq=Restaurants', 'yelp.com/biz/blue-label-pizza-and-wine-singapore?osq=Restaurants', 'yelp.com/biz/fook-kin-singapore?osq=Restaurants', 'yelp.com/biz/ash-and-elm-singapore?osq=Restaurants', 'yelp.com/biz/soi-47-thai-food-singapore?osq=Restaurants', 'yelp.com/biz/joyden-treasures-singapore?osq=Restaurants', 'yelp.com/biz/kamome-bakery-singapore?osq=Restaurants', 'yelp.com/biz/ki-sho-singapore?osq=Restaurants', 'yelp.com/biz/zazz-pizza-singapore?osq=Restaurants', 'yelp.com/biz/yakiniku-yazawa-singapore?osq=Restaurants', 'yelp.com/biz/haramiya-japanese-bbq-restaurant-singapore?osq=Restaurants', 'yelp.com/biz/hawaiian-kitchen-aloha-ma-maison-singapore?osq=Restaurants', 'yelp.com/biz/golden-jade-restaurant-culinary-group-singapore?osq=Restaurants', 'yelp.com/biz/tanglin-food-hall-singapore?osq=Restaurants', 'yelp.com/biz/old-street-bak-kut-teh-singapore-4?osq=Restaurants', 'yelp.com/biz/%E6%97%BA%E8%A7%92%E9%BB%9E%E5%BF%83-mongkok-dim-sum-singapore?osq=Restaurants', 'yelp.com/biz/puglia-alfresco-pizza-bar-singapore?osq=Restaurants', 'yelp.com/biz/hainanese-delicacy-chicken-rice-singapore?osq=Restaurants', 'yelp.com/biz/ippudo-singapore-6?osq=Restaurants', 'yelp.com/biz/fat-bird-singapore?osq=Restaurants', 'yelp.com/biz/five-oars-coffee-roasters-singapore-2?osq=Restaurants', 'yelp.com/biz/tian-fu-tea-room-singapore?osq=Restaurants', 'yelp.com/biz/jumbo-singapore?osq=Restaurants', 'yelp.com/biz/johor-road-boon-kee-pork-porridge-singapore?osq=Restaurants', 'yelp.com/biz/the-original-katong-laksa-singapore?osq=Restaurants', 'yelp.com/biz/jumbo-seafood-singapore-8?osq=Restaurants', 'yelp.com/biz/knots-cafe-and-living-singapore?osq=Restaurants', 'yelp.com/biz/%E4%BE%86%E5%A7%90%E5%AE%B6-singapore?osq=Restaurants', 'yelp.com/biz/empress-singapore?osq=Restaurants', 'yelp.com/biz/imperial-treasure-fine-chinese-cuisine-singapore-2?osq=Restaurants', 'yelp.com/biz/sichuan-village-restaurant-singapore?osq=Restaurants', 'yelp.com/biz/sushiro-singapore-2?osq=Restaurants', 'yelp.com/biz/bigmama-singapore?osq=Restaurants', 'yelp.com/biz/wing-seong-fattys-singapore?osq=Restaurants', 'yelp.com/biz/club55-singapore?osq=Restaurants', 'yelp.com/biz/nude-seafood-singapore-2?osq=Restaurants', 'yelp.com/biz/tono-cevicheria-singapore?osq=Restaurants', 'yelp.com/biz/famous-sungei-road-trishaw-laksa-singapore-2?osq=Restaurants', 'yelp.com/biz/going-om-singapore?osq=Restaurants', 'yelp.com/biz/chui-huay-lim-teochew-cusine-singapore?osq=Restaurants', 'yelp.com/biz/forty-hands-east-coast-singapore?osq=Restaurants', 'yelp.com/biz/warehouse-bistro-singapore?osq=Restaurants', 'yelp.com/biz/shinji-by-kanesaka-singapore-2?osq=Restaurants', 'yelp.com/biz/mtr-1924-singapore-2?osq=Restaurants', 'yelp.com/biz/santa-fe-all-american-tex-mex-grill-singapore?osq=Restaurants', 'yelp.com/biz/sidewalk-food-place-singapore?osq=Restaurants', 'yelp.com/biz/shang-palace-singapore?osq=Restaurants', 'yelp.com/biz/botanist-singapore?osq=Restaurants', 'yelp.com/biz/blanco-court-prawn-mee-singapore?osq=Restaurants', 'yelp.com/biz/paulaner-br%C3%A4uhaus-singapore-singapore-2?osq=Restaurants', 'yelp.com/biz/the-marmalade-pantry-singapore-4?osq=Restaurants', 'yelp.com/biz/ippudo-singapore-5?osq=Restaurants', 'yelp.com/biz/magurodonya-miuramisakikou-sushi-singapore?osq=Restaurants', 'yelp.com/biz/tiong-bahru-bakery-singapore-4?osq=Restaurants', 'yelp.com/biz/torasho-ramen-and-charcoal-bar-singapore?osq=Restaurants', 'yelp.com/biz/kaiserhaus-singapore?osq=Restaurants', 'yelp.com/biz/fat-belly-singapore?osq=Restaurants', 'yelp.com/biz/redpan-singapore?osq=Restaurants', 'yelp.com/biz/curate-southern-islands?osq=Restaurants', 'yelp.com/biz/publico-singapore?osq=Restaurants', 'yelp.com/biz/justin-flavours-of-asia-singapore?osq=Restaurants', 'yelp.com/biz/som-tam-singapore?osq=Restaurants', 'yelp.com/biz/vietnamese-stall-sim-lim-square-food-court-singapore?osq=Restaurants', 'yelp.com/biz/ah-tai-hainanese-chicken-rice-singapore?osq=Restaurants', 'yelp.com/biz/pasarbella-singapore-2?osq=Restaurants', 'yelp.com/biz/kai-sushi-and-robatayaki-singapore?osq=Restaurants', 'yelp.com/biz/the-black-swan-singapore?osq=Restaurants', 'yelp.com/biz/lukes-oyster-bar-and-chop-house-singapore-2?osq=Restaurants', 'yelp.com/biz/keng-eng-kee-seafood-singapore?osq=Restaurants', 'yelp.com/biz/yan-kee-noodle-house-singapore?osq=Restaurants', 'yelp.com/biz/sushi-jin-singapore?osq=Restaurants', 'yelp.com/biz/mr-and-mrs-mohgans-super-crispy-roti-prata-singapore?osq=Restaurants', 'yelp.com/biz/wang-dae-bak-korean-bbq-singapore-3?osq=Restaurants', 'yelp.com/biz/el-toro-singapore?osq=Restaurants', 'yelp.com/biz/maison-ikkoku-restaurant-and-bar-singapore-2?osq=Restaurants', 'yelp.com/biz/violet-oon-satay-and-grill-singapore?osq=Restaurants', 'yelp.com/biz/heart-of-darkness-singapore-singapore?osq=Restaurants', 'yelp.com/biz/zhen-hao-lor-mee-singapore?osq=Restaurants', 'yelp.com/biz/public-house-singapore?osq=Restaurants', 'yelp.com/biz/ippudo-singapore-4?osq=Restaurants', 'yelp.com/biz/bak-chor-mee-lorong-5-toa-payoh-singapore?osq=Restaurants', 'yelp.com/biz/brazil-churrasco-singapore-2?osq=Restaurants', 'yelp.com/biz/creatures-singapore?osq=Restaurants', 'yelp.com/biz/pu-dong-kitchen-singapore-2?osq=Restaurants', 'yelp.com/biz/nagae-singapore?osq=Restaurants', 'yelp.com/biz/nanjing-restaurant-singapore?osq=Restaurants', 'yelp.com/biz/indocafe-the-white-house-singapore?osq=Restaurants', 'yelp.com/biz/my-little-spanish-place-singapore-2?osq=Restaurants', 'yelp.com/biz/el-cubanos-singapore?osq=Restaurants', 'yelp.com/biz/xiang-yuan-ji-shanghai-sheng-jian-bao-singapore?osq=Restaurants', 'yelp.com/biz/korean-fusion-bbq-singapore-2?osq=Restaurants', 'yelp.com/biz/the-clueless-goat-singapore?osq=Restaurants', 'yelp.com/biz/the-american-taproom-singapore?osq=Restaurants', 'yelp.com/biz/hai-di-lao-singapore-4?osq=Restaurants', 'yelp.com/biz/the-ricetable-singapore?osq=Restaurants', 'yelp.com/biz/wheelers-yard-singapore?osq=Restaurants', 'yelp.com/biz/astons-specialities-singapore-3?osq=Restaurants', 'yelp.com/biz/earlybird-singapore?osq=Restaurants', 'yelp.com/biz/shukuu-izakaya-singapore?osq=Restaurants', 'yelp.com/biz/skirt-no-title?osq=Restaurants', 'yelp.com/biz/grain-traders-singapore?osq=Restaurants', 'yelp.com/biz/fatboys-the-burger-bar-singapore-7?osq=Restaurants', 'yelp.com/biz/hans-im-gl%C3%BCck-singapore-2?osq=Restaurants', 'yelp.com/biz/byblos-grill-singapore?osq=Restaurants', 'yelp.com/biz/crystal-jade-kitchen-singapore-10?osq=Restaurants', 'yelp.com/biz/singapore-seafood-republic-singapore?osq=Restaurants', 'yelp.com/biz/dumpling-darlings-singapore?osq=Restaurants', 'yelp.com/biz/chef-kangs-noodle-house-singapore?osq=Restaurants', 'yelp.com/biz/bread-yard-singapore-2?osq=Restaurants', 'yelp.com/biz/minang-house-singapore?osq=Restaurants', 'yelp.com/biz/limaa-singapore?osq=Restaurants', 'yelp.com/biz/pistachio-singapore-3?osq=Restaurants', 'yelp.com/biz/vespetta-italian-gastro-bar-singapore?osq=Restaurants', 'yelp.com/biz/yakitori-dickson-singapore?osq=Restaurants', 'yelp.com/biz/crab-song-singapore?osq=Restaurants', 'yelp.com/biz/gram-singapore-2?osq=Restaurants', 'yelp.com/biz/super-loco-customs-house-singapore?osq=Restaurants', 'yelp.com/biz/salted-and-hung-singapore?osq=Restaurants', 'yelp.com/biz/soon-kee-wanton-mee-singapore?osq=Restaurants', 'yelp.com/biz/red-stove-hokkien-prawn-mee-singapore?osq=Restaurants']\n"
     ]
    }
   ],
   "source": [
    "link_list=[]\n",
    "for link in linkFrame.items():\n",
    "    link_list.append(link[1])\n",
    "print(link_list)"
   ]
  },
  {
   "cell_type": "code",
   "execution_count": 4,
   "metadata": {},
   "outputs": [
    {
     "name": "stdout",
     "output_type": "stream",
     "text": [
      "hi\n",
      "http://yelp.com/biz/tian-tian-hainanese-chicken-rice-singapore-7?osq=Restaurants\n"
     ]
    }
   ],
   "source": [
    "url = \"http://\"+link_list[1]\n",
    "response = get(url)\n",
    "html_soup = BeautifulSoup(response.text, 'html.parser')\n",
    "print(\"hi\")\n",
    "print(url)"
   ]
  },
  {
   "cell_type": "code",
   "execution_count": 5,
   "metadata": {},
   "outputs": [
    {
     "name": "stdout",
     "output_type": "stream",
     "text": [
      "<class 'bs4.element.ResultSet'>\n",
      "0\n"
     ]
    }
   ],
   "source": [
    "res_containers = html_soup.find_all('p', class_ = 'text__373c0__2Kxyz comment__373c0__1M-px text-color--normal__373c0__3xep9 text-align--left__373c0__2XGa-')\n",
    "print(type(res_containers))\n",
    "print(len(res_containers))\n"
   ]
  },
  {
   "cell_type": "code",
   "execution_count": null,
   "metadata": {},
   "outputs": [],
   "source": [
    "first_res=res_containers[0]\n",
    "print(first_res)"
   ]
  },
  {
   "cell_type": "code",
   "execution_count": null,
   "metadata": {},
   "outputs": [],
   "source": [
    "print(first_res.span.text)"
   ]
  },
  {
   "cell_type": "code",
   "execution_count": null,
   "metadata": {},
   "outputs": [],
   "source": [
    "start = [str(i) for i in range(0, 30, 20)]"
   ]
  },
  {
   "cell_type": "code",
   "execution_count": null,
   "metadata": {},
   "outputs": [],
   "source": [
    "# Redeclaring the lists to store data in\n",
    "reviews=[]\n",
    "\n",
    "# Preparing the monitoring of the loop\n",
    "start_time = time()\n",
    "requests = 0\n",
    "\n",
    "url = \"http://\"+link_list[1]\n",
    "\n",
    "# For every restaurant in the interval of 10\n",
    "for sta in start:\n",
    "    # Make a get request\n",
    "    response = get(url)\n",
    "\n",
    "    # Pause the loop\n",
    "    sleep(randint(8,15))\n",
    "\n",
    "    # Monitor the requests\n",
    "    requests += 1\n",
    "    elapsed_time = time() - start_time\n",
    "    print('Request:{}; Frequency: {} requests/s'.format(requests, requests/elapsed_time))\n",
    "    clear_output(wait = True)\n",
    "\n",
    "    # Throw a warning for non-200 status codes\n",
    "    if response.status_code != 200:\n",
    "        warn('Request: {}; Status code: {}'.format(requests, response.status_code))\n",
    "\n",
    "    # Break the loop if the number of requests is greater than expected\n",
    "    if requests > 50:\n",
    "        warn('Number of requests was greater than expected.')\n",
    "        break\n",
    "\n",
    "    # Parse the content of the request with BeautifulSoup\n",
    "    page_html = BeautifulSoup(response.text, 'html.parser')\n",
    "\n",
    "    # Select all the 10 restaurant containers from a single page\n",
    "    re_containers = page_html.find_all('p', class_ = 'text__373c0__2Kxyz comment__373c0__1M-px text-color--normal__373c0__3xep9 text-align--left__373c0__2XGa-')\n",
    "\n",
    "    # For every restaurants in 10\n",
    "    for res in re_containers:\n",
    "\n",
    "        # Scrape the name\n",
    "        review = first_res.span.text\n",
    "        reviews.append(review)"
   ]
  },
  {
   "cell_type": "code",
   "execution_count": null,
   "metadata": {},
   "outputs": [],
   "source": []
  }
 ],
 "metadata": {
  "kernelspec": {
   "display_name": "Python 3",
   "language": "python",
   "name": "python3"
  },
  "language_info": {
   "codemirror_mode": {
    "name": "ipython",
    "version": 3
   },
   "file_extension": ".py",
   "mimetype": "text/x-python",
   "name": "python",
   "nbconvert_exporter": "python",
   "pygments_lexer": "ipython3",
   "version": "3.7.7"
  }
 },
 "nbformat": 4,
 "nbformat_minor": 4
}
