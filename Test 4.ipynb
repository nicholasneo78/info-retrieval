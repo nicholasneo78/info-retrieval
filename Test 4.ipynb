{
 "cells": [
  {
   "cell_type": "code",
   "execution_count": 3,
   "metadata": {},
   "outputs": [],
   "source": [
    "from requests import get\n",
    "import matplotlib.pyplot as plt\n",
    "from bs4 import BeautifulSoup\n",
    "import pandas as pd\n",
    "from time import sleep\n",
    "from random import randint\n",
    "from time import time \n",
    "from IPython.core.display import clear_output\n",
    "from warnings import warn"
   ]
  },
  {
   "cell_type": "code",
   "execution_count": 4,
   "metadata": {},
   "outputs": [],
   "source": [
    "url = 'https://www.yelp.com/search?find_desc=Restaurants&find_loc=Singapore&start=0'\n",
    "response = get(url)\n",
    "html_soup = BeautifulSoup(response.text, 'html.parser')"
   ]
  },
  {
   "cell_type": "code",
   "execution_count": 5,
   "metadata": {
    "scrolled": true
   },
   "outputs": [
    {
     "name": "stdout",
     "output_type": "stream",
     "text": [
      "<class 'bs4.element.ResultSet'>\n",
      "10\n"
     ]
    }
   ],
   "source": [
    "res_containers = html_soup.find_all('div', class_ = 'container__09f24__21w3G hoverable__09f24__2nTf3 margin-t3__09f24__5bM2Z margin-b3__09f24__1DQ9x padding-t3__09f24__-R_5x padding-r3__09f24__1pBFG padding-b3__09f24__1vW6j padding-l3__09f24__1yCJf border--top__09f24__1H_WE border--right__09f24__28idl border--bottom__09f24__2FjZW border--left__09f24__33iol border-color--default__09f24__R1nRO')\n",
    "print(type(res_containers))\n",
    "print(len(res_containers))"
   ]
  },
  {
   "cell_type": "code",
   "execution_count": 44,
   "metadata": {
    "scrolled": true
   },
   "outputs": [
    {
     "data": {
      "text/plain": [
       "<div class=\"container__09f24__21w3G hoverable__09f24__2nTf3 margin-t3__09f24__5bM2Z margin-b3__09f24__1DQ9x padding-t3__09f24__-R_5x padding-r3__09f24__1pBFG padding-b3__09f24__1vW6j padding-l3__09f24__1yCJf border--top__09f24__1H_WE border--right__09f24__28idl border--bottom__09f24__2FjZW border--left__09f24__33iol border-color--default__09f24__R1nRO\"><div class=\"border-color--default__09f24__R1nRO\"><div class=\"arrange__09f24__AiSIM border-color--default__09f24__R1nRO\"><div class=\"arrange-unit__09f24__1gZC1 border-color--default__09f24__R1nRO\"><div class=\"border-color--default__09f24__R1nRO\"><div class=\"display--inline-block__09f24__FsgS4 margin-r3__09f24__2CcgQ border-color--default__09f24__R1nRO\"><div class=\"border-color--default__09f24__R1nRO\"><div class=\"container__09f24__2BlDc dontTriggerCardClick__09f24__2GWZF container--responsive__09f24__1BXoY container__09f24__1SkkV border-color--default__09f24__R1nRO\" data-slidenum=\"0\"><div aria-label=\"Slideshow\" class=\"container__09f24__15LDH border-color--default__09f24__R1nRO\"><div class=\"child__09f24__27sCM border-color--default__09f24__R1nRO\" style=\"transition:transform 150ms ease-in-out\"><div class=\"on-click-container border-color--default__09f24__R1nRO\"><a class=\"link__09f24__1kwXV photo-box-link__09f24__28L0f link-color--blue-dark__09f24__2DRa0 link-size--default__09f24__3xWLF\" href=\"/biz/sungei-road-laksa-singapore-2?osq=Restaurants\" name=\"\" rel=\"\" target=\"\"><img alt=\"Sungei Road Laksa\" class=\"photo-box-img__09f24__3F3c5\" draggable=\"true\" height=\"100%\" loading=\"auto\" src=\"https://s3-media0.fl.yelpcdn.com/bphoto/TD2qcEtt-AEJ0U0JAIeRpQ/ls.jpg\" srcset=\"https://s3-media0.fl.yelpcdn.com/bphoto/TD2qcEtt-AEJ0U0JAIeRpQ/258s.jpg 1.03x,https://s3-media0.fl.yelpcdn.com/bphoto/TD2qcEtt-AEJ0U0JAIeRpQ/348s.jpg 1.39x,https://s3-media0.fl.yelpcdn.com/bphoto/TD2qcEtt-AEJ0U0JAIeRpQ/300s.jpg 1.20x\" width=\"100%\"/></a></div></div><div aria-label=\"Previous\" class=\"button__09f24__19-FT left__09f24__cBAtS disabled__09f24__3LYYR border-color--default__09f24__R1nRO\" role=\"button\" tabindex=\"0\"><span aria-hidden=\"true\" class=\"icon--24-chevron-left-v2 css-4p40fi\"><svg class=\"icon_svg\" height=\"24\" width=\"24\"><path d=\"M14.25 17.58a1 1 0 01-.71-.3L9 12.7a1 1 0 010-1.4l4.5-4.58A1 1 0 0115 6.7a1 1 0 010 1.42L11.15 12 15 15.88a1 1 0 010 1.42 1 1 0 01-.75.28z\"></path></svg></span></div><div aria-label=\"Next\" class=\"button__09f24__19-FT right__09f24__3E7bL disabled__09f24__3LYYR border-color--default__09f24__R1nRO\" role=\"button\" tabindex=\"0\"><span aria-hidden=\"true\" class=\"icon--24-chevron-right-v2 css-4p40fi\"><svg class=\"icon_svg\" height=\"24\" width=\"24\"><path d=\"M9.75 17.58a1 1 0 01-.7-.28 1 1 0 010-1.42l3.8-3.88L9 8.12a1 1 0 111.41-1.42L15 11.3a1 1 0 010 1.4l-4.5 4.58a1 1 0 01-.75.3z\"></path></svg></span></div></div></div></div></div></div></div><div class=\"arrange-unit__09f24__1gZC1 arrange-unit-fill__09f24__O6JFU border-color--default__09f24__R1nRO\"><div class=\"border-color--default__09f24__R1nRO\"><div class=\"scrollablePhotos__09f24__1PpB8 arrange__09f24__AiSIM border-color--default__09f24__R1nRO\"><div class=\"mainAttributes__09f24__26-vh arrange-unit__09f24__1gZC1 arrange-unit-fill__09f24__O6JFU border-color--default__09f24__R1nRO\"><div class=\"border-color--default__09f24__R1nRO\"><div class=\"border-color--default__09f24__R1nRO\"><div class=\"businessName__09f24__3Wql2 display--inline-block__09f24__FsgS4 border-color--default__09f24__R1nRO\"><div class=\"border-color--default__09f24__R1nRO\"><h4 class=\"heading--h4__09f24__2ijYq alternate__09f24__39r7c\"><span class=\"text__09f24__2tZKC text-color--black-regular__09f24__1QxyO text-align--left__09f24__3Drs0 text-weight--bold__09f24__WGVdT text-size--inherit__09f24__2rwpp\">1<!-- -->. <a class=\"link__09f24__1kwXV link-color--inherit__09f24__3PYlA link-size--inherit__09f24__2Uj95\" href=\"/biz/sungei-road-laksa-singapore-2?osq=Restaurants\" name=\"Sungei Road Laksa\" rel=\"\" target=\"\">Sungei Road Laksa</a></span></h4></div></div></div><div class=\"border-color--default__09f24__R1nRO\"><div class=\"display--inline-block__09f24__FsgS4 border-color--default__09f24__R1nRO\"><div class=\"border-color--default__09f24__R1nRO\"><div class=\"attribute__09f24__3znwq display--inline-block__09f24__FsgS4 margin-r1__09f24__BCulR border-color--default__09f24__R1nRO\"><span class=\"display--inline__09f24__3iACj border-color--default__09f24__R1nRO\"><div aria-label=\"4.5 star rating\" class=\"i-stars__09f24__1T6rz i-stars--regular-4-half__09f24__1YrPo border-color--default__09f24__R1nRO overflow--hidden__09f24__3u-sw\" role=\"img\"><img alt=\"\" class=\"offscreen__09f24__1VFco\" height=\"560\" src=\"https://s3-media0.fl.yelpcdn.com/assets/public/stars_v2.yji-52d3d7a328db670d4402843cbddeed89.png\" width=\"132\"/></div></span></div><div class=\"attribute__09f24__3znwq display--inline-block__09f24__FsgS4 border-color--default__09f24__R1nRO\"><span class=\"text__09f24__2tZKC reviewCount__09f24__EUXPN text-color--black-extra-light__09f24__38DtK text-align--left__09f24__3Drs0\">69</span></div></div></div></div><div class=\"border-color--default__09f24__R1nRO\"><div class=\"priceCategory__09f24__2IbAM display--inline-block__09f24__FsgS4 border-color--default__09f24__R1nRO\"><div class=\"border-color--default__09f24__R1nRO\"><span class=\"display--inline__09f24__3iACj border-color--default__09f24__R1nRO\"><span class=\"text__09f24__2tZKC priceRange__09f24__2O6le text-color--black-extra-light__09f24__38DtK text-align--left__09f24__3Drs0 text-bullet--after__09f24__1MWoX\">$</span></span><span class=\"display--inline__09f24__3iACj border-color--default__09f24__R1nRO\"><span class=\"display--inline__09f24__3iACj border-color--default__09f24__R1nRO\"><span class=\"text__09f24__2tZKC text-color--black-extra-light__09f24__38DtK text-align--left__09f24__3Drs0 text-size--inherit__09f24__2rwpp\"><a class=\"link__09f24__1kwXV link-color--inherit__09f24__3PYlA link-size--default__09f24__3xWLF\" href=\"/search?cflt=singaporean&amp;find_desc=Restaurants&amp;find_loc=Singapore\" name=\"\" rel=\"\" role=\"link\" target=\"\">Singaporean</a>, </span></span><span class=\"display--inline__09f24__3iACj border-color--default__09f24__R1nRO\"><span class=\"text__09f24__2tZKC text-color--black-extra-light__09f24__38DtK text-align--left__09f24__3Drs0 text-size--inherit__09f24__2rwpp\"><a class=\"link__09f24__1kwXV link-color--inherit__09f24__3PYlA link-size--default__09f24__3xWLF\" href=\"/search?cflt=chinese&amp;find_desc=Restaurants&amp;find_loc=Singapore\" name=\"\" rel=\"\" role=\"link\" target=\"\">Chinese</a>, </span></span><span class=\"display--inline__09f24__3iACj border-color--default__09f24__R1nRO\"><span class=\"text__09f24__2tZKC text-color--black-extra-light__09f24__38DtK text-align--left__09f24__3Drs0 text-size--inherit__09f24__2rwpp\"><a class=\"link__09f24__1kwXV link-color--inherit__09f24__3PYlA link-size--default__09f24__3xWLF\" href=\"/search?cflt=noodles&amp;find_desc=Restaurants&amp;find_loc=Singapore\" name=\"\" rel=\"\" role=\"link\" target=\"\">Noodles</a></span></span></span></div></div></div></div></div><div class=\"secondaryAttributes__09f24__3db5x arrange-unit__09f24__1gZC1 border-color--default__09f24__R1nRO\"><div class=\"container__09f24__1fWZl padding-l2__09f24__2MHQ3 border-color--default__09f24__R1nRO text-align--right__09f24__wJEQr\"><div class=\"border-color--default__09f24__R1nRO\"><div class=\"display--inline-block__09f24__FsgS4 border-color--default__09f24__R1nRO\"><div class=\"border-color--default__09f24__R1nRO\"><p class=\"text__09f24__2tZKC text-color--black-extra-light__09f24__38DtK text-align--right__09f24__1TIxB text-size--small__09f24__1Z_UI\"><span class=\"raw__09f24__3Obuy\">Located in <a href=\"/biz/gourmet-street-singapore\">Gourmet Street</a></span></p></div></div></div><div class=\"margin-b1__09f24__1647o border-color--default__09f24__R1nRO\"><div class=\"border-color--default__09f24__R1nRO\"><div class=\"display--inline-block__09f24__FsgS4 border-color--default__09f24__R1nRO\"><div class=\"border-color--default__09f24__R1nRO\"><p class=\"text__09f24__2tZKC text-color--black-extra-light__09f24__38DtK text-align--right__09f24__1TIxB text-size--small__09f24__1Z_UI\">Lavender</p></div></div></div></div></div></div></div></div><div class=\"border-color--default__09f24__R1nRO\"><div class=\"display--inline-block__09f24__FsgS4 margin-t1__09f24__3OFkY border-color--default__09f24__R1nRO\"><div class=\"border-color--default__09f24__R1nRO\"><div class=\"arrange__09f24__AiSIM gutter-auto__09f24__2WJTk vertical-align-middle__09f24__zNCcM border-color--default__09f24__R1nRO\"><div class=\"arrange-unit__09f24__1gZC1 arrange-unit-fill__09f24__O6JFU border-color--default__09f24__R1nRO\"><p class=\"text__09f24__2tZKC text-color--black-extra-light__09f24__38DtK text-align--left__09f24__3Drs0\">“Nice laksa, will definitely come back for more, i lile laksa too so this is perfect! Laksa is like laksa”<span class=\"text__09f24__2tZKC text-color--inherit__09f24__1jgBv text-align--left__09f24__3Drs0 text-size--inherit__09f24__2rwpp\"> <a class=\"link__09f24__1kwXV link-color--blue-dark__09f24__2DRa0 link-size--inherit__09f24__2Uj95\" href=\"/biz/sungei-road-laksa-singapore-2?hrid=D5o_qvckmJHpvwfoenKOjw&amp;osq=Restaurants\" name=\"\" rel=\"\" target=\"\">more</a></span></p></div></div></div></div></div><div class=\"border-color--default__09f24__R1nRO\"></div></div></div></div></div>"
      ]
     },
     "execution_count": 44,
     "metadata": {},
     "output_type": "execute_result"
    }
   ],
   "source": [
    "first_res = res_containers[0]\n",
    "first_res"
   ]
  },
  {
   "cell_type": "code",
   "execution_count": 11,
   "metadata": {},
   "outputs": [
    {
     "name": "stdout",
     "output_type": "stream",
     "text": [
      "Restaurant name: Sungei Road Laksa\n"
     ]
    }
   ],
   "source": [
    "res_name=first_res.div.h4.a.text\n",
    "print(\"Restaurant name: \"+res_name)"
   ]
  },
  {
   "cell_type": "code",
   "execution_count": 23,
   "metadata": {},
   "outputs": [
    {
     "name": "stdout",
     "output_type": "stream",
     "text": [
      "No. of ratings: 69\n"
     ]
    }
   ],
   "source": [
    "no_rate=first_res.div.find('span', class_= 'text__09f24__2tZKC reviewCount__09f24__EUXPN text-color--black-extra-light__09f24__38DtK text-align--left__09f24__3Drs0').text\n",
    "print(\"No. of ratings: \"+no_rate)"
   ]
  },
  {
   "cell_type": "code",
   "execution_count": 13,
   "metadata": {},
   "outputs": [],
   "source": [
    "res_type=first_res.find_all('a', class_= 'link__09f24__1kwXV link-color--inherit__09f24__3PYlA link-size--default__09f24__3xWLF')"
   ]
  },
  {
   "cell_type": "code",
   "execution_count": 14,
   "metadata": {},
   "outputs": [
    {
     "name": "stdout",
     "output_type": "stream",
     "text": [
      "Restaurant type:\n",
      "Singaporean\n",
      "Chinese\n",
      "Noodles\n"
     ]
    }
   ],
   "source": [
    "print(\"Restaurant type:\")\n",
    "for res in res_type:\n",
    "    print(res.get_text())"
   ]
  },
  {
   "cell_type": "code",
   "execution_count": 33,
   "metadata": {},
   "outputs": [],
   "source": [
    "aff=first_res.find_all('span', class_='text__09f24__2tZKC priceRange__09f24__2O6le text-color--black-extra-light__09f24__38DtK text-align--left__09f24__3Drs0 text-bullet--after__09f24__1MWoX')"
   ]
  },
  {
   "cell_type": "code",
   "execution_count": 34,
   "metadata": {},
   "outputs": [
    {
     "name": "stdout",
     "output_type": "stream",
     "text": [
      "affordability: $\n"
     ]
    }
   ],
   "source": [
    "for af in aff:\n",
    "    print(\"affordability: \"+af.get_text())"
   ]
  },
  {
   "cell_type": "code",
   "execution_count": 39,
   "metadata": {},
   "outputs": [
    {
     "name": "stdout",
     "output_type": "stream",
     "text": [
      "Affordability: $\n"
     ]
    }
   ],
   "source": [
    "# alternatively\n",
    "aff=first_res.find('span', class_='text__09f24__2tZKC priceRange__09f24__2O6le text-color--black-extra-light__09f24__38DtK text-align--left__09f24__3Drs0 text-bullet--after__09f24__1MWoX')\n",
    "print(f'Affordability: {aff.get_text()}')"
   ]
  },
  {
   "cell_type": "code",
   "execution_count": 11,
   "metadata": {},
   "outputs": [],
   "source": [
    "rate=first_res.find('span', class_='display--inline__09f24__3iACj border-color--default__09f24__R1nRO').div['aria-label']"
   ]
  },
  {
   "cell_type": "code",
   "execution_count": 12,
   "metadata": {},
   "outputs": [
    {
     "name": "stdout",
     "output_type": "stream",
     "text": [
      "Ratings: 4 star rating\n",
      "4 star rating\n"
     ]
    },
    {
     "data": {
      "text/plain": [
       "str"
      ]
     },
     "execution_count": 12,
     "metadata": {},
     "output_type": "execute_result"
    }
   ],
   "source": [
    "print(\"Ratings: \"+rate)\n",
    "print(rate)\n",
    "type(rate)"
   ]
  },
  {
   "cell_type": "code",
   "execution_count": 40,
   "metadata": {},
   "outputs": [],
   "source": [
    "start = [str(i) for i in range(0, 231, 10)]"
   ]
  },
  {
   "cell_type": "code",
   "execution_count": 43,
   "metadata": {},
   "outputs": [
    {
     "name": "stdout",
     "output_type": "stream",
     "text": [
      "['0', '10', '20', '30', '40', '50', '60', '70', '80', '90', '100', '110', '120', '130', '140', '150', '160', '170', '180', '190', '200', '210', '220', '230'] "
     ]
    }
   ],
   "source": [
    "# debug\n",
    "print(start, end = ' ')"
   ]
  },
  {
   "cell_type": "code",
   "execution_count": 26,
   "metadata": {},
   "outputs": [
    {
     "name": "stdout",
     "output_type": "stream",
     "text": [
      "Request:24; Frequency: 0.07572191689182725 requests/s\n"
     ]
    }
   ],
   "source": [
    "# Redeclaring the lists to store data in\n",
    "names = []\n",
    "no_ratings = []\n",
    "res_types = []\n",
    "xres_types = []\n",
    "affords = []\n",
    "ratings = []\n",
    "\n",
    "# Preparing the monitoring of the loop\n",
    "start_time = time()\n",
    "requests = 0\n",
    "\n",
    "# For every restaurant in the interval of 10\n",
    "for sta in start:\n",
    "    # Make a get request\n",
    "    response = get('https://www.yelp.com/search?find_desc=Restaurants&find_loc=Singapore&start='+sta)\n",
    "\n",
    "    # Pause the loop\n",
    "    sleep(randint(8,15))\n",
    "\n",
    "    # Monitor the requests\n",
    "    requests += 1\n",
    "    elapsed_time = time() - start_time\n",
    "    print('Request:{}; Frequency: {} requests/s'.format(requests, requests/elapsed_time))\n",
    "    clear_output(wait = True)\n",
    "\n",
    "    # Throw a warning for non-200 status codes\n",
    "    if response.status_code != 200:\n",
    "        warn('Request: {}; Status code: {}'.format(requests, response.status_code))\n",
    "\n",
    "    # Break the loop if the number of requests is greater than expected\n",
    "    if requests > 25:\n",
    "        warn('Number of requests was greater than expected.')\n",
    "        break\n",
    "\n",
    "    # Parse the content of the request with BeautifulSoup\n",
    "    page_html = BeautifulSoup(response.text, 'html.parser')\n",
    "\n",
    "    # Select all the 10 restaurant containers from a single page\n",
    "    re_containers = page_html.find_all('div', class_ = 'container__09f24__21w3G hoverable__09f24__2nTf3 margin-t3__09f24__5bM2Z margin-b3__09f24__1DQ9x padding-t3__09f24__-R_5x padding-r3__09f24__1pBFG padding-b3__09f24__1vW6j padding-l3__09f24__1yCJf border--top__09f24__1H_WE border--right__09f24__28idl border--bottom__09f24__2FjZW border--left__09f24__33iol border-color--default__09f24__R1nRO')\n",
    "\n",
    "    # For every restaurants in 10\n",
    "    for res in re_containers:\n",
    "        # If the restaurant has an Afford, then:\n",
    "        #if res.find('span', class_='text__09f24__2tZKC priceRange__09f24__2O6le text-color--black-extra-light__09f24__38DtK text-align--left__09f24__3Drs0 text-bullet--after__09f24__1MWoX') is not None:\n",
    "\n",
    "        # Scrape the name\n",
    "        name = res.div.h4.a.text\n",
    "        names.append(name)\n",
    "\n",
    "        # Scrape the no. of ratings\n",
    "        no_rating = res.div.find('span', class_= 'text__09f24__2tZKC reviewCount__09f24__EUXPN text-color--black-extra-light__09f24__38DtK text-align--left__09f24__3Drs0').text\n",
    "        no_ratings.append(no_rating)\n",
    "\n",
    "        # Scrape the restaurant type\n",
    "        res_type = res.find_all('a', class_= 'link__09f24__1kwXV link-color--inherit__09f24__3PYlA link-size--default__09f24__3xWLF')\n",
    "        for re in res_type:\n",
    "            xres_types.append(re.get_text())\n",
    "        res_types.append(xres_types)\n",
    "        xres_types=[]\n",
    "\n",
    "        # Scrape the affordability\n",
    "        if res.find('span', class_='text__09f24__2tZKC priceRange__09f24__2O6le text-color--black-extra-light__09f24__38DtK text-align--left__09f24__3Drs0 text-bullet--after__09f24__1MWoX') is not None:\n",
    "            aff = res.find_all('span', class_='text__09f24__2tZKC priceRange__09f24__2O6le text-color--black-extra-light__09f24__38DtK text-align--left__09f24__3Drs0 text-bullet--after__09f24__1MWoX')\n",
    "            for af in aff:\n",
    "                affords.append(af.get_text())\n",
    "        else:\n",
    "            affords.append(\"N/A\")\n",
    "\n",
    "        # Scrape the rating\n",
    "        rate = res.find('span', class_='display--inline__09f24__3iACj border-color--default__09f24__R1nRO').div['aria-label']\n",
    "        ratings.append(rate)"
   ]
  },
  {
   "cell_type": "code",
   "execution_count": 27,
   "metadata": {
    "scrolled": true
   },
   "outputs": [
    {
     "name": "stdout",
     "output_type": "stream",
     "text": [
      "['Sungei Road Laksa', 'Tian Tian Hainanese Chicken Rice', 'Jumbo Seafood', 'Coriander Leaf', 'Holycrab', 'Burnt Ends', 'National Kitchen By Violet Oon', 'Din Tai Fung', 'Song Fa Bak Kut Teh', 'Two Men Bagel House', 'Vatos Urban Tacos', 'Tim Ho Wan', 'Stuttgart Blackforest Boutique S-Cafe', 'Hokkaido Ramen Santouka', 'The Sushi Bar', 'The Butcher’s Wife', 'Artichoke Cafe & Bar', 'Usman Restaurant', 'The Coconut Club', 'Wee Nam Kee Chicken Rice', 'Swee Choon Tim Sum', 'Cibo Italiano', 'Mrs Pho House Rangoon', 'Hong Kong Style Chee Cheong Fun', 'La Strada', 'Lighthouse Bistro', 'Mrs Pho', 'Brunches Cafe', 'Sawadee Thai Cuisine', 'Wolf Burgers', 'Artichoke Cafe & Bar', 'My Little Spanish Place', 'Waku Ghin', 'Heart of Darkness Singapore', 'Lighthouse Bistro', 'Hokkaido Ramen Santouka', 'Club55', 'Salted & Hung', 'JB Ah Meng', 'Satay By The Bay', 'Fat Belly', 'Khansama Tandoori', 'Stuttgart Blackforest Boutique S-Cafe', 'Swee Choon Tim Sum', 'John’s Pizzeria and Bakery', 'Nanyang Old Taste', 'Torasho Ramen & Charcoal Bar', 'Zazz Pizza', 'edge', 'Penang Seafood Restaurant', 'Yardbird Southern Table & Bar', 'Nanyang Old Taste', 'Fook Kin', 'John’s Pizzeria and Bakery', 'Tolido’s Espresso Nook', 'Everest Kitchen', 'Sushi Jin', 'Ash & Elm', 'Tono Cevicheria', 'The American Taproom', 'Tai Hwa Pork Noodle', 'Empress', 'Yakiniku Yazawa', 'Hong Kong Style Chee Cheong Fun', 'The English House by Marco Pierre White', 'Culina', 'Din Tai Fung', 'Tono Cevicheria', 'Fook Kin', 'The Royals Steakhouse', 'CreatureS', 'The Banana Leaf Apolo', 'Haramiya Japanese BBQ Restaurant', 'The English House by Marco Pierre White', 'Torasho Ramen & Charcoal Bar', 'Fat Cow', 'Big Bern’s American Grill', 'The Royals Steakhouse', 'Tingkat PeraMakan', 'Ah Loy Thai', 'Song Fa Bak Kut Teh', 'Waku Ghin', 'Forty Hands East Coast', 'Three Buns', 'JB Ah Meng', 'Hong Kong Street Family Restaurant', 'Fynn’s', 'Enchanted Cafe', 'Salted & Hung', 'Five Guys', 'Tingkat PeraMakan', 'JustIN Flavours of Asia', 'Yakiniku Yazawa', 'Sushi Jin', 'Riverside Indonesian BBQ', 'The Naked Finn', 'Blanco Court Prawn Mee', 'Culina', 'Black Tap', 'Da Lian Traditional Noodles', 'Yardbird Southern Table & Bar', 'NUDE Seafood', 'SBCD Tofu Millenia Walk', 'Fat Belly', 'Ippudo', 'Tanglin Food Hall', 'Luke’s Oyster Bar & Chop House', 'Astons Specialities', 'The Other Room', 'Beach Road Kitchen', 'Colony', 'Jumbo', 'NUDE Seafood', 'Puglia Alfresco Pizza Bar', 'A Noodle Story', '8 Korean BBQ', 'Five Star Hainanese Chicken Rice', 'Maison Ikkoku Restaurant & Bar', 'The Naked Finn', 'Bigmama', 'Kamome Bakery', 'Komala Vilas Restaurant', 'Black Tap', 'Hainanese Delicacy Chicken Rice', 'Ah Tai Hainanese Chicken Rice', 'Ippudo', 'Rui Xiang Restaurant', 'Blue Label Pizza & Wine', 'Red Eye Smokehouse', 'Druggists', 'Beach Road Kitchen', 'Kim Keat Hokkien Mee', 'Wing Seong Fatty’s', 'Hawkerman', 'Publico', 'Uni Gallery', 'The Original Katong Laksa', 'Pu Dong Kitchen', 'Cicheti', 'Din Tai Fung', 'Killiney Kopitiam', 'Keng Eng Kee Seafood', 'Tian Fu Tea Room', 'Cicheti', 'Sidewalk Food Place', 'LDM Charcoal BBQ Restaurant', 'JB Ah Meng', 'Pasarbella', '99 Old Trees Durian', 'Sweet Garden Dining Cafe', 'Hainanese Delicacy Chicken Rice', 'Fatboy’s The Burger Bar', 'Bak Chor Mee Lorong 5 Toa Payoh', 'Barking Irons', 'Thye Hong Singapore Heritage Food', 'Meat N Malts', 'Soi Thai Soi Nice', 'Publico', 'Hawaiian Kitchen ALOHA Ma Maison', 'Bigmama', 'Teppan Ya', 'Club55', 'Kamome Bakery', 'Nanjing Restaurant', '旺角點心 Mongkok Dim Sum', 'Satay By The Bay', 'Ah Loy Thai', 'Fat Bird', 'SKIRT', 'Wheeler’s Yard', 'Werner’s Oven', 'Heart of Darkness Singapore', 'Byblos Grill', 'Gyu-Kaku', 'My Little Spanish Place', 'Tiong Bahru Bakery', 'Fatboy’s The Burger Bar', 'Char Restaurant', 'Origin Grill & Bar', 'Redpan', 'Buona Terra', 'VENUE By Sebastian', 'Chef Kang’s Noodle House', 'Everest Kitchen', 'Sidewalk Food Place', 'Alati', 'Ippudo', 'Dumpling Darlings', 'G7 Liang Kee Restaurant', 'Werner’s Oven', 'Blanco Court Prawn Mee', 'Padi', 'Botanist', '83 Seafood Restaurant', 'Caffe Fernet', 'Food Republic', 'Kazu Sumiyaki', 'Magurodonya Miuramisakikou Sushi', 'Cheek Bistro', 'Tenshin', 'Burger Joint', 'Por Kee Eating House', 'Hai Di Lao', 'Dolphins', 'PS.Cafe', 'The American Taproom', 'Shuang Shun Chicken Rice', 'The Ottoman Room', 'The Lawn', 'CreatureS']\n",
      "210\n",
      "['69', '378', '179', '11', '17', '72', '38', '126', '135', '76', '89', '31', '2', '57', '41', '2', '69', '35', '26', '47', '77', '6', '4', '9', '16', '1', '56', '24', '14', '13', '69', '14', '19', '5', '1', '57', '6', '14', '19', '45', '2', '59', '2', '77', '1', '1', '2', '6', '23', '13', '22', '1', '5', '1', '65', '7', '9', '8', '7', '2', '84', '10', '18', '9', '3', '16', '49', '7', '5', '2', '15', '40', '5', '3', '2', '33', '4', '2', '5', '5', '39', '19', '2', '7', '19', '13', '5', '3', '14', '5', '5', '5', '18', '9', '5', '20', '15', '16', '16', '19', '22', '4', '2', '2', '9', '3', '13', '6', '15', '13', '24', '4', '4', '1', '29', '23', '22', '72', '20', '16', '2', '65', '16', '39', '56', '24', '1', '4', '10', '17', '13', '5', '16', '1', '9', '2', '9', '6', '34', '60', '49', '22', '3', '34', '1', '2', '19', '7', '1', '1', '39', '18', '1', '1', '1', '1', '2', '9', '2', '16', '1', '6', '2', '2', '9', '45', '5', '9', '8', '23', '5', '5', '9', '6', '14', '71', '18', '8', '1', '4', '4', '3', '2', '7', '1', '9', '9', '4', '1', '5', '15', '2', '6', '1', '3', '26', '20', '4', '11', '4', '18', '24', '15', '2', '65', '2', '1', '2', '5', '15']\n",
      "210\n",
      "[['Singaporean', 'Chinese', 'Noodles'], ['Hainan', 'Chicken Shop'], ['Seafood'], ['Asian Fusion'], ['Singaporean', 'Chinese', 'Seafood'], ['Australian', 'Steakhouses', 'Barbeque'], ['Asian Fusion', 'Singaporean'], ['Taiwanese', 'Dim Sum', 'Dumplings'], ['Singaporean', 'Chinese'], ['Bagels', 'Breakfast & Brunch', 'Sandwiches'], ['Mexican'], ['Dim Sum', 'Cantonese'], ['German'], ['Ramen'], ['Sushi Bars', 'Japanese'], ['Gluten-Free'], ['Bars', 'Middle Eastern'], ['Indian'], ['Nasi Lemak', 'Singaporean', 'Malaysian'], ['Chicken Shop', 'Hainan'], ['Dim Sum'], ['Wine Bars', 'Italian', 'Imported Food'], ['Vietnamese'], ['Chinese'], ['Italian'], ['Bistros'], ['Vietnamese'], ['Coffee & Tea', 'Bakeries', 'Breakfast & Brunch'], ['Thai'], ['Burgers'], ['Bars', 'Middle Eastern'], ['Spanish'], ['Asian Fusion'], ['Bars', 'Tapas/Small Plates', 'Gastropubs'], ['Bistros'], ['Ramen'], ['Buffets'], ['Australian'], ['Chinese', 'Seafood'], ['Seafood', 'Barbeque'], ['Steakhouses'], ['Indian'], ['German'], ['Dim Sum'], ['Pizza'], ['Singaporean'], ['Bars', 'Ramen'], ['Pizza', 'Italian'], ['Buffets'], ['Malaysian', 'Seafood'], ['American (Traditional)', 'Bars'], ['Singaporean'], ['Chinese'], ['Pizza'], ['Breakfast & Brunch', 'Coffee & Tea'], ['Himalayan/Nepalese', 'Indian'], ['Japanese'], ['Modern European'], ['Latin American'], ['Beer Bar', 'American (Traditional)'], ['Chinese', 'Noodles'], ['Chinese', 'Asian Fusion', 'Singaporean'], ['Japanese', 'Barbeque', 'Steakhouses'], ['Chinese'], ['British'], ['Bistros', 'Specialty Food'], ['Shanghainese', 'Taiwanese', 'Dumplings'], ['Latin American'], ['Chinese'], ['Halal', 'Steakhouses'], ['Breakfast & Brunch', 'Asian Fusion', 'Singaporean'], ['Indian', 'Asian Fusion'], ['Barbeque', 'Japanese'], ['British'], ['Bars', 'Ramen'], ['Japanese', 'Steakhouses'], ['American (Traditional)'], ['Halal', 'Steakhouses'], ['Singaporean', 'Seafood', 'Noodles'], ['Thai'], ['Chinese', 'Singaporean'], ['Asian Fusion'], ['Cafes'], ['Burgers', 'Cocktail Bars'], ['Chinese', 'Seafood'], ['Cantonese'], ['International', 'Bars'], ['Cafes'], ['Australian'], ['Fast Food', 'Burgers'], ['Singaporean', 'Seafood', 'Noodles'], ['Singaporean'], ['Japanese', 'Barbeque', 'Steakhouses'], ['Japanese'], ['Indonesian', 'Barbeque'], ['Seafood'], ['Noodles'], ['Bistros', 'Specialty Food'], ['American (Traditional)', 'Burgers', 'Beer Bar'], ['Noodles', 'Teochew'], ['American (Traditional)', 'Bars'], ['Seafood'], ['Korean', 'Soup'], ['Steakhouses'], ['Japanese'], ['Food Court'], ['Steakhouses', 'Burgers', 'Bars'], ['American (Traditional)', 'Steakhouses'], ['Tapas/Small Plates', 'Cocktail Bars'], ['Breakfast & Brunch', 'Chinese', 'Buffets'], ['Indian', 'Chinese', 'Malaysian'], ['Seafood', 'Singaporean'], ['Seafood'], ['Pizza', 'Italian'], ['Food Stands', 'Ramen', 'Singaporean'], ['Korean', 'Barbeque'], ['Chicken Shop', 'Hainan'], ['Cocktail Bars', 'Asian Fusion', 'Japanese'], ['Seafood'], ['Korean'], ['Bakeries', 'Japanese', 'Cafes'], ['Indian', 'Vegetarian'], ['American (Traditional)', 'Burgers', 'Beer Bar'], ['Chicken Shop', 'Hainan'], ['Chicken Shop', 'Hainan'], ['Bars', 'Ramen'], ['Singaporean'], ['Pizza', 'Wine Bars'], ['Bars', 'American (Traditional)', 'Barbeque'], ['Asian Fusion', 'Beer Bar'], ['Breakfast & Brunch', 'Chinese', 'Buffets'], ['Asian Fusion'], ['Chinese', 'Asian Fusion', 'Bars'], ['Asian Fusion'], ['Italian'], ['Japanese'], ['Singaporean'], ['Shanghainese'], ['Wine Bars', 'Italian', 'Pizza'], ['Shanghainese', 'Taiwanese', 'Dumplings'], ['Breakfast & Brunch', 'Coffee & Tea'], ['Seafood'], ['Dim Sum', 'Tea Rooms'], ['Wine Bars', 'Italian', 'Pizza'], ['Food Court'], ['Chinese'], ['Chinese', 'Seafood'], ['Desserts', 'Cafes'], ['Desserts', 'Specialty Food', 'Singaporean'], ['Desserts', 'Coffee & Tea', 'Pizza'], ['Chicken Shop', 'Hainan'], ['Burgers'], ['Food Court'], ['Whiskey Bars', 'Cocktail Bars', 'Bistros'], ['Noodles', 'Singaporean', 'Food Court'], ['Bars', 'American (Traditional)'], ['Thai'], ['Italian'], ['Hawaiian'], ['Korean'], ['Teppanyaki'], ['Buffets'], ['Bakeries', 'Japanese', 'Cafes'], ['Chinese'], ['Dim Sum'], ['Seafood', 'Barbeque'], ['Thai'], ['Chinese'], ['Seafood', 'Steakhouses'], ['Cafes', 'Bikes'], ['Bakeries', 'German'], ['Bars', 'Tapas/Small Plates', 'Gastropubs'], ['Lebanese'], ['Japanese', 'Barbeque'], ['Spanish'], ['Cafes', 'Bakeries'], ['Burgers'], ['Cantonese'], ['Bars', 'Steakhouses'], ['Singaporean'], ['Italian'], ['Modern European'], ['Noodles'], ['Himalayan/Nepalese', 'Indian'], ['Food Court'], ['Greek'], ['Japanese'], ['Chinese'], ['Singaporean'], ['Bakeries', 'German'], ['Noodles'], ['Singaporean'], ['Cafes'], ['Seafood'], ['Italian', 'Cocktail Bars'], ['Food Court'], ['Japanese'], ['Sushi Bars', 'Japanese'], ['Bistros'], ['Japanese'], ['Burgers'], ['Chinese'], ['Hot Pot'], ['Restaurants'], ['Cafes', 'Bars'], ['Beer Bar', 'American (Traditional)'], ['Singaporean'], ['Turkish', 'Middle Eastern'], ['Bistros'], ['Breakfast & Brunch', 'Asian Fusion', 'Singaporean']]\n",
      "210\n",
      "['$', '$', '$$$', 'N/A', '$$$$', '$$$$', '$$$', '$$', '$', '$', '$$', '$', 'N/A', '$$', '$$', 'N/A', '$$', '$', 'N/A', '$', '$', '$$', 'N/A', '$', '$$$', 'N/A', '$', '$$', '$$', '$$', '$$', '$$$', '$$$$', 'N/A', 'N/A', '$$', '$$', '$$$', '$$', '$', 'N/A', '$$', 'N/A', '$', 'N/A', 'N/A', 'N/A', 'N/A', '$$$$', '$', '$$$', 'N/A', 'N/A', 'N/A', '$$', 'N/A', '$$$', '$$$', 'N/A', 'N/A', '$', '$$', '$$$$', '$', 'N/A', '$$$', '$$', 'N/A', 'N/A', 'N/A', '$$', '$$', '$$', 'N/A', 'N/A', '$$$$', '$', 'N/A', '$$', 'N/A', '$', '$$$$', 'N/A', 'N/A', '$$', '$', 'N/A', 'N/A', '$$$', 'N/A', '$$', 'N/A', '$$$$', '$$$', '$', '$$$', 'N/A', '$$$', 'N/A', '$', '$$$', '$$', 'N/A', 'N/A', 'N/A', 'N/A', '$$$$', '$', '$$', '$$', '$$$$', 'N/A', '$$', 'N/A', '$', '$$$', '$$', '$$', '$$$', '$$$', 'N/A', '$', 'N/A', '$', '$', '$$', 'N/A', 'N/A', '$$$', '$$', '$$', '$', '$$', 'N/A', 'N/A', 'N/A', 'N/A', 'N/A', '$$$', '$$', '$', '$$', 'N/A', '$$$', '$', '$$', '$$', '$$', 'N/A', 'N/A', '$', '$$', 'N/A', 'N/A', 'N/A', 'N/A', 'N/A', 'N/A', 'N/A', '$$$', 'N/A', '$$', 'N/A', 'N/A', '$', '$', 'N/A', '$$', '$$$$', '$$', '$$', 'N/A', '$$', '$$$', '$$$', '$$', '$$', '$$', 'N/A', 'N/A', '$$$$', 'N/A', 'N/A', 'N/A', '$', '$$$', 'N/A', 'N/A', 'N/A', '$$', 'N/A', 'N/A', 'N/A', 'N/A', 'N/A', '$', '$$$', 'N/A', '$$$', '$$$', '$$', '$$', '$$$', '$$', '$$$', 'N/A', 'N/A', 'N/A', 'N/A', '$$']\n",
      "210\n",
      "['4.5 star rating', '4 star rating', '4 star rating', '4.5 star rating', '4.5 star rating', '4.5 star rating', '4.5 star rating', '4.5 star rating', '4 star rating', '4.5 star rating', '4 star rating', '4.5 star rating', '4 star rating', '4.5 star rating', '4.5 star rating', '5 star rating', '4 star rating', '4 star rating', '4 star rating', '4 star rating', '4 star rating', '4 star rating', '5 star rating', '5 star rating', '4.5 star rating', '5 star rating', '4 star rating', '4.5 star rating', '4.5 star rating', '4.5 star rating', '4 star rating', '4 star rating', '4.5 star rating', '5 star rating', '5 star rating', '4.5 star rating', '4.5 star rating', '4 star rating', '4.5 star rating', '3.5 star rating', '5 star rating', '4 star rating', '4 star rating', '4 star rating', '5 star rating', '5 star rating', '5 star rating', '5 star rating', '4 star rating', '4 star rating', '4.5 star rating', '5 star rating', '4 star rating', '5 star rating', '4.5 star rating', '4.5 star rating', '4 star rating', '4 star rating', '4.5 star rating', '4.5 star rating', '4 star rating', '4.5 star rating', '4 star rating', '5 star rating', '4.5 star rating', '4 star rating', '4 star rating', '4.5 star rating', '4 star rating', '4.5 star rating', '4 star rating', '4 star rating', '4 star rating', '4.5 star rating', '5 star rating', '4 star rating', '4.5 star rating', '4.5 star rating', '4 star rating', '5 star rating', '4.5 star rating', '4.5 star rating', '4.5 star rating', '4.5 star rating', '4.5 star rating', '4 star rating', '5 star rating', '4.5 star rating', '4 star rating', '3 star rating', '4 star rating', '4.5 star rating', '4 star rating', '4 star rating', '5 star rating', '4.5 star rating', '4.5 star rating', '4 star rating', '4 star rating', '4 star rating', '4.5 star rating', '4.5 star rating', '4 star rating', '5 star rating', '4 star rating', '4.5 star rating', '4.5 star rating', '4.5 star rating', '4.5 star rating', '4.5 star rating', '4.5 star rating', '4.5 star rating', '4.5 star rating', '4 star rating', '4.5 star rating', '4 star rating', '4.5 star rating', '4 star rating', '4.5 star rating', '4 star rating', '4 star rating', '4 star rating', '4 star rating', '4.5 star rating', '4.5 star rating', '4 star rating', '4 star rating', '5 star rating', '4.5 star rating', '4 star rating', '4.5 star rating', '4 star rating', '4 star rating', '4 star rating', '4 star rating', '5 star rating', '4.5 star rating', '4 star rating', '4 star rating', '4 star rating', '4 star rating', '4 star rating', '4 star rating', '4 star rating', '4 star rating', '4 star rating', '4.5 star rating', '4 star rating', '5 star rating', '4 star rating', '4.5 star rating', '4 star rating', '5 star rating', '4 star rating', '5 star rating', '4 star rating', '4.5 star rating', '4 star rating', '4 star rating', '4 star rating', '4 star rating', '4.5 star rating', '4 star rating', '4.5 star rating', '4 star rating', '3.5 star rating', '5 star rating', '4 star rating', '4 star rating', '3.5 star rating', '4 star rating', '5 star rating', '4 star rating', '4 star rating', '4 star rating', '4 star rating', '4 star rating', '4.5 star rating', '5 star rating', '4 star rating', '5 star rating', '4.5 star rating', '5 star rating', '4.5 star rating', '4 star rating', '4.5 star rating', '4 star rating', '4.5 star rating', '4 star rating', '4 star rating', '4.5 star rating', '5 star rating', '4 star rating', '5 star rating', '4.5 star rating', '4 star rating', '4.5 star rating', '5 star rating', '4.5 star rating', '4.5 star rating', '3.5 star rating', '4 star rating', '4.5 star rating', '4 star rating', '3.5 star rating', '4.5 star rating', '5 star rating', '5 star rating', '4 star rating', '4 star rating']\n",
      "210\n"
     ]
    }
   ],
   "source": [
    "print(names)\n",
    "print(len(names))\n",
    "print(no_ratings)\n",
    "print(len(no_ratings))\n",
    "print(res_types)\n",
    "print(len(res_types))\n",
    "print(affords)\n",
    "print(len(affords))\n",
    "print(ratings)\n",
    "print(len(ratings))"
   ]
  },
  {
   "cell_type": "code",
   "execution_count": 35,
   "metadata": {
    "scrolled": false
   },
   "outputs": [
    {
     "name": "stdout",
     "output_type": "stream",
     "text": [
      "<class 'pandas.core.frame.DataFrame'>\n",
      "RangeIndex: 210 entries, 0 to 209\n",
      "Data columns (total 5 columns):\n",
      " #   Column             Non-Null Count  Dtype \n",
      "---  ------             --------------  ----- \n",
      " 0   Restaurant         210 non-null    object\n",
      " 1   Number of Ratings  210 non-null    object\n",
      " 2   Restaurant Type    210 non-null    object\n",
      " 3   Affordability      210 non-null    object\n",
      " 4   Rating             210 non-null    object\n",
      "dtypes: object(5)\n",
      "memory usage: 8.3+ KB\n",
      "None\n"
     ]
    },
    {
     "data": {
      "text/html": [
       "<div>\n",
       "<style scoped>\n",
       "    .dataframe tbody tr th:only-of-type {\n",
       "        vertical-align: middle;\n",
       "    }\n",
       "\n",
       "    .dataframe tbody tr th {\n",
       "        vertical-align: top;\n",
       "    }\n",
       "\n",
       "    .dataframe thead th {\n",
       "        text-align: right;\n",
       "    }\n",
       "</style>\n",
       "<table border=\"1\" class=\"dataframe\">\n",
       "  <thead>\n",
       "    <tr style=\"text-align: right;\">\n",
       "      <th></th>\n",
       "      <th>Restaurant</th>\n",
       "      <th>Number of Ratings</th>\n",
       "      <th>Restaurant Type</th>\n",
       "      <th>Affordability</th>\n",
       "      <th>Rating</th>\n",
       "    </tr>\n",
       "  </thead>\n",
       "  <tbody>\n",
       "    <tr>\n",
       "      <th>0</th>\n",
       "      <td>Sungei Road Laksa</td>\n",
       "      <td>69</td>\n",
       "      <td>[Singaporean, Chinese, Noodles]</td>\n",
       "      <td>$</td>\n",
       "      <td>4.5 star</td>\n",
       "    </tr>\n",
       "    <tr>\n",
       "      <th>1</th>\n",
       "      <td>Tian Tian Hainanese Chicken Rice</td>\n",
       "      <td>378</td>\n",
       "      <td>[Hainan, Chicken Shop]</td>\n",
       "      <td>$</td>\n",
       "      <td>4 star</td>\n",
       "    </tr>\n",
       "    <tr>\n",
       "      <th>2</th>\n",
       "      <td>Jumbo Seafood</td>\n",
       "      <td>179</td>\n",
       "      <td>[Seafood]</td>\n",
       "      <td>$$$</td>\n",
       "      <td>4 star</td>\n",
       "    </tr>\n",
       "    <tr>\n",
       "      <th>3</th>\n",
       "      <td>Coriander Leaf</td>\n",
       "      <td>11</td>\n",
       "      <td>[Asian Fusion]</td>\n",
       "      <td>N/A</td>\n",
       "      <td>4.5 star</td>\n",
       "    </tr>\n",
       "    <tr>\n",
       "      <th>4</th>\n",
       "      <td>Holycrab</td>\n",
       "      <td>17</td>\n",
       "      <td>[Singaporean, Chinese, Seafood]</td>\n",
       "      <td>$$$$</td>\n",
       "      <td>4.5 star</td>\n",
       "    </tr>\n",
       "    <tr>\n",
       "      <th>...</th>\n",
       "      <td>...</td>\n",
       "      <td>...</td>\n",
       "      <td>...</td>\n",
       "      <td>...</td>\n",
       "      <td>...</td>\n",
       "    </tr>\n",
       "    <tr>\n",
       "      <th>95</th>\n",
       "      <td>The Naked Finn</td>\n",
       "      <td>20</td>\n",
       "      <td>[Seafood]</td>\n",
       "      <td>$$$</td>\n",
       "      <td>4.5 star</td>\n",
       "    </tr>\n",
       "    <tr>\n",
       "      <th>96</th>\n",
       "      <td>Blanco Court Prawn Mee</td>\n",
       "      <td>15</td>\n",
       "      <td>[Noodles]</td>\n",
       "      <td>N/A</td>\n",
       "      <td>4.5 star</td>\n",
       "    </tr>\n",
       "    <tr>\n",
       "      <th>97</th>\n",
       "      <td>Culina</td>\n",
       "      <td>16</td>\n",
       "      <td>[Bistros, Specialty Food]</td>\n",
       "      <td>$$$</td>\n",
       "      <td>4 star</td>\n",
       "    </tr>\n",
       "    <tr>\n",
       "      <th>98</th>\n",
       "      <td>Black Tap</td>\n",
       "      <td>16</td>\n",
       "      <td>[American (Traditional), Burgers, Beer Bar]</td>\n",
       "      <td>N/A</td>\n",
       "      <td>4 star</td>\n",
       "    </tr>\n",
       "    <tr>\n",
       "      <th>99</th>\n",
       "      <td>Da Lian Traditional Noodles</td>\n",
       "      <td>19</td>\n",
       "      <td>[Noodles, Teochew]</td>\n",
       "      <td>$</td>\n",
       "      <td>4 star</td>\n",
       "    </tr>\n",
       "  </tbody>\n",
       "</table>\n",
       "<p>100 rows × 5 columns</p>\n",
       "</div>"
      ],
      "text/plain": [
       "                          Restaurant Number of Ratings  \\\n",
       "0                  Sungei Road Laksa                69   \n",
       "1   Tian Tian Hainanese Chicken Rice               378   \n",
       "2                      Jumbo Seafood               179   \n",
       "3                     Coriander Leaf                11   \n",
       "4                           Holycrab                17   \n",
       "..                               ...               ...   \n",
       "95                    The Naked Finn                20   \n",
       "96            Blanco Court Prawn Mee                15   \n",
       "97                            Culina                16   \n",
       "98                         Black Tap                16   \n",
       "99       Da Lian Traditional Noodles                19   \n",
       "\n",
       "                                Restaurant Type Affordability     Rating  \n",
       "0               [Singaporean, Chinese, Noodles]             $  4.5 star   \n",
       "1                        [Hainan, Chicken Shop]             $    4 star   \n",
       "2                                     [Seafood]           $$$    4 star   \n",
       "3                                [Asian Fusion]           N/A  4.5 star   \n",
       "4               [Singaporean, Chinese, Seafood]          $$$$  4.5 star   \n",
       "..                                          ...           ...        ...  \n",
       "95                                    [Seafood]           $$$  4.5 star   \n",
       "96                                    [Noodles]           N/A  4.5 star   \n",
       "97                    [Bistros, Specialty Food]           $$$    4 star   \n",
       "98  [American (Traditional), Burgers, Beer Bar]           N/A    4 star   \n",
       "99                           [Noodles, Teochew]             $    4 star   \n",
       "\n",
       "[100 rows x 5 columns]"
      ]
     },
     "execution_count": 35,
     "metadata": {},
     "output_type": "execute_result"
    }
   ],
   "source": [
    "rest_ratings = pd.DataFrame({'Restaurant': names,\n",
    "'Number of Ratings': no_ratings,\n",
    "'Restaurant Type': res_types,\n",
    "'Affordability': affords,\n",
    "'Rating': ratings\n",
    "})\n",
    "rest_ratings['Rating'] = rest_ratings['Rating'].map(lambda x: x.rstrip('rating'))\n",
    "print(rest_ratings.info())\n",
    "rest_ratings.head(100)"
   ]
  },
  {
   "cell_type": "code",
   "execution_count": 36,
   "metadata": {},
   "outputs": [],
   "source": [
    "rest_ratings = rest_ratings[['Restaurant', 'Restaurant Type', 'Rating', 'Number of Ratings', 'Affordability']]"
   ]
  },
  {
   "cell_type": "code",
   "execution_count": 37,
   "metadata": {},
   "outputs": [],
   "source": [
    "rest_ratings.to_csv('restaurant_ratings.csv')"
   ]
  },
  {
   "cell_type": "code",
   "execution_count": null,
   "metadata": {},
   "outputs": [],
   "source": []
  }
 ],
 "metadata": {
  "kernelspec": {
   "display_name": "Python 3",
   "language": "python",
   "name": "python3"
  },
  "language_info": {
   "codemirror_mode": {
    "name": "ipython",
    "version": 3
   },
   "file_extension": ".py",
   "mimetype": "text/x-python",
   "name": "python",
   "nbconvert_exporter": "python",
   "pygments_lexer": "ipython3",
   "version": "3.8.3"
  }
 },
 "nbformat": 4,
 "nbformat_minor": 4
}
