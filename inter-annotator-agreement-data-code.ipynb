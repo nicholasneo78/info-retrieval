{
 "cells": [
  {
   "cell_type": "code",
   "execution_count": 17,
   "metadata": {},
   "outputs": [],
   "source": [
    "import numpy as np\n",
    "import pandas as pd"
   ]
  },
  {
   "cell_type": "markdown",
   "metadata": {},
   "source": [
    "## Basic"
   ]
  },
  {
   "cell_type": "code",
   "execution_count": 18,
   "metadata": {},
   "outputs": [
    {
     "data": {
      "text/html": [
       "<div>\n",
       "<style scoped>\n",
       "    .dataframe tbody tr th:only-of-type {\n",
       "        vertical-align: middle;\n",
       "    }\n",
       "\n",
       "    .dataframe tbody tr th {\n",
       "        vertical-align: top;\n",
       "    }\n",
       "\n",
       "    .dataframe thead th {\n",
       "        text-align: right;\n",
       "    }\n",
       "</style>\n",
       "<table border=\"1\" class=\"dataframe\">\n",
       "  <thead>\n",
       "    <tr style=\"text-align: right;\">\n",
       "      <th></th>\n",
       "      <th>Restaurant Name</th>\n",
       "      <th>Restaurant Type</th>\n",
       "      <th>Reviewer's Name</th>\n",
       "      <th>Rating</th>\n",
       "      <th>Comment</th>\n",
       "    </tr>\n",
       "  </thead>\n",
       "  <tbody>\n",
       "    <tr>\n",
       "      <th>0</th>\n",
       "      <td>Positano @ RP</td>\n",
       "      <td>Italian, European</td>\n",
       "      <td>aisvslife98</td>\n",
       "      <td>5</td>\n",
       "      <td>I enjoyed my time here with my girlfriends! Fa...</td>\n",
       "    </tr>\n",
       "    <tr>\n",
       "      <th>1</th>\n",
       "      <td>Positano @ RP</td>\n",
       "      <td>Italian, European</td>\n",
       "      <td>Odyssey44198198885</td>\n",
       "      <td>5</td>\n",
       "      <td>Wonderful and amazing service experience. Defi...</td>\n",
       "    </tr>\n",
       "    <tr>\n",
       "      <th>2</th>\n",
       "      <td>Positano @ RP</td>\n",
       "      <td>Italian, European</td>\n",
       "      <td>Ninifazelin</td>\n",
       "      <td>5</td>\n",
       "      <td>Great food and wonderful service! Will definit...</td>\n",
       "    </tr>\n",
       "    <tr>\n",
       "      <th>3</th>\n",
       "      <td>Positano @ RP</td>\n",
       "      <td>Italian, European</td>\n",
       "      <td>Amaliamazlan</td>\n",
       "      <td>5</td>\n",
       "      <td>Not my first time in Positano and definitely w...</td>\n",
       "    </tr>\n",
       "    <tr>\n",
       "      <th>4</th>\n",
       "      <td>Positano @ RP</td>\n",
       "      <td>Italian, European</td>\n",
       "      <td>Shahzanstim</td>\n",
       "      <td>5</td>\n",
       "      <td>Excellent service from the staff. The beef was...</td>\n",
       "    </tr>\n",
       "  </tbody>\n",
       "</table>\n",
       "</div>"
      ],
      "text/plain": [
       "  Restaurant Name    Restaurant Type     Reviewer's Name  Rating  \\\n",
       "0   Positano @ RP  Italian, European         aisvslife98       5   \n",
       "1   Positano @ RP  Italian, European  Odyssey44198198885       5   \n",
       "2   Positano @ RP  Italian, European         Ninifazelin       5   \n",
       "3   Positano @ RP  Italian, European        Amaliamazlan       5   \n",
       "4   Positano @ RP  Italian, European         Shahzanstim       5   \n",
       "\n",
       "                                             Comment  \n",
       "0  I enjoyed my time here with my girlfriends! Fa...  \n",
       "1  Wonderful and amazing service experience. Defi...  \n",
       "2  Great food and wonderful service! Will definit...  \n",
       "3  Not my first time in Positano and definitely w...  \n",
       "4  Excellent service from the staff. The beef was...  "
      ]
     },
     "execution_count": 18,
     "metadata": {},
     "output_type": "execute_result"
    }
   ],
   "source": [
    "# import the scraped data\n",
    "data_raw_ = pd.read_csv('./data/trip-advisor-comments.csv')\n",
    "data_raw_.head()"
   ]
  },
  {
   "cell_type": "code",
   "execution_count": 19,
   "metadata": {},
   "outputs": [
    {
     "data": {
      "text/plain": [
       "(97190, 5)"
      ]
     },
     "execution_count": 19,
     "metadata": {},
     "output_type": "execute_result"
    }
   ],
   "source": [
    "data_raw_.shape"
   ]
  },
  {
   "cell_type": "code",
   "execution_count": 20,
   "metadata": {},
   "outputs": [
    {
     "data": {
      "text/plain": [
       "(88042, 5)"
      ]
     },
     "execution_count": 20,
     "metadata": {},
     "output_type": "execute_result"
    }
   ],
   "source": [
    "# remove duplicates in the data\n",
    "data_raw = data_raw_.drop_duplicates(subset={\"Reviewer\\'s Name\",\"Comment\"}, keep='first', inplace=False)\n",
    "data_raw.shape"
   ]
  },
  {
   "cell_type": "code",
   "execution_count": 21,
   "metadata": {},
   "outputs": [
    {
     "data": {
      "text/plain": [
       "90.58750900298385"
      ]
     },
     "execution_count": 21,
     "metadata": {},
     "output_type": "execute_result"
    }
   ],
   "source": [
    "#Checking to see how much % of data still remains after removing duplications\n",
    "(data_raw['Reviewer\\'s Name'].size*1.0)/(data_raw_['Reviewer\\'s Name'].size*1.0)*100"
   ]
  },
  {
   "cell_type": "code",
   "execution_count": 22,
   "metadata": {},
   "outputs": [
    {
     "data": {
      "text/plain": [
       "5    46304\n",
       "4    25976\n",
       "3     8837\n",
       "1     3464\n",
       "2     3461\n",
       "Name: Rating, dtype: int64"
      ]
     },
     "execution_count": 22,
     "metadata": {},
     "output_type": "execute_result"
    }
   ],
   "source": [
    "# check distribution of the data's rating label\n",
    "data_raw['Rating'].value_counts()"
   ]
  },
  {
   "cell_type": "code",
   "execution_count": null,
   "metadata": {},
   "outputs": [],
   "source": []
  },
  {
   "cell_type": "markdown",
   "metadata": {},
   "source": [
    "## Preprocess the data\n",
    "##### Partition the ratings to 3 classes only\n",
    "-1 (negative) <- 1,2  \n",
    "0 (neutral) <- 3  \n",
    "1 (positive) <- 4,5"
   ]
  },
  {
   "cell_type": "code",
   "execution_count": 23,
   "metadata": {},
   "outputs": [],
   "source": [
    "def partition(x):\n",
    "    if x < 3:\n",
    "        return -1\n",
    "    elif x == 3:\n",
    "        return 0\n",
    "    else:   \n",
    "        return 1"
   ]
  },
  {
   "cell_type": "code",
   "execution_count": 24,
   "metadata": {},
   "outputs": [
    {
     "name": "stderr",
     "output_type": "stream",
     "text": [
      "C:\\Users\\ValuedAcerCustomer\\.conda\\envs\\tensorflow\\lib\\site-packages\\ipykernel_launcher.py:3: SettingWithCopyWarning: \n",
      "A value is trying to be set on a copy of a slice from a DataFrame.\n",
      "Try using .loc[row_indexer,col_indexer] = value instead\n",
      "\n",
      "See the caveats in the documentation: https://pandas.pydata.org/pandas-docs/stable/user_guide/indexing.html#returning-a-view-versus-a-copy\n",
      "  This is separate from the ipykernel package so we can avoid doing imports until\n"
     ]
    },
    {
     "data": {
      "text/html": [
       "<div>\n",
       "<style scoped>\n",
       "    .dataframe tbody tr th:only-of-type {\n",
       "        vertical-align: middle;\n",
       "    }\n",
       "\n",
       "    .dataframe tbody tr th {\n",
       "        vertical-align: top;\n",
       "    }\n",
       "\n",
       "    .dataframe thead th {\n",
       "        text-align: right;\n",
       "    }\n",
       "</style>\n",
       "<table border=\"1\" class=\"dataframe\">\n",
       "  <thead>\n",
       "    <tr style=\"text-align: right;\">\n",
       "      <th></th>\n",
       "      <th>Restaurant Name</th>\n",
       "      <th>Restaurant Type</th>\n",
       "      <th>Reviewer's Name</th>\n",
       "      <th>Rating</th>\n",
       "      <th>Comment</th>\n",
       "      <th>rating_class_main</th>\n",
       "    </tr>\n",
       "  </thead>\n",
       "  <tbody>\n",
       "    <tr>\n",
       "      <th>0</th>\n",
       "      <td>Positano @ RP</td>\n",
       "      <td>Italian, European</td>\n",
       "      <td>aisvslife98</td>\n",
       "      <td>5</td>\n",
       "      <td>I enjoyed my time here with my girlfriends! Fa...</td>\n",
       "      <td>1</td>\n",
       "    </tr>\n",
       "    <tr>\n",
       "      <th>1</th>\n",
       "      <td>Positano @ RP</td>\n",
       "      <td>Italian, European</td>\n",
       "      <td>Odyssey44198198885</td>\n",
       "      <td>5</td>\n",
       "      <td>Wonderful and amazing service experience. Defi...</td>\n",
       "      <td>1</td>\n",
       "    </tr>\n",
       "    <tr>\n",
       "      <th>2</th>\n",
       "      <td>Positano @ RP</td>\n",
       "      <td>Italian, European</td>\n",
       "      <td>Ninifazelin</td>\n",
       "      <td>5</td>\n",
       "      <td>Great food and wonderful service! Will definit...</td>\n",
       "      <td>1</td>\n",
       "    </tr>\n",
       "    <tr>\n",
       "      <th>3</th>\n",
       "      <td>Positano @ RP</td>\n",
       "      <td>Italian, European</td>\n",
       "      <td>Amaliamazlan</td>\n",
       "      <td>5</td>\n",
       "      <td>Not my first time in Positano and definitely w...</td>\n",
       "      <td>1</td>\n",
       "    </tr>\n",
       "    <tr>\n",
       "      <th>4</th>\n",
       "      <td>Positano @ RP</td>\n",
       "      <td>Italian, European</td>\n",
       "      <td>Shahzanstim</td>\n",
       "      <td>5</td>\n",
       "      <td>Excellent service from the staff. The beef was...</td>\n",
       "      <td>1</td>\n",
       "    </tr>\n",
       "  </tbody>\n",
       "</table>\n",
       "</div>"
      ],
      "text/plain": [
       "  Restaurant Name    Restaurant Type     Reviewer's Name  Rating  \\\n",
       "0   Positano @ RP  Italian, European         aisvslife98       5   \n",
       "1   Positano @ RP  Italian, European  Odyssey44198198885       5   \n",
       "2   Positano @ RP  Italian, European         Ninifazelin       5   \n",
       "3   Positano @ RP  Italian, European        Amaliamazlan       5   \n",
       "4   Positano @ RP  Italian, European         Shahzanstim       5   \n",
       "\n",
       "                                             Comment  rating_class_main  \n",
       "0  I enjoyed my time here with my girlfriends! Fa...                  1  \n",
       "1  Wonderful and amazing service experience. Defi...                  1  \n",
       "2  Great food and wonderful service! Will definit...                  1  \n",
       "3  Not my first time in Positano and definitely w...                  1  \n",
       "4  Excellent service from the staff. The beef was...                  1  "
      ]
     },
     "execution_count": 24,
     "metadata": {},
     "output_type": "execute_result"
    }
   ],
   "source": [
    "ratings = data_raw['Rating']\n",
    "rating_converted = ratings.map(partition)\n",
    "data_raw['rating_class_main'] = rating_converted\n",
    "data_raw.head()"
   ]
  },
  {
   "cell_type": "code",
   "execution_count": 25,
   "metadata": {},
   "outputs": [
    {
     "data": {
      "text/plain": [
       "Restaurant Name      object\n",
       "Restaurant Type      object\n",
       "Reviewer's Name      object\n",
       "Rating                int64\n",
       "Comment              object\n",
       "rating_class_main     int64\n",
       "dtype: object"
      ]
     },
     "execution_count": 25,
     "metadata": {},
     "output_type": "execute_result"
    }
   ],
   "source": [
    "data_raw.dtypes"
   ]
  },
  {
   "cell_type": "code",
   "execution_count": 26,
   "metadata": {},
   "outputs": [
    {
     "data": {
      "text/plain": [
       " 1    72280\n",
       " 0     8837\n",
       "-1     6925\n",
       "Name: rating_class_main, dtype: int64"
      ]
     },
     "execution_count": 26,
     "metadata": {},
     "output_type": "execute_result"
    }
   ],
   "source": [
    "# check distribution of the data's class label\n",
    "data_raw['rating_class_main'].value_counts()"
   ]
  },
  {
   "cell_type": "code",
   "execution_count": 27,
   "metadata": {},
   "outputs": [],
   "source": [
    "# export non-duplicated patitioned csv for SOLR\n",
    "data_raw.to_csv('./data/trip-advisor-comments-no-duplicate-partitioned.csv', index=False)"
   ]
  },
  {
   "cell_type": "code",
   "execution_count": null,
   "metadata": {},
   "outputs": [],
   "source": []
  },
  {
   "cell_type": "markdown",
   "metadata": {},
   "source": [
    "## Choosing the data\n",
    "We will want the comments to be longer as it will be more informative for the annontator"
   ]
  },
  {
   "cell_type": "code",
   "execution_count": 28,
   "metadata": {},
   "outputs": [
    {
     "data": {
      "text/html": [
       "<div>\n",
       "<style scoped>\n",
       "    .dataframe tbody tr th:only-of-type {\n",
       "        vertical-align: middle;\n",
       "    }\n",
       "\n",
       "    .dataframe tbody tr th {\n",
       "        vertical-align: top;\n",
       "    }\n",
       "\n",
       "    .dataframe thead th {\n",
       "        text-align: right;\n",
       "    }\n",
       "</style>\n",
       "<table border=\"1\" class=\"dataframe\">\n",
       "  <thead>\n",
       "    <tr style=\"text-align: right;\">\n",
       "      <th></th>\n",
       "      <th>Restaurant Name</th>\n",
       "      <th>Restaurant Type</th>\n",
       "      <th>Reviewer's Name</th>\n",
       "      <th>Rating</th>\n",
       "      <th>Comment</th>\n",
       "      <th>rating_class_main</th>\n",
       "    </tr>\n",
       "  </thead>\n",
       "  <tbody>\n",
       "    <tr>\n",
       "      <th>0</th>\n",
       "      <td>Positano @ RP</td>\n",
       "      <td>Italian, European</td>\n",
       "      <td>aisvslife98</td>\n",
       "      <td>5</td>\n",
       "      <td>I enjoyed my time here with my girlfriends! Fa...</td>\n",
       "      <td>1</td>\n",
       "    </tr>\n",
       "    <tr>\n",
       "      <th>1</th>\n",
       "      <td>Positano @ RP</td>\n",
       "      <td>Italian, European</td>\n",
       "      <td>Odyssey44198198885</td>\n",
       "      <td>5</td>\n",
       "      <td>Wonderful and amazing service experience. Defi...</td>\n",
       "      <td>1</td>\n",
       "    </tr>\n",
       "    <tr>\n",
       "      <th>2</th>\n",
       "      <td>Positano @ RP</td>\n",
       "      <td>Italian, European</td>\n",
       "      <td>Ninifazelin</td>\n",
       "      <td>5</td>\n",
       "      <td>Great food and wonderful service! Will definit...</td>\n",
       "      <td>1</td>\n",
       "    </tr>\n",
       "    <tr>\n",
       "      <th>3</th>\n",
       "      <td>Positano @ RP</td>\n",
       "      <td>Italian, European</td>\n",
       "      <td>Amaliamazlan</td>\n",
       "      <td>5</td>\n",
       "      <td>Not my first time in Positano and definitely w...</td>\n",
       "      <td>1</td>\n",
       "    </tr>\n",
       "    <tr>\n",
       "      <th>4</th>\n",
       "      <td>Positano @ RP</td>\n",
       "      <td>Italian, European</td>\n",
       "      <td>Shahzanstim</td>\n",
       "      <td>5</td>\n",
       "      <td>Excellent service from the staff. The beef was...</td>\n",
       "      <td>1</td>\n",
       "    </tr>\n",
       "  </tbody>\n",
       "</table>\n",
       "</div>"
      ],
      "text/plain": [
       "  Restaurant Name    Restaurant Type     Reviewer's Name  Rating  \\\n",
       "0   Positano @ RP  Italian, European         aisvslife98       5   \n",
       "1   Positano @ RP  Italian, European  Odyssey44198198885       5   \n",
       "2   Positano @ RP  Italian, European         Ninifazelin       5   \n",
       "3   Positano @ RP  Italian, European        Amaliamazlan       5   \n",
       "4   Positano @ RP  Italian, European         Shahzanstim       5   \n",
       "\n",
       "                                             Comment  rating_class_main  \n",
       "0  I enjoyed my time here with my girlfriends! Fa...                  1  \n",
       "1  Wonderful and amazing service experience. Defi...                  1  \n",
       "2  Great food and wonderful service! Will definit...                  1  \n",
       "3  Not my first time in Positano and definitely w...                  1  \n",
       "4  Excellent service from the staff. The beef was...                  1  "
      ]
     },
     "execution_count": 28,
     "metadata": {},
     "output_type": "execute_result"
    }
   ],
   "source": [
    "# import data\n",
    "data_raw = pd.read_csv('./data/trip-advisor-comments-no-duplicate-partitioned.csv')\n",
    "data_raw.head()"
   ]
  },
  {
   "cell_type": "code",
   "execution_count": 33,
   "metadata": {},
   "outputs": [
    {
     "data": {
      "text/plain": [
       " 1    72280\n",
       " 0     8837\n",
       "-1     6925\n",
       "Name: rating_class_main, dtype: int64"
      ]
     },
     "execution_count": 33,
     "metadata": {},
     "output_type": "execute_result"
    }
   ],
   "source": [
    "# check distribution of the data's class label\n",
    "data_raw['rating_class_main'].value_counts()"
   ]
  },
  {
   "cell_type": "code",
   "execution_count": 29,
   "metadata": {},
   "outputs": [],
   "source": [
    "# a constant that removes the entries either less than this amount of words\n",
    "N = 30"
   ]
  },
  {
   "cell_type": "code",
   "execution_count": 30,
   "metadata": {},
   "outputs": [
    {
     "data": {
      "text/html": [
       "<div>\n",
       "<style scoped>\n",
       "    .dataframe tbody tr th:only-of-type {\n",
       "        vertical-align: middle;\n",
       "    }\n",
       "\n",
       "    .dataframe tbody tr th {\n",
       "        vertical-align: top;\n",
       "    }\n",
       "\n",
       "    .dataframe thead th {\n",
       "        text-align: right;\n",
       "    }\n",
       "</style>\n",
       "<table border=\"1\" class=\"dataframe\">\n",
       "  <thead>\n",
       "    <tr style=\"text-align: right;\">\n",
       "      <th></th>\n",
       "      <th>Restaurant Name</th>\n",
       "      <th>Restaurant Type</th>\n",
       "      <th>Reviewer's Name</th>\n",
       "      <th>Rating</th>\n",
       "      <th>Comment</th>\n",
       "      <th>rating_class_main</th>\n",
       "    </tr>\n",
       "  </thead>\n",
       "  <tbody>\n",
       "    <tr>\n",
       "      <th>0</th>\n",
       "      <td>Positano @ RP</td>\n",
       "      <td>Italian, European</td>\n",
       "      <td>aisvslife98</td>\n",
       "      <td>5</td>\n",
       "      <td>I enjoyed my time here with my girlfriends! Fa...</td>\n",
       "      <td>1</td>\n",
       "    </tr>\n",
       "    <tr>\n",
       "      <th>3</th>\n",
       "      <td>Positano @ RP</td>\n",
       "      <td>Italian, European</td>\n",
       "      <td>Amaliamazlan</td>\n",
       "      <td>5</td>\n",
       "      <td>Not my first time in Positano and definitely w...</td>\n",
       "      <td>1</td>\n",
       "    </tr>\n",
       "    <tr>\n",
       "      <th>9</th>\n",
       "      <td>Positano @ RP</td>\n",
       "      <td>Italian, European</td>\n",
       "      <td>faithfu7</td>\n",
       "      <td>5</td>\n",
       "      <td>Great food . Love the pasta , milk shake . Sta...</td>\n",
       "      <td>1</td>\n",
       "    </tr>\n",
       "    <tr>\n",
       "      <th>14</th>\n",
       "      <td>Positano @ RP</td>\n",
       "      <td>Italian, European</td>\n",
       "      <td>Chuanhantravels</td>\n",
       "      <td>5</td>\n",
       "      <td>Service was awesome very friendly staff, food ...</td>\n",
       "      <td>1</td>\n",
       "    </tr>\n",
       "    <tr>\n",
       "      <th>18</th>\n",
       "      <td>Positano @ RP</td>\n",
       "      <td>Italian, European</td>\n",
       "      <td>Matsayshi29</td>\n",
       "      <td>5</td>\n",
       "      <td>First time here and truly wowed by the quality...</td>\n",
       "      <td>1</td>\n",
       "    </tr>\n",
       "  </tbody>\n",
       "</table>\n",
       "</div>"
      ],
      "text/plain": [
       "   Restaurant Name    Restaurant Type  Reviewer's Name  Rating  \\\n",
       "0    Positano @ RP  Italian, European      aisvslife98       5   \n",
       "3    Positano @ RP  Italian, European     Amaliamazlan       5   \n",
       "9    Positano @ RP  Italian, European         faithfu7       5   \n",
       "14   Positano @ RP  Italian, European  Chuanhantravels       5   \n",
       "18   Positano @ RP  Italian, European      Matsayshi29       5   \n",
       "\n",
       "                                              Comment  rating_class_main  \n",
       "0   I enjoyed my time here with my girlfriends! Fa...                  1  \n",
       "3   Not my first time in Positano and definitely w...                  1  \n",
       "9   Great food . Love the pasta , milk shake . Sta...                  1  \n",
       "14  Service was awesome very friendly staff, food ...                  1  \n",
       "18  First time here and truly wowed by the quality...                  1  "
      ]
     },
     "execution_count": 30,
     "metadata": {},
     "output_type": "execute_result"
    }
   ],
   "source": [
    "# remove those rows where the data entries are less than N words\n",
    "data = data_raw[data_raw['Comment'].str.split().str.len().ge(N)]\n",
    "data.head(5)"
   ]
  },
  {
   "cell_type": "code",
   "execution_count": 31,
   "metadata": {},
   "outputs": [
    {
     "data": {
      "text/plain": [
       "(65270, 6)"
      ]
     },
     "execution_count": 31,
     "metadata": {},
     "output_type": "execute_result"
    }
   ],
   "source": [
    "data.shape"
   ]
  },
  {
   "cell_type": "code",
   "execution_count": 34,
   "metadata": {},
   "outputs": [
    {
     "data": {
      "text/plain": [
       " 1    51732\n",
       " 0     7327\n",
       "-1     6211\n",
       "Name: rating_class_main, dtype: int64"
      ]
     },
     "execution_count": 34,
     "metadata": {},
     "output_type": "execute_result"
    }
   ],
   "source": [
    "# check distribution of the data's rating label\n",
    "data['rating_class_main'].value_counts()"
   ]
  },
  {
   "cell_type": "code",
   "execution_count": null,
   "metadata": {},
   "outputs": [],
   "source": []
  },
  {
   "cell_type": "markdown",
   "metadata": {},
   "source": [
    "## Sample the data\n",
    "Choose 250 from class 1  \n",
    "Choose 250 from class -1  \n",
    "Choose 500 from class 0"
   ]
  },
  {
   "cell_type": "code",
   "execution_count": 42,
   "metadata": {},
   "outputs": [
    {
     "name": "stdout",
     "output_type": "stream",
     "text": [
      "(500, 6)\n"
     ]
    },
    {
     "data": {
      "text/html": [
       "<div>\n",
       "<style scoped>\n",
       "    .dataframe tbody tr th:only-of-type {\n",
       "        vertical-align: middle;\n",
       "    }\n",
       "\n",
       "    .dataframe tbody tr th {\n",
       "        vertical-align: top;\n",
       "    }\n",
       "\n",
       "    .dataframe thead th {\n",
       "        text-align: right;\n",
       "    }\n",
       "</style>\n",
       "<table border=\"1\" class=\"dataframe\">\n",
       "  <thead>\n",
       "    <tr style=\"text-align: right;\">\n",
       "      <th></th>\n",
       "      <th>Restaurant Name</th>\n",
       "      <th>Restaurant Type</th>\n",
       "      <th>Reviewer's Name</th>\n",
       "      <th>Rating</th>\n",
       "      <th>Comment</th>\n",
       "      <th>rating_class_main</th>\n",
       "    </tr>\n",
       "  </thead>\n",
       "  <tbody>\n",
       "    <tr>\n",
       "      <th>44414</th>\n",
       "      <td>Salt tapas &amp; bar</td>\n",
       "      <td>Bar, Mediterranean</td>\n",
       "      <td>MelbourneFrog69</td>\n",
       "      <td>3</td>\n",
       "      <td>We went there for a quick bite and a drink. Th...</td>\n",
       "      <td>0</td>\n",
       "    </tr>\n",
       "    <tr>\n",
       "      <th>80817</th>\n",
       "      <td>Gudetama Cafe</td>\n",
       "      <td>Cafe</td>\n",
       "      <td>Wiwan</td>\n",
       "      <td>3</td>\n",
       "      <td>This is our 2nd visit. We came not long after ...</td>\n",
       "      <td>0</td>\n",
       "    </tr>\n",
       "    <tr>\n",
       "      <th>62612</th>\n",
       "      <td>The Coastal Settlement</td>\n",
       "      <td>Bar, Diner</td>\n",
       "      <td>AlvinSohYK</td>\n",
       "      <td>3</td>\n",
       "      <td>Nice relax ambience tucked away in a quiet par...</td>\n",
       "      <td>0</td>\n",
       "    </tr>\n",
       "  </tbody>\n",
       "</table>\n",
       "</div>"
      ],
      "text/plain": [
       "              Restaurant Name     Restaurant Type  Reviewer's Name  Rating  \\\n",
       "44414        Salt tapas & bar  Bar, Mediterranean  MelbourneFrog69       3   \n",
       "80817           Gudetama Cafe                Cafe            Wiwan       3   \n",
       "62612  The Coastal Settlement          Bar, Diner       AlvinSohYK       3   \n",
       "\n",
       "                                                 Comment  rating_class_main  \n",
       "44414  We went there for a quick bite and a drink. Th...                  0  \n",
       "80817  This is our 2nd visit. We came not long after ...                  0  \n",
       "62612  Nice relax ambience tucked away in a quiet par...                  0  "
      ]
     },
     "execution_count": 42,
     "metadata": {},
     "output_type": "execute_result"
    }
   ],
   "source": [
    "# sample 500 neutral comments\n",
    "data_zero = data[data['rating_class_main'] == 0].sample(500, replace=False)\n",
    "print(data_zero.shape)\n",
    "data_zero.head(3)"
   ]
  },
  {
   "cell_type": "code",
   "execution_count": 36,
   "metadata": {},
   "outputs": [
    {
     "name": "stdout",
     "output_type": "stream",
     "text": [
      "(250, 6)\n"
     ]
    },
    {
     "data": {
      "text/html": [
       "<div>\n",
       "<style scoped>\n",
       "    .dataframe tbody tr th:only-of-type {\n",
       "        vertical-align: middle;\n",
       "    }\n",
       "\n",
       "    .dataframe tbody tr th {\n",
       "        vertical-align: top;\n",
       "    }\n",
       "\n",
       "    .dataframe thead th {\n",
       "        text-align: right;\n",
       "    }\n",
       "</style>\n",
       "<table border=\"1\" class=\"dataframe\">\n",
       "  <thead>\n",
       "    <tr style=\"text-align: right;\">\n",
       "      <th></th>\n",
       "      <th>Restaurant Name</th>\n",
       "      <th>Restaurant Type</th>\n",
       "      <th>Reviewer's Name</th>\n",
       "      <th>Rating</th>\n",
       "      <th>Comment</th>\n",
       "      <th>rating_class_main</th>\n",
       "    </tr>\n",
       "  </thead>\n",
       "  <tbody>\n",
       "    <tr>\n",
       "      <th>57955</th>\n",
       "      <td>Raffles Courtyard</td>\n",
       "      <td>Bar, European</td>\n",
       "      <td>Mgn12</td>\n",
       "      <td>1</td>\n",
       "      <td>Major disappointment. I booked for 7 pm. The s...</td>\n",
       "      <td>-1</td>\n",
       "    </tr>\n",
       "    <tr>\n",
       "      <th>68342</th>\n",
       "      <td>Bee Cheng Hiang</td>\n",
       "      <td>Asian, Singaporean</td>\n",
       "      <td>Aw1009</td>\n",
       "      <td>1</td>\n",
       "      <td>I bought 500g minced pork bakkwa from your Nor...</td>\n",
       "      <td>-1</td>\n",
       "    </tr>\n",
       "    <tr>\n",
       "      <th>81583</th>\n",
       "      <td>Dim Sum Haus</td>\n",
       "      <td>Chinese, Asian</td>\n",
       "      <td>anastasiabY320YC</td>\n",
       "      <td>1</td>\n",
       "      <td>A restaurant that does not treat their custome...</td>\n",
       "      <td>-1</td>\n",
       "    </tr>\n",
       "  </tbody>\n",
       "</table>\n",
       "</div>"
      ],
      "text/plain": [
       "         Restaurant Name     Restaurant Type   Reviewer's Name  Rating  \\\n",
       "57955  Raffles Courtyard       Bar, European             Mgn12       1   \n",
       "68342    Bee Cheng Hiang  Asian, Singaporean            Aw1009       1   \n",
       "81583       Dim Sum Haus      Chinese, Asian  anastasiabY320YC       1   \n",
       "\n",
       "                                                 Comment  rating_class_main  \n",
       "57955  Major disappointment. I booked for 7 pm. The s...                 -1  \n",
       "68342  I bought 500g minced pork bakkwa from your Nor...                 -1  \n",
       "81583  A restaurant that does not treat their custome...                 -1  "
      ]
     },
     "execution_count": 36,
     "metadata": {},
     "output_type": "execute_result"
    }
   ],
   "source": [
    "# sample 250 negative comments\n",
    "data_negative = data[data['rating_class_main'] == -1].sample(250, replace=False)\n",
    "print(data_negative.shape)\n",
    "data_negative.head(3)"
   ]
  },
  {
   "cell_type": "code",
   "execution_count": 37,
   "metadata": {},
   "outputs": [
    {
     "name": "stdout",
     "output_type": "stream",
     "text": [
      "(250, 6)\n"
     ]
    },
    {
     "data": {
      "text/html": [
       "<div>\n",
       "<style scoped>\n",
       "    .dataframe tbody tr th:only-of-type {\n",
       "        vertical-align: middle;\n",
       "    }\n",
       "\n",
       "    .dataframe tbody tr th {\n",
       "        vertical-align: top;\n",
       "    }\n",
       "\n",
       "    .dataframe thead th {\n",
       "        text-align: right;\n",
       "    }\n",
       "</style>\n",
       "<table border=\"1\" class=\"dataframe\">\n",
       "  <thead>\n",
       "    <tr style=\"text-align: right;\">\n",
       "      <th></th>\n",
       "      <th>Restaurant Name</th>\n",
       "      <th>Restaurant Type</th>\n",
       "      <th>Reviewer's Name</th>\n",
       "      <th>Rating</th>\n",
       "      <th>Comment</th>\n",
       "      <th>rating_class_main</th>\n",
       "    </tr>\n",
       "  </thead>\n",
       "  <tbody>\n",
       "    <tr>\n",
       "      <th>59401</th>\n",
       "      <td>Gokul Vegetarian</td>\n",
       "      <td>Indian, Asian</td>\n",
       "      <td>Lucy J</td>\n",
       "      <td>4</td>\n",
       "      <td>I had masala dosa here, which was so tasty.a s...</td>\n",
       "      <td>1</td>\n",
       "    </tr>\n",
       "    <tr>\n",
       "      <th>57603</th>\n",
       "      <td>Southbridge</td>\n",
       "      <td>Bar, Fusion</td>\n",
       "      <td>Lars R</td>\n",
       "      <td>5</td>\n",
       "      <td>Good food and superb drinks in a small hideawa...</td>\n",
       "      <td>1</td>\n",
       "    </tr>\n",
       "    <tr>\n",
       "      <th>18016</th>\n",
       "      <td>Garibaldi Italian Restaurant &amp; Bar</td>\n",
       "      <td>Italian, European</td>\n",
       "      <td>shirley2h</td>\n",
       "      <td>5</td>\n",
       "      <td>These were the 2nd time i visited the restaura...</td>\n",
       "      <td>1</td>\n",
       "    </tr>\n",
       "  </tbody>\n",
       "</table>\n",
       "</div>"
      ],
      "text/plain": [
       "                          Restaurant Name    Restaurant Type Reviewer's Name  \\\n",
       "59401                    Gokul Vegetarian      Indian, Asian          Lucy J   \n",
       "57603                         Southbridge        Bar, Fusion          Lars R   \n",
       "18016  Garibaldi Italian Restaurant & Bar  Italian, European       shirley2h   \n",
       "\n",
       "       Rating                                            Comment  \\\n",
       "59401       4  I had masala dosa here, which was so tasty.a s...   \n",
       "57603       5  Good food and superb drinks in a small hideawa...   \n",
       "18016       5  These were the 2nd time i visited the restaura...   \n",
       "\n",
       "       rating_class_main  \n",
       "59401                  1  \n",
       "57603                  1  \n",
       "18016                  1  "
      ]
     },
     "execution_count": 37,
     "metadata": {},
     "output_type": "execute_result"
    }
   ],
   "source": [
    "# sample 250 positive comments\n",
    "data_positive = data[data['rating_class_main'] == 1].sample(250, replace=False)\n",
    "print(data_positive.shape)\n",
    "data_positive.head(3)"
   ]
  },
  {
   "cell_type": "code",
   "execution_count": 38,
   "metadata": {},
   "outputs": [
    {
     "name": "stdout",
     "output_type": "stream",
     "text": [
      "(1000, 6)\n"
     ]
    },
    {
     "data": {
      "text/html": [
       "<div>\n",
       "<style scoped>\n",
       "    .dataframe tbody tr th:only-of-type {\n",
       "        vertical-align: middle;\n",
       "    }\n",
       "\n",
       "    .dataframe tbody tr th {\n",
       "        vertical-align: top;\n",
       "    }\n",
       "\n",
       "    .dataframe thead th {\n",
       "        text-align: right;\n",
       "    }\n",
       "</style>\n",
       "<table border=\"1\" class=\"dataframe\">\n",
       "  <thead>\n",
       "    <tr style=\"text-align: right;\">\n",
       "      <th></th>\n",
       "      <th>Restaurant Name</th>\n",
       "      <th>Restaurant Type</th>\n",
       "      <th>Reviewer's Name</th>\n",
       "      <th>Rating</th>\n",
       "      <th>Comment</th>\n",
       "      <th>rating_class_main</th>\n",
       "    </tr>\n",
       "  </thead>\n",
       "  <tbody>\n",
       "    <tr>\n",
       "      <th>45485</th>\n",
       "      <td>The Refinery Restaurant &amp; Bar</td>\n",
       "      <td>Asian, Bar</td>\n",
       "      <td>jadeylf</td>\n",
       "      <td>3</td>\n",
       "      <td>The Refinery is located in a fun and relaxing ...</td>\n",
       "      <td>0</td>\n",
       "    </tr>\n",
       "    <tr>\n",
       "      <th>85514</th>\n",
       "      <td>The Soup Spoon</td>\n",
       "      <td>$$ - $$$</td>\n",
       "      <td>PKA3300</td>\n",
       "      <td>3</td>\n",
       "      <td>Avoidable food. Avoidable service. \\n\\nWe went...</td>\n",
       "      <td>0</td>\n",
       "    </tr>\n",
       "    <tr>\n",
       "      <th>23993</th>\n",
       "      <td>Bread Street Kitchen</td>\n",
       "      <td>$$ - $$$</td>\n",
       "      <td>OSwander</td>\n",
       "      <td>3</td>\n",
       "      <td>We visited in January 2020 after reading about...</td>\n",
       "      <td>0</td>\n",
       "    </tr>\n",
       "    <tr>\n",
       "      <th>24900</th>\n",
       "      <td>Lagnaa...barefoot dining</td>\n",
       "      <td>Indian, Asian</td>\n",
       "      <td>timothy k</td>\n",
       "      <td>3</td>\n",
       "      <td>Dinner for four, we all considered the food to...</td>\n",
       "      <td>0</td>\n",
       "    </tr>\n",
       "    <tr>\n",
       "      <th>13563</th>\n",
       "      <td>The Song of India</td>\n",
       "      <td>Indian, Asian</td>\n",
       "      <td>pradeepc406</td>\n",
       "      <td>3</td>\n",
       "      <td>Hi \\n\\nWe were a group of 7 people and I was c...</td>\n",
       "      <td>0</td>\n",
       "    </tr>\n",
       "  </tbody>\n",
       "</table>\n",
       "</div>"
      ],
      "text/plain": [
       "                     Restaurant Name Restaurant Type Reviewer's Name  Rating  \\\n",
       "45485  The Refinery Restaurant & Bar      Asian, Bar         jadeylf       3   \n",
       "85514                 The Soup Spoon        $$ - $$$         PKA3300       3   \n",
       "23993           Bread Street Kitchen        $$ - $$$        OSwander       3   \n",
       "24900       Lagnaa...barefoot dining   Indian, Asian       timothy k       3   \n",
       "13563              The Song of India   Indian, Asian     pradeepc406       3   \n",
       "\n",
       "                                                 Comment  rating_class_main  \n",
       "45485  The Refinery is located in a fun and relaxing ...                  0  \n",
       "85514  Avoidable food. Avoidable service. \\n\\nWe went...                  0  \n",
       "23993  We visited in January 2020 after reading about...                  0  \n",
       "24900  Dinner for four, we all considered the food to...                  0  \n",
       "13563  Hi \\n\\nWe were a group of 7 people and I was c...                  0  "
      ]
     },
     "execution_count": 38,
     "metadata": {},
     "output_type": "execute_result"
    }
   ],
   "source": [
    "# fit new dataframe to form the final sample\n",
    "data_sample_ = pd.concat([data_zero, data_negative, data_positive])\n",
    "print(data_sample_.shape)\n",
    "data_sample_.head()"
   ]
  },
  {
   "cell_type": "code",
   "execution_count": 39,
   "metadata": {},
   "outputs": [
    {
     "data": {
      "text/html": [
       "<div>\n",
       "<style scoped>\n",
       "    .dataframe tbody tr th:only-of-type {\n",
       "        vertical-align: middle;\n",
       "    }\n",
       "\n",
       "    .dataframe tbody tr th {\n",
       "        vertical-align: top;\n",
       "    }\n",
       "\n",
       "    .dataframe thead th {\n",
       "        text-align: right;\n",
       "    }\n",
       "</style>\n",
       "<table border=\"1\" class=\"dataframe\">\n",
       "  <thead>\n",
       "    <tr style=\"text-align: right;\">\n",
       "      <th></th>\n",
       "      <th>Restaurant Name</th>\n",
       "      <th>Restaurant Type</th>\n",
       "      <th>Reviewer's Name</th>\n",
       "      <th>Rating</th>\n",
       "      <th>Comment</th>\n",
       "      <th>rating_class_main</th>\n",
       "    </tr>\n",
       "  </thead>\n",
       "  <tbody>\n",
       "    <tr>\n",
       "      <th>11970</th>\n",
       "      <td>CE LA VI</td>\n",
       "      <td>Asian, Fusion</td>\n",
       "      <td>mmuazhiim</td>\n",
       "      <td>5</td>\n",
       "      <td>Situated on the top of Marina Bay sands this r...</td>\n",
       "      <td>1</td>\n",
       "    </tr>\n",
       "    <tr>\n",
       "      <th>39026</th>\n",
       "      <td>I am...</td>\n",
       "      <td>Dutch, European</td>\n",
       "      <td>PCSim</td>\n",
       "      <td>5</td>\n",
       "      <td>Only learnt of this restaurant from my Friend....</td>\n",
       "      <td>1</td>\n",
       "    </tr>\n",
       "    <tr>\n",
       "      <th>16109</th>\n",
       "      <td>The National Kitchen by Violet Oon at the Nati...</td>\n",
       "      <td>Asian, Singaporean</td>\n",
       "      <td>otnielaldi</td>\n",
       "      <td>5</td>\n",
       "      <td>Great restaurant ambience, with much attention...</td>\n",
       "      <td>1</td>\n",
       "    </tr>\n",
       "    <tr>\n",
       "      <th>72948</th>\n",
       "      <td>Ginger Thai</td>\n",
       "      <td>Thai, Bar</td>\n",
       "      <td>Sharijer</td>\n",
       "      <td>3</td>\n",
       "      <td>Giving it this rating, because there was no di...</td>\n",
       "      <td>0</td>\n",
       "    </tr>\n",
       "    <tr>\n",
       "      <th>51623</th>\n",
       "      <td>Brotzeit (Raffles City)</td>\n",
       "      <td>German, Bar</td>\n",
       "      <td>Mglap</td>\n",
       "      <td>2</td>\n",
       "      <td>Visited the place as we need to eat some weste...</td>\n",
       "      <td>-1</td>\n",
       "    </tr>\n",
       "  </tbody>\n",
       "</table>\n",
       "</div>"
      ],
      "text/plain": [
       "                                         Restaurant Name     Restaurant Type  \\\n",
       "11970                                           CE LA VI       Asian, Fusion   \n",
       "39026                                            I am...     Dutch, European   \n",
       "16109  The National Kitchen by Violet Oon at the Nati...  Asian, Singaporean   \n",
       "72948                                        Ginger Thai           Thai, Bar   \n",
       "51623                            Brotzeit (Raffles City)         German, Bar   \n",
       "\n",
       "      Reviewer's Name  Rating  \\\n",
       "11970       mmuazhiim       5   \n",
       "39026           PCSim       5   \n",
       "16109      otnielaldi       5   \n",
       "72948        Sharijer       3   \n",
       "51623           Mglap       2   \n",
       "\n",
       "                                                 Comment  rating_class_main  \n",
       "11970  Situated on the top of Marina Bay sands this r...                  1  \n",
       "39026  Only learnt of this restaurant from my Friend....                  1  \n",
       "16109  Great restaurant ambience, with much attention...                  1  \n",
       "72948  Giving it this rating, because there was no di...                  0  \n",
       "51623  Visited the place as we need to eat some weste...                 -1  "
      ]
     },
     "execution_count": 39,
     "metadata": {},
     "output_type": "execute_result"
    }
   ],
   "source": [
    "# randomise the order of the sample dataframe\n",
    "data_sample = data_sample_.sample(frac=1)\n",
    "data_sample.head()"
   ]
  },
  {
   "cell_type": "code",
   "execution_count": 40,
   "metadata": {},
   "outputs": [
    {
     "name": "stdout",
     "output_type": "stream",
     "text": [
      "True\n",
      "True\n",
      "True\n"
     ]
    }
   ],
   "source": [
    "# final check on the sampled data\n",
    "print(len(data_sample[data_sample['rating_class_main'] == 0]) == 500)\n",
    "print(len(data_sample[data_sample['rating_class_main'] == -1]) == 250)\n",
    "print(len(data_sample[data_sample['rating_class_main'] == 1]) == 250)"
   ]
  },
  {
   "cell_type": "code",
   "execution_count": null,
   "metadata": {},
   "outputs": [],
   "source": []
  },
  {
   "cell_type": "markdown",
   "metadata": {},
   "source": [
    "## Export the sampled data"
   ]
  },
  {
   "cell_type": "code",
   "execution_count": null,
   "metadata": {},
   "outputs": [],
   "source": [
    "data_sample.to_csv('./data/sampled-data-for-annontation.csv', index=False)"
   ]
  },
  {
   "cell_type": "code",
   "execution_count": null,
   "metadata": {},
   "outputs": [],
   "source": []
  }
 ],
 "metadata": {
  "kernelspec": {
   "display_name": "Python 3",
   "language": "python",
   "name": "python3"
  },
  "language_info": {
   "codemirror_mode": {
    "name": "ipython",
    "version": 3
   },
   "file_extension": ".py",
   "mimetype": "text/x-python",
   "name": "python",
   "nbconvert_exporter": "python",
   "pygments_lexer": "ipython3",
   "version": "3.7.7"
  }
 },
 "nbformat": 4,
 "nbformat_minor": 4
}
