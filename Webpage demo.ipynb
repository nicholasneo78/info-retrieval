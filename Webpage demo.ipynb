{
 "cells": [
  {
   "cell_type": "code",
   "execution_count": 1,
   "metadata": {},
   "outputs": [],
   "source": [
    "from urllib import *\n",
    "import json\n",
    "import regex as re\n",
    "import PySimpleGUI as sg"
   ]
  },
  {
   "cell_type": "code",
   "execution_count": 2,
   "metadata": {},
   "outputs": [],
   "source": [
    "connection = request.urlopen('http://localhost:8983/solr/restaurant/select?q=*%3A*&wt=json') #url is from solr in json format"
   ]
  },
  {
   "cell_type": "code",
   "execution_count": 3,
   "metadata": {},
   "outputs": [],
   "source": [
    "response = json.load(connection)\n",
    "print (response['response']['numFound'], \"documents found.\")"
   ]
  },
  {
   "cell_type": "code",
   "execution_count": 4,
   "metadata": {},
   "outputs": [],
   "source": [
    "res_name={}\n",
    "res_details=[]\n",
    "for document in response['response']['docs']:\n",
    "    #print(\"Name =\", document['name'])\n",
    "    #print(\"Type =\", document['type'])\n",
    "    #print(\"Webpage =\", document['webpage'])\n",
    "    #print(\"\")\n",
    "    for item in document['name']:\n",
    "        item = re.sub(\"\\d+\\. \", \"\", item)\n",
    "        res_name[item] = None #create restaurant name as key\n",
    "        res_details=[] #temp list for details of each restaurant\n",
    "        for items in document['type']: #restuarant type\n",
    "            res_details.append(items)\n",
    "        for url in document['webpage']: #restaurant comments url\n",
    "            res_details.append(url)\n",
    "        res_name[item] = res_details\n",
    "#print(res_name)\n",
    "#print(\"\")\n",
    "\n",
    "#search function\n",
    "def search(values):\n",
    "    term = values['TERM']\n",
    "    for key, value in res_name.items():\n",
    "        if key == term:\n",
    "            print(\"Restaurant: \"+term)\n",
    "            first = True\n",
    "            for v in value:\n",
    "                if \"https\" in v:\n",
    "                    print(\"Website: \"+v)\n",
    "                    return\n",
    "                if first:\n",
    "                    print(\"Type: \"+v)\n",
    "                    first = False\n",
    "                    continue\n",
    "                print(v.replace(\" \",\"\"))\n",
    "            return\n",
    "    print(\"No results\")\n",
    "    return  \n",
    "        \n",
    "#search('Grand Shanghai Restaurant')"
   ]
  },
  {
   "cell_type": "code",
   "execution_count": 5,
   "metadata": {},
   "outputs": [
    {
     "name": "stdout",
     "output_type": "stream",
     "text": [
      "* Error performing wm_overrideredirect *\n"
     ]
    }
   ],
   "source": [
    "layout = [[sg.Text('Search'),sg.Input(size=(20,1),key=\"TERM\"), sg.Button('Search', bind_return_key=True, key=\"_SEARCH_\")],\n",
    "          [sg.Button(\"Quit\", key = '_QUIT_')],\n",
    "          [sg.Output(size=(40,10), key = '_output_')]]\n",
    "\n",
    "# Create the window\n",
    "window = sg.Window(\"Demo Search Engine\", layout, margins=(30, 30))\n",
    "\n",
    "# Create an event loop\n",
    "while True:\n",
    "    event, values = window.read()\n",
    "    #print(event, values)\n",
    "    # End program if user closes window or\n",
    "    # presses the OK button\n",
    "    if event == \"_QUIT_\" or event == sg.WIN_CLOSED:\n",
    "        break\n",
    "    elif event == '_SEARCH_':\n",
    "        window.FindElement('_output_').Update('')\n",
    "        search(values)\n",
    "\n",
    "window.close()"
   ]
  },
  {
   "cell_type": "code",
   "execution_count": null,
   "metadata": {},
   "outputs": [],
   "source": []
  }
 ],
 "metadata": {
  "kernelspec": {
   "display_name": "Python 3",
   "language": "python",
   "name": "python3"
  },
  "language_info": {
   "codemirror_mode": {
    "name": "ipython",
    "version": 3
   },
   "file_extension": ".py",
   "mimetype": "text/x-python",
   "name": "python",
   "nbconvert_exporter": "python",
   "pygments_lexer": "ipython3",
   "version": "3.7.9"
  }
 },
 "nbformat": 4,
 "nbformat_minor": 4
}
