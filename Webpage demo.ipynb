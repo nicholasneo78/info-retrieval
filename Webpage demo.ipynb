{
 "cells": [
  {
   "cell_type": "code",
   "execution_count": 1,
   "metadata": {},
   "outputs": [],
   "source": [
    "from urllib import *\n",
    "import json\n",
    "import regex as re\n",
    "import PySimpleGUI as sg\n",
    "import webbrowser\n",
    "import sys\n",
    "import pprint\n",
    "from dataclasses import dataclass\n",
    "import hyperlink"
   ]
  },
  {
   "cell_type": "code",
   "execution_count": 2,
   "metadata": {},
   "outputs": [],
   "source": [
    "host       = \"localhost\"\n",
    "port       = \"8983\"\n",
    "collection = \"restaurant\"\n",
    "qt         = \"select\"\n",
    "url        = 'http://' + host + ':' + port + '/solr/' + collection + '/' + qt + '?'\n",
    "\n",
    "q          = \"q=*%3A*\"\n",
    "#fl         = \"fl=id,name\"\n",
    "#fq         = \"fq=\"\n",
    "#rows       = \"rows=10\"\n",
    "wt         = \"wt=json\"\n",
    "\n",
    "params     = [ q, wt ] \n",
    "p          = \"&\".join(params)"
   ]
  },
  {
   "cell_type": "code",
   "execution_count": 3,
   "metadata": {},
   "outputs": [
    {
     "name": "stdout",
     "output_type": "stream",
     "text": [
      "Number of hits: 1013\n",
      "{'name': ['1. Positano @ RP'], 'type': ['Italian', ' European'], 'webpage': ['https://www.tripadvisor.com.sg/Restaurant_Review-g294265-d21180746-Reviews-Positano_RP-Singapore.html'], 'id': '118c8d31-feaa-4986-a1f9-89c921fb25fa', '_version_': 1694013575789543424}\n",
      "{'name': ['2. Grand Shanghai Restaurant'], 'type': ['Chinese', ' Asian'], 'webpage': ['https://www.tripadvisor.com.sg/Restaurant_Review-g294265-d1145149-Reviews-Grand_Shanghai_Restaurant-Singapore.html'], 'id': '1d0bb2f9-9dd8-4732-8736-b25bd2a63f30', '_version_': 1694013575897546752}\n",
      "{'name': ['3. Fu Lin Men (NSRCC)'], 'type': ['Chinese', ' Seafood'], 'webpage': ['https://www.tripadvisor.com.sg/Restaurant_Review-g294265-d17171783-Reviews-Fu_Lin_Men_NSRCC-Singapore.html'], 'id': 'ebd438d8-029f-483d-9d4b-93964d76e2fe', '_version_': 1694013575900692480}\n",
      "{'name': ['4. Entre-Nous creperie'], 'type': ['French', ' European'], 'webpage': ['https://www.tripadvisor.com.sg/Restaurant_Review-g294265-d1193730-Reviews-Entre_Nous_creperie-Singapore.html'], 'id': 'b77545d4-b5d0-48f7-bf24-2c4fcb9c6f61', '_version_': 1694013575902789632}\n",
      "{'name': ['5. NOX - Dine in the Dark'], 'type': ['European', ' Fusion'], 'webpage': ['https://www.tripadvisor.com.sg/Restaurant_Review-g294265-d4611806-Reviews-NOX_Dine_in_the_Dark-Singapore.html'], 'id': 'd9972e3d-428d-433a-a19c-b71aeef257c8', '_version_': 1694013575904886784}\n",
      "{'name': ['6. The Mind Cafe'], 'type': ['Cafe', ' Pub'], 'webpage': ['https://www.tripadvisor.com.sg/Restaurant_Review-g294265-d2089644-Reviews-The_Mind_Cafe-Singapore.html'], 'id': '1aa82cf2-bf48-4370-a53e-2d5f72e5b5c2', '_version_': 1694013575906983936}\n",
      "{'name': ['7. Song Garden'], 'type': ['Chinese', ' Asian'], 'webpage': ['https://www.tripadvisor.com.sg/Restaurant_Review-g294265-d12310362-Reviews-Song_Garden-Singapore.html'], 'id': '9f225726-af18-4641-a4db-d920b60f8ce1', '_version_': 1694013575909081088}\n",
      "{'name': ['8. Fu Lin Men (CSC)'], 'type': ['Chinese', ' Asian'], 'webpage': ['https://www.tripadvisor.com.sg/Restaurant_Review-g294265-d13873832-Reviews-Fu_Lin_Men_CSC-Singapore.html'], 'id': '3878eff4-7b38-415c-88d0-ea17b40673f1', '_version_': 1694013575912226816}\n",
      "{'name': ['9. Melt Cafe'], 'type': ['International'], 'webpage': ['https://www.tripadvisor.com.sg/Restaurant_Review-g294265-d785219-Reviews-Melt_Cafe-Singapore.html'], 'id': '42fb6e98-084f-4485-953f-5f8c069832d7', '_version_': 1694013575914323968}\n",
      "{'name': ['10. Positano Risto'], 'type': ['Italian', ' Pizza'], 'webpage': ['https://www.tripadvisor.com.sg/Restaurant_Review-g294265-d13152787-Reviews-Positano_Risto-Singapore.html'], 'id': '3a8c8b2a-0e44-4c33-8a49-20fa541d460e', '_version_': 1694013575915372544}\n"
     ]
    }
   ],
   "source": [
    "connection = request.urlopen(url+p)\n",
    "\n",
    "if wt == \"wt=json\":\n",
    "  response = json.load(connection) \n",
    "else:\n",
    "  response = eval(connection.read())\n",
    "\n",
    "print (\"Number of hits: \" + str(response['response']['numFound']))\n",
    "for i in range(len(response['response']['docs'])):\n",
    "    print(response['response']['docs'][i])\n",
    "#pprint.pprint(response['response']['docs'][0]['webpage'])\n",
    "#print(len(response['response']['docs']))"
   ]
  },
  {
   "cell_type": "code",
   "execution_count": 4,
   "metadata": {},
   "outputs": [],
   "source": [
    "#connection = request.urlopen('http://localhost:8983/solr/restaurant/select?q=*%3A*&wt=json') #url is from solr in json format"
   ]
  },
  {
   "cell_type": "code",
   "execution_count": 5,
   "metadata": {},
   "outputs": [],
   "source": [
    "#response = json.load(connection)\n",
    "#print (response['response']['numFound'], \"documents found.\")"
   ]
  },
  {
   "cell_type": "code",
   "execution_count": 6,
   "metadata": {},
   "outputs": [],
   "source": [
    "# res_name={}\n",
    "# res_details=[]\n",
    "# for document in response['response']['docs']:\n",
    "#     #print(\"Name =\", document['name'])\n",
    "#     #print(\"Type =\", document['type'])\n",
    "#     #print(\"Webpage =\", document['webpage'])\n",
    "#     #print(\"\")\n",
    "#     for item in document['name']:\n",
    "#         item = re.sub(\"\\d+\\. \", \"\", item)\n",
    "#         res_name[item] = None #create restaurant name as key\n",
    "#         res_details=[] #temp list for details of each restaurant\n",
    "#         for items in document['type']: #restuarant type\n",
    "#             res_details.append(items)\n",
    "#         for url in document['webpage']: #restaurant comments url\n",
    "#             res_details.append(url)\n",
    "#         res_name[item] = res_details\n",
    "# #print(res_name)\n",
    "# #print(\"\")\n",
    "\n",
    "# #search function\n",
    "# def search(values):\n",
    "#     term = values['TERM']\n",
    "#     for key, value in res_name.items():\n",
    "#         if key == term:\n",
    "#             print(\"Restaurant: \"+term)\n",
    "#             first = True\n",
    "#             for v in value:\n",
    "#                 if \"https\" in v:\n",
    "#                     print(\"Website: \"+v)\n",
    "#                     return\n",
    "#                 if first:\n",
    "#                     print(\"Type: \"+v)\n",
    "#                     first = False\n",
    "#                     continue\n",
    "#                 print(v.replace(\" \",\"\"))\n",
    "#             return\n",
    "#     print(\"No results\")\n",
    "#     return  \n",
    "\n",
    "# def searchAll(values):\n",
    "#     term = values[\"TERM\"]\n",
    "#     print(response['response']['docs'])\n",
    "        \n",
    "# #search('Grand Shanghai Restaurant')"
   ]
  },
  {
   "cell_type": "code",
   "execution_count": 7,
   "metadata": {},
   "outputs": [
    {
     "name": "stdout",
     "output_type": "stream",
     "text": [
      "* Error performing wm_overrideredirect *\n",
      "['266. Spize']\n",
      "['Asian']\n",
      "https://www.tripadvisor.com.sg/Restaurant_Review-g294265-d9877078-Reviews-Spize-Singapore.html\n",
      "['299. Lim Chee Guan']\n",
      "['Asian']\n",
      "https://www.tripadvisor.com.sg/Restaurant_Review-g294265-d9740103-Reviews-Lim_Chee_Guan-Singapore.html\n",
      "['445. Whole Earth']\n",
      "['Asian']\n",
      "https://www.tripadvisor.com.sg/Restaurant_Review-g294265-d1746501-Reviews-Whole_Earth-Singapore.html\n",
      "['457. Chopsuey Cafe']\n",
      "['Asian']\n",
      "https://www.tripadvisor.com.sg/Restaurant_Review-g294265-d11860384-Reviews-Chopsuey_Cafe-Singapore.html\n",
      "['642. Indocafe the White House']\n",
      "['Asian']\n",
      "https://www.tripadvisor.com.sg/Restaurant_Review-g294265-d2490018-Reviews-Indocafe_the_White_House-Singapore.html\n"
     ]
    }
   ],
   "source": [
    "layout = [[sg.Text('Search'),sg.InputText(), sg.Button('Search', bind_return_key=True, key=\"_SEARCH_\")],\n",
    "          [sg.Button(\"Quit\", key = '_QUIT_')],\n",
    "          [sg.Listbox([], size=(1000,40),enable_events=True, key = '_listbox_')]\n",
    "          \n",
    "          ]\n",
    "#[sg.Output(size=(1400,650), key = '_output_')]\n",
    "# Create the window http://localhost:8888/notebooks/Documents/School%20Work/2021%20Yr%203%20Sem%202/CE%204034/info-retrieval/Webpage%20demo.ipynb#\n",
    "window = sg.Window(\"Demo Search Engine\", layout, size=(1440, 850))\n",
    "\n",
    "#I hardcoded such that it will only search for values in 'type' field, \n",
    "#need to update to make it search for all fields\n",
    "\n",
    "#Also need to make the hyperlinks clickable\n",
    "\n",
    "\n",
    "# Create an event loop\n",
    "while True:\n",
    "    event, values = window.read()\n",
    "    #print(event, values)\n",
    "    # End program if user closes window or\n",
    "    # presses the OK button\n",
    "    if event == \"_QUIT_\" or event == sg.WIN_CLOSED:\n",
    "        break\n",
    "    if event == '_SEARCH_':\n",
    "        #window.FindElement('_output_').Update('')\n",
    "        q          = \"q=type%3A%\"\n",
    "        restype = \"22\" + values[0].capitalize() + \"%22\"\n",
    "        #print(q2)\n",
    "        q = q + restype\n",
    "        #fl         = \"fl=id,name\"\n",
    "        #fq         = \"fq=\"\n",
    "        rows       = \"rows=5\"\n",
    "        wt         = \"wt=json\"\n",
    "\n",
    "        params     = [ q, rows, wt ] \n",
    "        p          = \"&\".join(params)\n",
    "        \n",
    "        connection = request.urlopen(url+p)\n",
    "\n",
    "        if wt == \"wt=json\":\n",
    "              response = json.load(connection) \n",
    "        else:\n",
    "              response = eval(connection.read())\n",
    "                \n",
    "        #sample format of the url\n",
    "        #http://localhost:8983/solr/restaurant/select?q=type%3A%22Asian%22&rows=10&wt=json\n",
    "        \n",
    "        #searchAll(values)\n",
    "        lay = []\n",
    "        for i in range(len(response['response']['docs'])):\n",
    "        \n",
    "            lay.append(response['response']['docs'][i]['name'])\n",
    "            print(response['response']['docs'][i]['name'])\n",
    "            print(response['response']['docs'][i]['type'])\n",
    "            p = response['response']['docs'][i]['webpage'][0]\n",
    "            lay.append(p)\n",
    "            print(p)\n",
    "\n",
    "        window.Element('_listbox_').Update(values=lay)\n",
    "    if event == '_listbox_':\n",
    "        webbrowser.open(values['_listbox_'][0])\n",
    "\n",
    "window.close()"
   ]
  },
  {
   "cell_type": "code",
   "execution_count": null,
   "metadata": {},
   "outputs": [],
   "source": []
  },
  {
   "cell_type": "code",
   "execution_count": null,
   "metadata": {},
   "outputs": [],
   "source": []
  }
 ],
 "metadata": {
  "kernelspec": {
   "display_name": "Python 3",
   "language": "python",
   "name": "python3"
  },
  "language_info": {
   "codemirror_mode": {
    "name": "ipython",
    "version": 3
   },
   "file_extension": ".py",
   "mimetype": "text/x-python",
   "name": "python",
   "nbconvert_exporter": "python",
   "pygments_lexer": "ipython3",
   "version": "3.7.9"
  }
 },
 "nbformat": 4,
 "nbformat_minor": 4
}
