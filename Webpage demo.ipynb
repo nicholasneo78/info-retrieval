{
 "cells": [
  {
   "cell_type": "code",
   "execution_count": 1,
   "metadata": {},
   "outputs": [],
   "source": [
    "from urllib import *\n",
    "import json\n",
    "import regex as re\n",
    "import PySimpleGUI as sg"
   ]
  },
  {
   "cell_type": "code",
   "execution_count": 2,
   "metadata": {},
   "outputs": [],
   "source": [
    "connection = request.urlopen('http://localhost:8983/solr/restaurant/select?q=*%3A*&wt=json')"
   ]
  },
  {
   "cell_type": "code",
   "execution_count": 3,
   "metadata": {},
   "outputs": [
    {
     "name": "stdout",
     "output_type": "stream",
     "text": [
      "1013 documents found.\n"
     ]
    }
   ],
   "source": [
    "response = json.load(connection)\n",
    "print (response['response']['numFound'], \"documents found.\")"
   ]
  },
  {
   "cell_type": "code",
   "execution_count": 4,
   "metadata": {},
   "outputs": [
    {
     "name": "stdout",
     "output_type": "stream",
     "text": [
      "{'Positano @ RP': ['Italian', ' European', 'https://www.tripadvisor.com.sg/Restaurant_Review-g294265-d21180746-Reviews-Positano_RP-Singapore.html'], 'Grand Shanghai Restaurant': ['Chinese', ' Asian', 'https://www.tripadvisor.com.sg/Restaurant_Review-g294265-d1145149-Reviews-Grand_Shanghai_Restaurant-Singapore.html'], 'Fu Lin Men (NSRCC)': ['Chinese', ' Seafood', 'https://www.tripadvisor.com.sg/Restaurant_Review-g294265-d17171783-Reviews-Fu_Lin_Men_NSRCC-Singapore.html'], 'Entre-Nous creperie': ['French', ' European', 'https://www.tripadvisor.com.sg/Restaurant_Review-g294265-d1193730-Reviews-Entre_Nous_creperie-Singapore.html'], 'NOX - Dine in the Dark': ['European', ' Fusion', 'https://www.tripadvisor.com.sg/Restaurant_Review-g294265-d4611806-Reviews-NOX_Dine_in_the_Dark-Singapore.html'], 'The Mind Cafe': ['Cafe', ' Pub', 'https://www.tripadvisor.com.sg/Restaurant_Review-g294265-d2089644-Reviews-The_Mind_Cafe-Singapore.html'], 'Song Garden': ['Chinese', ' Asian', 'https://www.tripadvisor.com.sg/Restaurant_Review-g294265-d12310362-Reviews-Song_Garden-Singapore.html'], 'Fu Lin Men (CSC)': ['Chinese', ' Asian', 'https://www.tripadvisor.com.sg/Restaurant_Review-g294265-d13873832-Reviews-Fu_Lin_Men_CSC-Singapore.html'], 'Melt Cafe': ['International', 'https://www.tripadvisor.com.sg/Restaurant_Review-g294265-d785219-Reviews-Melt_Cafe-Singapore.html'], 'Positano Risto': ['Italian', ' Pizza', 'https://www.tripadvisor.com.sg/Restaurant_Review-g294265-d13152787-Reviews-Positano_Risto-Singapore.html']}\n",
      "\n"
     ]
    }
   ],
   "source": [
    "resname={}\n",
    "restype=[]\n",
    "reswebpage=[]\n",
    "for document in response['response']['docs']:\n",
    "    #print(\"Name =\", document['name'])\n",
    "    #print(\"Type =\", document['type'])\n",
    "    #print(\"Webpage =\", document['webpage'])\n",
    "    #print(\"\")\n",
    "    for item in document['name']:\n",
    "        item = re.sub(\"\\d+\\. \", \"\", item)\n",
    "        resname[item] = None\n",
    "        restype=[]\n",
    "        for items in document['type']:\n",
    "            restype.append(items)\n",
    "        for url in document['webpage']:\n",
    "            restype.append(url)\n",
    "        resname[item] = restype\n",
    "print(resname)\n",
    "#print(restype)\n",
    "print(\"\")\n",
    "def search(values):\n",
    "    term = values['TERM']\n",
    "    for key, value in resname.items():\n",
    "        if key == term:\n",
    "            print(\"Restaurant: \"+term)\n",
    "            print(\"Type:\")\n",
    "            for v in value:\n",
    "                if \"http\" in v:\n",
    "                    print(\"Website:\")\n",
    "                    print(v)\n",
    "                    return\n",
    "                print(v.replace(\" \",\"\"))\n",
    "            return\n",
    "    print(\"No results\")\n",
    "    return  \n",
    "        \n",
    "#search('Grand Shanghai Restaurant')"
   ]
  },
  {
   "cell_type": "code",
   "execution_count": 5,
   "metadata": {},
   "outputs": [
    {
     "name": "stdout",
     "output_type": "stream",
     "text": [
      "* Error performing wm_overrideredirect *\n"
     ]
    }
   ],
   "source": [
    "layout = [[sg.Text('Search'),sg.Input(size=(20,1),key=\"TERM\"), sg.Button('Search', bind_return_key=True, key=\"_SEARCH_\")],\n",
    "          [sg.Button(\"Quit\", key = '_QUIT_')],\n",
    "          [sg.Output(size=(40,10), key = '_output_')]]\n",
    "\n",
    "# Create the window\n",
    "window = sg.Window(\"Demo Search Engine\", layout, margins=(30, 30))\n",
    "\n",
    "# Create an event loop\n",
    "while True:\n",
    "    event, values = window.read()\n",
    "    #print(event, values)\n",
    "    # End program if user closes window or\n",
    "    # presses the OK button\n",
    "    if event == \"_QUIT_\" or event == sg.WIN_CLOSED:\n",
    "        break\n",
    "    elif event == '_SEARCH_':\n",
    "        window.FindElement('_output_').Update('')\n",
    "        search(values)\n",
    "\n",
    "window.close()"
   ]
  },
  {
   "cell_type": "code",
   "execution_count": null,
   "metadata": {},
   "outputs": [],
   "source": []
  }
 ],
 "metadata": {
  "kernelspec": {
   "display_name": "Python 3",
   "language": "python",
   "name": "python3"
  },
  "language_info": {
   "codemirror_mode": {
    "name": "ipython",
    "version": 3
   },
   "file_extension": ".py",
   "mimetype": "text/x-python",
   "name": "python",
   "nbconvert_exporter": "python",
   "pygments_lexer": "ipython3",
   "version": "3.7.9"
  }
 },
 "nbformat": 4,
 "nbformat_minor": 4
}
