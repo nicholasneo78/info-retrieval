{
 "cells": [
  {
   "cell_type": "code",
   "execution_count": 3,
   "metadata": {},
   "outputs": [],
   "source": [
    "# import necessary libraries\n",
    "from requests import get\n",
    "import matplotlib.pyplot as plt\n",
    "from bs4 import BeautifulSoup\n",
    "import pandas as pd\n",
    "from time import sleep\n",
    "from random import randint\n",
    "from time import time \n",
    "from IPython.core.display import clear_output\n",
    "from warnings import warn\n",
    "import datetime"
   ]
  },
  {
   "cell_type": "markdown",
   "metadata": {},
   "source": [
    "## Small test to automate re-scraping if it fails"
   ]
  },
  {
   "cell_type": "code",
   "execution_count": 13,
   "metadata": {},
   "outputs": [
    {
     "name": "stdout",
     "output_type": "stream",
     "text": [
      "<class 'bs4.element.ResultSet'>\n",
      "20\n"
     ]
    }
   ],
   "source": [
    "# flag variable to check the scrape\n",
    "# if unsuccessful scrape, try again\n",
    "unsuccessful = True\n",
    "#count = 0\n",
    "while unsuccessful:\n",
    "    url = 'https://www.yelp.com/biz/tian-tian-hainanese-chicken-rice-singapore-7?start=0'\n",
    "    # make request to the site\n",
    "    response = get(url)\n",
    "    html_soup = BeautifulSoup(response.text,'html.parser')\n",
    "    \n",
    "    # find all with the same class tag\n",
    "    res_containers = html_soup.find_all('div', class_='review__373c0__13kpL border-color--default__373c0__3-ifU')\n",
    "    print(type(res_containers))\n",
    "    # check the number entries in a page and to determine the next page value for skipping\n",
    "    print(len(res_containers))\n",
    "    \n",
    "    # pause the loop\n",
    "    sleep(randint(2,5))\n",
    "    \n",
    "    if len(res_containers) != 0:\n",
    "        unsuccessful = False"
   ]
  },
  {
   "cell_type": "code",
   "execution_count": 14,
   "metadata": {},
   "outputs": [],
   "source": [
    "# testing\n",
    "# values in the tags of the second entry\n",
    "first_comment = res_containers[1]\n",
    "#first_comment"
   ]
  },
  {
   "cell_type": "code",
   "execution_count": 15,
   "metadata": {},
   "outputs": [
    {
     "data": {
      "text/plain": [
       "'Vivian D.'"
      ]
     },
     "execution_count": 15,
     "metadata": {},
     "output_type": "execute_result"
    }
   ],
   "source": [
    "# get name of first customer\n",
    "cust_name = first_comment.div.find('a', class_='link__373c0__1G70M link-color--inherit__373c0__3dzpk link-size--inherit__373c0__1VFlE').text\n",
    "cust_name"
   ]
  },
  {
   "cell_type": "markdown",
   "metadata": {},
   "source": [
    "## Get restaurant type at the header"
   ]
  },
  {
   "cell_type": "code",
   "execution_count": 97,
   "metadata": {},
   "outputs": [
    {
     "name": "stdout",
     "output_type": "stream",
     "text": [
      "Restaurant type: Hainan, Chicken Shop, "
     ]
    }
   ],
   "source": [
    "res_containers1 = html_soup.find_all('span', class_='display--inline__373c0__3JqBP margin-r1__373c0__zyKmV border-color--default__373c0__3-ifU')\n",
    "#print(res_containers1[2]) # the corresponding res words are there\n",
    "res_type = res_containers1[2].find_all('a', class_= 'link__373c0__1G70M link-color--inherit__373c0__3dzpk link-size--inherit__373c0__1VFlE')\n",
    "print(\"Restaurant type:\", end=' ')\n",
    "res_list = []\n",
    "for res in res_type:\n",
    "    print(res.get_text(), end=', ')\n",
    "    res_list.append(res.get_text())"
   ]
  },
  {
   "cell_type": "code",
   "execution_count": 10,
   "metadata": {},
   "outputs": [
    {
     "name": "stdout",
     "output_type": "stream",
     "text": [
      "Restaurant name: Tian Tian Hainanese Chicken Rice\n"
     ]
    }
   ],
   "source": [
    "# get restaurant name\n",
    "res_name = html_soup.find('h1', class_='heading--h1__373c0__dvYgw undefined heading--inline__373c0__10ozy').text\n",
    "print(f\"Restaurant name: {res_name}\")"
   ]
  },
  {
   "cell_type": "markdown",
   "metadata": {},
   "source": [
    "## Actual Scraping"
   ]
  },
  {
   "cell_type": "code",
   "execution_count": 81,
   "metadata": {},
   "outputs": [
    {
     "name": "stdout",
     "output_type": "stream",
     "text": [
      "['0', '20', '40', '60', '80', '100', '120', '140', '160', '180', '200', '220', '240'] "
     ]
    }
   ],
   "source": [
    "# get the start value for every new page in yelp\n",
    "start = [str(i) for i in range(0,241,20)]\n",
    "# debug\n",
    "print(start, end=' ')"
   ]
  },
  {
   "cell_type": "code",
   "execution_count": 82,
   "metadata": {},
   "outputs": [
    {
     "name": "stdout",
     "output_type": "stream",
     "text": [
      "Request 1: SUCCESS --> Failed Count: 3\n",
      "Request 2: SUCCESS --> Failed Count: 2\n"
     ]
    },
    {
     "name": "stderr",
     "output_type": "stream",
     "text": [
      "C:\\Users\\nicholasneo78\\AppData\\Roaming\\Python\\Python37\\site-packages\\ipykernel_launcher.py:33: UserWarning: Number of requests was greater than expected.\n"
     ]
    }
   ],
   "source": [
    "# redeclaring lists to store data in\n",
    "res_names = []\n",
    "res_types = []\n",
    "\n",
    "# multiple values\n",
    "cust_names_iter = [] # a conditioning list to check if scrape is unsuccessful\n",
    "\n",
    "cust_names = []\n",
    "cust_ratings = []\n",
    "cust_dates = []\n",
    "cust_comments = []\n",
    "\n",
    "# number of requests\n",
    "REQUESTS = 2\n",
    "\n",
    "# flag variable to check the scrape\n",
    "# if unsuccessful scrape, try again\n",
    "unsuccessful = True\n",
    "\n",
    "# preparing the monitoring of the loop\n",
    "start_time = time()\n",
    "requests = 1 # start request with request 1\n",
    "\n",
    "# for every comment in the interval of 20\n",
    "for pageStart in start:\n",
    "    \n",
    "    # Throw a warning for non-200 status codes\n",
    "    if response.status_code != 200:\n",
    "        warn('Request: {}; Status code: {}'.format(requests, response.status_code))\n",
    "\n",
    "    # Break the loop if the number of requests is greater than expected\n",
    "    if requests > REQUESTS:\n",
    "        warn('Number of requests was greater than expected.')\n",
    "        break\n",
    "        \n",
    "    unsuccessful = True\n",
    "    fail_count = 0\n",
    "    while unsuccessful:\n",
    "        # make a get request\n",
    "        response = get(f'https://www.yelp.com/biz/jumbo-seafood-singapore-4?start={pageStart}')\n",
    "        \n",
    "        # pause the loop\n",
    "        sleep(randint(3,5))\n",
    "\n",
    "        # monitor the requests\n",
    "        elapsed_time = time() - start_time\n",
    "        print(f'Request {requests}; Frequency: {requests/elapsed_time} requests/s')\n",
    "        clear_output(wait = True)\n",
    "\n",
    "        # Parse the content of the request with BeautifulSoup\n",
    "        page_html = BeautifulSoup(response.text, 'html.parser')\n",
    "\n",
    "        # get the comment container for all 20 comments in a page\n",
    "        comment_containers = page_html.find_all('div', class_='review__373c0__13kpL border-color--default__373c0__3-ifU')\n",
    "        \n",
    "        if len(comment_containers) != 0:\n",
    "            print(f\"Request {requests}: SUCCESS --> Failed Count: {fail_count}\")\n",
    "            unsuccessful = False\n",
    "        else:\n",
    "            fail_count+=1\n",
    "            #print(f\"Request {requests}: unsuccessful scrape\") # debug\n",
    "            pass\n",
    "    requests += 1\n",
    "    \n",
    "    # for every comments in 20\n",
    "    for com in comment_containers:\n",
    "        \n",
    "        # scrape the customer name\n",
    "        cust_name = com.div.find('a', class_='link__373c0__1G70M link-color--inherit__373c0__3dzpk link-size--inherit__373c0__1VFlE').text\n",
    "        cust_names.append(cust_name)\n",
    "        \n",
    "        # scrape the customer ratings\n",
    "        cust_rating = com.find('div', class_='arrange__373c0__2C9bH gutter-1__373c0__2l5bx vertical-align-middle__373c0__1SDTo border-color--default__373c0__3-ifU').span.div['aria-label']\n",
    "        cust_ratings.append(cust_rating)\n",
    "        \n",
    "        # scrape customer date\n",
    "        cust_date_raw = com.find('div', class_='arrange__373c0__2C9bH gutter-1__373c0__2l5bx vertical-align-middle__373c0__1SDTo border-color--default__373c0__3-ifU').text\n",
    "        #cust_date = datetime.datetime.strptime(cust_date_raw, '%m/%d/%Y').strftime('%Y-%m-%d')\n",
    "        cust_dates.append(cust_date_raw)\n",
    "        \n",
    "        # scrape the customer comment\n",
    "        cust_comment_raw = com.find_all('div', class_='margin-b2__373c0__abANL border-color--default__373c0__3-ifU')\n",
    "        if len(cust_comment_raw) != 1:\n",
    "            temp = cust_comment_raw[1].text\n",
    "        else:\n",
    "            temp = cust_comment_raw[0].text\n",
    "            \n",
    "        cust_comment = temp.replace(u'\\xa0', u'')\n",
    "        cust_comments.append(cust_comment)\n",
    "                "
   ]
  },
  {
   "cell_type": "code",
   "execution_count": 83,
   "metadata": {},
   "outputs": [
    {
     "data": {
      "text/plain": [
       "40"
      ]
     },
     "execution_count": 83,
     "metadata": {},
     "output_type": "execute_result"
    }
   ],
   "source": [
    "# check the number of entries\n",
    "len(cust_names)"
   ]
  },
  {
   "cell_type": "code",
   "execution_count": 84,
   "metadata": {},
   "outputs": [],
   "source": [
    "# debug: take a look at the data entries\n",
    "#print(cust_names)\n",
    "#print(cust_ratings)\n",
    "#print(cust_dates)\n",
    "#print(cust_comments)"
   ]
  },
  {
   "cell_type": "markdown",
   "metadata": {},
   "source": [
    "## Fit values scraped into a dataframe"
   ]
  },
  {
   "cell_type": "code",
   "execution_count": 104,
   "metadata": {},
   "outputs": [
    {
     "name": "stdout",
     "output_type": "stream",
     "text": [
      "<class 'pandas.core.frame.DataFrame'>\n",
      "RangeIndex: 40 entries, 0 to 39\n",
      "Data columns (total 6 columns):\n",
      " #   Column           Non-Null Count  Dtype         \n",
      "---  ------           --------------  -----         \n",
      " 0   Reviewer's Name  40 non-null     object        \n",
      " 1   Rating           40 non-null     object        \n",
      " 2   Date             40 non-null     datetime64[ns]\n",
      " 3   Comment          40 non-null     object        \n",
      " 4   Restaurant Type  40 non-null     object        \n",
      " 5   Restaurant Name  40 non-null     object        \n",
      "dtypes: datetime64[ns](1), object(5)\n",
      "memory usage: 2.0+ KB\n",
      "None\n"
     ]
    }
   ],
   "source": [
    "cust_review = pd.DataFrame({\n",
    "    'Reviewer\\'s Name': cust_names,\n",
    "    'Rating': cust_ratings,\n",
    "    'Date': cust_dates,\n",
    "    'Comment': cust_comments,\n",
    "})\n",
    "cust_review['Rating'] = cust_review['Rating'].map(lambda x: x.rstrip('star rating'))\n",
    "cust_review['Date'] = cust_review['Date'].map(lambda x: x.rstrip('Updated review'))\n",
    "# convert date time to standardised format\n",
    "cust_review['Date'] = pd.to_datetime(cust_review['Date'], format='%m/%d/%Y')\n",
    "\n",
    "# append 2 new columns to identify the store name and its type\n",
    "cust_review['Restaurant Type'] = str(res_list)\n",
    "cust_review['Restaurant Name'] = res_name\n",
    "\n",
    "print(cust_review.info())"
   ]
  },
  {
   "cell_type": "code",
   "execution_count": 105,
   "metadata": {},
   "outputs": [
    {
     "data": {
      "text/html": [
       "<div>\n",
       "<style scoped>\n",
       "    .dataframe tbody tr th:only-of-type {\n",
       "        vertical-align: middle;\n",
       "    }\n",
       "\n",
       "    .dataframe tbody tr th {\n",
       "        vertical-align: top;\n",
       "    }\n",
       "\n",
       "    .dataframe thead th {\n",
       "        text-align: right;\n",
       "    }\n",
       "</style>\n",
       "<table border=\"1\" class=\"dataframe\">\n",
       "  <thead>\n",
       "    <tr style=\"text-align: right;\">\n",
       "      <th></th>\n",
       "      <th>Reviewer's Name</th>\n",
       "      <th>Rating</th>\n",
       "      <th>Date</th>\n",
       "      <th>Comment</th>\n",
       "      <th>Restaurant Type</th>\n",
       "      <th>Restaurant Name</th>\n",
       "    </tr>\n",
       "  </thead>\n",
       "  <tbody>\n",
       "    <tr>\n",
       "      <th>0</th>\n",
       "      <td>Margot C.</td>\n",
       "      <td>5</td>\n",
       "      <td>2020-03-19</td>\n",
       "      <td>My boyfriend and I came here for dinner while ...</td>\n",
       "      <td>['Hainan', 'Chicken Shop']</td>\n",
       "      <td>Tian Tian Hainanese Chicken Rice</td>\n",
       "    </tr>\n",
       "    <tr>\n",
       "      <th>1</th>\n",
       "      <td>Kira N.</td>\n",
       "      <td>4</td>\n",
       "      <td>2020-02-10</td>\n",
       "      <td>196 SGD (Singapore Dollar) for some crab and f...</td>\n",
       "      <td>['Hainan', 'Chicken Shop']</td>\n",
       "      <td>Tian Tian Hainanese Chicken Rice</td>\n",
       "    </tr>\n",
       "    <tr>\n",
       "      <th>2</th>\n",
       "      <td>Diane C.</td>\n",
       "      <td>2</td>\n",
       "      <td>2019-11-19</td>\n",
       "      <td>Holy cow! Totally wish we stuck with the stree...</td>\n",
       "      <td>['Hainan', 'Chicken Shop']</td>\n",
       "      <td>Tian Tian Hainanese Chicken Rice</td>\n",
       "    </tr>\n",
       "    <tr>\n",
       "      <th>3</th>\n",
       "      <td>Steve H.</td>\n",
       "      <td>5</td>\n",
       "      <td>2019-12-08</td>\n",
       "      <td>Jumbo seafood is the place to go for crabs. My...</td>\n",
       "      <td>['Hainan', 'Chicken Shop']</td>\n",
       "      <td>Tian Tian Hainanese Chicken Rice</td>\n",
       "    </tr>\n",
       "    <tr>\n",
       "      <th>4</th>\n",
       "      <td>Lan T.</td>\n",
       "      <td>4</td>\n",
       "      <td>2019-08-21</td>\n",
       "      <td>During my 3 days stay in Singapore in March of...</td>\n",
       "      <td>['Hainan', 'Chicken Shop']</td>\n",
       "      <td>Tian Tian Hainanese Chicken Rice</td>\n",
       "    </tr>\n",
       "    <tr>\n",
       "      <th>5</th>\n",
       "      <td>Kevin C.</td>\n",
       "      <td>4</td>\n",
       "      <td>2019-08-19</td>\n",
       "      <td>A Singapore institution that never disappoints...</td>\n",
       "      <td>['Hainan', 'Chicken Shop']</td>\n",
       "      <td>Tian Tian Hainanese Chicken Rice</td>\n",
       "    </tr>\n",
       "    <tr>\n",
       "      <th>6</th>\n",
       "      <td>Prima S.</td>\n",
       "      <td>4</td>\n",
       "      <td>2020-03-08</td>\n",
       "      <td>I was recommended this restaurant by someone w...</td>\n",
       "      <td>['Hainan', 'Chicken Shop']</td>\n",
       "      <td>Tian Tian Hainanese Chicken Rice</td>\n",
       "    </tr>\n",
       "    <tr>\n",
       "      <th>7</th>\n",
       "      <td>Yi Z.</td>\n",
       "      <td>5</td>\n",
       "      <td>2019-05-03</td>\n",
       "      <td>I am aware that Jumbo Seafood is a total touri...</td>\n",
       "      <td>['Hainan', 'Chicken Shop']</td>\n",
       "      <td>Tian Tian Hainanese Chicken Rice</td>\n",
       "    </tr>\n",
       "    <tr>\n",
       "      <th>8</th>\n",
       "      <td>Rita K.</td>\n",
       "      <td>2</td>\n",
       "      <td>2019-04-05</td>\n",
       "      <td>Underwhelmed by the flavors and quality of the...</td>\n",
       "      <td>['Hainan', 'Chicken Shop']</td>\n",
       "      <td>Tian Tian Hainanese Chicken Rice</td>\n",
       "    </tr>\n",
       "    <tr>\n",
       "      <th>9</th>\n",
       "      <td>Lyssa A.</td>\n",
       "      <td>5</td>\n",
       "      <td>2019-03-16</td>\n",
       "      <td>Came for the chili crab and was NOT disappoint...</td>\n",
       "      <td>['Hainan', 'Chicken Shop']</td>\n",
       "      <td>Tian Tian Hainanese Chicken Rice</td>\n",
       "    </tr>\n",
       "    <tr>\n",
       "      <th>10</th>\n",
       "      <td>West C.</td>\n",
       "      <td>1</td>\n",
       "      <td>2020-01-03</td>\n",
       "      <td>Someone at the hotelWhere I am staying recomme...</td>\n",
       "      <td>['Hainan', 'Chicken Shop']</td>\n",
       "      <td>Tian Tian Hainanese Chicken Rice</td>\n",
       "    </tr>\n",
       "    <tr>\n",
       "      <th>11</th>\n",
       "      <td>Victoria E.</td>\n",
       "      <td>4</td>\n",
       "      <td>2018-08-02</td>\n",
       "      <td>Salted egg coated food. That's what this place...</td>\n",
       "      <td>['Hainan', 'Chicken Shop']</td>\n",
       "      <td>Tian Tian Hainanese Chicken Rice</td>\n",
       "    </tr>\n",
       "    <tr>\n",
       "      <th>12</th>\n",
       "      <td>Julia C.</td>\n",
       "      <td>3</td>\n",
       "      <td>2018-12-26</td>\n",
       "      <td>I really don't get the hype. A single chili cr...</td>\n",
       "      <td>['Hainan', 'Chicken Shop']</td>\n",
       "      <td>Tian Tian Hainanese Chicken Rice</td>\n",
       "    </tr>\n",
       "    <tr>\n",
       "      <th>13</th>\n",
       "      <td>David K.</td>\n",
       "      <td>5</td>\n",
       "      <td>2018-12-21</td>\n",
       "      <td>A must-visit for visitors to Singapore, Jumbo ...</td>\n",
       "      <td>['Hainan', 'Chicken Shop']</td>\n",
       "      <td>Tian Tian Hainanese Chicken Rice</td>\n",
       "    </tr>\n",
       "    <tr>\n",
       "      <th>14</th>\n",
       "      <td>Mark B.</td>\n",
       "      <td>5</td>\n",
       "      <td>2018-02-13</td>\n",
       "      <td>Three things my Buds from the Red Dot said I m...</td>\n",
       "      <td>['Hainan', 'Chicken Shop']</td>\n",
       "      <td>Tian Tian Hainanese Chicken Rice</td>\n",
       "    </tr>\n",
       "    <tr>\n",
       "      <th>15</th>\n",
       "      <td>Tuan T.</td>\n",
       "      <td>5</td>\n",
       "      <td>2019-10-23</td>\n",
       "      <td>Went here during a business trip. Had to stop ...</td>\n",
       "      <td>['Hainan', 'Chicken Shop']</td>\n",
       "      <td>Tian Tian Hainanese Chicken Rice</td>\n",
       "    </tr>\n",
       "    <tr>\n",
       "      <th>16</th>\n",
       "      <td>Karen C.</td>\n",
       "      <td>5</td>\n",
       "      <td>2018-01-23</td>\n",
       "      <td>A must-try when you're in Singapore. SO YUM. I...</td>\n",
       "      <td>['Hainan', 'Chicken Shop']</td>\n",
       "      <td>Tian Tian Hainanese Chicken Rice</td>\n",
       "    </tr>\n",
       "    <tr>\n",
       "      <th>17</th>\n",
       "      <td>Phillip V.</td>\n",
       "      <td>4</td>\n",
       "      <td>2019-08-01</td>\n",
       "      <td>Everything about this place was great aside fr...</td>\n",
       "      <td>['Hainan', 'Chicken Shop']</td>\n",
       "      <td>Tian Tian Hainanese Chicken Rice</td>\n",
       "    </tr>\n",
       "    <tr>\n",
       "      <th>18</th>\n",
       "      <td>Em D.</td>\n",
       "      <td>3</td>\n",
       "      <td>2020-01-05</td>\n",
       "      <td>Not worth the hype. Crab was good, but service...</td>\n",
       "      <td>['Hainan', 'Chicken Shop']</td>\n",
       "      <td>Tian Tian Hainanese Chicken Rice</td>\n",
       "    </tr>\n",
       "    <tr>\n",
       "      <th>19</th>\n",
       "      <td>Jeong P.</td>\n",
       "      <td>4</td>\n",
       "      <td>2017-07-28</td>\n",
       "      <td>If chili crab is something you must try when v...</td>\n",
       "      <td>['Hainan', 'Chicken Shop']</td>\n",
       "      <td>Tian Tian Hainanese Chicken Rice</td>\n",
       "    </tr>\n",
       "  </tbody>\n",
       "</table>\n",
       "</div>"
      ],
      "text/plain": [
       "   Reviewer's Name Rating       Date  \\\n",
       "0        Margot C.      5 2020-03-19   \n",
       "1          Kira N.      4 2020-02-10   \n",
       "2         Diane C.      2 2019-11-19   \n",
       "3         Steve H.      5 2019-12-08   \n",
       "4           Lan T.      4 2019-08-21   \n",
       "5         Kevin C.      4 2019-08-19   \n",
       "6         Prima S.      4 2020-03-08   \n",
       "7            Yi Z.      5 2019-05-03   \n",
       "8          Rita K.      2 2019-04-05   \n",
       "9         Lyssa A.      5 2019-03-16   \n",
       "10         West C.      1 2020-01-03   \n",
       "11     Victoria E.      4 2018-08-02   \n",
       "12        Julia C.      3 2018-12-26   \n",
       "13        David K.      5 2018-12-21   \n",
       "14         Mark B.      5 2018-02-13   \n",
       "15         Tuan T.      5 2019-10-23   \n",
       "16        Karen C.      5 2018-01-23   \n",
       "17      Phillip V.      4 2019-08-01   \n",
       "18           Em D.      3 2020-01-05   \n",
       "19        Jeong P.      4 2017-07-28   \n",
       "\n",
       "                                              Comment  \\\n",
       "0   My boyfriend and I came here for dinner while ...   \n",
       "1   196 SGD (Singapore Dollar) for some crab and f...   \n",
       "2   Holy cow! Totally wish we stuck with the stree...   \n",
       "3   Jumbo seafood is the place to go for crabs. My...   \n",
       "4   During my 3 days stay in Singapore in March of...   \n",
       "5   A Singapore institution that never disappoints...   \n",
       "6   I was recommended this restaurant by someone w...   \n",
       "7   I am aware that Jumbo Seafood is a total touri...   \n",
       "8   Underwhelmed by the flavors and quality of the...   \n",
       "9   Came for the chili crab and was NOT disappoint...   \n",
       "10  Someone at the hotelWhere I am staying recomme...   \n",
       "11  Salted egg coated food. That's what this place...   \n",
       "12  I really don't get the hype. A single chili cr...   \n",
       "13  A must-visit for visitors to Singapore, Jumbo ...   \n",
       "14  Three things my Buds from the Red Dot said I m...   \n",
       "15  Went here during a business trip. Had to stop ...   \n",
       "16  A must-try when you're in Singapore. SO YUM. I...   \n",
       "17  Everything about this place was great aside fr...   \n",
       "18  Not worth the hype. Crab was good, but service...   \n",
       "19  If chili crab is something you must try when v...   \n",
       "\n",
       "               Restaurant Type                   Restaurant Name  \n",
       "0   ['Hainan', 'Chicken Shop']  Tian Tian Hainanese Chicken Rice  \n",
       "1   ['Hainan', 'Chicken Shop']  Tian Tian Hainanese Chicken Rice  \n",
       "2   ['Hainan', 'Chicken Shop']  Tian Tian Hainanese Chicken Rice  \n",
       "3   ['Hainan', 'Chicken Shop']  Tian Tian Hainanese Chicken Rice  \n",
       "4   ['Hainan', 'Chicken Shop']  Tian Tian Hainanese Chicken Rice  \n",
       "5   ['Hainan', 'Chicken Shop']  Tian Tian Hainanese Chicken Rice  \n",
       "6   ['Hainan', 'Chicken Shop']  Tian Tian Hainanese Chicken Rice  \n",
       "7   ['Hainan', 'Chicken Shop']  Tian Tian Hainanese Chicken Rice  \n",
       "8   ['Hainan', 'Chicken Shop']  Tian Tian Hainanese Chicken Rice  \n",
       "9   ['Hainan', 'Chicken Shop']  Tian Tian Hainanese Chicken Rice  \n",
       "10  ['Hainan', 'Chicken Shop']  Tian Tian Hainanese Chicken Rice  \n",
       "11  ['Hainan', 'Chicken Shop']  Tian Tian Hainanese Chicken Rice  \n",
       "12  ['Hainan', 'Chicken Shop']  Tian Tian Hainanese Chicken Rice  \n",
       "13  ['Hainan', 'Chicken Shop']  Tian Tian Hainanese Chicken Rice  \n",
       "14  ['Hainan', 'Chicken Shop']  Tian Tian Hainanese Chicken Rice  \n",
       "15  ['Hainan', 'Chicken Shop']  Tian Tian Hainanese Chicken Rice  \n",
       "16  ['Hainan', 'Chicken Shop']  Tian Tian Hainanese Chicken Rice  \n",
       "17  ['Hainan', 'Chicken Shop']  Tian Tian Hainanese Chicken Rice  \n",
       "18  ['Hainan', 'Chicken Shop']  Tian Tian Hainanese Chicken Rice  \n",
       "19  ['Hainan', 'Chicken Shop']  Tian Tian Hainanese Chicken Rice  "
      ]
     },
     "execution_count": 105,
     "metadata": {},
     "output_type": "execute_result"
    }
   ],
   "source": [
    "cust_review.head(20)"
   ]
  },
  {
   "cell_type": "code",
   "execution_count": 106,
   "metadata": {},
   "outputs": [],
   "source": [
    "cust_review.to_csv('./data/chicken_rice_comments.csv', index=False)"
   ]
  },
  {
   "cell_type": "code",
   "execution_count": null,
   "metadata": {},
   "outputs": [],
   "source": []
  }
 ],
 "metadata": {
  "kernelspec": {
   "display_name": "Python 3",
   "language": "python",
   "name": "python3"
  },
  "language_info": {
   "codemirror_mode": {
    "name": "ipython",
    "version": 3
   },
   "file_extension": ".py",
   "mimetype": "text/x-python",
   "name": "python",
   "nbconvert_exporter": "python",
   "pygments_lexer": "ipython3",
   "version": "3.7.7"
  }
 },
 "nbformat": 4,
 "nbformat_minor": 4
}
