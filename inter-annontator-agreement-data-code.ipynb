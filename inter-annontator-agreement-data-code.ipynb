{
 "cells": [
  {
   "cell_type": "code",
   "execution_count": 127,
   "metadata": {},
   "outputs": [],
   "source": [
    "import numpy as np\n",
    "import pandas as pd"
   ]
  },
  {
   "cell_type": "markdown",
   "metadata": {},
   "source": [
    "## Basic"
   ]
  },
  {
   "cell_type": "code",
   "execution_count": 128,
   "metadata": {},
   "outputs": [
    {
     "data": {
      "text/html": [
       "<div>\n",
       "<style scoped>\n",
       "    .dataframe tbody tr th:only-of-type {\n",
       "        vertical-align: middle;\n",
       "    }\n",
       "\n",
       "    .dataframe tbody tr th {\n",
       "        vertical-align: top;\n",
       "    }\n",
       "\n",
       "    .dataframe thead th {\n",
       "        text-align: right;\n",
       "    }\n",
       "</style>\n",
       "<table border=\"1\" class=\"dataframe\">\n",
       "  <thead>\n",
       "    <tr style=\"text-align: right;\">\n",
       "      <th></th>\n",
       "      <th>Restaurant Name</th>\n",
       "      <th>Restaurant Type</th>\n",
       "      <th>Reviewer's Name</th>\n",
       "      <th>Rating</th>\n",
       "      <th>Comment</th>\n",
       "    </tr>\n",
       "  </thead>\n",
       "  <tbody>\n",
       "    <tr>\n",
       "      <th>0</th>\n",
       "      <td>Positano @ RP</td>\n",
       "      <td>Italian, European</td>\n",
       "      <td>aisvslife98</td>\n",
       "      <td>5</td>\n",
       "      <td>I enjoyed my time here with my girlfriends! Fa...</td>\n",
       "    </tr>\n",
       "    <tr>\n",
       "      <th>1</th>\n",
       "      <td>Positano @ RP</td>\n",
       "      <td>Italian, European</td>\n",
       "      <td>Odyssey44198198885</td>\n",
       "      <td>5</td>\n",
       "      <td>Wonderful and amazing service experience. Defi...</td>\n",
       "    </tr>\n",
       "    <tr>\n",
       "      <th>2</th>\n",
       "      <td>Positano @ RP</td>\n",
       "      <td>Italian, European</td>\n",
       "      <td>Ninifazelin</td>\n",
       "      <td>5</td>\n",
       "      <td>Great food and wonderful service! Will definit...</td>\n",
       "    </tr>\n",
       "    <tr>\n",
       "      <th>3</th>\n",
       "      <td>Positano @ RP</td>\n",
       "      <td>Italian, European</td>\n",
       "      <td>Amaliamazlan</td>\n",
       "      <td>5</td>\n",
       "      <td>Not my first time in Positano and definitely w...</td>\n",
       "    </tr>\n",
       "    <tr>\n",
       "      <th>4</th>\n",
       "      <td>Positano @ RP</td>\n",
       "      <td>Italian, European</td>\n",
       "      <td>Shahzanstim</td>\n",
       "      <td>5</td>\n",
       "      <td>Excellent service from the staff. The beef was...</td>\n",
       "    </tr>\n",
       "  </tbody>\n",
       "</table>\n",
       "</div>"
      ],
      "text/plain": [
       "  Restaurant Name    Restaurant Type     Reviewer's Name  Rating  \\\n",
       "0   Positano @ RP  Italian, European         aisvslife98       5   \n",
       "1   Positano @ RP  Italian, European  Odyssey44198198885       5   \n",
       "2   Positano @ RP  Italian, European         Ninifazelin       5   \n",
       "3   Positano @ RP  Italian, European        Amaliamazlan       5   \n",
       "4   Positano @ RP  Italian, European         Shahzanstim       5   \n",
       "\n",
       "                                             Comment  \n",
       "0  I enjoyed my time here with my girlfriends! Fa...  \n",
       "1  Wonderful and amazing service experience. Defi...  \n",
       "2  Great food and wonderful service! Will definit...  \n",
       "3  Not my first time in Positano and definitely w...  \n",
       "4  Excellent service from the staff. The beef was...  "
      ]
     },
     "execution_count": 128,
     "metadata": {},
     "output_type": "execute_result"
    }
   ],
   "source": [
    "# import the scraped data\n",
    "data_raw_ = pd.read_csv('./data/trip-advisor-comments.csv')\n",
    "data_raw_.head()"
   ]
  },
  {
   "cell_type": "code",
   "execution_count": 129,
   "metadata": {},
   "outputs": [
    {
     "data": {
      "text/plain": [
       "(97190, 5)"
      ]
     },
     "execution_count": 129,
     "metadata": {},
     "output_type": "execute_result"
    }
   ],
   "source": [
    "data_raw_.shape"
   ]
  },
  {
   "cell_type": "code",
   "execution_count": 130,
   "metadata": {},
   "outputs": [
    {
     "data": {
      "text/plain": [
       "(88045, 5)"
      ]
     },
     "execution_count": 130,
     "metadata": {},
     "output_type": "execute_result"
    }
   ],
   "source": [
    "# remove duplicates in the data\n",
    "data_raw = data_raw_.drop_duplicates(subset={\"Reviewer\\'s Name\",\"Rating\",\"Comment\"}, keep='first', inplace=False)\n",
    "data_raw.shape"
   ]
  },
  {
   "cell_type": "code",
   "execution_count": 131,
   "metadata": {},
   "outputs": [
    {
     "data": {
      "text/plain": [
       "90.5905957403025"
      ]
     },
     "execution_count": 131,
     "metadata": {},
     "output_type": "execute_result"
    }
   ],
   "source": [
    "#Checking to see how much % of data still remains after removing duplications\n",
    "(data_raw['Reviewer\\'s Name'].size*1.0)/(data_raw_['Reviewer\\'s Name'].size*1.0)*100"
   ]
  },
  {
   "cell_type": "code",
   "execution_count": 132,
   "metadata": {},
   "outputs": [
    {
     "data": {
      "text/plain": [
       "5    46304\n",
       "4    25978\n",
       "3     8837\n",
       "1     3464\n",
       "2     3462\n",
       "Name: Rating, dtype: int64"
      ]
     },
     "execution_count": 132,
     "metadata": {},
     "output_type": "execute_result"
    }
   ],
   "source": [
    "# check distribution of the data's rating label\n",
    "data_raw['Rating'].value_counts()"
   ]
  },
  {
   "cell_type": "code",
   "execution_count": null,
   "metadata": {},
   "outputs": [],
   "source": []
  },
  {
   "cell_type": "markdown",
   "metadata": {},
   "source": [
    "## Choosing the data\n",
    "We will want the comments to be longer as it will be more informative for the annontator"
   ]
  },
  {
   "cell_type": "code",
   "execution_count": 152,
   "metadata": {},
   "outputs": [],
   "source": [
    "# a constant that removes the entries either less than this amount of words\n",
    "N = 30"
   ]
  },
  {
   "cell_type": "code",
   "execution_count": 153,
   "metadata": {},
   "outputs": [
    {
     "data": {
      "text/html": [
       "<div>\n",
       "<style scoped>\n",
       "    .dataframe tbody tr th:only-of-type {\n",
       "        vertical-align: middle;\n",
       "    }\n",
       "\n",
       "    .dataframe tbody tr th {\n",
       "        vertical-align: top;\n",
       "    }\n",
       "\n",
       "    .dataframe thead th {\n",
       "        text-align: right;\n",
       "    }\n",
       "</style>\n",
       "<table border=\"1\" class=\"dataframe\">\n",
       "  <thead>\n",
       "    <tr style=\"text-align: right;\">\n",
       "      <th></th>\n",
       "      <th>Restaurant Name</th>\n",
       "      <th>Restaurant Type</th>\n",
       "      <th>Reviewer's Name</th>\n",
       "      <th>Rating</th>\n",
       "      <th>Comment</th>\n",
       "    </tr>\n",
       "  </thead>\n",
       "  <tbody>\n",
       "    <tr>\n",
       "      <th>0</th>\n",
       "      <td>Positano @ RP</td>\n",
       "      <td>Italian, European</td>\n",
       "      <td>aisvslife98</td>\n",
       "      <td>5</td>\n",
       "      <td>I enjoyed my time here with my girlfriends! Fa...</td>\n",
       "    </tr>\n",
       "    <tr>\n",
       "      <th>3</th>\n",
       "      <td>Positano @ RP</td>\n",
       "      <td>Italian, European</td>\n",
       "      <td>Amaliamazlan</td>\n",
       "      <td>5</td>\n",
       "      <td>Not my first time in Positano and definitely w...</td>\n",
       "    </tr>\n",
       "    <tr>\n",
       "      <th>9</th>\n",
       "      <td>Positano @ RP</td>\n",
       "      <td>Italian, European</td>\n",
       "      <td>faithfu7</td>\n",
       "      <td>5</td>\n",
       "      <td>Great food . Love the pasta , milk shake . Sta...</td>\n",
       "    </tr>\n",
       "    <tr>\n",
       "      <th>14</th>\n",
       "      <td>Positano @ RP</td>\n",
       "      <td>Italian, European</td>\n",
       "      <td>Chuanhantravels</td>\n",
       "      <td>5</td>\n",
       "      <td>Service was awesome very friendly staff, food ...</td>\n",
       "    </tr>\n",
       "    <tr>\n",
       "      <th>18</th>\n",
       "      <td>Positano @ RP</td>\n",
       "      <td>Italian, European</td>\n",
       "      <td>Matsayshi29</td>\n",
       "      <td>5</td>\n",
       "      <td>First time here and truly wowed by the quality...</td>\n",
       "    </tr>\n",
       "  </tbody>\n",
       "</table>\n",
       "</div>"
      ],
      "text/plain": [
       "   Restaurant Name    Restaurant Type  Reviewer's Name  Rating  \\\n",
       "0    Positano @ RP  Italian, European      aisvslife98       5   \n",
       "3    Positano @ RP  Italian, European     Amaliamazlan       5   \n",
       "9    Positano @ RP  Italian, European         faithfu7       5   \n",
       "14   Positano @ RP  Italian, European  Chuanhantravels       5   \n",
       "18   Positano @ RP  Italian, European      Matsayshi29       5   \n",
       "\n",
       "                                              Comment  \n",
       "0   I enjoyed my time here with my girlfriends! Fa...  \n",
       "3   Not my first time in Positano and definitely w...  \n",
       "9   Great food . Love the pasta , milk shake . Sta...  \n",
       "14  Service was awesome very friendly staff, food ...  \n",
       "18  First time here and truly wowed by the quality...  "
      ]
     },
     "execution_count": 153,
     "metadata": {},
     "output_type": "execute_result"
    }
   ],
   "source": [
    "# remove those rows where the data entries are less than N words\n",
    "data = data_raw[data_raw['Comment'].str.split().str.len().ge(N)]\n",
    "data.head(5)"
   ]
  },
  {
   "cell_type": "code",
   "execution_count": 154,
   "metadata": {},
   "outputs": [
    {
     "data": {
      "text/plain": [
       "(65271, 5)"
      ]
     },
     "execution_count": 154,
     "metadata": {},
     "output_type": "execute_result"
    }
   ],
   "source": [
    "data.shape"
   ]
  },
  {
   "cell_type": "code",
   "execution_count": 155,
   "metadata": {},
   "outputs": [
    {
     "data": {
      "text/plain": [
       "5    32169\n",
       "4    19563\n",
       "3     7327\n",
       "1     3108\n",
       "2     3104\n",
       "Name: Rating, dtype: int64"
      ]
     },
     "execution_count": 155,
     "metadata": {},
     "output_type": "execute_result"
    }
   ],
   "source": [
    "# check distribution of the data's rating label\n",
    "data['Rating'].value_counts()"
   ]
  },
  {
   "cell_type": "code",
   "execution_count": null,
   "metadata": {},
   "outputs": [],
   "source": []
  },
  {
   "cell_type": "markdown",
   "metadata": {},
   "source": [
    "## Preprocess the data\n",
    "##### Partition the ratings to 3 classes only\n",
    "-1 (negative) <- 1,2  \n",
    "0 (neutral) <- 3  \n",
    "1 (positive) <- 4,5"
   ]
  },
  {
   "cell_type": "code",
   "execution_count": 156,
   "metadata": {},
   "outputs": [],
   "source": [
    "def partition(x):\n",
    "    if x < 3:\n",
    "        return -1\n",
    "    elif x == 3:\n",
    "        return 0\n",
    "    else:   \n",
    "        return 1"
   ]
  },
  {
   "cell_type": "code",
   "execution_count": 157,
   "metadata": {},
   "outputs": [
    {
     "name": "stderr",
     "output_type": "stream",
     "text": [
      "C:\\Users\\nicholasneo78\\AppData\\Roaming\\Python\\Python37\\site-packages\\ipykernel_launcher.py:3: SettingWithCopyWarning: \n",
      "A value is trying to be set on a copy of a slice from a DataFrame.\n",
      "Try using .loc[row_indexer,col_indexer] = value instead\n",
      "\n",
      "See the caveats in the documentation: https://pandas.pydata.org/pandas-docs/stable/user_guide/indexing.html#returning-a-view-versus-a-copy\n",
      "  This is separate from the ipykernel package so we can avoid doing imports until\n"
     ]
    },
    {
     "data": {
      "text/html": [
       "<div>\n",
       "<style scoped>\n",
       "    .dataframe tbody tr th:only-of-type {\n",
       "        vertical-align: middle;\n",
       "    }\n",
       "\n",
       "    .dataframe tbody tr th {\n",
       "        vertical-align: top;\n",
       "    }\n",
       "\n",
       "    .dataframe thead th {\n",
       "        text-align: right;\n",
       "    }\n",
       "</style>\n",
       "<table border=\"1\" class=\"dataframe\">\n",
       "  <thead>\n",
       "    <tr style=\"text-align: right;\">\n",
       "      <th></th>\n",
       "      <th>Restaurant Name</th>\n",
       "      <th>Restaurant Type</th>\n",
       "      <th>Reviewer's Name</th>\n",
       "      <th>Rating</th>\n",
       "      <th>Comment</th>\n",
       "      <th>rating_class_main</th>\n",
       "    </tr>\n",
       "  </thead>\n",
       "  <tbody>\n",
       "    <tr>\n",
       "      <th>0</th>\n",
       "      <td>Positano @ RP</td>\n",
       "      <td>Italian, European</td>\n",
       "      <td>aisvslife98</td>\n",
       "      <td>5</td>\n",
       "      <td>I enjoyed my time here with my girlfriends! Fa...</td>\n",
       "      <td>1</td>\n",
       "    </tr>\n",
       "    <tr>\n",
       "      <th>3</th>\n",
       "      <td>Positano @ RP</td>\n",
       "      <td>Italian, European</td>\n",
       "      <td>Amaliamazlan</td>\n",
       "      <td>5</td>\n",
       "      <td>Not my first time in Positano and definitely w...</td>\n",
       "      <td>1</td>\n",
       "    </tr>\n",
       "    <tr>\n",
       "      <th>9</th>\n",
       "      <td>Positano @ RP</td>\n",
       "      <td>Italian, European</td>\n",
       "      <td>faithfu7</td>\n",
       "      <td>5</td>\n",
       "      <td>Great food . Love the pasta , milk shake . Sta...</td>\n",
       "      <td>1</td>\n",
       "    </tr>\n",
       "    <tr>\n",
       "      <th>14</th>\n",
       "      <td>Positano @ RP</td>\n",
       "      <td>Italian, European</td>\n",
       "      <td>Chuanhantravels</td>\n",
       "      <td>5</td>\n",
       "      <td>Service was awesome very friendly staff, food ...</td>\n",
       "      <td>1</td>\n",
       "    </tr>\n",
       "    <tr>\n",
       "      <th>18</th>\n",
       "      <td>Positano @ RP</td>\n",
       "      <td>Italian, European</td>\n",
       "      <td>Matsayshi29</td>\n",
       "      <td>5</td>\n",
       "      <td>First time here and truly wowed by the quality...</td>\n",
       "      <td>1</td>\n",
       "    </tr>\n",
       "  </tbody>\n",
       "</table>\n",
       "</div>"
      ],
      "text/plain": [
       "   Restaurant Name    Restaurant Type  Reviewer's Name  Rating  \\\n",
       "0    Positano @ RP  Italian, European      aisvslife98       5   \n",
       "3    Positano @ RP  Italian, European     Amaliamazlan       5   \n",
       "9    Positano @ RP  Italian, European         faithfu7       5   \n",
       "14   Positano @ RP  Italian, European  Chuanhantravels       5   \n",
       "18   Positano @ RP  Italian, European      Matsayshi29       5   \n",
       "\n",
       "                                              Comment  rating_class_main  \n",
       "0   I enjoyed my time here with my girlfriends! Fa...                  1  \n",
       "3   Not my first time in Positano and definitely w...                  1  \n",
       "9   Great food . Love the pasta , milk shake . Sta...                  1  \n",
       "14  Service was awesome very friendly staff, food ...                  1  \n",
       "18  First time here and truly wowed by the quality...                  1  "
      ]
     },
     "execution_count": 157,
     "metadata": {},
     "output_type": "execute_result"
    }
   ],
   "source": [
    "ratings = data['Rating']\n",
    "rating_converted = ratings.map(partition)\n",
    "data['rating_class_main'] = rating_converted\n",
    "data.head()"
   ]
  },
  {
   "cell_type": "code",
   "execution_count": 158,
   "metadata": {},
   "outputs": [
    {
     "data": {
      "text/plain": [
       "Restaurant Name      object\n",
       "Restaurant Type      object\n",
       "Reviewer's Name      object\n",
       "Rating                int64\n",
       "Comment              object\n",
       "rating_class_main     int64\n",
       "dtype: object"
      ]
     },
     "execution_count": 158,
     "metadata": {},
     "output_type": "execute_result"
    }
   ],
   "source": [
    "data.dtypes"
   ]
  },
  {
   "cell_type": "code",
   "execution_count": 159,
   "metadata": {},
   "outputs": [
    {
     "data": {
      "text/plain": [
       " 1    51732\n",
       " 0     7327\n",
       "-1     6212\n",
       "Name: rating_class_main, dtype: int64"
      ]
     },
     "execution_count": 159,
     "metadata": {},
     "output_type": "execute_result"
    }
   ],
   "source": [
    "# check distribution of the data's class label\n",
    "data['rating_class_main'].value_counts()"
   ]
  },
  {
   "cell_type": "code",
   "execution_count": null,
   "metadata": {},
   "outputs": [],
   "source": []
  },
  {
   "cell_type": "markdown",
   "metadata": {},
   "source": [
    "## Sample the data\n",
    "Choose 250 from class 1  \n",
    "Choose 250 from class -1  \n",
    "Choose 500 from class 0"
   ]
  },
  {
   "cell_type": "code",
   "execution_count": 174,
   "metadata": {},
   "outputs": [
    {
     "name": "stdout",
     "output_type": "stream",
     "text": [
      "(500, 6)\n"
     ]
    },
    {
     "data": {
      "text/html": [
       "<div>\n",
       "<style scoped>\n",
       "    .dataframe tbody tr th:only-of-type {\n",
       "        vertical-align: middle;\n",
       "    }\n",
       "\n",
       "    .dataframe tbody tr th {\n",
       "        vertical-align: top;\n",
       "    }\n",
       "\n",
       "    .dataframe thead th {\n",
       "        text-align: right;\n",
       "    }\n",
       "</style>\n",
       "<table border=\"1\" class=\"dataframe\">\n",
       "  <thead>\n",
       "    <tr style=\"text-align: right;\">\n",
       "      <th></th>\n",
       "      <th>Restaurant Name</th>\n",
       "      <th>Restaurant Type</th>\n",
       "      <th>Reviewer's Name</th>\n",
       "      <th>Rating</th>\n",
       "      <th>Comment</th>\n",
       "      <th>rating_class_main</th>\n",
       "    </tr>\n",
       "  </thead>\n",
       "  <tbody>\n",
       "    <tr>\n",
       "      <th>70794</th>\n",
       "      <td>Ninethirty (by Awfully Chocolate)</td>\n",
       "      <td>Singaporean, Cafe</td>\n",
       "      <td>Esther L</td>\n",
       "      <td>3</td>\n",
       "      <td>Just go for their cakes and desserts since the...</td>\n",
       "      <td>0</td>\n",
       "    </tr>\n",
       "    <tr>\n",
       "      <th>18074</th>\n",
       "      <td>Wah Lok</td>\n",
       "      <td>$$ - $$$</td>\n",
       "      <td>panosh416</td>\n",
       "      <td>3</td>\n",
       "      <td>I suppose it’s the same as to expect to go to ...</td>\n",
       "      <td>0</td>\n",
       "    </tr>\n",
       "    <tr>\n",
       "      <th>70760</th>\n",
       "      <td>Ninethirty (by Awfully Chocolate)</td>\n",
       "      <td>Singaporean, Cafe</td>\n",
       "      <td>charmie2015</td>\n",
       "      <td>3</td>\n",
       "      <td>Chef must be trained to know the doneness of m...</td>\n",
       "      <td>0</td>\n",
       "    </tr>\n",
       "  </tbody>\n",
       "</table>\n",
       "</div>"
      ],
      "text/plain": [
       "                         Restaurant Name    Restaurant Type Reviewer's Name  \\\n",
       "70794  Ninethirty (by Awfully Chocolate)  Singaporean, Cafe        Esther L   \n",
       "18074                            Wah Lok           $$ - $$$       panosh416   \n",
       "70760  Ninethirty (by Awfully Chocolate)  Singaporean, Cafe     charmie2015   \n",
       "\n",
       "       Rating                                            Comment  \\\n",
       "70794       3  Just go for their cakes and desserts since the...   \n",
       "18074       3  I suppose it’s the same as to expect to go to ...   \n",
       "70760       3  Chef must be trained to know the doneness of m...   \n",
       "\n",
       "       rating_class_main  \n",
       "70794                  0  \n",
       "18074                  0  \n",
       "70760                  0  "
      ]
     },
     "execution_count": 174,
     "metadata": {},
     "output_type": "execute_result"
    }
   ],
   "source": [
    "# sample 500 neutral comments\n",
    "data_zero = data[data['rating_class_main'] == 0].sample(500, replace=False)\n",
    "print(data_zero.shape)\n",
    "data_zero.head(3)"
   ]
  },
  {
   "cell_type": "code",
   "execution_count": 175,
   "metadata": {},
   "outputs": [
    {
     "name": "stdout",
     "output_type": "stream",
     "text": [
      "(250, 6)\n"
     ]
    },
    {
     "data": {
      "text/html": [
       "<div>\n",
       "<style scoped>\n",
       "    .dataframe tbody tr th:only-of-type {\n",
       "        vertical-align: middle;\n",
       "    }\n",
       "\n",
       "    .dataframe tbody tr th {\n",
       "        vertical-align: top;\n",
       "    }\n",
       "\n",
       "    .dataframe thead th {\n",
       "        text-align: right;\n",
       "    }\n",
       "</style>\n",
       "<table border=\"1\" class=\"dataframe\">\n",
       "  <thead>\n",
       "    <tr style=\"text-align: right;\">\n",
       "      <th></th>\n",
       "      <th>Restaurant Name</th>\n",
       "      <th>Restaurant Type</th>\n",
       "      <th>Reviewer's Name</th>\n",
       "      <th>Rating</th>\n",
       "      <th>Comment</th>\n",
       "      <th>rating_class_main</th>\n",
       "    </tr>\n",
       "  </thead>\n",
       "  <tbody>\n",
       "    <tr>\n",
       "      <th>25062</th>\n",
       "      <td>Kilo Kitchen</td>\n",
       "      <td>Bar, International</td>\n",
       "      <td>Jo B</td>\n",
       "      <td>2</td>\n",
       "      <td>We headed to Kilo Kallang following a recommen...</td>\n",
       "      <td>-1</td>\n",
       "    </tr>\n",
       "    <tr>\n",
       "      <th>45307</th>\n",
       "      <td>Mondo Mio</td>\n",
       "      <td>Italian, Mediterranean</td>\n",
       "      <td>lifesaholidayy</td>\n",
       "      <td>2</td>\n",
       "      <td>We ordered both the pasta and pizza and were d...</td>\n",
       "      <td>-1</td>\n",
       "    </tr>\n",
       "    <tr>\n",
       "      <th>32050</th>\n",
       "      <td>Brewerkz (Riverside Point)</td>\n",
       "      <td>American, Bar</td>\n",
       "      <td>Alex R</td>\n",
       "      <td>1</td>\n",
       "      <td>After a long walk through the city I went to B...</td>\n",
       "      <td>-1</td>\n",
       "    </tr>\n",
       "  </tbody>\n",
       "</table>\n",
       "</div>"
      ],
      "text/plain": [
       "                  Restaurant Name         Restaurant Type Reviewer's Name  \\\n",
       "25062                Kilo Kitchen      Bar, International            Jo B   \n",
       "45307                   Mondo Mio  Italian, Mediterranean  lifesaholidayy   \n",
       "32050  Brewerkz (Riverside Point)           American, Bar          Alex R   \n",
       "\n",
       "       Rating                                            Comment  \\\n",
       "25062       2  We headed to Kilo Kallang following a recommen...   \n",
       "45307       2  We ordered both the pasta and pizza and were d...   \n",
       "32050       1  After a long walk through the city I went to B...   \n",
       "\n",
       "       rating_class_main  \n",
       "25062                 -1  \n",
       "45307                 -1  \n",
       "32050                 -1  "
      ]
     },
     "execution_count": 175,
     "metadata": {},
     "output_type": "execute_result"
    }
   ],
   "source": [
    "# sample 250 negative comments\n",
    "data_negative = data[data['rating_class_main'] == -1].sample(250, replace=False)\n",
    "print(data_negative.shape)\n",
    "data_negative.head(3)"
   ]
  },
  {
   "cell_type": "code",
   "execution_count": 176,
   "metadata": {},
   "outputs": [
    {
     "name": "stdout",
     "output_type": "stream",
     "text": [
      "(250, 6)\n"
     ]
    },
    {
     "data": {
      "text/html": [
       "<div>\n",
       "<style scoped>\n",
       "    .dataframe tbody tr th:only-of-type {\n",
       "        vertical-align: middle;\n",
       "    }\n",
       "\n",
       "    .dataframe tbody tr th {\n",
       "        vertical-align: top;\n",
       "    }\n",
       "\n",
       "    .dataframe thead th {\n",
       "        text-align: right;\n",
       "    }\n",
       "</style>\n",
       "<table border=\"1\" class=\"dataframe\">\n",
       "  <thead>\n",
       "    <tr style=\"text-align: right;\">\n",
       "      <th></th>\n",
       "      <th>Restaurant Name</th>\n",
       "      <th>Restaurant Type</th>\n",
       "      <th>Reviewer's Name</th>\n",
       "      <th>Rating</th>\n",
       "      <th>Comment</th>\n",
       "      <th>rating_class_main</th>\n",
       "    </tr>\n",
       "  </thead>\n",
       "  <tbody>\n",
       "    <tr>\n",
       "      <th>87484</th>\n",
       "      <td>Penang Culture @ NEX</td>\n",
       "      <td>Chinese, Asian</td>\n",
       "      <td>chloeopy</td>\n",
       "      <td>5</td>\n",
       "      <td>Went to Penang Culture for lunch with my famil...</td>\n",
       "      <td>1</td>\n",
       "    </tr>\n",
       "    <tr>\n",
       "      <th>70641</th>\n",
       "      <td>Knots Cafe and Living</td>\n",
       "      <td>Cafe</td>\n",
       "      <td>Rachel_PRL</td>\n",
       "      <td>4</td>\n",
       "      <td>We happened to be around the area and decided ...</td>\n",
       "      <td>1</td>\n",
       "    </tr>\n",
       "    <tr>\n",
       "      <th>42874</th>\n",
       "      <td>Two Chefs Bar Mexican &amp; Italian</td>\n",
       "      <td>Italian, Mexican</td>\n",
       "      <td>thesaint9</td>\n",
       "      <td>4</td>\n",
       "      <td>I had lunch there with my 10 year old son. We ...</td>\n",
       "      <td>1</td>\n",
       "    </tr>\n",
       "  </tbody>\n",
       "</table>\n",
       "</div>"
      ],
      "text/plain": [
       "                       Restaurant Name   Restaurant Type Reviewer's Name  \\\n",
       "87484             Penang Culture @ NEX    Chinese, Asian        chloeopy   \n",
       "70641            Knots Cafe and Living              Cafe      Rachel_PRL   \n",
       "42874  Two Chefs Bar Mexican & Italian  Italian, Mexican       thesaint9   \n",
       "\n",
       "       Rating                                            Comment  \\\n",
       "87484       5  Went to Penang Culture for lunch with my famil...   \n",
       "70641       4  We happened to be around the area and decided ...   \n",
       "42874       4  I had lunch there with my 10 year old son. We ...   \n",
       "\n",
       "       rating_class_main  \n",
       "87484                  1  \n",
       "70641                  1  \n",
       "42874                  1  "
      ]
     },
     "execution_count": 176,
     "metadata": {},
     "output_type": "execute_result"
    }
   ],
   "source": [
    "# sample 250 positive comments\n",
    "data_positive = data[data['rating_class_main'] == 1].sample(250, replace=False)\n",
    "print(data_positive.shape)\n",
    "data_positive.head(3)"
   ]
  },
  {
   "cell_type": "code",
   "execution_count": 177,
   "metadata": {},
   "outputs": [
    {
     "name": "stdout",
     "output_type": "stream",
     "text": [
      "(1000, 6)\n"
     ]
    },
    {
     "data": {
      "text/html": [
       "<div>\n",
       "<style scoped>\n",
       "    .dataframe tbody tr th:only-of-type {\n",
       "        vertical-align: middle;\n",
       "    }\n",
       "\n",
       "    .dataframe tbody tr th {\n",
       "        vertical-align: top;\n",
       "    }\n",
       "\n",
       "    .dataframe thead th {\n",
       "        text-align: right;\n",
       "    }\n",
       "</style>\n",
       "<table border=\"1\" class=\"dataframe\">\n",
       "  <thead>\n",
       "    <tr style=\"text-align: right;\">\n",
       "      <th></th>\n",
       "      <th>Restaurant Name</th>\n",
       "      <th>Restaurant Type</th>\n",
       "      <th>Reviewer's Name</th>\n",
       "      <th>Rating</th>\n",
       "      <th>Comment</th>\n",
       "      <th>rating_class_main</th>\n",
       "    </tr>\n",
       "  </thead>\n",
       "  <tbody>\n",
       "    <tr>\n",
       "      <th>70794</th>\n",
       "      <td>Ninethirty (by Awfully Chocolate)</td>\n",
       "      <td>Singaporean, Cafe</td>\n",
       "      <td>Esther L</td>\n",
       "      <td>3</td>\n",
       "      <td>Just go for their cakes and desserts since the...</td>\n",
       "      <td>0</td>\n",
       "    </tr>\n",
       "    <tr>\n",
       "      <th>18074</th>\n",
       "      <td>Wah Lok</td>\n",
       "      <td>$$ - $$$</td>\n",
       "      <td>panosh416</td>\n",
       "      <td>3</td>\n",
       "      <td>I suppose it’s the same as to expect to go to ...</td>\n",
       "      <td>0</td>\n",
       "    </tr>\n",
       "    <tr>\n",
       "      <th>70760</th>\n",
       "      <td>Ninethirty (by Awfully Chocolate)</td>\n",
       "      <td>Singaporean, Cafe</td>\n",
       "      <td>charmie2015</td>\n",
       "      <td>3</td>\n",
       "      <td>Chef must be trained to know the doneness of m...</td>\n",
       "      <td>0</td>\n",
       "    </tr>\n",
       "    <tr>\n",
       "      <th>14050</th>\n",
       "      <td>Bistecca Tuscan Steakhouse</td>\n",
       "      <td>Italian, Steakhouse</td>\n",
       "      <td>Flashpacker_Dubai</td>\n",
       "      <td>3</td>\n",
       "      <td>Patchy service.. responsive and considerate by...</td>\n",
       "      <td>0</td>\n",
       "    </tr>\n",
       "    <tr>\n",
       "      <th>26274</th>\n",
       "      <td>Song Fa Bak Kut Teh The Centrepoint</td>\n",
       "      <td>Asian, Chinese</td>\n",
       "      <td>Jahja Hendrawan S</td>\n",
       "      <td>3</td>\n",
       "      <td>Pork Pork Soup is pretty tasty and Braised Por...</td>\n",
       "      <td>0</td>\n",
       "    </tr>\n",
       "  </tbody>\n",
       "</table>\n",
       "</div>"
      ],
      "text/plain": [
       "                           Restaurant Name      Restaurant Type  \\\n",
       "70794    Ninethirty (by Awfully Chocolate)    Singaporean, Cafe   \n",
       "18074                              Wah Lok             $$ - $$$   \n",
       "70760    Ninethirty (by Awfully Chocolate)    Singaporean, Cafe   \n",
       "14050           Bistecca Tuscan Steakhouse  Italian, Steakhouse   \n",
       "26274  Song Fa Bak Kut Teh The Centrepoint       Asian, Chinese   \n",
       "\n",
       "         Reviewer's Name  Rating  \\\n",
       "70794           Esther L       3   \n",
       "18074          panosh416       3   \n",
       "70760        charmie2015       3   \n",
       "14050  Flashpacker_Dubai       3   \n",
       "26274  Jahja Hendrawan S       3   \n",
       "\n",
       "                                                 Comment  rating_class_main  \n",
       "70794  Just go for their cakes and desserts since the...                  0  \n",
       "18074  I suppose it’s the same as to expect to go to ...                  0  \n",
       "70760  Chef must be trained to know the doneness of m...                  0  \n",
       "14050  Patchy service.. responsive and considerate by...                  0  \n",
       "26274  Pork Pork Soup is pretty tasty and Braised Por...                  0  "
      ]
     },
     "execution_count": 177,
     "metadata": {},
     "output_type": "execute_result"
    }
   ],
   "source": [
    "# fit new dataframe to form the final sample\n",
    "data_sample_ = pd.concat([data_zero, data_negative, data_positive])\n",
    "print(data_sample_.shape)\n",
    "data_sample_.head()"
   ]
  },
  {
   "cell_type": "code",
   "execution_count": 178,
   "metadata": {},
   "outputs": [
    {
     "data": {
      "text/html": [
       "<div>\n",
       "<style scoped>\n",
       "    .dataframe tbody tr th:only-of-type {\n",
       "        vertical-align: middle;\n",
       "    }\n",
       "\n",
       "    .dataframe tbody tr th {\n",
       "        vertical-align: top;\n",
       "    }\n",
       "\n",
       "    .dataframe thead th {\n",
       "        text-align: right;\n",
       "    }\n",
       "</style>\n",
       "<table border=\"1\" class=\"dataframe\">\n",
       "  <thead>\n",
       "    <tr style=\"text-align: right;\">\n",
       "      <th></th>\n",
       "      <th>Restaurant Name</th>\n",
       "      <th>Restaurant Type</th>\n",
       "      <th>Reviewer's Name</th>\n",
       "      <th>Rating</th>\n",
       "      <th>Comment</th>\n",
       "      <th>rating_class_main</th>\n",
       "    </tr>\n",
       "  </thead>\n",
       "  <tbody>\n",
       "    <tr>\n",
       "      <th>45274</th>\n",
       "      <td>Salt tapas &amp; bar</td>\n",
       "      <td>Bar, Mediterranean</td>\n",
       "      <td>ntan002</td>\n",
       "      <td>3</td>\n",
       "      <td>Easily accessible as it is next to one of the ...</td>\n",
       "      <td>0</td>\n",
       "    </tr>\n",
       "    <tr>\n",
       "      <th>8210</th>\n",
       "      <td>Peach Blossoms</td>\n",
       "      <td>Chinese, Asian</td>\n",
       "      <td>Willowsinoz</td>\n",
       "      <td>3</td>\n",
       "      <td>We went here thinking it would bea fine dining...</td>\n",
       "      <td>0</td>\n",
       "    </tr>\n",
       "    <tr>\n",
       "      <th>87946</th>\n",
       "      <td>Three Buns Quayside</td>\n",
       "      <td>American, Bar</td>\n",
       "      <td>Tazziejosh</td>\n",
       "      <td>1</td>\n",
       "      <td>Had a horrible experience here. Stopped in for...</td>\n",
       "      <td>-1</td>\n",
       "    </tr>\n",
       "    <tr>\n",
       "      <th>68505</th>\n",
       "      <td>Ikoi Japanese Restaurant</td>\n",
       "      <td>Japanese, Sushi</td>\n",
       "      <td>Faith L</td>\n",
       "      <td>3</td>\n",
       "      <td>Had a dinner here with my colleagues. It is al...</td>\n",
       "      <td>0</td>\n",
       "    </tr>\n",
       "    <tr>\n",
       "      <th>13115</th>\n",
       "      <td>Waku Ghin</td>\n",
       "      <td>Seafood, Asian</td>\n",
       "      <td>zephyrtan</td>\n",
       "      <td>5</td>\n",
       "      <td>If You're In A Rush For Meeting , Theatre Or S...</td>\n",
       "      <td>1</td>\n",
       "    </tr>\n",
       "  </tbody>\n",
       "</table>\n",
       "</div>"
      ],
      "text/plain": [
       "                Restaurant Name     Restaurant Type Reviewer's Name  Rating  \\\n",
       "45274          Salt tapas & bar  Bar, Mediterranean         ntan002       3   \n",
       "8210             Peach Blossoms      Chinese, Asian     Willowsinoz       3   \n",
       "87946       Three Buns Quayside       American, Bar      Tazziejosh       1   \n",
       "68505  Ikoi Japanese Restaurant     Japanese, Sushi         Faith L       3   \n",
       "13115                 Waku Ghin      Seafood, Asian       zephyrtan       5   \n",
       "\n",
       "                                                 Comment  rating_class_main  \n",
       "45274  Easily accessible as it is next to one of the ...                  0  \n",
       "8210   We went here thinking it would bea fine dining...                  0  \n",
       "87946  Had a horrible experience here. Stopped in for...                 -1  \n",
       "68505  Had a dinner here with my colleagues. It is al...                  0  \n",
       "13115  If You're In A Rush For Meeting , Theatre Or S...                  1  "
      ]
     },
     "execution_count": 178,
     "metadata": {},
     "output_type": "execute_result"
    }
   ],
   "source": [
    "# randomise the order of the sample dataframe\n",
    "data_sample = data_sample_.sample(frac=1)\n",
    "data_sample.head()"
   ]
  },
  {
   "cell_type": "code",
   "execution_count": 179,
   "metadata": {},
   "outputs": [
    {
     "name": "stdout",
     "output_type": "stream",
     "text": [
      "True\n",
      "True\n",
      "True\n"
     ]
    }
   ],
   "source": [
    "# final check on the sampled data\n",
    "print(len(data_sample[data_sample['rating_class_main'] == 0]) == 500)\n",
    "print(len(data_sample[data_sample['rating_class_main'] == -1]) == 250)\n",
    "print(len(data_sample[data_sample['rating_class_main'] == 1]) == 250)"
   ]
  },
  {
   "cell_type": "code",
   "execution_count": null,
   "metadata": {},
   "outputs": [],
   "source": []
  },
  {
   "cell_type": "markdown",
   "metadata": {},
   "source": [
    "## Export the sampled data"
   ]
  },
  {
   "cell_type": "code",
   "execution_count": 180,
   "metadata": {},
   "outputs": [],
   "source": [
    "data_sample.to_csv('./data/sampled-data-for-annontation.csv', index=False)"
   ]
  },
  {
   "cell_type": "code",
   "execution_count": null,
   "metadata": {},
   "outputs": [],
   "source": []
  }
 ],
 "metadata": {
  "kernelspec": {
   "display_name": "Python 3",
   "language": "python",
   "name": "python3"
  },
  "language_info": {
   "codemirror_mode": {
    "name": "ipython",
    "version": 3
   },
   "file_extension": ".py",
   "mimetype": "text/x-python",
   "name": "python",
   "nbconvert_exporter": "python",
   "pygments_lexer": "ipython3",
   "version": "3.7.7"
  }
 },
 "nbformat": 4,
 "nbformat_minor": 4
}
