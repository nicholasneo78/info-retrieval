{
 "cells": [
  {
   "cell_type": "code",
   "execution_count": 36,
   "metadata": {},
   "outputs": [],
   "source": [
    "import numpy as np\n",
    "import pandas as pd\n",
    "from sklearn.metrics import confusion_matrix, cohen_kappa_score\n",
    "import seaborn as sns"
   ]
  },
  {
   "cell_type": "code",
   "execution_count": 29,
   "metadata": {},
   "outputs": [
    {
     "data": {
      "text/html": [
       "<div>\n",
       "<style scoped>\n",
       "    .dataframe tbody tr th:only-of-type {\n",
       "        vertical-align: middle;\n",
       "    }\n",
       "\n",
       "    .dataframe tbody tr th {\n",
       "        vertical-align: top;\n",
       "    }\n",
       "\n",
       "    .dataframe thead th {\n",
       "        text-align: right;\n",
       "    }\n",
       "</style>\n",
       "<table border=\"1\" class=\"dataframe\">\n",
       "  <thead>\n",
       "    <tr style=\"text-align: right;\">\n",
       "      <th></th>\n",
       "      <th>Restaurant Name</th>\n",
       "      <th>Restaurant Type</th>\n",
       "      <th>Reviewer's Name</th>\n",
       "      <th>Rating</th>\n",
       "      <th>Comment</th>\n",
       "      <th>rating_class_main</th>\n",
       "      <th>rating_for_comment</th>\n",
       "    </tr>\n",
       "  </thead>\n",
       "  <tbody>\n",
       "    <tr>\n",
       "      <th>0</th>\n",
       "      <td>Salt tapas &amp; bar</td>\n",
       "      <td>Bar, Mediterranean</td>\n",
       "      <td>ntan002</td>\n",
       "      <td>3</td>\n",
       "      <td>Easily accessible as it is next to one of the ...</td>\n",
       "      <td>0</td>\n",
       "      <td>0</td>\n",
       "    </tr>\n",
       "    <tr>\n",
       "      <th>1</th>\n",
       "      <td>Peach Blossoms</td>\n",
       "      <td>Chinese, Asian</td>\n",
       "      <td>Willowsinoz</td>\n",
       "      <td>3</td>\n",
       "      <td>We went here thinking it would bea fine dining...</td>\n",
       "      <td>0</td>\n",
       "      <td>-1</td>\n",
       "    </tr>\n",
       "    <tr>\n",
       "      <th>2</th>\n",
       "      <td>Three Buns Quayside</td>\n",
       "      <td>American, Bar</td>\n",
       "      <td>Tazziejosh</td>\n",
       "      <td>1</td>\n",
       "      <td>Had a horrible experience here. Stopped in for...</td>\n",
       "      <td>-1</td>\n",
       "      <td>-1</td>\n",
       "    </tr>\n",
       "    <tr>\n",
       "      <th>3</th>\n",
       "      <td>Ikoi Japanese Restaurant</td>\n",
       "      <td>Japanese, Sushi</td>\n",
       "      <td>Faith L</td>\n",
       "      <td>3</td>\n",
       "      <td>Had a dinner here with my colleagues. It is al...</td>\n",
       "      <td>0</td>\n",
       "      <td>0</td>\n",
       "    </tr>\n",
       "    <tr>\n",
       "      <th>4</th>\n",
       "      <td>Waku Ghin</td>\n",
       "      <td>Seafood, Asian</td>\n",
       "      <td>zephyrtan</td>\n",
       "      <td>5</td>\n",
       "      <td>If You're In A Rush For Meeting , Theatre Or S...</td>\n",
       "      <td>1</td>\n",
       "      <td>1</td>\n",
       "    </tr>\n",
       "  </tbody>\n",
       "</table>\n",
       "</div>"
      ],
      "text/plain": [
       "            Restaurant Name     Restaurant Type Reviewer's Name  Rating  \\\n",
       "0          Salt tapas & bar  Bar, Mediterranean         ntan002       3   \n",
       "1            Peach Blossoms      Chinese, Asian     Willowsinoz       3   \n",
       "2       Three Buns Quayside       American, Bar      Tazziejosh       1   \n",
       "3  Ikoi Japanese Restaurant     Japanese, Sushi         Faith L       3   \n",
       "4                 Waku Ghin      Seafood, Asian       zephyrtan       5   \n",
       "\n",
       "                                             Comment  rating_class_main  \\\n",
       "0  Easily accessible as it is next to one of the ...                  0   \n",
       "1  We went here thinking it would bea fine dining...                  0   \n",
       "2  Had a horrible experience here. Stopped in for...                 -1   \n",
       "3  Had a dinner here with my colleagues. It is al...                  0   \n",
       "4  If You're In A Rush For Meeting , Theatre Or S...                  1   \n",
       "\n",
       "   rating_for_comment  \n",
       "0                   0  \n",
       "1                  -1  \n",
       "2                  -1  \n",
       "3                   0  \n",
       "4                   1  "
      ]
     },
     "execution_count": 29,
     "metadata": {},
     "output_type": "execute_result"
    }
   ],
   "source": [
    "# import the scraped data\n",
    "data = pd.read_csv('./data/sampled-data-for-annotation-after-annotation.csv')\n",
    "data.head()"
   ]
  },
  {
   "cell_type": "code",
   "execution_count": 30,
   "metadata": {},
   "outputs": [
    {
     "data": {
      "text/plain": [
       "Restaurant Name       object\n",
       "Restaurant Type       object\n",
       "Reviewer's Name       object\n",
       "Rating                 int64\n",
       "Comment               object\n",
       "rating_class_main      int64\n",
       "rating_for_comment     int64\n",
       "dtype: object"
      ]
     },
     "execution_count": 30,
     "metadata": {},
     "output_type": "execute_result"
    }
   ],
   "source": [
    "# check data type\n",
    "data.dtypes"
   ]
  },
  {
   "cell_type": "code",
   "execution_count": 33,
   "metadata": {},
   "outputs": [
    {
     "data": {
      "text/plain": [
       "0    0\n",
       "1    0\n",
       "2   -1\n",
       "3    0\n",
       "4    1\n",
       "Name: rating_class_main, dtype: int64"
      ]
     },
     "execution_count": 33,
     "metadata": {},
     "output_type": "execute_result"
    }
   ],
   "source": [
    "# get annotator 1 annotation\n",
    "annotator_1 = data['rating_class_main']\n",
    "annotator_1[:5]"
   ]
  },
  {
   "cell_type": "code",
   "execution_count": 34,
   "metadata": {},
   "outputs": [
    {
     "data": {
      "text/plain": [
       "0    0\n",
       "1   -1\n",
       "2   -1\n",
       "3    0\n",
       "4    1\n",
       "Name: rating_for_comment, dtype: int64"
      ]
     },
     "execution_count": 34,
     "metadata": {},
     "output_type": "execute_result"
    }
   ],
   "source": [
    "# get annotator 2 annotation\n",
    "annotator_2 = data['rating_for_comment']\n",
    "annotator_2[:5]"
   ]
  },
  {
   "cell_type": "code",
   "execution_count": 37,
   "metadata": {},
   "outputs": [
    {
     "data": {
      "text/plain": [
       "array([[199,  45,   6],\n",
       "       [168, 278,  54],\n",
       "       [  5,  70, 175]], dtype=int64)"
      ]
     },
     "execution_count": 37,
     "metadata": {},
     "output_type": "execute_result"
    }
   ],
   "source": [
    "# get confusion matrix array\n",
    "conf_matrix_arr = confusion_matrix(annotator_1, annotator_2)\n",
    "conf_matrix_arr"
   ]
  },
  {
   "cell_type": "code",
   "execution_count": 39,
   "metadata": {},
   "outputs": [
    {
     "data": {
      "text/plain": [
       "<matplotlib.axes._subplots.AxesSubplot at 0x2ab96083f08>"
      ]
     },
     "execution_count": 39,
     "metadata": {},
     "output_type": "execute_result"
    },
    {
     "data": {
      "image/png": "[encoded data removed]",
      "text/plain": [
       "<Figure size 432x288 with 2 Axes>"
      ]
     },
     "metadata": {
      "needs_background": "light"
     },
     "output_type": "display_data"
    }
   ],
   "source": [
    "# seaborn cofusion matrix\n",
    "cm_sns = pd.crosstab(annotator_1, annotator_2, rownames=['annotator 1'], colnames=['annotator 2'])\n",
    "sns.heatmap(cm_sns, annot=True, fmt=\"d\")"
   ]
  },
  {
   "cell_type": "code",
   "execution_count": 42,
   "metadata": {},
   "outputs": [
    {
     "data": {
      "text/plain": [
       "0.46605293440736484"
      ]
     },
     "execution_count": 42,
     "metadata": {},
     "output_type": "execute_result"
    }
   ],
   "source": [
    "# cohen-kappa score\n",
    "cohen_kappa_score(annotator_1, annotator_2)"
   ]
  },
  {
   "cell_type": "code",
   "execution_count": null,
   "metadata": {},
   "outputs": [],
   "source": []
  }
 ],
 "metadata": {
  "kernelspec": {
   "display_name": "Python 3",
   "language": "python",
   "name": "python3"
  },
  "language_info": {
   "codemirror_mode": {
    "name": "ipython",
    "version": 3
   },
   "file_extension": ".py",
   "mimetype": "text/x-python",
   "name": "python",
   "nbconvert_exporter": "python",
   "pygments_lexer": "ipython3",
   "version": "3.7.7"
  }
 },
 "nbformat": 4,
 "nbformat_minor": 4
}
