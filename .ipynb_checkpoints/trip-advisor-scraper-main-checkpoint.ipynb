{
 "cells": [
  {
   "cell_type": "code",
   "execution_count": 2,
   "metadata": {},
   "outputs": [],
   "source": [
    "# import necessary libraries\n",
    "from requests import get\n",
    "import matplotlib.pyplot as plt\n",
    "from bs4 import BeautifulSoup\n",
    "import pandas as pd\n",
    "from time import sleep\n",
    "from random import randint\n",
    "from time import time \n",
    "from IPython.core.display import clear_output\n",
    "from warnings import warn\n",
    "import datetime"
   ]
  },
  {
   "cell_type": "code",
   "execution_count": 66,
   "metadata": {},
   "outputs": [
    {
     "name": "stdout",
     "output_type": "stream",
     "text": [
      "<class 'bs4.element.ResultSet'>\n",
      "37\n"
     ]
    }
   ],
   "source": [
    "# flag variable to check the scrape\n",
    "# if unsuccessful scrape, try again\n",
    "unsuccessful = True\n",
    "#count = 0\n",
    "while unsuccessful:\n",
    "    url = 'https://www.tripadvisor.com.sg/Restaurants-g294265-Singapore.html'\n",
    "    # make request to the site\n",
    "    response = get(url)\n",
    "    html_soup = BeautifulSoup(response.text,'html.parser')\n",
    "    \n",
    "    # find all with the same class tag\n",
    "    res_containers = html_soup.find_all('div', class_='_1llCuDZj')\n",
    "    print(type(res_containers))\n",
    "    # check the number entries in a page and to determine the next page value for skipping\n",
    "    print(len(res_containers))\n",
    "    \n",
    "    # pause the loop\n",
    "    sleep(randint(2,5))\n",
    "    \n",
    "    if len(res_containers) != 0:\n",
    "        unsuccessful = False"
   ]
  },
  {
   "cell_type": "markdown",
   "metadata": {},
   "source": [
    "## Small Test: Scraper code for one page"
   ]
  },
  {
   "cell_type": "code",
   "execution_count": 30,
   "metadata": {},
   "outputs": [
    {
     "data": {
      "text/plain": [
       "37"
      ]
     },
     "execution_count": 30,
     "metadata": {},
     "output_type": "execute_result"
    }
   ],
   "source": [
    "# testing\n",
    "# values in the tags of the second entry\n",
    "first_comment = res_containers[1]\n",
    "#first_comment"
   ]
  },
  {
   "cell_type": "code",
   "execution_count": 28,
   "metadata": {},
   "outputs": [
    {
     "data": {
      "text/plain": [
       "'1. Positano @ RP'"
      ]
     },
     "execution_count": 28,
     "metadata": {},
     "output_type": "execute_result"
    }
   ],
   "source": [
    "# get name of first stall\n",
    "cust_name = first_comment.find('a', class_='_15_ydu6b').text\n",
    "cust_name"
   ]
  },
  {
   "cell_type": "code",
   "execution_count": 56,
   "metadata": {},
   "outputs": [],
   "source": [
    "base = 'https://www.tripadvisor.com.sg'\n",
    "cust_name = []\n",
    "webpage_list = []\n",
    "temp_str = ''\n",
    "for i,j in enumerate(res_containers):\n",
    "    # to remove ads that may be repetitive\n",
    "    if i%6 == 0:\n",
    "        continue\n",
    "    else:\n",
    "        cust_name.append(j.find('a', class_='_15_ydu6b').text)\n",
    "        temp_str = base + j.find('a', class_='_15_ydu6b').get('href')\n",
    "        webpage_list.append(temp_str)"
   ]
  },
  {
   "cell_type": "code",
   "execution_count": 57,
   "metadata": {
    "scrolled": true
   },
   "outputs": [
    {
     "data": {
      "text/plain": [
       "['1. Positano @ RP',\n",
       " '2. Grand Shanghai Restaurant',\n",
       " '3. Fu Lin Men (NSRCC)',\n",
       " '4. Entre-Nous creperie',\n",
       " '5. NOX - Dine in the Dark',\n",
       " '6. The Mind Cafe',\n",
       " '7. Song Garden',\n",
       " '8. Fu Lin Men (CSC)',\n",
       " '9. Melt Cafe',\n",
       " '10. Positano Risto',\n",
       " '11. Beast & Butterflies',\n",
       " '12. Akira Back',\n",
       " '13. Summer Pavilion',\n",
       " '14. Le Noir Bar & Lounge',\n",
       " '15. Dolce Vita',\n",
       " '16. Colony',\n",
       " '17. Fu Lin Men Chinese Restaurant (SRC)',\n",
       " '18. Waterfall Ristorante Italiano',\n",
       " '19. Bar-Roque Grill',\n",
       " '20. Spice Brasserie',\n",
       " '21. Hua Ting Restaurant',\n",
       " '22. il Cielo',\n",
       " '23. Paulaner Brauhaus Singapore',\n",
       " '24. Golden Peony at Conrad Centennial Singapore',\n",
       " \"25. Chef's Table by Chef Stephan Zoisl\",\n",
       " '26. Ginett Restaurant & Wine Bar',\n",
       " '27. Origin Grill',\n",
       " '28. Publico Ristorante',\n",
       " '29. Alma By Juan Amador',\n",
       " '30. Cherry Garden']"
      ]
     },
     "execution_count": 57,
     "metadata": {},
     "output_type": "execute_result"
    }
   ],
   "source": [
    "# scrape restaurant name\n",
    "cust_name"
   ]
  },
  {
   "cell_type": "code",
   "execution_count": 59,
   "metadata": {
    "scrolled": true
   },
   "outputs": [
    {
     "data": {
      "text/plain": [
       "['https://www.tripadvisor.com.sg/Restaurant_Review-g294265-d21180746-Reviews-Positano_RP-Singapore.html',\n",
       " 'https://www.tripadvisor.com.sg/Restaurant_Review-g294265-d1145149-Reviews-Grand_Shanghai_Restaurant-Singapore.html',\n",
       " 'https://www.tripadvisor.com.sg/Restaurant_Review-g294265-d17171783-Reviews-Fu_Lin_Men_NSRCC-Singapore.html',\n",
       " 'https://www.tripadvisor.com.sg/Restaurant_Review-g294265-d1193730-Reviews-Entre_Nous_creperie-Singapore.html',\n",
       " 'https://www.tripadvisor.com.sg/Restaurant_Review-g294265-d4611806-Reviews-NOX_Dine_in_the_Dark-Singapore.html',\n",
       " 'https://www.tripadvisor.com.sg/Restaurant_Review-g294265-d2089644-Reviews-The_Mind_Cafe-Singapore.html',\n",
       " 'https://www.tripadvisor.com.sg/Restaurant_Review-g294265-d12310362-Reviews-Song_Garden-Singapore.html',\n",
       " 'https://www.tripadvisor.com.sg/Restaurant_Review-g294265-d13873832-Reviews-Fu_Lin_Men_CSC-Singapore.html',\n",
       " 'https://www.tripadvisor.com.sg/Restaurant_Review-g294265-d785219-Reviews-Melt_Cafe-Singapore.html',\n",
       " 'https://www.tripadvisor.com.sg/Restaurant_Review-g294265-d13152787-Reviews-Positano_Risto-Singapore.html',\n",
       " 'https://www.tripadvisor.com.sg/Restaurant_Review-g294265-d10453273-Reviews-Beast_Butterflies-Singapore.html',\n",
       " 'https://www.tripadvisor.com.sg/Restaurant_Review-g294265-d11890575-Reviews-Akira_Back-Singapore.html',\n",
       " 'https://www.tripadvisor.com.sg/Restaurant_Review-g294265-d796940-Reviews-Summer_Pavilion-Singapore.html',\n",
       " 'https://www.tripadvisor.com.sg/Restaurant_Review-g294265-d18190065-Reviews-Le_Noir_Bar_Lounge-Singapore.html',\n",
       " 'https://www.tripadvisor.com.sg/Restaurant_Review-g294265-d948962-Reviews-Dolce_Vita-Singapore.html',\n",
       " 'https://www.tripadvisor.com.sg/Restaurant_Review-g294265-d8571637-Reviews-Colony-Singapore.html',\n",
       " 'https://www.tripadvisor.com.sg/Restaurant_Review-g294265-d15608624-Reviews-Fu_Lin_Men_Chinese_Restaurant_SRC-Singapore.html',\n",
       " 'https://www.tripadvisor.com.sg/Restaurant_Review-g294265-d3952172-Reviews-Waterfall_Ristorante_Italiano-Singapore.html',\n",
       " 'https://www.tripadvisor.com.sg/Restaurant_Review-g294265-d4504877-Reviews-Bar_Roque_Grill-Singapore.html',\n",
       " 'https://www.tripadvisor.com.sg/Restaurant_Review-g294265-d5423955-Reviews-Spice_Brasserie-Singapore.html',\n",
       " 'https://www.tripadvisor.com.sg/Restaurant_Review-g294265-d794020-Reviews-Hua_Ting_Restaurant-Singapore.html',\n",
       " 'https://www.tripadvisor.com.sg/Restaurant_Review-g294265-d2616599-Reviews-Il_Cielo-Singapore.html',\n",
       " 'https://www.tripadvisor.com.sg/Restaurant_Review-g294265-d1018167-Reviews-Paulaner_Brauhaus_Singapore-Singapore.html',\n",
       " 'https://www.tripadvisor.com.sg/Restaurant_Review-g294265-d903929-Reviews-Golden_Peony_at_Conrad_Centennial_Singapore-Singapore.html',\n",
       " 'https://www.tripadvisor.com.sg/Restaurant_Review-g294265-d8582472-Reviews-Chef_s_Table_by_Chef_Stephan_Zoisl-Singapore.html',\n",
       " 'https://www.tripadvisor.com.sg/Restaurant_Review-g294265-d12159080-Reviews-Ginett_Restaurant_Wine_Bar-Singapore.html',\n",
       " 'https://www.tripadvisor.com.sg/Restaurant_Review-g294265-d13355758-Reviews-Origin_Grill-Singapore.html',\n",
       " 'https://www.tripadvisor.com.sg/Restaurant_Review-g294265-d13200545-Reviews-Publico_Ristorante-Singapore.html',\n",
       " 'https://www.tripadvisor.com.sg/Restaurant_Review-g294265-d8504143-Reviews-Alma_By_Juan_Amador-Singapore.html',\n",
       " 'https://www.tripadvisor.com.sg/Restaurant_Review-g294265-d1127934-Reviews-Cherry_Garden-Singapore.html']"
      ]
     },
     "execution_count": 59,
     "metadata": {},
     "output_type": "execute_result"
    }
   ],
   "source": [
    "webpage_list"
   ]
  },
  {
   "cell_type": "code",
   "execution_count": 53,
   "metadata": {
    "scrolled": true
   },
   "outputs": [],
   "source": [
    "# scrape website\n",
    "first_comment = res_containers[6]\n",
    "#first_comment"
   ]
  },
  {
   "cell_type": "code",
   "execution_count": 54,
   "metadata": {},
   "outputs": [],
   "source": [
    "base = 'https://www.tripadvisor.com.sg'"
   ]
  },
  {
   "cell_type": "code",
   "execution_count": 55,
   "metadata": {},
   "outputs": [
    {
     "data": {
      "text/plain": [
       "'https://www.tripadvisor.com.sg/Restaurant_Review-g294265-d12594724-Reviews-The_Lobby_Lounge-Singapore.html'"
      ]
     },
     "execution_count": 55,
     "metadata": {},
     "output_type": "execute_result"
    }
   ],
   "source": [
    "webpage = first_comment.find('a', class_='_15_ydu6b').get('href')\n",
    "base+webpage"
   ]
  },
  {
   "cell_type": "markdown",
   "metadata": {},
   "source": [
    "## Actual Scraping of multiple pages"
   ]
  },
  {
   "cell_type": "code",
   "execution_count": 87,
   "metadata": {},
   "outputs": [
    {
     "name": "stdout",
     "output_type": "stream",
     "text": [
      "['0', '30', '60', '90', '120', '150', '180', '210', '240', '270', '300', '330', '360', '390', '420', '450', '480', '510', '540', '570', '600', '630', '660', '690', '720', '750', '780', '810', '840', '870', '900', '930', '960', '990'] \n",
      "Number of pages scraped: 34\n"
     ]
    }
   ],
   "source": [
    "# get the start value for every new page in tripadvisor\n",
    "start = [str(i) for i in range(0,991,30)]\n",
    "# debug\n",
    "print(start, end=' ')\n",
    "# check number of pages scraped\n",
    "print(f'\\nNumber of pages scraped: {len(start)}')"
   ]
  },
  {
   "cell_type": "code",
   "execution_count": 69,
   "metadata": {},
   "outputs": [
    {
     "name": "stdout",
     "output_type": "stream",
     "text": [
      "Request 1; Frequency: 0.10542315569662902 requests/s\n",
      "Request 1: SUCCESS --> Failed Count: 0\n",
      "Request 2; Frequency: 0.1118967310181415 requests/s\n",
      "Request 2: SUCCESS --> Failed Count: 0\n",
      "Request 3; Frequency: 0.11364892592388336 requests/s\n",
      "Request 3: SUCCESS --> Failed Count: 0\n"
     ]
    },
    {
     "name": "stderr",
     "output_type": "stream",
     "text": [
      "C:\\Users\\nicholasneo78\\AppData\\Roaming\\Python\\Python37\\site-packages\\ipykernel_launcher.py:28: UserWarning: Number of requests was greater than expected.\n"
     ]
    }
   ],
   "source": [
    "# redeclaring lists to store data in\n",
    "\n",
    "# multiple values\n",
    "res_list = []\n",
    "web_list = []\n",
    "base = 'https://www.tripadvisor.com.sg'\n",
    "\n",
    "# number of requests\n",
    "REQUESTS = 3\n",
    "\n",
    "# flag variable to check the scrape\n",
    "# if unsuccessful scrape, try again\n",
    "unsuccessful = True\n",
    "\n",
    "# preparing the monitoring of the loop\n",
    "start_time = time()\n",
    "requests = 1 # start request with request 1\n",
    "\n",
    "# for every pages of stores in an interval of 30\n",
    "for pageStart in start:\n",
    "    \n",
    "    # Throw a warning for non-200 status codes\n",
    "    if response.status_code != 200:\n",
    "        warn('Request: {}; Status code: {}'.format(requests, response.status_code))\n",
    "\n",
    "    # Break the loop if the number of requests is greater than expected\n",
    "    if requests > REQUESTS:\n",
    "        warn('Number of requests was greater than expected.')\n",
    "        break\n",
    "        \n",
    "    unsuccessful = True\n",
    "    fail_count = 0\n",
    "    \n",
    "    while unsuccessful:\n",
    "        # make a get request\n",
    "        #response = get(f'https://www.yelp.com/biz/jumbo-seafood-singapore-4?start={pageStart}')\n",
    "        #response = get(f'https://www.tripadvisor.com.sg/Restaurant_Review-g294265-d7348336-Reviews-or{pageStart}-Sunday_Folks-Singapore.html')\n",
    "        response = get(f'https://www.tripadvisor.com.sg/Restaurants-g294265-oa{pageStart}-Singapore.html')\n",
    "        \n",
    "        # pause the loop\n",
    "        sleep(randint(3,5))\n",
    "\n",
    "        # monitor the requests\n",
    "        elapsed_time = time() - start_time\n",
    "        print(f'Request {requests}; Frequency: {requests/elapsed_time} requests/s')\n",
    "        #clear_output(wait = True)\n",
    "\n",
    "        # Parse the content of the request with BeautifulSoup\n",
    "        page_html = BeautifulSoup(response.text, 'html.parser')\n",
    "\n",
    "        # get the comment container for all 20 comments in a page\n",
    "        res_containers = page_html.find_all('div', class_='_1llCuDZj')\n",
    "        \n",
    "        if len(res_containers) != 0:\n",
    "            print(f\"Request {requests}: SUCCESS --> Failed Count: {fail_count}\")\n",
    "            unsuccessful = False\n",
    "        else:\n",
    "            fail_count+=1\n",
    "            #print(f\"Request {requests}: unsuccessful scrape\") # debug\n",
    "            pass\n",
    "    requests += 1\n",
    "    \n",
    "    for idx, res in enumerate(res_containers):\n",
    "        # to remove ads that may be repetitive\n",
    "        if idx%6 == 0:\n",
    "            continue\n",
    "        else:\n",
    "            # scrape the restaurant names\n",
    "            res_name = res.find('a', class_='_15_ydu6b').text\n",
    "            res_list.append(res_name)\n",
    "\n",
    "            # scrape the webpage of the restaurant\n",
    "            web_name = base + res.find('a', class_='_15_ydu6b').get('href')\n",
    "            web_list.append(web_name)"
   ]
  },
  {
   "cell_type": "code",
   "execution_count": 70,
   "metadata": {},
   "outputs": [
    {
     "data": {
      "text/plain": [
       "90"
      ]
     },
     "execution_count": 70,
     "metadata": {},
     "output_type": "execute_result"
    }
   ],
   "source": [
    "# check number of entries\n",
    "len(res_list)"
   ]
  },
  {
   "cell_type": "markdown",
   "metadata": {},
   "source": [
    "## Fit values scraped into a dataframe"
   ]
  },
  {
   "cell_type": "code",
   "execution_count": 73,
   "metadata": {},
   "outputs": [
    {
     "name": "stdout",
     "output_type": "stream",
     "text": [
      "<class 'pandas.core.frame.DataFrame'>\n",
      "RangeIndex: 90 entries, 0 to 89\n",
      "Data columns (total 2 columns):\n",
      " #   Column             Non-Null Count  Dtype \n",
      "---  ------             --------------  ----- \n",
      " 0   Restaurant's Name  90 non-null     object\n",
      " 1   Webpage            90 non-null     object\n",
      "dtypes: object(2)\n",
      "memory usage: 1.5+ KB\n",
      "None\n"
     ]
    }
   ],
   "source": [
    "res_review = pd.DataFrame({\n",
    "    'Restaurant\\'s Name': res_list,\n",
    "    'Webpage': web_list,\n",
    "})\n",
    "\n",
    "print(cust_review.info())"
   ]
  },
  {
   "cell_type": "code",
   "execution_count": 80,
   "metadata": {},
   "outputs": [
    {
     "data": {
      "text/html": [
       "<div>\n",
       "<style scoped>\n",
       "    .dataframe tbody tr th:only-of-type {\n",
       "        vertical-align: middle;\n",
       "    }\n",
       "\n",
       "    .dataframe tbody tr th {\n",
       "        vertical-align: top;\n",
       "    }\n",
       "\n",
       "    .dataframe thead th {\n",
       "        text-align: right;\n",
       "    }\n",
       "</style>\n",
       "<table border=\"1\" class=\"dataframe\">\n",
       "  <thead>\n",
       "    <tr style=\"text-align: right;\">\n",
       "      <th></th>\n",
       "      <th>Restaurant's Name</th>\n",
       "      <th>Webpage</th>\n",
       "    </tr>\n",
       "  </thead>\n",
       "  <tbody>\n",
       "    <tr>\n",
       "      <th>0</th>\n",
       "      <td>1. Positano @ RP</td>\n",
       "      <td>https://www.tripadvisor.com.sg/Restaurant_Revi...</td>\n",
       "    </tr>\n",
       "    <tr>\n",
       "      <th>1</th>\n",
       "      <td>2. Grand Shanghai Restaurant</td>\n",
       "      <td>https://www.tripadvisor.com.sg/Restaurant_Revi...</td>\n",
       "    </tr>\n",
       "    <tr>\n",
       "      <th>2</th>\n",
       "      <td>3. Fu Lin Men (NSRCC)</td>\n",
       "      <td>https://www.tripadvisor.com.sg/Restaurant_Revi...</td>\n",
       "    </tr>\n",
       "    <tr>\n",
       "      <th>3</th>\n",
       "      <td>4. Entre-Nous creperie</td>\n",
       "      <td>https://www.tripadvisor.com.sg/Restaurant_Revi...</td>\n",
       "    </tr>\n",
       "    <tr>\n",
       "      <th>4</th>\n",
       "      <td>5. NOX - Dine in the Dark</td>\n",
       "      <td>https://www.tripadvisor.com.sg/Restaurant_Revi...</td>\n",
       "    </tr>\n",
       "    <tr>\n",
       "      <th>5</th>\n",
       "      <td>6. The Mind Cafe</td>\n",
       "      <td>https://www.tripadvisor.com.sg/Restaurant_Revi...</td>\n",
       "    </tr>\n",
       "    <tr>\n",
       "      <th>6</th>\n",
       "      <td>7. Song Garden</td>\n",
       "      <td>https://www.tripadvisor.com.sg/Restaurant_Revi...</td>\n",
       "    </tr>\n",
       "    <tr>\n",
       "      <th>7</th>\n",
       "      <td>8. Fu Lin Men (CSC)</td>\n",
       "      <td>https://www.tripadvisor.com.sg/Restaurant_Revi...</td>\n",
       "    </tr>\n",
       "    <tr>\n",
       "      <th>8</th>\n",
       "      <td>9. Melt Cafe</td>\n",
       "      <td>https://www.tripadvisor.com.sg/Restaurant_Revi...</td>\n",
       "    </tr>\n",
       "    <tr>\n",
       "      <th>9</th>\n",
       "      <td>10. Positano Risto</td>\n",
       "      <td>https://www.tripadvisor.com.sg/Restaurant_Revi...</td>\n",
       "    </tr>\n",
       "  </tbody>\n",
       "</table>\n",
       "</div>"
      ],
      "text/plain": [
       "              Restaurant's Name  \\\n",
       "0              1. Positano @ RP   \n",
       "1  2. Grand Shanghai Restaurant   \n",
       "2         3. Fu Lin Men (NSRCC)   \n",
       "3        4. Entre-Nous creperie   \n",
       "4     5. NOX - Dine in the Dark   \n",
       "5              6. The Mind Cafe   \n",
       "6                7. Song Garden   \n",
       "7           8. Fu Lin Men (CSC)   \n",
       "8                  9. Melt Cafe   \n",
       "9            10. Positano Risto   \n",
       "\n",
       "                                             Webpage  \n",
       "0  https://www.tripadvisor.com.sg/Restaurant_Revi...  \n",
       "1  https://www.tripadvisor.com.sg/Restaurant_Revi...  \n",
       "2  https://www.tripadvisor.com.sg/Restaurant_Revi...  \n",
       "3  https://www.tripadvisor.com.sg/Restaurant_Revi...  \n",
       "4  https://www.tripadvisor.com.sg/Restaurant_Revi...  \n",
       "5  https://www.tripadvisor.com.sg/Restaurant_Revi...  \n",
       "6  https://www.tripadvisor.com.sg/Restaurant_Revi...  \n",
       "7  https://www.tripadvisor.com.sg/Restaurant_Revi...  \n",
       "8  https://www.tripadvisor.com.sg/Restaurant_Revi...  \n",
       "9  https://www.tripadvisor.com.sg/Restaurant_Revi...  "
      ]
     },
     "execution_count": 80,
     "metadata": {},
     "output_type": "execute_result"
    }
   ],
   "source": [
    "res_review.head(10)"
   ]
  },
  {
   "cell_type": "code",
   "execution_count": 81,
   "metadata": {},
   "outputs": [],
   "source": [
    "cust_review.to_csv('./data/trip-advisor-scraper-main.csv', index=False)"
   ]
  },
  {
   "cell_type": "code",
   "execution_count": null,
   "metadata": {},
   "outputs": [],
   "source": []
  }
 ],
 "metadata": {
  "kernelspec": {
   "display_name": "Python 3",
   "language": "python",
   "name": "python3"
  },
  "language_info": {
   "codemirror_mode": {
    "name": "ipython",
    "version": 3
   },
   "file_extension": ".py",
   "mimetype": "text/x-python",
   "name": "python",
   "nbconvert_exporter": "python",
   "pygments_lexer": "ipython3",
   "version": "3.7.7"
  }
 },
 "nbformat": 4,
 "nbformat_minor": 4
}
