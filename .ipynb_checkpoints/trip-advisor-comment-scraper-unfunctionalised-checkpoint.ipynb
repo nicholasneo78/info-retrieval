{
 "cells": [
  {
   "cell_type": "markdown",
   "metadata": {},
   "source": [
    "## trip-advisor-comment-scraper-unfunctionalised"
   ]
  },
  {
   "cell_type": "code",
   "execution_count": 1,
   "metadata": {},
   "outputs": [],
   "source": [
    "# import necessary libraries\n",
    "from requests import get\n",
    "import matplotlib.pyplot as plt\n",
    "from bs4 import BeautifulSoup\n",
    "import pandas as pd\n",
    "from time import sleep\n",
    "from random import randint\n",
    "from time import time \n",
    "from IPython.core.display import clear_output\n",
    "from warnings import warn\n",
    "import datetime"
   ]
  },
  {
   "cell_type": "markdown",
   "metadata": {},
   "source": [
    "## Small test to automate re-scraping if it fails"
   ]
  },
  {
   "cell_type": "code",
   "execution_count": 2,
   "metadata": {},
   "outputs": [
    {
     "name": "stdout",
     "output_type": "stream",
     "text": [
      "<class 'bs4.element.ResultSet'>\n",
      "10\n"
     ]
    }
   ],
   "source": [
    "# flag variable to check the scrape\n",
    "# if unsuccessful scrape, try again\n",
    "unsuccessful = True\n",
    "#count = 0\n",
    "while unsuccessful:\n",
    "    url = 'https://www.tripadvisor.com.sg/Restaurant_Review-g294265-d7348336-Reviews-or0-Sunday_Folks-Singapore.html'\n",
    "    # make request to the site\n",
    "    response = get(url)\n",
    "    html_soup = BeautifulSoup(response.text,'html.parser')\n",
    "    \n",
    "    # find all with the same class tag\n",
    "    res_containers = html_soup.find_all('div', class_='review-container')\n",
    "    print(type(res_containers))\n",
    "    # check the number entries in a page and to determine the next page value for skipping\n",
    "    print(len(res_containers))\n",
    "    \n",
    "    # pause the loop\n",
    "    sleep(randint(2,5))\n",
    "    \n",
    "    if len(res_containers) != 0:\n",
    "        unsuccessful = False"
   ]
  },
  {
   "cell_type": "code",
   "execution_count": 59,
   "metadata": {},
   "outputs": [],
   "source": [
    "# testing\n",
    "# values in the tags of the second entry\n",
    "first_comment = res_containers[6]\n",
    "#first_comment"
   ]
  },
  {
   "cell_type": "markdown",
   "metadata": {},
   "source": [
    "## Small Test: Scraper code for one entry"
   ]
  },
  {
   "cell_type": "code",
   "execution_count": 60,
   "metadata": {},
   "outputs": [
    {
     "data": {
      "text/plain": [
       "'sowmyai5'"
      ]
     },
     "execution_count": 60,
     "metadata": {},
     "output_type": "execute_result"
    }
   ],
   "source": [
    "# get name of first customer\n",
    "cust_name = first_comment.find('div', class_='info_text pointer_cursor').text\n",
    "cust_name"
   ]
  },
  {
   "cell_type": "code",
   "execution_count": 61,
   "metadata": {},
   "outputs": [
    {
     "data": {
      "text/plain": [
       "'bubble_30'"
      ]
     },
     "execution_count": 61,
     "metadata": {},
     "output_type": "execute_result"
    }
   ],
   "source": [
    "# get user rating\n",
    "rate = first_comment.find('div', class_ ='ui_column is-9').span['class']\n",
    "rate[1]"
   ]
  },
  {
   "cell_type": "code",
   "execution_count": 62,
   "metadata": {},
   "outputs": [],
   "source": [
    "# convert the rating to an integer\n",
    "rate_int = 0\n",
    "if rate[1] == 'bubble_50':\n",
    "    rate_int = 5\n",
    "elif rate[1] == 'bubble_40':\n",
    "    rate_int = 4\n",
    "elif rate[1] == 'bubble_30':\n",
    "    rate_int = 3\n",
    "elif rate[1] == 'bubble_20':\n",
    "    rate_int = 2\n",
    "elif rate[1] == 'bubble_10':\n",
    "    rate_int = 1\n",
    "else:\n",
    "    rate_int = 0"
   ]
  },
  {
   "cell_type": "code",
   "execution_count": 63,
   "metadata": {},
   "outputs": [
    {
     "data": {
      "text/plain": [
       "3"
      ]
     },
     "execution_count": 63,
     "metadata": {},
     "output_type": "execute_result"
    }
   ],
   "source": [
    "rate_int"
   ]
  },
  {
   "cell_type": "code",
   "execution_count": 77,
   "metadata": {},
   "outputs": [
    {
     "data": {
      "text/plain": [
       "\"I have been to Sunday Folks before and have enjoyed my time but sadly, this time round was a huge let down. They no longer have the pistachio and vanilla flavours, the soft serve is hollow inside (they just make a large outside cone so...they essentially give less ice cream than before) and they don't even give it on the thin chocolate wafers anymore, but rather just a dull marie biscuit. The taste overall also seemed rather lackluster and just was not worth the price.More\""
      ]
     },
     "execution_count": 77,
     "metadata": {},
     "output_type": "execute_result"
    }
   ],
   "source": [
    "# get user comment\n",
    "comment_raw = first_comment.find('div', class_='entry').text\n",
    "comment_raw"
   ]
  },
  {
   "cell_type": "code",
   "execution_count": 80,
   "metadata": {},
   "outputs": [
    {
     "data": {
      "text/plain": [
       "\"I have been to Sunday Folks before and have enjoyed my time but sadly, this time round was a huge let down. They no longer have the pistachio and vanilla flavours, the soft serve is hollow inside (they just make a large outside cone so they essentially give less ice cream than before) and they don't even give it on the thin chocolate wafers anymore, but rather just a dull marie biscuit. The taste overall also seemed rather lackluster and just was not worth the price.\""
      ]
     },
     "execution_count": 80,
     "metadata": {},
     "output_type": "execute_result"
    }
   ],
   "source": [
    "# get rid of the unwanted characters like \"...\" and \"More\"\n",
    "comment_ = comment_raw.replace(\"...\",\" \")\n",
    "\n",
    "# remove instances with \"More\" tab if there are more words\n",
    "comment = \"\"\n",
    "if comment_[-5:] == \".More\":\n",
    "    comment = comment_[:-4]\n",
    "else:\n",
    "    comment = comment_\n",
    "    \n",
    "comment"
   ]
  },
  {
   "cell_type": "markdown",
   "metadata": {},
   "source": [
    "## Get restaurant type & name from the header"
   ]
  },
  {
   "cell_type": "code",
   "execution_count": 14,
   "metadata": {},
   "outputs": [
    {
     "name": "stdout",
     "output_type": "stream",
     "text": [
      "Restaurant type: Dessert, Cafe, "
     ]
    }
   ],
   "source": [
    "res_containers1 = html_soup.find_all('span', class_='_13OzAOXO _34GKdBMV')\n",
    "#print(res_containers1[2]) # the corresponding res words are there\n",
    "res_type = res_containers1[0].find_all('a', class_= '_2mn01bsa')\n",
    "print(\"Restaurant type:\", end=' ')\n",
    "res_list = []\n",
    "for res in res_type[1:]:\n",
    "    print(res.get_text(), end=', ')\n",
    "    res_list.append(res.get_text())"
   ]
  },
  {
   "cell_type": "code",
   "execution_count": 16,
   "metadata": {},
   "outputs": [
    {
     "name": "stdout",
     "output_type": "stream",
     "text": [
      "Restaurant name: Sunday Folks\n"
     ]
    }
   ],
   "source": [
    "# get restaurant name\n",
    "res_name = html_soup.find('h1', class_='_3a1XQ88S').text\n",
    "print(f\"Restaurant name: {res_name}\")"
   ]
  },
  {
   "cell_type": "markdown",
   "metadata": {},
   "source": [
    "## Actual Scraping"
   ]
  },
  {
   "cell_type": "code",
   "execution_count": 82,
   "metadata": {},
   "outputs": [
    {
     "name": "stdout",
     "output_type": "stream",
     "text": [
      "['0', '10', '20', '30', '40', '50', '60', '70', '80', '90', '100', '110', '120', '130', '140', '150', '160', '170', '180', '190', '200', '210', '220', '230', '240'] "
     ]
    }
   ],
   "source": [
    "# get the start value for every new page in yelp\n",
    "start = [str(i) for i in range(0,241,10)]\n",
    "# debug\n",
    "print(start, end=' ')"
   ]
  },
  {
   "cell_type": "code",
   "execution_count": 83,
   "metadata": {},
   "outputs": [
    {
     "name": "stdout",
     "output_type": "stream",
     "text": [
      "Request 1; Frequency: 0.19632897970815102 requests/s\n",
      "Request 1: SUCCESS --> Failed Count: 0\n",
      "Request 2; Frequency: 0.14499073694220832 requests/s\n",
      "Request 2: SUCCESS --> Failed Count: 0\n",
      "Request 3; Frequency: 0.13966176133348468 requests/s\n",
      "Request 3: SUCCESS --> Failed Count: 0\n"
     ]
    },
    {
     "name": "stderr",
     "output_type": "stream",
     "text": [
      "<ipython-input-83-347752837c2f>:28: UserWarning: Number of requests was greater than expected.\n",
      "  warn('Number of requests was greater than expected.')\n"
     ]
    }
   ],
   "source": [
    "# redeclaring lists to store data in\n",
    "\n",
    "# multiple values\n",
    "cust_names = []\n",
    "cust_ratings = []\n",
    "cust_comments = []\n",
    "\n",
    "# number of requests\n",
    "REQUESTS = 3\n",
    "\n",
    "# flag variable to check the scrape\n",
    "# if unsuccessful scrape, try again\n",
    "unsuccessful = True\n",
    "\n",
    "# preparing the monitoring of the loop\n",
    "start_time = time()\n",
    "requests = 1 # start request with request 1\n",
    "\n",
    "# for every comment in the interval of 20\n",
    "for pageStart in start:\n",
    "    \n",
    "    # Throw a warning for non-200 status codes\n",
    "    if response.status_code != 200:\n",
    "        warn('Request: {}; Status code: {}'.format(requests, response.status_code))\n",
    "\n",
    "    # Break the loop if the number of requests is greater than expected\n",
    "    if requests > REQUESTS:\n",
    "        warn('Number of requests was greater than expected.')\n",
    "        break\n",
    "        \n",
    "    unsuccessful = True\n",
    "    fail_count = 0\n",
    "    \n",
    "    while unsuccessful:\n",
    "        # make a get request\n",
    "        #response = get(f'https://www.yelp.com/biz/jumbo-seafood-singapore-4?start={pageStart}')\n",
    "        response = get(f'https://www.tripadvisor.com.sg/Restaurant_Review-g294265-d7348336-Reviews-or{pageStart}-Sunday_Folks-Singapore.html')\n",
    "        \n",
    "        # pause the loop\n",
    "        sleep(randint(3,5))\n",
    "\n",
    "        # monitor the requests\n",
    "        elapsed_time = time() - start_time\n",
    "        print(f'Request {requests}; Frequency: {requests/elapsed_time} requests/s')\n",
    "        #clear_output(wait = True)\n",
    "\n",
    "        # Parse the content of the request with BeautifulSoup\n",
    "        page_html = BeautifulSoup(response.text, 'html.parser')\n",
    "\n",
    "        # get the comment container for all 20 comments in a page\n",
    "        comment_containers = page_html.find_all('div', class_='review-container')\n",
    "        \n",
    "        if len(comment_containers) != 0:\n",
    "            print(f\"Request {requests}: SUCCESS --> Failed Count: {fail_count}\")\n",
    "            unsuccessful = False\n",
    "        else:\n",
    "            fail_count+=1\n",
    "            #print(f\"Request {requests}: unsuccessful scrape\") # debug\n",
    "            pass\n",
    "    requests += 1\n",
    "    \n",
    "    # for every comments in 20\n",
    "    for com in comment_containers:\n",
    "        \n",
    "        # scrape the customer name\n",
    "        cust_name = com.find('div', class_='info_text pointer_cursor').text\n",
    "        cust_names.append(cust_name)\n",
    "        \n",
    "        # scrape the customer ratings\n",
    "        cust_rating_raw = com.find('div', class_ ='ui_column is-9').span['class']\n",
    "        \n",
    "        # convert the rating to an integer\n",
    "        cust_rating = 0\n",
    "        if cust_rating_raw[1] == 'bubble_50':\n",
    "            cust_rating = 5\n",
    "        elif cust_rating_raw[1] == 'bubble_40':\n",
    "            cust_rating = 4\n",
    "        elif cust_rating_raw[1] == 'bubble_30':\n",
    "            cust_rating = 3\n",
    "        elif cust_rating_raw[1] == 'bubble_20':\n",
    "            cust_rating = 2\n",
    "        elif cust_rating_raw[1] == 'bubble_10':\n",
    "            cust_rating = 1\n",
    "        else:\n",
    "            cust_rating = 0\n",
    "        cust_ratings.append(cust_rating)\n",
    "        \n",
    "        # scrape the customer comment\n",
    "        cust_comment_raw = com.find('div', class_='entry').text\n",
    "        \n",
    "        # get rid of the unwanted characters like \"...\" and \"More\"\n",
    "        comment_ = cust_comment_raw.replace(\"...\",\" \")\n",
    "\n",
    "        # remove instances with \"More\" tab if there are more words\n",
    "        cust_comment = \"\"\n",
    "        if comment_[-5:] == \".More\":\n",
    "            cust_comment = comment_[:-4]\n",
    "        else:\n",
    "            cust_comment = comment_\n",
    "\n",
    "        cust_comments.append(cust_comment)"
   ]
  },
  {
   "cell_type": "code",
   "execution_count": 84,
   "metadata": {},
   "outputs": [
    {
     "data": {
      "text/plain": [
       "30"
      ]
     },
     "execution_count": 84,
     "metadata": {},
     "output_type": "execute_result"
    }
   ],
   "source": [
    "# check the number of entries\n",
    "len(cust_names)"
   ]
  },
  {
   "cell_type": "code",
   "execution_count": 89,
   "metadata": {},
   "outputs": [],
   "source": [
    "# debug: take a look at the data entries\n",
    "#print(cust_names)\n",
    "#print(cust_ratings)\n",
    "#print(cust_comments)"
   ]
  },
  {
   "cell_type": "markdown",
   "metadata": {},
   "source": [
    "## Fit values scraped into a dataframe"
   ]
  },
  {
   "cell_type": "code",
   "execution_count": 91,
   "metadata": {},
   "outputs": [
    {
     "name": "stdout",
     "output_type": "stream",
     "text": [
      "<class 'pandas.core.frame.DataFrame'>\n",
      "RangeIndex: 30 entries, 0 to 29\n",
      "Data columns (total 5 columns):\n",
      " #   Column           Non-Null Count  Dtype \n",
      "---  ------           --------------  ----- \n",
      " 0   Reviewer's Name  30 non-null     object\n",
      " 1   Rating           30 non-null     int64 \n",
      " 2   Comment          30 non-null     object\n",
      " 3   Restaurant Type  30 non-null     object\n",
      " 4   Restaurant Name  30 non-null     object\n",
      "dtypes: int64(1), object(4)\n",
      "memory usage: 1.3+ KB\n",
      "None\n"
     ]
    }
   ],
   "source": [
    "cust_review = pd.DataFrame({\n",
    "    'Reviewer\\'s Name': cust_names,\n",
    "    'Rating': cust_ratings,\n",
    "    'Comment': cust_comments,\n",
    "})\n",
    "\n",
    "# append 2 new columns to identify the store name and its type\n",
    "cust_review['Restaurant Type'] = str(res_list)\n",
    "cust_review['Restaurant Name'] = res_name\n",
    "\n",
    "print(cust_review.info())"
   ]
  },
  {
   "cell_type": "code",
   "execution_count": 92,
   "metadata": {},
   "outputs": [
    {
     "data": {
      "text/html": [
       "<div>\n",
       "<style scoped>\n",
       "    .dataframe tbody tr th:only-of-type {\n",
       "        vertical-align: middle;\n",
       "    }\n",
       "\n",
       "    .dataframe tbody tr th {\n",
       "        vertical-align: top;\n",
       "    }\n",
       "\n",
       "    .dataframe thead th {\n",
       "        text-align: right;\n",
       "    }\n",
       "</style>\n",
       "<table border=\"1\" class=\"dataframe\">\n",
       "  <thead>\n",
       "    <tr style=\"text-align: right;\">\n",
       "      <th></th>\n",
       "      <th>Reviewer's Name</th>\n",
       "      <th>Rating</th>\n",
       "      <th>Comment</th>\n",
       "      <th>Restaurant Type</th>\n",
       "      <th>Restaurant Name</th>\n",
       "    </tr>\n",
       "  </thead>\n",
       "  <tbody>\n",
       "    <tr>\n",
       "      <th>0</th>\n",
       "      <td>bee355</td>\n",
       "      <td>5</td>\n",
       "      <td>Parents and husband enjoyed the soft serve and...</td>\n",
       "      <td>['Dessert', 'Cafe']</td>\n",
       "      <td>Sunday Folks</td>\n",
       "    </tr>\n",
       "    <tr>\n",
       "      <th>1</th>\n",
       "      <td>angelachen1910</td>\n",
       "      <td>4</td>\n",
       "      <td>When we arrived for our appointment/ booking t...</td>\n",
       "      <td>['Dessert', 'Cafe']</td>\n",
       "      <td>Sunday Folks</td>\n",
       "    </tr>\n",
       "    <tr>\n",
       "      <th>2</th>\n",
       "      <td>smhisham</td>\n",
       "      <td>5</td>\n",
       "      <td>Love every dessert ordered, even the coffee, A...</td>\n",
       "      <td>['Dessert', 'Cafe']</td>\n",
       "      <td>Sunday Folks</td>\n",
       "    </tr>\n",
       "    <tr>\n",
       "      <th>3</th>\n",
       "      <td>Alex A</td>\n",
       "      <td>5</td>\n",
       "      <td>Superb service and excellent waffles and ice c...</td>\n",
       "      <td>['Dessert', 'Cafe']</td>\n",
       "      <td>Sunday Folks</td>\n",
       "    </tr>\n",
       "    <tr>\n",
       "      <th>4</th>\n",
       "      <td>ZhenJing A</td>\n",
       "      <td>5</td>\n",
       "      <td>Enjoy our Sunday afternoon with the Yummy waff...</td>\n",
       "      <td>['Dessert', 'Cafe']</td>\n",
       "      <td>Sunday Folks</td>\n",
       "    </tr>\n",
       "    <tr>\n",
       "      <th>5</th>\n",
       "      <td>Jenny Y</td>\n",
       "      <td>5</td>\n",
       "      <td>Love the earl grey lavender ice cream sits on ...</td>\n",
       "      <td>['Dessert', 'Cafe']</td>\n",
       "      <td>Sunday Folks</td>\n",
       "    </tr>\n",
       "    <tr>\n",
       "      <th>6</th>\n",
       "      <td>sowmyai5</td>\n",
       "      <td>3</td>\n",
       "      <td>I have been to Sunday Folks before and have en...</td>\n",
       "      <td>['Dessert', 'Cafe']</td>\n",
       "      <td>Sunday Folks</td>\n",
       "    </tr>\n",
       "    <tr>\n",
       "      <th>7</th>\n",
       "      <td>darkhonour</td>\n",
       "      <td>5</td>\n",
       "      <td>I visited Sunday Folks as they had the kaya to...</td>\n",
       "      <td>['Dessert', 'Cafe']</td>\n",
       "      <td>Sunday Folks</td>\n",
       "    </tr>\n",
       "    <tr>\n",
       "      <th>8</th>\n",
       "      <td>Marcusmeow</td>\n",
       "      <td>5</td>\n",
       "      <td>Went here for a high tea session with friends ...</td>\n",
       "      <td>['Dessert', 'Cafe']</td>\n",
       "      <td>Sunday Folks</td>\n",
       "    </tr>\n",
       "    <tr>\n",
       "      <th>9</th>\n",
       "      <td>princesspreets</td>\n",
       "      <td>4</td>\n",
       "      <td>we were really looking forward to waffles, but...</td>\n",
       "      <td>['Dessert', 'Cafe']</td>\n",
       "      <td>Sunday Folks</td>\n",
       "    </tr>\n",
       "    <tr>\n",
       "      <th>10</th>\n",
       "      <td>Cera K</td>\n",
       "      <td>4</td>\n",
       "      <td>Was excited to go back for their signature waf...</td>\n",
       "      <td>['Dessert', 'Cafe']</td>\n",
       "      <td>Sunday Folks</td>\n",
       "    </tr>\n",
       "    <tr>\n",
       "      <th>11</th>\n",
       "      <td>insertnamerighthere</td>\n",
       "      <td>5</td>\n",
       "      <td>They do soft serve ice cream really well! one ...</td>\n",
       "      <td>['Dessert', 'Cafe']</td>\n",
       "      <td>Sunday Folks</td>\n",
       "    </tr>\n",
       "    <tr>\n",
       "      <th>12</th>\n",
       "      <td>pingguo301</td>\n",
       "      <td>4</td>\n",
       "      <td>Crispy waffles and yummy soft serve (we tried ...</td>\n",
       "      <td>['Dessert', 'Cafe']</td>\n",
       "      <td>Sunday Folks</td>\n",
       "    </tr>\n",
       "    <tr>\n",
       "      <th>13</th>\n",
       "      <td>pauljer</td>\n",
       "      <td>5</td>\n",
       "      <td>Singapore’s dessert scene is anything but bori...</td>\n",
       "      <td>['Dessert', 'Cafe']</td>\n",
       "      <td>Sunday Folks</td>\n",
       "    </tr>\n",
       "    <tr>\n",
       "      <th>14</th>\n",
       "      <td>AndyCworld</td>\n",
       "      <td>1</td>\n",
       "      <td>So much for open until 11pm. Traveled across t...</td>\n",
       "      <td>['Dessert', 'Cafe']</td>\n",
       "      <td>Sunday Folks</td>\n",
       "    </tr>\n",
       "    <tr>\n",
       "      <th>15</th>\n",
       "      <td>Pukimon97</td>\n",
       "      <td>5</td>\n",
       "      <td>Been here for a few times and I really love th...</td>\n",
       "      <td>['Dessert', 'Cafe']</td>\n",
       "      <td>Sunday Folks</td>\n",
       "    </tr>\n",
       "    <tr>\n",
       "      <th>16</th>\n",
       "      <td>adrickh2018</td>\n",
       "      <td>4</td>\n",
       "      <td>Waffle is yummy. We ordered tiramisu cake as w...</td>\n",
       "      <td>['Dessert', 'Cafe']</td>\n",
       "      <td>Sunday Folks</td>\n",
       "    </tr>\n",
       "    <tr>\n",
       "      <th>17</th>\n",
       "      <td>SarahC11639</td>\n",
       "      <td>3</td>\n",
       "      <td>Sadly not as great as I remembered. The waffle...</td>\n",
       "      <td>['Dessert', 'Cafe']</td>\n",
       "      <td>Sunday Folks</td>\n",
       "    </tr>\n",
       "    <tr>\n",
       "      <th>18</th>\n",
       "      <td>64xinyuc</td>\n",
       "      <td>4</td>\n",
       "      <td>Booked via chope but the downside is the minim...</td>\n",
       "      <td>['Dessert', 'Cafe']</td>\n",
       "      <td>Sunday Folks</td>\n",
       "    </tr>\n",
       "    <tr>\n",
       "      <th>19</th>\n",
       "      <td>scottkjphotography</td>\n",
       "      <td>5</td>\n",
       "      <td>A pleasant dessert experience here at Sunday F...</td>\n",
       "      <td>['Dessert', 'Cafe']</td>\n",
       "      <td>Sunday Folks</td>\n",
       "    </tr>\n",
       "  </tbody>\n",
       "</table>\n",
       "</div>"
      ],
      "text/plain": [
       "        Reviewer's Name  Rating  \\\n",
       "0                bee355       5   \n",
       "1        angelachen1910       4   \n",
       "2              smhisham       5   \n",
       "3                Alex A       5   \n",
       "4            ZhenJing A       5   \n",
       "5               Jenny Y       5   \n",
       "6              sowmyai5       3   \n",
       "7            darkhonour       5   \n",
       "8            Marcusmeow       5   \n",
       "9        princesspreets       4   \n",
       "10               Cera K       4   \n",
       "11  insertnamerighthere       5   \n",
       "12           pingguo301       4   \n",
       "13              pauljer       5   \n",
       "14           AndyCworld       1   \n",
       "15            Pukimon97       5   \n",
       "16          adrickh2018       4   \n",
       "17          SarahC11639       3   \n",
       "18             64xinyuc       4   \n",
       "19   scottkjphotography       5   \n",
       "\n",
       "                                              Comment      Restaurant Type  \\\n",
       "0   Parents and husband enjoyed the soft serve and...  ['Dessert', 'Cafe']   \n",
       "1   When we arrived for our appointment/ booking t...  ['Dessert', 'Cafe']   \n",
       "2   Love every dessert ordered, even the coffee, A...  ['Dessert', 'Cafe']   \n",
       "3   Superb service and excellent waffles and ice c...  ['Dessert', 'Cafe']   \n",
       "4   Enjoy our Sunday afternoon with the Yummy waff...  ['Dessert', 'Cafe']   \n",
       "5   Love the earl grey lavender ice cream sits on ...  ['Dessert', 'Cafe']   \n",
       "6   I have been to Sunday Folks before and have en...  ['Dessert', 'Cafe']   \n",
       "7   I visited Sunday Folks as they had the kaya to...  ['Dessert', 'Cafe']   \n",
       "8   Went here for a high tea session with friends ...  ['Dessert', 'Cafe']   \n",
       "9   we were really looking forward to waffles, but...  ['Dessert', 'Cafe']   \n",
       "10  Was excited to go back for their signature waf...  ['Dessert', 'Cafe']   \n",
       "11  They do soft serve ice cream really well! one ...  ['Dessert', 'Cafe']   \n",
       "12  Crispy waffles and yummy soft serve (we tried ...  ['Dessert', 'Cafe']   \n",
       "13  Singapore’s dessert scene is anything but bori...  ['Dessert', 'Cafe']   \n",
       "14  So much for open until 11pm. Traveled across t...  ['Dessert', 'Cafe']   \n",
       "15  Been here for a few times and I really love th...  ['Dessert', 'Cafe']   \n",
       "16  Waffle is yummy. We ordered tiramisu cake as w...  ['Dessert', 'Cafe']   \n",
       "17  Sadly not as great as I remembered. The waffle...  ['Dessert', 'Cafe']   \n",
       "18  Booked via chope but the downside is the minim...  ['Dessert', 'Cafe']   \n",
       "19  A pleasant dessert experience here at Sunday F...  ['Dessert', 'Cafe']   \n",
       "\n",
       "   Restaurant Name  \n",
       "0     Sunday Folks  \n",
       "1     Sunday Folks  \n",
       "2     Sunday Folks  \n",
       "3     Sunday Folks  \n",
       "4     Sunday Folks  \n",
       "5     Sunday Folks  \n",
       "6     Sunday Folks  \n",
       "7     Sunday Folks  \n",
       "8     Sunday Folks  \n",
       "9     Sunday Folks  \n",
       "10    Sunday Folks  \n",
       "11    Sunday Folks  \n",
       "12    Sunday Folks  \n",
       "13    Sunday Folks  \n",
       "14    Sunday Folks  \n",
       "15    Sunday Folks  \n",
       "16    Sunday Folks  \n",
       "17    Sunday Folks  \n",
       "18    Sunday Folks  \n",
       "19    Sunday Folks  "
      ]
     },
     "execution_count": 92,
     "metadata": {},
     "output_type": "execute_result"
    }
   ],
   "source": [
    "cust_review.head(20)"
   ]
  },
  {
   "cell_type": "code",
   "execution_count": 93,
   "metadata": {},
   "outputs": [],
   "source": [
    "cust_review.to_csv('./data/tripadvisor_sunday_folks_comments.csv', index=False)"
   ]
  },
  {
   "cell_type": "code",
   "execution_count": null,
   "metadata": {},
   "outputs": [],
   "source": []
  }
 ],
 "metadata": {
  "kernelspec": {
   "display_name": "Python 3",
   "language": "python",
   "name": "python3"
  },
  "language_info": {
   "codemirror_mode": {
    "name": "ipython",
    "version": 3
   },
   "file_extension": ".py",
   "mimetype": "text/x-python",
   "name": "python",
   "nbconvert_exporter": "python",
   "pygments_lexer": "ipython3",
   "version": "3.7.7"
  }
 },
 "nbformat": 4,
 "nbformat_minor": 4
}
