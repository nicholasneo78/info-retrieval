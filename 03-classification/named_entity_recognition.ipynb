{
 "cells": [
  {
   "cell_type": "code",
   "execution_count": null,
   "metadata": {
    "colab": {
     "base_uri": "https://localhost:8080/"
    },
    "id": "y3HMENFx9vMe",
    "outputId": "049e5bcd-82c9-4b04-b921-98824cf5dccb"
   },
   "outputs": [
    {
     "name": "stdout",
     "output_type": "stream",
     "text": [
      "Mounted at /content/drive\n"
     ]
    }
   ],
   "source": [
    "# connect to google colab\n",
    "from google.colab import drive\n",
    "drive.mount(\"/content/drive\")"
   ]
  },
  {
   "cell_type": "markdown",
   "metadata": {
    "id": "Bt5YjtFl-fUA"
   },
   "source": [
    "# Named Entity Recognition"
   ]
  },
  {
   "cell_type": "markdown",
   "metadata": {
    "id": "Ej5WjFt3_Sdp"
   },
   "source": [
    "### Do necessary imports"
   ]
  },
  {
   "cell_type": "code",
   "execution_count": null,
   "metadata": {
    "colab": {
     "base_uri": "https://localhost:8080/"
    },
    "id": "FjrIL3uD94uA",
    "outputId": "d910f2e1-8350-431d-8bd8-ffbfab2525da"
   },
   "outputs": [
    {
     "name": "stdout",
     "output_type": "stream",
     "text": [
      "Reading package lists... Done\n",
      "Building dependency tree       \n",
      "Reading state information... Done\n",
      "python3-tk is already the newest version (3.6.9-1~18.04).\n",
      "The following additional packages will be installed:\n",
      "  fonts-droid-fallback fonts-noto-mono gsfonts libcupsfilters1 libcupsimage2\n",
      "  libgs9 libgs9-common libijs-0.35 libjbig2dec0 poppler-data\n",
      "Suggested packages:\n",
      "  fonts-noto ghostscript-x poppler-utils fonts-japanese-mincho\n",
      "  | fonts-ipafont-mincho fonts-japanese-gothic | fonts-ipafont-gothic\n",
      "  fonts-arphic-ukai fonts-arphic-uming fonts-nanum\n",
      "The following NEW packages will be installed:\n",
      "  fonts-droid-fallback fonts-noto-mono ghostscript gsfonts libcupsfilters1\n",
      "  libcupsimage2 libgs9 libgs9-common libijs-0.35 libjbig2dec0 poppler-data\n",
      "0 upgraded, 11 newly installed, 0 to remove and 31 not upgraded.\n",
      "Need to get 14.1 MB of archives.\n",
      "After this operation, 49.9 MB of additional disk space will be used.\n",
      "Get:1 http://archive.ubuntu.com/ubuntu bionic/main amd64 fonts-droid-fallback all 1:6.0.1r16-1.1 [1,805 kB]\n",
      "Get:2 http://archive.ubuntu.com/ubuntu bionic/main amd64 poppler-data all 0.4.8-2 [1,479 kB]\n",
      "Get:3 http://archive.ubuntu.com/ubuntu bionic/main amd64 fonts-noto-mono all 20171026-2 [75.5 kB]\n",
      "Get:4 http://archive.ubuntu.com/ubuntu bionic-updates/main amd64 libcupsimage2 amd64 2.2.7-1ubuntu2.8 [18.6 kB]\n",
      "Get:5 http://archive.ubuntu.com/ubuntu bionic/main amd64 libijs-0.35 amd64 0.35-13 [15.5 kB]\n",
      "Get:6 http://archive.ubuntu.com/ubuntu bionic/main amd64 libjbig2dec0 amd64 0.13-6 [55.9 kB]\n",
      "Get:7 http://archive.ubuntu.com/ubuntu bionic-updates/main amd64 libgs9-common all 9.26~dfsg+0-0ubuntu0.18.04.14 [5,092 kB]\n",
      "Get:8 http://archive.ubuntu.com/ubuntu bionic-updates/main amd64 libgs9 amd64 9.26~dfsg+0-0ubuntu0.18.04.14 [2,265 kB]\n",
      "Get:9 http://archive.ubuntu.com/ubuntu bionic-updates/main amd64 ghostscript amd64 9.26~dfsg+0-0ubuntu0.18.04.14 [51.3 kB]\n",
      "Get:10 http://archive.ubuntu.com/ubuntu bionic/main amd64 gsfonts all 1:8.11+urwcyr1.0.7~pre44-4.4 [3,120 kB]\n",
      "Get:11 http://archive.ubuntu.com/ubuntu bionic-updates/main amd64 libcupsfilters1 amd64 1.20.2-0ubuntu3.1 [108 kB]\n",
      "Fetched 14.1 MB in 2s (9,079 kB/s)\n",
      "Selecting previously unselected package fonts-droid-fallback.\n",
      "(Reading database ... 160983 files and directories currently installed.)\n",
      "Preparing to unpack .../00-fonts-droid-fallback_1%3a6.0.1r16-1.1_all.deb ...\n",
      "Unpacking fonts-droid-fallback (1:6.0.1r16-1.1) ...\n",
      "Selecting previously unselected package poppler-data.\n",
      "Preparing to unpack .../01-poppler-data_0.4.8-2_all.deb ...\n",
      "Unpacking poppler-data (0.4.8-2) ...\n",
      "Selecting previously unselected package fonts-noto-mono.\n",
      "Preparing to unpack .../02-fonts-noto-mono_20171026-2_all.deb ...\n",
      "Unpacking fonts-noto-mono (20171026-2) ...\n",
      "Selecting previously unselected package libcupsimage2:amd64.\n",
      "Preparing to unpack .../03-libcupsimage2_2.2.7-1ubuntu2.8_amd64.deb ...\n",
      "Unpacking libcupsimage2:amd64 (2.2.7-1ubuntu2.8) ...\n",
      "Selecting previously unselected package libijs-0.35:amd64.\n",
      "Preparing to unpack .../04-libijs-0.35_0.35-13_amd64.deb ...\n",
      "Unpacking libijs-0.35:amd64 (0.35-13) ...\n",
      "Selecting previously unselected package libjbig2dec0:amd64.\n",
      "Preparing to unpack .../05-libjbig2dec0_0.13-6_amd64.deb ...\n",
      "Unpacking libjbig2dec0:amd64 (0.13-6) ...\n",
      "Selecting previously unselected package libgs9-common.\n",
      "Preparing to unpack .../06-libgs9-common_9.26~dfsg+0-0ubuntu0.18.04.14_all.deb ...\n",
      "Unpacking libgs9-common (9.26~dfsg+0-0ubuntu0.18.04.14) ...\n",
      "Selecting previously unselected package libgs9:amd64.\n",
      "Preparing to unpack .../07-libgs9_9.26~dfsg+0-0ubuntu0.18.04.14_amd64.deb ...\n",
      "Unpacking libgs9:amd64 (9.26~dfsg+0-0ubuntu0.18.04.14) ...\n",
      "Selecting previously unselected package ghostscript.\n",
      "Preparing to unpack .../08-ghostscript_9.26~dfsg+0-0ubuntu0.18.04.14_amd64.deb ...\n",
      "Unpacking ghostscript (9.26~dfsg+0-0ubuntu0.18.04.14) ...\n",
      "Selecting previously unselected package gsfonts.\n",
      "Preparing to unpack .../09-gsfonts_1%3a8.11+urwcyr1.0.7~pre44-4.4_all.deb ...\n",
      "Unpacking gsfonts (1:8.11+urwcyr1.0.7~pre44-4.4) ...\n",
      "Selecting previously unselected package libcupsfilters1:amd64.\n",
      "Preparing to unpack .../10-libcupsfilters1_1.20.2-0ubuntu3.1_amd64.deb ...\n",
      "Unpacking libcupsfilters1:amd64 (1.20.2-0ubuntu3.1) ...\n",
      "Setting up libgs9-common (9.26~dfsg+0-0ubuntu0.18.04.14) ...\n",
      "Setting up fonts-droid-fallback (1:6.0.1r16-1.1) ...\n",
      "Setting up gsfonts (1:8.11+urwcyr1.0.7~pre44-4.4) ...\n",
      "Setting up poppler-data (0.4.8-2) ...\n",
      "Setting up fonts-noto-mono (20171026-2) ...\n",
      "Setting up libcupsfilters1:amd64 (1.20.2-0ubuntu3.1) ...\n",
      "Setting up libcupsimage2:amd64 (2.2.7-1ubuntu2.8) ...\n",
      "Setting up libjbig2dec0:amd64 (0.13-6) ...\n",
      "Setting up libijs-0.35:amd64 (0.35-13) ...\n",
      "Setting up libgs9:amd64 (9.26~dfsg+0-0ubuntu0.18.04.14) ...\n",
      "Setting up ghostscript (9.26~dfsg+0-0ubuntu0.18.04.14) ...\n",
      "Processing triggers for man-db (2.8.3-2ubuntu0.1) ...\n",
      "Processing triggers for fontconfig (2.12.6-0ubuntu2) ...\n",
      "Processing triggers for libc-bin (2.27-3ubuntu1.2) ...\n",
      "/sbin/ldconfig.real: /usr/local/lib/python3.7/dist-packages/ideep4py/lib/libmkldnn.so.0 is not a symbolic link\n",
      "\n",
      "Reading package lists... Done\n",
      "Building dependency tree       \n",
      "Reading state information... Done\n",
      "The following NEW packages will be installed:\n",
      "  xvfb\n",
      "0 upgraded, 1 newly installed, 0 to remove and 31 not upgraded.\n",
      "Need to get 784 kB of archives.\n",
      "After this operation, 2,270 kB of additional disk space will be used.\n",
      "Get:1 http://archive.ubuntu.com/ubuntu bionic-updates/universe amd64 xvfb amd64 2:1.19.6-1ubuntu4.8 [784 kB]\n",
      "Fetched 784 kB in 1s (964 kB/s)\n",
      "Selecting previously unselected package xvfb.\n",
      "(Reading database ... 162047 files and directories currently installed.)\n",
      "Preparing to unpack .../xvfb_2%3a1.19.6-1ubuntu4.8_amd64.deb ...\n",
      "Unpacking xvfb (2:1.19.6-1ubuntu4.8) ...\n",
      "Setting up xvfb (2:1.19.6-1ubuntu4.8) ...\n",
      "Processing triggers for man-db (2.8.3-2ubuntu0.1) ...\n"
     ]
    }
   ],
   "source": [
    "%matplotlib inline\n",
    "### INSTALL GHOSTSCRIPT (Required to display NLTK trees) ###\n",
    "!apt install ghostscript python3-tk\n",
    "\n",
    "### CREATE VIRTUAL DISPLAY ###\n",
    "!apt-get install -y xvfb # Install X Virtual Frame Buffer\n",
    "import os\n",
    "os.system('Xvfb :1 -screen 0 1600x1200x16  &')    # create virtual display with size 1600x1200 and 16 bit color. Color can be changed to 24 or 8\n",
    "os.environ['DISPLAY']=':1.0'    # tell X clients to use our virtual DISPLAY :1.0."
   ]
  },
  {
   "cell_type": "code",
   "execution_count": null,
   "metadata": {
    "colab": {
     "base_uri": "https://localhost:8080/"
    },
    "id": "i1-B0_cm-NcV",
    "outputId": "f0f15470-770b-4548-8966-a69b84b1f778"
   },
   "outputs": [
    {
     "name": "stdout",
     "output_type": "stream",
     "text": [
      "[nltk_data] Downloading package punkt to /root/nltk_data...\n",
      "[nltk_data]   Package punkt is already up-to-date!\n",
      "[nltk_data] Downloading package averaged_perceptron_tagger to\n",
      "[nltk_data]     /root/nltk_data...\n",
      "[nltk_data]   Package averaged_perceptron_tagger is already up-to-\n",
      "[nltk_data]       date!\n",
      "[nltk_data] Downloading package wordnet to /root/nltk_data...\n",
      "[nltk_data]   Package wordnet is already up-to-date!\n",
      "[nltk_data] Downloading package stopwords to /root/nltk_data...\n",
      "[nltk_data]   Package stopwords is already up-to-date!\n"
     ]
    }
   ],
   "source": [
    "import nltk\n",
    "from nltk import word_tokenize, pos_tag\n",
    "from nltk.corpus import wordnet\n",
    "from nltk.corpus import stopwords   \n",
    "nltk.download('punkt')\n",
    "nltk.download('averaged_perceptron_tagger')\n",
    "nltk.download('wordnet')\n",
    "nltk.download('stopwords')\n",
    "\n",
    "from IPython.display import display\n",
    "lemmatizer = nltk.WordNetLemmatizer()\n",
    "from tqdm import tqdm\n",
    "import re \n",
    "\n",
    "import pandas as pd\n",
    "import numpy as np\n",
    "\n",
    "from nltk.chunk import conlltags2tree, tree2conlltags\n",
    "from pprint import pprint\n",
    "import spacy\n",
    "from spacy import displacy\n",
    "from collections import Counter\n",
    "import en_core_web_sm\n",
    "nlp = en_core_web_sm.load()"
   ]
  },
  {
   "cell_type": "code",
   "execution_count": null,
   "metadata": {
    "id": "KqS93kZJ-Y7d"
   },
   "outputs": [],
   "source": [
    "# COLAB CONFIG\n",
    "# change colab flag to false if train using jupyter notebook\n",
    "COLAB_FLAG = True\n",
    "COLAB_FILEPATH = './drive/My Drive/4034-amazon-review-classification/' if COLAB_FLAG == True else './'\n",
    "pd.options.mode.chained_assignment = None  # default='warn'\n",
    "%matplotlib inline"
   ]
  },
  {
   "cell_type": "markdown",
   "metadata": {
    "id": "vrvj2nA7_NNe"
   },
   "source": [
    "### Loading of data"
   ]
  },
  {
   "cell_type": "code",
   "execution_count": null,
   "metadata": {
    "colab": {
     "base_uri": "https://localhost:8080/",
     "height": 259
    },
    "id": "cbYkXRyU-atN",
    "outputId": "49681075-c024-417a-e852-16f85e465dd5"
   },
   "outputs": [
    {
     "name": "stdout",
     "output_type": "stream",
     "text": [
      "Shape of the dataset:(97190, 5)\n"
     ]
    },
    {
     "data": {
      "text/html": [
       "<div>\n",
       "<style scoped>\n",
       "    .dataframe tbody tr th:only-of-type {\n",
       "        vertical-align: middle;\n",
       "    }\n",
       "\n",
       "    .dataframe tbody tr th {\n",
       "        vertical-align: top;\n",
       "    }\n",
       "\n",
       "    .dataframe thead th {\n",
       "        text-align: right;\n",
       "    }\n",
       "</style>\n",
       "<table border=\"1\" class=\"dataframe\">\n",
       "  <thead>\n",
       "    <tr style=\"text-align: right;\">\n",
       "      <th></th>\n",
       "      <th>Restaurant Name</th>\n",
       "      <th>Restaurant Type</th>\n",
       "      <th>Reviewer's Name</th>\n",
       "      <th>Rating</th>\n",
       "      <th>Comment</th>\n",
       "    </tr>\n",
       "  </thead>\n",
       "  <tbody>\n",
       "    <tr>\n",
       "      <th>0</th>\n",
       "      <td>Positano @ RP</td>\n",
       "      <td>Italian, European</td>\n",
       "      <td>aisvslife98</td>\n",
       "      <td>5</td>\n",
       "      <td>I enjoyed my time here with my girlfriends! Fa...</td>\n",
       "    </tr>\n",
       "    <tr>\n",
       "      <th>1</th>\n",
       "      <td>Positano @ RP</td>\n",
       "      <td>Italian, European</td>\n",
       "      <td>Odyssey44198198885</td>\n",
       "      <td>5</td>\n",
       "      <td>Wonderful and amazing service experience. Defi...</td>\n",
       "    </tr>\n",
       "    <tr>\n",
       "      <th>2</th>\n",
       "      <td>Positano @ RP</td>\n",
       "      <td>Italian, European</td>\n",
       "      <td>Ninifazelin</td>\n",
       "      <td>5</td>\n",
       "      <td>Great food and wonderful service! Will definit...</td>\n",
       "    </tr>\n",
       "    <tr>\n",
       "      <th>3</th>\n",
       "      <td>Positano @ RP</td>\n",
       "      <td>Italian, European</td>\n",
       "      <td>Amaliamazlan</td>\n",
       "      <td>5</td>\n",
       "      <td>Not my first time in Positano and definitely w...</td>\n",
       "    </tr>\n",
       "    <tr>\n",
       "      <th>4</th>\n",
       "      <td>Positano @ RP</td>\n",
       "      <td>Italian, European</td>\n",
       "      <td>Shahzanstim</td>\n",
       "      <td>5</td>\n",
       "      <td>Excellent service from the staff. The beef was...</td>\n",
       "    </tr>\n",
       "  </tbody>\n",
       "</table>\n",
       "</div>"
      ],
      "text/plain": [
       "  Restaurant Name  ...                                            Comment\n",
       "0   Positano @ RP  ...  I enjoyed my time here with my girlfriends! Fa...\n",
       "1   Positano @ RP  ...  Wonderful and amazing service experience. Defi...\n",
       "2   Positano @ RP  ...  Great food and wonderful service! Will definit...\n",
       "3   Positano @ RP  ...  Not my first time in Positano and definitely w...\n",
       "4   Positano @ RP  ...  Excellent service from the staff. The beef was...\n",
       "\n",
       "[5 rows x 5 columns]"
      ]
     },
     "execution_count": 5,
     "metadata": {
      "tags": []
     },
     "output_type": "execute_result"
    }
   ],
   "source": [
    "# read the crawled data\n",
    "data_ = pd.read_csv(COLAB_FILEPATH+'data/trip-advisor-comments.csv')\n",
    "print(f'Shape of the dataset:{data_.shape}')\n",
    "data_.head()"
   ]
  },
  {
   "cell_type": "code",
   "execution_count": null,
   "metadata": {
    "colab": {
     "base_uri": "https://localhost:8080/"
    },
    "id": "DKGfug0X-cF9",
    "outputId": "e1f1f7bd-8ae6-4571-8578-f6d4ccb80da6"
   },
   "outputs": [
    {
     "name": "stdout",
     "output_type": "stream",
     "text": [
      "Shape of the dataset:(88042, 5)\n"
     ]
    }
   ],
   "source": [
    "# filtering the test data by removing duplicates\n",
    "data=data_.drop_duplicates(subset={\"Reviewer\\'s Name\",\"Comment\"}, \n",
    "                                             keep='first', inplace=False)\n",
    "print(f'Shape of the dataset:{data.shape}')"
   ]
  },
  {
   "cell_type": "code",
   "execution_count": null,
   "metadata": {
    "colab": {
     "base_uri": "https://localhost:8080/",
     "height": 225
    },
    "id": "D18WfkfO-ryV",
    "outputId": "4017280c-e90c-4c0f-f7f1-efa504004767"
   },
   "outputs": [
    {
     "name": "stdout",
     "output_type": "stream",
     "text": [
      "(88042, 1)\n"
     ]
    },
    {
     "data": {
      "text/html": [
       "<div>\n",
       "<style scoped>\n",
       "    .dataframe tbody tr th:only-of-type {\n",
       "        vertical-align: middle;\n",
       "    }\n",
       "\n",
       "    .dataframe tbody tr th {\n",
       "        vertical-align: top;\n",
       "    }\n",
       "\n",
       "    .dataframe thead th {\n",
       "        text-align: right;\n",
       "    }\n",
       "</style>\n",
       "<table border=\"1\" class=\"dataframe\">\n",
       "  <thead>\n",
       "    <tr style=\"text-align: right;\">\n",
       "      <th></th>\n",
       "      <th>Comment</th>\n",
       "    </tr>\n",
       "  </thead>\n",
       "  <tbody>\n",
       "    <tr>\n",
       "      <th>0</th>\n",
       "      <td>I enjoyed my time here with my girlfriends! Fa...</td>\n",
       "    </tr>\n",
       "    <tr>\n",
       "      <th>1</th>\n",
       "      <td>Wonderful and amazing service experience. Defi...</td>\n",
       "    </tr>\n",
       "    <tr>\n",
       "      <th>2</th>\n",
       "      <td>Great food and wonderful service! Will definit...</td>\n",
       "    </tr>\n",
       "    <tr>\n",
       "      <th>3</th>\n",
       "      <td>Not my first time in Positano and definitely w...</td>\n",
       "    </tr>\n",
       "    <tr>\n",
       "      <th>4</th>\n",
       "      <td>Excellent service from the staff. The beef was...</td>\n",
       "    </tr>\n",
       "  </tbody>\n",
       "</table>\n",
       "</div>"
      ],
      "text/plain": [
       "                                             Comment\n",
       "0  I enjoyed my time here with my girlfriends! Fa...\n",
       "1  Wonderful and amazing service experience. Defi...\n",
       "2  Great food and wonderful service! Will definit...\n",
       "3  Not my first time in Positano and definitely w...\n",
       "4  Excellent service from the staff. The beef was..."
      ]
     },
     "execution_count": 7,
     "metadata": {
      "tags": []
     },
     "output_type": "execute_result"
    }
   ],
   "source": [
    "data_comment_ = data['Comment']\n",
    "data_comment = data_comment_.to_frame()\n",
    "print(data_comment.shape)\n",
    "data_comment.head()"
   ]
  },
  {
   "cell_type": "code",
   "execution_count": null,
   "metadata": {
    "id": "ZY0cwV8b-upl"
   },
   "outputs": [],
   "source": [
    "# convert data into a list\n",
    "data_comment_list = list(data_comment_)"
   ]
  },
  {
   "cell_type": "code",
   "execution_count": null,
   "metadata": {
    "colab": {
     "base_uri": "https://localhost:8080/",
     "height": 54
    },
    "id": "XnSX96yE-wX1",
    "outputId": "c498c929-9406-4749-de56-bb4d0d58daf3"
   },
   "outputs": [
    {
     "data": {
      "application/vnd.google.colaboratory.intrinsic+json": {
       "type": "string"
      },
      "text/plain": [
       "'Wonderful and amazing service experience. Definitely will return for dining again next time in the future.'"
      ]
     },
     "execution_count": 12,
     "metadata": {
      "tags": []
     },
     "output_type": "execute_result"
    }
   ],
   "source": [
    "data_comment_list[1]"
   ]
  },
  {
   "cell_type": "code",
   "execution_count": null,
   "metadata": {
    "id": "VbBtkFdI_CtF"
   },
   "outputs": [],
   "source": []
  },
  {
   "cell_type": "markdown",
   "metadata": {
    "id": "0Z5_tci-_XzO"
   },
   "source": [
    "### Text Preprocessing to check POS and IOB"
   ]
  },
  {
   "cell_type": "markdown",
   "metadata": {
    "id": "DLxnWMWK__Xp"
   },
   "source": [
    "Chunking pattern consists of one rule, that a noun phrase, NP, should be formed whenever the chunker finds an optional determiner, DT, followed by any number of adjectives, JJ, and then a noun, NN."
   ]
  },
  {
   "cell_type": "code",
   "execution_count": null,
   "metadata": {
    "colab": {
     "base_uri": "https://localhost:8080/"
    },
    "id": "-z2Srd1o_gxc",
    "outputId": "ba8ec8c3-216c-4cf6-f35f-e223428391eb"
   },
   "outputs": [
    {
     "name": "stdout",
     "output_type": "stream",
     "text": [
      "[('Place', 'NN', 'B-NP'),\n",
      " ('has', 'VBZ', 'O'),\n",
      " ('great', 'JJ', 'B-NP'),\n",
      " ('food', 'NN', 'I-NP'),\n",
      " (',', ',', 'O'),\n",
      " ('great', 'JJ', 'B-NP'),\n",
      " ('ambience', 'NN', 'I-NP'),\n",
      " ('and', 'CC', 'O'),\n",
      " ('the', 'DT', 'B-NP'),\n",
      " ('staff', 'NN', 'I-NP'),\n",
      " ('are', 'VBP', 'O'),\n",
      " ('very', 'RB', 'O'),\n",
      " ('friendly', 'RB', 'O'),\n",
      " ('.', '.', 'O'),\n",
      " ('Shout', 'NN', 'B-NP'),\n",
      " ('out', 'IN', 'O'),\n",
      " ('to', 'TO', 'O'),\n",
      " ('Naufal', 'NNP', 'O'),\n",
      " ('and', 'CC', 'O'),\n",
      " ('Ain', 'NNP', 'O'),\n",
      " ('for', 'IN', 'O'),\n",
      " ('their', 'PRP$', 'O'),\n",
      " ('pleasant', 'JJ', 'B-NP'),\n",
      " ('service', 'NN', 'I-NP'),\n",
      " ('.', '.', 'O')]\n",
      "\n",
      "[('Love', 'VB', 'O'),\n",
      " ('their', 'PRP$', 'O'),\n",
      " ('risotto', 'NN', 'B-NP'),\n",
      " ('.', '.', 'O'),\n",
      " ('This', 'DT', 'O'),\n",
      " ('is', 'VBZ', 'O'),\n",
      " ('the', 'DT', 'B-NP'),\n",
      " ('third', 'JJ', 'I-NP'),\n",
      " ('time', 'NN', 'I-NP'),\n",
      " ('coming', 'VBG', 'O'),\n",
      " ('here', 'RB', 'O'),\n",
      " ('.', '.', 'O'),\n",
      " ('It', 'PRP', 'O'),\n",
      " ('wo', 'MD', 'O'),\n",
      " (\"n't\", 'RB', 'O'),\n",
      " ('be', 'VB', 'O'),\n",
      " ('the', 'DT', 'O'),\n",
      " ('last', 'JJ', 'O'),\n",
      " ('.', '.', 'O'),\n",
      " ('Highly', 'NNP', 'O'),\n",
      " ('recommended', 'VBD', 'O'),\n",
      " ('if', 'IN', 'O'),\n",
      " ('you', 'PRP', 'O'),\n",
      " ('love', 'VBP', 'O'),\n",
      " ('Risotto', 'NNP', 'O'),\n",
      " ('.', '.', 'O'),\n",
      " ('Truffle', 'NNP', 'O'),\n",
      " ('Mushroom', 'NNP', 'O'),\n",
      " ('Risotto', 'NNP', 'O'),\n",
      " ('is', 'VBZ', 'O'),\n",
      " ('a', 'DT', 'O'),\n",
      " ('must', 'MD', 'O'),\n",
      " ('try', 'VB', 'O'),\n",
      " ('here', 'RB', 'O'),\n",
      " ('.', '.', 'O')]\n",
      "\n",
      "[('We', 'PRP', 'O'),\n",
      " ('had', 'VBD', 'O'),\n",
      " ('a', 'DT', 'B-NP'),\n",
      " ('lunch', 'NN', 'I-NP'),\n",
      " ('today', 'NN', 'B-NP'),\n",
      " ('.', '.', 'O'),\n",
      " ('Highly', 'NNP', 'O'),\n",
      " ('recommended', 'VBD', 'O'),\n",
      " ('are', 'VBP', 'O'),\n",
      " ('Squid', 'NNP', 'O'),\n",
      " ('Ink', 'NNP', 'O'),\n",
      " ('Seafood', 'NNP', 'O'),\n",
      " ('Spaghetti', 'NNP', 'O'),\n",
      " (',', ',', 'O'),\n",
      " ('Grilled', 'NNP', 'O'),\n",
      " ('Parmesan', 'NNP', 'O'),\n",
      " ('Stuffed', 'NNP', 'O'),\n",
      " ('Chicken', 'NNP', 'O'),\n",
      " (',', ',', 'O'),\n",
      " ('Wild', 'NNP', 'O'),\n",
      " ('Mushroom', 'NNP', 'O'),\n",
      " ('Truffle', 'NNP', 'O'),\n",
      " ('Linguine', 'NNP', 'O'),\n",
      " ('and', 'CC', 'O'),\n",
      " ('Grilled', 'NNP', 'O'),\n",
      " ('Calamari', 'NNP', 'O'),\n",
      " ('.', '.', 'O'),\n",
      " ('The', 'DT', 'B-NP'),\n",
      " ('staff', 'NN', 'I-NP'),\n",
      " ('are', 'VBP', 'O'),\n",
      " ('highly', 'RB', 'O'),\n",
      " ('motivated', 'VBN', 'O'),\n",
      " ('in', 'IN', 'O'),\n",
      " ('providing', 'VBG', 'O'),\n",
      " ('excellent', 'JJ', 'B-NP'),\n",
      " ('service', 'NN', 'I-NP'),\n",
      " ('.', '.', 'O')]\n",
      "\n",
      "[('6', 'CD', 'O'),\n",
      " ('December', 'NNP', 'O'),\n",
      " ('2019', 'CD', 'O'),\n",
      " ('Just', 'NNP', 'O'),\n",
      " ('celebrated', 'VBN', 'O'),\n",
      " ('my', 'PRP$', 'O'),\n",
      " ('nephew', 'JJ', 'O'),\n",
      " ('’', 'NNP', 'O'),\n",
      " ('s', 'VBD', 'O'),\n",
      " ('1st', 'CD', 'O'),\n",
      " ('birthday', 'NN', 'B-NP'),\n",
      " ('at', 'IN', 'O'),\n",
      " ('Fu', 'NNP', 'O'),\n",
      " ('Lin', 'NNP', 'O'),\n",
      " ('Men', 'NNP', 'O'),\n",
      " ('at', 'IN', 'O'),\n",
      " ('CSC', 'NNP', 'O'),\n",
      " ('.', '.', 'O'),\n",
      " ('It', 'PRP', 'O'),\n",
      " ('was', 'VBD', 'O'),\n",
      " ('a', 'DT', 'O'),\n",
      " ('very', 'RB', 'O'),\n",
      " ('pleasant', 'JJ', 'B-NP'),\n",
      " ('experience', 'NN', 'I-NP'),\n",
      " ('.', '.', 'O'),\n",
      " ('From', 'IN', 'O'),\n",
      " ('the', 'DT', 'B-NP'),\n",
      " ('time', 'NN', 'I-NP'),\n",
      " ('I', 'PRP', 'O'),\n",
      " ('made', 'VBD', 'O'),\n",
      " ('an', 'DT', 'B-NP'),\n",
      " ('enquiry', 'NN', 'I-NP'),\n",
      " ('to', 'TO', 'O'),\n",
      " ('book', 'NN', 'B-NP'),\n",
      " ('the', 'DT', 'O'),\n",
      " ('tables', 'NNS', 'O'),\n",
      " (',', ',', 'O'),\n",
      " ('Kes', 'NNP', 'O'),\n",
      " ('Ng', 'NNP', 'O'),\n",
      " ('was', 'VBD', 'O'),\n",
      " ('very', 'RB', 'O'),\n",
      " ('helpful', 'JJ', 'O'),\n",
      " ('and', 'CC', 'O'),\n",
      " ('assisted', 'VBD', 'O'),\n",
      " ('us', 'PRP', 'O'),\n",
      " ('in', 'IN', 'O'),\n",
      " ('every', 'DT', 'B-NP'),\n",
      " ('way', 'NN', 'I-NP'),\n",
      " ('necessary', 'JJ', 'O'),\n",
      " ('from', 'IN', 'O')]\n",
      "\n",
      "[('Great', 'JJ', 'B-NP'),\n",
      " ('food', 'NN', 'I-NP'),\n",
      " ('!', '.', 'O'),\n",
      " ('Generous', 'JJ', 'B-NP'),\n",
      " ('service', 'NN', 'I-NP'),\n",
      " ('!', '.', 'O'),\n",
      " ('Kudos', 'NNP', 'O'),\n",
      " ('tp', 'VBZ', 'O'),\n",
      " ('Armando', 'NNP', 'O'),\n",
      " ('for', 'IN', 'O'),\n",
      " ('providing', 'VBG', 'O'),\n",
      " ('a', 'DT', 'B-NP'),\n",
      " ('great', 'JJ', 'I-NP'),\n",
      " ('service', 'NN', 'I-NP'),\n",
      " ('!', '.', 'O'),\n",
      " ('Will', 'NNP', 'O'),\n",
      " ('definitely', 'RB', 'O'),\n",
      " ('come', 'VBP', 'O'),\n",
      " ('back❤️', 'NNS', 'O'),\n",
      " ('Keep', 'VB', 'O'),\n",
      " ('up', 'IN', 'O'),\n",
      " ('the', 'DT', 'B-NP'),\n",
      " ('good', 'JJ', 'I-NP'),\n",
      " ('work🙌🏻🎉', 'NN', 'I-NP')]\n",
      "\n"
     ]
    }
   ],
   "source": [
    "def preprocess(sent):\n",
    "    sent = nltk.word_tokenize(sent)\n",
    "    sent = nltk.pos_tag(sent)\n",
    "    return sent\n",
    "\n",
    "selected_list = [5,7,88,777,1000]\n",
    "\n",
    "for i in selected_list:\n",
    "    sent = preprocess(data_comment_list[i])\n",
    "\n",
    "    pattern = 'NP: {<DT>?<JJ>*<NN>}'\n",
    "\n",
    "    cp = nltk.RegexpParser(pattern)\n",
    "    cs = cp.parse(sent)\n",
    "    #print(cs)\n",
    "\n",
    "    # NER Portion\n",
    "    # look at the IOB tagged\n",
    "    iob_tagged = tree2conlltags(cs)\n",
    "    pprint(iob_tagged)\n",
    "    print()"
   ]
  },
  {
   "cell_type": "code",
   "execution_count": null,
   "metadata": {
    "id": "yEHY3p4nALyl"
   },
   "outputs": [],
   "source": []
  },
  {
   "cell_type": "markdown",
   "metadata": {
    "id": "T45Zz-UtBz-9"
   },
   "source": [
    "## Some examples of named entity recognition"
   ]
  },
  {
   "cell_type": "code",
   "execution_count": null,
   "metadata": {
    "colab": {
     "base_uri": "https://localhost:8080/",
     "height": 87
    },
    "id": "o9nlB7QsArX8",
    "outputId": "6cc81600-69c7-4a7e-eee8-06bf2a8c7352"
   },
   "outputs": [
    {
     "data": {
      "text/html": [
       "<span class=\"tex2jax_ignore\"><div class=\"entities\" style=\"line-height: 2.5; direction: ltr\">Place has great food, great ambience and the staff are very friendly. Shout out to \n",
       "<mark class=\"entity\" style=\"background: #aa9cfc; padding: 0.45em 0.6em; margin: 0 0.25em; line-height: 1; border-radius: 0.35em;\">\n",
       "    Naufal\n",
       "    <span style=\"font-size: 0.8em; font-weight: bold; line-height: 1; border-radius: 0.35em; text-transform: uppercase; vertical-align: middle; margin-left: 0.5rem\">PERSON</span>\n",
       "</mark>\n",
       " and \n",
       "<mark class=\"entity\" style=\"background: #aa9cfc; padding: 0.45em 0.6em; margin: 0 0.25em; line-height: 1; border-radius: 0.35em;\">\n",
       "    Ain\n",
       "    <span style=\"font-size: 0.8em; font-weight: bold; line-height: 1; border-radius: 0.35em; text-transform: uppercase; vertical-align: middle; margin-left: 0.5rem\">PERSON</span>\n",
       "</mark>\n",
       " for their pleasant service.</div></span>"
      ],
      "text/plain": [
       "<IPython.core.display.HTML object>"
      ]
     },
     "metadata": {
      "tags": []
     },
     "output_type": "display_data"
    }
   ],
   "source": [
    "doc = nlp(data_comment_list[5])\n",
    "displacy.render(doc, jupyter=True, style='ent')"
   ]
  },
  {
   "cell_type": "code",
   "execution_count": null,
   "metadata": {
    "colab": {
     "base_uri": "https://localhost:8080/",
     "height": 192
    },
    "id": "FEcP3IEKBeu8",
    "outputId": "a451dd75-88fd-447f-8f99-2e9a7eaa6f1b"
   },
   "outputs": [
    {
     "data": {
      "text/html": [
       "<span class=\"tex2jax_ignore\"><div class=\"entities\" style=\"line-height: 2.5; direction: ltr\">Love their risotto.</br>This is the \n",
       "<mark class=\"entity\" style=\"background: #e4e7d2; padding: 0.45em 0.6em; margin: 0 0.25em; line-height: 1; border-radius: 0.35em;\">\n",
       "    third\n",
       "    <span style=\"font-size: 0.8em; font-weight: bold; line-height: 1; border-radius: 0.35em; text-transform: uppercase; vertical-align: middle; margin-left: 0.5rem\">ORDINAL</span>\n",
       "</mark>\n",
       " time coming here.</br>It won't be the last. </br>Highly recommended if you love \n",
       "<mark class=\"entity\" style=\"background: #aa9cfc; padding: 0.45em 0.6em; margin: 0 0.25em; line-height: 1; border-radius: 0.35em;\">\n",
       "    Risotto\n",
       "    <span style=\"font-size: 0.8em; font-weight: bold; line-height: 1; border-radius: 0.35em; text-transform: uppercase; vertical-align: middle; margin-left: 0.5rem\">PERSON</span>\n",
       "</mark>\n",
       ".</br>\n",
       "<mark class=\"entity\" style=\"background: #7aecec; padding: 0.45em 0.6em; margin: 0 0.25em; line-height: 1; border-radius: 0.35em;\">\n",
       "    Truffle Mushroom Risotto\n",
       "    <span style=\"font-size: 0.8em; font-weight: bold; line-height: 1; border-radius: 0.35em; text-transform: uppercase; vertical-align: middle; margin-left: 0.5rem\">ORG</span>\n",
       "</mark>\n",
       " is a must try here.</div></span>"
      ],
      "text/plain": [
       "<IPython.core.display.HTML object>"
      ]
     },
     "metadata": {
      "tags": []
     },
     "output_type": "display_data"
    }
   ],
   "source": [
    "doc = nlp(data_comment_list[7])\n",
    "displacy.render(doc, jupyter=True, style='ent')"
   ]
  },
  {
   "cell_type": "code",
   "execution_count": null,
   "metadata": {
    "colab": {
     "base_uri": "https://localhost:8080/",
     "height": 122
    },
    "id": "qogyRbZ_BuMm",
    "outputId": "101464fe-be66-4451-8894-cea34547538d"
   },
   "outputs": [
    {
     "data": {
      "text/html": [
       "<span class=\"tex2jax_ignore\"><div class=\"entities\" style=\"line-height: 2.5; direction: ltr\">We had a lunch \n",
       "<mark class=\"entity\" style=\"background: #bfe1d9; padding: 0.45em 0.6em; margin: 0 0.25em; line-height: 1; border-radius: 0.35em;\">\n",
       "    today\n",
       "    <span style=\"font-size: 0.8em; font-weight: bold; line-height: 1; border-radius: 0.35em; text-transform: uppercase; vertical-align: middle; margin-left: 0.5rem\">DATE</span>\n",
       "</mark>\n",
       ". Highly recommended are \n",
       "<mark class=\"entity\" style=\"background: #ff9561; padding: 0.45em 0.6em; margin: 0 0.25em; line-height: 1; border-radius: 0.35em;\">\n",
       "    Squid Ink Seafood Spaghetti\n",
       "    <span style=\"font-size: 0.8em; font-weight: bold; line-height: 1; border-radius: 0.35em; text-transform: uppercase; vertical-align: middle; margin-left: 0.5rem\">LOC</span>\n",
       "</mark>\n",
       ", \n",
       "<mark class=\"entity\" style=\"background: #7aecec; padding: 0.45em 0.6em; margin: 0 0.25em; line-height: 1; border-radius: 0.35em;\">\n",
       "    Grilled Parmesan Stuffed Chicken\n",
       "    <span style=\"font-size: 0.8em; font-weight: bold; line-height: 1; border-radius: 0.35em; text-transform: uppercase; vertical-align: middle; margin-left: 0.5rem\">ORG</span>\n",
       "</mark>\n",
       ", Wild Mushroom Truffle Linguine and \n",
       "<mark class=\"entity\" style=\"background: #7aecec; padding: 0.45em 0.6em; margin: 0 0.25em; line-height: 1; border-radius: 0.35em;\">\n",
       "    Grilled Calamari\n",
       "    <span style=\"font-size: 0.8em; font-weight: bold; line-height: 1; border-radius: 0.35em; text-transform: uppercase; vertical-align: middle; margin-left: 0.5rem\">ORG</span>\n",
       "</mark>\n",
       ". \n",
       "\n",
       "The staff are highly motivated in providing excellent service.</div></span>"
      ],
      "text/plain": [
       "<IPython.core.display.HTML object>"
      ]
     },
     "metadata": {
      "tags": []
     },
     "output_type": "display_data"
    }
   ],
   "source": [
    "doc = nlp(data_comment_list[88])\n",
    "displacy.render(doc, jupyter=True, style='ent')"
   ]
  },
  {
   "cell_type": "code",
   "execution_count": null,
   "metadata": {
    "colab": {
     "base_uri": "https://localhost:8080/",
     "height": 227
    },
    "id": "FA-jq2h8Bik1",
    "outputId": "64b9d3aa-e279-4a23-ad70-5d62360455ee"
   },
   "outputs": [
    {
     "data": {
      "text/html": [
       "<span class=\"tex2jax_ignore\"><div class=\"entities\" style=\"line-height: 2.5; direction: ltr\">\n",
       "<mark class=\"entity\" style=\"background: #bfe1d9; padding: 0.45em 0.6em; margin: 0 0.25em; line-height: 1; border-radius: 0.35em;\">\n",
       "    6 December 2019\n",
       "    <span style=\"font-size: 0.8em; font-weight: bold; line-height: 1; border-radius: 0.35em; text-transform: uppercase; vertical-align: middle; margin-left: 0.5rem\">DATE</span>\n",
       "</mark>\n",
       "</br></br>Just celebrated my nephew’s \n",
       "<mark class=\"entity\" style=\"background: #e4e7d2; padding: 0.45em 0.6em; margin: 0 0.25em; line-height: 1; border-radius: 0.35em;\">\n",
       "    1st\n",
       "    <span style=\"font-size: 0.8em; font-weight: bold; line-height: 1; border-radius: 0.35em; text-transform: uppercase; vertical-align: middle; margin-left: 0.5rem\">ORDINAL</span>\n",
       "</mark>\n",
       " birthday at \n",
       "<mark class=\"entity\" style=\"background: #ddd; padding: 0.45em 0.6em; margin: 0 0.25em; line-height: 1; border-radius: 0.35em;\">\n",
       "    Fu Lin Men\n",
       "    <span style=\"font-size: 0.8em; font-weight: bold; line-height: 1; border-radius: 0.35em; text-transform: uppercase; vertical-align: middle; margin-left: 0.5rem\">FAC</span>\n",
       "</mark>\n",
       " at \n",
       "<mark class=\"entity\" style=\"background: #7aecec; padding: 0.45em 0.6em; margin: 0 0.25em; line-height: 1; border-radius: 0.35em;\">\n",
       "    CSC\n",
       "    <span style=\"font-size: 0.8em; font-weight: bold; line-height: 1; border-radius: 0.35em; text-transform: uppercase; vertical-align: middle; margin-left: 0.5rem\">ORG</span>\n",
       "</mark>\n",
       ". It was a very pleasant experience.</br></br>From the time I made an enquiry to book the tables, \n",
       "<mark class=\"entity\" style=\"background: #aa9cfc; padding: 0.45em 0.6em; margin: 0 0.25em; line-height: 1; border-radius: 0.35em;\">\n",
       "    Kes Ng\n",
       "    <span style=\"font-size: 0.8em; font-weight: bold; line-height: 1; border-radius: 0.35em; text-transform: uppercase; vertical-align: middle; margin-left: 0.5rem\">PERSON</span>\n",
       "</mark>\n",
       " was very helpful and assisted us in every way necessary from </div></span>"
      ],
      "text/plain": [
       "<IPython.core.display.HTML object>"
      ]
     },
     "metadata": {
      "tags": []
     },
     "output_type": "display_data"
    }
   ],
   "source": [
    "doc = nlp(data_comment_list[777])\n",
    "displacy.render(doc, jupyter=True, style='ent')"
   ]
  },
  {
   "cell_type": "code",
   "execution_count": null,
   "metadata": {
    "colab": {
     "base_uri": "https://localhost:8080/",
     "height": 87
    },
    "id": "ZWeXN26eBCAU",
    "outputId": "78df5ce5-7392-44ad-b7cd-029830a10223"
   },
   "outputs": [
    {
     "data": {
      "text/html": [
       "<span class=\"tex2jax_ignore\"><div class=\"entities\" style=\"line-height: 2.5; direction: ltr\">Great food! Generous service! \n",
       "<mark class=\"entity\" style=\"background: #aa9cfc; padding: 0.45em 0.6em; margin: 0 0.25em; line-height: 1; border-radius: 0.35em;\">\n",
       "    Kudos tp Armando\n",
       "    <span style=\"font-size: 0.8em; font-weight: bold; line-height: 1; border-radius: 0.35em; text-transform: uppercase; vertical-align: middle; margin-left: 0.5rem\">PERSON</span>\n",
       "</mark>\n",
       " for providing a great service! Will definitely come back❤️ Keep up the good work🙌🏻🎉</div></span>"
      ],
      "text/plain": [
       "<IPython.core.display.HTML object>"
      ]
     },
     "metadata": {
      "tags": []
     },
     "output_type": "display_data"
    }
   ],
   "source": [
    "doc = nlp(data_comment_list[1000])\n",
    "displacy.render(doc, jupyter=True, style='ent')"
   ]
  },
  {
   "cell_type": "code",
   "execution_count": null,
   "metadata": {
    "id": "VbCyIYV8Dwms"
   },
   "outputs": [],
   "source": []
  }
 ],
 "metadata": {
  "colab": {
   "collapsed_sections": [],
   "name": "named-entity-recognition.ipynb",
   "provenance": []
  },
  "kernelspec": {
   "display_name": "Python 3",
   "language": "python",
   "name": "python3"
  },
  "language_info": {
   "codemirror_mode": {
    "name": "ipython",
    "version": 3
   },
   "file_extension": ".py",
   "mimetype": "text/x-python",
   "name": "python",
   "nbconvert_exporter": "python",
   "pygments_lexer": "ipython3",
   "version": "3.7.7"
  }
 },
 "nbformat": 4,
 "nbformat_minor": 1
}
