{
 "cells": [
  {
   "cell_type": "code",
   "execution_count": 1,
   "metadata": {
    "colab": {
     "base_uri": "https://localhost:8080/"
    },
    "id": "KApSisEHat4G",
    "outputId": "14c75887-c1be-4b48-b53f-6fe6f10bd786"
   },
   "outputs": [
    {
     "name": "stdout",
     "output_type": "stream",
     "text": [
      "Mounted at /content/drive\n"
     ]
    }
   ],
   "source": [
    "# connect to google colab\n",
    "from google.colab import drive\n",
    "drive.mount(\"/content/drive\")"
   ]
  },
  {
   "cell_type": "code",
   "execution_count": 2,
   "metadata": {
    "colab": {
     "base_uri": "https://localhost:8080/"
    },
    "id": "nghyQx4LKG13",
    "outputId": "07178771-37bb-40d0-9e43-eeee3f9cc3ab"
   },
   "outputs": [
    {
     "name": "stdout",
     "output_type": "stream",
     "text": [
      "Collecting ktrain\n",
      "\u001b[?25l  Downloading https://files.pythonhosted.org/packages/99/67/31cab9d7c0e23333aebc28b082659c1528f9ab7e22d00e7237efe4fc14f6/ktrain-0.26.2.tar.gz (25.3MB)\n",
      "\u001b[K     |████████████████████████████████| 25.3MB 140kB/s \n",
      "\u001b[?25hCollecting scikit-learn==0.23.2\n",
      "\u001b[?25l  Downloading https://files.pythonhosted.org/packages/f4/cb/64623369f348e9bfb29ff898a57ac7c91ed4921f228e9726546614d63ccb/scikit_learn-0.23.2-cp37-cp37m-manylinux1_x86_64.whl (6.8MB)\n",
      "\u001b[K     |████████████████████████████████| 6.8MB 56.4MB/s \n",
      "\u001b[?25hRequirement already satisfied: matplotlib>=3.0.0 in /usr/local/lib/python3.7/dist-packages (from ktrain) (3.2.2)\n",
      "Requirement already satisfied: pandas>=1.0.1 in /usr/local/lib/python3.7/dist-packages (from ktrain) (1.1.5)\n",
      "Requirement already satisfied: fastprogress>=0.1.21 in /usr/local/lib/python3.7/dist-packages (from ktrain) (1.0.0)\n",
      "Requirement already satisfied: requests in /usr/local/lib/python3.7/dist-packages (from ktrain) (2.23.0)\n",
      "Requirement already satisfied: joblib in /usr/local/lib/python3.7/dist-packages (from ktrain) (1.0.1)\n",
      "Requirement already satisfied: packaging in /usr/local/lib/python3.7/dist-packages (from ktrain) (20.9)\n",
      "Requirement already satisfied: ipython in /usr/local/lib/python3.7/dist-packages (from ktrain) (5.5.0)\n",
      "Collecting langdetect\n",
      "\u001b[?25l  Downloading https://files.pythonhosted.org/packages/56/a3/8407c1e62d5980188b4acc45ef3d94b933d14a2ebc9ef3505f22cf772570/langdetect-1.0.8.tar.gz (981kB)\n",
      "\u001b[K     |████████████████████████████████| 983kB 56.1MB/s \n",
      "\u001b[?25hRequirement already satisfied: jieba in /usr/local/lib/python3.7/dist-packages (from ktrain) (0.42.1)\n",
      "Collecting cchardet\n",
      "\u001b[?25l  Downloading https://files.pythonhosted.org/packages/80/72/a4fba7559978de00cf44081c548c5d294bf00ac7dcda2db405d2baa8c67a/cchardet-2.1.7-cp37-cp37m-manylinux2010_x86_64.whl (263kB)\n",
      "\u001b[K     |████████████████████████████████| 266kB 52.9MB/s \n",
      "\u001b[?25hCollecting syntok\n",
      "  Downloading https://files.pythonhosted.org/packages/8c/76/a49e73a04b3e3a14ce232e8e28a1587f8108baa665644fe8c40e307e792e/syntok-1.3.1.tar.gz\n",
      "Collecting seqeval==0.0.19\n",
      "  Downloading https://files.pythonhosted.org/packages/93/e5/b7705156a77f742cfe4fc6f22d0c71591edb2d243328dff2f8fc0f933ab6/seqeval-0.0.19.tar.gz\n",
      "Collecting transformers<=4.3.3,>=4.0.0\n",
      "\u001b[?25l  Downloading https://files.pythonhosted.org/packages/f9/54/5ca07ec9569d2f232f3166de5457b63943882f7950ddfcc887732fc7fb23/transformers-4.3.3-py3-none-any.whl (1.9MB)\n",
      "\u001b[K     |████████████████████████████████| 1.9MB 48.4MB/s \n",
      "\u001b[?25hCollecting sentencepiece\n",
      "\u001b[?25l  Downloading https://files.pythonhosted.org/packages/f5/99/e0808cb947ba10f575839c43e8fafc9cc44e4a7a2c8f79c60db48220a577/sentencepiece-0.1.95-cp37-cp37m-manylinux2014_x86_64.whl (1.2MB)\n",
      "\u001b[K     |████████████████████████████████| 1.2MB 45.9MB/s \n",
      "\u001b[?25hCollecting keras_bert>=0.86.0\n",
      "  Downloading https://files.pythonhosted.org/packages/e2/7f/95fabd29f4502924fa3f09ff6538c5a7d290dfef2c2fe076d3d1a16e08f0/keras-bert-0.86.0.tar.gz\n",
      "Requirement already satisfied: networkx>=2.3 in /usr/local/lib/python3.7/dist-packages (from ktrain) (2.5)\n",
      "Collecting whoosh\n",
      "\u001b[?25l  Downloading https://files.pythonhosted.org/packages/ba/19/24d0f1f454a2c1eb689ca28d2f178db81e5024f42d82729a4ff6771155cf/Whoosh-2.7.4-py2.py3-none-any.whl (468kB)\n",
      "\u001b[K     |████████████████████████████████| 471kB 48.6MB/s \n",
      "\u001b[?25hCollecting threadpoolctl>=2.0.0\n",
      "  Downloading https://files.pythonhosted.org/packages/f7/12/ec3f2e203afa394a149911729357aa48affc59c20e2c1c8297a60f33f133/threadpoolctl-2.1.0-py3-none-any.whl\n",
      "Requirement already satisfied: numpy>=1.13.3 in /usr/local/lib/python3.7/dist-packages (from scikit-learn==0.23.2->ktrain) (1.19.5)\n",
      "Requirement already satisfied: scipy>=0.19.1 in /usr/local/lib/python3.7/dist-packages (from scikit-learn==0.23.2->ktrain) (1.4.1)\n",
      "Requirement already satisfied: cycler>=0.10 in /usr/local/lib/python3.7/dist-packages (from matplotlib>=3.0.0->ktrain) (0.10.0)\n",
      "Requirement already satisfied: python-dateutil>=2.1 in /usr/local/lib/python3.7/dist-packages (from matplotlib>=3.0.0->ktrain) (2.8.1)\n",
      "Requirement already satisfied: kiwisolver>=1.0.1 in /usr/local/lib/python3.7/dist-packages (from matplotlib>=3.0.0->ktrain) (1.3.1)\n",
      "Requirement already satisfied: pyparsing!=2.0.4,!=2.1.2,!=2.1.6,>=2.0.1 in /usr/local/lib/python3.7/dist-packages (from matplotlib>=3.0.0->ktrain) (2.4.7)\n",
      "Requirement already satisfied: pytz>=2017.2 in /usr/local/lib/python3.7/dist-packages (from pandas>=1.0.1->ktrain) (2018.9)\n",
      "Requirement already satisfied: certifi>=2017.4.17 in /usr/local/lib/python3.7/dist-packages (from requests->ktrain) (2020.12.5)\n",
      "Requirement already satisfied: urllib3!=1.25.0,!=1.25.1,<1.26,>=1.21.1 in /usr/local/lib/python3.7/dist-packages (from requests->ktrain) (1.24.3)\n",
      "Requirement already satisfied: chardet<4,>=3.0.2 in /usr/local/lib/python3.7/dist-packages (from requests->ktrain) (3.0.4)\n",
      "Requirement already satisfied: idna<3,>=2.5 in /usr/local/lib/python3.7/dist-packages (from requests->ktrain) (2.10)\n",
      "Requirement already satisfied: decorator in /usr/local/lib/python3.7/dist-packages (from ipython->ktrain) (4.4.2)\n",
      "Requirement already satisfied: pexpect; sys_platform != \"win32\" in /usr/local/lib/python3.7/dist-packages (from ipython->ktrain) (4.8.0)\n",
      "Requirement already satisfied: setuptools>=18.5 in /usr/local/lib/python3.7/dist-packages (from ipython->ktrain) (54.2.0)\n",
      "Requirement already satisfied: pickleshare in /usr/local/lib/python3.7/dist-packages (from ipython->ktrain) (0.7.5)\n",
      "Requirement already satisfied: simplegeneric>0.8 in /usr/local/lib/python3.7/dist-packages (from ipython->ktrain) (0.8.1)\n",
      "Requirement already satisfied: pygments in /usr/local/lib/python3.7/dist-packages (from ipython->ktrain) (2.6.1)\n",
      "Requirement already satisfied: traitlets>=4.2 in /usr/local/lib/python3.7/dist-packages (from ipython->ktrain) (5.0.5)\n",
      "Requirement already satisfied: prompt-toolkit<2.0.0,>=1.0.4 in /usr/local/lib/python3.7/dist-packages (from ipython->ktrain) (1.0.18)\n",
      "Requirement already satisfied: six in /usr/local/lib/python3.7/dist-packages (from langdetect->ktrain) (1.15.0)\n",
      "Requirement already satisfied: regex in /usr/local/lib/python3.7/dist-packages (from syntok->ktrain) (2019.12.20)\n",
      "Requirement already satisfied: Keras>=2.2.4 in /usr/local/lib/python3.7/dist-packages (from seqeval==0.0.19->ktrain) (2.4.3)\n",
      "Collecting sacremoses\n",
      "\u001b[?25l  Downloading https://files.pythonhosted.org/packages/08/cd/342e584ee544d044fb573ae697404ce22ede086c9e87ce5960772084cad0/sacremoses-0.0.44.tar.gz (862kB)\n",
      "\u001b[K     |████████████████████████████████| 870kB 48.3MB/s \n",
      "\u001b[?25hCollecting tokenizers<0.11,>=0.10.1\n",
      "\u001b[?25l  Downloading https://files.pythonhosted.org/packages/ae/04/5b870f26a858552025a62f1649c20d29d2672c02ff3c3fb4c688ca46467a/tokenizers-0.10.2-cp37-cp37m-manylinux2010_x86_64.whl (3.3MB)\n",
      "\u001b[K     |████████████████████████████████| 3.3MB 46.4MB/s \n",
      "\u001b[?25hRequirement already satisfied: filelock in /usr/local/lib/python3.7/dist-packages (from transformers<=4.3.3,>=4.0.0->ktrain) (3.0.12)\n",
      "Requirement already satisfied: tqdm>=4.27 in /usr/local/lib/python3.7/dist-packages (from transformers<=4.3.3,>=4.0.0->ktrain) (4.41.1)\n",
      "Requirement already satisfied: importlib-metadata; python_version < \"3.8\" in /usr/local/lib/python3.7/dist-packages (from transformers<=4.3.3,>=4.0.0->ktrain) (3.8.1)\n",
      "Collecting keras-transformer>=0.38.0\n",
      "  Downloading https://files.pythonhosted.org/packages/89/6c/d6f0c164f4cc16fbc0d0fea85f5526e87a7d2df7b077809e422a7e626150/keras-transformer-0.38.0.tar.gz\n",
      "Requirement already satisfied: ptyprocess>=0.5 in /usr/local/lib/python3.7/dist-packages (from pexpect; sys_platform != \"win32\"->ipython->ktrain) (0.7.0)\n",
      "Requirement already satisfied: ipython-genutils in /usr/local/lib/python3.7/dist-packages (from traitlets>=4.2->ipython->ktrain) (0.2.0)\n",
      "Requirement already satisfied: wcwidth in /usr/local/lib/python3.7/dist-packages (from prompt-toolkit<2.0.0,>=1.0.4->ipython->ktrain) (0.2.5)\n",
      "Requirement already satisfied: h5py in /usr/local/lib/python3.7/dist-packages (from Keras>=2.2.4->seqeval==0.0.19->ktrain) (2.10.0)\n",
      "Requirement already satisfied: pyyaml in /usr/local/lib/python3.7/dist-packages (from Keras>=2.2.4->seqeval==0.0.19->ktrain) (3.13)\n",
      "Requirement already satisfied: click in /usr/local/lib/python3.7/dist-packages (from sacremoses->transformers<=4.3.3,>=4.0.0->ktrain) (7.1.2)\n",
      "Requirement already satisfied: typing-extensions>=3.6.4; python_version < \"3.8\" in /usr/local/lib/python3.7/dist-packages (from importlib-metadata; python_version < \"3.8\"->transformers<=4.3.3,>=4.0.0->ktrain) (3.7.4.3)\n",
      "Requirement already satisfied: zipp>=0.5 in /usr/local/lib/python3.7/dist-packages (from importlib-metadata; python_version < \"3.8\"->transformers<=4.3.3,>=4.0.0->ktrain) (3.4.1)\n",
      "Collecting keras-pos-embd>=0.11.0\n",
      "  Downloading https://files.pythonhosted.org/packages/09/70/b63ed8fc660da2bb6ae29b9895401c628da5740c048c190b5d7107cadd02/keras-pos-embd-0.11.0.tar.gz\n",
      "Collecting keras-multi-head>=0.27.0\n",
      "  Downloading https://files.pythonhosted.org/packages/e6/32/45adf2549450aca7867deccfa04af80a0ab1ca139af44b16bc669e0e09cd/keras-multi-head-0.27.0.tar.gz\n",
      "Collecting keras-layer-normalization>=0.14.0\n",
      "  Downloading https://files.pythonhosted.org/packages/a4/0e/d1078df0494bac9ce1a67954e5380b6e7569668f0f3b50a9531c62c1fc4a/keras-layer-normalization-0.14.0.tar.gz\n",
      "Collecting keras-position-wise-feed-forward>=0.6.0\n",
      "  Downloading https://files.pythonhosted.org/packages/e3/59/f0faa1037c033059e7e9e7758e6c23b4d1c0772cd48de14c4b6fd4033ad5/keras-position-wise-feed-forward-0.6.0.tar.gz\n",
      "Collecting keras-embed-sim>=0.8.0\n",
      "  Downloading https://files.pythonhosted.org/packages/57/ef/61a1e39082c9e1834a2d09261d4a0b69f7c818b359216d4e1912b20b1c86/keras-embed-sim-0.8.0.tar.gz\n",
      "Collecting keras-self-attention==0.46.0\n",
      "  Downloading https://files.pythonhosted.org/packages/15/6b/c804924a056955fa1f3ff767945187103cfc851ba9bd0fc5a6c6bc18e2eb/keras-self-attention-0.46.0.tar.gz\n",
      "Building wheels for collected packages: ktrain, langdetect, syntok, seqeval, keras-bert, sacremoses, keras-transformer, keras-pos-embd, keras-multi-head, keras-layer-normalization, keras-position-wise-feed-forward, keras-embed-sim, keras-self-attention\n",
      "  Building wheel for ktrain (setup.py) ... \u001b[?25l\u001b[?25hdone\n",
      "  Created wheel for ktrain: filename=ktrain-0.26.2-cp37-none-any.whl size=25277794 sha256=b780dbaa5f69886db52e85c9aabdeb7506330d6301d1b44f2828e20b45c87348\n",
      "  Stored in directory: /root/.cache/pip/wheels/67/2e/f1/c72afa08df8b2d984b910dea228902ce81dae4511afe9fafd2\n",
      "  Building wheel for langdetect (setup.py) ... \u001b[?25l\u001b[?25hdone\n",
      "  Created wheel for langdetect: filename=langdetect-1.0.8-cp37-none-any.whl size=993193 sha256=0abc63323cc06b3c051f6719360e7a587de3ba4b3e0ea43d5ce3823da65be101\n",
      "  Stored in directory: /root/.cache/pip/wheels/8d/b3/aa/6d99de9f3841d7d3d40a60ea06e6d669e8e5012e6c8b947a57\n",
      "  Building wheel for syntok (setup.py) ... \u001b[?25l\u001b[?25hdone\n",
      "  Created wheel for syntok: filename=syntok-1.3.1-cp37-none-any.whl size=20919 sha256=6d5ee8fbd8d64e17a21193e9acb76ae7253da925d46eca00f16fe5aecb954a30\n",
      "  Stored in directory: /root/.cache/pip/wheels/51/c6/a4/be1920586c49469846bcd2888200bdecfe109ec421dab9be2d\n",
      "  Building wheel for seqeval (setup.py) ... \u001b[?25l\u001b[?25hdone\n",
      "  Created wheel for seqeval: filename=seqeval-0.0.19-cp37-none-any.whl size=9919 sha256=00071518ff01ca226dcff849825293bdd298488eae71d086d79edf1114fcb7de\n",
      "  Stored in directory: /root/.cache/pip/wheels/8d/1f/bf/1198beceed805a2099060975f6281d1b01046dd279e19c97be\n",
      "  Building wheel for keras-bert (setup.py) ... \u001b[?25l\u001b[?25hdone\n",
      "  Created wheel for keras-bert: filename=keras_bert-0.86.0-cp37-none-any.whl size=34144 sha256=7ac98f6326a8467386ddac5ada8e8adf9707aec44a6bfe55743ebb46f2ea030c\n",
      "  Stored in directory: /root/.cache/pip/wheels/66/f0/b1/748128b58562fc9e31b907bb5e2ab6a35eb37695e83911236b\n",
      "  Building wheel for sacremoses (setup.py) ... \u001b[?25l\u001b[?25hdone\n",
      "  Created wheel for sacremoses: filename=sacremoses-0.0.44-cp37-none-any.whl size=886084 sha256=6df07172937864c0232e92453c280fa31d4239b6a7bba5efad439d2f3ecbddab\n",
      "  Stored in directory: /root/.cache/pip/wheels/3e/fb/c0/13ab4d63d537658f448366744654323077c4d90069b6512f3c\n",
      "  Building wheel for keras-transformer (setup.py) ... \u001b[?25l\u001b[?25hdone\n",
      "  Created wheel for keras-transformer: filename=keras_transformer-0.38.0-cp37-none-any.whl size=12942 sha256=2cedc3291c0675a5bfdb38eeae44d521f5d836ad92c702424b9c780c76955437\n",
      "  Stored in directory: /root/.cache/pip/wheels/e5/fb/3a/37b2b9326c799aa010ae46a04ddb04f320d8c77c0b7e837f4e\n",
      "  Building wheel for keras-pos-embd (setup.py) ... \u001b[?25l\u001b[?25hdone\n",
      "  Created wheel for keras-pos-embd: filename=keras_pos_embd-0.11.0-cp37-none-any.whl size=7554 sha256=6e4dfc13d7c5d9e9791e8e15b0fec4c8f6d871ccb620421b6797276cf827b848\n",
      "  Stored in directory: /root/.cache/pip/wheels/5b/a1/a0/ce6b1d49ba1a9a76f592e70cf297b05c96bc9f418146761032\n",
      "  Building wheel for keras-multi-head (setup.py) ... \u001b[?25l\u001b[?25hdone\n",
      "  Created wheel for keras-multi-head: filename=keras_multi_head-0.27.0-cp37-none-any.whl size=15611 sha256=2c275420b565abf33a2cc6cdd1be8d562ea00052f76107487324b7dbb6e75e97\n",
      "  Stored in directory: /root/.cache/pip/wheels/b5/b4/49/0a0c27dcb93c13af02fea254ff51d1a43a924dd4e5b7a7164d\n",
      "  Building wheel for keras-layer-normalization (setup.py) ... \u001b[?25l\u001b[?25hdone\n",
      "  Created wheel for keras-layer-normalization: filename=keras_layer_normalization-0.14.0-cp37-none-any.whl size=5269 sha256=a412b7ee71c9be68dce19d3ee0a57dfeccbde1b96c4e20c72d7299b63a70aaf5\n",
      "  Stored in directory: /root/.cache/pip/wheels/54/80/22/a638a7d406fd155e507aa33d703e3fa2612b9eb7bb4f4fe667\n",
      "  Building wheel for keras-position-wise-feed-forward (setup.py) ... \u001b[?25l\u001b[?25hdone\n",
      "  Created wheel for keras-position-wise-feed-forward: filename=keras_position_wise_feed_forward-0.6.0-cp37-none-any.whl size=5623 sha256=78c60a9783722c68ff9340f0d8cec51ffa9e69d1f77aea6f45d62c38389c433e\n",
      "  Stored in directory: /root/.cache/pip/wheels/39/e2/e2/3514fef126a00574b13bc0b9e23891800158df3a3c19c96e3b\n",
      "  Building wheel for keras-embed-sim (setup.py) ... \u001b[?25l\u001b[?25hdone\n",
      "  Created wheel for keras-embed-sim: filename=keras_embed_sim-0.8.0-cp37-none-any.whl size=4558 sha256=811bfa805c9d31f1de5e8f89c06ca9d7d91ffa24387e83df08bb84928ae1bace\n",
      "  Stored in directory: /root/.cache/pip/wheels/49/45/8b/c111f6cc8bec253e984677de73a6f4f5d2f1649f42aac191c8\n",
      "  Building wheel for keras-self-attention (setup.py) ... \u001b[?25l\u001b[?25hdone\n",
      "  Created wheel for keras-self-attention: filename=keras_self_attention-0.46.0-cp37-none-any.whl size=17278 sha256=1422bc5a2dd748cf6d31d488e0ab344ae4c97dca96187b6c803e3aeade593c3f\n",
      "  Stored in directory: /root/.cache/pip/wheels/d2/2e/80/fec4c05eb23c8e13b790e26d207d6e0ffe8013fad8c6bdd4d2\n",
      "Successfully built ktrain langdetect syntok seqeval keras-bert sacremoses keras-transformer keras-pos-embd keras-multi-head keras-layer-normalization keras-position-wise-feed-forward keras-embed-sim keras-self-attention\n",
      "Installing collected packages: threadpoolctl, scikit-learn, langdetect, cchardet, syntok, seqeval, sacremoses, tokenizers, transformers, sentencepiece, keras-pos-embd, keras-self-attention, keras-multi-head, keras-layer-normalization, keras-position-wise-feed-forward, keras-embed-sim, keras-transformer, keras-bert, whoosh, ktrain\n",
      "  Found existing installation: scikit-learn 0.22.2.post1\n",
      "    Uninstalling scikit-learn-0.22.2.post1:\n",
      "      Successfully uninstalled scikit-learn-0.22.2.post1\n",
      "Successfully installed cchardet-2.1.7 keras-bert-0.86.0 keras-embed-sim-0.8.0 keras-layer-normalization-0.14.0 keras-multi-head-0.27.0 keras-pos-embd-0.11.0 keras-position-wise-feed-forward-0.6.0 keras-self-attention-0.46.0 keras-transformer-0.38.0 ktrain-0.26.2 langdetect-1.0.8 sacremoses-0.0.44 scikit-learn-0.23.2 sentencepiece-0.1.95 seqeval-0.0.19 syntok-1.3.1 threadpoolctl-2.1.0 tokenizers-0.10.2 transformers-4.3.3 whoosh-2.7.4\n"
     ]
    }
   ],
   "source": [
    "# download ktrain to use the bert model in colab\n",
    "!pip install ktrain"
   ]
  },
  {
   "cell_type": "code",
   "execution_count": 3,
   "metadata": {
    "id": "moZ6gE-ha8LY"
   },
   "outputs": [],
   "source": [
    "%matplotlib inline\n",
    "import warnings\n",
    "warnings.filterwarnings(\"ignore\")\n",
    "\n",
    "import sqlite3\n",
    "import pandas as pd\n",
    "import numpy as np\n",
    "import nltk\n",
    "from nltk.corpus import stopwords\n",
    "from nltk.stem import PorterStemmer\n",
    "from nltk.stem.wordnet import WordNetLemmatizer\n",
    "#from nltk.stem.porter import PorterStemmer\n",
    "import string\n",
    "import matplotlib.pyplot as plt\n",
    "import seaborn as sns\n",
    "from bs4 import BeautifulSoup\n",
    "from sklearn.feature_extraction.text import TfidfTransformer,TfidfVectorizer,CountVectorizer\n",
    "from sklearn.metrics import auc, roc_curve, classification_report\n",
    "from sklearn import metrics\n",
    "from sklearn.model_selection import train_test_split\n",
    "import ktrain\n",
    "\n",
    "import re\n",
    "from tqdm import tqdm\n",
    "from gensim.models import Word2Vec, KeyedVectors\n",
    "import pickle\n",
    "import os\n",
    "\n",
    "#Importing keras\n",
    "import tensorflow\n",
    "from tensorflow.keras.models import Sequential\n",
    "from tensorflow.keras.layers import Dense, LSTM, Embedding, Dropout, Bidirectional\n",
    "from tensorflow.keras.preprocessing import sequence\n",
    "from tensorflow.keras.callbacks import ModelCheckpoint\n",
    "np.random.seed(7)"
   ]
  },
  {
   "cell_type": "code",
   "execution_count": null,
   "metadata": {
    "colab": {
     "base_uri": "https://localhost:8080/",
     "height": 73
    },
    "id": "rl9-FObP89_C",
    "outputId": "23f409b4-796a-47a3-9736-4bbb96efaff1"
   },
   "outputs": [
    {
     "name": "stdout",
     "output_type": "stream",
     "text": [
      "[nltk_data] Downloading package wordnet to /root/nltk_data...\n",
      "[nltk_data]   Unzipping corpora/wordnet.zip.\n"
     ]
    },
    {
     "data": {
      "application/vnd.google.colaboratory.intrinsic+json": {
       "type": "string"
      },
      "text/plain": [
       "'word'"
      ]
     },
     "execution_count": 4,
     "metadata": {
      "tags": []
     },
     "output_type": "execute_result"
    }
   ],
   "source": [
    "nltk.download('wordnet')\n",
    "nltk.stem.WordNetLemmatizer().lemmatize('word')"
   ]
  },
  {
   "cell_type": "code",
   "execution_count": null,
   "metadata": {
    "id": "28XiWlRpbRJG"
   },
   "outputs": [],
   "source": [
    "# COLAB CONFIG\n",
    "# change colab flag to false if train using jupyter notebook\n",
    "COLAB_FLAG = True\n",
    "COLAB_FILEPATH = './drive/My Drive/4034-amazon-review-classification/' if COLAB_FLAG == True else './'\n",
    "pd.options.mode.chained_assignment = None  # default='warn'\n",
    "%matplotlib inline"
   ]
  },
  {
   "cell_type": "markdown",
   "metadata": {
    "id": "JlqmI_ekbV3f"
   },
   "source": [
    "# Pre-processing of data for training the model (Amazon dataset)"
   ]
  },
  {
   "cell_type": "markdown",
   "metadata": {
    "id": "SMqV2jSxbgF1"
   },
   "source": [
    "### Import training data"
   ]
  },
  {
   "cell_type": "code",
   "execution_count": null,
   "metadata": {
    "colab": {
     "base_uri": "https://localhost:8080/",
     "height": 460
    },
    "id": "kbNHzLadbU6O",
    "outputId": "50f61dc0-70c0-4fff-b960-91082f2ad034"
   },
   "outputs": [
    {
     "name": "stdout",
     "output_type": "stream",
     "text": [
      "(568454, 10)\n"
     ]
    },
    {
     "data": {
      "text/html": [
       "<div>\n",
       "<style scoped>\n",
       "    .dataframe tbody tr th:only-of-type {\n",
       "        vertical-align: middle;\n",
       "    }\n",
       "\n",
       "    .dataframe tbody tr th {\n",
       "        vertical-align: top;\n",
       "    }\n",
       "\n",
       "    .dataframe thead th {\n",
       "        text-align: right;\n",
       "    }\n",
       "</style>\n",
       "<table border=\"1\" class=\"dataframe\">\n",
       "  <thead>\n",
       "    <tr style=\"text-align: right;\">\n",
       "      <th></th>\n",
       "      <th>Id</th>\n",
       "      <th>ProductId</th>\n",
       "      <th>UserId</th>\n",
       "      <th>ProfileName</th>\n",
       "      <th>HelpfulnessNumerator</th>\n",
       "      <th>HelpfulnessDenominator</th>\n",
       "      <th>Score</th>\n",
       "      <th>Time</th>\n",
       "      <th>Summary</th>\n",
       "      <th>Text</th>\n",
       "    </tr>\n",
       "  </thead>\n",
       "  <tbody>\n",
       "    <tr>\n",
       "      <th>0</th>\n",
       "      <td>1</td>\n",
       "      <td>B001E4KFG0</td>\n",
       "      <td>A3SGXH7AUHU8GW</td>\n",
       "      <td>delmartian</td>\n",
       "      <td>1</td>\n",
       "      <td>1</td>\n",
       "      <td>5</td>\n",
       "      <td>1303862400</td>\n",
       "      <td>Good Quality Dog Food</td>\n",
       "      <td>I have bought several of the Vitality canned d...</td>\n",
       "    </tr>\n",
       "    <tr>\n",
       "      <th>1</th>\n",
       "      <td>2</td>\n",
       "      <td>B00813GRG4</td>\n",
       "      <td>A1D87F6ZCVE5NK</td>\n",
       "      <td>dll pa</td>\n",
       "      <td>0</td>\n",
       "      <td>0</td>\n",
       "      <td>1</td>\n",
       "      <td>1346976000</td>\n",
       "      <td>Not as Advertised</td>\n",
       "      <td>Product arrived labeled as Jumbo Salted Peanut...</td>\n",
       "    </tr>\n",
       "    <tr>\n",
       "      <th>2</th>\n",
       "      <td>3</td>\n",
       "      <td>B000LQOCH0</td>\n",
       "      <td>ABXLMWJIXXAIN</td>\n",
       "      <td>Natalia Corres \"Natalia Corres\"</td>\n",
       "      <td>1</td>\n",
       "      <td>1</td>\n",
       "      <td>4</td>\n",
       "      <td>1219017600</td>\n",
       "      <td>\"Delight\" says it all</td>\n",
       "      <td>This is a confection that has been around a fe...</td>\n",
       "    </tr>\n",
       "  </tbody>\n",
       "</table>\n",
       "</div>"
      ],
      "text/plain": [
       "   Id  ...                                               Text\n",
       "0   1  ...  I have bought several of the Vitality canned d...\n",
       "1   2  ...  Product arrived labeled as Jumbo Salted Peanut...\n",
       "2   3  ...  This is a confection that has been around a fe...\n",
       "\n",
       "[3 rows x 10 columns]"
      ]
     },
     "execution_count": 5,
     "metadata": {
      "tags": []
     },
     "output_type": "execute_result"
    }
   ],
   "source": [
    "# using SQLite Table to read data.\n",
    "con = sqlite3.connect(COLAB_FILEPATH + 'data/database.sqlite')\n",
    "data_train_raw_ = pd.read_sql_query(\"\"\" SELECT * FROM Reviews \"\"\", con) \n",
    "print(data_train_raw_.shape)\n",
    "data_train_raw_.head(3)"
   ]
  },
  {
   "cell_type": "markdown",
   "metadata": {
    "id": "YGn_j4XgbqLu"
   },
   "source": [
    "# Filtering of train data\n",
    "\n",
    "### Remove duplicate entries"
   ]
  },
  {
   "cell_type": "code",
   "execution_count": null,
   "metadata": {
    "colab": {
     "base_uri": "https://localhost:8080/",
     "height": 574
    },
    "id": "zVfOQrYrbi1u",
    "outputId": "f1ac145c-cc58-4248-f209-0ba75ea50983"
   },
   "outputs": [
    {
     "data": {
      "text/html": [
       "<div>\n",
       "<style scoped>\n",
       "    .dataframe tbody tr th:only-of-type {\n",
       "        vertical-align: middle;\n",
       "    }\n",
       "\n",
       "    .dataframe tbody tr th {\n",
       "        vertical-align: top;\n",
       "    }\n",
       "\n",
       "    .dataframe thead th {\n",
       "        text-align: right;\n",
       "    }\n",
       "</style>\n",
       "<table border=\"1\" class=\"dataframe\">\n",
       "  <thead>\n",
       "    <tr style=\"text-align: right;\">\n",
       "      <th></th>\n",
       "      <th>Id</th>\n",
       "      <th>ProductId</th>\n",
       "      <th>UserId</th>\n",
       "      <th>ProfileName</th>\n",
       "      <th>HelpfulnessNumerator</th>\n",
       "      <th>HelpfulnessDenominator</th>\n",
       "      <th>Score</th>\n",
       "      <th>Time</th>\n",
       "      <th>Summary</th>\n",
       "      <th>Text</th>\n",
       "    </tr>\n",
       "  </thead>\n",
       "  <tbody>\n",
       "    <tr>\n",
       "      <th>0</th>\n",
       "      <td>78445</td>\n",
       "      <td>B000HDL1RQ</td>\n",
       "      <td>AR5J8UI46CURR</td>\n",
       "      <td>Geetha Krishnan</td>\n",
       "      <td>2</td>\n",
       "      <td>2</td>\n",
       "      <td>5</td>\n",
       "      <td>1199577600</td>\n",
       "      <td>LOACKER QUADRATINI VANILLA WAFERS</td>\n",
       "      <td>DELICIOUS WAFERS. I FIND THAT EUROPEAN WAFERS ...</td>\n",
       "    </tr>\n",
       "    <tr>\n",
       "      <th>1</th>\n",
       "      <td>138317</td>\n",
       "      <td>B000HDOPYC</td>\n",
       "      <td>AR5J8UI46CURR</td>\n",
       "      <td>Geetha Krishnan</td>\n",
       "      <td>2</td>\n",
       "      <td>2</td>\n",
       "      <td>5</td>\n",
       "      <td>1199577600</td>\n",
       "      <td>LOACKER QUADRATINI VANILLA WAFERS</td>\n",
       "      <td>DELICIOUS WAFERS. I FIND THAT EUROPEAN WAFERS ...</td>\n",
       "    </tr>\n",
       "    <tr>\n",
       "      <th>2</th>\n",
       "      <td>138277</td>\n",
       "      <td>B000HDOPYM</td>\n",
       "      <td>AR5J8UI46CURR</td>\n",
       "      <td>Geetha Krishnan</td>\n",
       "      <td>2</td>\n",
       "      <td>2</td>\n",
       "      <td>5</td>\n",
       "      <td>1199577600</td>\n",
       "      <td>LOACKER QUADRATINI VANILLA WAFERS</td>\n",
       "      <td>DELICIOUS WAFERS. I FIND THAT EUROPEAN WAFERS ...</td>\n",
       "    </tr>\n",
       "    <tr>\n",
       "      <th>3</th>\n",
       "      <td>73791</td>\n",
       "      <td>B000HDOPZG</td>\n",
       "      <td>AR5J8UI46CURR</td>\n",
       "      <td>Geetha Krishnan</td>\n",
       "      <td>2</td>\n",
       "      <td>2</td>\n",
       "      <td>5</td>\n",
       "      <td>1199577600</td>\n",
       "      <td>LOACKER QUADRATINI VANILLA WAFERS</td>\n",
       "      <td>DELICIOUS WAFERS. I FIND THAT EUROPEAN WAFERS ...</td>\n",
       "    </tr>\n",
       "    <tr>\n",
       "      <th>4</th>\n",
       "      <td>155049</td>\n",
       "      <td>B000PAQ75C</td>\n",
       "      <td>AR5J8UI46CURR</td>\n",
       "      <td>Geetha Krishnan</td>\n",
       "      <td>2</td>\n",
       "      <td>2</td>\n",
       "      <td>5</td>\n",
       "      <td>1199577600</td>\n",
       "      <td>LOACKER QUADRATINI VANILLA WAFERS</td>\n",
       "      <td>DELICIOUS WAFERS. I FIND THAT EUROPEAN WAFERS ...</td>\n",
       "    </tr>\n",
       "  </tbody>\n",
       "</table>\n",
       "</div>"
      ],
      "text/plain": [
       "       Id  ...                                               Text\n",
       "0   78445  ...  DELICIOUS WAFERS. I FIND THAT EUROPEAN WAFERS ...\n",
       "1  138317  ...  DELICIOUS WAFERS. I FIND THAT EUROPEAN WAFERS ...\n",
       "2  138277  ...  DELICIOUS WAFERS. I FIND THAT EUROPEAN WAFERS ...\n",
       "3   73791  ...  DELICIOUS WAFERS. I FIND THAT EUROPEAN WAFERS ...\n",
       "4  155049  ...  DELICIOUS WAFERS. I FIND THAT EUROPEAN WAFERS ...\n",
       "\n",
       "[5 rows x 10 columns]"
      ]
     },
     "execution_count": 6,
     "metadata": {
      "tags": []
     },
     "output_type": "execute_result"
    }
   ],
   "source": [
    "# check duplication of an entry\n",
    "display= pd.read_sql_query(\"\"\"\n",
    "SELECT *\n",
    "FROM Reviews\n",
    "WHERE UserId=\"AR5J8UI46CURR\"\n",
    "ORDER BY ProductID\n",
    "\"\"\", con)\n",
    "display.head()"
   ]
  },
  {
   "cell_type": "code",
   "execution_count": null,
   "metadata": {
    "colab": {
     "base_uri": "https://localhost:8080/",
     "height": 478
    },
    "id": "Uord_zq1b60u",
    "outputId": "04057bc7-8f6f-4022-e9fb-fb4be06711d2"
   },
   "outputs": [
    {
     "name": "stdout",
     "output_type": "stream",
     "text": [
      "Shape: (393933, 10)\n",
      "percentage of data remains: 69.29901100176971\n"
     ]
    },
    {
     "data": {
      "text/html": [
       "<div>\n",
       "<style scoped>\n",
       "    .dataframe tbody tr th:only-of-type {\n",
       "        vertical-align: middle;\n",
       "    }\n",
       "\n",
       "    .dataframe tbody tr th {\n",
       "        vertical-align: top;\n",
       "    }\n",
       "\n",
       "    .dataframe thead th {\n",
       "        text-align: right;\n",
       "    }\n",
       "</style>\n",
       "<table border=\"1\" class=\"dataframe\">\n",
       "  <thead>\n",
       "    <tr style=\"text-align: right;\">\n",
       "      <th></th>\n",
       "      <th>Id</th>\n",
       "      <th>ProductId</th>\n",
       "      <th>UserId</th>\n",
       "      <th>ProfileName</th>\n",
       "      <th>HelpfulnessNumerator</th>\n",
       "      <th>HelpfulnessDenominator</th>\n",
       "      <th>Score</th>\n",
       "      <th>Time</th>\n",
       "      <th>Summary</th>\n",
       "      <th>Text</th>\n",
       "    </tr>\n",
       "  </thead>\n",
       "  <tbody>\n",
       "    <tr>\n",
       "      <th>150528</th>\n",
       "      <td>150529</td>\n",
       "      <td>0006641040</td>\n",
       "      <td>A25ACLV5KPB4W</td>\n",
       "      <td>Matt Hetling \"Matt\"</td>\n",
       "      <td>0</td>\n",
       "      <td>1</td>\n",
       "      <td>4</td>\n",
       "      <td>1108425600</td>\n",
       "      <td>Nice cadence, catchy rhymes</td>\n",
       "      <td>In June&lt;br /&gt;I saw a charming group&lt;br /&gt;of ro...</td>\n",
       "    </tr>\n",
       "    <tr>\n",
       "      <th>150506</th>\n",
       "      <td>150507</td>\n",
       "      <td>0006641040</td>\n",
       "      <td>A1S4A3IQ2MU7V4</td>\n",
       "      <td>sally sue \"sally sue\"</td>\n",
       "      <td>1</td>\n",
       "      <td>1</td>\n",
       "      <td>4</td>\n",
       "      <td>1191456000</td>\n",
       "      <td>chicken soup with rice months</td>\n",
       "      <td>This is a fun way for children to learn their ...</td>\n",
       "    </tr>\n",
       "    <tr>\n",
       "      <th>150505</th>\n",
       "      <td>150506</td>\n",
       "      <td>0006641040</td>\n",
       "      <td>A2IW4PEEKO2R0U</td>\n",
       "      <td>Tracy</td>\n",
       "      <td>1</td>\n",
       "      <td>1</td>\n",
       "      <td>4</td>\n",
       "      <td>1194739200</td>\n",
       "      <td>Love the book, miss the hard cover version</td>\n",
       "      <td>I grew up reading these Sendak books, and watc...</td>\n",
       "    </tr>\n",
       "  </tbody>\n",
       "</table>\n",
       "</div>"
      ],
      "text/plain": [
       "            Id  ...                                               Text\n",
       "150528  150529  ...  In June<br />I saw a charming group<br />of ro...\n",
       "150506  150507  ...  This is a fun way for children to learn their ...\n",
       "150505  150506  ...  I grew up reading these Sendak books, and watc...\n",
       "\n",
       "[3 rows x 10 columns]"
      ]
     },
     "execution_count": 7,
     "metadata": {
      "tags": []
     },
     "output_type": "execute_result"
    }
   ],
   "source": [
    "#Sorting data according to ProductId in ascending order\n",
    "data_train_raw=data_train_raw_.sort_values('ProductId', \n",
    "                                           axis=0, \n",
    "                                           ascending=True, \n",
    "                                           inplace=False, \n",
    "                                           kind='quicksort', \n",
    "                                           na_position='last')\n",
    "\n",
    "# remove duplication of entries\n",
    "data_train_raw=data_train_raw.drop_duplicates(subset={\"UserId\",\"ProfileName\",\"Time\",\"Text\"}, \n",
    "                                              keep='first', inplace=False)\n",
    "print(f'Shape: {data_train_raw.shape}')\n",
    "\n",
    "# Checking to see how much % of data still remains\n",
    "print(f\"percentage of data remains: {(data_train_raw['Id'].size*1.0)/(data_train_raw_['Id'].size*1.0)*100}\")\n",
    "#data_train_raw.head(3)"
   ]
  },
  {
   "cell_type": "code",
   "execution_count": null,
   "metadata": {
    "colab": {
     "base_uri": "https://localhost:8080/",
     "height": 323
    },
    "id": "0Qywin3-cJa2",
    "outputId": "282346c7-c9e9-4dfc-8687-345528529db8"
   },
   "outputs": [
    {
     "data": {
      "text/html": [
       "<div>\n",
       "<style scoped>\n",
       "    .dataframe tbody tr th:only-of-type {\n",
       "        vertical-align: middle;\n",
       "    }\n",
       "\n",
       "    .dataframe tbody tr th {\n",
       "        vertical-align: top;\n",
       "    }\n",
       "\n",
       "    .dataframe thead th {\n",
       "        text-align: right;\n",
       "    }\n",
       "</style>\n",
       "<table border=\"1\" class=\"dataframe\">\n",
       "  <thead>\n",
       "    <tr style=\"text-align: right;\">\n",
       "      <th></th>\n",
       "      <th>Id</th>\n",
       "      <th>ProductId</th>\n",
       "      <th>UserId</th>\n",
       "      <th>ProfileName</th>\n",
       "      <th>HelpfulnessNumerator</th>\n",
       "      <th>HelpfulnessDenominator</th>\n",
       "      <th>Score</th>\n",
       "      <th>Time</th>\n",
       "      <th>Summary</th>\n",
       "      <th>Text</th>\n",
       "    </tr>\n",
       "  </thead>\n",
       "  <tbody>\n",
       "    <tr>\n",
       "      <th>0</th>\n",
       "      <td>64422</td>\n",
       "      <td>B000MIDROQ</td>\n",
       "      <td>A161DK06JJMCYF</td>\n",
       "      <td>J. E. Stephens \"Jeanne\"</td>\n",
       "      <td>3</td>\n",
       "      <td>1</td>\n",
       "      <td>5</td>\n",
       "      <td>1224892800</td>\n",
       "      <td>Bought This for My Son at College</td>\n",
       "      <td>My son loves spaghetti so I didn't hesitate or...</td>\n",
       "    </tr>\n",
       "    <tr>\n",
       "      <th>1</th>\n",
       "      <td>44737</td>\n",
       "      <td>B001EQ55RW</td>\n",
       "      <td>A2V0I904FH7ABY</td>\n",
       "      <td>Ram</td>\n",
       "      <td>3</td>\n",
       "      <td>2</td>\n",
       "      <td>4</td>\n",
       "      <td>1212883200</td>\n",
       "      <td>Pure cocoa taste with crunchy almonds inside</td>\n",
       "      <td>It was almost a 'love at first bite' - the per...</td>\n",
       "    </tr>\n",
       "  </tbody>\n",
       "</table>\n",
       "</div>"
      ],
      "text/plain": [
       "      Id  ...                                               Text\n",
       "0  64422  ...  My son loves spaghetti so I didn't hesitate or...\n",
       "1  44737  ...  It was almost a 'love at first bite' - the per...\n",
       "\n",
       "[2 rows x 10 columns]"
      ]
     },
     "execution_count": 8,
     "metadata": {
      "tags": []
     },
     "output_type": "execute_result"
    }
   ],
   "source": [
    "# sample query\n",
    "display= pd.read_sql_query(\"\"\"\n",
    "SELECT *\n",
    "FROM Reviews\n",
    "WHERE Id=44737 OR Id=64422\n",
    "ORDER BY ProductID\n",
    "\"\"\", con)\n",
    "\n",
    "display.head()"
   ]
  },
  {
   "cell_type": "code",
   "execution_count": null,
   "metadata": {
    "colab": {
     "base_uri": "https://localhost:8080/"
    },
    "id": "Jmoy3qowczz-",
    "outputId": "ae7106c7-e951-469b-e381-55f513b73d8c"
   },
   "outputs": [
    {
     "name": "stdout",
     "output_type": "stream",
     "text": [
      "(393931, 10)\n"
     ]
    },
    {
     "data": {
      "text/plain": [
       "5    250966\n",
       "4     56086\n",
       "1     36307\n",
       "3     29772\n",
       "2     20800\n",
       "Name: Score, dtype: int64"
      ]
     },
     "execution_count": 9,
     "metadata": {
      "tags": []
     },
     "output_type": "execute_result"
    }
   ],
   "source": [
    "# choose data that the helpfulness numerator is higher than the denominator\n",
    "data_train_raw=data_train_raw[data_train_raw.HelpfulnessNumerator<=data_train_raw.HelpfulnessDenominator]\n",
    "#Before starting the next phase of preprocessing lets see the number of entries left\n",
    "print(data_train_raw.shape)\n",
    "\n",
    "# distribution of the score of the train data\n",
    "data_train_raw['Score'].value_counts()"
   ]
  },
  {
   "cell_type": "code",
   "execution_count": null,
   "metadata": {
    "id": "hT-UWtDnc5xm"
   },
   "outputs": [],
   "source": []
  },
  {
   "cell_type": "markdown",
   "metadata": {
    "id": "QOKQHi3zc_ze"
   },
   "source": [
    "### Create a training dataframe with only the comments and the ratings"
   ]
  },
  {
   "cell_type": "code",
   "execution_count": null,
   "metadata": {
    "colab": {
     "base_uri": "https://localhost:8080/",
     "height": 299
    },
    "id": "a2Gnpqt8dF6F",
    "outputId": "faf93333-29f7-46e1-b4f8-ed649370bbc8"
   },
   "outputs": [
    {
     "name": "stdout",
     "output_type": "stream",
     "text": [
      "(393931, 3)\n",
      "comments    object\n",
      "ratings      int64\n",
      "type        object\n",
      "dtype: object\n"
     ]
    },
    {
     "data": {
      "text/html": [
       "<div>\n",
       "<style scoped>\n",
       "    .dataframe tbody tr th:only-of-type {\n",
       "        vertical-align: middle;\n",
       "    }\n",
       "\n",
       "    .dataframe tbody tr th {\n",
       "        vertical-align: top;\n",
       "    }\n",
       "\n",
       "    .dataframe thead th {\n",
       "        text-align: right;\n",
       "    }\n",
       "</style>\n",
       "<table border=\"1\" class=\"dataframe\">\n",
       "  <thead>\n",
       "    <tr style=\"text-align: right;\">\n",
       "      <th></th>\n",
       "      <th>comments</th>\n",
       "      <th>ratings</th>\n",
       "      <th>type</th>\n",
       "    </tr>\n",
       "  </thead>\n",
       "  <tbody>\n",
       "    <tr>\n",
       "      <th>150528</th>\n",
       "      <td>In June&lt;br /&gt;I saw a charming group&lt;br /&gt;of ro...</td>\n",
       "      <td>4</td>\n",
       "      <td>train</td>\n",
       "    </tr>\n",
       "    <tr>\n",
       "      <th>150506</th>\n",
       "      <td>This is a fun way for children to learn their ...</td>\n",
       "      <td>4</td>\n",
       "      <td>train</td>\n",
       "    </tr>\n",
       "    <tr>\n",
       "      <th>150505</th>\n",
       "      <td>I grew up reading these Sendak books, and watc...</td>\n",
       "      <td>4</td>\n",
       "      <td>train</td>\n",
       "    </tr>\n",
       "    <tr>\n",
       "      <th>150504</th>\n",
       "      <td>Get the movie or sound track and sing along wi...</td>\n",
       "      <td>4</td>\n",
       "      <td>train</td>\n",
       "    </tr>\n",
       "    <tr>\n",
       "      <th>150503</th>\n",
       "      <td>A very entertaining rhyming story--cleaver and...</td>\n",
       "      <td>4</td>\n",
       "      <td>train</td>\n",
       "    </tr>\n",
       "  </tbody>\n",
       "</table>\n",
       "</div>"
      ],
      "text/plain": [
       "                                                 comments  ratings   type\n",
       "150528  In June<br />I saw a charming group<br />of ro...        4  train\n",
       "150506  This is a fun way for children to learn their ...        4  train\n",
       "150505  I grew up reading these Sendak books, and watc...        4  train\n",
       "150504  Get the movie or sound track and sing along wi...        4  train\n",
       "150503  A very entertaining rhyming story--cleaver and...        4  train"
      ]
     },
     "execution_count": 10,
     "metadata": {
      "tags": []
     },
     "output_type": "execute_result"
    }
   ],
   "source": [
    "# create an empty dataframe\n",
    "data_train = pd.DataFrame()\n",
    "\n",
    "# to store only the required columns into the new dataframe\n",
    "data_train['comments'] = data_train_raw['Text']\n",
    "data_train['ratings'] = data_train_raw['Score']\n",
    "data_train['type'] = \"train\"\n",
    "print(data_train.shape)\n",
    "print(data_train.dtypes)\n",
    "data_train.head()"
   ]
  },
  {
   "cell_type": "markdown",
   "metadata": {
    "id": "6OZHvAFpdRcm"
   },
   "source": [
    "There are 393931 data that we will use to train and validate our model, now we will move on to pre-process our test data, which was scraped from tripadvisor"
   ]
  },
  {
   "cell_type": "code",
   "execution_count": null,
   "metadata": {
    "id": "FmbVMcsFdMGu"
   },
   "outputs": [],
   "source": []
  },
  {
   "cell_type": "markdown",
   "metadata": {
    "id": "0mJ_EWgPdpPF"
   },
   "source": [
    "# Pre-processing the test set (scraped data from tripadvisor)\n",
    "The goal is to clean the data of the test set so that the both datasets have the same columns"
   ]
  },
  {
   "cell_type": "markdown",
   "metadata": {
    "id": "p89kTf6bdsjQ"
   },
   "source": [
    "### Import test data"
   ]
  },
  {
   "cell_type": "code",
   "execution_count": null,
   "metadata": {
    "colab": {
     "base_uri": "https://localhost:8080/"
    },
    "id": "6BfF0ME4drMk",
    "outputId": "066e49f0-ef94-4d03-ca69-2b26f9ecfb6a"
   },
   "outputs": [
    {
     "name": "stdout",
     "output_type": "stream",
     "text": [
      "Shape of the dataset:(97190, 5)\n"
     ]
    }
   ],
   "source": [
    "# read the test data\n",
    "data_test_raw_ = pd.read_csv(COLAB_FILEPATH+'data/trip-advisor-comments.csv')\n",
    "print(f'Shape of the dataset:{data_test_raw_.shape}')\n",
    "#data_test_raw_.head()"
   ]
  },
  {
   "cell_type": "markdown",
   "metadata": {
    "id": "J9_3bjNHd1R-"
   },
   "source": [
    "### Filtering of the test data"
   ]
  },
  {
   "cell_type": "code",
   "execution_count": null,
   "metadata": {
    "colab": {
     "base_uri": "https://localhost:8080/"
    },
    "id": "3oQ6F_Areuyt",
    "outputId": "8cc4237c-0e3f-4339-a30d-9a85caeb7b08"
   },
   "outputs": [
    {
     "name": "stdout",
     "output_type": "stream",
     "text": [
      "Shape of the dataset after removing duplicates:(88042, 5)\n"
     ]
    }
   ],
   "source": [
    "# remove duplication of entries\n",
    "data_test_raw=data_test_raw_.drop_duplicates(subset={\"Reviewer\\'s Name\",\"Comment\"}, \n",
    "                                             keep='first', inplace=False)\n",
    "print(f'Shape of the dataset after removing duplicates:{data_test_raw.shape}')\n",
    "#data_test_raw.head()"
   ]
  },
  {
   "cell_type": "code",
   "execution_count": null,
   "metadata": {
    "colab": {
     "base_uri": "https://localhost:8080/",
     "height": 250
    },
    "id": "QpDY_pl8dy2t",
    "outputId": "84d71c34-7b55-4ed3-93f7-66f5a5d55f52"
   },
   "outputs": [
    {
     "name": "stdout",
     "output_type": "stream",
     "text": [
      "Number of words: 3688240\n",
      "Number of unique words: 137499\n"
     ]
    },
    {
     "data": {
      "text/html": [
       "<div>\n",
       "<style scoped>\n",
       "    .dataframe tbody tr th:only-of-type {\n",
       "        vertical-align: middle;\n",
       "    }\n",
       "\n",
       "    .dataframe tbody tr th {\n",
       "        vertical-align: top;\n",
       "    }\n",
       "\n",
       "    .dataframe thead th {\n",
       "        text-align: right;\n",
       "    }\n",
       "</style>\n",
       "<table border=\"1\" class=\"dataframe\">\n",
       "  <thead>\n",
       "    <tr style=\"text-align: right;\">\n",
       "      <th></th>\n",
       "      <th>Restaurant Name</th>\n",
       "      <th>Restaurant Type</th>\n",
       "      <th>Reviewer's Name</th>\n",
       "      <th>Rating</th>\n",
       "      <th>Comment</th>\n",
       "    </tr>\n",
       "  </thead>\n",
       "  <tbody>\n",
       "    <tr>\n",
       "      <th>0</th>\n",
       "      <td>Positano @ RP</td>\n",
       "      <td>Italian, European</td>\n",
       "      <td>aisvslife98</td>\n",
       "      <td>5</td>\n",
       "      <td>I enjoyed my time here with my girlfriends! Fa...</td>\n",
       "    </tr>\n",
       "    <tr>\n",
       "      <th>1</th>\n",
       "      <td>Positano @ RP</td>\n",
       "      <td>Italian, European</td>\n",
       "      <td>Odyssey44198198885</td>\n",
       "      <td>5</td>\n",
       "      <td>Wonderful and amazing service experience. Defi...</td>\n",
       "    </tr>\n",
       "    <tr>\n",
       "      <th>2</th>\n",
       "      <td>Positano @ RP</td>\n",
       "      <td>Italian, European</td>\n",
       "      <td>Ninifazelin</td>\n",
       "      <td>5</td>\n",
       "      <td>Great food and wonderful service! Will definit...</td>\n",
       "    </tr>\n",
       "  </tbody>\n",
       "</table>\n",
       "</div>"
      ],
      "text/plain": [
       "  Restaurant Name  ...                                            Comment\n",
       "0   Positano @ RP  ...  I enjoyed my time here with my girlfriends! Fa...\n",
       "1   Positano @ RP  ...  Wonderful and amazing service experience. Defi...\n",
       "2   Positano @ RP  ...  Great food and wonderful service! Will definit...\n",
       "\n",
       "[3 rows x 5 columns]"
      ]
     },
     "execution_count": 11,
     "metadata": {
      "tags": []
     },
     "output_type": "execute_result"
    }
   ],
   "source": [
    "# total number of words\n",
    "no_words = 0\n",
    "k = list(data_test_raw['Comment'].str.count(' ') + 1)\n",
    "for i in k:\n",
    "    no_words += i\n",
    "print(f'Number of words: {no_words}')\n",
    "\n",
    "# total number of unique words\n",
    "uniqueWords = list(set(\" \".join(data_test_raw['Comment'].values).split(\" \")))\n",
    "count = len(uniqueWords)\n",
    "print(f'Number of unique words: {count}')\n",
    "\n",
    "data_test_raw.head(3)"
   ]
  },
  {
   "cell_type": "code",
   "execution_count": null,
   "metadata": {
    "colab": {
     "base_uri": "https://localhost:8080/"
    },
    "id": "N-FzD7MLeTNl",
    "outputId": "6c648980-69c4-45d0-e6b2-f0dc89ce8bb9"
   },
   "outputs": [
    {
     "data": {
      "text/plain": [
       "90.58750900298385"
      ]
     },
     "execution_count": 14,
     "metadata": {
      "tags": []
     },
     "output_type": "execute_result"
    }
   ],
   "source": [
    "#Checking to see how much % of data still remains after removing duplications\n",
    "(data_test_raw['Reviewer\\'s Name'].size*1.0)/(data_test_raw_['Reviewer\\'s Name'].size*1.0)*100"
   ]
  },
  {
   "cell_type": "code",
   "execution_count": null,
   "metadata": {
    "colab": {
     "base_uri": "https://localhost:8080/"
    },
    "id": "ByuarJTpfYSU",
    "outputId": "8b62ff62-9362-4932-80d6-948afe92821c"
   },
   "outputs": [
    {
     "name": "stdout",
     "output_type": "stream",
     "text": [
      "(88042, 5)\n"
     ]
    },
    {
     "data": {
      "text/plain": [
       "5    46304\n",
       "4    25976\n",
       "3     8837\n",
       "1     3464\n",
       "2     3461\n",
       "Name: Rating, dtype: int64"
      ]
     },
     "execution_count": 15,
     "metadata": {
      "tags": []
     },
     "output_type": "execute_result"
    }
   ],
   "source": [
    "#Before starting the next phase of preprocessing lets see the number of entries left\n",
    "print(data_test_raw.shape)\n",
    "\n",
    "# distribution of the score of the test data\n",
    "data_test_raw['Rating'].value_counts()"
   ]
  },
  {
   "cell_type": "code",
   "execution_count": null,
   "metadata": {
    "id": "3iOJwOX4fdxr"
   },
   "outputs": [],
   "source": [
    "# export the filtered test data for SOLR\n",
    "data_test_raw.to_csv(COLAB_FILEPATH + 'data/trip-advisor-comments-filtered.csv', index=False)"
   ]
  },
  {
   "cell_type": "code",
   "execution_count": null,
   "metadata": {
    "id": "gph9WQnmfjC1"
   },
   "outputs": [],
   "source": []
  },
  {
   "cell_type": "code",
   "execution_count": null,
   "metadata": {
    "colab": {
     "base_uri": "https://localhost:8080/",
     "height": 354
    },
    "id": "9edsj5BjfnRU",
    "outputId": "5dab6f65-aea6-447a-f0fb-e194f618052e"
   },
   "outputs": [
    {
     "name": "stdout",
     "output_type": "stream",
     "text": [
      "(88042, 6)\n",
      "Restaurant Name    object\n",
      "Restaurant Type    object\n",
      "Reviewer's Name    object\n",
      "comments           object\n",
      "ratings             int64\n",
      "type               object\n",
      "dtype: object\n"
     ]
    },
    {
     "data": {
      "text/html": [
       "<div>\n",
       "<style scoped>\n",
       "    .dataframe tbody tr th:only-of-type {\n",
       "        vertical-align: middle;\n",
       "    }\n",
       "\n",
       "    .dataframe tbody tr th {\n",
       "        vertical-align: top;\n",
       "    }\n",
       "\n",
       "    .dataframe thead th {\n",
       "        text-align: right;\n",
       "    }\n",
       "</style>\n",
       "<table border=\"1\" class=\"dataframe\">\n",
       "  <thead>\n",
       "    <tr style=\"text-align: right;\">\n",
       "      <th></th>\n",
       "      <th>Restaurant Name</th>\n",
       "      <th>Restaurant Type</th>\n",
       "      <th>Reviewer's Name</th>\n",
       "      <th>comments</th>\n",
       "      <th>ratings</th>\n",
       "      <th>type</th>\n",
       "    </tr>\n",
       "  </thead>\n",
       "  <tbody>\n",
       "    <tr>\n",
       "      <th>0</th>\n",
       "      <td>Positano @ RP</td>\n",
       "      <td>Italian, European</td>\n",
       "      <td>aisvslife98</td>\n",
       "      <td>I enjoyed my time here with my girlfriends! Fa...</td>\n",
       "      <td>5</td>\n",
       "      <td>test</td>\n",
       "    </tr>\n",
       "    <tr>\n",
       "      <th>1</th>\n",
       "      <td>Positano @ RP</td>\n",
       "      <td>Italian, European</td>\n",
       "      <td>Odyssey44198198885</td>\n",
       "      <td>Wonderful and amazing service experience. Defi...</td>\n",
       "      <td>5</td>\n",
       "      <td>test</td>\n",
       "    </tr>\n",
       "    <tr>\n",
       "      <th>2</th>\n",
       "      <td>Positano @ RP</td>\n",
       "      <td>Italian, European</td>\n",
       "      <td>Ninifazelin</td>\n",
       "      <td>Great food and wonderful service! Will definit...</td>\n",
       "      <td>5</td>\n",
       "      <td>test</td>\n",
       "    </tr>\n",
       "    <tr>\n",
       "      <th>3</th>\n",
       "      <td>Positano @ RP</td>\n",
       "      <td>Italian, European</td>\n",
       "      <td>Amaliamazlan</td>\n",
       "      <td>Not my first time in Positano and definitely w...</td>\n",
       "      <td>5</td>\n",
       "      <td>test</td>\n",
       "    </tr>\n",
       "    <tr>\n",
       "      <th>4</th>\n",
       "      <td>Positano @ RP</td>\n",
       "      <td>Italian, European</td>\n",
       "      <td>Shahzanstim</td>\n",
       "      <td>Excellent service from the staff. The beef was...</td>\n",
       "      <td>5</td>\n",
       "      <td>test</td>\n",
       "    </tr>\n",
       "  </tbody>\n",
       "</table>\n",
       "</div>"
      ],
      "text/plain": [
       "  Restaurant Name    Restaurant Type  ... ratings  type\n",
       "0   Positano @ RP  Italian, European  ...       5  test\n",
       "1   Positano @ RP  Italian, European  ...       5  test\n",
       "2   Positano @ RP  Italian, European  ...       5  test\n",
       "3   Positano @ RP  Italian, European  ...       5  test\n",
       "4   Positano @ RP  Italian, European  ...       5  test\n",
       "\n",
       "[5 rows x 6 columns]"
      ]
     },
     "execution_count": 17,
     "metadata": {
      "tags": []
     },
     "output_type": "execute_result"
    }
   ],
   "source": [
    "data_test_raw = pd.read_csv(COLAB_FILEPATH + 'data/trip-advisor-comments-filtered.csv')\n",
    "# create an empty dataframe\n",
    "data_test = pd.DataFrame()\n",
    "\n",
    "# to store only the required columns into the new dataframe\n",
    "data_test['Restaurant Name'] = data_test_raw['Restaurant Name']\n",
    "data_test['Restaurant Type'] = data_test_raw['Restaurant Type']\n",
    "data_test['Reviewer\\'s Name'] = data_test_raw['Reviewer\\'s Name']\n",
    "data_test['comments'] = data_test_raw['Comment']\n",
    "data_test['ratings'] = data_test_raw['Rating']\n",
    "data_test['type'] = \"test\"\n",
    "print(data_test.shape)\n",
    "print(data_test.dtypes)\n",
    "data_test.head()"
   ]
  },
  {
   "cell_type": "code",
   "execution_count": null,
   "metadata": {
    "id": "pLWHkbNcfobk"
   },
   "outputs": [],
   "source": []
  },
  {
   "cell_type": "markdown",
   "metadata": {
    "id": "mjhqemWvfvK8"
   },
   "source": [
    "# Partition the ratings to 3 classes only\n",
    "-1 (negative) <- 1,2  \n",
    "0 (neutral) <- 3  \n",
    "1 (positive) <- 4,5\n"
   ]
  },
  {
   "cell_type": "code",
   "execution_count": null,
   "metadata": {
    "id": "QC1faRFLfuzs"
   },
   "outputs": [],
   "source": [
    "def partition(x):\n",
    "    if x < 3:\n",
    "        return -1\n",
    "    elif x == 3:\n",
    "        return 0\n",
    "    else:   \n",
    "        return 1"
   ]
  },
  {
   "cell_type": "code",
   "execution_count": null,
   "metadata": {
    "colab": {
     "base_uri": "https://localhost:8080/",
     "height": 162
    },
    "id": "PXNknaNVfzGc",
    "outputId": "97816cfb-d272-4f69-97c2-4705c881b1df"
   },
   "outputs": [
    {
     "name": "stdout",
     "output_type": "stream",
     "text": [
      "Number of data points in train data (393931, 4)\n"
     ]
    },
    {
     "data": {
      "text/html": [
       "<div>\n",
       "<style scoped>\n",
       "    .dataframe tbody tr th:only-of-type {\n",
       "        vertical-align: middle;\n",
       "    }\n",
       "\n",
       "    .dataframe tbody tr th {\n",
       "        vertical-align: top;\n",
       "    }\n",
       "\n",
       "    .dataframe thead th {\n",
       "        text-align: right;\n",
       "    }\n",
       "</style>\n",
       "<table border=\"1\" class=\"dataframe\">\n",
       "  <thead>\n",
       "    <tr style=\"text-align: right;\">\n",
       "      <th></th>\n",
       "      <th>comments</th>\n",
       "      <th>ratings</th>\n",
       "      <th>type</th>\n",
       "      <th>ratings_class</th>\n",
       "    </tr>\n",
       "  </thead>\n",
       "  <tbody>\n",
       "    <tr>\n",
       "      <th>150528</th>\n",
       "      <td>In June&lt;br /&gt;I saw a charming group&lt;br /&gt;of ro...</td>\n",
       "      <td>4</td>\n",
       "      <td>train</td>\n",
       "      <td>1</td>\n",
       "    </tr>\n",
       "    <tr>\n",
       "      <th>150506</th>\n",
       "      <td>This is a fun way for children to learn their ...</td>\n",
       "      <td>4</td>\n",
       "      <td>train</td>\n",
       "      <td>1</td>\n",
       "    </tr>\n",
       "    <tr>\n",
       "      <th>150505</th>\n",
       "      <td>I grew up reading these Sendak books, and watc...</td>\n",
       "      <td>4</td>\n",
       "      <td>train</td>\n",
       "      <td>1</td>\n",
       "    </tr>\n",
       "  </tbody>\n",
       "</table>\n",
       "</div>"
      ],
      "text/plain": [
       "                                                 comments  ...  ratings_class\n",
       "150528  In June<br />I saw a charming group<br />of ro...  ...              1\n",
       "150506  This is a fun way for children to learn their ...  ...              1\n",
       "150505  I grew up reading these Sendak books, and watc...  ...              1\n",
       "\n",
       "[3 rows x 4 columns]"
      ]
     },
     "execution_count": 19,
     "metadata": {
      "tags": []
     },
     "output_type": "execute_result"
    }
   ],
   "source": [
    "# append partitioned data to the train set\n",
    "actualScore = data_train['ratings']\n",
    "class_ = actualScore.map(partition) \n",
    "data_train['ratings_class'] = class_\n",
    "print(\"Number of data points in train data\", data_train.shape)\n",
    "data_train.head(3)"
   ]
  },
  {
   "cell_type": "code",
   "execution_count": null,
   "metadata": {
    "colab": {
     "base_uri": "https://localhost:8080/",
     "height": 232
    },
    "id": "93TsSATrf0hc",
    "outputId": "05b1fee8-c291-49d6-fbed-3f299ad84d1e"
   },
   "outputs": [
    {
     "name": "stdout",
     "output_type": "stream",
     "text": [
      "Number of data points in test data (88042, 7)\n"
     ]
    },
    {
     "data": {
      "text/html": [
       "<div>\n",
       "<style scoped>\n",
       "    .dataframe tbody tr th:only-of-type {\n",
       "        vertical-align: middle;\n",
       "    }\n",
       "\n",
       "    .dataframe tbody tr th {\n",
       "        vertical-align: top;\n",
       "    }\n",
       "\n",
       "    .dataframe thead th {\n",
       "        text-align: right;\n",
       "    }\n",
       "</style>\n",
       "<table border=\"1\" class=\"dataframe\">\n",
       "  <thead>\n",
       "    <tr style=\"text-align: right;\">\n",
       "      <th></th>\n",
       "      <th>Restaurant Name</th>\n",
       "      <th>Restaurant Type</th>\n",
       "      <th>Reviewer's Name</th>\n",
       "      <th>comments</th>\n",
       "      <th>ratings</th>\n",
       "      <th>type</th>\n",
       "      <th>ratings_class</th>\n",
       "    </tr>\n",
       "  </thead>\n",
       "  <tbody>\n",
       "    <tr>\n",
       "      <th>0</th>\n",
       "      <td>Positano @ RP</td>\n",
       "      <td>Italian, European</td>\n",
       "      <td>aisvslife98</td>\n",
       "      <td>I enjoyed my time here with my girlfriends! Fa...</td>\n",
       "      <td>5</td>\n",
       "      <td>test</td>\n",
       "      <td>1</td>\n",
       "    </tr>\n",
       "    <tr>\n",
       "      <th>1</th>\n",
       "      <td>Positano @ RP</td>\n",
       "      <td>Italian, European</td>\n",
       "      <td>Odyssey44198198885</td>\n",
       "      <td>Wonderful and amazing service experience. Defi...</td>\n",
       "      <td>5</td>\n",
       "      <td>test</td>\n",
       "      <td>1</td>\n",
       "    </tr>\n",
       "    <tr>\n",
       "      <th>2</th>\n",
       "      <td>Positano @ RP</td>\n",
       "      <td>Italian, European</td>\n",
       "      <td>Ninifazelin</td>\n",
       "      <td>Great food and wonderful service! Will definit...</td>\n",
       "      <td>5</td>\n",
       "      <td>test</td>\n",
       "      <td>1</td>\n",
       "    </tr>\n",
       "  </tbody>\n",
       "</table>\n",
       "</div>"
      ],
      "text/plain": [
       "  Restaurant Name    Restaurant Type  ...  type ratings_class\n",
       "0   Positano @ RP  Italian, European  ...  test             1\n",
       "1   Positano @ RP  Italian, European  ...  test             1\n",
       "2   Positano @ RP  Italian, European  ...  test             1\n",
       "\n",
       "[3 rows x 7 columns]"
      ]
     },
     "execution_count": 20,
     "metadata": {
      "tags": []
     },
     "output_type": "execute_result"
    }
   ],
   "source": [
    "# append partitioned data to the test set\n",
    "actualScore = data_test['ratings']\n",
    "class_ = actualScore.map(partition) \n",
    "data_test['ratings_class'] = class_\n",
    "print(\"Number of data points in test data\", data_test.shape)\n",
    "data_test.head(3)"
   ]
  },
  {
   "cell_type": "code",
   "execution_count": null,
   "metadata": {
    "colab": {
     "base_uri": "https://localhost:8080/"
    },
    "id": "VwYGS8UPf76U",
    "outputId": "11cffd3f-cc92-4174-d3a2-8adf0a3fb3cf"
   },
   "outputs": [
    {
     "data": {
      "text/plain": [
       " 1    307052\n",
       "-1     57107\n",
       " 0     29772\n",
       "Name: ratings_class, dtype: int64"
      ]
     },
     "execution_count": 21,
     "metadata": {
      "tags": []
     },
     "output_type": "execute_result"
    }
   ],
   "source": [
    "# check the number of data in each ratings_class\n",
    "data_train['ratings_class'].value_counts()"
   ]
  },
  {
   "cell_type": "markdown",
   "metadata": {
    "id": "Z6rAsobJhsRD"
   },
   "source": [
    "Got data imbalance, need to do downsampling AFTER separating neutral data from opinionated ones"
   ]
  },
  {
   "cell_type": "markdown",
   "metadata": {
    "id": "njt4BfQKhLe8"
   },
   "source": [
    "### Separate neutral data from opinionated ones\n",
    "Look at the ratings_class column:  \n",
    "1, -1 -> opinionated  \n",
    "0 -> neutral"
   ]
  },
  {
   "cell_type": "code",
   "execution_count": null,
   "metadata": {
    "colab": {
     "base_uri": "https://localhost:8080/"
    },
    "id": "7zCq-cg5hbsD",
    "outputId": "8eb2dc1c-ee72-4830-b419-44b41743b91f"
   },
   "outputs": [
    {
     "name": "stdout",
     "output_type": "stream",
     "text": [
      "(29772, 4)\n"
     ]
    }
   ],
   "source": [
    "# neutral train data\n",
    "data_neutral_train = data_train[data_train['ratings_class'] == 0]\n",
    "print(data_neutral_train.shape)\n",
    "#data_neutral_train.head(3)"
   ]
  },
  {
   "cell_type": "code",
   "execution_count": null,
   "metadata": {
    "colab": {
     "base_uri": "https://localhost:8080/"
    },
    "id": "p-UFmXJ9iDjq",
    "outputId": "c6cdd9df-0fa2-468a-9049-a66836f51a37"
   },
   "outputs": [
    {
     "name": "stdout",
     "output_type": "stream",
     "text": [
      "(8837, 7)\n"
     ]
    }
   ],
   "source": [
    "# neutral test data\n",
    "data_neutral_test = data_test[data_test['ratings_class'] == 0]\n",
    "print(data_neutral_test.shape)\n",
    "#data_neutral_test.head(3)"
   ]
  },
  {
   "cell_type": "code",
   "execution_count": null,
   "metadata": {
    "colab": {
     "base_uri": "https://localhost:8080/"
    },
    "id": "PoU34ar-jagL",
    "outputId": "85f9e0d5-3af4-456f-a2d2-87831a95cc40"
   },
   "outputs": [
    {
     "name": "stdout",
     "output_type": "stream",
     "text": [
      "This book was purchased to be used in a classroom setting for read-a-loud purposes.  The small size of the book(4X6)makes that almost impossible.  The book itself is very cute and flows nicely, but is best shared with only one child at a time.\n",
      "My dog enjoys these treats in moderation.  Because they are dried, he seems to enjoy them less the more he eats them.  With water, the treats may be much more flavorful.  After having a fair amount, he starts to lose interest in them until he can drink.<br /><br />This brings me to a question regarding serving size.  The container recommends 2-3 cubes per day for a medium breed.  The issue I'm having is that the size of the cubes is so very inconsistent.  Some bits are the size of a pea while others of a grape.  The rest are a variety of sizes in between.  Some consistency would be preferred.<br /><br />Also, this product comes highly recommended for training because it is low in fat.  My dog certainly won't learn anything with just 2-3 of these per day.  Like most dogs, he is highly motivated by food so 20-30 treats is more accurate.  To make this possible, I have to dice them up into smaller pieces or shift through to find the little bits.<br /><br />At least these treats are natural and thus healthier than some of the other options.  I just didn't expect to have to prepare them first.\n",
      "I bought this set because my niece was obsessed with having a black Easter egg (kids!) long story short, even though I used an entire bottle the coloring of the eggs were not vibrant. Not sure how they would work for baking so that's why they are still getting 3 stars.\n"
     ]
    }
   ],
   "source": [
    "# take a look at the neutral data (train)\n",
    "print(data_neutral_train['comments'].iloc[1])\n",
    "print(data_neutral_train['comments'].iloc[3])\n",
    "print(data_neutral_train['comments'].iloc[50])"
   ]
  },
  {
   "cell_type": "code",
   "execution_count": null,
   "metadata": {
    "colab": {
     "base_uri": "https://localhost:8080/"
    },
    "id": "WMu8bRNVkNia",
    "outputId": "9dbae5f7-30fd-43b6-fba2-8a49065bc63c"
   },
   "outputs": [
    {
     "name": "stdout",
     "output_type": "stream",
     "text": [
      "We visited Entre-Nous creperie just now, not entirely crowded with decent crowd but we waited almost 40 minutes for our crepes, one banana and another salted butter caramel to be served. I counted 3 chefs in the kitchen and one lady waitress serving.\n",
      "\n",
      "Conclusion, the \n",
      "Food was not bad and service was good. However, there was a birthday function held at the general dinning area (not in a private room as there were many tables) and it was very noisy. Would have given a 4 star if not of this .\n",
      "l was under the illusion that there is no need to make reservationsoo when eating out because of covid 19 restrictions.I was very wrong. On thu l tried to make reservations at Koma for two for dinner the next day. First available time is 9.45pm .\n"
     ]
    }
   ],
   "source": [
    "# take a look at the neutral data (test)\n",
    "print(data_neutral_test['comments'].iloc[1])\n",
    "print(data_neutral_test['comments'].iloc[3])\n",
    "print(data_neutral_test['comments'].iloc[50])"
   ]
  },
  {
   "cell_type": "code",
   "execution_count": null,
   "metadata": {
    "id": "i3wGZj56l-gx"
   },
   "outputs": [],
   "source": []
  },
  {
   "cell_type": "code",
   "execution_count": null,
   "metadata": {
    "colab": {
     "base_uri": "https://localhost:8080/"
    },
    "id": "bYvoRYw6lZkx",
    "outputId": "196fa684-b47a-4dc2-da39-423b4b7de467"
   },
   "outputs": [
    {
     "data": {
      "text/plain": [
       " 1    307052\n",
       "-1     57107\n",
       " 0     29772\n",
       "Name: ratings_class, dtype: int64"
      ]
     },
     "execution_count": 26,
     "metadata": {
      "tags": []
     },
     "output_type": "execute_result"
    }
   ],
   "source": [
    "# got data imbalance, need to downsample\n",
    "# check the number of data in each ratings_class\n",
    "data_train['ratings_class'].value_counts()"
   ]
  },
  {
   "cell_type": "markdown",
   "metadata": {
    "id": "-HWlJAXqmK2Z"
   },
   "source": [
    "### Downsample the positive class in the training set (ONLY the training set!) to balance out with the negative class in terms of document count"
   ]
  },
  {
   "cell_type": "code",
   "execution_count": null,
   "metadata": {
    "colab": {
     "base_uri": "https://localhost:8080/",
     "height": 162
    },
    "id": "93Lv59Igl8Rx",
    "outputId": "797e4787-6614-46ed-b09b-73fad56df70a"
   },
   "outputs": [
    {
     "name": "stdout",
     "output_type": "stream",
     "text": [
      "(57107, 4)\n"
     ]
    },
    {
     "data": {
      "text/html": [
       "<div>\n",
       "<style scoped>\n",
       "    .dataframe tbody tr th:only-of-type {\n",
       "        vertical-align: middle;\n",
       "    }\n",
       "\n",
       "    .dataframe tbody tr th {\n",
       "        vertical-align: top;\n",
       "    }\n",
       "\n",
       "    .dataframe thead th {\n",
       "        text-align: right;\n",
       "    }\n",
       "</style>\n",
       "<table border=\"1\" class=\"dataframe\">\n",
       "  <thead>\n",
       "    <tr style=\"text-align: right;\">\n",
       "      <th></th>\n",
       "      <th>comments</th>\n",
       "      <th>ratings</th>\n",
       "      <th>type</th>\n",
       "      <th>ratings_class</th>\n",
       "    </tr>\n",
       "  </thead>\n",
       "  <tbody>\n",
       "    <tr>\n",
       "      <th>150496</th>\n",
       "      <td>I give five stars to the Maurice Sendak story....</td>\n",
       "      <td>1</td>\n",
       "      <td>train</td>\n",
       "      <td>-1</td>\n",
       "    </tr>\n",
       "    <tr>\n",
       "      <th>150525</th>\n",
       "      <td>This is one of the best children's books ever ...</td>\n",
       "      <td>1</td>\n",
       "      <td>train</td>\n",
       "      <td>-1</td>\n",
       "    </tr>\n",
       "    <tr>\n",
       "      <th>24749</th>\n",
       "      <td>My dogs loves this chicken but its a product f...</td>\n",
       "      <td>2</td>\n",
       "      <td>train</td>\n",
       "      <td>-1</td>\n",
       "    </tr>\n",
       "  </tbody>\n",
       "</table>\n",
       "</div>"
      ],
      "text/plain": [
       "                                                 comments  ...  ratings_class\n",
       "150496  I give five stars to the Maurice Sendak story....  ...             -1\n",
       "150525  This is one of the best children's books ever ...  ...             -1\n",
       "24749   My dogs loves this chicken but its a product f...  ...             -1\n",
       "\n",
       "[3 rows x 4 columns]"
      ]
     },
     "execution_count": 27,
     "metadata": {
      "tags": []
     },
     "output_type": "execute_result"
    }
   ],
   "source": [
    "# data with class -1\n",
    "data_negative_train = data_train[data_train['ratings_class'] == -1]\n",
    "print(data_negative_train.shape)\n",
    "data_negative_train.head(3)"
   ]
  },
  {
   "cell_type": "code",
   "execution_count": null,
   "metadata": {
    "colab": {
     "base_uri": "https://localhost:8080/",
     "height": 162
    },
    "id": "XpTlXniRmt1P",
    "outputId": "08f1c683-dc55-4bb0-86cd-ac2f67073ac3"
   },
   "outputs": [
    {
     "name": "stdout",
     "output_type": "stream",
     "text": [
      "(57107, 4)\n"
     ]
    },
    {
     "data": {
      "text/html": [
       "<div>\n",
       "<style scoped>\n",
       "    .dataframe tbody tr th:only-of-type {\n",
       "        vertical-align: middle;\n",
       "    }\n",
       "\n",
       "    .dataframe tbody tr th {\n",
       "        vertical-align: top;\n",
       "    }\n",
       "\n",
       "    .dataframe thead th {\n",
       "        text-align: right;\n",
       "    }\n",
       "</style>\n",
       "<table border=\"1\" class=\"dataframe\">\n",
       "  <thead>\n",
       "    <tr style=\"text-align: right;\">\n",
       "      <th></th>\n",
       "      <th>comments</th>\n",
       "      <th>ratings</th>\n",
       "      <th>type</th>\n",
       "      <th>ratings_class</th>\n",
       "    </tr>\n",
       "  </thead>\n",
       "  <tbody>\n",
       "    <tr>\n",
       "      <th>198912</th>\n",
       "      <td>I was looking for Mag Citrate in a fast-acting...</td>\n",
       "      <td>5</td>\n",
       "      <td>train</td>\n",
       "      <td>1</td>\n",
       "    </tr>\n",
       "    <tr>\n",
       "      <th>231943</th>\n",
       "      <td>My daughter is egg, soy, peanut, tree nut, ses...</td>\n",
       "      <td>5</td>\n",
       "      <td>train</td>\n",
       "      <td>1</td>\n",
       "    </tr>\n",
       "    <tr>\n",
       "      <th>415336</th>\n",
       "      <td>This drink ***SLURP*** is soo good! I am drink...</td>\n",
       "      <td>5</td>\n",
       "      <td>train</td>\n",
       "      <td>1</td>\n",
       "    </tr>\n",
       "  </tbody>\n",
       "</table>\n",
       "</div>"
      ],
      "text/plain": [
       "                                                 comments  ...  ratings_class\n",
       "198912  I was looking for Mag Citrate in a fast-acting...  ...              1\n",
       "231943  My daughter is egg, soy, peanut, tree nut, ses...  ...              1\n",
       "415336  This drink ***SLURP*** is soo good! I am drink...  ...              1\n",
       "\n",
       "[3 rows x 4 columns]"
      ]
     },
     "execution_count": 28,
     "metadata": {
      "tags": []
     },
     "output_type": "execute_result"
    }
   ],
   "source": [
    "# data with class 1, sample with the total number of entries in the negative class (downsampling)\n",
    "data_positive_train = data_train[data_train['ratings_class'] == 1].sample(len(data_negative_train), replace=False)\n",
    "print(data_positive_train.shape)\n",
    "data_positive_train.head(3)"
   ]
  },
  {
   "cell_type": "code",
   "execution_count": null,
   "metadata": {
    "colab": {
     "base_uri": "https://localhost:8080/",
     "height": 225
    },
    "id": "TeFeDMqYm8dX",
    "outputId": "d8283512-655a-49e4-f9f1-6bbac5bc784f"
   },
   "outputs": [
    {
     "name": "stdout",
     "output_type": "stream",
     "text": [
      "(114214, 4)\n"
     ]
    },
    {
     "data": {
      "text/html": [
       "<div>\n",
       "<style scoped>\n",
       "    .dataframe tbody tr th:only-of-type {\n",
       "        vertical-align: middle;\n",
       "    }\n",
       "\n",
       "    .dataframe tbody tr th {\n",
       "        vertical-align: top;\n",
       "    }\n",
       "\n",
       "    .dataframe thead th {\n",
       "        text-align: right;\n",
       "    }\n",
       "</style>\n",
       "<table border=\"1\" class=\"dataframe\">\n",
       "  <thead>\n",
       "    <tr style=\"text-align: right;\">\n",
       "      <th></th>\n",
       "      <th>comments</th>\n",
       "      <th>ratings</th>\n",
       "      <th>type</th>\n",
       "      <th>ratings_class</th>\n",
       "    </tr>\n",
       "  </thead>\n",
       "  <tbody>\n",
       "    <tr>\n",
       "      <th>214595</th>\n",
       "      <td>This maple syrup was very good.  I was very di...</td>\n",
       "      <td>2</td>\n",
       "      <td>train</td>\n",
       "      <td>-1</td>\n",
       "    </tr>\n",
       "    <tr>\n",
       "      <th>97297</th>\n",
       "      <td>I cant believe my favorite type of chocacolate...</td>\n",
       "      <td>5</td>\n",
       "      <td>train</td>\n",
       "      <td>1</td>\n",
       "    </tr>\n",
       "    <tr>\n",
       "      <th>46253</th>\n",
       "      <td>The noodles were better than I thought instant...</td>\n",
       "      <td>2</td>\n",
       "      <td>train</td>\n",
       "      <td>-1</td>\n",
       "    </tr>\n",
       "    <tr>\n",
       "      <th>228596</th>\n",
       "      <td>I think I ordered the wrong brand. Peter Pan c...</td>\n",
       "      <td>2</td>\n",
       "      <td>train</td>\n",
       "      <td>-1</td>\n",
       "    </tr>\n",
       "    <tr>\n",
       "      <th>102453</th>\n",
       "      <td>My bulldog does so well on this food, I doubt ...</td>\n",
       "      <td>5</td>\n",
       "      <td>train</td>\n",
       "      <td>1</td>\n",
       "    </tr>\n",
       "  </tbody>\n",
       "</table>\n",
       "</div>"
      ],
      "text/plain": [
       "                                                 comments  ...  ratings_class\n",
       "214595  This maple syrup was very good.  I was very di...  ...             -1\n",
       "97297   I cant believe my favorite type of chocacolate...  ...              1\n",
       "46253   The noodles were better than I thought instant...  ...             -1\n",
       "228596  I think I ordered the wrong brand. Peter Pan c...  ...             -1\n",
       "102453  My bulldog does so well on this food, I doubt ...  ...              1\n",
       "\n",
       "[5 rows x 4 columns]"
      ]
     },
     "execution_count": 31,
     "metadata": {
      "tags": []
     },
     "output_type": "execute_result"
    }
   ],
   "source": [
    "# concatenate the positive and negative data into a new dataframe\n",
    "# this dataframe will be the training set (amazon dataset) for our test set (crawled corpus)\n",
    "data_train_undersampled_ = pd.concat([data_negative_train, data_positive_train])\n",
    "# randomise the order of the sampled dataframe\n",
    "data_train_undersampled = data_train_undersampled_.sample(frac=1)\n",
    "print(data_train_undersampled.shape)\n",
    "data_train_undersampled.head()"
   ]
  },
  {
   "cell_type": "code",
   "execution_count": null,
   "metadata": {
    "colab": {
     "base_uri": "https://localhost:8080/"
    },
    "id": "E5DpV0rXntsH",
    "outputId": "9ebb7218-b1a7-4eaa-8de0-9312e216b285"
   },
   "outputs": [
    {
     "data": {
      "text/plain": [
       "-1    57107\n",
       " 1    57107\n",
       "Name: ratings_class, dtype: int64"
      ]
     },
     "execution_count": 32,
     "metadata": {
      "tags": []
     },
     "output_type": "execute_result"
    }
   ],
   "source": [
    "# check the distribution of the class again\n",
    "data_train_undersampled['ratings_class'].value_counts()"
   ]
  },
  {
   "cell_type": "code",
   "execution_count": null,
   "metadata": {
    "colab": {
     "base_uri": "https://localhost:8080/"
    },
    "id": "-TSJaebWnxbv",
    "outputId": "c4ca9602-a58e-4f7c-e69a-73d798b0414b"
   },
   "outputs": [
    {
     "data": {
      "text/plain": [
       "114214"
      ]
     },
     "execution_count": 33,
     "metadata": {
      "tags": []
     },
     "output_type": "execute_result"
    }
   ],
   "source": [
    "# get the length of train data for later use\n",
    "train_data_length = len(data_train_undersampled)\n",
    "train_data_length"
   ]
  },
  {
   "cell_type": "markdown",
   "metadata": {
    "id": "HR4pz_s_oBS_"
   },
   "source": [
    "### Preprocess the test dataset to separate the neutral data from the opinionated ones\n",
    "So that we can fit the test set into the binary classifier model trained"
   ]
  },
  {
   "cell_type": "code",
   "execution_count": null,
   "metadata": {
    "colab": {
     "base_uri": "https://localhost:8080/"
    },
    "id": "vR1Q-P9Cn0JH",
    "outputId": "b659bfdc-f043-4c93-957a-732572854871"
   },
   "outputs": [
    {
     "name": "stdout",
     "output_type": "stream",
     "text": [
      "(79205, 7)\n",
      " 1    72280\n",
      "-1     6925\n",
      "Name: ratings_class, dtype: int64\n"
     ]
    }
   ],
   "source": [
    "data_opinionated_test = data_test[data_test['ratings_class'] != 0]\n",
    "print(data_opinionated_test.shape)\n",
    "print(data_opinionated_test['ratings_class'].value_counts())"
   ]
  },
  {
   "cell_type": "markdown",
   "metadata": {
    "id": "bqI5LKnGpYXu"
   },
   "source": [
    "**Summary of dataframes formed**  \n",
    "- data_neutral_train  \n",
    "- data_neutral_test\n",
    "- data_train_undersampled (positive + negative)\n",
    "- data_opinionated_test (positive + negative)\n",
    "- data_test_ordered (positive + negative + neutral at the back) for SOLR"
   ]
  },
  {
   "cell_type": "code",
   "execution_count": null,
   "metadata": {
    "colab": {
     "base_uri": "https://localhost:8080/"
    },
    "id": "_ks9X4FNpRxG",
    "outputId": "8e22a9d0-86be-4380-b22c-7c9b764d611c"
   },
   "outputs": [
    {
     "name": "stdout",
     "output_type": "stream",
     "text": [
      "(88042, 7)\n"
     ]
    },
    {
     "data": {
      "text/plain": [
       " 1    72280\n",
       " 0     8837\n",
       "-1     6925\n",
       "Name: ratings_class, dtype: int64"
      ]
     },
     "execution_count": 35,
     "metadata": {
      "tags": []
     },
     "output_type": "execute_result"
    }
   ],
   "source": [
    "frames = [data_opinionated_test, data_neutral_test]\n",
    "data_test_ordered = pd.concat(frames)\n",
    "# check the dimension of the merged dataframe\n",
    "print(data_test_ordered.shape)\n",
    "#data_test_ordered.head(3)\n",
    "data_test_ordered['ratings_class'].value_counts()"
   ]
  },
  {
   "cell_type": "markdown",
   "metadata": {
    "id": "SrlmIoxNDUeW"
   },
   "source": [
    "There are 8837 comments that are neutral at the back of the dataframe"
   ]
  },
  {
   "cell_type": "code",
   "execution_count": null,
   "metadata": {
    "id": "FV4zhp72Cmg_"
   },
   "outputs": [],
   "source": [
    "# combine the test set for later use in SOLR\n",
    "data_test_ordered.to_csv(COLAB_FILEPATH + 'data/trip-advisor-comments-filtered-ordered.csv', index=False)"
   ]
  },
  {
   "cell_type": "code",
   "execution_count": null,
   "metadata": {
    "id": "OHu4SNbyR6ql"
   },
   "outputs": [],
   "source": []
  },
  {
   "cell_type": "code",
   "execution_count": null,
   "metadata": {
    "colab": {
     "base_uri": "https://localhost:8080/",
     "height": 144
    },
    "id": "tYzXxFKiPeCv",
    "outputId": "dcf96fda-0fee-4899-db4e-62d371f28e08"
   },
   "outputs": [
    {
     "data": {
      "text/html": [
       "<div>\n",
       "<style scoped>\n",
       "    .dataframe tbody tr th:only-of-type {\n",
       "        vertical-align: middle;\n",
       "    }\n",
       "\n",
       "    .dataframe tbody tr th {\n",
       "        vertical-align: top;\n",
       "    }\n",
       "\n",
       "    .dataframe thead th {\n",
       "        text-align: right;\n",
       "    }\n",
       "</style>\n",
       "<table border=\"1\" class=\"dataframe\">\n",
       "  <thead>\n",
       "    <tr style=\"text-align: right;\">\n",
       "      <th></th>\n",
       "      <th>comments</th>\n",
       "      <th>ratings</th>\n",
       "      <th>type</th>\n",
       "      <th>ratings_class</th>\n",
       "    </tr>\n",
       "  </thead>\n",
       "  <tbody>\n",
       "    <tr>\n",
       "      <th>0</th>\n",
       "      <td>I enjoyed my time here with my girlfriends! Fa...</td>\n",
       "      <td>5</td>\n",
       "      <td>test</td>\n",
       "      <td>1</td>\n",
       "    </tr>\n",
       "    <tr>\n",
       "      <th>1</th>\n",
       "      <td>Wonderful and amazing service experience. Defi...</td>\n",
       "      <td>5</td>\n",
       "      <td>test</td>\n",
       "      <td>1</td>\n",
       "    </tr>\n",
       "    <tr>\n",
       "      <th>2</th>\n",
       "      <td>Great food and wonderful service! Will definit...</td>\n",
       "      <td>5</td>\n",
       "      <td>test</td>\n",
       "      <td>1</td>\n",
       "    </tr>\n",
       "  </tbody>\n",
       "</table>\n",
       "</div>"
      ],
      "text/plain": [
       "                                            comments  ...  ratings_class\n",
       "0  I enjoyed my time here with my girlfriends! Fa...  ...              1\n",
       "1  Wonderful and amazing service experience. Defi...  ...              1\n",
       "2  Great food and wonderful service! Will definit...  ...              1\n",
       "\n",
       "[3 rows x 4 columns]"
      ]
     },
     "execution_count": 37,
     "metadata": {
      "tags": []
     },
     "output_type": "execute_result"
    }
   ],
   "source": [
    "# drop the unwanted columns so that it can be merged with the train set\n",
    "data_opinionated_test = data_opinionated_test.drop(['Restaurant Name','Restaurant Type', 'Reviewer\\'s Name'], axis=1)\n",
    "data_opinionated_test.head(3)"
   ]
  },
  {
   "cell_type": "markdown",
   "metadata": {
    "id": "nrJioB5cr_cS"
   },
   "source": [
    "# Merge 2 dataframes together\n",
    "Take note of the last entry of the train set and the first entry of the test set so that we can split the dataset to train-val and test set after tokenization"
   ]
  },
  {
   "cell_type": "code",
   "execution_count": null,
   "metadata": {
    "colab": {
     "base_uri": "https://localhost:8080/"
    },
    "id": "PmTktI3esR0D",
    "outputId": "0833a69b-a633-477b-d418-ea4a0794d7d5"
   },
   "outputs": [
    {
     "name": "stdout",
     "output_type": "stream",
     "text": [
      "Train set dimension: (114214, 4)\n",
      "Test set dimension: (79205, 4)\n"
     ]
    }
   ],
   "source": [
    "# shape of train set\n",
    "print(f'Train set dimension: {data_train_undersampled.shape}')\n",
    "# shape of test set\n",
    "print(f'Test set dimension: {data_opinionated_test.shape}')"
   ]
  },
  {
   "cell_type": "markdown",
   "metadata": {
    "id": "RnazqKOdrLQe"
   },
   "source": [
    "### Perform data cleaning and Lemmatization"
   ]
  },
  {
   "cell_type": "code",
   "execution_count": null,
   "metadata": {
    "colab": {
     "base_uri": "https://localhost:8080/",
     "height": 162
    },
    "id": "_pwb36LyrO3y",
    "outputId": "502b256d-6d11-4171-b685-811c0ef84574"
   },
   "outputs": [
    {
     "name": "stdout",
     "output_type": "stream",
     "text": [
      "(193419, 4)\n"
     ]
    },
    {
     "data": {
      "text/html": [
       "<div>\n",
       "<style scoped>\n",
       "    .dataframe tbody tr th:only-of-type {\n",
       "        vertical-align: middle;\n",
       "    }\n",
       "\n",
       "    .dataframe tbody tr th {\n",
       "        vertical-align: top;\n",
       "    }\n",
       "\n",
       "    .dataframe thead th {\n",
       "        text-align: right;\n",
       "    }\n",
       "</style>\n",
       "<table border=\"1\" class=\"dataframe\">\n",
       "  <thead>\n",
       "    <tr style=\"text-align: right;\">\n",
       "      <th></th>\n",
       "      <th>comments</th>\n",
       "      <th>ratings</th>\n",
       "      <th>type</th>\n",
       "      <th>ratings_class</th>\n",
       "    </tr>\n",
       "  </thead>\n",
       "  <tbody>\n",
       "    <tr>\n",
       "      <th>214595</th>\n",
       "      <td>This maple syrup was very good.  I was very di...</td>\n",
       "      <td>2</td>\n",
       "      <td>train</td>\n",
       "      <td>-1</td>\n",
       "    </tr>\n",
       "    <tr>\n",
       "      <th>97297</th>\n",
       "      <td>I cant believe my favorite type of chocacolate...</td>\n",
       "      <td>5</td>\n",
       "      <td>train</td>\n",
       "      <td>1</td>\n",
       "    </tr>\n",
       "    <tr>\n",
       "      <th>46253</th>\n",
       "      <td>The noodles were better than I thought instant...</td>\n",
       "      <td>2</td>\n",
       "      <td>train</td>\n",
       "      <td>-1</td>\n",
       "    </tr>\n",
       "  </tbody>\n",
       "</table>\n",
       "</div>"
      ],
      "text/plain": [
       "                                                 comments  ...  ratings_class\n",
       "214595  This maple syrup was very good.  I was very di...  ...             -1\n",
       "97297   I cant believe my favorite type of chocacolate...  ...              1\n",
       "46253   The noodles were better than I thought instant...  ...             -1\n",
       "\n",
       "[3 rows x 4 columns]"
      ]
     },
     "execution_count": 39,
     "metadata": {
      "tags": []
     },
     "output_type": "execute_result"
    }
   ],
   "source": [
    "# merge the 2 dataframes together to perform tokenization\n",
    "frames = [data_train_undersampled,data_opinionated_test]\n",
    "data_overall = pd.concat(frames)\n",
    "# check the dimension of the merged dataframe\n",
    "print(data_overall.shape)\n",
    "data_overall.head(3)"
   ]
  },
  {
   "cell_type": "code",
   "execution_count": null,
   "metadata": {
    "colab": {
     "base_uri": "https://localhost:8080/",
     "height": 175
    },
    "id": "4Z2BbU2wsiyZ",
    "outputId": "16daa2f2-669d-4910-b305-9ff5b3ada8f2"
   },
   "outputs": [
    {
     "data": {
      "text/html": [
       "<div>\n",
       "<style scoped>\n",
       "    .dataframe tbody tr th:only-of-type {\n",
       "        vertical-align: middle;\n",
       "    }\n",
       "\n",
       "    .dataframe tbody tr th {\n",
       "        vertical-align: top;\n",
       "    }\n",
       "\n",
       "    .dataframe thead th {\n",
       "        text-align: right;\n",
       "    }\n",
       "</style>\n",
       "<table border=\"1\" class=\"dataframe\">\n",
       "  <thead>\n",
       "    <tr style=\"text-align: right;\">\n",
       "      <th></th>\n",
       "      <th>comments</th>\n",
       "      <th>ratings</th>\n",
       "      <th>type</th>\n",
       "      <th>ratings_class</th>\n",
       "    </tr>\n",
       "  </thead>\n",
       "  <tbody>\n",
       "    <tr>\n",
       "      <th>534782</th>\n",
       "      <td>I only ordered this MFG brand of lingonberry b...</td>\n",
       "      <td>1</td>\n",
       "      <td>train</td>\n",
       "      <td>-1</td>\n",
       "    </tr>\n",
       "    <tr>\n",
       "      <th>48580</th>\n",
       "      <td>I got a sample of this in my Summer VoxBox and...</td>\n",
       "      <td>5</td>\n",
       "      <td>train</td>\n",
       "      <td>1</td>\n",
       "    </tr>\n",
       "    <tr>\n",
       "      <th>0</th>\n",
       "      <td>I enjoyed my time here with my girlfriends! Fa...</td>\n",
       "      <td>5</td>\n",
       "      <td>test</td>\n",
       "      <td>1</td>\n",
       "    </tr>\n",
       "    <tr>\n",
       "      <th>1</th>\n",
       "      <td>Wonderful and amazing service experience. Defi...</td>\n",
       "      <td>5</td>\n",
       "      <td>test</td>\n",
       "      <td>1</td>\n",
       "    </tr>\n",
       "  </tbody>\n",
       "</table>\n",
       "</div>"
      ],
      "text/plain": [
       "                                                 comments  ...  ratings_class\n",
       "534782  I only ordered this MFG brand of lingonberry b...  ...             -1\n",
       "48580   I got a sample of this in my Summer VoxBox and...  ...              1\n",
       "0       I enjoyed my time here with my girlfriends! Fa...  ...              1\n",
       "1       Wonderful and amazing service experience. Defi...  ...              1\n",
       "\n",
       "[4 rows x 4 columns]"
      ]
     },
     "execution_count": 40,
     "metadata": {
      "tags": []
     },
     "output_type": "execute_result"
    }
   ],
   "source": [
    "# check the range where the data changes from train set to test set\n",
    "# debug\n",
    "#data_overall.iloc[:,:]\n",
    "# finding the split\n",
    "data_overall.iloc[train_data_length-2:train_data_length+2,:]"
   ]
  },
  {
   "cell_type": "code",
   "execution_count": null,
   "metadata": {
    "colab": {
     "base_uri": "https://localhost:8080/",
     "height": 81
    },
    "id": "yMDE4PwxsojR",
    "outputId": "08233ced-63b1-4b16-fe6a-c032722f0eb4"
   },
   "outputs": [
    {
     "data": {
      "text/html": [
       "<div>\n",
       "<style scoped>\n",
       "    .dataframe tbody tr th:only-of-type {\n",
       "        vertical-align: middle;\n",
       "    }\n",
       "\n",
       "    .dataframe tbody tr th {\n",
       "        vertical-align: top;\n",
       "    }\n",
       "\n",
       "    .dataframe thead th {\n",
       "        text-align: right;\n",
       "    }\n",
       "</style>\n",
       "<table border=\"1\" class=\"dataframe\">\n",
       "  <thead>\n",
       "    <tr style=\"text-align: right;\">\n",
       "      <th></th>\n",
       "      <th>comments</th>\n",
       "      <th>ratings</th>\n",
       "      <th>type</th>\n",
       "      <th>ratings_class</th>\n",
       "    </tr>\n",
       "  </thead>\n",
       "  <tbody>\n",
       "    <tr>\n",
       "      <th>48580</th>\n",
       "      <td>I got a sample of this in my Summer VoxBox and...</td>\n",
       "      <td>5</td>\n",
       "      <td>train</td>\n",
       "      <td>1</td>\n",
       "    </tr>\n",
       "  </tbody>\n",
       "</table>\n",
       "</div>"
      ],
      "text/plain": [
       "                                                comments  ...  ratings_class\n",
       "48580  I got a sample of this in my Summer VoxBox and...  ...              1\n",
       "\n",
       "[1 rows x 4 columns]"
      ]
     },
     "execution_count": 41,
     "metadata": {
      "tags": []
     },
     "output_type": "execute_result"
    }
   ],
   "source": [
    "# last entry of the train set\n",
    "data_overall.iloc[[train_data_length-1]]"
   ]
  },
  {
   "cell_type": "code",
   "execution_count": null,
   "metadata": {
    "colab": {
     "base_uri": "https://localhost:8080/",
     "height": 206
    },
    "id": "Z3jE6H1gsr0B",
    "outputId": "0c05779b-56b3-4631-d257-b8def35dcfd8"
   },
   "outputs": [
    {
     "data": {
      "text/html": [
       "<div>\n",
       "<style scoped>\n",
       "    .dataframe tbody tr th:only-of-type {\n",
       "        vertical-align: middle;\n",
       "    }\n",
       "\n",
       "    .dataframe tbody tr th {\n",
       "        vertical-align: top;\n",
       "    }\n",
       "\n",
       "    .dataframe thead th {\n",
       "        text-align: right;\n",
       "    }\n",
       "</style>\n",
       "<table border=\"1\" class=\"dataframe\">\n",
       "  <thead>\n",
       "    <tr style=\"text-align: right;\">\n",
       "      <th></th>\n",
       "      <th>comments</th>\n",
       "      <th>ratings</th>\n",
       "      <th>type</th>\n",
       "      <th>ratings_class</th>\n",
       "    </tr>\n",
       "  </thead>\n",
       "  <tbody>\n",
       "    <tr>\n",
       "      <th>214595</th>\n",
       "      <td>This maple syrup was very good.  I was very di...</td>\n",
       "      <td>2</td>\n",
       "      <td>train</td>\n",
       "      <td>-1</td>\n",
       "    </tr>\n",
       "    <tr>\n",
       "      <th>97297</th>\n",
       "      <td>I cant believe my favorite type of chocacolate...</td>\n",
       "      <td>5</td>\n",
       "      <td>train</td>\n",
       "      <td>1</td>\n",
       "    </tr>\n",
       "    <tr>\n",
       "      <th>46253</th>\n",
       "      <td>The noodles were better than I thought instant...</td>\n",
       "      <td>2</td>\n",
       "      <td>train</td>\n",
       "      <td>-1</td>\n",
       "    </tr>\n",
       "    <tr>\n",
       "      <th>228596</th>\n",
       "      <td>I think I ordered the wrong brand. Peter Pan c...</td>\n",
       "      <td>2</td>\n",
       "      <td>train</td>\n",
       "      <td>-1</td>\n",
       "    </tr>\n",
       "    <tr>\n",
       "      <th>102453</th>\n",
       "      <td>My bulldog does so well on this food, I doubt ...</td>\n",
       "      <td>5</td>\n",
       "      <td>train</td>\n",
       "      <td>1</td>\n",
       "    </tr>\n",
       "  </tbody>\n",
       "</table>\n",
       "</div>"
      ],
      "text/plain": [
       "                                                 comments  ...  ratings_class\n",
       "214595  This maple syrup was very good.  I was very di...  ...             -1\n",
       "97297   I cant believe my favorite type of chocacolate...  ...              1\n",
       "46253   The noodles were better than I thought instant...  ...             -1\n",
       "228596  I think I ordered the wrong brand. Peter Pan c...  ...             -1\n",
       "102453  My bulldog does so well on this food, I doubt ...  ...              1\n",
       "\n",
       "[5 rows x 4 columns]"
      ]
     },
     "execution_count": 42,
     "metadata": {
      "tags": []
     },
     "output_type": "execute_result"
    }
   ],
   "source": [
    "data_overall.head()"
   ]
  },
  {
   "cell_type": "markdown",
   "metadata": {
    "id": "kukrb5gZs-YB"
   },
   "source": [
    "# Perform data cleaning and Lemmatization"
   ]
  },
  {
   "cell_type": "code",
   "execution_count": null,
   "metadata": {
    "id": "mj48AdWItCEf"
   },
   "outputs": [],
   "source": [
    "# remove contractions\n",
    "def contraction_removal(phrase):\n",
    "    phrase = re.sub(r\"won't\", \"will not\", phrase)\n",
    "    phrase = re.sub(r\"can\\'t\", \"can not\", phrase)\n",
    "\n",
    "    # general\n",
    "    phrase = re.sub(r\"n\\'t\", \"not\", phrase)\n",
    "    phrase = re.sub(r\"\\'re\", \"are\", phrase)\n",
    "    phrase = re.sub(r\"\\'s\", \"is\", phrase)\n",
    "    phrase = re.sub(r\"\\'d\", \"would\", phrase)\n",
    "    phrase = re.sub(r\"\\'ll\", \"will\", phrase)\n",
    "    phrase = re.sub(r\"\\'t\", \"not\", phrase)\n",
    "    phrase = re.sub(r\"\\'ve\", \"have\", phrase)\n",
    "    phrase = re.sub(r\"\\'m\", \"am\", phrase)\n",
    "    return phrase"
   ]
  },
  {
   "cell_type": "code",
   "execution_count": null,
   "metadata": {
    "id": "3qo8dNXktDXA"
   },
   "outputs": [],
   "source": [
    "# https://gist.github.com/sebleier/554280\n",
    "# we are removing the words from the stop words list: 'no', 'nor', 'not'\n",
    "# <br /><br /> ==> after the above steps, we are getting \"br br\"\n",
    "# we are including them into stop words list\n",
    "# instead of <br /> if we have <br/> these tags would have revmoved in the 1st step\n",
    "\n",
    "stopwords= set(['br', 'the', 'i', 'me', 'my', 'myself', 'we', 'our', 'ours', 'ourselves', 'you', \"you're\", \"you've\",\\\n",
    "            \"you'll\", \"you'd\", 'your', 'yours', 'yourself', 'yourselves', 'he', 'him', 'his', 'himself', \\\n",
    "            'she', \"she's\", 'her', 'hers', 'herself', 'it', \"it's\", 'its', 'itself', 'they', 'them', 'their',\\\n",
    "            'theirs', 'themselves', 'what', 'which', 'who', 'whom', 'this', 'that', \"that'll\", 'these', 'those', \\\n",
    "            'am', 'is', 'are', 'was', 'were', 'be', 'been', 'being', 'have', 'has', 'had', 'having', 'do', 'does', \\\n",
    "            'did', 'doing', 'a', 'an', 'the', 'and', 'but', 'if', 'or', 'because', 'as', 'until', 'while', 'of', \\\n",
    "            'at', 'by', 'for', 'with', 'about', 'against', 'between', 'into', 'through', 'during', 'before', 'after',\\\n",
    "            'above', 'below', 'to', 'from', 'up', 'down', 'in', 'out', 'on', 'off', 'over', 'under', 'again', 'further',\\\n",
    "            'then', 'once', 'here', 'there', 'when', 'where', 'why', 'how', 'all', 'any', 'both', 'each', 'few', 'more',\\\n",
    "            'most', 'other', 'some', 'such', 'only', 'own', 'same', 'so', 'than', 'too', 'very', \\\n",
    "            's', 't', 'can', 'will', 'just', 'don', \"don't\", 'should', \"should've\", 'now', 'd', 'll', 'm', 'o', 're', \\\n",
    "            've', 'y', 'ain', 'aren', \"aren't\", 'couldn', \"couldn't\", 'didn', \"didn't\", 'doesn', \"doesn't\", 'hadn',\\\n",
    "            \"hadn't\", 'hasn', \"hasn't\", 'haven', \"haven't\", 'isn', \"isn't\", 'ma', 'mightn', \"mightn't\", 'mustn',\\\n",
    "            \"mustn't\", 'needn', \"needn't\", 'shan', \"shan't\", 'shouldn', \"shouldn't\", 'wasn', \"wasn't\", 'weren', \"weren't\", \\\n",
    "            'won', \"won't\", 'wouldn', \"wouldn't\", \"\\n\"])"
   ]
  },
  {
   "cell_type": "code",
   "execution_count": null,
   "metadata": {
    "colab": {
     "base_uri": "https://localhost:8080/"
    },
    "id": "_KBtdgKftEm4",
    "outputId": "11789143-a5d9-4aa7-fb73-6bd55fcba161"
   },
   "outputs": [
    {
     "name": "stderr",
     "output_type": "stream",
     "text": [
      "100%|██████████| 193419/193419 [00:57<00:00, 3389.84it/s]\n"
     ]
    }
   ],
   "source": [
    "# to do data cleaning here\n",
    "preprocessed_reviews = []\n",
    "# tqdm is for printing the status bar\n",
    "for sentence in tqdm(data_overall['comments'].values):\n",
    "    sentence = re.sub(r\"http\\S+\", \"\", sentence)\n",
    "    sentence = BeautifulSoup(sentence, 'lxml').get_text()\n",
    "    sentence = contraction_removal(sentence)\n",
    "    sentence = re.sub(\"\\S*\\d\\S*\", \"\", sentence).strip()\n",
    "    sentence = re.sub('[^A-Za-z]+', ' ', sentence)\n",
    "    # https://gist.github.com/sebleier/554280\n",
    "    sentence = ' '.join(e.lower() for e in sentence.split() if e.lower() not in stopwords)\n",
    "    preprocessed_reviews.append(sentence.strip())"
   ]
  },
  {
   "cell_type": "code",
   "execution_count": null,
   "metadata": {
    "colab": {
     "base_uri": "https://localhost:8080/",
     "height": 206
    },
    "id": "51kyijpawrGL",
    "outputId": "4883150f-3d10-48a5-cd52-f95e204fb349"
   },
   "outputs": [
    {
     "data": {
      "text/html": [
       "<div>\n",
       "<style scoped>\n",
       "    .dataframe tbody tr th:only-of-type {\n",
       "        vertical-align: middle;\n",
       "    }\n",
       "\n",
       "    .dataframe tbody tr th {\n",
       "        vertical-align: top;\n",
       "    }\n",
       "\n",
       "    .dataframe thead th {\n",
       "        text-align: right;\n",
       "    }\n",
       "</style>\n",
       "<table border=\"1\" class=\"dataframe\">\n",
       "  <thead>\n",
       "    <tr style=\"text-align: right;\">\n",
       "      <th></th>\n",
       "      <th>text</th>\n",
       "      <th>text_lemmatized</th>\n",
       "    </tr>\n",
       "  </thead>\n",
       "  <tbody>\n",
       "    <tr>\n",
       "      <th>0</th>\n",
       "      <td>maple syrup good disheartened find mold bottom...</td>\n",
       "      <td>[maple, syrup, good, disheartened, find, mold,...</td>\n",
       "    </tr>\n",
       "    <tr>\n",
       "      <th>1</th>\n",
       "      <td>cant believe favorite type chocacolate sold lo...</td>\n",
       "      <td>[cant, believe, favorite, type, chocacolate, s...</td>\n",
       "    </tr>\n",
       "    <tr>\n",
       "      <th>2</th>\n",
       "      <td>noodles better thought instant rice noodles wo...</td>\n",
       "      <td>[noodle, better, thought, instant, rice, noodl...</td>\n",
       "    </tr>\n",
       "    <tr>\n",
       "      <th>3</th>\n",
       "      <td>think ordered wrong brand peter pan creamy tex...</td>\n",
       "      <td>[think, ordered, wrong, brand, peter, pan, cre...</td>\n",
       "    </tr>\n",
       "    <tr>\n",
       "      <th>4</th>\n",
       "      <td>bulldog well food doubt ever switch helped tre...</td>\n",
       "      <td>[bulldog, well, food, doubt, ever, switch, hel...</td>\n",
       "    </tr>\n",
       "  </tbody>\n",
       "</table>\n",
       "</div>"
      ],
      "text/plain": [
       "                                                text                                    text_lemmatized\n",
       "0  maple syrup good disheartened find mold bottom...  [maple, syrup, good, disheartened, find, mold,...\n",
       "1  cant believe favorite type chocacolate sold lo...  [cant, believe, favorite, type, chocacolate, s...\n",
       "2  noodles better thought instant rice noodles wo...  [noodle, better, thought, instant, rice, noodl...\n",
       "3  think ordered wrong brand peter pan creamy tex...  [think, ordered, wrong, brand, peter, pan, cre...\n",
       "4  bulldog well food doubt ever switch helped tre...  [bulldog, well, food, doubt, ever, switch, hel..."
      ]
     },
     "execution_count": 46,
     "metadata": {
      "tags": []
     },
     "output_type": "execute_result"
    }
   ],
   "source": [
    "# perform lemmatization here\n",
    "w_tokenizer = nltk.tokenize.WhitespaceTokenizer()\n",
    "lemmatizer = nltk.stem.WordNetLemmatizer()\n",
    "def lemmatize_text(text):\n",
    "    return [lemmatizer.lemmatize(w) for w in w_tokenizer.tokenize(text)]\n",
    "\n",
    "df = pd.DataFrame(preprocessed_reviews, columns=['text'])\n",
    "df['text_lemmatized'] = df.text.apply(lemmatize_text)\n",
    "df.head()"
   ]
  },
  {
   "cell_type": "code",
   "execution_count": null,
   "metadata": {
    "id": "PwxUarK-zgf-"
   },
   "outputs": [],
   "source": [
    "text_lemmatized_list = []\n",
    "# merge the elements in the list into a string\n",
    "for i in df['text_lemmatized']:\n",
    "    listToStr = ' '.join([str(elem) for elem in i])\n",
    "    text_lemmatized_list.append(listToStr)"
   ]
  },
  {
   "cell_type": "code",
   "execution_count": null,
   "metadata": {
    "colab": {
     "base_uri": "https://localhost:8080/",
     "height": 312
    },
    "id": "_69AYoWy1F0f",
    "outputId": "f8dd83e4-a830-4ff6-d52f-58ab2d7c235b"
   },
   "outputs": [
    {
     "name": "stdout",
     "output_type": "stream",
     "text": [
      "(193419, 5)\n"
     ]
    },
    {
     "data": {
      "text/html": [
       "<div>\n",
       "<style scoped>\n",
       "    .dataframe tbody tr th:only-of-type {\n",
       "        vertical-align: middle;\n",
       "    }\n",
       "\n",
       "    .dataframe tbody tr th {\n",
       "        vertical-align: top;\n",
       "    }\n",
       "\n",
       "    .dataframe thead th {\n",
       "        text-align: right;\n",
       "    }\n",
       "</style>\n",
       "<table border=\"1\" class=\"dataframe\">\n",
       "  <thead>\n",
       "    <tr style=\"text-align: right;\">\n",
       "      <th></th>\n",
       "      <th>comments</th>\n",
       "      <th>ratings</th>\n",
       "      <th>type</th>\n",
       "      <th>ratings_class</th>\n",
       "      <th>comments_cleaned</th>\n",
       "    </tr>\n",
       "  </thead>\n",
       "  <tbody>\n",
       "    <tr>\n",
       "      <th>214595</th>\n",
       "      <td>This maple syrup was very good.  I was very di...</td>\n",
       "      <td>2</td>\n",
       "      <td>train</td>\n",
       "      <td>-1</td>\n",
       "      <td>maple syrup good disheartened find mold bottom...</td>\n",
       "    </tr>\n",
       "    <tr>\n",
       "      <th>97297</th>\n",
       "      <td>I cant believe my favorite type of chocacolate...</td>\n",
       "      <td>5</td>\n",
       "      <td>train</td>\n",
       "      <td>1</td>\n",
       "      <td>cant believe favorite type chocacolate sold lo...</td>\n",
       "    </tr>\n",
       "    <tr>\n",
       "      <th>46253</th>\n",
       "      <td>The noodles were better than I thought instant...</td>\n",
       "      <td>2</td>\n",
       "      <td>train</td>\n",
       "      <td>-1</td>\n",
       "      <td>noodle better thought instant rice noodle woul...</td>\n",
       "    </tr>\n",
       "    <tr>\n",
       "      <th>228596</th>\n",
       "      <td>I think I ordered the wrong brand. Peter Pan c...</td>\n",
       "      <td>2</td>\n",
       "      <td>train</td>\n",
       "      <td>-1</td>\n",
       "      <td>think ordered wrong brand peter pan creamy tex...</td>\n",
       "    </tr>\n",
       "    <tr>\n",
       "      <th>102453</th>\n",
       "      <td>My bulldog does so well on this food, I doubt ...</td>\n",
       "      <td>5</td>\n",
       "      <td>train</td>\n",
       "      <td>1</td>\n",
       "      <td>bulldog well food doubt ever switch helped tre...</td>\n",
       "    </tr>\n",
       "  </tbody>\n",
       "</table>\n",
       "</div>"
      ],
      "text/plain": [
       "                                                 comments  ...                                   comments_cleaned\n",
       "214595  This maple syrup was very good.  I was very di...  ...  maple syrup good disheartened find mold bottom...\n",
       "97297   I cant believe my favorite type of chocacolate...  ...  cant believe favorite type chocacolate sold lo...\n",
       "46253   The noodles were better than I thought instant...  ...  noodle better thought instant rice noodle woul...\n",
       "228596  I think I ordered the wrong brand. Peter Pan c...  ...  think ordered wrong brand peter pan creamy tex...\n",
       "102453  My bulldog does so well on this food, I doubt ...  ...  bulldog well food doubt ever switch helped tre...\n",
       "\n",
       "[5 rows x 5 columns]"
      ]
     },
     "execution_count": 48,
     "metadata": {
      "tags": []
     },
     "output_type": "execute_result"
    }
   ],
   "source": [
    "# append the lemmatized list to the main dataframe\n",
    "data_overall['comments_cleaned'] = text_lemmatized_list\n",
    "print(data_overall.shape)\n",
    "data_overall.head()"
   ]
  },
  {
   "cell_type": "code",
   "execution_count": null,
   "metadata": {
    "id": "0UJ6VZ4eyl12"
   },
   "outputs": [],
   "source": []
  },
  {
   "cell_type": "markdown",
   "metadata": {
    "id": "ZanCkllX18Ta"
   },
   "source": [
    "### Export cleaned corpus to csv  \n",
    "To save the progress of the data cleaning at this point of time\n"
   ]
  },
  {
   "cell_type": "code",
   "execution_count": null,
   "metadata": {
    "id": "npKHY2Q514m5"
   },
   "outputs": [],
   "source": [
    "data_overall.to_csv(COLAB_FILEPATH + 'data/data_train_test_combined.csv', \n",
    "                    index=False)"
   ]
  },
  {
   "cell_type": "code",
   "execution_count": null,
   "metadata": {
    "id": "SaP-w5rZMWbr"
   },
   "outputs": [],
   "source": []
  },
  {
   "cell_type": "markdown",
   "metadata": {
    "id": "qINt0tZN26l6"
   },
   "source": [
    "### Import the cleaned corpus"
   ]
  },
  {
   "cell_type": "code",
   "execution_count": null,
   "metadata": {
    "colab": {
     "base_uri": "https://localhost:8080/",
     "height": 206
    },
    "id": "UmAe1ocg3E83",
    "outputId": "ef10afd5-184a-4a80-99ea-697128ce83f6"
   },
   "outputs": [
    {
     "data": {
      "text/html": [
       "<div>\n",
       "<style scoped>\n",
       "    .dataframe tbody tr th:only-of-type {\n",
       "        vertical-align: middle;\n",
       "    }\n",
       "\n",
       "    .dataframe tbody tr th {\n",
       "        vertical-align: top;\n",
       "    }\n",
       "\n",
       "    .dataframe thead th {\n",
       "        text-align: right;\n",
       "    }\n",
       "</style>\n",
       "<table border=\"1\" class=\"dataframe\">\n",
       "  <thead>\n",
       "    <tr style=\"text-align: right;\">\n",
       "      <th></th>\n",
       "      <th>comments</th>\n",
       "      <th>ratings</th>\n",
       "      <th>type</th>\n",
       "      <th>ratings_class</th>\n",
       "      <th>comments_cleaned</th>\n",
       "    </tr>\n",
       "  </thead>\n",
       "  <tbody>\n",
       "    <tr>\n",
       "      <th>0</th>\n",
       "      <td>This maple syrup was very good.  I was very di...</td>\n",
       "      <td>2</td>\n",
       "      <td>train</td>\n",
       "      <td>-1</td>\n",
       "      <td>maple syrup good disheartened find mold bottom...</td>\n",
       "    </tr>\n",
       "    <tr>\n",
       "      <th>1</th>\n",
       "      <td>I cant believe my favorite type of chocacolate...</td>\n",
       "      <td>5</td>\n",
       "      <td>train</td>\n",
       "      <td>1</td>\n",
       "      <td>cant believe favorite type chocacolate sold lo...</td>\n",
       "    </tr>\n",
       "    <tr>\n",
       "      <th>2</th>\n",
       "      <td>The noodles were better than I thought instant...</td>\n",
       "      <td>2</td>\n",
       "      <td>train</td>\n",
       "      <td>-1</td>\n",
       "      <td>noodle better thought instant rice noodle woul...</td>\n",
       "    </tr>\n",
       "    <tr>\n",
       "      <th>3</th>\n",
       "      <td>I think I ordered the wrong brand. Peter Pan c...</td>\n",
       "      <td>2</td>\n",
       "      <td>train</td>\n",
       "      <td>-1</td>\n",
       "      <td>think ordered wrong brand peter pan creamy tex...</td>\n",
       "    </tr>\n",
       "    <tr>\n",
       "      <th>4</th>\n",
       "      <td>My bulldog does so well on this food, I doubt ...</td>\n",
       "      <td>5</td>\n",
       "      <td>train</td>\n",
       "      <td>1</td>\n",
       "      <td>bulldog well food doubt ever switch helped tre...</td>\n",
       "    </tr>\n",
       "  </tbody>\n",
       "</table>\n",
       "</div>"
      ],
      "text/plain": [
       "                                            comments  ...                                   comments_cleaned\n",
       "0  This maple syrup was very good.  I was very di...  ...  maple syrup good disheartened find mold bottom...\n",
       "1  I cant believe my favorite type of chocacolate...  ...  cant believe favorite type chocacolate sold lo...\n",
       "2  The noodles were better than I thought instant...  ...  noodle better thought instant rice noodle woul...\n",
       "3  I think I ordered the wrong brand. Peter Pan c...  ...  think ordered wrong brand peter pan creamy tex...\n",
       "4  My bulldog does so well on this food, I doubt ...  ...  bulldog well food doubt ever switch helped tre...\n",
       "\n",
       "[5 rows x 5 columns]"
      ]
     },
     "execution_count": 6,
     "metadata": {
      "tags": []
     },
     "output_type": "execute_result"
    }
   ],
   "source": [
    "data_overall_ = pd.read_csv(COLAB_FILEPATH + 'data/data_train_test_combined.csv')\n",
    "data_overall_.head()"
   ]
  },
  {
   "cell_type": "code",
   "execution_count": null,
   "metadata": {
    "colab": {
     "base_uri": "https://localhost:8080/"
    },
    "id": "_wgkra1a3Hwv",
    "outputId": "a0e0afa4-fffc-4889-f546-732e49fecc27"
   },
   "outputs": [
    {
     "name": "stdout",
     "output_type": "stream",
     "text": [
      "comments            object\n",
      "ratings              int64\n",
      "type                object\n",
      "ratings_class        int64\n",
      "comments_cleaned    object\n",
      "dtype: object\n",
      "comments            193419\n",
      "ratings             193419\n",
      "type                193419\n",
      "ratings_class       193419\n",
      "comments_cleaned    193129\n",
      "dtype: int64\n"
     ]
    }
   ],
   "source": [
    "print(data_overall_.dtypes)\n",
    "print(data_overall_.count())"
   ]
  },
  {
   "cell_type": "code",
   "execution_count": null,
   "metadata": {
    "colab": {
     "base_uri": "https://localhost:8080/"
    },
    "id": "ROJaE3L03RMo",
    "outputId": "964850b3-7ff5-492c-a202-8ec20ead18a9"
   },
   "outputs": [
    {
     "data": {
      "text/plain": [
       "comments            193419\n",
       "ratings             193419\n",
       "type                193419\n",
       "ratings_class       193419\n",
       "comments_cleaned    193419\n",
       "dtype: int64"
      ]
     },
     "execution_count": 8,
     "metadata": {
      "tags": []
     },
     "output_type": "execute_result"
    }
   ],
   "source": [
    "# replace na with - for the row where the comments cleaned are empty\n",
    "data_overall_['comments_cleaned'] = data_overall_['comments_cleaned'].fillna('-')\n",
    "data_overall_.count()"
   ]
  },
  {
   "cell_type": "code",
   "execution_count": null,
   "metadata": {
    "colab": {
     "base_uri": "https://localhost:8080/",
     "height": 363
    },
    "id": "k7Gt1eKC3TgX",
    "outputId": "b142d432-d926-4ba9-8314-9da0803ab0a2"
   },
   "outputs": [
    {
     "data": {
      "text/html": [
       "<div>\n",
       "<style scoped>\n",
       "    .dataframe tbody tr th:only-of-type {\n",
       "        vertical-align: middle;\n",
       "    }\n",
       "\n",
       "    .dataframe tbody tr th {\n",
       "        vertical-align: top;\n",
       "    }\n",
       "\n",
       "    .dataframe thead th {\n",
       "        text-align: right;\n",
       "    }\n",
       "</style>\n",
       "<table border=\"1\" class=\"dataframe\">\n",
       "  <thead>\n",
       "    <tr style=\"text-align: right;\">\n",
       "      <th></th>\n",
       "      <th>type</th>\n",
       "      <th>ratings_class</th>\n",
       "      <th>comments_cleaned</th>\n",
       "    </tr>\n",
       "  </thead>\n",
       "  <tbody>\n",
       "    <tr>\n",
       "      <th>0</th>\n",
       "      <td>train</td>\n",
       "      <td>-1</td>\n",
       "      <td>maple syrup good disheartened find mold bottom...</td>\n",
       "    </tr>\n",
       "    <tr>\n",
       "      <th>1</th>\n",
       "      <td>train</td>\n",
       "      <td>1</td>\n",
       "      <td>cant believe favorite type chocacolate sold lo...</td>\n",
       "    </tr>\n",
       "    <tr>\n",
       "      <th>2</th>\n",
       "      <td>train</td>\n",
       "      <td>-1</td>\n",
       "      <td>noodle better thought instant rice noodle woul...</td>\n",
       "    </tr>\n",
       "    <tr>\n",
       "      <th>3</th>\n",
       "      <td>train</td>\n",
       "      <td>-1</td>\n",
       "      <td>think ordered wrong brand peter pan creamy tex...</td>\n",
       "    </tr>\n",
       "    <tr>\n",
       "      <th>4</th>\n",
       "      <td>train</td>\n",
       "      <td>1</td>\n",
       "      <td>bulldog well food doubt ever switch helped tre...</td>\n",
       "    </tr>\n",
       "    <tr>\n",
       "      <th>5</th>\n",
       "      <td>train</td>\n",
       "      <td>1</td>\n",
       "      <td>french country spread itis best creamiest text...</td>\n",
       "    </tr>\n",
       "    <tr>\n",
       "      <th>6</th>\n",
       "      <td>train</td>\n",
       "      <td>1</td>\n",
       "      <td>best bar ever would eat one every day could fl...</td>\n",
       "    </tr>\n",
       "    <tr>\n",
       "      <th>7</th>\n",
       "      <td>train</td>\n",
       "      <td>1</td>\n",
       "      <td>really like flavor little little milk wonderfu...</td>\n",
       "    </tr>\n",
       "    <tr>\n",
       "      <th>8</th>\n",
       "      <td>train</td>\n",
       "      <td>-1</td>\n",
       "      <td>bargain price still could tasted better carame...</td>\n",
       "    </tr>\n",
       "    <tr>\n",
       "      <th>9</th>\n",
       "      <td>train</td>\n",
       "      <td>1</td>\n",
       "      <td>dog yorkshire terrier mouth small ihave fed bi...</td>\n",
       "    </tr>\n",
       "  </tbody>\n",
       "</table>\n",
       "</div>"
      ],
      "text/plain": [
       "    type  ratings_class                                   comments_cleaned\n",
       "0  train             -1  maple syrup good disheartened find mold bottom...\n",
       "1  train              1  cant believe favorite type chocacolate sold lo...\n",
       "2  train             -1  noodle better thought instant rice noodle woul...\n",
       "3  train             -1  think ordered wrong brand peter pan creamy tex...\n",
       "4  train              1  bulldog well food doubt ever switch helped tre...\n",
       "5  train              1  french country spread itis best creamiest text...\n",
       "6  train              1  best bar ever would eat one every day could fl...\n",
       "7  train              1  really like flavor little little milk wonderfu...\n",
       "8  train             -1  bargain price still could tasted better carame...\n",
       "9  train              1  dog yorkshire terrier mouth small ihave fed bi..."
      ]
     },
     "execution_count": 9,
     "metadata": {
      "tags": []
     },
     "output_type": "execute_result"
    }
   ],
   "source": [
    "# remove not useful columns\n",
    "data_overall = data_overall_.drop(labels='comments', axis=1)\n",
    "data_overall = data_overall.drop(labels='ratings', axis=1)\n",
    "data_overall.head(10)"
   ]
  },
  {
   "cell_type": "code",
   "execution_count": null,
   "metadata": {
    "colab": {
     "base_uri": "https://localhost:8080/"
    },
    "id": "F3RZu9ln3alo",
    "outputId": "621bccfe-7e80-4762-9218-ce7b3116b495"
   },
   "outputs": [
    {
     "data": {
      "text/plain": [
       "114214"
      ]
     },
     "execution_count": 10,
     "metadata": {
      "tags": []
     },
     "output_type": "execute_result"
    }
   ],
   "source": [
    "# check the range where the data changes from train set to test set\n",
    "# count number of dataset that belongs to train\n",
    "train_count = data_overall['type'].value_counts()['train']\n",
    "train_count"
   ]
  },
  {
   "cell_type": "code",
   "execution_count": null,
   "metadata": {
    "colab": {
     "base_uri": "https://localhost:8080/",
     "height": 175
    },
    "id": "zUTA5teP3eTI",
    "outputId": "84af2998-15b4-4342-f66b-4b371fe4d51e"
   },
   "outputs": [
    {
     "data": {
      "text/html": [
       "<div>\n",
       "<style scoped>\n",
       "    .dataframe tbody tr th:only-of-type {\n",
       "        vertical-align: middle;\n",
       "    }\n",
       "\n",
       "    .dataframe tbody tr th {\n",
       "        vertical-align: top;\n",
       "    }\n",
       "\n",
       "    .dataframe thead th {\n",
       "        text-align: right;\n",
       "    }\n",
       "</style>\n",
       "<table border=\"1\" class=\"dataframe\">\n",
       "  <thead>\n",
       "    <tr style=\"text-align: right;\">\n",
       "      <th></th>\n",
       "      <th>type</th>\n",
       "      <th>ratings_class</th>\n",
       "      <th>comments_cleaned</th>\n",
       "    </tr>\n",
       "  </thead>\n",
       "  <tbody>\n",
       "    <tr>\n",
       "      <th>114212</th>\n",
       "      <td>train</td>\n",
       "      <td>-1</td>\n",
       "      <td>ordered mfg brand lingonberry advertised lingo...</td>\n",
       "    </tr>\n",
       "    <tr>\n",
       "      <th>114213</th>\n",
       "      <td>train</td>\n",
       "      <td>1</td>\n",
       "      <td>got sample summer voxbox fell immediately love...</td>\n",
       "    </tr>\n",
       "    <tr>\n",
       "      <th>114214</th>\n",
       "      <td>test</td>\n",
       "      <td>1</td>\n",
       "      <td>enjoyed time girlfriend fajar server gave reco...</td>\n",
       "    </tr>\n",
       "    <tr>\n",
       "      <th>114215</th>\n",
       "      <td>test</td>\n",
       "      <td>1</td>\n",
       "      <td>wonderful amazing service experience definitel...</td>\n",
       "    </tr>\n",
       "  </tbody>\n",
       "</table>\n",
       "</div>"
      ],
      "text/plain": [
       "         type  ratings_class                                   comments_cleaned\n",
       "114212  train             -1  ordered mfg brand lingonberry advertised lingo...\n",
       "114213  train              1  got sample summer voxbox fell immediately love...\n",
       "114214   test              1  enjoyed time girlfriend fajar server gave reco...\n",
       "114215   test              1  wonderful amazing service experience definitel..."
      ]
     },
     "execution_count": 11,
     "metadata": {
      "tags": []
     },
     "output_type": "execute_result"
    }
   ],
   "source": [
    "# finding the split\n",
    "data_overall.iloc[train_count-2:train_count+2,:]"
   ]
  },
  {
   "cell_type": "code",
   "execution_count": null,
   "metadata": {
    "colab": {
     "base_uri": "https://localhost:8080/"
    },
    "id": "5-qtexDN3gI3",
    "outputId": "7ecf8b59-9b38-495f-cf50-101c9c6be3ff"
   },
   "outputs": [
    {
     "name": "stdout",
     "output_type": "stream",
     "text": [
      "got sample summer voxbox fell immediately love wrapper suggested heating microwave second let tell fantastic definitely buying regular basis\n",
      "79205\n"
     ]
    }
   ],
   "source": [
    "print(data_overall.iloc[train_count-1,2])\n",
    "print(len(data_overall[data_overall['type']=='test']))"
   ]
  },
  {
   "cell_type": "code",
   "execution_count": null,
   "metadata": {
    "id": "PuiwQbKQ3p2P"
   },
   "outputs": [],
   "source": []
  },
  {
   "cell_type": "markdown",
   "metadata": {
    "id": "1C__XgxF3wvv"
   },
   "source": [
    "# Label and define the predictor and the response"
   ]
  },
  {
   "cell_type": "code",
   "execution_count": null,
   "metadata": {
    "colab": {
     "base_uri": "https://localhost:8080/",
     "height": 144
    },
    "id": "xGIAn5RH3_1t",
    "outputId": "2de98682-e9be-4432-e95e-1e69d6aa4bef"
   },
   "outputs": [
    {
     "data": {
      "text/html": [
       "<div>\n",
       "<style scoped>\n",
       "    .dataframe tbody tr th:only-of-type {\n",
       "        vertical-align: middle;\n",
       "    }\n",
       "\n",
       "    .dataframe tbody tr th {\n",
       "        vertical-align: top;\n",
       "    }\n",
       "\n",
       "    .dataframe thead th {\n",
       "        text-align: right;\n",
       "    }\n",
       "</style>\n",
       "<table border=\"1\" class=\"dataframe\">\n",
       "  <thead>\n",
       "    <tr style=\"text-align: right;\">\n",
       "      <th></th>\n",
       "      <th>-1</th>\n",
       "      <th>1</th>\n",
       "    </tr>\n",
       "  </thead>\n",
       "  <tbody>\n",
       "    <tr>\n",
       "      <th>0</th>\n",
       "      <td>1</td>\n",
       "      <td>0</td>\n",
       "    </tr>\n",
       "    <tr>\n",
       "      <th>1</th>\n",
       "      <td>0</td>\n",
       "      <td>1</td>\n",
       "    </tr>\n",
       "    <tr>\n",
       "      <th>2</th>\n",
       "      <td>1</td>\n",
       "      <td>0</td>\n",
       "    </tr>\n",
       "  </tbody>\n",
       "</table>\n",
       "</div>"
      ],
      "text/plain": [
       "   -1   1\n",
       "0   1   0\n",
       "1   0   1\n",
       "2   1   0"
      ]
     },
     "execution_count": 13,
     "metadata": {
      "tags": []
     },
     "output_type": "execute_result"
    }
   ],
   "source": [
    "X = data_overall['comments_cleaned'].values\n",
    "y = data_overall['ratings_class']\n",
    "# one hot the classifier\n",
    "y_oh = pd.get_dummies(y)\n",
    "# check the one-hot classifier\n",
    "y_oh[:3]"
   ]
  },
  {
   "cell_type": "code",
   "execution_count": null,
   "metadata": {
    "colab": {
     "base_uri": "https://localhost:8080/"
    },
    "id": "PwyM9Tyl4O3N",
    "outputId": "f5d95ee6-e615-4644-883b-612c8ddab499"
   },
   "outputs": [
    {
     "data": {
      "text/plain": [
       "array(['maple syrup good disheartened find mold bottom bottle last serving didnot think mold formed maple syrup gross',\n",
       "       'cant believe favorite type chocacolate sold low price ihave checked website website aero bar cost knew could find lower price amazing deal one best chocolate bar around highly recommend order least',\n",
       "       'noodle better thought instant rice noodle would said positive think rice noodle bland expected much flavorful soup little flavor could make soup wasnot good didnot fit description chinese onion flavor mean something significantly different onion flavor ignore would not connected onion unless read package iam not sure describe little taste thatis taste bad',\n",
       "       ...,\n",
       "       'nice spacious restaurant sunlight thru roof cool nice place relax buffet spread variety dish japanese cuisine northern indian western roast beef pork asian local favourite like laksa crayfish seafood spread covering',\n",
       "       'restraunt replaces cafe swiss location chef diff name good brewed coffee dilmah tea place know serf water bubbly water tap good spread japanese sushi japanese seafood rice cheese platter',\n",
       "       'restaurant opened month plus took cafe swiss offer mix asian western cuisine spread reasonable get health conscious wish good choice diy food dish'],\n",
       "      dtype=object)"
      ]
     },
     "execution_count": 14,
     "metadata": {
      "tags": []
     },
     "output_type": "execute_result"
    }
   ],
   "source": [
    "X"
   ]
  },
  {
   "cell_type": "code",
   "execution_count": null,
   "metadata": {
    "colab": {
     "base_uri": "https://localhost:8080/",
     "height": 206
    },
    "id": "JCmc9gjy4R2l",
    "outputId": "c3026c5b-cf4c-4278-ef5f-958e71ad6abd"
   },
   "outputs": [
    {
     "data": {
      "text/html": [
       "<div>\n",
       "<style scoped>\n",
       "    .dataframe tbody tr th:only-of-type {\n",
       "        vertical-align: middle;\n",
       "    }\n",
       "\n",
       "    .dataframe tbody tr th {\n",
       "        vertical-align: top;\n",
       "    }\n",
       "\n",
       "    .dataframe thead th {\n",
       "        text-align: right;\n",
       "    }\n",
       "</style>\n",
       "<table border=\"1\" class=\"dataframe\">\n",
       "  <thead>\n",
       "    <tr style=\"text-align: right;\">\n",
       "      <th></th>\n",
       "      <th>cleaned_comments</th>\n",
       "    </tr>\n",
       "  </thead>\n",
       "  <tbody>\n",
       "    <tr>\n",
       "      <th>0</th>\n",
       "      <td>maple syrup good disheartened find mold bottom...</td>\n",
       "    </tr>\n",
       "    <tr>\n",
       "      <th>1</th>\n",
       "      <td>cant believe favorite type chocacolate sold lo...</td>\n",
       "    </tr>\n",
       "    <tr>\n",
       "      <th>2</th>\n",
       "      <td>noodle better thought instant rice noodle woul...</td>\n",
       "    </tr>\n",
       "    <tr>\n",
       "      <th>3</th>\n",
       "      <td>think ordered wrong brand peter pan creamy tex...</td>\n",
       "    </tr>\n",
       "    <tr>\n",
       "      <th>4</th>\n",
       "      <td>bulldog well food doubt ever switch helped tre...</td>\n",
       "    </tr>\n",
       "  </tbody>\n",
       "</table>\n",
       "</div>"
      ],
      "text/plain": [
       "                                    cleaned_comments\n",
       "0  maple syrup good disheartened find mold bottom...\n",
       "1  cant believe favorite type chocacolate sold lo...\n",
       "2  noodle better thought instant rice noodle woul...\n",
       "3  think ordered wrong brand peter pan creamy tex...\n",
       "4  bulldog well food doubt ever switch helped tre..."
      ]
     },
     "execution_count": 15,
     "metadata": {
      "tags": []
     },
     "output_type": "execute_result"
    }
   ],
   "source": [
    "X_df = pd.DataFrame(X)\n",
    "X_df.columns = [\"cleaned_comments\"]\n",
    "X_df.head()"
   ]
  },
  {
   "cell_type": "code",
   "execution_count": null,
   "metadata": {
    "colab": {
     "base_uri": "https://localhost:8080/"
    },
    "id": "BqLbT4pR4TKk",
    "outputId": "9af3a236-1233-4540-bee2-ca6fe4417d75"
   },
   "outputs": [
    {
     "name": "stdout",
     "output_type": "stream",
     "text": [
      "Words in the Vocabulary :  78815\n"
     ]
    }
   ],
   "source": [
    "# Count the Vocabulary\n",
    "count_vect = CountVectorizer()\n",
    "count_vect.fit(X)\n",
    "\n",
    "vocabulary = count_vect.get_feature_names()\n",
    "print('Words in the Vocabulary : ',len(vocabulary))"
   ]
  },
  {
   "cell_type": "code",
   "execution_count": null,
   "metadata": {
    "id": "KhLmMekc4Uwm"
   },
   "outputs": [],
   "source": []
  },
  {
   "cell_type": "markdown",
   "metadata": {
    "id": "jxQFewPy4gSm"
   },
   "source": [
    "# Pre-processing of text by doing tokenization of data"
   ]
  },
  {
   "cell_type": "code",
   "execution_count": null,
   "metadata": {
    "id": "J3nv40b24iJd"
   },
   "outputs": [],
   "source": [
    "#Creating dictionary\n",
    "corpus = dict()\n",
    "ind = 0\n",
    "for sent in X:\n",
    "  for word in sent.split():\n",
    "    corpus.setdefault(word,[])\n",
    "    corpus[word].append(ind)\n",
    "    ind += 1\n",
    "\n",
    "#Frequency for each word of vocabulary\n",
    "freq = []\n",
    "for w in vocabulary:\n",
    "  #print(w, end=' ')\n",
    "  freq.append(len(corpus[w]))"
   ]
  },
  {
   "cell_type": "code",
   "execution_count": null,
   "metadata": {
    "id": "KdfAibtU4jvt"
   },
   "outputs": [],
   "source": [
    "#Frequencies in decreasing order\n",
    "inc_index =np.argsort(np.array(freq))[::-1]\n",
    "\n",
    "#Allocating ranks \n",
    "word_rank = dict()\n",
    "rank = 1\n",
    "for i in inc_index:\n",
    "  word_rank[vocabulary[i]] = rank\n",
    "  rank +=1"
   ]
  },
  {
   "cell_type": "code",
   "execution_count": null,
   "metadata": {
    "id": "98NN1VIX4m4N"
   },
   "outputs": [],
   "source": [
    "data = []\n",
    "for sent in X:\n",
    "  row = []\n",
    "  for word in sent.split():\n",
    "    if(len(word)>1):\n",
    "      row.append(word_rank[word])\n",
    "  data.append(row)"
   ]
  },
  {
   "cell_type": "code",
   "execution_count": null,
   "metadata": {
    "colab": {
     "base_uri": "https://localhost:8080/"
    },
    "id": "3P2PvW6f4qz9",
    "outputId": "517a3c88-d46f-4f8b-ee54-f37c82269a92"
   },
   "outputs": [
    {
     "name": "stdout",
     "output_type": "stream",
     "text": [
      "[75, 978, 1151, 9336, 1471, 709, 14, 1731, 1355, 3685, 970, 265, 346, 413, 303, 94, 180, 201, 1677] "
     ]
    }
   ],
   "source": [
    "# check the tokenized representation\n",
    "print(data[train_count-1], end= ' ')"
   ]
  },
  {
   "cell_type": "code",
   "execution_count": null,
   "metadata": {
    "id": "AJWuhYxd4snF"
   },
   "outputs": [],
   "source": [
    "# splitting of data\n",
    "X_train, X_test = data[:train_count], data[train_count:]\n",
    "Y_train, Y_test = y[:train_count], y[train_count:]\n",
    "Y_train_oh , Y_test_oh = y_oh[:train_count], y_oh[train_count:]"
   ]
  },
  {
   "cell_type": "code",
   "execution_count": null,
   "metadata": {
    "id": "aQwIfJLL4w9c"
   },
   "outputs": [],
   "source": []
  },
  {
   "cell_type": "markdown",
   "metadata": {
    "id": "Rnm4EBsy40sV"
   },
   "source": [
    "# Deep Learning Portion"
   ]
  },
  {
   "cell_type": "code",
   "execution_count": null,
   "metadata": {
    "colab": {
     "base_uri": "https://localhost:8080/"
    },
    "id": "_OSJ4gEi5I_M",
    "outputId": "669d9f24-13f3-4ffc-efa3-4870b9893938"
   },
   "outputs": [
    {
     "name": "stdout",
     "output_type": "stream",
     "text": [
      "(114214, 100)\n",
      "[   0    0    0    0    0    0    0    0    0    0    0    0    0    0\n",
      "    0    0    0    0    0    0    0    0    0    0    0    0    0    0\n",
      "    0    0    0    0    0    0    0    0    0    0    0    0    0    0\n",
      "    0    0    0    0    0    0    0    0    0    0    0    0    0    0\n",
      "    0    0    0    0    0    0    0    0    0    0    0    0    0    0\n",
      "    0    0    0    0  195  211  169  164  532  547  862 1890   89 1951\n",
      " 1296  479   90   56    9  185  466  238   28    1  965   77  724   68\n",
      "    9 4089]\n"
     ]
    }
   ],
   "source": [
    "# padding input sequences\n",
    "max_review_length = 100\n",
    "X_train = sequence.pad_sequences(X_train, maxlen=max_review_length)\n",
    "X_test = sequence.pad_sequences(X_test, maxlen=max_review_length)\n",
    "\n",
    "print(X_train.shape)\n",
    "print(X_train[2000])"
   ]
  },
  {
   "cell_type": "code",
   "execution_count": null,
   "metadata": {
    "id": "gH0lO4Rl5KqE"
   },
   "outputs": [],
   "source": [
    "# plot function for the accuracy and loss curve\n",
    "import matplotlib.pyplot as plt\n",
    "import numpy as np\n",
    "import time\n",
    "# https://gist.github.com/greydanus/f6eee59eaf1d90fcb3b534a25362cea4\n",
    "# https://stackoverflow.com/a/14434334\n",
    "# this function is used to update the plots for each epoch and error\n",
    "def plt_dynamic(x, vy, ty, ax, colors=['b']):\n",
    "    ax.plot(x, vy, 'b', label=\"Validation Loss\")\n",
    "    ax.plot(x, ty, 'r', label=\"Train Loss\")\n",
    "    plt.legend()\n",
    "    plt.grid(True)\n",
    "    fig.canvas.draw()"
   ]
  },
  {
   "cell_type": "code",
   "execution_count": null,
   "metadata": {
    "id": "VUGFhT_95NLu"
   },
   "outputs": [],
   "source": []
  },
  {
   "cell_type": "markdown",
   "metadata": {
    "id": "72kgXssL5Qb1"
   },
   "source": [
    "### LSTM One Layer"
   ]
  },
  {
   "cell_type": "code",
   "execution_count": null,
   "metadata": {
    "colab": {
     "base_uri": "https://localhost:8080/"
    },
    "id": "eAbBst8E5S5M",
    "outputId": "32ec6f5f-261f-4b29-b602-941c5fd53dd2"
   },
   "outputs": [
    {
     "name": "stdout",
     "output_type": "stream",
     "text": [
      "Model: \"sequential\"\n",
      "_________________________________________________________________\n",
      "Layer (type)                 Output Shape              Param #   \n",
      "=================================================================\n",
      "embedding (Embedding)        (None, 100, 32)           2522112   \n",
      "_________________________________________________________________\n",
      "dropout (Dropout)            (None, 100, 32)           0         \n",
      "_________________________________________________________________\n",
      "lstm (LSTM)                  (None, 128)               82432     \n",
      "_________________________________________________________________\n",
      "dropout_1 (Dropout)          (None, 128)               0         \n",
      "_________________________________________________________________\n",
      "dense (Dense)                (None, 2)                 258       \n",
      "=================================================================\n",
      "Total params: 2,604,802\n",
      "Trainable params: 2,604,802\n",
      "Non-trainable params: 0\n",
      "_________________________________________________________________\n",
      "None\n"
     ]
    }
   ],
   "source": [
    "vocab_size = len(vocabulary)\n",
    "embedding_vector_length = 32\n",
    "EPOCHS = 5\n",
    "\n",
    "model = Sequential()\n",
    "model.add(Embedding(vocab_size+1, embedding_vector_length, input_length=max_review_length))\n",
    "model.add(Dropout(0.2))\n",
    "model.add(LSTM(128))\n",
    "model.add(Dropout(0.2))\n",
    "model.add(Dense(2, activation='softmax'))\n",
    "\n",
    "print(model.summary())"
   ]
  },
  {
   "cell_type": "code",
   "execution_count": null,
   "metadata": {
    "colab": {
     "base_uri": "https://localhost:8080/"
    },
    "id": "FR-_KuJT5UpD",
    "outputId": "c53b101b-017f-430f-be75-83370c0769db"
   },
   "outputs": [
    {
     "name": "stdout",
     "output_type": "stream",
     "text": [
      "Epoch 1/5\n",
      "179/179 [==============================] - 13s 49ms/step - loss: 0.5557 - accuracy: 0.6978 - val_loss: 0.2850 - val_accuracy: 0.8847\n",
      "\n",
      "Epoch 00001: val_loss improved from inf to 0.28496, saving model to ./drive/My Drive/4034-amazon-review-classification/model/LSTM-1layer-2-class-downsampled.h5\n",
      "Epoch 2/5\n",
      "179/179 [==============================] - 8s 42ms/step - loss: 0.2537 - accuracy: 0.8997 - val_loss: 0.2745 - val_accuracy: 0.8895\n",
      "\n",
      "Epoch 00002: val_loss improved from 0.28496 to 0.27454, saving model to ./drive/My Drive/4034-amazon-review-classification/model/LSTM-1layer-2-class-downsampled.h5\n",
      "Epoch 3/5\n",
      "179/179 [==============================] - 8s 43ms/step - loss: 0.2137 - accuracy: 0.9176 - val_loss: 0.2869 - val_accuracy: 0.8859\n",
      "\n",
      "Epoch 00003: val_loss did not improve from 0.27454\n",
      "Epoch 4/5\n",
      "179/179 [==============================] - 8s 43ms/step - loss: 0.1840 - accuracy: 0.9305 - val_loss: 0.2837 - val_accuracy: 0.8881\n",
      "\n",
      "Epoch 00004: val_loss did not improve from 0.27454\n",
      "Epoch 5/5\n",
      "179/179 [==============================] - 8s 43ms/step - loss: 0.1598 - accuracy: 0.9403 - val_loss: 0.3027 - val_accuracy: 0.8850\n",
      "\n",
      "Epoch 00005: val_loss did not improve from 0.27454\n"
     ]
    }
   ],
   "source": [
    "model.compile(loss='categorical_crossentropy', \n",
    "              optimizer='adam', \n",
    "              metrics=['accuracy'])\n",
    "callbacks_list=[ModelCheckpoint(filepath=COLAB_FILEPATH+'model/LSTM-1layer-2-class-downsampled.h5',save_best_only=True,verbose=1,)]\n",
    "#Fitting the data to the model\n",
    "history = model.fit(X_train, \n",
    "                    Y_train_oh, \n",
    "                    epochs=EPOCHS, \n",
    "                    batch_size=512,\n",
    "                    verbose=1,\n",
    "                    #validation_data=(X_test, Y_test),\n",
    "                    validation_split=0.2,\n",
    "                    callbacks=callbacks_list)"
   ]
  },
  {
   "cell_type": "code",
   "execution_count": null,
   "metadata": {
    "colab": {
     "base_uri": "https://localhost:8080/",
     "height": 281
    },
    "id": "eRSspC1K5dIk",
    "outputId": "fc36b5db-7ef5-43fd-d2eb-36b03a138324"
   },
   "outputs": [
    {
     "data": {
      "image/png": "[encoded data removed]",
      "text/plain": [
       "<Figure size 432x288 with 1 Axes>"
      ]
     },
     "metadata": {
      "needs_background": "light",
      "tags": []
     },
     "output_type": "display_data"
    }
   ],
   "source": [
    "fig,ax = plt.subplots(1,1)\n",
    "ax.set_xlabel('epoch') ; ax.set_ylabel('categorical_crossentropy')\n",
    "\n",
    "# list of epoch numbers\n",
    "x = list(range(1,EPOCHS+1))\n",
    "\n",
    "vy = history.history['val_loss']\n",
    "ty = history.history['loss']\n",
    "plt_dynamic(x, vy, ty, ax)"
   ]
  },
  {
   "cell_type": "code",
   "execution_count": null,
   "metadata": {
    "colab": {
     "base_uri": "https://localhost:8080/"
    },
    "id": "voaiFYTnTWeH",
    "outputId": "a3a9daac-fdbb-4f2b-e52d-df8812bc1f68"
   },
   "outputs": [
    {
     "data": {
      "text/plain": [
       "0.4348519060000058"
      ]
     },
     "execution_count": 26,
     "metadata": {
      "tags": []
     },
     "output_type": "execute_result"
    }
   ],
   "source": [
    "import time\n",
    "\n",
    "start = time.perf_counter()\n",
    "# evaluate model with test set (crawled data)\n",
    "model_lstm_1layer = tensorflow.keras.models.load_model(COLAB_FILEPATH+'model/LSTM-1layer-2-class-downsampled.h5')\n",
    "time_taken = time.perf_counter()-start\n",
    "time_taken"
   ]
  },
  {
   "cell_type": "code",
   "execution_count": null,
   "metadata": {
    "colab": {
     "base_uri": "https://localhost:8080/"
    },
    "id": "rI4-yvMb8Mxq",
    "outputId": "2d5b579e-705e-4c92-ac3e-afba3e4f17c3"
   },
   "outputs": [
    {
     "name": "stdout",
     "output_type": "stream",
     "text": [
      "Test loss: 0.20734244585037231\n",
      "Test accuracy: 0.9185531139373779\n",
      "0.00010680404403762343\n",
      "9362.941347499294\n"
     ]
    }
   ],
   "source": [
    "# accuracy on test data\n",
    "start = time.perf_counter()\n",
    "score_1layer = model_lstm_1layer.evaluate(X_test,Y_test_oh, verbose=0)\n",
    "time_taken = time.perf_counter()-start\n",
    "print('Test loss:', score_1layer[0])\n",
    "print('Test accuracy:', score_1layer[1])\n",
    "print(time_taken/len(X_test))\n",
    "print(len(X_test)/time_taken)"
   ]
  },
  {
   "cell_type": "code",
   "execution_count": null,
   "metadata": {
    "colab": {
     "base_uri": "https://localhost:8080/"
    },
    "id": "JDLDQwq_8Ssh",
    "outputId": "671ff602-c146-4592-9958-b4462fede0b1"
   },
   "outputs": [
    {
     "name": "stdout",
     "output_type": "stream",
     "text": [
      "Y_pred_test.shape: (79205,)\n",
      "Unqiue classes in the ground truth: [-1  1]\n",
      "GROUND TRUTH\n",
      "6925\n",
      "72280\n",
      "Unqiue classes in the prediction: [1 2]\n",
      "PREDICTION\n",
      "8338\n",
      "70867\n",
      "True\n",
      "Unqiue classes in the prediction after mapping: [-1  1]\n"
     ]
    }
   ],
   "source": [
    "# predict rating for the test data\n",
    "Y_pred_dist_test = model_lstm_1layer.predict(X_test)\n",
    "Y_pred_test = Y_pred_dist_test.argmax(axis=1)+1\n",
    "print('Y_pred_test.shape:',Y_pred_test.shape)\n",
    "\n",
    "# see the unique classes in the ground truth\n",
    "print('Unqiue classes in the ground truth:',np.unique(Y_test))\n",
    "print('GROUND TRUTH')\n",
    "print(np.count_nonzero(Y_test == -1))\n",
    "print(np.count_nonzero(Y_test == 1))\n",
    "\n",
    "# see the unique classes in the prediction\n",
    "print('Unqiue classes in the prediction:',np.unique(Y_pred_test))\n",
    "print('PREDICTION')\n",
    "print(np.count_nonzero(Y_pred_test == 1))\n",
    "print(np.count_nonzero(Y_pred_test == 2))\n",
    "\n",
    "#check if length the same for ground truth and prediction\n",
    "print(len(Y_test) == len(Y_pred_test))\n",
    "\n",
    "# map the prediction class from 1,2 to -1 and 1\n",
    "Y_pred_test = np.where(Y_pred_test == 1, -1, Y_pred_test)\n",
    "Y_pred_test = np.where(Y_pred_test == 2, 1, Y_pred_test)\n",
    "print('Unqiue classes in the prediction after mapping:',np.unique(Y_pred_test))"
   ]
  },
  {
   "cell_type": "code",
   "execution_count": null,
   "metadata": {
    "colab": {
     "base_uri": "https://localhost:8080/"
    },
    "id": "bBEEmhfkE6lM",
    "outputId": "3779a336-9f59-42ac-bea6-24c416299258"
   },
   "outputs": [
    {
     "name": "stdout",
     "output_type": "stream",
     "text": [
      "              precision    recall  f1-score   support\n",
      "\n",
      "          -1       0.53      0.64      0.58      6925\n",
      "           1       0.96      0.95      0.95     72280\n",
      "\n",
      "    accuracy                           0.92     79205\n",
      "   macro avg       0.75      0.79      0.77     79205\n",
      "weighted avg       0.93      0.92      0.92     79205\n",
      "\n"
     ]
    }
   ],
   "source": [
    "# F1-score for binary classifier\n",
    "target_names = ['-1', '1']\n",
    "print(classification_report(Y_test.tolist(), Y_pred_test, target_names=target_names))"
   ]
  },
  {
   "cell_type": "code",
   "execution_count": null,
   "metadata": {
    "colab": {
     "base_uri": "https://localhost:8080/"
    },
    "id": "ULJOAxEVFb3k",
    "outputId": "d7a51fe5-20ca-4c76-8597-8ecbcfa21ad7"
   },
   "outputs": [
    {
     "data": {
      "text/plain": [
       "array([[ 4406,  2519],\n",
       "       [ 3932, 68348]])"
      ]
     },
     "execution_count": 160,
     "metadata": {
      "tags": []
     },
     "output_type": "execute_result"
    }
   ],
   "source": [
    "# confusion matrix\n",
    "from sklearn.metrics import confusion_matrix\n",
    "import seaborn as sns\n",
    "cm_arr = confusion_matrix(Y_test, Y_pred_test)\n",
    "cm_arr"
   ]
  },
  {
   "cell_type": "code",
   "execution_count": null,
   "metadata": {
    "colab": {
     "base_uri": "https://localhost:8080/",
     "height": 279
    },
    "id": "sUuFkuQHFqQt",
    "outputId": "316e7e7f-7588-40eb-ea23-76ecf0284643"
   },
   "outputs": [
    {
     "data": {
      "image/png": "[encoded data removed]",
      "text/plain": [
       "<Figure size 432x288 with 2 Axes>"
      ]
     },
     "metadata": {
      "needs_background": "light",
      "tags": []
     },
     "output_type": "display_data"
    }
   ],
   "source": [
    "cm_sns = pd.crosstab(Y_test, Y_pred_test, rownames=['Actual'], colnames=['Predicted'])\n",
    "sns.heatmap(cm_sns, annot=True, fmt=\"d\")\n",
    "plt.show()"
   ]
  },
  {
   "cell_type": "code",
   "execution_count": null,
   "metadata": {
    "colab": {
     "base_uri": "https://localhost:8080/"
    },
    "id": "AKYf-9OuZubr",
    "outputId": "49910ce0-1b56-4a9d-ba4e-7afdaf6651de"
   },
   "outputs": [
    {
     "data": {
      "text/plain": [
       "0.7464393120599496"
      ]
     },
     "execution_count": 162,
     "metadata": {
      "tags": []
     },
     "output_type": "execute_result"
    }
   ],
   "source": [
    "# ROC-AUC - 1 layer lstm\n",
    "# Area under curve (AUC)\n",
    "fpr_keras_1lstm, tpr_keras_1lstm, thresholds_keras_1lstm = roc_curve(Y_pred_test, Y_test)\n",
    "auc_keras_1lstm = auc(fpr_keras_1lstm, tpr_keras_1lstm)\n",
    "auc_keras_1lstm"
   ]
  },
  {
   "cell_type": "code",
   "execution_count": null,
   "metadata": {
    "id": "4RZC1e1plntq"
   },
   "outputs": [],
   "source": []
  },
  {
   "cell_type": "markdown",
   "metadata": {
    "id": "Wqbt0PKgG4nF"
   },
   "source": [
    "# --- This section is for SOLR indexing system ---"
   ]
  },
  {
   "cell_type": "code",
   "execution_count": null,
   "metadata": {
    "colab": {
     "base_uri": "https://localhost:8080/"
    },
    "id": "1WNoPeqGFrnE",
    "outputId": "7a8cf0f6-da12-4a54-d229-950c49cea8f8"
   },
   "outputs": [
    {
     "data": {
      "text/plain": [
       "array([1, 1, 1, 1, 1, 1, 1, 1, 1, 1, 1, 1, 1, 1, 1, 1, 1, 1, 1, 1])"
      ]
     },
     "execution_count": 78,
     "metadata": {
      "tags": []
     },
     "output_type": "execute_result"
    }
   ],
   "source": [
    "Y_pred_test[:20]"
   ]
  },
  {
   "cell_type": "code",
   "execution_count": null,
   "metadata": {
    "colab": {
     "base_uri": "https://localhost:8080/"
    },
    "id": "83S2a-czFwA8",
    "outputId": "8a5bff87-5fe2-4158-d959-73fabec4fc1a"
   },
   "outputs": [
    {
     "data": {
      "text/plain": [
       "79205"
      ]
     },
     "execution_count": 79,
     "metadata": {
      "tags": []
     },
     "output_type": "execute_result"
    }
   ],
   "source": [
    "len(Y_pred_test)"
   ]
  },
  {
   "cell_type": "code",
   "execution_count": null,
   "metadata": {
    "colab": {
     "base_uri": "https://localhost:8080/"
    },
    "id": "esai0WHdFylM",
    "outputId": "ce55c226-4fcd-4615-b4b1-c02dd8bb0d5a"
   },
   "outputs": [
    {
     "data": {
      "text/plain": [
       "array([1, 1, 1, 1, 1, 1, 1, 1, 1, 1, 1, 1, 1, 1, 1, 1, 1, 1, 1, 1])"
      ]
     },
     "execution_count": 80,
     "metadata": {
      "tags": []
     },
     "output_type": "execute_result"
    }
   ],
   "source": [
    "Y_test.to_numpy()[:20]"
   ]
  },
  {
   "cell_type": "code",
   "execution_count": null,
   "metadata": {
    "colab": {
     "base_uri": "https://localhost:8080/",
     "height": 164
    },
    "id": "_BpxKrSoF0OL",
    "outputId": "b546ae2c-23d9-45f2-f218-f798a3ea0ba0"
   },
   "outputs": [
    {
     "data": {
      "text/html": [
       "<div>\n",
       "<style scoped>\n",
       "    .dataframe tbody tr th:only-of-type {\n",
       "        vertical-align: middle;\n",
       "    }\n",
       "\n",
       "    .dataframe tbody tr th {\n",
       "        vertical-align: top;\n",
       "    }\n",
       "\n",
       "    .dataframe thead th {\n",
       "        text-align: right;\n",
       "    }\n",
       "</style>\n",
       "<table border=\"1\" class=\"dataframe\">\n",
       "  <thead>\n",
       "    <tr style=\"text-align: right;\">\n",
       "      <th></th>\n",
       "      <th>Restaurant Name</th>\n",
       "      <th>Restaurant Type</th>\n",
       "      <th>Reviewer's Name</th>\n",
       "      <th>comments</th>\n",
       "      <th>ratings</th>\n",
       "      <th>type</th>\n",
       "      <th>ratings_class</th>\n",
       "    </tr>\n",
       "  </thead>\n",
       "  <tbody>\n",
       "    <tr>\n",
       "      <th>0</th>\n",
       "      <td>Positano @ RP</td>\n",
       "      <td>Italian, European</td>\n",
       "      <td>aisvslife98</td>\n",
       "      <td>I enjoyed my time here with my girlfriends! Fa...</td>\n",
       "      <td>5</td>\n",
       "      <td>test</td>\n",
       "      <td>1</td>\n",
       "    </tr>\n",
       "    <tr>\n",
       "      <th>1</th>\n",
       "      <td>Positano @ RP</td>\n",
       "      <td>Italian, European</td>\n",
       "      <td>Odyssey44198198885</td>\n",
       "      <td>Wonderful and amazing service experience. Defi...</td>\n",
       "      <td>5</td>\n",
       "      <td>test</td>\n",
       "      <td>1</td>\n",
       "    </tr>\n",
       "  </tbody>\n",
       "</table>\n",
       "</div>"
      ],
      "text/plain": [
       "  Restaurant Name    Restaurant Type  ...  type ratings_class\n",
       "0   Positano @ RP  Italian, European  ...  test             1\n",
       "1   Positano @ RP  Italian, European  ...  test             1\n",
       "\n",
       "[2 rows x 7 columns]"
      ]
     },
     "execution_count": 84,
     "metadata": {
      "tags": []
     },
     "output_type": "execute_result"
    }
   ],
   "source": [
    "# load the test data file\n",
    "df_solr_ = pd.read_csv(COLAB_FILEPATH + 'data/trip-advisor-comments-filtered-ordered.csv')\n",
    "df_solr_.head(2)"
   ]
  },
  {
   "cell_type": "code",
   "execution_count": null,
   "metadata": {
    "colab": {
     "base_uri": "https://localhost:8080/",
     "height": 164
    },
    "id": "elCXCveeWJg8",
    "outputId": "635e49ac-fda0-440f-faf4-c515a69899f8"
   },
   "outputs": [
    {
     "data": {
      "text/html": [
       "<div>\n",
       "<style scoped>\n",
       "    .dataframe tbody tr th:only-of-type {\n",
       "        vertical-align: middle;\n",
       "    }\n",
       "\n",
       "    .dataframe tbody tr th {\n",
       "        vertical-align: top;\n",
       "    }\n",
       "\n",
       "    .dataframe thead th {\n",
       "        text-align: right;\n",
       "    }\n",
       "</style>\n",
       "<table border=\"1\" class=\"dataframe\">\n",
       "  <thead>\n",
       "    <tr style=\"text-align: right;\">\n",
       "      <th></th>\n",
       "      <th>Restaurant Name</th>\n",
       "      <th>Restaurant Type</th>\n",
       "      <th>Reviewer's Name</th>\n",
       "      <th>comments</th>\n",
       "      <th>ratings</th>\n",
       "      <th>type</th>\n",
       "      <th>true_label</th>\n",
       "    </tr>\n",
       "  </thead>\n",
       "  <tbody>\n",
       "    <tr>\n",
       "      <th>0</th>\n",
       "      <td>Positano @ RP</td>\n",
       "      <td>Italian, European</td>\n",
       "      <td>aisvslife98</td>\n",
       "      <td>I enjoyed my time here with my girlfriends! Fa...</td>\n",
       "      <td>5</td>\n",
       "      <td>test</td>\n",
       "      <td>1</td>\n",
       "    </tr>\n",
       "    <tr>\n",
       "      <th>1</th>\n",
       "      <td>Positano @ RP</td>\n",
       "      <td>Italian, European</td>\n",
       "      <td>Odyssey44198198885</td>\n",
       "      <td>Wonderful and amazing service experience. Defi...</td>\n",
       "      <td>5</td>\n",
       "      <td>test</td>\n",
       "      <td>1</td>\n",
       "    </tr>\n",
       "  </tbody>\n",
       "</table>\n",
       "</div>"
      ],
      "text/plain": [
       "  Restaurant Name    Restaurant Type  ...  type true_label\n",
       "0   Positano @ RP  Italian, European  ...  test          1\n",
       "1   Positano @ RP  Italian, European  ...  test          1\n",
       "\n",
       "[2 rows x 7 columns]"
      ]
     },
     "execution_count": 85,
     "metadata": {
      "tags": []
     },
     "output_type": "execute_result"
    }
   ],
   "source": [
    "# rename header\n",
    "df_solr = df_solr_.rename(columns = {'ratings_class': 'true_label'}, inplace = False)\n",
    "df_solr.head(2)"
   ]
  },
  {
   "cell_type": "code",
   "execution_count": null,
   "metadata": {
    "colab": {
     "base_uri": "https://localhost:8080/"
    },
    "id": "JI9EJyaNJm8D",
    "outputId": "07fd297f-da23-44fd-dd2a-8e99a53dd4b6"
   },
   "outputs": [
    {
     "data": {
      "text/plain": [
       " 1    72280\n",
       " 0     8837\n",
       "-1     6925\n",
       "Name: true_label, dtype: int64"
      ]
     },
     "execution_count": 86,
     "metadata": {
      "tags": []
     },
     "output_type": "execute_result"
    }
   ],
   "source": [
    "df_solr['true_label'].value_counts()"
   ]
  },
  {
   "cell_type": "code",
   "execution_count": null,
   "metadata": {
    "colab": {
     "base_uri": "https://localhost:8080/"
    },
    "id": "OSQ5BYHcJ1Rb",
    "outputId": "744fbe1a-373c-49bc-bca2-652c6ec1e82b"
   },
   "outputs": [
    {
     "data": {
      "text/plain": [
       "True"
      ]
     },
     "execution_count": 92,
     "metadata": {
      "tags": []
     },
     "output_type": "execute_result"
    }
   ],
   "source": [
    "# check the difference in length\n",
    "diff_len = len(df_solr['true_label'])-len(Y_pred_test)\n",
    "diff_len == len(data_neutral_test)"
   ]
  },
  {
   "cell_type": "code",
   "execution_count": null,
   "metadata": {
    "colab": {
     "base_uri": "https://localhost:8080/",
     "height": 397
    },
    "id": "See9ob4RWqyE",
    "outputId": "e7c85d9f-07d8-4449-f4ec-bcf229ab1ee9"
   },
   "outputs": [
    {
     "data": {
      "text/html": [
       "<div>\n",
       "<style scoped>\n",
       "    .dataframe tbody tr th:only-of-type {\n",
       "        vertical-align: middle;\n",
       "    }\n",
       "\n",
       "    .dataframe tbody tr th {\n",
       "        vertical-align: top;\n",
       "    }\n",
       "\n",
       "    .dataframe thead th {\n",
       "        text-align: right;\n",
       "    }\n",
       "</style>\n",
       "<table border=\"1\" class=\"dataframe\">\n",
       "  <thead>\n",
       "    <tr style=\"text-align: right;\">\n",
       "      <th></th>\n",
       "      <th>Restaurant Name</th>\n",
       "      <th>Restaurant Type</th>\n",
       "      <th>Reviewer's Name</th>\n",
       "      <th>comments</th>\n",
       "      <th>ratings</th>\n",
       "      <th>type</th>\n",
       "      <th>ratings_class</th>\n",
       "      <th>pred_label</th>\n",
       "    </tr>\n",
       "  </thead>\n",
       "  <tbody>\n",
       "    <tr>\n",
       "      <th>0</th>\n",
       "      <td>Positano @ RP</td>\n",
       "      <td>Italian, European</td>\n",
       "      <td>aisvslife98</td>\n",
       "      <td>I enjoyed my time here with my girlfriends! Fa...</td>\n",
       "      <td>5</td>\n",
       "      <td>test</td>\n",
       "      <td>1</td>\n",
       "      <td>1</td>\n",
       "    </tr>\n",
       "    <tr>\n",
       "      <th>1</th>\n",
       "      <td>Positano @ RP</td>\n",
       "      <td>Italian, European</td>\n",
       "      <td>Odyssey44198198885</td>\n",
       "      <td>Wonderful and amazing service experience. Defi...</td>\n",
       "      <td>5</td>\n",
       "      <td>test</td>\n",
       "      <td>1</td>\n",
       "      <td>1</td>\n",
       "    </tr>\n",
       "    <tr>\n",
       "      <th>2</th>\n",
       "      <td>Positano @ RP</td>\n",
       "      <td>Italian, European</td>\n",
       "      <td>Ninifazelin</td>\n",
       "      <td>Great food and wonderful service! Will definit...</td>\n",
       "      <td>5</td>\n",
       "      <td>test</td>\n",
       "      <td>1</td>\n",
       "      <td>1</td>\n",
       "    </tr>\n",
       "    <tr>\n",
       "      <th>3</th>\n",
       "      <td>Positano @ RP</td>\n",
       "      <td>Italian, European</td>\n",
       "      <td>Amaliamazlan</td>\n",
       "      <td>Not my first time in Positano and definitely w...</td>\n",
       "      <td>5</td>\n",
       "      <td>test</td>\n",
       "      <td>1</td>\n",
       "      <td>1</td>\n",
       "    </tr>\n",
       "    <tr>\n",
       "      <th>4</th>\n",
       "      <td>Positano @ RP</td>\n",
       "      <td>Italian, European</td>\n",
       "      <td>Shahzanstim</td>\n",
       "      <td>Excellent service from the staff. The beef was...</td>\n",
       "      <td>5</td>\n",
       "      <td>test</td>\n",
       "      <td>1</td>\n",
       "      <td>1</td>\n",
       "    </tr>\n",
       "  </tbody>\n",
       "</table>\n",
       "</div>"
      ],
      "text/plain": [
       "  Restaurant Name    Restaurant Type  ... ratings_class pred_label\n",
       "0   Positano @ RP  Italian, European  ...             1          1\n",
       "1   Positano @ RP  Italian, European  ...             1          1\n",
       "2   Positano @ RP  Italian, European  ...             1          1\n",
       "3   Positano @ RP  Italian, European  ...             1          1\n",
       "4   Positano @ RP  Italian, European  ...             1          1\n",
       "\n",
       "[5 rows x 8 columns]"
      ]
     },
     "execution_count": 94,
     "metadata": {
      "tags": []
     },
     "output_type": "execute_result"
    }
   ],
   "source": [
    "# save the prediction into the dataframe\n",
    "test_data['pred_label'] = np.append(Y_pred_test,[0]*diff_len)\n",
    "test_data.head(5)"
   ]
  },
  {
   "cell_type": "code",
   "execution_count": null,
   "metadata": {
    "colab": {
     "base_uri": "https://localhost:8080/",
     "height": 380
    },
    "id": "ZxD8DHPhY2Op",
    "outputId": "3200601d-3aff-48a6-954b-d03c2de9ee16"
   },
   "outputs": [
    {
     "data": {
      "text/html": [
       "<div>\n",
       "<style scoped>\n",
       "    .dataframe tbody tr th:only-of-type {\n",
       "        vertical-align: middle;\n",
       "    }\n",
       "\n",
       "    .dataframe tbody tr th {\n",
       "        vertical-align: top;\n",
       "    }\n",
       "\n",
       "    .dataframe thead th {\n",
       "        text-align: right;\n",
       "    }\n",
       "</style>\n",
       "<table border=\"1\" class=\"dataframe\">\n",
       "  <thead>\n",
       "    <tr style=\"text-align: right;\">\n",
       "      <th></th>\n",
       "      <th>Restaurant Name</th>\n",
       "      <th>Restaurant Type</th>\n",
       "      <th>Reviewer's Name</th>\n",
       "      <th>comments</th>\n",
       "      <th>ratings</th>\n",
       "      <th>type</th>\n",
       "      <th>ratings_class</th>\n",
       "      <th>pred_label</th>\n",
       "    </tr>\n",
       "  </thead>\n",
       "  <tbody>\n",
       "    <tr>\n",
       "      <th>0</th>\n",
       "      <td>DC Comics Super Heroes Cafe</td>\n",
       "      <td>Diner, American</td>\n",
       "      <td>Julzwellery</td>\n",
       "      <td>Overall food was good and nice worth the price...</td>\n",
       "      <td>3</td>\n",
       "      <td>test</td>\n",
       "      <td>0</td>\n",
       "      <td>0</td>\n",
       "    </tr>\n",
       "    <tr>\n",
       "      <th>1</th>\n",
       "      <td>Candlenut</td>\n",
       "      <td>Asian, Singaporean</td>\n",
       "      <td>IonaC560314</td>\n",
       "      <td>Our Daughter and her husband wanted to treat m...</td>\n",
       "      <td>5</td>\n",
       "      <td>test</td>\n",
       "      <td>1</td>\n",
       "      <td>1</td>\n",
       "    </tr>\n",
       "    <tr>\n",
       "      <th>2</th>\n",
       "      <td>Man Man Japanese Unagi Restaurant</td>\n",
       "      <td>$$ - $$$</td>\n",
       "      <td>nicholasy814</td>\n",
       "      <td>1st time at the restuarant.  Will to the branc...</td>\n",
       "      <td>5</td>\n",
       "      <td>test</td>\n",
       "      <td>1</td>\n",
       "      <td>1</td>\n",
       "    </tr>\n",
       "    <tr>\n",
       "      <th>3</th>\n",
       "      <td>La Braceria Pizza &amp; Grill</td>\n",
       "      <td>Italian, Pizza</td>\n",
       "      <td>carlosg301</td>\n",
       "      <td>Went with my daughter and wife.\\n\\nThe burrata...</td>\n",
       "      <td>5</td>\n",
       "      <td>test</td>\n",
       "      <td>1</td>\n",
       "      <td>1</td>\n",
       "    </tr>\n",
       "    <tr>\n",
       "      <th>4</th>\n",
       "      <td>Shisen Hanten</td>\n",
       "      <td>Chinese, Asian</td>\n",
       "      <td>chungsenggoh</td>\n",
       "      <td>For restaurant of your recognition, the experi...</td>\n",
       "      <td>1</td>\n",
       "      <td>test</td>\n",
       "      <td>-1</td>\n",
       "      <td>-1</td>\n",
       "    </tr>\n",
       "  </tbody>\n",
       "</table>\n",
       "</div>"
      ],
      "text/plain": [
       "                     Restaurant Name  ... pred_label\n",
       "0        DC Comics Super Heroes Cafe  ...          0\n",
       "1                          Candlenut  ...          1\n",
       "2  Man Man Japanese Unagi Restaurant  ...          1\n",
       "3          La Braceria Pizza & Grill  ...          1\n",
       "4                      Shisen Hanten  ...         -1\n",
       "\n",
       "[5 rows x 8 columns]"
      ]
     },
     "execution_count": 104,
     "metadata": {
      "tags": []
     },
     "output_type": "execute_result"
    }
   ],
   "source": [
    "# shuffle the indexes in the dataframe\n",
    "test_data_shuffled = test_data.sample(frac=1).reset_index(drop=True)\n",
    "test_data_shuffled.head()"
   ]
  },
  {
   "cell_type": "code",
   "execution_count": null,
   "metadata": {
    "id": "AAIyYgQ7ZQLi"
   },
   "outputs": [],
   "source": [
    "# export final data with the prediction into the csv\n",
    "test_data_shuffled.to_csv(COLAB_FILEPATH + 'data/data_for_solr_updated.csv', index=False)"
   ]
  },
  {
   "cell_type": "markdown",
   "metadata": {
    "id": "Tzu49al6G9_0"
   },
   "source": [
    "# --- Code for SOLR ends ---"
   ]
  },
  {
   "cell_type": "code",
   "execution_count": null,
   "metadata": {
    "id": "IgMHTwO0GNo0"
   },
   "outputs": [],
   "source": []
  },
  {
   "cell_type": "markdown",
   "metadata": {
    "id": "WqgtbdC_Zkgh"
   },
   "source": [
    "### Bi-directional LSTM"
   ]
  },
  {
   "cell_type": "code",
   "execution_count": null,
   "metadata": {
    "colab": {
     "base_uri": "https://localhost:8080/"
    },
    "id": "LnbqFKHBbV-H",
    "outputId": "1b4659db-009b-4cb3-ab29-e0dd43539f4d"
   },
   "outputs": [
    {
     "name": "stdout",
     "output_type": "stream",
     "text": [
      "Model: \"sequential_7\"\n",
      "_________________________________________________________________\n",
      "Layer (type)                 Output Shape              Param #   \n",
      "=================================================================\n",
      "embedding_7 (Embedding)      (None, 100, 32)           2522112   \n",
      "_________________________________________________________________\n",
      "dropout_12 (Dropout)         (None, 100, 32)           0         \n",
      "_________________________________________________________________\n",
      "bidirectional_6 (Bidirection (None, 256)               164864    \n",
      "_________________________________________________________________\n",
      "dropout_13 (Dropout)         (None, 256)               0         \n",
      "_________________________________________________________________\n",
      "dense_6 (Dense)              (None, 2)                 514       \n",
      "=================================================================\n",
      "Total params: 2,687,490\n",
      "Trainable params: 2,687,490\n",
      "Non-trainable params: 0\n",
      "_________________________________________________________________\n",
      "None\n"
     ]
    }
   ],
   "source": [
    "vocab_size = len(vocabulary)\n",
    "embedding_vector_length = 32\n",
    "EPOCHS = 5\n",
    "\n",
    "model = Sequential()\n",
    "model.add(Embedding(vocab_size+1, embedding_vector_length, input_length=max_review_length))\n",
    "model.add(Dropout(0.2))\n",
    "model.add(Bidirectional(LSTM(128)))\n",
    "model.add(Dropout(0.2))\n",
    "model.add(Dense(2, activation='softmax'))\n",
    "\n",
    "print(model.summary())"
   ]
  },
  {
   "cell_type": "code",
   "execution_count": null,
   "metadata": {
    "colab": {
     "base_uri": "https://localhost:8080/"
    },
    "id": "Iew8CjtvcPwH",
    "outputId": "c8d4a67b-c6ad-407d-c45c-747685f472ef"
   },
   "outputs": [
    {
     "name": "stdout",
     "output_type": "stream",
     "text": [
      "Epoch 1/5\n",
      "179/179 [==============================] - 14s 64ms/step - loss: 0.5156 - accuracy: 0.7135 - val_loss: 0.2885 - val_accuracy: 0.8820\n",
      "\n",
      "Epoch 00001: val_loss improved from inf to 0.28847, saving model to ./drive/My Drive/4034-amazon-review-classification/model/BiLSTM-1layer-2-class-downsampled.h5\n",
      "Epoch 2/5\n",
      "179/179 [==============================] - 11s 59ms/step - loss: 0.2475 - accuracy: 0.9027 - val_loss: 0.2798 - val_accuracy: 0.8896\n",
      "\n",
      "Epoch 00002: val_loss improved from 0.28847 to 0.27981, saving model to ./drive/My Drive/4034-amazon-review-classification/model/BiLSTM-1layer-2-class-downsampled.h5\n",
      "Epoch 3/5\n",
      "179/179 [==============================] - 11s 60ms/step - loss: 0.2082 - accuracy: 0.9200 - val_loss: 0.2811 - val_accuracy: 0.8863\n",
      "\n",
      "Epoch 00003: val_loss did not improve from 0.27981\n",
      "Epoch 4/5\n",
      "179/179 [==============================] - 11s 59ms/step - loss: 0.1817 - accuracy: 0.9313 - val_loss: 0.2854 - val_accuracy: 0.8845\n",
      "\n",
      "Epoch 00004: val_loss did not improve from 0.27981\n",
      "Epoch 5/5\n",
      "179/179 [==============================] - 11s 59ms/step - loss: 0.1630 - accuracy: 0.9394 - val_loss: 0.2907 - val_accuracy: 0.8817\n",
      "\n",
      "Epoch 00005: val_loss did not improve from 0.27981\n"
     ]
    }
   ],
   "source": [
    "model.compile(loss='categorical_crossentropy', \n",
    "              optimizer='adam', \n",
    "              metrics=['accuracy'])\n",
    "callbacks_list=[ModelCheckpoint(filepath=COLAB_FILEPATH+'model/BiLSTM-1layer-2-class-downsampled.h5',save_best_only=True,verbose=1,)]\n",
    "#Fitting the data to the model\n",
    "history = model.fit(X_train, \n",
    "                    Y_train_oh, \n",
    "                    epochs=EPOCHS, \n",
    "                    batch_size=512,\n",
    "                    verbose=1,\n",
    "                    #validation_data=(X_test, Y_test),\n",
    "                    validation_split=0.2,\n",
    "                    callbacks=callbacks_list)"
   ]
  },
  {
   "cell_type": "code",
   "execution_count": null,
   "metadata": {
    "colab": {
     "base_uri": "https://localhost:8080/",
     "height": 280
    },
    "id": "Ql6jNXtZdEHC",
    "outputId": "32f5a96f-da16-4117-81b7-81c7b52cda23"
   },
   "outputs": [
    {
     "data": {
      "image/png": "[encoded data removed]",
      "text/plain": [
       "<Figure size 432x288 with 1 Axes>"
      ]
     },
     "metadata": {
      "needs_background": "light",
      "tags": []
     },
     "output_type": "display_data"
    }
   ],
   "source": [
    "fig,ax = plt.subplots(1,1)\n",
    "ax.set_xlabel('epoch') ; ax.set_ylabel('categorical_crossentropy')\n",
    "\n",
    "# list of epoch numbers\n",
    "x = list(range(1,EPOCHS+1))\n",
    "\n",
    "vy = history.history['val_loss']\n",
    "ty = history.history['loss']\n",
    "plt_dynamic(x, vy, ty, ax)"
   ]
  },
  {
   "cell_type": "code",
   "execution_count": null,
   "metadata": {
    "colab": {
     "base_uri": "https://localhost:8080/"
    },
    "id": "XD8PqKOhcxmn",
    "outputId": "e0c05c44-f22b-4055-d18b-e7bd4796f589"
   },
   "outputs": [
    {
     "data": {
      "text/plain": [
       "1.308147745000042"
      ]
     },
     "execution_count": 77,
     "metadata": {
      "tags": []
     },
     "output_type": "execute_result"
    }
   ],
   "source": [
    "# evaluate model with test set\n",
    "start = time.perf_counter()\n",
    "model_bilstm_1layer = tensorflow.keras.models.load_model(COLAB_FILEPATH+'model/BiLSTM-1layer-2-class-downsampled.h5')\n",
    "time_taken = time.perf_counter()-start\n",
    "time_taken"
   ]
  },
  {
   "cell_type": "code",
   "execution_count": null,
   "metadata": {
    "colab": {
     "base_uri": "https://localhost:8080/"
    },
    "id": "QzGCjF-pVKm4",
    "outputId": "da2ffa1d-7d24-4473-c8f6-32fa26c63c11"
   },
   "outputs": [
    {
     "name": "stdout",
     "output_type": "stream",
     "text": [
      "Test loss: 0.2019120156764984\n",
      "Test accuracy: 0.9199040532112122\n",
      "0.00017166389325168867\n",
      "5825.336831513129\n"
     ]
    }
   ],
   "source": [
    "start = time.perf_counter()\n",
    "# accuracy on test data\n",
    "score_bi1layer = model_bilstm_1layer.evaluate(X_test,Y_test_oh, verbose=0)\n",
    "time_taken = time.perf_counter()-start\n",
    "print('Test loss:', score_bi1layer[0])\n",
    "print('Test accuracy:', score_bi1layer[1])\n",
    "print(time_taken/len(X_test))\n",
    "print(len(X_test)/time_taken)"
   ]
  },
  {
   "cell_type": "code",
   "execution_count": null,
   "metadata": {
    "colab": {
     "base_uri": "https://localhost:8080/"
    },
    "id": "kXWVz-WEdRng",
    "outputId": "4588232f-2959-4245-c3c3-60e1cff6e672"
   },
   "outputs": [
    {
     "name": "stdout",
     "output_type": "stream",
     "text": [
      "Y_pred_test.shape: (79205,)\n",
      "Unqiue classes in the ground truth: [-1  1]\n",
      "GROUND TRUTH\n",
      "6925\n",
      "72280\n",
      "Unqiue classes in the prediction: [1 2]\n",
      "PREDICTION\n",
      "8003\n",
      "71202\n",
      "True\n",
      "Unqiue classes in the prediction after mapping: [-1  1]\n"
     ]
    }
   ],
   "source": [
    "# predict rating for the test data\n",
    "Y_pred_dist_test = model_bilstm_1layer.predict(X_test)\n",
    "Y_pred_test = Y_pred_dist_test.argmax(axis=1)+1\n",
    "print('Y_pred_test.shape:',Y_pred_test.shape)\n",
    "\n",
    "# see the unique classes in the ground truth\n",
    "print('Unqiue classes in the ground truth:',np.unique(Y_test))\n",
    "print('GROUND TRUTH')\n",
    "print(np.count_nonzero(Y_test == -1))\n",
    "print(np.count_nonzero(Y_test == 1))\n",
    "\n",
    "# see the unique classes in the prediction\n",
    "print('Unqiue classes in the prediction:',np.unique(Y_pred_test))\n",
    "print('PREDICTION')\n",
    "print(np.count_nonzero(Y_pred_test == 1))\n",
    "print(np.count_nonzero(Y_pred_test == 2))\n",
    "\n",
    "#check if length the same for ground truth and prediction\n",
    "print(len(Y_test) == len(Y_pred_test))\n",
    "\n",
    "# map the prediction class from 1,2 to -1 and 1\n",
    "Y_pred_test = np.where(Y_pred_test == 1, -1, Y_pred_test)\n",
    "Y_pred_test = np.where(Y_pred_test == 2, 1, Y_pred_test)\n",
    "print('Unqiue classes in the prediction after mapping:',np.unique(Y_pred_test))"
   ]
  },
  {
   "cell_type": "code",
   "execution_count": null,
   "metadata": {
    "colab": {
     "base_uri": "https://localhost:8080/"
    },
    "id": "pkarv6Q2d1eQ",
    "outputId": "9eba58c8-3c28-4346-bc73-17fe7247a1a6"
   },
   "outputs": [
    {
     "name": "stdout",
     "output_type": "stream",
     "text": [
      "              precision    recall  f1-score   support\n",
      "\n",
      "          -1       0.54      0.62      0.58      6925\n",
      "           1       0.96      0.95      0.96     72280\n",
      "\n",
      "    accuracy                           0.92     79205\n",
      "   macro avg       0.75      0.78      0.77     79205\n",
      "weighted avg       0.93      0.92      0.92     79205\n",
      "\n"
     ]
    }
   ],
   "source": [
    "# F1-score for binary classifier\n",
    "target_names = ['-1', '1']\n",
    "print(classification_report(Y_test.tolist(), Y_pred_test, target_names=target_names))"
   ]
  },
  {
   "cell_type": "code",
   "execution_count": null,
   "metadata": {
    "colab": {
     "base_uri": "https://localhost:8080/"
    },
    "id": "Qdg90IzwlGz9",
    "outputId": "647185a8-e42e-4c43-fd5e-5a5b5e2854a9"
   },
   "outputs": [
    {
     "data": {
      "text/plain": [
       "array([[ 4292,  2633],\n",
       "       [ 3711, 68569]])"
      ]
     },
     "execution_count": 166,
     "metadata": {
      "tags": []
     },
     "output_type": "execute_result"
    }
   ],
   "source": [
    "# confusion matrix\n",
    "from sklearn.metrics import confusion_matrix\n",
    "import seaborn as sns\n",
    "cm_arr = confusion_matrix(Y_test, Y_pred_test)\n",
    "cm_arr"
   ]
  },
  {
   "cell_type": "code",
   "execution_count": null,
   "metadata": {
    "colab": {
     "base_uri": "https://localhost:8080/",
     "height": 279
    },
    "id": "QJTbFgv9ms-2",
    "outputId": "8ce03d6b-56f5-4936-b2b8-7a8122b9b1e4"
   },
   "outputs": [
    {
     "data": {
      "image/png": "[encoded data removed]",
      "text/plain": [
       "<Figure size 432x288 with 2 Axes>"
      ]
     },
     "metadata": {
      "needs_background": "light",
      "tags": []
     },
     "output_type": "display_data"
    }
   ],
   "source": [
    "cm_sns = pd.crosstab(Y_test, Y_pred_test, rownames=['Actual'], colnames=['Predicted'])\n",
    "sns.heatmap(cm_sns, annot=True, fmt=\"d\")\n",
    "plt.show()"
   ]
  },
  {
   "cell_type": "code",
   "execution_count": null,
   "metadata": {
    "colab": {
     "base_uri": "https://localhost:8080/"
    },
    "id": "v6LgIRq6lK8T",
    "outputId": "a3f9f757-c51b-4181-dcc9-1803937097c9"
   },
   "outputs": [
    {
     "data": {
      "text/plain": [
       "0.7496597947913574"
      ]
     },
     "execution_count": 168,
     "metadata": {
      "tags": []
     },
     "output_type": "execute_result"
    }
   ],
   "source": [
    "# ROC-AUC - bilstm\n",
    "# Area under curve (AUC)\n",
    "fpr_keras_bilstm, tpr_keras_bilstm, thresholds_keras_bilstm = roc_curve(Y_pred_test, Y_test)\n",
    "auc_keras_bilstm = auc(fpr_keras_bilstm, tpr_keras_bilstm)\n",
    "auc_keras_bilstm"
   ]
  },
  {
   "cell_type": "code",
   "execution_count": null,
   "metadata": {
    "id": "NsrDZ6Bxm0VC"
   },
   "outputs": [],
   "source": []
  },
  {
   "cell_type": "markdown",
   "metadata": {
    "id": "4tKyxhKKMinV"
   },
   "source": [
    "# Preprocess data for BERT"
   ]
  },
  {
   "cell_type": "code",
   "execution_count": null,
   "metadata": {
    "colab": {
     "base_uri": "https://localhost:8080/",
     "height": 206
    },
    "id": "lHZR_1Q3MhH0",
    "outputId": "70dd8ee1-2314-4955-fea0-1820953d2870"
   },
   "outputs": [
    {
     "data": {
      "text/html": [
       "<div>\n",
       "<style scoped>\n",
       "    .dataframe tbody tr th:only-of-type {\n",
       "        vertical-align: middle;\n",
       "    }\n",
       "\n",
       "    .dataframe tbody tr th {\n",
       "        vertical-align: top;\n",
       "    }\n",
       "\n",
       "    .dataframe thead th {\n",
       "        text-align: right;\n",
       "    }\n",
       "</style>\n",
       "<table border=\"1\" class=\"dataframe\">\n",
       "  <thead>\n",
       "    <tr style=\"text-align: right;\">\n",
       "      <th></th>\n",
       "      <th>type</th>\n",
       "      <th>ratings_class</th>\n",
       "      <th>comments_cleaned</th>\n",
       "    </tr>\n",
       "  </thead>\n",
       "  <tbody>\n",
       "    <tr>\n",
       "      <th>0</th>\n",
       "      <td>train</td>\n",
       "      <td>-1</td>\n",
       "      <td>maple syrup good disheartened find mold bottom...</td>\n",
       "    </tr>\n",
       "    <tr>\n",
       "      <th>1</th>\n",
       "      <td>train</td>\n",
       "      <td>1</td>\n",
       "      <td>cant believe favorite type chocacolate sold lo...</td>\n",
       "    </tr>\n",
       "    <tr>\n",
       "      <th>2</th>\n",
       "      <td>train</td>\n",
       "      <td>-1</td>\n",
       "      <td>noodle better thought instant rice noodle woul...</td>\n",
       "    </tr>\n",
       "    <tr>\n",
       "      <th>3</th>\n",
       "      <td>train</td>\n",
       "      <td>-1</td>\n",
       "      <td>think ordered wrong brand peter pan creamy tex...</td>\n",
       "    </tr>\n",
       "    <tr>\n",
       "      <th>4</th>\n",
       "      <td>train</td>\n",
       "      <td>1</td>\n",
       "      <td>bulldog well food doubt ever switch helped tre...</td>\n",
       "    </tr>\n",
       "  </tbody>\n",
       "</table>\n",
       "</div>"
      ],
      "text/plain": [
       "    type  ratings_class                                   comments_cleaned\n",
       "0  train             -1  maple syrup good disheartened find mold bottom...\n",
       "1  train              1  cant believe favorite type chocacolate sold lo...\n",
       "2  train             -1  noodle better thought instant rice noodle woul...\n",
       "3  train             -1  think ordered wrong brand peter pan creamy tex...\n",
       "4  train              1  bulldog well food doubt ever switch helped tre..."
      ]
     },
     "execution_count": 58,
     "metadata": {
      "tags": []
     },
     "output_type": "execute_result"
    }
   ],
   "source": [
    "# get the X_train unsplit (training + validation data)\n",
    "data_train_unsplit_ = data_overall[data_overall['type']=='train']\n",
    "#X_train_bert_unsplit = X_train_bert_unsplit_['comments_cleaned'].values\n",
    "data_train_unsplit_.head()"
   ]
  },
  {
   "cell_type": "code",
   "execution_count": null,
   "metadata": {
    "colab": {
     "base_uri": "https://localhost:8080/",
     "height": 206
    },
    "id": "PYQNBjQdOH66",
    "outputId": "592eb5df-c996-47a7-ec0d-22342d7a8671"
   },
   "outputs": [
    {
     "data": {
      "text/html": [
       "<div>\n",
       "<style scoped>\n",
       "    .dataframe tbody tr th:only-of-type {\n",
       "        vertical-align: middle;\n",
       "    }\n",
       "\n",
       "    .dataframe tbody tr th {\n",
       "        vertical-align: top;\n",
       "    }\n",
       "\n",
       "    .dataframe thead th {\n",
       "        text-align: right;\n",
       "    }\n",
       "</style>\n",
       "<table border=\"1\" class=\"dataframe\">\n",
       "  <thead>\n",
       "    <tr style=\"text-align: right;\">\n",
       "      <th></th>\n",
       "      <th>type</th>\n",
       "      <th>ratings_class</th>\n",
       "      <th>comments_cleaned</th>\n",
       "    </tr>\n",
       "  </thead>\n",
       "  <tbody>\n",
       "    <tr>\n",
       "      <th>114214</th>\n",
       "      <td>test</td>\n",
       "      <td>1</td>\n",
       "      <td>enjoyed time girlfriend fajar server gave reco...</td>\n",
       "    </tr>\n",
       "    <tr>\n",
       "      <th>114215</th>\n",
       "      <td>test</td>\n",
       "      <td>1</td>\n",
       "      <td>wonderful amazing service experience definitel...</td>\n",
       "    </tr>\n",
       "    <tr>\n",
       "      <th>114216</th>\n",
       "      <td>test</td>\n",
       "      <td>1</td>\n",
       "      <td>great food wonderful service definitely return...</td>\n",
       "    </tr>\n",
       "    <tr>\n",
       "      <th>114217</th>\n",
       "      <td>test</td>\n",
       "      <td>1</td>\n",
       "      <td>not first time positano definitely not last am...</td>\n",
       "    </tr>\n",
       "    <tr>\n",
       "      <th>114218</th>\n",
       "      <td>test</td>\n",
       "      <td>1</td>\n",
       "      <td>excellent service staff beef tender risotto ni...</td>\n",
       "    </tr>\n",
       "  </tbody>\n",
       "</table>\n",
       "</div>"
      ],
      "text/plain": [
       "        type  ratings_class                                   comments_cleaned\n",
       "114214  test              1  enjoyed time girlfriend fajar server gave reco...\n",
       "114215  test              1  wonderful amazing service experience definitel...\n",
       "114216  test              1  great food wonderful service definitely return...\n",
       "114217  test              1  not first time positano definitely not last am...\n",
       "114218  test              1  excellent service staff beef tender risotto ni..."
      ]
     },
     "execution_count": 63,
     "metadata": {
      "tags": []
     },
     "output_type": "execute_result"
    }
   ],
   "source": [
    "# get the X_test\n",
    "data_test_bert_ = data_overall[data_overall['type']=='test']\n",
    "#X_test_bert = X_test_bert_['comments_cleaned'].values\n",
    "data_test_bert_.head()"
   ]
  },
  {
   "cell_type": "code",
   "execution_count": null,
   "metadata": {
    "id": "bGk5QGduM8g7"
   },
   "outputs": [],
   "source": [
    "# do train-test-split now to divide train and validation set\n",
    "# perform train-test-split to split the train and validation data\n",
    "X_train_bert_, X_val_bert_, y_train_bert_, y_val_bert_ = train_test_split(data_train_unsplit_['comments_cleaned'],\n",
    "                                                                          data_train_unsplit_['ratings_class'],\n",
    "                                                                          train_size=0.80, \n",
    "                                                                          random_state=42)"
   ]
  },
  {
   "cell_type": "code",
   "execution_count": null,
   "metadata": {
    "colab": {
     "base_uri": "https://localhost:8080/"
    },
    "id": "BJR6At1kM8kX",
    "outputId": "824d6082-9d39-4e1c-b3f4-3257018f73de"
   },
   "outputs": [
    {
     "data": {
      "text/plain": [
       "pandas.core.series.Series"
      ]
     },
     "execution_count": 48,
     "metadata": {
      "tags": []
     },
     "output_type": "execute_result"
    }
   ],
   "source": [
    "type(X_train_bert_)"
   ]
  },
  {
   "cell_type": "code",
   "execution_count": null,
   "metadata": {
    "colab": {
     "base_uri": "https://localhost:8080/",
     "height": 206
    },
    "id": "LiFj_QLIN0hC",
    "outputId": "78ca655c-5d23-4377-fa3c-c827056164c9"
   },
   "outputs": [
    {
     "data": {
      "text/html": [
       "<div>\n",
       "<style scoped>\n",
       "    .dataframe tbody tr th:only-of-type {\n",
       "        vertical-align: middle;\n",
       "    }\n",
       "\n",
       "    .dataframe tbody tr th {\n",
       "        vertical-align: top;\n",
       "    }\n",
       "\n",
       "    .dataframe thead th {\n",
       "        text-align: right;\n",
       "    }\n",
       "</style>\n",
       "<table border=\"1\" class=\"dataframe\">\n",
       "  <thead>\n",
       "    <tr style=\"text-align: right;\">\n",
       "      <th></th>\n",
       "      <th>comments_cleaned</th>\n",
       "      <th>ratings</th>\n",
       "    </tr>\n",
       "  </thead>\n",
       "  <tbody>\n",
       "    <tr>\n",
       "      <th>18922</th>\n",
       "      <td>ihave yet find truly tasty low carb cereal bes...</td>\n",
       "      <td>-1</td>\n",
       "    </tr>\n",
       "    <tr>\n",
       "      <th>91660</th>\n",
       "      <td>great taste texture literally last five minute...</td>\n",
       "      <td>-1</td>\n",
       "    </tr>\n",
       "    <tr>\n",
       "      <th>19022</th>\n",
       "      <td>mean flesh melting acid bought lemonade today ...</td>\n",
       "      <td>-1</td>\n",
       "    </tr>\n",
       "    <tr>\n",
       "      <th>94667</th>\n",
       "      <td>warning love bread advised though yeast provid...</td>\n",
       "      <td>1</td>\n",
       "    </tr>\n",
       "    <tr>\n",
       "      <th>62542</th>\n",
       "      <td>sent sister husband love hot food raved conten...</td>\n",
       "      <td>1</td>\n",
       "    </tr>\n",
       "  </tbody>\n",
       "</table>\n",
       "</div>"
      ],
      "text/plain": [
       "                                        comments_cleaned ratings\n",
       "18922  ihave yet find truly tasty low carb cereal bes...      -1\n",
       "91660  great taste texture literally last five minute...      -1\n",
       "19022  mean flesh melting acid bought lemonade today ...      -1\n",
       "94667  warning love bread advised though yeast provid...       1\n",
       "62542  sent sister husband love hot food raved conten...       1"
      ]
     },
     "execution_count": 49,
     "metadata": {
      "tags": []
     },
     "output_type": "execute_result"
    }
   ],
   "source": [
    "# merge into dataframe for train and val set\n",
    "data_train = pd.DataFrame({'comments_cleaned': X_train_bert_,\n",
    "                           'ratings': y_train_bert_.astype('string')})\n",
    "data_train.head()"
   ]
  },
  {
   "cell_type": "code",
   "execution_count": null,
   "metadata": {
    "colab": {
     "base_uri": "https://localhost:8080/"
    },
    "id": "2YTYjh13N0lK",
    "outputId": "35abdb0d-412e-4578-ff4d-bd2a9b4630a6"
   },
   "outputs": [
    {
     "data": {
      "text/plain": [
       "-1    45788\n",
       "1     45583\n",
       "Name: ratings, dtype: Int64"
      ]
     },
     "execution_count": 50,
     "metadata": {
      "tags": []
     },
     "output_type": "execute_result"
    }
   ],
   "source": [
    "data_train['ratings'].value_counts()"
   ]
  },
  {
   "cell_type": "code",
   "execution_count": null,
   "metadata": {
    "colab": {
     "base_uri": "https://localhost:8080/",
     "height": 206
    },
    "id": "k1DifLOORAs_",
    "outputId": "0fe27007-7442-4d2d-8ad3-a0964da0d3b7"
   },
   "outputs": [
    {
     "data": {
      "text/html": [
       "<div>\n",
       "<style scoped>\n",
       "    .dataframe tbody tr th:only-of-type {\n",
       "        vertical-align: middle;\n",
       "    }\n",
       "\n",
       "    .dataframe tbody tr th {\n",
       "        vertical-align: top;\n",
       "    }\n",
       "\n",
       "    .dataframe thead th {\n",
       "        text-align: right;\n",
       "    }\n",
       "</style>\n",
       "<table border=\"1\" class=\"dataframe\">\n",
       "  <thead>\n",
       "    <tr style=\"text-align: right;\">\n",
       "      <th></th>\n",
       "      <th>comments_cleaned</th>\n",
       "      <th>ratings</th>\n",
       "    </tr>\n",
       "  </thead>\n",
       "  <tbody>\n",
       "    <tr>\n",
       "      <th>37614</th>\n",
       "      <td>discovery product amazon seemingly led long te...</td>\n",
       "      <td>1</td>\n",
       "    </tr>\n",
       "    <tr>\n",
       "      <th>32989</th>\n",
       "      <td>disappointing enjoy freeze dried strawberry no...</td>\n",
       "      <td>-1</td>\n",
       "    </tr>\n",
       "    <tr>\n",
       "      <th>20492</th>\n",
       "      <td>surprised ingredient list natural stamped side...</td>\n",
       "      <td>-1</td>\n",
       "    </tr>\n",
       "    <tr>\n",
       "      <th>91534</th>\n",
       "      <td>sent little si birthday wanted send something ...</td>\n",
       "      <td>1</td>\n",
       "    </tr>\n",
       "    <tr>\n",
       "      <th>47575</th>\n",
       "      <td>tea delicious not hestitate buy</td>\n",
       "      <td>1</td>\n",
       "    </tr>\n",
       "  </tbody>\n",
       "</table>\n",
       "</div>"
      ],
      "text/plain": [
       "                                        comments_cleaned ratings\n",
       "37614  discovery product amazon seemingly led long te...       1\n",
       "32989  disappointing enjoy freeze dried strawberry no...      -1\n",
       "20492  surprised ingredient list natural stamped side...      -1\n",
       "91534  sent little si birthday wanted send something ...       1\n",
       "47575                    tea delicious not hestitate buy       1"
      ]
     },
     "execution_count": 51,
     "metadata": {
      "tags": []
     },
     "output_type": "execute_result"
    }
   ],
   "source": [
    "data_val = pd.DataFrame({'comments_cleaned': X_val_bert_,\n",
    "                           'ratings': y_val_bert_.astype('string')})\n",
    "data_val.head()"
   ]
  },
  {
   "cell_type": "code",
   "execution_count": null,
   "metadata": {
    "colab": {
     "base_uri": "https://localhost:8080/"
    },
    "id": "C1eHnREGRAwx",
    "outputId": "e8b8f75f-b40e-4d71-af3d-42183ad5c4ee"
   },
   "outputs": [
    {
     "data": {
      "text/plain": [
       "1     11524\n",
       "-1    11319\n",
       "Name: ratings, dtype: Int64"
      ]
     },
     "execution_count": 52,
     "metadata": {
      "tags": []
     },
     "output_type": "execute_result"
    }
   ],
   "source": [
    "data_val['ratings'].value_counts()"
   ]
  },
  {
   "cell_type": "code",
   "execution_count": null,
   "metadata": {
    "id": "cgfTGzC6RA22"
   },
   "outputs": [],
   "source": [
    "import ktrain\n",
    "from ktrain import text"
   ]
  },
  {
   "cell_type": "code",
   "execution_count": null,
   "metadata": {
    "colab": {
     "base_uri": "https://localhost:8080/",
     "height": 551
    },
    "id": "VvzKZ_RBTH5D",
    "outputId": "725a2f9a-6359-4f14-9c9b-2e5903d2d24e"
   },
   "outputs": [
    {
     "name": "stdout",
     "output_type": "stream",
     "text": [
      "['-1', '1']\n",
      "        -1    1\n",
      "18922  1.0  0.0\n",
      "91660  1.0  0.0\n",
      "19022  1.0  0.0\n",
      "94667  0.0  1.0\n",
      "62542  0.0  1.0\n",
      "['-1', '1']\n",
      "        -1    1\n",
      "37614  0.0  1.0\n",
      "32989  1.0  0.0\n",
      "20492  1.0  0.0\n",
      "91534  0.0  1.0\n",
      "47575  0.0  1.0\n",
      "downloading pretrained BERT model (uncased_L-12_H-768_A-12.zip)...\n",
      "[██████████████████████████████████████████████████]\n",
      "extracting pretrained BERT model...\n",
      "done.\n",
      "\n",
      "cleanup downloaded zip...\n",
      "done.\n",
      "\n",
      "preprocessing train...\n",
      "language: en\n"
     ]
    },
    {
     "data": {
      "text/html": [
       "done."
      ],
      "text/plain": [
       "<IPython.core.display.HTML object>"
      ]
     },
     "metadata": {
      "tags": []
     },
     "output_type": "display_data"
    },
    {
     "name": "stdout",
     "output_type": "stream",
     "text": [
      "Is Multi-Label? False\n",
      "preprocessing test...\n",
      "language: en\n"
     ]
    },
    {
     "data": {
      "text/html": [
       "done."
      ],
      "text/plain": [
       "<IPython.core.display.HTML object>"
      ]
     },
     "metadata": {
      "tags": []
     },
     "output_type": "display_data"
    }
   ],
   "source": [
    "(X_train, y_train), (X_val, y_val), preprocess = text.texts_from_df(train_df = data_train,\n",
    "                   text_column = 'comments_cleaned',\n",
    "                   #label_columns = 'ratings',\n",
    "                   label_columns = 'ratings',\n",
    "                   val_df = data_val,\n",
    "                   maxlen=100,\n",
    "                   preprocess_mode='bert')"
   ]
  },
  {
   "cell_type": "code",
   "execution_count": null,
   "metadata": {
    "colab": {
     "base_uri": "https://localhost:8080/"
    },
    "id": "y91l4ERLVrCr",
    "outputId": "e5ea01d2-fe27-40e9-9318-de507da2dec9"
   },
   "outputs": [
    {
     "name": "stdout",
     "output_type": "stream",
     "text": [
      "(91371, 100)\n",
      "(22843, 100)\n",
      "(91371, 2)\n",
      "(22843, 2)\n"
     ]
    }
   ],
   "source": [
    "print(X_train[0].shape)\n",
    "print(X_val[0].shape)\n",
    "print(y_train.shape)\n",
    "print(y_val.shape)"
   ]
  },
  {
   "cell_type": "code",
   "execution_count": null,
   "metadata": {
    "colab": {
     "base_uri": "https://localhost:8080/"
    },
    "id": "gO3LblQiWWAE",
    "outputId": "3b109e5f-dc7d-4b49-b3e1-7153a4fd42e2"
   },
   "outputs": [
    {
     "name": "stdout",
     "output_type": "stream",
     "text": [
      "Is Multi-Label? False\n",
      "maxlen is 100\n",
      "done.\n"
     ]
    }
   ],
   "source": [
    "# build the model\n",
    "model = text.text_classifier(name='bert',\n",
    "                             train_data = (X_train, y_train),\n",
    "                             preproc = preprocess)"
   ]
  },
  {
   "cell_type": "code",
   "execution_count": null,
   "metadata": {
    "id": "FnBlSDYOS4op"
   },
   "outputs": [],
   "source": []
  },
  {
   "cell_type": "markdown",
   "metadata": {
    "id": "IN1rKxvtVHSm"
   },
   "source": [
    "# Training using BERT"
   ]
  },
  {
   "cell_type": "code",
   "execution_count": null,
   "metadata": {
    "id": "0pB8OBNaS4kO"
   },
   "outputs": [],
   "source": [
    "# get learner (compiling the model)\n",
    "learner = ktrain.get_learner(model=model,\n",
    "                             train_data=(X_train,y_train),\n",
    "                             val_data=(X_val,y_val),\n",
    "                             batch_size=6)"
   ]
  },
  {
   "cell_type": "code",
   "execution_count": null,
   "metadata": {
    "id": "V4yIBxEaWphL"
   },
   "outputs": [],
   "source": [
    "# optimal learning rate (generally) to save time \n",
    "OPTIMAL_LR = 2e-5"
   ]
  },
  {
   "cell_type": "code",
   "execution_count": null,
   "metadata": {
    "colab": {
     "base_uri": "https://localhost:8080/"
    },
    "id": "R24VseFPWsrL",
    "outputId": "a038e637-d916-48ff-929b-e20f002719e2"
   },
   "outputs": [
    {
     "name": "stdout",
     "output_type": "stream",
     "text": [
      "\n",
      "\n",
      "begin training using onecycle policy with max lr of 2e-05...\n",
      "15229/15229 [==============================] - 5573s 365ms/step - loss: 0.3221 - accuracy: 0.8561 - val_loss: 0.1857 - val_accuracy: 0.9278\n"
     ]
    },
    {
     "data": {
      "text/plain": [
       "<tensorflow.python.keras.callbacks.History at 0x7f10c798a210>"
      ]
     },
     "execution_count": 76,
     "metadata": {
      "tags": []
     },
     "output_type": "execute_result"
    }
   ],
   "source": [
    "# train the BERT model\n",
    "learner.fit_onecycle(lr=OPTIMAL_LR,epochs=1)"
   ]
  },
  {
   "cell_type": "code",
   "execution_count": null,
   "metadata": {
    "id": "wjtMkekrXx6N"
   },
   "outputs": [],
   "source": []
  },
  {
   "cell_type": "markdown",
   "metadata": {
    "id": "o-VgohQ2XbaE"
   },
   "source": [
    "### Initialize the predictor"
   ]
  },
  {
   "cell_type": "code",
   "execution_count": null,
   "metadata": {
    "colab": {
     "base_uri": "https://localhost:8080/"
    },
    "id": "8Tb7z1HfWuCS",
    "outputId": "c61e648a-0c9a-455a-c0b9-01f564ee222e"
   },
   "outputs": [
    {
     "data": {
      "text/plain": [
       "['-1', '1']"
      ]
     },
     "execution_count": 79,
     "metadata": {
      "tags": []
     },
     "output_type": "execute_result"
    }
   ],
   "source": [
    "# initialize predictor\n",
    "predictor = ktrain.get_predictor(learner.model, preprocess)\n",
    "# check the classes available as a predictor value\n",
    "predictor.get_classes()"
   ]
  },
  {
   "cell_type": "code",
   "execution_count": null,
   "metadata": {
    "id": "sEu3MKSzXjx-"
   },
   "outputs": [],
   "source": [
    "# save the model\n",
    "predictor.save(COLAB_FILEPATH+'model/bert-lr_2e-5_2-class-downsampled')"
   ]
  },
  {
   "cell_type": "code",
   "execution_count": null,
   "metadata": {
    "id": "-rycsA9NXwEF"
   },
   "outputs": [],
   "source": []
  },
  {
   "cell_type": "markdown",
   "metadata": {
    "id": "1NHD2jTMYqdd"
   },
   "source": [
    "### Make prediction on the test set (to get a f1-score)"
   ]
  },
  {
   "cell_type": "code",
   "execution_count": null,
   "metadata": {
    "colab": {
     "base_uri": "https://localhost:8080/"
    },
    "id": "m7g13CFTXwS-",
    "outputId": "0694018c-f131-4c36-ee4d-750eb3a9948c"
   },
   "outputs": [
    {
     "data": {
      "text/plain": [
       "36.46733569800017"
      ]
     },
     "execution_count": 76,
     "metadata": {
      "tags": []
     },
     "output_type": "execute_result"
    }
   ],
   "source": [
    "# load back the saved model\n",
    "start = time.perf_counter()\n",
    "predictor = ktrain.load_predictor(COLAB_FILEPATH+'model/bert-lr_2e-5_2-class-downsampled')\n",
    "time_taken = time.perf_counter()-start\n",
    "time_taken"
   ]
  },
  {
   "cell_type": "code",
   "execution_count": null,
   "metadata": {
    "colab": {
     "base_uri": "https://localhost:8080/"
    },
    "id": "p7Q6IKLxw1uz",
    "outputId": "7ade472f-4e95-4db8-f402-16466108b3a4"
   },
   "outputs": [
    {
     "data": {
      "text/plain": [
       "<ktrain.text.predictor.TextPredictor at 0x7fecb618d910>"
      ]
     },
     "execution_count": 43,
     "metadata": {
      "tags": []
     },
     "output_type": "execute_result"
    }
   ],
   "source": [
    "predictor"
   ]
  },
  {
   "cell_type": "code",
   "execution_count": null,
   "metadata": {
    "colab": {
     "base_uri": "https://localhost:8080/"
    },
    "id": "hLUEWOAFbo7g",
    "outputId": "198c0706-a87e-4316-a4c9-280497d25eb2"
   },
   "outputs": [
    {
     "data": {
      "text/plain": [
       "['enjoyed time girlfriend fajar server gave recommendation food drink fantastic check meal twice ordered dessert celebrate two girlfriendis birthday exceeding expectation came another complimentary dessert second time service great usual thank',\n",
       " 'wonderful amazing service experience definitely return dining next time future',\n",
       " 'great food wonderful service definitely return calzone recommended friendly attentive staff good variety food']"
      ]
     },
     "execution_count": 72,
     "metadata": {
      "tags": []
     },
     "output_type": "execute_result"
    }
   ],
   "source": [
    "# insert test data in a list\n",
    "test_data_bert = list(data_test_bert_['comments_cleaned'])\n",
    "test_data_bert[:3]"
   ]
  },
  {
   "cell_type": "code",
   "execution_count": null,
   "metadata": {
    "colab": {
     "base_uri": "https://localhost:8080/"
    },
    "id": "xDYrYBekbpAA",
    "outputId": "1439c68c-7091-4643-e8c1-ff2249bbefb0"
   },
   "outputs": [
    {
     "name": "stdout",
     "output_type": "stream",
     "text": [
      "0.007466045402171579\n",
      "133.93971589151323\n"
     ]
    }
   ],
   "source": [
    "# predict the test data\n",
    "start = time.perf_counter()\n",
    "prediction_test = predictor.predict(test_data_bert)\n",
    "time_taken = time.perf_counter()-start\n",
    "print(time_taken/len(X_test))\n",
    "print(len(X_test)/time_taken)"
   ]
  },
  {
   "cell_type": "code",
   "execution_count": null,
   "metadata": {
    "id": "l1AtMdtMaiNv"
   },
   "outputs": [],
   "source": [
    "# create new dataframe for the test set and the true and predicted label\n",
    "prediction = pd.DataFrame()\n",
    "prediction['comments'] = data_test_bert_['comments_cleaned']\n",
    "prediction['true_label'] = data_test_bert_['ratings_class']\n",
    "prediction['pred_label'] = prediction_test"
   ]
  },
  {
   "cell_type": "code",
   "execution_count": null,
   "metadata": {
    "colab": {
     "base_uri": "https://localhost:8080/",
     "height": 206
    },
    "id": "_Ddg-25GumjK",
    "outputId": "78388cae-e253-43cf-bdd3-af846e93477b"
   },
   "outputs": [
    {
     "data": {
      "text/html": [
       "<div>\n",
       "<style scoped>\n",
       "    .dataframe tbody tr th:only-of-type {\n",
       "        vertical-align: middle;\n",
       "    }\n",
       "\n",
       "    .dataframe tbody tr th {\n",
       "        vertical-align: top;\n",
       "    }\n",
       "\n",
       "    .dataframe thead th {\n",
       "        text-align: right;\n",
       "    }\n",
       "</style>\n",
       "<table border=\"1\" class=\"dataframe\">\n",
       "  <thead>\n",
       "    <tr style=\"text-align: right;\">\n",
       "      <th></th>\n",
       "      <th>comments</th>\n",
       "      <th>true_label</th>\n",
       "      <th>pred_label</th>\n",
       "    </tr>\n",
       "  </thead>\n",
       "  <tbody>\n",
       "    <tr>\n",
       "      <th>114214</th>\n",
       "      <td>enjoyed time girlfriend fajar server gave reco...</td>\n",
       "      <td>1</td>\n",
       "      <td>1</td>\n",
       "    </tr>\n",
       "    <tr>\n",
       "      <th>114215</th>\n",
       "      <td>wonderful amazing service experience definitel...</td>\n",
       "      <td>1</td>\n",
       "      <td>1</td>\n",
       "    </tr>\n",
       "    <tr>\n",
       "      <th>114216</th>\n",
       "      <td>great food wonderful service definitely return...</td>\n",
       "      <td>1</td>\n",
       "      <td>1</td>\n",
       "    </tr>\n",
       "    <tr>\n",
       "      <th>114217</th>\n",
       "      <td>not first time positano definitely not last am...</td>\n",
       "      <td>1</td>\n",
       "      <td>1</td>\n",
       "    </tr>\n",
       "    <tr>\n",
       "      <th>114218</th>\n",
       "      <td>excellent service staff beef tender risotto ni...</td>\n",
       "      <td>1</td>\n",
       "      <td>1</td>\n",
       "    </tr>\n",
       "  </tbody>\n",
       "</table>\n",
       "</div>"
      ],
      "text/plain": [
       "                                                 comments  ...  pred_label\n",
       "114214  enjoyed time girlfriend fajar server gave reco...  ...           1\n",
       "114215  wonderful amazing service experience definitel...  ...           1\n",
       "114216  great food wonderful service definitely return...  ...           1\n",
       "114217  not first time positano definitely not last am...  ...           1\n",
       "114218  excellent service staff beef tender risotto ni...  ...           1\n",
       "\n",
       "[5 rows x 3 columns]"
      ]
     },
     "execution_count": 86,
     "metadata": {
      "tags": []
     },
     "output_type": "execute_result"
    }
   ],
   "source": [
    "prediction.head()"
   ]
  },
  {
   "cell_type": "code",
   "execution_count": null,
   "metadata": {
    "id": "QJ84vLPjlyU8"
   },
   "outputs": [],
   "source": [
    "prediction.to_csv(COLAB_FILEPATH + 'data/data_with_actual_and_pred.csv', index=False)"
   ]
  },
  {
   "cell_type": "code",
   "execution_count": null,
   "metadata": {
    "id": "43GcbCgxwVsy"
   },
   "outputs": [],
   "source": []
  },
  {
   "cell_type": "code",
   "execution_count": null,
   "metadata": {
    "colab": {
     "base_uri": "https://localhost:8080/",
     "height": 206
    },
    "id": "8ps6143BxvoX",
    "outputId": "27372508-216a-45a9-e2ba-791f1cbb1af9"
   },
   "outputs": [
    {
     "data": {
      "text/html": [
       "<div>\n",
       "<style scoped>\n",
       "    .dataframe tbody tr th:only-of-type {\n",
       "        vertical-align: middle;\n",
       "    }\n",
       "\n",
       "    .dataframe tbody tr th {\n",
       "        vertical-align: top;\n",
       "    }\n",
       "\n",
       "    .dataframe thead th {\n",
       "        text-align: right;\n",
       "    }\n",
       "</style>\n",
       "<table border=\"1\" class=\"dataframe\">\n",
       "  <thead>\n",
       "    <tr style=\"text-align: right;\">\n",
       "      <th></th>\n",
       "      <th>comments</th>\n",
       "      <th>true_label</th>\n",
       "      <th>pred_label</th>\n",
       "    </tr>\n",
       "  </thead>\n",
       "  <tbody>\n",
       "    <tr>\n",
       "      <th>0</th>\n",
       "      <td>enjoyed time girlfriend fajar server gave reco...</td>\n",
       "      <td>1</td>\n",
       "      <td>1</td>\n",
       "    </tr>\n",
       "    <tr>\n",
       "      <th>1</th>\n",
       "      <td>wonderful amazing service experience definitel...</td>\n",
       "      <td>1</td>\n",
       "      <td>1</td>\n",
       "    </tr>\n",
       "    <tr>\n",
       "      <th>2</th>\n",
       "      <td>great food wonderful service definitely return...</td>\n",
       "      <td>1</td>\n",
       "      <td>1</td>\n",
       "    </tr>\n",
       "    <tr>\n",
       "      <th>3</th>\n",
       "      <td>not first time positano definitely not last am...</td>\n",
       "      <td>1</td>\n",
       "      <td>1</td>\n",
       "    </tr>\n",
       "    <tr>\n",
       "      <th>4</th>\n",
       "      <td>excellent service staff beef tender risotto ni...</td>\n",
       "      <td>1</td>\n",
       "      <td>1</td>\n",
       "    </tr>\n",
       "  </tbody>\n",
       "</table>\n",
       "</div>"
      ],
      "text/plain": [
       "                                            comments  true_label  pred_label\n",
       "0  enjoyed time girlfriend fajar server gave reco...           1           1\n",
       "1  wonderful amazing service experience definitel...           1           1\n",
       "2  great food wonderful service definitely return...           1           1\n",
       "3  not first time positano definitely not last am...           1           1\n",
       "4  excellent service staff beef tender risotto ni...           1           1"
      ]
     },
     "execution_count": 34,
     "metadata": {
      "tags": []
     },
     "output_type": "execute_result"
    }
   ],
   "source": [
    "# import the pred and ground truth csv\n",
    "prediction = pd.read_csv(COLAB_FILEPATH + 'data/data_with_actual_and_pred.csv')\n",
    "prediction.head()"
   ]
  },
  {
   "cell_type": "code",
   "execution_count": null,
   "metadata": {
    "colab": {
     "base_uri": "https://localhost:8080/"
    },
    "id": "LKblM4fnz2na",
    "outputId": "54c7c5b8-29ca-4685-d8d4-b09a1b56ff39"
   },
   "outputs": [
    {
     "data": {
      "text/plain": [
       " 1    71626\n",
       "-1     7579\n",
       "Name: pred_label, dtype: int64"
      ]
     },
     "execution_count": 35,
     "metadata": {
      "tags": []
     },
     "output_type": "execute_result"
    }
   ],
   "source": [
    "prediction['pred_label'].value_counts()"
   ]
  },
  {
   "cell_type": "code",
   "execution_count": null,
   "metadata": {
    "colab": {
     "base_uri": "https://localhost:8080/"
    },
    "id": "ZBAx9Zrkx_e8",
    "outputId": "2a1c05ed-53f9-4135-8a09-d9873c20e62a"
   },
   "outputs": [
    {
     "data": {
      "text/plain": [
       " 1    72280\n",
       "-1     6925\n",
       "Name: true_label, dtype: int64"
      ]
     },
     "execution_count": 36,
     "metadata": {
      "tags": []
     },
     "output_type": "execute_result"
    }
   ],
   "source": [
    "prediction['true_label'].value_counts()"
   ]
  },
  {
   "cell_type": "code",
   "execution_count": null,
   "metadata": {
    "colab": {
     "base_uri": "https://localhost:8080/"
    },
    "id": "Dy4-iQzEyTKx",
    "outputId": "c75ebe62-df0d-4b75-fa33-0ceb08e30327"
   },
   "outputs": [
    {
     "data": {
      "text/plain": [
       "79205"
      ]
     },
     "execution_count": 37,
     "metadata": {
      "tags": []
     },
     "output_type": "execute_result"
    }
   ],
   "source": [
    "len(prediction)"
   ]
  },
  {
   "cell_type": "code",
   "execution_count": null,
   "metadata": {
    "colab": {
     "base_uri": "https://localhost:8080/"
    },
    "id": "N0EIM2HOaiP8",
    "outputId": "6dc194fd-6b51-4a12-c156-33b2e912be21"
   },
   "outputs": [
    {
     "name": "stdout",
     "output_type": "stream",
     "text": [
      "Prediction accuracy of the tripadvisor data: 0.9492456284325484\n"
     ]
    }
   ],
   "source": [
    "# get the prediction accuracy based on the ground truth of the test set (tripadvisor data)\n",
    "count = 0\n",
    "true_label_list = list(prediction['true_label'])\n",
    "pred_label_list = list(prediction['pred_label'])\n",
    "\n",
    "for i in range(len(prediction)):\n",
    "    if true_label_list[i] == pred_label_list[i]:\n",
    "        count += 1\n",
    "accuracy = count/len(true_label_list)\n",
    "print(f'Prediction accuracy of the tripadvisor data: {accuracy}')"
   ]
  },
  {
   "cell_type": "code",
   "execution_count": null,
   "metadata": {
    "id": "_qkJmRf2Vqjm"
   },
   "outputs": [],
   "source": []
  },
  {
   "cell_type": "code",
   "execution_count": null,
   "metadata": {
    "colab": {
     "base_uri": "https://localhost:8080/"
    },
    "id": "obmFA_udnfPF",
    "outputId": "e979d3c3-88ff-4542-8e5f-a219a34a1e8a"
   },
   "outputs": [
    {
     "name": "stdout",
     "output_type": "stream",
     "text": [
      "              precision    recall  f1-score   support\n",
      "\n",
      "          -1       0.69      0.76      0.72      6925\n",
      "           1       0.98      0.97      0.97     72280\n",
      "\n",
      "    accuracy                           0.95     79205\n",
      "   macro avg       0.83      0.86      0.85     79205\n",
      "weighted avg       0.95      0.95      0.95     79205\n",
      "\n"
     ]
    }
   ],
   "source": [
    "# F1-score for binary classifier\n",
    "target_names = ['-1', '1']\n",
    "print(classification_report(true_label_list, pred_label_list, target_names=target_names))"
   ]
  },
  {
   "cell_type": "code",
   "execution_count": null,
   "metadata": {
    "colab": {
     "base_uri": "https://localhost:8080/"
    },
    "id": "SUGK-m4AZAlm",
    "outputId": "fc2dad58-8fc3-4a27-ee57-cab2194c3152"
   },
   "outputs": [
    {
     "data": {
      "text/plain": [
       "array([[ 5242,  1683],\n",
       "       [ 2337, 69943]])"
      ]
     },
     "execution_count": 175,
     "metadata": {
      "tags": []
     },
     "output_type": "execute_result"
    }
   ],
   "source": [
    "# confusion matrix\n",
    "from sklearn.metrics import confusion_matrix\n",
    "import seaborn as sns\n",
    "cm_arr = confusion_matrix(true_label_list, pred_label_list)\n",
    "cm_arr"
   ]
  },
  {
   "cell_type": "code",
   "execution_count": null,
   "metadata": {
    "colab": {
     "base_uri": "https://localhost:8080/"
    },
    "id": "whU7mWQj4cLW",
    "outputId": "35d8c113-aa3d-42d8-ea81-d52aecc5e3b3"
   },
   "outputs": [
    {
     "data": {
      "text/plain": [
       "True"
      ]
     },
     "execution_count": 176,
     "metadata": {
      "tags": []
     },
     "output_type": "execute_result"
    }
   ],
   "source": [
    "len(true_label_list) == len(pred_label_list)"
   ]
  },
  {
   "cell_type": "code",
   "execution_count": null,
   "metadata": {
    "colab": {
     "base_uri": "https://localhost:8080/",
     "height": 265
    },
    "id": "DOgNdKbLnfUM",
    "outputId": "039ff5ad-32b3-4651-ca97-094bcc311355"
   },
   "outputs": [
    {
     "data": {
      "image/png": "[encoded data removed]",
      "text/plain": [
       "<Figure size 432x288 with 2 Axes>"
      ]
     },
     "metadata": {
      "needs_background": "light",
      "tags": []
     },
     "output_type": "display_data"
    }
   ],
   "source": [
    "#cm_sns = pd.crosstab(true_label_list, pred_label_list, rownames=['Actual'], colnames=['Predicted'])\n",
    "sns.heatmap(cm_arr, annot=True, fmt=\"d\", xticklabels=['-1','1'], yticklabels=['-1','1'])\n",
    "plt.show()"
   ]
  },
  {
   "cell_type": "code",
   "execution_count": null,
   "metadata": {
    "colab": {
     "base_uri": "https://localhost:8080/"
    },
    "id": "wP4tqzYZktVl",
    "outputId": "0aeefef7-b506-4e28-f0b0-758545ccdcc6"
   },
   "outputs": [
    {
     "data": {
      "text/plain": [
       "0.834075460262246"
      ]
     },
     "execution_count": 178,
     "metadata": {
      "tags": []
     },
     "output_type": "execute_result"
    }
   ],
   "source": [
    "# ROC-AUC - bert\n",
    "# Area under curve (AUC)\n",
    "fpr_keras_bert, tpr_keras_bert, thresholds_keras_bert = roc_curve(pred_label_list, true_label_list)\n",
    "auc_keras_bert = auc(fpr_keras_bert, tpr_keras_bert)\n",
    "auc_keras_bert"
   ]
  },
  {
   "cell_type": "markdown",
   "metadata": {
    "id": "6O9brYxF5m78"
   },
   "source": [
    "# Get the ROC curve"
   ]
  },
  {
   "cell_type": "code",
   "execution_count": null,
   "metadata": {
    "colab": {
     "base_uri": "https://localhost:8080/",
     "height": 295
    },
    "id": "wlPDvkDz5nNJ",
    "outputId": "3269b2d2-78de-4fb5-ad56-cd194a7a2b94"
   },
   "outputs": [
    {
     "data": {
      "image/png": "[encoded data removed]",
      "text/plain": [
       "<Figure size 432x288 with 1 Axes>"
      ]
     },
     "metadata": {
      "needs_background": "light",
      "tags": []
     },
     "output_type": "display_data"
    }
   ],
   "source": [
    "# get the ROC curve\n",
    "plt.figure(1)\n",
    "plt.plot([0, 1], [0, 1], 'k--')\n",
    "plt.plot(fpr_keras_1lstm, tpr_keras_1lstm, label='1-layer LSTM (area = {:.5f})'.format(auc_keras_1lstm))\n",
    "plt.plot(fpr_keras_bilstm, tpr_keras_bilstm, label='1-layer BiLSTM (area = {:.5f})'.format(auc_keras_bilstm))\n",
    "plt.plot(fpr_keras_bert, tpr_keras_bert, label='1-layer BERT (area = {:.5f})'.format(auc_keras_bert))\n",
    "plt.xlabel('False positive rate')\n",
    "plt.ylabel('True positive rate')\n",
    "plt.title('ROC curve')\n",
    "plt.legend(loc='best')\n",
    "plt.show()"
   ]
  },
  {
   "cell_type": "code",
   "execution_count": null,
   "metadata": {
    "id": "xfGSZ0oY5TqM"
   },
   "outputs": [],
   "source": []
  }
 ],
 "metadata": {
  "colab": {
   "collapsed_sections": [],
   "name": "amazon-review-dataset-2-class-downsampled.ipynb",
   "provenance": []
  },
  "kernelspec": {
   "display_name": "Python 3",
   "language": "python",
   "name": "python3"
  },
  "language_info": {
   "codemirror_mode": {
    "name": "ipython",
    "version": 3
   },
   "file_extension": ".py",
   "mimetype": "text/x-python",
   "name": "python",
   "nbconvert_exporter": "python",
   "pygments_lexer": "ipython3",
   "version": "3.7.7"
  }
 },
 "nbformat": 4,
 "nbformat_minor": 1
}
