{
 "cells": [
  {
   "cell_type": "code",
   "execution_count": null,
   "metadata": {
    "colab": {
     "base_uri": "https://localhost:8080/"
    },
    "id": "icUwGB7s0NtG",
    "outputId": "0cfa4cf4-a7ce-498c-aeed-a6c7cd4ca552"
   },
   "outputs": [
    {
     "name": "stdout",
     "output_type": "stream",
     "text": [
      "Mounted at /content/drive\n"
     ]
    }
   ],
   "source": [
    "# connect to google colab\n",
    "from google.colab import drive\n",
    "drive.mount(\"/content/drive\")"
   ]
  },
  {
   "cell_type": "code",
   "execution_count": null,
   "metadata": {
    "colab": {
     "base_uri": "https://localhost:8080/"
    },
    "id": "L9vjQ3090Szg",
    "outputId": "bcfce92f-bf79-44e4-e70c-bd9e5ece0c36"
   },
   "outputs": [
    {
     "name": "stdout",
     "output_type": "stream",
     "text": [
      "Collecting stanza\n",
      "\u001b[?25l  Downloading https://files.pythonhosted.org/packages/50/ae/a70a58ce6b4e2daad538688806ee0f238dbe601954582a74ea57cde6c532/stanza-1.2-py3-none-any.whl (282kB)\n",
      "\r",
      "\u001b[K     |█▏                              | 10kB 20.9MB/s eta 0:00:01\r",
      "\u001b[K     |██▎                             | 20kB 24.7MB/s eta 0:00:01\r",
      "\u001b[K     |███▌                            | 30kB 23.3MB/s eta 0:00:01\r",
      "\u001b[K     |████▋                           | 40kB 21.2MB/s eta 0:00:01\r",
      "\u001b[K     |█████▉                          | 51kB 21.6MB/s eta 0:00:01\r",
      "\u001b[K     |███████                         | 61kB 15.3MB/s eta 0:00:01\r",
      "\u001b[K     |████████▏                       | 71kB 16.5MB/s eta 0:00:01\r",
      "\u001b[K     |█████████▎                      | 81kB 16.8MB/s eta 0:00:01\r",
      "\u001b[K     |██████████▌                     | 92kB 15.1MB/s eta 0:00:01\r",
      "\u001b[K     |███████████▋                    | 102kB 16.2MB/s eta 0:00:01\r",
      "\u001b[K     |████████████▉                   | 112kB 16.2MB/s eta 0:00:01\r",
      "\u001b[K     |██████████████                  | 122kB 16.2MB/s eta 0:00:01\r",
      "\u001b[K     |███████████████                 | 133kB 16.2MB/s eta 0:00:01\r",
      "\u001b[K     |████████████████▎               | 143kB 16.2MB/s eta 0:00:01\r",
      "\u001b[K     |█████████████████▍              | 153kB 16.2MB/s eta 0:00:01\r",
      "\u001b[K     |██████████████████▋             | 163kB 16.2MB/s eta 0:00:01\r",
      "\u001b[K     |███████████████████▊            | 174kB 16.2MB/s eta 0:00:01\r",
      "\u001b[K     |█████████████████████           | 184kB 16.2MB/s eta 0:00:01\r",
      "\u001b[K     |██████████████████████          | 194kB 16.2MB/s eta 0:00:01\r",
      "\u001b[K     |███████████████████████▎        | 204kB 16.2MB/s eta 0:00:01\r",
      "\u001b[K     |████████████████████████▍       | 215kB 16.2MB/s eta 0:00:01\r",
      "\u001b[K     |█████████████████████████▋      | 225kB 16.2MB/s eta 0:00:01\r",
      "\u001b[K     |██████████████████████████▊     | 235kB 16.2MB/s eta 0:00:01\r",
      "\u001b[K     |███████████████████████████▉    | 245kB 16.2MB/s eta 0:00:01\r",
      "\u001b[K     |█████████████████████████████   | 256kB 16.2MB/s eta 0:00:01\r",
      "\u001b[K     |██████████████████████████████▏ | 266kB 16.2MB/s eta 0:00:01\r",
      "\u001b[K     |███████████████████████████████▍| 276kB 16.2MB/s eta 0:00:01\r",
      "\u001b[K     |████████████████████████████████| 286kB 16.2MB/s \n",
      "\u001b[?25hRequirement already satisfied: requests in /usr/local/lib/python3.7/dist-packages (from stanza) (2.23.0)\n",
      "Requirement already satisfied: torch>=1.3.0 in /usr/local/lib/python3.7/dist-packages (from stanza) (1.8.1+cu101)\n",
      "Requirement already satisfied: tqdm in /usr/local/lib/python3.7/dist-packages (from stanza) (4.41.1)\n",
      "Requirement already satisfied: protobuf in /usr/local/lib/python3.7/dist-packages (from stanza) (3.12.4)\n",
      "Requirement already satisfied: numpy in /usr/local/lib/python3.7/dist-packages (from stanza) (1.19.5)\n",
      "Requirement already satisfied: idna<3,>=2.5 in /usr/local/lib/python3.7/dist-packages (from requests->stanza) (2.10)\n",
      "Requirement already satisfied: certifi>=2017.4.17 in /usr/local/lib/python3.7/dist-packages (from requests->stanza) (2020.12.5)\n",
      "Requirement already satisfied: urllib3!=1.25.0,!=1.25.1,<1.26,>=1.21.1 in /usr/local/lib/python3.7/dist-packages (from requests->stanza) (1.24.3)\n",
      "Requirement already satisfied: chardet<4,>=3.0.2 in /usr/local/lib/python3.7/dist-packages (from requests->stanza) (3.0.4)\n",
      "Requirement already satisfied: typing-extensions in /usr/local/lib/python3.7/dist-packages (from torch>=1.3.0->stanza) (3.7.4.3)\n",
      "Requirement already satisfied: six>=1.9 in /usr/local/lib/python3.7/dist-packages (from protobuf->stanza) (1.15.0)\n",
      "Requirement already satisfied: setuptools in /usr/local/lib/python3.7/dist-packages (from protobuf->stanza) (54.2.0)\n",
      "Installing collected packages: stanza\n",
      "Successfully installed stanza-1.2\n"
     ]
    }
   ],
   "source": [
    "!pip install stanza"
   ]
  },
  {
   "cell_type": "code",
   "execution_count": null,
   "metadata": {
    "id": "hMnwiCAg0Zn1"
   },
   "outputs": [],
   "source": [
    "import pandas as pd\n",
    "import numpy as np\n",
    "import sqlite3\n",
    "import nltk\n",
    "from nltk.corpus import stopwords\n",
    "from nltk.corpus import wordnet\n",
    "from nltk.tokenize import word_tokenize, sent_tokenize\n",
    "from nltk.stem.wordnet import WordNetLemmatizer \n",
    "import stanza\n",
    "from tqdm import tqdm\n",
    "from bs4 import BeautifulSoup\n",
    "import re"
   ]
  },
  {
   "cell_type": "code",
   "execution_count": null,
   "metadata": {
    "colab": {
     "base_uri": "https://localhost:8080/"
    },
    "id": "wYIyUbvW0bvd",
    "outputId": "a82d1d13-b9df-40b2-a93a-dc46e4c5597a"
   },
   "outputs": [
    {
     "name": "stderr",
     "output_type": "stream",
     "text": [
      "Downloading https://raw.githubusercontent.com/stanfordnlp/stanza-resources/master/resources_1.2.0.json: 128kB [00:00, 26.7MB/s]                    \n",
      "2021-04-10 08:04:52 INFO: Downloading default packages for language: en (English)...\n",
      "Downloading http://nlp.stanford.edu/software/stanza/1.2.0/en/default.zip: 100%|██████████| 411M/411M [01:18<00:00, 5.24MB/s]\n",
      "2021-04-10 08:06:17 INFO: Finished downloading models and saved to /root/stanza_resources.\n"
     ]
    },
    {
     "name": "stdout",
     "output_type": "stream",
     "text": [
      "[nltk_data] Downloading package stopwords to /root/nltk_data...\n",
      "[nltk_data]   Unzipping corpora/stopwords.zip.\n",
      "[nltk_data] Downloading package punkt to /root/nltk_data...\n",
      "[nltk_data]   Unzipping tokenizers/punkt.zip.\n",
      "[nltk_data] Downloading package averaged_perceptron_tagger to\n",
      "[nltk_data]     /root/nltk_data...\n",
      "[nltk_data]   Unzipping taggers/averaged_perceptron_tagger.zip.\n"
     ]
    },
    {
     "data": {
      "text/plain": [
       "True"
      ]
     },
     "execution_count": 4,
     "metadata": {
      "tags": []
     },
     "output_type": "execute_result"
    }
   ],
   "source": [
    "# download English model\n",
    "stanza.download('en') \n",
    "nltk.download('stopwords')\n",
    "nltk.download('punkt')\n",
    "nltk.download('averaged_perceptron_tagger')"
   ]
  },
  {
   "cell_type": "code",
   "execution_count": null,
   "metadata": {
    "id": "JT0UwmMg0e5W"
   },
   "outputs": [],
   "source": [
    "# COLAB CONFIG\n",
    "# change colab flag to false if train using jupyter notebook\n",
    "COLAB_FLAG = True\n",
    "COLAB_FILEPATH = './drive/My Drive/4034-amazon-review-classification/' if COLAB_FLAG == True else './'\n",
    "pd.options.mode.chained_assignment = None  # default='warn'\n",
    "%matplotlib inline"
   ]
  },
  {
   "cell_type": "code",
   "execution_count": null,
   "metadata": {
    "id": "8ulx4KNI01f1"
   },
   "outputs": [],
   "source": []
  },
  {
   "cell_type": "markdown",
   "metadata": {
    "id": "qKq7Y5zs02r3"
   },
   "source": [
    "# Import crawled data and remove duplication"
   ]
  },
  {
   "cell_type": "code",
   "execution_count": null,
   "metadata": {
    "colab": {
     "base_uri": "https://localhost:8080/",
     "height": 225
    },
    "id": "FMA2Kk_g018B",
    "outputId": "81f2e10c-f824-4e49-8ede-6ebb65fa6b8c"
   },
   "outputs": [
    {
     "name": "stdout",
     "output_type": "stream",
     "text": [
      "Shape of the dataset:(97190, 5)\n"
     ]
    },
    {
     "data": {
      "text/html": [
       "<div>\n",
       "<style scoped>\n",
       "    .dataframe tbody tr th:only-of-type {\n",
       "        vertical-align: middle;\n",
       "    }\n",
       "\n",
       "    .dataframe tbody tr th {\n",
       "        vertical-align: top;\n",
       "    }\n",
       "\n",
       "    .dataframe thead th {\n",
       "        text-align: right;\n",
       "    }\n",
       "</style>\n",
       "<table border=\"1\" class=\"dataframe\">\n",
       "  <thead>\n",
       "    <tr style=\"text-align: right;\">\n",
       "      <th></th>\n",
       "      <th>Restaurant Name</th>\n",
       "      <th>Restaurant Type</th>\n",
       "      <th>Reviewer's Name</th>\n",
       "      <th>Rating</th>\n",
       "      <th>Comment</th>\n",
       "    </tr>\n",
       "  </thead>\n",
       "  <tbody>\n",
       "    <tr>\n",
       "      <th>0</th>\n",
       "      <td>Positano @ RP</td>\n",
       "      <td>Italian, European</td>\n",
       "      <td>aisvslife98</td>\n",
       "      <td>5</td>\n",
       "      <td>I enjoyed my time here with my girlfriends! Fa...</td>\n",
       "    </tr>\n",
       "    <tr>\n",
       "      <th>1</th>\n",
       "      <td>Positano @ RP</td>\n",
       "      <td>Italian, European</td>\n",
       "      <td>Odyssey44198198885</td>\n",
       "      <td>5</td>\n",
       "      <td>Wonderful and amazing service experience. Defi...</td>\n",
       "    </tr>\n",
       "    <tr>\n",
       "      <th>2</th>\n",
       "      <td>Positano @ RP</td>\n",
       "      <td>Italian, European</td>\n",
       "      <td>Ninifazelin</td>\n",
       "      <td>5</td>\n",
       "      <td>Great food and wonderful service! Will definit...</td>\n",
       "    </tr>\n",
       "    <tr>\n",
       "      <th>3</th>\n",
       "      <td>Positano @ RP</td>\n",
       "      <td>Italian, European</td>\n",
       "      <td>Amaliamazlan</td>\n",
       "      <td>5</td>\n",
       "      <td>Not my first time in Positano and definitely w...</td>\n",
       "    </tr>\n",
       "    <tr>\n",
       "      <th>4</th>\n",
       "      <td>Positano @ RP</td>\n",
       "      <td>Italian, European</td>\n",
       "      <td>Shahzanstim</td>\n",
       "      <td>5</td>\n",
       "      <td>Excellent service from the staff. The beef was...</td>\n",
       "    </tr>\n",
       "  </tbody>\n",
       "</table>\n",
       "</div>"
      ],
      "text/plain": [
       "  Restaurant Name  ...                                            Comment\n",
       "0   Positano @ RP  ...  I enjoyed my time here with my girlfriends! Fa...\n",
       "1   Positano @ RP  ...  Wonderful and amazing service experience. Defi...\n",
       "2   Positano @ RP  ...  Great food and wonderful service! Will definit...\n",
       "3   Positano @ RP  ...  Not my first time in Positano and definitely w...\n",
       "4   Positano @ RP  ...  Excellent service from the staff. The beef was...\n",
       "\n",
       "[5 rows x 5 columns]"
      ]
     },
     "execution_count": 6,
     "metadata": {
      "tags": []
     },
     "output_type": "execute_result"
    }
   ],
   "source": [
    "# read the test data\n",
    "data_test_raw_ = pd.read_csv(COLAB_FILEPATH+'data/trip-advisor-comments.csv')\n",
    "print(f'Shape of the dataset:{data_test_raw_.shape}')\n",
    "data_test_raw_.head()"
   ]
  },
  {
   "cell_type": "code",
   "execution_count": null,
   "metadata": {
    "colab": {
     "base_uri": "https://localhost:8080/"
    },
    "id": "Pf3Uj2cX08nt",
    "outputId": "a99c6485-b762-4cd2-de8b-d28320c72510"
   },
   "outputs": [
    {
     "name": "stdout",
     "output_type": "stream",
     "text": [
      "Shape of the dataset:(88042, 5)\n"
     ]
    }
   ],
   "source": [
    "# remove duplication of entries\n",
    "data_test_raw=data_test_raw_.drop_duplicates(subset={\"Reviewer\\'s Name\",\"Comment\"}, \n",
    "                                             keep='first', inplace=False)\n",
    "print(f'Shape of the dataset:{data_test_raw.shape}')"
   ]
  },
  {
   "cell_type": "code",
   "execution_count": null,
   "metadata": {
    "colab": {
     "base_uri": "https://localhost:8080/",
     "height": 298
    },
    "id": "1S83BTL31BHP",
    "outputId": "ae8da637-e2f1-4e4d-d6c3-cb8f18990885"
   },
   "outputs": [
    {
     "name": "stdout",
     "output_type": "stream",
     "text": [
      "(88042, 3)\n",
      "comments    object\n",
      "ratings      int64\n",
      "type        object\n",
      "dtype: object\n"
     ]
    },
    {
     "data": {
      "text/html": [
       "<div>\n",
       "<style scoped>\n",
       "    .dataframe tbody tr th:only-of-type {\n",
       "        vertical-align: middle;\n",
       "    }\n",
       "\n",
       "    .dataframe tbody tr th {\n",
       "        vertical-align: top;\n",
       "    }\n",
       "\n",
       "    .dataframe thead th {\n",
       "        text-align: right;\n",
       "    }\n",
       "</style>\n",
       "<table border=\"1\" class=\"dataframe\">\n",
       "  <thead>\n",
       "    <tr style=\"text-align: right;\">\n",
       "      <th></th>\n",
       "      <th>comments</th>\n",
       "      <th>ratings</th>\n",
       "      <th>type</th>\n",
       "    </tr>\n",
       "  </thead>\n",
       "  <tbody>\n",
       "    <tr>\n",
       "      <th>0</th>\n",
       "      <td>I enjoyed my time here with my girlfriends! Fa...</td>\n",
       "      <td>5</td>\n",
       "      <td>test</td>\n",
       "    </tr>\n",
       "    <tr>\n",
       "      <th>1</th>\n",
       "      <td>Wonderful and amazing service experience. Defi...</td>\n",
       "      <td>5</td>\n",
       "      <td>test</td>\n",
       "    </tr>\n",
       "    <tr>\n",
       "      <th>2</th>\n",
       "      <td>Great food and wonderful service! Will definit...</td>\n",
       "      <td>5</td>\n",
       "      <td>test</td>\n",
       "    </tr>\n",
       "    <tr>\n",
       "      <th>3</th>\n",
       "      <td>Not my first time in Positano and definitely w...</td>\n",
       "      <td>5</td>\n",
       "      <td>test</td>\n",
       "    </tr>\n",
       "    <tr>\n",
       "      <th>4</th>\n",
       "      <td>Excellent service from the staff. The beef was...</td>\n",
       "      <td>5</td>\n",
       "      <td>test</td>\n",
       "    </tr>\n",
       "  </tbody>\n",
       "</table>\n",
       "</div>"
      ],
      "text/plain": [
       "                                            comments  ratings  type\n",
       "0  I enjoyed my time here with my girlfriends! Fa...        5  test\n",
       "1  Wonderful and amazing service experience. Defi...        5  test\n",
       "2  Great food and wonderful service! Will definit...        5  test\n",
       "3  Not my first time in Positano and definitely w...        5  test\n",
       "4  Excellent service from the staff. The beef was...        5  test"
      ]
     },
     "execution_count": 8,
     "metadata": {
      "tags": []
     },
     "output_type": "execute_result"
    }
   ],
   "source": [
    "#data_test_raw = pd.read_csv(COLAB_FILEPATH + 'data/trip-advisor-comments-filtered.csv')\n",
    "# create an empty dataframe\n",
    "data_test = pd.DataFrame()\n",
    "\n",
    "# to store only the required columns into the new dataframe\n",
    "data_test['comments'] = data_test_raw['Comment']\n",
    "data_test['ratings'] = data_test_raw['Rating']\n",
    "data_test['type'] = \"test\"\n",
    "print(data_test.shape)\n",
    "print(data_test.dtypes)\n",
    "data_test.head()"
   ]
  },
  {
   "cell_type": "code",
   "execution_count": null,
   "metadata": {
    "id": "SUY1KwBg1C3m"
   },
   "outputs": [],
   "source": []
  },
  {
   "cell_type": "markdown",
   "metadata": {
    "id": "Y5oo1iYh1GMI"
   },
   "source": [
    "# Paritition the ratings to 3 classes only\n",
    "-1 (negative) <- 1,2  \n",
    "0 (neutral) <- 3  \n",
    "1 (positive) <- 4,5"
   ]
  },
  {
   "cell_type": "code",
   "execution_count": null,
   "metadata": {
    "id": "LWtCXxlo1Gle"
   },
   "outputs": [],
   "source": [
    "def partition(x):\n",
    "    if x < 3:\n",
    "        return -1\n",
    "    elif x == 3:\n",
    "        return 0\n",
    "    else:   \n",
    "        return 1"
   ]
  },
  {
   "cell_type": "code",
   "execution_count": null,
   "metadata": {
    "colab": {
     "base_uri": "https://localhost:8080/",
     "height": 162
    },
    "id": "p50eakWM1JtV",
    "outputId": "28f1143a-2686-49cf-faa0-be159b1be967"
   },
   "outputs": [
    {
     "name": "stdout",
     "output_type": "stream",
     "text": [
      "Number of data points in test data (88042, 4)\n"
     ]
    },
    {
     "data": {
      "text/html": [
       "<div>\n",
       "<style scoped>\n",
       "    .dataframe tbody tr th:only-of-type {\n",
       "        vertical-align: middle;\n",
       "    }\n",
       "\n",
       "    .dataframe tbody tr th {\n",
       "        vertical-align: top;\n",
       "    }\n",
       "\n",
       "    .dataframe thead th {\n",
       "        text-align: right;\n",
       "    }\n",
       "</style>\n",
       "<table border=\"1\" class=\"dataframe\">\n",
       "  <thead>\n",
       "    <tr style=\"text-align: right;\">\n",
       "      <th></th>\n",
       "      <th>comments</th>\n",
       "      <th>ratings</th>\n",
       "      <th>type</th>\n",
       "      <th>ratings_class</th>\n",
       "    </tr>\n",
       "  </thead>\n",
       "  <tbody>\n",
       "    <tr>\n",
       "      <th>0</th>\n",
       "      <td>I enjoyed my time here with my girlfriends! Fa...</td>\n",
       "      <td>5</td>\n",
       "      <td>test</td>\n",
       "      <td>1</td>\n",
       "    </tr>\n",
       "    <tr>\n",
       "      <th>1</th>\n",
       "      <td>Wonderful and amazing service experience. Defi...</td>\n",
       "      <td>5</td>\n",
       "      <td>test</td>\n",
       "      <td>1</td>\n",
       "    </tr>\n",
       "    <tr>\n",
       "      <th>2</th>\n",
       "      <td>Great food and wonderful service! Will definit...</td>\n",
       "      <td>5</td>\n",
       "      <td>test</td>\n",
       "      <td>1</td>\n",
       "    </tr>\n",
       "  </tbody>\n",
       "</table>\n",
       "</div>"
      ],
      "text/plain": [
       "                                            comments  ...  ratings_class\n",
       "0  I enjoyed my time here with my girlfriends! Fa...  ...              1\n",
       "1  Wonderful and amazing service experience. Defi...  ...              1\n",
       "2  Great food and wonderful service! Will definit...  ...              1\n",
       "\n",
       "[3 rows x 4 columns]"
      ]
     },
     "execution_count": 10,
     "metadata": {
      "tags": []
     },
     "output_type": "execute_result"
    }
   ],
   "source": [
    "# append partitioned data to the test set\n",
    "actualScore = data_test['ratings']\n",
    "class_ = actualScore.map(partition) \n",
    "data_test['ratings_class'] = class_\n",
    "print(\"Number of data points in test data\", data_test.shape)\n",
    "data_test.head(3)"
   ]
  },
  {
   "cell_type": "code",
   "execution_count": null,
   "metadata": {
    "id": "C2uYjYjS1MsH"
   },
   "outputs": [],
   "source": []
  },
  {
   "cell_type": "markdown",
   "metadata": {
    "id": "zTCMPY_j1S7w"
   },
   "source": [
    "### Preprocess the test dataset to separate the neutral data from the opinionated ones"
   ]
  },
  {
   "cell_type": "code",
   "execution_count": null,
   "metadata": {
    "colab": {
     "base_uri": "https://localhost:8080/"
    },
    "id": "spAmAPRm1TeF",
    "outputId": "5af5f8ed-aa65-4721-b84d-8a7661ea30c8"
   },
   "outputs": [
    {
     "name": "stdout",
     "output_type": "stream",
     "text": [
      "(79205, 4)\n",
      " 1    72280\n",
      "-1     6925\n",
      "Name: ratings_class, dtype: int64\n"
     ]
    }
   ],
   "source": [
    "data_opinionated_test = data_test[data_test['ratings_class'] != 0]\n",
    "print(data_opinionated_test.shape)\n",
    "print(data_opinionated_test['ratings_class'].value_counts())"
   ]
  },
  {
   "cell_type": "code",
   "execution_count": null,
   "metadata": {
    "colab": {
     "base_uri": "https://localhost:8080/",
     "height": 206
    },
    "id": "RDd80uL-1ZJW",
    "outputId": "e290db68-0f94-4a3c-b86e-347ba3980db6"
   },
   "outputs": [
    {
     "data": {
      "text/html": [
       "<div>\n",
       "<style scoped>\n",
       "    .dataframe tbody tr th:only-of-type {\n",
       "        vertical-align: middle;\n",
       "    }\n",
       "\n",
       "    .dataframe tbody tr th {\n",
       "        vertical-align: top;\n",
       "    }\n",
       "\n",
       "    .dataframe thead th {\n",
       "        text-align: right;\n",
       "    }\n",
       "</style>\n",
       "<table border=\"1\" class=\"dataframe\">\n",
       "  <thead>\n",
       "    <tr style=\"text-align: right;\">\n",
       "      <th></th>\n",
       "      <th>comments</th>\n",
       "      <th>ratings</th>\n",
       "      <th>type</th>\n",
       "      <th>ratings_class</th>\n",
       "    </tr>\n",
       "  </thead>\n",
       "  <tbody>\n",
       "    <tr>\n",
       "      <th>0</th>\n",
       "      <td>I enjoyed my time here with my girlfriends! Fa...</td>\n",
       "      <td>5</td>\n",
       "      <td>test</td>\n",
       "      <td>1</td>\n",
       "    </tr>\n",
       "    <tr>\n",
       "      <th>1</th>\n",
       "      <td>Wonderful and amazing service experience. Defi...</td>\n",
       "      <td>5</td>\n",
       "      <td>test</td>\n",
       "      <td>1</td>\n",
       "    </tr>\n",
       "    <tr>\n",
       "      <th>2</th>\n",
       "      <td>Great food and wonderful service! Will definit...</td>\n",
       "      <td>5</td>\n",
       "      <td>test</td>\n",
       "      <td>1</td>\n",
       "    </tr>\n",
       "    <tr>\n",
       "      <th>3</th>\n",
       "      <td>Not my first time in Positano and definitely w...</td>\n",
       "      <td>5</td>\n",
       "      <td>test</td>\n",
       "      <td>1</td>\n",
       "    </tr>\n",
       "    <tr>\n",
       "      <th>4</th>\n",
       "      <td>Excellent service from the staff. The beef was...</td>\n",
       "      <td>5</td>\n",
       "      <td>test</td>\n",
       "      <td>1</td>\n",
       "    </tr>\n",
       "  </tbody>\n",
       "</table>\n",
       "</div>"
      ],
      "text/plain": [
       "                                            comments  ...  ratings_class\n",
       "0  I enjoyed my time here with my girlfriends! Fa...  ...              1\n",
       "1  Wonderful and amazing service experience. Defi...  ...              1\n",
       "2  Great food and wonderful service! Will definit...  ...              1\n",
       "3  Not my first time in Positano and definitely w...  ...              1\n",
       "4  Excellent service from the staff. The beef was...  ...              1\n",
       "\n",
       "[5 rows x 4 columns]"
      ]
     },
     "execution_count": 12,
     "metadata": {
      "tags": []
     },
     "output_type": "execute_result"
    }
   ],
   "source": [
    "data_opinionated_test.head()"
   ]
  },
  {
   "cell_type": "code",
   "execution_count": null,
   "metadata": {
    "id": "sxp1AnTQ1eNm"
   },
   "outputs": [],
   "source": [
    "# remove contractions\n",
    "def contraction_removal(phrase):\n",
    "    phrase = re.sub(r\"won't\", \"will not\", phrase)\n",
    "    phrase = re.sub(r\"can\\'t\", \"can not\", phrase)\n",
    "\n",
    "    # general\n",
    "    phrase = re.sub(r\"n\\'t\", \"not\", phrase)\n",
    "    phrase = re.sub(r\"\\'re\", \"are\", phrase)\n",
    "    phrase = re.sub(r\"\\'s\", \"is\", phrase)\n",
    "    phrase = re.sub(r\"\\'d\", \"would\", phrase)\n",
    "    phrase = re.sub(r\"\\'ll\", \"will\", phrase)\n",
    "    phrase = re.sub(r\"\\'t\", \"not\", phrase)\n",
    "    phrase = re.sub(r\"\\'ve\", \"have\", phrase)\n",
    "    phrase = re.sub(r\"\\'m\", \"am\", phrase)\n",
    "    return phrase"
   ]
  },
  {
   "cell_type": "code",
   "execution_count": null,
   "metadata": {
    "colab": {
     "base_uri": "https://localhost:8080/"
    },
    "id": "zkPRKy7_1lfP",
    "outputId": "66f16dd1-d336-4316-feef-ccc631021194"
   },
   "outputs": [
    {
     "name": "stderr",
     "output_type": "stream",
     "text": [
      "100%|██████████| 79205/79205 [00:22<00:00, 3561.20it/s]\n"
     ]
    }
   ],
   "source": [
    "# to do data cleaning here\n",
    "preprocessed_reviews = []\n",
    "# tqdm is for printing the status bar\n",
    "for sentence in tqdm(data_opinionated_test['comments'].values):\n",
    "    sentence = re.sub(r\"http\\S+\", \"\", sentence)\n",
    "    sentence = BeautifulSoup(sentence, 'lxml').get_text()\n",
    "    sentence = contraction_removal(sentence)\n",
    "    sentence = re.sub(\"\\S*\\d\\S*\", \"\", sentence).strip()\n",
    "    sentence = re.sub('[^A-Za-z]+', ' ', sentence)\n",
    "    # https://gist.github.com/sebleier/554280\n",
    "    preprocessed_reviews.append(sentence.strip())"
   ]
  },
  {
   "cell_type": "code",
   "execution_count": null,
   "metadata": {
    "colab": {
     "base_uri": "https://localhost:8080/"
    },
    "id": "6622bgVp1oBG",
    "outputId": "5f3aa72a-9a24-44bf-fc83-5ad491284cb2"
   },
   "outputs": [
    {
     "data": {
      "text/plain": [
       "list"
      ]
     },
     "execution_count": 15,
     "metadata": {
      "tags": []
     },
     "output_type": "execute_result"
    }
   ],
   "source": [
    "type(preprocessed_reviews)"
   ]
  },
  {
   "cell_type": "code",
   "execution_count": null,
   "metadata": {
    "colab": {
     "base_uri": "https://localhost:8080/",
     "height": 225
    },
    "id": "OD6sSwwr1xp-",
    "outputId": "083a5342-368b-4e6c-cf8e-690b5301efa2"
   },
   "outputs": [
    {
     "name": "stdout",
     "output_type": "stream",
     "text": [
      "(79205, 5)\n"
     ]
    },
    {
     "data": {
      "text/html": [
       "<div>\n",
       "<style scoped>\n",
       "    .dataframe tbody tr th:only-of-type {\n",
       "        vertical-align: middle;\n",
       "    }\n",
       "\n",
       "    .dataframe tbody tr th {\n",
       "        vertical-align: top;\n",
       "    }\n",
       "\n",
       "    .dataframe thead th {\n",
       "        text-align: right;\n",
       "    }\n",
       "</style>\n",
       "<table border=\"1\" class=\"dataframe\">\n",
       "  <thead>\n",
       "    <tr style=\"text-align: right;\">\n",
       "      <th></th>\n",
       "      <th>comments</th>\n",
       "      <th>ratings</th>\n",
       "      <th>type</th>\n",
       "      <th>ratings_class</th>\n",
       "      <th>comments_cleaned</th>\n",
       "    </tr>\n",
       "  </thead>\n",
       "  <tbody>\n",
       "    <tr>\n",
       "      <th>0</th>\n",
       "      <td>I enjoyed my time here with my girlfriends! Fa...</td>\n",
       "      <td>5</td>\n",
       "      <td>test</td>\n",
       "      <td>1</td>\n",
       "      <td>I enjoyed my time here with my girlfriends Faj...</td>\n",
       "    </tr>\n",
       "    <tr>\n",
       "      <th>1</th>\n",
       "      <td>Wonderful and amazing service experience. Defi...</td>\n",
       "      <td>5</td>\n",
       "      <td>test</td>\n",
       "      <td>1</td>\n",
       "      <td>Wonderful and amazing service experience Defin...</td>\n",
       "    </tr>\n",
       "    <tr>\n",
       "      <th>2</th>\n",
       "      <td>Great food and wonderful service! Will definit...</td>\n",
       "      <td>5</td>\n",
       "      <td>test</td>\n",
       "      <td>1</td>\n",
       "      <td>Great food and wonderful service Will definite...</td>\n",
       "    </tr>\n",
       "    <tr>\n",
       "      <th>3</th>\n",
       "      <td>Not my first time in Positano and definitely w...</td>\n",
       "      <td>5</td>\n",
       "      <td>test</td>\n",
       "      <td>1</td>\n",
       "      <td>Not my first time in Positano and definitely w...</td>\n",
       "    </tr>\n",
       "    <tr>\n",
       "      <th>4</th>\n",
       "      <td>Excellent service from the staff. The beef was...</td>\n",
       "      <td>5</td>\n",
       "      <td>test</td>\n",
       "      <td>1</td>\n",
       "      <td>Excellent service from the staff The beef was ...</td>\n",
       "    </tr>\n",
       "  </tbody>\n",
       "</table>\n",
       "</div>"
      ],
      "text/plain": [
       "                                            comments  ...                                   comments_cleaned\n",
       "0  I enjoyed my time here with my girlfriends! Fa...  ...  I enjoyed my time here with my girlfriends Faj...\n",
       "1  Wonderful and amazing service experience. Defi...  ...  Wonderful and amazing service experience Defin...\n",
       "2  Great food and wonderful service! Will definit...  ...  Great food and wonderful service Will definite...\n",
       "3  Not my first time in Positano and definitely w...  ...  Not my first time in Positano and definitely w...\n",
       "4  Excellent service from the staff. The beef was...  ...  Excellent service from the staff The beef was ...\n",
       "\n",
       "[5 rows x 5 columns]"
      ]
     },
     "execution_count": 16,
     "metadata": {
      "tags": []
     },
     "output_type": "execute_result"
    }
   ],
   "source": [
    "data_opinionated_test['comments_cleaned'] = preprocessed_reviews\n",
    "print(data_opinionated_test.shape)\n",
    "data_opinionated_test.head()"
   ]
  },
  {
   "cell_type": "code",
   "execution_count": null,
   "metadata": {
    "id": "NF1fFHDU11XV"
   },
   "outputs": [],
   "source": []
  },
  {
   "cell_type": "code",
   "execution_count": null,
   "metadata": {
    "id": "hedWkZDg17Lv"
   },
   "outputs": [],
   "source": [
    "data_opinionated_test.to_csv(COLAB_FILEPATH + 'data/data_test_absa.csv', \n",
    "                             index=False)"
   ]
  },
  {
   "cell_type": "code",
   "execution_count": null,
   "metadata": {
    "colab": {
     "base_uri": "https://localhost:8080/",
     "height": 206
    },
    "id": "Lug_3nNE1-mm",
    "outputId": "6e83db9c-a2ac-4772-fa44-9e6cfe059af8"
   },
   "outputs": [
    {
     "data": {
      "text/html": [
       "<div>\n",
       "<style scoped>\n",
       "    .dataframe tbody tr th:only-of-type {\n",
       "        vertical-align: middle;\n",
       "    }\n",
       "\n",
       "    .dataframe tbody tr th {\n",
       "        vertical-align: top;\n",
       "    }\n",
       "\n",
       "    .dataframe thead th {\n",
       "        text-align: right;\n",
       "    }\n",
       "</style>\n",
       "<table border=\"1\" class=\"dataframe\">\n",
       "  <thead>\n",
       "    <tr style=\"text-align: right;\">\n",
       "      <th></th>\n",
       "      <th>comments</th>\n",
       "      <th>ratings</th>\n",
       "      <th>type</th>\n",
       "      <th>ratings_class</th>\n",
       "      <th>comments_cleaned</th>\n",
       "    </tr>\n",
       "  </thead>\n",
       "  <tbody>\n",
       "    <tr>\n",
       "      <th>0</th>\n",
       "      <td>I enjoyed my time here with my girlfriends! Fa...</td>\n",
       "      <td>5</td>\n",
       "      <td>test</td>\n",
       "      <td>1</td>\n",
       "      <td>I enjoyed my time here with my girlfriends Faj...</td>\n",
       "    </tr>\n",
       "    <tr>\n",
       "      <th>1</th>\n",
       "      <td>Wonderful and amazing service experience. Defi...</td>\n",
       "      <td>5</td>\n",
       "      <td>test</td>\n",
       "      <td>1</td>\n",
       "      <td>Wonderful and amazing service experience Defin...</td>\n",
       "    </tr>\n",
       "    <tr>\n",
       "      <th>2</th>\n",
       "      <td>Great food and wonderful service! Will definit...</td>\n",
       "      <td>5</td>\n",
       "      <td>test</td>\n",
       "      <td>1</td>\n",
       "      <td>Great food and wonderful service Will definite...</td>\n",
       "    </tr>\n",
       "    <tr>\n",
       "      <th>3</th>\n",
       "      <td>Not my first time in Positano and definitely w...</td>\n",
       "      <td>5</td>\n",
       "      <td>test</td>\n",
       "      <td>1</td>\n",
       "      <td>Not my first time in Positano and definitely w...</td>\n",
       "    </tr>\n",
       "    <tr>\n",
       "      <th>4</th>\n",
       "      <td>Excellent service from the staff. The beef was...</td>\n",
       "      <td>5</td>\n",
       "      <td>test</td>\n",
       "      <td>1</td>\n",
       "      <td>Excellent service from the staff The beef was ...</td>\n",
       "    </tr>\n",
       "  </tbody>\n",
       "</table>\n",
       "</div>"
      ],
      "text/plain": [
       "                                            comments  ...                                   comments_cleaned\n",
       "0  I enjoyed my time here with my girlfriends! Fa...  ...  I enjoyed my time here with my girlfriends Faj...\n",
       "1  Wonderful and amazing service experience. Defi...  ...  Wonderful and amazing service experience Defin...\n",
       "2  Great food and wonderful service! Will definit...  ...  Great food and wonderful service Will definite...\n",
       "3  Not my first time in Positano and definitely w...  ...  Not my first time in Positano and definitely w...\n",
       "4  Excellent service from the staff. The beef was...  ...  Excellent service from the staff The beef was ...\n",
       "\n",
       "[5 rows x 5 columns]"
      ]
     },
     "execution_count": 18,
     "metadata": {
      "tags": []
     },
     "output_type": "execute_result"
    }
   ],
   "source": [
    "data_overall_ = pd.read_csv(COLAB_FILEPATH + 'data/data_test_absa.csv')\n",
    "data_overall_.head()"
   ]
  },
  {
   "cell_type": "code",
   "execution_count": null,
   "metadata": {
    "colab": {
     "base_uri": "https://localhost:8080/"
    },
    "id": "9hFo7Yjn2HRd",
    "outputId": "8d69a201-b59b-4ac8-a50d-680efe1bb195"
   },
   "outputs": [
    {
     "data": {
      "text/plain": [
       "comments            79205\n",
       "ratings             79205\n",
       "type                79205\n",
       "ratings_class       79205\n",
       "comments_cleaned    79205\n",
       "dtype: int64"
      ]
     },
     "execution_count": 19,
     "metadata": {
      "tags": []
     },
     "output_type": "execute_result"
    }
   ],
   "source": [
    "# replace na with - for the row where the comments cleaned are empty\n",
    "data_overall_['comments_cleaned'] = data_overall_['comments_cleaned'].fillna('-')\n",
    "data_overall_.count()"
   ]
  },
  {
   "cell_type": "code",
   "execution_count": null,
   "metadata": {
    "colab": {
     "base_uri": "https://localhost:8080/"
    },
    "id": "o8kzLGxB2J-9",
    "outputId": "0bf814d9-0741-4c6c-bf66-c30e13904a77"
   },
   "outputs": [
    {
     "name": "stdout",
     "output_type": "stream",
     "text": [
      "79205\n"
     ]
    },
    {
     "data": {
      "text/plain": [
       "['I enjoyed my time here with my girlfriends Fajar our server gave recommendations for food and drinks which were fantastic and check up on our meals twice Ordered a dessert to celebrate two of my girlfriendis birthdays and exceeding my expectations came with another complimentary dessert Second time here and service is great as usual Thank you',\n",
       " 'Wonderful and amazing service experience Definitely will return for dining again next time in the future',\n",
       " 'Great food and wonderful service Will definitely return The calzone is recommended Friendly and attentive staff Good variety of food',\n",
       " 'Not my first time in Positano and definitely will not be my last Such amazing service and such delicious food Despite the restaurant being full food will always be nice I will be back soon Canot wait to see the upgrade',\n",
       " 'Excellent service from the staff The beef was so tender and the risotto was nice Would definitely recommend it',\n",
       " 'Place has great food great ambience and the staff are very friendly Shout out to Naufal and Ain for their pleasant service',\n",
       " 'Best place to chill in business enviroment Naufal and ain complete my bdae The food was awesome The cleaniess and ambience is superb']"
      ]
     },
     "execution_count": 20,
     "metadata": {
      "tags": []
     },
     "output_type": "execute_result"
    }
   ],
   "source": [
    "comments_list = list(data_overall_['comments_cleaned'])\n",
    "print(len(comments_list))\n",
    "comments_list[:7]"
   ]
  },
  {
   "cell_type": "code",
   "execution_count": null,
   "metadata": {
    "colab": {
     "base_uri": "https://localhost:8080/"
    },
    "id": "n91CptGs2L1W",
    "outputId": "263bba3d-6b91-4f02-edda-308cb8287548"
   },
   "outputs": [
    {
     "data": {
      "text/plain": [
       "['I enjoyed my time here with my girlfriends Fajar our server gave recommendations for food and drinks which were fantastic and check up on our meals twice Ordered a dessert to celebrate two of my girlfriendis birthdays and exceeding my expectations came with another complimentary dessert Second time here and service is great as usual Thank you',\n",
       " 'Wonderful and amazing service experience Definitely will return for dining again next time in the future',\n",
       " 'Great food and wonderful service Will definitely return The calzone is recommended Friendly and attentive staff Good variety of food',\n",
       " 'Not my first time in Positano and definitely will not be my last Such amazing service and such delicious food Despite the restaurant being full food will always be nice I will be back soon Canot wait to see the upgrade',\n",
       " 'Excellent service from the staff The beef was so tender and the risotto was nice Would definitely recommend it',\n",
       " 'Place has great food great ambience and the staff are very friendly Shout out to Naufal and Ain for their pleasant service',\n",
       " 'Best place to chill in business enviroment Naufal and ain complete my bdae The food was awesome The cleaniess and ambience is superb',\n",
       " 'Love their risotto This is the third time coming here It will not be the last Highly recommended if you love Risotto Truffle Mushroom Risotto is a must try here',\n",
       " 'From food to service to ambience Everything is great Must try their pizza Unique and delicious',\n",
       " 'Great food Love the pasta milk shake Staff was attentive and prompt We had the truffle fries seafood linguine and the roche milk shake Would recommend']"
      ]
     },
     "execution_count": 21,
     "metadata": {
      "tags": []
     },
     "output_type": "execute_result"
    }
   ],
   "source": [
    "# do a small test here\n",
    "comments_list_small = comments_list[:10]\n",
    "comments_list_small"
   ]
  },
  {
   "cell_type": "code",
   "execution_count": null,
   "metadata": {
    "id": "7vH6M5Lw2NMW"
   },
   "outputs": [],
   "source": []
  },
  {
   "cell_type": "markdown",
   "metadata": {
    "id": "PS236JVJ2PEJ"
   },
   "source": [
    "## Aspect based sentiment portion"
   ]
  },
  {
   "cell_type": "code",
   "execution_count": null,
   "metadata": {
    "colab": {
     "base_uri": "https://localhost:8080/"
    },
    "id": "Shmdh3aO2Tk2",
    "outputId": "2e9cb020-a474-49c0-a7a7-a5d95e342ed4"
   },
   "outputs": [
    {
     "name": "stderr",
     "output_type": "stream",
     "text": [
      "2021-04-10 08:08:19 INFO: Loading these models for language: en (English):\n",
      "=========================\n",
      "| Processor | Package   |\n",
      "-------------------------\n",
      "| tokenize  | combined  |\n",
      "| pos       | combined  |\n",
      "| lemma     | combined  |\n",
      "| depparse  | combined  |\n",
      "| sentiment | sstplus   |\n",
      "| ner       | ontonotes |\n",
      "=========================\n",
      "\n",
      "2021-04-10 08:08:19 INFO: Use device: cpu\n",
      "2021-04-10 08:08:19 INFO: Loading: tokenize\n",
      "2021-04-10 08:08:19 INFO: Loading: pos\n",
      "2021-04-10 08:08:20 INFO: Loading: lemma\n",
      "2021-04-10 08:08:20 INFO: Loading: depparse\n",
      "2021-04-10 08:08:20 INFO: Loading: sentiment\n",
      "2021-04-10 08:08:21 INFO: Loading: ner\n",
      "2021-04-10 08:08:21 INFO: Done loading processors!\n"
     ]
    }
   ],
   "source": [
    "stop_words = set(stopwords.words('english'))\n",
    "nlp = stanza.Pipeline('en')"
   ]
  },
  {
   "cell_type": "code",
   "execution_count": null,
   "metadata": {
    "id": "U1UwGHKs2XV2"
   },
   "outputs": [],
   "source": [
    "# a function to get the aspect based sentiments\n",
    "def aspect_conversion(text):\n",
    "    # lower case the text and tokenize the Sentence\n",
    "    text = text.lower()\n",
    "    sentList = nltk.sent_tokenize(text)\n",
    "\n",
    "    # perform pos tagging\n",
    "    for line in sentList:\n",
    "        txt_list = nltk.word_tokenize(line)\n",
    "        taggedList = nltk.pos_tag(txt_list)\n",
    "\n",
    "    newwordList = []\n",
    "    flag = 0\n",
    "    for i in range(0,len(taggedList)-1):\n",
    "        if (taggedList[i][1]==\"NN\" and taggedList[i+1][1]==\"NN\"):\n",
    "            newwordList.append(taggedList[i][0]+taggedList[i+1][0])\n",
    "            flag=1\n",
    "        else:\n",
    "            if(flag==1):\n",
    "                flag=0\n",
    "                continue\n",
    "            newwordList.append(taggedList[i][0])\n",
    "            if(i==len(taggedList)-2):\n",
    "                newwordList.append(taggedList[i+1][0])\n",
    "    finaltxt = ' '.join(word for word in newwordList)\n",
    "    \n",
    "    new_txt_list = nltk.word_tokenize(finaltxt)\n",
    "    wordsList = [w for w in new_txt_list if not w in stop_words]\n",
    "    taggedList = nltk.pos_tag(wordsList)\n",
    "    \n",
    "    doc = nlp(finaltxt)\n",
    "    dep_node = []\n",
    "    for dep_edge in doc.sentences[0].dependencies:\n",
    "        dep_node.append([dep_edge[2].text, dep_edge[0].id, dep_edge[1]])\n",
    "        #print(len(dep_node))\n",
    "    for j in range(0, len(dep_node)):\n",
    "        #print(j)\n",
    "        try:\n",
    "            if (int(dep_node[j][1]) != 0):\n",
    "                dep_node[j][1] = newwordList[(int(dep_node[j][1]) - 1)]\n",
    "        except:\n",
    "            print(\"Error\")\n",
    "\n",
    "    # only select those sublists from the dep_node \n",
    "    # that could probably contain the features\n",
    "    featureList = []\n",
    "    categoriesList = []\n",
    "\n",
    "    for i in taggedList:\n",
    "        if(i[1]=='JJ' or i[1]=='NN' or i[1]=='JJR' or i[1]=='NNS' or i[1]=='RB'):\n",
    "            featureList.append(list(i))\n",
    "            categoriesList.append(i[0])\n",
    "\n",
    "    # now using dep_node list and the featureList we will determine to \n",
    "    # which of the words these features in the feature list are related to\n",
    "    fcluster = []\n",
    "    for i in featureList:\n",
    "        filist = []\n",
    "        for j in dep_node:\n",
    "            if((j[0]==i[0] or j[1]==i[0]) and (j[2] in [\"nsubj\", \"acl:relcl\", \"obj\", \"dobj\", \"agent\", \"advmod\", \"amod\", \"neg\", \"prep_of\", \"acomp\", \"xcomp\", \"compound\"])):\n",
    "                if(j[0]==i[0]):\n",
    "                    filist.append(j[1])\n",
    "                else:\n",
    "                    filist.append(j[0])\n",
    "        fcluster.append([i[0], filist])\n",
    "\n",
    "    finalcluster = []\n",
    "    dic = {}\n",
    "    for i in featureList:\n",
    "        dic[i[0]] = i[1]\n",
    "    for i in fcluster:\n",
    "        if(dic[i[0]]==\"NN\"):\n",
    "            finalcluster.append(i)\n",
    "    return finalcluster"
   ]
  },
  {
   "cell_type": "code",
   "execution_count": null,
   "metadata": {
    "colab": {
     "base_uri": "https://localhost:8080/"
    },
    "id": "SC2fxIw92aBW",
    "outputId": "ea69d7d3-cf1e-4fe5-b22e-68f382d24382"
   },
   "outputs": [
    {
     "name": "stdout",
     "output_type": "stream",
     "text": [
      "[['time', ['enjoyed', 'second']], ['food', ['fantastic']], ['check', []], ['dessert', ['ordered', 'complimentary']], ['celebrate', ['two']], ['girlfriendis', ['birthdays']], ['dessert', ['ordered', 'complimentary']], ['time', ['enjoyed', 'second']], ['service', ['great']], ['thank', ['you']]]\n",
      "[['serviceexperience', ['wonderful', 'return']], ['time', ['next']], ['future', []]]\n",
      "[['food', ['great', 'return']], ['service', ['wonderful']], ['calzone', []], ['staff', ['variety']], ['variety', ['staff', 'good']], ['food', ['great', 'return']]]\n",
      "Error\n",
      "[['time', ['not', 'first']], ['positano', []], ['service', ['definitely', 'not', 'last', 'such', 'amazing']], ['food', ['such', 'delicious', 'nice', 'full', 'nice']], ['restaurant', []], ['food', ['such', 'delicious', 'nice', 'full', 'nice']], ['wait', []], ['see', []]]\n",
      "[['service', ['excellent']], ['staff', []], ['beef', ['tender']], ['tender', ['beef', 'so']], ['risotto', ['nice']]]\n",
      "[['place', ['has']], ['food', ['great', 'has']], ['ambience', ['great', 'has']], ['staff', ['shout']], ['service', ['pleasant']]]\n",
      "[['place', ['best']], ['chill', []], ['businessenviroment', ['enviromentnaufal']], ['bdae', ['complete']], ['food', ['awesome']], ['cleaniess', ['superb']], ['ambience', []], ['superb', ['cleaniess']]]\n",
      "[['risotto', ['love', 'truffle']], ['time', ['this', 'third']], ['love', ['risotto', 'you']], ['risotto', ['love', 'truffle']], ['truffle', ['risotto', 'mushroomrisotto']], ['mushroomrisotto', ['truffle', 'try']]]\n",
      "[['food', []], ['service', []], ['ambience', []], ['everything', ['great']], ['pizzaunique', ['try']]]\n",
      "[['food', ['love']], ['love', ['great', 'food']], ['pastamilk', ['staff']], ['staff', ['pastamilk', 'shake', 'attentive']], ['prompt', []], ['truffle', ['fries']], ['rochemilk', ['milkshake']], ['milkshake', ['rochemilk', 'recommend']]]\n"
     ]
    }
   ],
   "source": [
    "# check on the sublist to see if code is working\n",
    "for k in comments_list_small:\n",
    "    x = aspect_conversion(k)\n",
    "    print(x)"
   ]
  },
  {
   "cell_type": "code",
   "execution_count": null,
   "metadata": {
    "colab": {
     "base_uri": "https://localhost:8080/"
    },
    "id": "BGLLiL3k2bg1",
    "outputId": "53d56409-f9b7-4aba-8282-d58fac78a909"
   },
   "outputs": [
    {
     "name": "stdout",
     "output_type": "stream",
     "text": [
      "Went for lunch to celebrate my momis birthday Good food nice ambience excellent service by Manager Ruel and team\n"
     ]
    },
    {
     "data": {
      "text/plain": [
       "[['lunch', []],\n",
       " ['celebrate', ['birthday', 'ambience']],\n",
       " ['momis', ['birthday']],\n",
       " ['birthday', ['momis', 'celebrate']],\n",
       " ['food', ['good', 'ambience']],\n",
       " ['ambience', ['food', 'nice', 'celebrate']],\n",
       " ['service', ['excellent']],\n",
       " ['managerruel', []],\n",
       " ['team', []]]"
      ]
     },
     "execution_count": 25,
     "metadata": {
      "tags": []
     },
     "output_type": "execute_result"
    }
   ],
   "source": [
    "print(comments_list[200])\n",
    "aspect_conversion(comments_list[200])"
   ]
  },
  {
   "cell_type": "code",
   "execution_count": null,
   "metadata": {
    "colab": {
     "base_uri": "https://localhost:8080/"
    },
    "id": "V_-tcDB42_He",
    "outputId": "8f60e140-9c5a-4305-e7de-3434587efc06"
   },
   "outputs": [
    {
     "name": "stdout",
     "output_type": "stream",
     "text": [
      "Food quality is very good for both dishes and dim sum Staff are warm and provide excellent service\n"
     ]
    },
    {
     "data": {
      "text/plain": [
       "[['foodquality', ['good']],\n",
       " ['staff', ['sum', 'warm']],\n",
       " ['provide', ['service']],\n",
       " ['service', ['excellent', 'provide']]]"
      ]
     },
     "execution_count": 26,
     "metadata": {
      "tags": []
     },
     "output_type": "execute_result"
    }
   ],
   "source": [
    "print(comments_list[222])\n",
    "aspect_conversion(comments_list[222])"
   ]
  },
  {
   "cell_type": "code",
   "execution_count": null,
   "metadata": {
    "colab": {
     "base_uri": "https://localhost:8080/"
    },
    "id": "MVr3gtJy2thV",
    "outputId": "1cfca044-e0c5-4517-8500-753ab2d2a674"
   },
   "outputs": [
    {
     "name": "stdout",
     "output_type": "stream",
     "text": [
      "Food is nice and service is great My family enjoyed the dinner and the services rendered We have ordered Peking duck crispy roasted chicken prawns vegetables and other special recommendations by the staff Food served are fresh and most importantly no MSG\n"
     ]
    },
    {
     "data": {
      "text/plain": [
       "[['food', ['nice']],\n",
       " ['service', ['great']],\n",
       " ['family', ['enjoyed']],\n",
       " ['dinner', ['enjoyed']],\n",
       " ['peking', ['vegetables']],\n",
       " ['duckcrispy', ['vegetables']]]"
      ]
     },
     "execution_count": 27,
     "metadata": {
      "tags": []
     },
     "output_type": "execute_result"
    }
   ],
   "source": [
    "print(comments_list[777])\n",
    "aspect_conversion(comments_list[777])"
   ]
  },
  {
   "cell_type": "code",
   "execution_count": null,
   "metadata": {
    "id": "7rQJymhV213l"
   },
   "outputs": [],
   "source": []
  }
 ],
 "metadata": {
  "colab": {
   "collapsed_sections": [],
   "name": "aspect-based-sentiment-analysis.ipynb",
   "provenance": []
  },
  "kernelspec": {
   "display_name": "Python 3",
   "language": "python",
   "name": "python3"
  },
  "language_info": {
   "codemirror_mode": {
    "name": "ipython",
    "version": 3
   },
   "file_extension": ".py",
   "mimetype": "text/x-python",
   "name": "python",
   "nbconvert_exporter": "python",
   "pygments_lexer": "ipython3",
   "version": "3.7.7"
  }
 },
 "nbformat": 4,
 "nbformat_minor": 1
}
