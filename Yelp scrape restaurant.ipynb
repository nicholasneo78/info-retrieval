{
 "cells": [
  {
   "cell_type": "code",
   "execution_count": 1,
   "metadata": {},
   "outputs": [],
   "source": [
    "from requests import get\n",
    "import matplotlib.pyplot as plt\n",
    "from bs4 import BeautifulSoup\n",
    "import pandas as pd\n",
    "from time import sleep\n",
    "from random import randint\n",
    "from time import time \n",
    "from IPython.core.display import clear_output\n",
    "from warnings import warn"
   ]
  },
  {
   "cell_type": "code",
   "execution_count": 2,
   "metadata": {},
   "outputs": [],
   "source": [
    "url = 'https://www.yelp.com/search?find_desc=Restaurants&find_loc=Singapore&start=0'\n",
    "response = get(url)\n",
    "html_soup = BeautifulSoup(response.text, 'html.parser')"
   ]
  },
  {
   "cell_type": "code",
   "execution_count": 3,
   "metadata": {
    "scrolled": true
   },
   "outputs": [
    {
     "name": "stdout",
     "output_type": "stream",
     "text": [
      "<class 'bs4.element.ResultSet'>\n",
      "10\n"
     ]
    }
   ],
   "source": [
    "res_containers = html_soup.find_all('div', class_ = 'container__09f24__21w3G hoverable__09f24__2nTf3 margin-t3__09f24__5bM2Z margin-b3__09f24__1DQ9x padding-t3__09f24__-R_5x padding-r3__09f24__1pBFG padding-b3__09f24__1vW6j padding-l3__09f24__1yCJf border--top__09f24__1H_WE border--right__09f24__28idl border--bottom__09f24__2FjZW border--left__09f24__33iol border-color--default__09f24__R1nRO')\n",
    "print(type(res_containers))\n",
    "print(len(res_containers))"
   ]
  },
  {
   "cell_type": "code",
   "execution_count": 4,
   "metadata": {
    "scrolled": true
   },
   "outputs": [
    {
     "data": {
      "text/plain": [
       "<div class=\"container__09f24__21w3G hoverable__09f24__2nTf3 margin-t3__09f24__5bM2Z margin-b3__09f24__1DQ9x padding-t3__09f24__-R_5x padding-r3__09f24__1pBFG padding-b3__09f24__1vW6j padding-l3__09f24__1yCJf border--top__09f24__1H_WE border--right__09f24__28idl border--bottom__09f24__2FjZW border--left__09f24__33iol border-color--default__09f24__R1nRO\"><div class=\"border-color--default__09f24__R1nRO\"><div class=\"arrange__09f24__AiSIM border-color--default__09f24__R1nRO\"><div class=\"arrange-unit__09f24__1gZC1 border-color--default__09f24__R1nRO\"><div class=\"border-color--default__09f24__R1nRO\"><div class=\"display--inline-block__09f24__FsgS4 margin-r3__09f24__2CcgQ border-color--default__09f24__R1nRO\"><div class=\"border-color--default__09f24__R1nRO\"><div class=\"container__09f24__2BlDc dontTriggerCardClick__09f24__2GWZF container--responsive__09f24__1BXoY container__09f24__1SkkV border-color--default__09f24__R1nRO\" data-slidenum=\"0\"><div aria-label=\"Slideshow\" class=\"container__09f24__15LDH border-color--default__09f24__R1nRO\"><div class=\"child__09f24__27sCM border-color--default__09f24__R1nRO\" style=\"transition:transform 150ms ease-in-out\"><div class=\"on-click-container border-color--default__09f24__R1nRO\"><a class=\"link__09f24__1kwXV photo-box-link__09f24__28L0f link-color--blue-dark__09f24__2DRa0 link-size--default__09f24__3xWLF\" href=\"/biz/sungei-road-laksa-singapore-2?osq=Restaurants\" name=\"\" rel=\"\" target=\"\"><img alt=\"Sungei Road Laksa\" class=\"photo-box-img__09f24__3F3c5\" draggable=\"true\" height=\"100%\" loading=\"auto\" src=\"https://s3-media0.fl.yelpcdn.com/bphoto/TD2qcEtt-AEJ0U0JAIeRpQ/ls.jpg\" srcset=\"https://s3-media0.fl.yelpcdn.com/bphoto/TD2qcEtt-AEJ0U0JAIeRpQ/258s.jpg 1.03x,https://s3-media0.fl.yelpcdn.com/bphoto/TD2qcEtt-AEJ0U0JAIeRpQ/348s.jpg 1.39x,https://s3-media0.fl.yelpcdn.com/bphoto/TD2qcEtt-AEJ0U0JAIeRpQ/300s.jpg 1.20x\" width=\"100%\"/></a></div></div><div aria-label=\"Previous\" class=\"button__09f24__19-FT left__09f24__cBAtS disabled__09f24__3LYYR border-color--default__09f24__R1nRO\" role=\"button\" tabindex=\"0\"><span aria-hidden=\"true\" class=\"icon--24-chevron-left-v2 css-4p40fi\"><svg class=\"icon_svg\" height=\"24\" width=\"24\"><path d=\"M14.25 17.58a1 1 0 01-.71-.3L9 12.7a1 1 0 010-1.4l4.5-4.58A1 1 0 0115 6.7a1 1 0 010 1.42L11.15 12 15 15.88a1 1 0 010 1.42 1 1 0 01-.75.28z\"></path></svg></span></div><div aria-label=\"Next\" class=\"button__09f24__19-FT right__09f24__3E7bL disabled__09f24__3LYYR border-color--default__09f24__R1nRO\" role=\"button\" tabindex=\"0\"><span aria-hidden=\"true\" class=\"icon--24-chevron-right-v2 css-4p40fi\"><svg class=\"icon_svg\" height=\"24\" width=\"24\"><path d=\"M9.75 17.58a1 1 0 01-.7-.28 1 1 0 010-1.42l3.8-3.88L9 8.12a1 1 0 111.41-1.42L15 11.3a1 1 0 010 1.4l-4.5 4.58a1 1 0 01-.75.3z\"></path></svg></span></div></div></div></div></div></div></div><div class=\"arrange-unit__09f24__1gZC1 arrange-unit-fill__09f24__O6JFU border-color--default__09f24__R1nRO\"><div class=\"border-color--default__09f24__R1nRO\"><div class=\"scrollablePhotos__09f24__1PpB8 arrange__09f24__AiSIM border-color--default__09f24__R1nRO\"><div class=\"mainAttributes__09f24__26-vh arrange-unit__09f24__1gZC1 arrange-unit-fill__09f24__O6JFU border-color--default__09f24__R1nRO\"><div class=\"border-color--default__09f24__R1nRO\"><div class=\"border-color--default__09f24__R1nRO\"><div class=\"businessName__09f24__3Wql2 display--inline-block__09f24__FsgS4 border-color--default__09f24__R1nRO\"><div class=\"border-color--default__09f24__R1nRO\"><h4 class=\"heading--h4__09f24__2ijYq alternate__09f24__39r7c\"><span class=\"text__09f24__2tZKC text-color--black-regular__09f24__1QxyO text-align--left__09f24__3Drs0 text-weight--bold__09f24__WGVdT text-size--inherit__09f24__2rwpp\">1<!-- -->. <a class=\"link__09f24__1kwXV link-color--inherit__09f24__3PYlA link-size--inherit__09f24__2Uj95\" href=\"/biz/sungei-road-laksa-singapore-2?osq=Restaurants\" name=\"Sungei Road Laksa\" rel=\"\" target=\"\">Sungei Road Laksa</a></span></h4></div></div></div><div class=\"border-color--default__09f24__R1nRO\"><div class=\"display--inline-block__09f24__FsgS4 border-color--default__09f24__R1nRO\"><div class=\"border-color--default__09f24__R1nRO\"><div class=\"attribute__09f24__3znwq display--inline-block__09f24__FsgS4 margin-r1__09f24__BCulR border-color--default__09f24__R1nRO\"><span class=\"display--inline__09f24__3iACj border-color--default__09f24__R1nRO\"><div aria-label=\"4.5 star rating\" class=\"i-stars__09f24__1T6rz i-stars--regular-4-half__09f24__1YrPo border-color--default__09f24__R1nRO overflow--hidden__09f24__3u-sw\" role=\"img\"><img alt=\"\" class=\"offscreen__09f24__1VFco\" height=\"560\" src=\"https://s3-media0.fl.yelpcdn.com/assets/public/stars_v2.yji-52d3d7a328db670d4402843cbddeed89.png\" width=\"132\"/></div></span></div><div class=\"attribute__09f24__3znwq display--inline-block__09f24__FsgS4 border-color--default__09f24__R1nRO\"><span class=\"text__09f24__2tZKC reviewCount__09f24__EUXPN text-color--black-extra-light__09f24__38DtK text-align--left__09f24__3Drs0\">69</span></div></div></div></div><div class=\"border-color--default__09f24__R1nRO\"><div class=\"priceCategory__09f24__2IbAM display--inline-block__09f24__FsgS4 border-color--default__09f24__R1nRO\"><div class=\"border-color--default__09f24__R1nRO\"><span class=\"display--inline__09f24__3iACj border-color--default__09f24__R1nRO\"><span class=\"text__09f24__2tZKC priceRange__09f24__2O6le text-color--black-extra-light__09f24__38DtK text-align--left__09f24__3Drs0 text-bullet--after__09f24__1MWoX\">$</span></span><span class=\"display--inline__09f24__3iACj border-color--default__09f24__R1nRO\"><span class=\"display--inline__09f24__3iACj border-color--default__09f24__R1nRO\"><span class=\"text__09f24__2tZKC text-color--black-extra-light__09f24__38DtK text-align--left__09f24__3Drs0 text-size--inherit__09f24__2rwpp\"><a class=\"link__09f24__1kwXV link-color--inherit__09f24__3PYlA link-size--default__09f24__3xWLF\" href=\"/search?cflt=singaporean&amp;find_desc=Restaurants&amp;find_loc=Singapore\" name=\"\" rel=\"\" role=\"link\" target=\"\">Singaporean</a>, </span></span><span class=\"display--inline__09f24__3iACj border-color--default__09f24__R1nRO\"><span class=\"text__09f24__2tZKC text-color--black-extra-light__09f24__38DtK text-align--left__09f24__3Drs0 text-size--inherit__09f24__2rwpp\"><a class=\"link__09f24__1kwXV link-color--inherit__09f24__3PYlA link-size--default__09f24__3xWLF\" href=\"/search?cflt=chinese&amp;find_desc=Restaurants&amp;find_loc=Singapore\" name=\"\" rel=\"\" role=\"link\" target=\"\">Chinese</a>, </span></span><span class=\"display--inline__09f24__3iACj border-color--default__09f24__R1nRO\"><span class=\"text__09f24__2tZKC text-color--black-extra-light__09f24__38DtK text-align--left__09f24__3Drs0 text-size--inherit__09f24__2rwpp\"><a class=\"link__09f24__1kwXV link-color--inherit__09f24__3PYlA link-size--default__09f24__3xWLF\" href=\"/search?cflt=noodles&amp;find_desc=Restaurants&amp;find_loc=Singapore\" name=\"\" rel=\"\" role=\"link\" target=\"\">Noodles</a></span></span></span></div></div></div></div></div><div class=\"secondaryAttributes__09f24__3db5x arrange-unit__09f24__1gZC1 border-color--default__09f24__R1nRO\"><div class=\"container__09f24__1fWZl padding-l2__09f24__2MHQ3 border-color--default__09f24__R1nRO text-align--right__09f24__wJEQr\"><div class=\"border-color--default__09f24__R1nRO\"><div class=\"display--inline-block__09f24__FsgS4 border-color--default__09f24__R1nRO\"><div class=\"border-color--default__09f24__R1nRO\"><p class=\"text__09f24__2tZKC text-color--black-extra-light__09f24__38DtK text-align--right__09f24__1TIxB text-size--small__09f24__1Z_UI\"><span class=\"raw__09f24__3Obuy\">Located in <a href=\"/biz/gourmet-street-singapore\">Gourmet Street</a></span></p></div></div></div><div class=\"margin-b1__09f24__1647o border-color--default__09f24__R1nRO\"><div class=\"border-color--default__09f24__R1nRO\"><div class=\"display--inline-block__09f24__FsgS4 border-color--default__09f24__R1nRO\"><div class=\"border-color--default__09f24__R1nRO\"><p class=\"text__09f24__2tZKC text-color--black-extra-light__09f24__38DtK text-align--right__09f24__1TIxB text-size--small__09f24__1Z_UI\">Lavender</p></div></div></div></div></div></div></div></div><div class=\"border-color--default__09f24__R1nRO\"><div class=\"display--inline-block__09f24__FsgS4 margin-t1__09f24__3OFkY border-color--default__09f24__R1nRO\"><div class=\"border-color--default__09f24__R1nRO\"><div class=\"arrange__09f24__AiSIM gutter-auto__09f24__2WJTk vertical-align-middle__09f24__zNCcM border-color--default__09f24__R1nRO\"><div class=\"arrange-unit__09f24__1gZC1 arrange-unit-fill__09f24__O6JFU border-color--default__09f24__R1nRO\"><p class=\"text__09f24__2tZKC text-color--black-extra-light__09f24__38DtK text-align--left__09f24__3Drs0\">“Nice laksa, will definitely come back for more, i lile laksa too so this is perfect! Laksa is like laksa”<span class=\"text__09f24__2tZKC text-color--inherit__09f24__1jgBv text-align--left__09f24__3Drs0 text-size--inherit__09f24__2rwpp\"> <a class=\"link__09f24__1kwXV link-color--blue-dark__09f24__2DRa0 link-size--inherit__09f24__2Uj95\" href=\"/biz/sungei-road-laksa-singapore-2?hrid=D5o_qvckmJHpvwfoenKOjw&amp;osq=Restaurants\" name=\"\" rel=\"\" target=\"\">more</a></span></p></div></div></div></div></div><div class=\"border-color--default__09f24__R1nRO\"></div></div></div></div></div>"
      ]
     },
     "execution_count": 4,
     "metadata": {},
     "output_type": "execute_result"
    }
   ],
   "source": [
    "first_res = res_containers[0]\n",
    "first_res"
   ]
  },
  {
   "cell_type": "code",
   "execution_count": 5,
   "metadata": {},
   "outputs": [
    {
     "name": "stdout",
     "output_type": "stream",
     "text": [
      "Restaurant name: Sungei Road Laksa\n"
     ]
    }
   ],
   "source": [
    "res_name=first_res.div.h4.a.text\n",
    "print(\"Restaurant name: \"+res_name)"
   ]
  },
  {
   "cell_type": "code",
   "execution_count": 6,
   "metadata": {},
   "outputs": [
    {
     "name": "stdout",
     "output_type": "stream",
     "text": [
      "No. of ratings: 69\n"
     ]
    }
   ],
   "source": [
    "no_rate=first_res.div.find('span', class_= 'text__09f24__2tZKC reviewCount__09f24__EUXPN text-color--black-extra-light__09f24__38DtK text-align--left__09f24__3Drs0').text\n",
    "print(\"No. of ratings: \"+no_rate)"
   ]
  },
  {
   "cell_type": "code",
   "execution_count": 7,
   "metadata": {},
   "outputs": [],
   "source": [
    "res_type=first_res.find_all('a', class_= 'link__09f24__1kwXV link-color--inherit__09f24__3PYlA link-size--default__09f24__3xWLF')"
   ]
  },
  {
   "cell_type": "code",
   "execution_count": 8,
   "metadata": {},
   "outputs": [
    {
     "name": "stdout",
     "output_type": "stream",
     "text": [
      "Restaurant type:\n",
      "Singaporean\n",
      "Chinese\n",
      "Noodles\n"
     ]
    }
   ],
   "source": [
    "print(\"Restaurant type:\")\n",
    "for res in res_type:\n",
    "    print(res.get_text())"
   ]
  },
  {
   "cell_type": "code",
   "execution_count": 9,
   "metadata": {},
   "outputs": [],
   "source": [
    "aff=first_res.find_all('span', class_='text__09f24__2tZKC priceRange__09f24__2O6le text-color--black-extra-light__09f24__38DtK text-align--left__09f24__3Drs0 text-bullet--after__09f24__1MWoX')"
   ]
  },
  {
   "cell_type": "code",
   "execution_count": 10,
   "metadata": {},
   "outputs": [
    {
     "name": "stdout",
     "output_type": "stream",
     "text": [
      "affordability: $\n"
     ]
    }
   ],
   "source": [
    "for af in aff:\n",
    "    print(\"affordability: \"+af.get_text())"
   ]
  },
  {
   "cell_type": "code",
   "execution_count": 11,
   "metadata": {},
   "outputs": [
    {
     "name": "stdout",
     "output_type": "stream",
     "text": [
      "Affordability: $\n"
     ]
    }
   ],
   "source": [
    "# alternatively\n",
    "aff=first_res.find('span', class_='text__09f24__2tZKC priceRange__09f24__2O6le text-color--black-extra-light__09f24__38DtK text-align--left__09f24__3Drs0 text-bullet--after__09f24__1MWoX')\n",
    "print(f'Affordability: {aff.get_text()}')"
   ]
  },
  {
   "cell_type": "code",
   "execution_count": 12,
   "metadata": {},
   "outputs": [],
   "source": [
    "rate=first_res.find('span', class_='display--inline__09f24__3iACj border-color--default__09f24__R1nRO').div['aria-label']"
   ]
  },
  {
   "cell_type": "code",
   "execution_count": 13,
   "metadata": {
    "scrolled": true
   },
   "outputs": [
    {
     "name": "stdout",
     "output_type": "stream",
     "text": [
      "Ratings: 4.5 star rating\n",
      "4.5 star rating\n"
     ]
    },
    {
     "data": {
      "text/plain": [
       "str"
      ]
     },
     "execution_count": 13,
     "metadata": {},
     "output_type": "execute_result"
    }
   ],
   "source": [
    "print(\"Ratings: \"+rate)\n",
    "print(rate)\n",
    "type(rate)"
   ]
  },
  {
   "cell_type": "code",
   "execution_count": 14,
   "metadata": {},
   "outputs": [
    {
     "name": "stdout",
     "output_type": "stream",
     "text": [
      "yelp.com/biz/sungei-road-laksa-singapore-2?osq=Restaurants\n"
     ]
    }
   ],
   "source": [
    "reviews_link=first_res.find('a')\n",
    "reviews_link=\"yelp.com\"+reviews_link['href']\n",
    "print(reviews_link)"
   ]
  },
  {
   "cell_type": "code",
   "execution_count": 15,
   "metadata": {},
   "outputs": [],
   "source": [
    "start = [str(i) for i in range(0, 231, 10)]"
   ]
  },
  {
   "cell_type": "code",
   "execution_count": 16,
   "metadata": {},
   "outputs": [
    {
     "name": "stdout",
     "output_type": "stream",
     "text": [
      "['0', '10', '20', '30', '40', '50', '60', '70', '80', '90', '100', '110', '120', '130', '140', '150', '160', '170', '180', '190', '200', '210', '220', '230'] "
     ]
    }
   ],
   "source": [
    "# debug\n",
    "print(start, end = ' ')"
   ]
  },
  {
   "cell_type": "code",
   "execution_count": 17,
   "metadata": {},
   "outputs": [
    {
     "name": "stdout",
     "output_type": "stream",
     "text": [
      "Request:24; Frequency: 0.07140750071381044 requests/s\n"
     ]
    }
   ],
   "source": [
    "# Redeclaring the lists to store data in\n",
    "names = []\n",
    "no_ratings = []\n",
    "res_types = []\n",
    "xres_types = []\n",
    "affords = []\n",
    "ratings = []\n",
    "reviews_links = []\n",
    "\n",
    "# Preparing the monitoring of the loop\n",
    "start_time = time()\n",
    "requests = 0\n",
    "\n",
    "# For every restaurant in the interval of 10\n",
    "for sta in start:\n",
    "    # Make a get request\n",
    "    response = get('https://www.yelp.com/search?find_desc=Restaurants&find_loc=Singapore&start='+sta)\n",
    "\n",
    "    # Pause the loop\n",
    "    sleep(randint(8,15))\n",
    "\n",
    "    # Monitor the requests\n",
    "    requests += 1\n",
    "    elapsed_time = time() - start_time\n",
    "    print('Request:{}; Frequency: {} requests/s'.format(requests, requests/elapsed_time))\n",
    "    clear_output(wait = True)\n",
    "\n",
    "    # Throw a warning for non-200 status codes\n",
    "    if response.status_code != 200:\n",
    "        warn('Request: {}; Status code: {}'.format(requests, response.status_code))\n",
    "\n",
    "    # Break the loop if the number of requests is greater than expected\n",
    "    if requests > 25:\n",
    "        warn('Number of requests was greater than expected.')\n",
    "        break\n",
    "\n",
    "    # Parse the content of the request with BeautifulSoup\n",
    "    page_html = BeautifulSoup(response.text, 'html.parser')\n",
    "\n",
    "    # Select all the 10 restaurant containers from a single page\n",
    "    re_containers = page_html.find_all('div', class_ = 'container__09f24__21w3G hoverable__09f24__2nTf3 margin-t3__09f24__5bM2Z margin-b3__09f24__1DQ9x padding-t3__09f24__-R_5x padding-r3__09f24__1pBFG padding-b3__09f24__1vW6j padding-l3__09f24__1yCJf border--top__09f24__1H_WE border--right__09f24__28idl border--bottom__09f24__2FjZW border--left__09f24__33iol border-color--default__09f24__R1nRO')\n",
    "\n",
    "    # For every restaurants in 10\n",
    "    for res in re_containers:\n",
    "        # If the restaurant has an Afford, then:\n",
    "        #if res.find('span', class_='text__09f24__2tZKC priceRange__09f24__2O6le text-color--black-extra-light__09f24__38DtK text-align--left__09f24__3Drs0 text-bullet--after__09f24__1MWoX') is not None:\n",
    "\n",
    "        # Scrape the name\n",
    "        name = res.div.h4.a.text\n",
    "        names.append(name)\n",
    "\n",
    "        # Scrape the no. of ratings\n",
    "        no_rating = res.div.find('span', class_= 'text__09f24__2tZKC reviewCount__09f24__EUXPN text-color--black-extra-light__09f24__38DtK text-align--left__09f24__3Drs0').text\n",
    "        no_ratings.append(no_rating)\n",
    "\n",
    "        # Scrape the restaurant type\n",
    "        res_type = res.find_all('a', class_= 'link__09f24__1kwXV link-color--inherit__09f24__3PYlA link-size--default__09f24__3xWLF')\n",
    "        for re in res_type:\n",
    "            xres_types.append(re.get_text())\n",
    "        res_types.append(xres_types)\n",
    "        xres_types=[]\n",
    "\n",
    "        # Scrape the affordability\n",
    "        if res.find('span', class_='text__09f24__2tZKC priceRange__09f24__2O6le text-color--black-extra-light__09f24__38DtK text-align--left__09f24__3Drs0 text-bullet--after__09f24__1MWoX') is not None:\n",
    "            aff = res.find_all('span', class_='text__09f24__2tZKC priceRange__09f24__2O6le text-color--black-extra-light__09f24__38DtK text-align--left__09f24__3Drs0 text-bullet--after__09f24__1MWoX')\n",
    "            for af in aff:\n",
    "                affords.append(af.get_text())\n",
    "        else:\n",
    "            affords.append(\"N/A\")\n",
    "\n",
    "        # Scrape the rating\n",
    "        rate = res.find('span', class_='display--inline__09f24__3iACj border-color--default__09f24__R1nRO').div['aria-label']\n",
    "        ratings.append(rate)\n",
    "        \n",
    "        #Scrape the review link\n",
    "        reviews_link=res.find('a')\n",
    "        reviews_link=\"yelp.com\"+reviews_link['href']\n",
    "        reviews_links.append(reviews_link)"
   ]
  },
  {
   "cell_type": "code",
   "execution_count": 18,
   "metadata": {
    "scrolled": true
   },
   "outputs": [
    {
     "name": "stdout",
     "output_type": "stream",
     "text": [
      "['Sungei Road Laksa', 'Tian Tian Hainanese Chicken Rice', 'Coriander Leaf', 'Holycrab', 'Burnt Ends', 'Jumbo Seafood', 'Song Fa Bak Kut Teh', 'Two Men Bagel House', 'Din Tai Fung', 'Usman Restaurant', 'Tim Ho Wan', 'Vatos Urban Tacos', 'Cibo Italiano', 'National Kitchen By Violet Oon', 'Hong Kong Style Chee Cheong Fun', 'Stuttgart Blackforest Boutique S-Cafe', 'Artichoke Cafe & Bar', 'The Sushi Bar', 'The Coconut Club', 'Hokkaido Ramen Santouka', 'Swee Choon Tim Sum', 'Pek Kio Market & Food Centre', 'The Butcher’s Wife', 'Lavender Food Hub', 'Wee Nam Kee Chicken Rice', 'Two Men Bagel House', 'Yakinikutei Ao-Chan', 'Outram Park Fried Kway Teow Mee', 'FOC', 'Lighthouse Bistro', 'Rui Xiang Restaurant', 'Zhong Guo La Mian Xiao Long Bao', 'Hui Ji Local Delights', 'Mrs Pho House Rangoon', 'Liao Fan Hawker Chan', 'Momiji Japanese Buffet Restaurant', 'Lang Nuong Viet Nam', 'Sawadee Thai Cuisine', 'The Banana Leaf Apolo', 'La Strada', 'PS Cafe', 'CUT', 'Wolf Burgers', 'Tai Hwa Pork Noodle', 'Kampong Glam Cafe', 'Mrs Pho', 'Nanyang Old Taste', 'Brunches Cafe', 'Once Upon A Thyme', 'Din Tai Fung', 'Five Star Hainanese Chicken Rice', 'Dancing Crab', 'Penang Seafood Restaurant', 'Man Man Japanese Unagi', 'Shake Shack', 'Mei Toy Thai Food', 'Black Tap', 'Waku Ghin', 'Din Tai Fung', 'Three Buns', 'Khansama Tandoori', 'Everest Kitchen', 'Riverside Indonesian BBQ', 'Beef Yakiniku Dining Yakiniquest', 'Da Lian Traditional Noodles', 'Zam Zam Restaurant', 'Yardbird Southern Table & Bar', 'Happy Crab', 'Isle Eating House', 'Old Airport Road Food Centre', 'A Noodle Story', 'Barking Irons', 'The Royals Steakhouse', 'Komala Vilas Restaurant', 'Food Republic', 'SBCD Tofu Millenia Walk', 'Lai Wah Restaurant', '328 Katong Laksa', 'Enchanted Cafe', 'The Other Room', 'Beach Road Kitchen', 'Escape Restaurant & Lounge', 'Hong Kong Street Family Restaurant', 'LDM Charcoal BBQ Restaurant', 'JB Ah Meng', 'Granny’s Pancake', 'Tolido’s Espresso Nook', 'edge', 'My Little Spanish Place', 'Fat Cow', 'Seiwaa Okonomiyaki & Teppanyaki Restaurant', 'Waa Cow! Sushi Bar', 'Dolphins', 'Founder Bak Kut Teh', 'Hawkerman', 'Crystal Jade Steamboat', 'Satay By The Bay', 'Shabu Shabu Gen', 'Culina', 'Origin Grill & Bar', 'The Naked Finn', 'Blue Label Pizza & Wine', 'Fook Kin', 'Ash & Elm', 'Soi 47 Thai Food', 'Joyden Treasures', 'Kamome Bakery', 'Ki-sho', 'Zazz Pizza', 'Yakiniku Yazawa', 'Haramiya Japanese BBQ Restaurant', 'Hawaiian Kitchen ALOHA Ma Maison', 'Golden Jade Restaurant Culinary Group', 'Tanglin Food Hall', 'Old Street Bak Kut Teh', '旺角點心 Mongkok Dim Sum', 'Puglia Alfresco Pizza Bar', 'Hainanese Delicacy Chicken Rice', 'Ippudo', 'Fat Bird', 'Five Oars Coffee Roasters', 'Tian Fu Tea Room', 'Jumbo', 'Johor Road Boon Kee Pork Porridge', 'The Original Katong Laksa', 'Jumbo Seafood', 'Knots Cafe & Living', '來姐家', 'Empress', 'Imperial Treasure Fine Chinese Cuisine', 'Sichuan Village restaurant', 'Sushiro', 'Bigmama', 'Wing Seong Fatty’s', 'Club55', 'NUDE Seafood', 'Tono Cevicheria', 'Famous Sungei Road Trishaw Laksa', 'Going Om', 'Chui Huay Lim Teochew Cusine', 'Forty Hands East Coast', 'Warehouse Bistro', 'Shinji By Kanesaka', 'MTR 1924', 'Santa Fe All American Tex-Mex Grill', 'Sidewalk Food Place', 'Shang Palace', 'Botanist', 'Blanco Court Prawn Mee', 'Paulaner Bräuhaus Singapore', 'The Marmalade Pantry', 'Ippudo', 'Magurodonya Miuramisakikou Sushi', 'Tiong Bahru Bakery', 'Torasho Ramen & Charcoal Bar', 'Kaiserhaus', 'Fat Belly', 'Redpan', 'Curate', 'Publico', 'JustIN Flavours of Asia', 'Som Tam', 'Vietnamese Stall - Sim Lim Square Food Court', 'Ah Tai Hainanese Chicken Rice', 'Pasarbella', 'Kai Sushi And Robatayaki', 'The Black Swan', 'Luke’s Oyster Bar & Chop House', 'Keng Eng Kee Seafood', 'Yan kee Noodle House', 'Sushi Jin', 'Mr and Mrs Mohgan’s Super Crispy Roti Prata', 'Wang Dae Bak Korean BBQ', 'el Toro', 'Maison Ikkoku Restaurant & Bar', 'Violet Oon Satay & Grill', 'Heart of Darkness Singapore', 'Zhen Hao Lor Mee', 'Public House', 'Ippudo', 'Bak Chor Mee Lorong 5 Toa Payoh', 'Brazil Churrasco', 'CreatureS', 'Pu Dong Kitchen', 'Nagae', 'Nanjing Restaurant', 'Indocafe The White House', 'My Little Spanish Place', 'EL CUBANOS', 'Xiang Yuan Ji - Shanghai Sheng Jian Bao', 'Korean Fusion BBQ', 'The Clueless Goat', 'The American Taproom', 'Hai Di Lao', 'The RiceTable', 'Wheeler’s Yard', 'Astons Specialities', 'Earlybird', 'ShuKuu Izakaya', 'SKIRT', 'Grain Traders', 'Fatboy’s The Burger Bar', 'hans im glück', 'Byblos Grill', 'Crystal Jade Kitchen', 'Singapore Seafood Republic', 'Dumpling Darlings', 'Chef Kang’s Noodle House', 'Bread Yard', 'Minang House', 'Limaa', 'Pistachio', 'Vespetta Italian Gastro Bar', 'Yakitori @ Dickson', 'Crab Song', 'Gram', 'Super Loco Customs House', 'Salted & Hung', 'Soon Kee Wanton Mee', 'Red Stove Hokkien Prawn Mee']\n",
      "220\n",
      "['69', '378', '11', '17', '72', '179', '135', '76', '126', '35', '31', '89', '6', '38', '9', '2', '69', '41', '26', '57', '77', '9', '2', '2', '47', '18', '4', '26', '45', '1', '1', '29', '1', '4', '138', '1', '5', '14', '40', '16', '6', '51', '13', '84', '26', '56', '1', '24', '6', '49', '22', '6', '13', '21', '4', '2', '16', '19', '8', '7', '59', '7', '5', '2', '19', '94', '22', '13', '3', '62', '29', '1', '2', '65', '26', '2', '3', '84', '3', '15', '13', '4', '13', '2', '19', '1', '65', '23', '14', '33', '4', '2', '2', '14', '1', '2', '45', '1', '16', '1', '20', '4', '5', '8', '1', '4', '2', '11', '6', '18', '5', '2', '2', '4', '2', '9', '1', '39', '9', '9', '6', '3', '4', '5', '9', '9', '7', '1', '10', '6', '4', '1', '16', '16', '6', '4', '7', '8', '19', '13', '2', '3', '6', '34', '1', '1', '7', '6', '16', '25', '6', '3', '4', '71', '2', '2', '2', '4', '2', '9', '5', '3', '4', '56', '7', '3', '18', '13', '22', '2', '9', '31', '9', '2', '72', '10', '5', '2', '2', '24', '1', '17', '15', '6', '7', '2', '9', '3', '5', '5', '1', '16', '2', '40', '9', '23', '6', '1', '10', '8', '12', '18', '12', '9', '5', '8', '4', '2', '10', '4', '2', '10', '2', '1', '3', '2', '7', '14', '1', '1']\n",
      "220\n",
      "[['Singaporean', 'Chinese', 'Noodles'], ['Hainan', 'Chicken Shop'], ['Asian Fusion'], ['Singaporean', 'Chinese', 'Seafood'], ['Australian', 'Steakhouses', 'Barbeque'], ['Seafood'], ['Singaporean', 'Chinese'], ['Bagels', 'Breakfast & Brunch', 'Sandwiches'], ['Taiwanese', 'Dim Sum', 'Dumplings'], ['Indian'], ['Dim Sum', 'Cantonese'], ['Mexican'], ['Wine Bars', 'Italian', 'Imported Food'], ['Asian Fusion', 'Singaporean'], ['Chinese'], ['German'], ['Bars', 'Middle Eastern'], ['Sushi Bars', 'Japanese'], ['Nasi Lemak', 'Singaporean', 'Malaysian'], ['Ramen'], ['Dim Sum'], ['Coffee & Tea', 'Breakfast & Brunch'], ['Gluten-Free'], ['Food Court', 'Coffee & Tea'], ['Chicken Shop', 'Hainan'], ['Breakfast & Brunch', 'Bagels'], ['Japanese'], ['Singaporean', 'Food Stands', 'Noodles'], ['Tapas/Small Plates', 'Cocktail Bars', 'Spanish'], ['Bistros'], ['Singaporean'], ['Shanghainese', 'Dim Sum', 'Noodles'], ['Chinese'], ['Vietnamese'], ['Noodles', 'Chicken Shop'], ['Japanese', 'Buffets'], ['Vietnamese', 'Barbeque'], ['Thai'], ['Indian', 'Asian Fusion'], ['Italian'], ['Pizza'], ['American (Traditional)', 'Steakhouses'], ['Burgers'], ['Chinese', 'Noodles'], ['Indonesian'], ['Vietnamese'], ['Singaporean'], ['Coffee & Tea', 'Bakeries', 'Breakfast & Brunch'], ['Street Vendors', 'Italian'], ['Shanghainese', 'Taiwanese', 'Dumplings'], ['Chicken Shop', 'Hainan'], ['American (Traditional)', 'Seafood'], ['Malaysian', 'Seafood'], ['Japanese'], ['Burgers', 'Wine Bars', 'Hot Dogs'], ['Thai'], ['American (Traditional)', 'Burgers', 'Beer Bar'], ['Asian Fusion'], ['Taiwanese', 'Shanghainese', 'Dumplings'], ['Burgers', 'Cocktail Bars'], ['Indian'], ['Himalayan/Nepalese', 'Indian'], ['Indonesian', 'Barbeque'], ['Barbeque', 'Yakiniku'], ['Noodles', 'Teochew'], ['Indian', 'Halal'], ['American (Traditional)', 'Bars'], ['Seafood', 'Singaporean'], ['Coffee & Tea', 'Food Court', 'Asian Fusion'], ['Hawker Centre', 'Food Court'], ['Food Stands', 'Ramen', 'Singaporean'], ['Whiskey Bars', 'Cocktail Bars', 'Bistros'], ['Halal', 'Steakhouses'], ['Indian', 'Vegetarian'], ['Food Court'], ['Korean', 'Soup'], ['Chinese'], ['Singaporean'], ['Cafes'], ['Tapas/Small Plates', 'Cocktail Bars'], ['Breakfast & Brunch', 'Chinese', 'Buffets'], ['Lounges', 'Cafes'], ['Cantonese'], ['Chinese'], ['Chinese', 'Seafood'], ['Breakfast & Brunch', 'Coffee & Tea'], ['Breakfast & Brunch', 'Coffee & Tea'], ['Buffets'], ['Spanish'], ['Japanese', 'Steakhouses'], ['Teppanyaki'], ['Japanese', 'Sushi Bars'], ['Restaurants'], ['Singaporean'], ['Asian Fusion'], ['Cantonese', 'Soup', 'Do-It-Yourself Food'], ['Seafood', 'Barbeque'], ['Japanese'], ['Bistros', 'Specialty Food'], ['Bars', 'Steakhouses'], ['Seafood'], ['Pizza', 'Wine Bars'], ['Chinese'], ['Modern European'], ['Thai'], ['Chinese'], ['Bakeries', 'Japanese', 'Cafes'], ['Japanese', 'Sushi Bars'], ['Pizza', 'Italian'], ['Japanese', 'Barbeque', 'Steakhouses'], ['Barbeque', 'Japanese'], ['Hawaiian'], ['Szechuan'], ['Food Court'], ['Chinese'], ['Dim Sum'], ['Pizza', 'Italian'], ['Chicken Shop', 'Hainan'], ['Japanese'], ['Chinese'], ['Coffee Roasteries', 'Breakfast & Brunch'], ['Dim Sum', 'Tea Rooms'], ['Seafood', 'Singaporean'], ['Food Stands', 'Congee'], ['Singaporean'], ['Seafood', 'Singaporean'], ['Coffee & Tea', 'Breakfast & Brunch'], ['Szechuan', 'Imported Food'], ['Chinese', 'Asian Fusion', 'Singaporean'], ['Chinese'], ['Restaurants'], ['Conveyor Belt Sushi', 'Sushi Bars'], ['Korean'], ['Chinese', 'Asian Fusion', 'Bars'], ['Buffets'], ['Seafood'], ['Latin American'], ['Hawker Centre', 'Asian Fusion'], ['Bars', 'Cafes'], ['Teochew'], ['Cafes'], ['American (Traditional)', 'Italian', 'Singaporean'], ['Sushi Bars', 'Japanese'], ['Indian'], ['American (Traditional)'], ['Food Court'], ['Cantonese', 'Dim Sum'], ['Cafes'], ['Noodles'], ['German', 'Beer Bar'], ['Breakfast & Brunch', 'Cupcakes', 'Sandwiches'], ['Ramen'], ['Sushi Bars', 'Japanese'], ['Cafes', 'Bakeries'], ['Bars', 'Ramen'], ['Austrian', 'Bars'], ['Steakhouses'], ['Singaporean'], ['Pop-Up Restaurants'], ['Italian'], ['Singaporean'], ['Thai', 'Asian Fusion'], ['Vietnamese'], ['Chicken Shop', 'Hainan'], ['Desserts', 'Cafes'], ['Sushi Bars'], ['Bars', 'Bistros'], ['Steakhouses', 'Burgers', 'Bars'], ['Seafood'], ['Noodles'], ['Japanese'], ['Indian', 'Food Stands'], ['Korean', 'Barbeque'], ['Italian'], ['Cocktail Bars', 'Asian Fusion', 'Japanese'], ['Seafood', 'Singaporean'], ['Bars', 'Tapas/Small Plates', 'Gastropubs'], ['Hawker Centre', 'Singaporean'], ['Bars', 'Singaporean'], ['Bars', 'Ramen'], ['Food Court'], ['Brazilian'], ['Breakfast & Brunch', 'Asian Fusion', 'Singaporean'], ['Shanghainese'], ['Japanese'], ['Chinese'], ['Indonesian'], ['Tapas/Small Plates', 'Spanish'], ['Sandwiches', 'Halal', 'Pasta Shops'], ['Chinese'], ['Korean'], ['Coffee & Tea', 'Breakfast & Brunch'], ['Beer Bar', 'American (Traditional)'], ['Hot Pot', 'Szechuan'], ['Indonesian'], ['Cafes', 'Bikes'], ['American (Traditional)', 'Steakhouses'], ['Cafes', 'Breakfast & Brunch'], ['Izakaya'], ['Seafood', 'Steakhouses'], ['Cafes'], ['Burgers'], ['German', 'Burgers'], ['Lebanese'], ['Cantonese'], ['Seafood'], ['Chinese'], ['Noodles'], ['Bakeries', 'Breakfast & Brunch'], ['Indonesian'], ['Cafes'], ['Mediterranean', 'Middle Eastern'], ['Italian', 'Bars'], ['Japanese'], ['Seafood'], ['Pancakes', 'Cafes'], ['Cocktail Bars', 'Mexican'], ['Australian'], ['Singaporean'], ['Hokkien', 'Noodles']]\n",
      "220\n",
      "['$', '$', 'N/A', '$$$$', '$$$$', '$$$', '$', '$', '$$', '$', '$', '$$', '$$', '$$$', '$', 'N/A', '$$', '$$', 'N/A', '$$', '$', '$', 'N/A', 'N/A', '$', '$', 'N/A', '$', '$$$$', 'N/A', 'N/A', '$', 'N/A', 'N/A', '$', 'N/A', '$$', '$$', '$$', '$$$', 'N/A', '$$$$', '$$', '$', '$', '$', 'N/A', '$$', '$', '$$', '$$', '$$$$', '$', '$$', 'N/A', '$', 'N/A', '$$$$', '$$', 'N/A', '$$', 'N/A', '$', 'N/A', '$', '$', '$$$', '$$$', '$', '$', '$', 'N/A', 'N/A', '$', '$', 'N/A', 'N/A', '$', 'N/A', '$$', '$$', '$$', '$', '$$', '$$', '$', '$$', '$$$$', '$$$', '$$$$', 'N/A', 'N/A', '$$', '$$', 'N/A', 'N/A', '$', 'N/A', '$$$', 'N/A', '$$$', 'N/A', 'N/A', '$$$', 'N/A', '$$$$', 'N/A', '$$$$', 'N/A', '$$$$', '$$', 'N/A', '$$', 'N/A', '$$', '$', 'N/A', '$', 'N/A', '$$', '$$', 'N/A', 'N/A', 'N/A', 'N/A', '$$', 'N/A', 'N/A', '$$', '$$', '$$', 'N/A', '$$$', '$$', '$$', '$$', 'N/A', '$', '$$', '$$$', 'N/A', 'N/A', '$$$$', '$', 'N/A', '$', '$$$', 'N/A', 'N/A', '$$', '$$', '$', 'N/A', '$$', 'N/A', 'N/A', 'N/A', 'N/A', '$$$$', 'N/A', 'N/A', '$$', 'N/A', '$', '$$', 'N/A', '$$$$', '$$$$', '$$', 'N/A', '$$$', '$', '$', '$$', '$$', 'N/A', 'N/A', 'N/A', '$', '$$', 'N/A', '$$', '$$', 'N/A', '$$$', 'N/A', '$$', '$$$', 'N/A', '$', 'N/A', '$', 'N/A', '$$$', '$$', '$$', '$', 'N/A', '$$', '$$$$', '$$', '$$', 'N/A', '$$', '$', '$$$$', 'N/A', 'N/A', '$', 'N/A', 'N/A', 'N/A', 'N/A', 'N/A', 'N/A', 'N/A', 'N/A', '$$$', 'N/A', 'N/A']\n",
      "220\n",
      "['4.5 star rating', '4 star rating', '4.5 star rating', '4.5 star rating', '4.5 star rating', '4 star rating', '4 star rating', '4.5 star rating', '4.5 star rating', '4 star rating', '4.5 star rating', '4 star rating', '4 star rating', '4.5 star rating', '5 star rating', '4 star rating', '4 star rating', '4.5 star rating', '4 star rating', '4.5 star rating', '4 star rating', '4.5 star rating', '5 star rating', '4.5 star rating', '4 star rating', '5 star rating', '5 star rating', '4.5 star rating', '4.5 star rating', '5 star rating', '4 star rating', '4.5 star rating', '3 star rating', '5 star rating', '4 star rating', '4 star rating', '4.5 star rating', '4.5 star rating', '4 star rating', '4.5 star rating', '4.5 star rating', '4.5 star rating', '4.5 star rating', '4 star rating', '4 star rating', '4 star rating', '5 star rating', '4.5 star rating', '4.5 star rating', '4 star rating', '4.5 star rating', '4 star rating', '4 star rating', '5 star rating', '4 star rating', '4 star rating', '4 star rating', '4.5 star rating', '4.5 star rating', '4.5 star rating', '4 star rating', '4.5 star rating', '5 star rating', '4.5 star rating', '4 star rating', '4 star rating', '4.5 star rating', '4 star rating', '4.5 star rating', '4.5 star rating', '4.5 star rating', '4 star rating', '4.5 star rating', '4 star rating', '4 star rating', '4 star rating', '4.5 star rating', '4 star rating', '4.5 star rating', '4.5 star rating', '4.5 star rating', '4 star rating', '4 star rating', '4 star rating', '4.5 star rating', '4 star rating', '4.5 star rating', '4 star rating', '4 star rating', '4 star rating', '4.5 star rating', '4 star rating', '4 star rating', '4.5 star rating', '4 star rating', '3.5 star rating', '3.5 star rating', '4 star rating', '4 star rating', '5 star rating', '4.5 star rating', '5 star rating', '4 star rating', '4 star rating', '5 star rating', '4.5 star rating', '4 star rating', '4.5 star rating', '5 star rating', '4 star rating', '4 star rating', '4 star rating', '4.5 star rating', '4.5 star rating', '4 star rating', '4 star rating', '4 star rating', '4.5 star rating', '4 star rating', '4 star rating', '4.5 star rating', '4 star rating', '4.5 star rating', '4.5 star rating', '4.5 star rating', '4 star rating', '4.5 star rating', '5 star rating', '4.5 star rating', '4 star rating', '4.5 star rating', '4 star rating', '4 star rating', '4 star rating', '4.5 star rating', '4.5 star rating', '4.5 star rating', '4.5 star rating', '4.5 star rating', '4 star rating', '4.5 star rating', '4.5 star rating', '4.5 star rating', '4.5 star rating', '4 star rating', '4 star rating', '4.5 star rating', '4 star rating', '4.5 star rating', '3.5 star rating', '4 star rating', '4.5 star rating', '5 star rating', '4 star rating', '5 star rating', '4 star rating', '5 star rating', '4 star rating', '5 star rating', '4 star rating', '4.5 star rating', '4.5 star rating', '4.5 star rating', '4.5 star rating', '4 star rating', '4.5 star rating', '4 star rating', '4.5 star rating', '4 star rating', '4.5 star rating', '4 star rating', '4 star rating', '4 star rating', '4 star rating', '4 star rating', '4 star rating', '5 star rating', '4.5 star rating', '4.5 star rating', '4 star rating', '5 star rating', '4.5 star rating', '4 star rating', '4 star rating', '4 star rating', '4.5 star rating', '4 star rating', '4 star rating', '4 star rating', '4 star rating', '4 star rating', '4 star rating', '4.5 star rating', '4 star rating', '4.5 star rating', '3.5 star rating', '4.5 star rating', '4 star rating', '4 star rating', '4 star rating', '4 star rating', '4 star rating', '4 star rating', '4 star rating', '4 star rating', '4 star rating', '4.5 star rating', '5 star rating', '4 star rating', '5 star rating', '5 star rating', '4 star rating', '5 star rating', '4 star rating', '4 star rating', '4.5 star rating', '3.5 star rating', '4 star rating', '4 star rating', '4 star rating']\n",
      "220\n",
      "['yelp.com/biz/sungei-road-laksa-singapore-2?osq=Restaurants', 'yelp.com/biz/tian-tian-hainanese-chicken-rice-singapore-7?osq=Restaurants', 'yelp.com/biz/coriander-leaf-singapore-2?osq=Restaurants', 'yelp.com/biz/holycrab-singapore?osq=Restaurants', 'yelp.com/biz/burnt-ends-singapore?osq=Restaurants', 'yelp.com/biz/jumbo-seafood-singapore-4?osq=Restaurants', 'yelp.com/biz/song-fa-bak-kut-teh-singapore-11?osq=Restaurants', 'yelp.com/biz/two-men-bagel-house-singapore?osq=Restaurants', 'yelp.com/biz/din-tai-fung-singapore-5?osq=Restaurants', 'yelp.com/biz/usman-restaurant-singapore?osq=Restaurants', 'yelp.com/biz/tim-ho-wan-singapore-7?osq=Restaurants', 'yelp.com/biz/vatos-urban-tacos-singapore?osq=Restaurants', 'yelp.com/biz/cibo-italiano-singapore?osq=Restaurants', 'yelp.com/biz/national-kitchen-by-violet-oon-singapore-2?osq=Restaurants', 'yelp.com/biz/hong-kong-style-chee-cheong-fun-singapore-3?osq=Restaurants', 'yelp.com/biz/stuttgart-blackforest-boutique-s-cafe-singapore-2?osq=Restaurants', 'yelp.com/biz/artichoke-cafe-and-bar-singapore?osq=Restaurants', 'yelp.com/biz/the-sushi-bar-singapore?osq=Restaurants', 'yelp.com/biz/the-coconut-club-singapore?osq=Restaurants', 'yelp.com/biz/hokkaido-ramen-santouka-singapore?osq=Restaurants', 'yelp.com/biz/swee-choon-tim-sum-singapore?osq=Restaurants', 'yelp.com/biz/pek-kio-market-and-food-centre-singapore?osq=Restaurants', 'yelp.com/biz/the-butchers-wife-singapore?osq=Restaurants', 'yelp.com/biz/lavender-food-hub-singapore?osq=Restaurants', 'yelp.com/biz/wee-nam-kee-chicken-rice-singapore?osq=Restaurants', 'yelp.com/biz/two-men-bagel-house-singapore-4?osq=Restaurants', 'yelp.com/biz/yakinikutei-ao-chan-singapore?osq=Restaurants', 'yelp.com/biz/outram-park-fried-kway-teow-mee-singapore-2?osq=Restaurants', 'yelp.com/biz/foc-singapore?osq=Restaurants', 'yelp.com/biz/lighthouse-bistro-singapore?osq=Restaurants', 'yelp.com/biz/rui-xiang-restaurant-singapore?osq=Restaurants', 'yelp.com/biz/zhong-guo-la-mian-xiao-long-bao-singapore?osq=Restaurants', 'yelp.com/biz/hui-ji-local-delights-singapore-2?osq=Restaurants', 'yelp.com/biz/mrs-pho-house-rangoon-singapore?osq=Restaurants', 'yelp.com/biz/liao-fan-hawker-chan-singapore-3?osq=Restaurants', 'yelp.com/biz/momiji-japanese-buffet-restaurant-singapore?osq=Restaurants', 'yelp.com/biz/lang-nuong-viet-nam-singapore?osq=Restaurants', 'yelp.com/biz/sawadee-thai-cuisine-singapore-2?osq=Restaurants', 'yelp.com/biz/the-banana-leaf-apolo-singapore-2?osq=Restaurants', 'yelp.com/biz/la-strada-singapore?osq=Restaurants', 'yelp.com/biz/ps-cafe-singapore-10?osq=Restaurants', 'yelp.com/biz/cut-singapore-2?osq=Restaurants', 'yelp.com/biz/wolf-burgers-singapore?osq=Restaurants', 'yelp.com/biz/tai-hwa-pork-noodle-singapore?osq=Restaurants', 'yelp.com/biz/kampong-glam-cafe-singapore?osq=Restaurants', 'yelp.com/biz/mrs-pho-singapore?osq=Restaurants', 'yelp.com/biz/nanyang-old-taste-singapore?osq=Restaurants', 'yelp.com/biz/brunches-cafe-singapore-3?osq=Restaurants', 'yelp.com/biz/once-upon-a-thyme-singapore?osq=Restaurants', 'yelp.com/biz/din-tai-fung-singapore-4?osq=Restaurants', 'yelp.com/biz/five-star-hainanese-chicken-rice-singapore-2?osq=Restaurants', 'yelp.com/biz/dancing-crab-singapore-2?osq=Restaurants', 'yelp.com/biz/penang-seafood-restaurant-singapore?osq=Restaurants', 'yelp.com/biz/man-man-japanese-unagi-singapore?osq=Restaurants', 'yelp.com/biz/shake-shack-singapore-2?osq=Restaurants', 'yelp.com/biz/mei-toy-thai-food-singapore?osq=Restaurants', 'yelp.com/biz/black-tap-singapore?osq=Restaurants', 'yelp.com/biz/waku-ghin-singapore?osq=Restaurants', 'yelp.com/biz/din-tai-fung-singapore-23?osq=Restaurants', 'yelp.com/biz/three-buns-singapore-2?osq=Restaurants', 'yelp.com/biz/khansama-tandoori-singapore?osq=Restaurants', 'yelp.com/biz/everest-kitchen-singapore-2?osq=Restaurants', 'yelp.com/biz/riverside-indonesian-bbq-singapore-4?osq=Restaurants', 'yelp.com/biz/beef-yakiniku-dining-yakiniquest-singapore?osq=Restaurants', 'yelp.com/biz/da-lian-traditional-noodles-singapore?osq=Restaurants', 'yelp.com/biz/zam-zam-restaurant-singapore?osq=Restaurants', 'yelp.com/biz/yardbird-southern-table-and-bar-singapore?osq=Restaurants', 'yelp.com/biz/happy-crab-singapore?osq=Restaurants', 'yelp.com/biz/isle-eating-house-singapore?osq=Restaurants', 'yelp.com/biz/old-airport-road-food-centre-singapore?osq=Restaurants', 'yelp.com/biz/a-noodle-story-singapore?osq=Restaurants', 'yelp.com/biz/barking-irons-singapore?osq=Restaurants', 'yelp.com/biz/the-royals-steakhouse-singapore?osq=Restaurants', 'yelp.com/biz/komala-vilas-restaurant-singapore?osq=Restaurants', 'yelp.com/biz/food-republic-singapore-5?osq=Restaurants', 'yelp.com/biz/sbcd-tofu-millenia-walk-singapore?osq=Restaurants', 'yelp.com/biz/lai-wah-restaurant-singapore?osq=Restaurants', 'yelp.com/biz/328-katong-laksa-singapore-3?osq=Restaurants', 'yelp.com/biz/enchanted-cafe-singapore?osq=Restaurants', 'yelp.com/biz/the-other-room-singapore?osq=Restaurants', 'yelp.com/biz/beach-road-kitchen-singapore?osq=Restaurants', 'yelp.com/biz/escape-restaurant-and-lounge-singapore?osq=Restaurants', 'yelp.com/biz/hong-kong-street-family-restaurant-singapore-2?osq=Restaurants', 'yelp.com/biz/ldm-charcoal-bbq-restaurant-singapore?osq=Restaurants', 'yelp.com/biz/jb-ah-meng-singapore?osq=Restaurants', 'yelp.com/biz/grannys-pancake-singapore?osq=Restaurants', 'yelp.com/biz/tolidos-espresso-nook-singapore-3?osq=Restaurants', 'yelp.com/biz/edge-singapore?osq=Restaurants', 'yelp.com/biz/my-little-spanish-place-singapore?osq=Restaurants', 'yelp.com/biz/fat-cow-singapore?osq=Restaurants', 'yelp.com/biz/seiwaa-okonomiyaki-and-teppanyaki-restaurant-singapore?osq=Restaurants', 'yelp.com/biz/waa-cow-sushi-bar-singapore?osq=Restaurants', 'yelp.com/biz/dolphins-singapore?osq=Restaurants', 'yelp.com/biz/founder-bak-kut-teh-no-title?osq=Restaurants', 'yelp.com/biz/hawkerman-singapore-2?osq=Restaurants', 'yelp.com/biz/crystal-jade-steamboat-no-title?osq=Restaurants', 'yelp.com/biz/satay-by-the-bay-singapore?osq=Restaurants', 'yelp.com/biz/shabu-shabu-gen-singapore-2?osq=Restaurants', 'yelp.com/biz/culina-singapore-3?osq=Restaurants', 'yelp.com/biz/origin-grill-and-bar-singapore?osq=Restaurants', 'yelp.com/biz/the-naked-finn-singapore?osq=Restaurants', 'yelp.com/biz/blue-label-pizza-and-wine-singapore?osq=Restaurants', 'yelp.com/biz/fook-kin-singapore?osq=Restaurants', 'yelp.com/biz/ash-and-elm-singapore?osq=Restaurants', 'yelp.com/biz/soi-47-thai-food-singapore?osq=Restaurants', 'yelp.com/biz/joyden-treasures-singapore?osq=Restaurants', 'yelp.com/biz/kamome-bakery-singapore?osq=Restaurants', 'yelp.com/biz/ki-sho-singapore?osq=Restaurants', 'yelp.com/biz/zazz-pizza-singapore?osq=Restaurants', 'yelp.com/biz/yakiniku-yazawa-singapore?osq=Restaurants', 'yelp.com/biz/haramiya-japanese-bbq-restaurant-singapore?osq=Restaurants', 'yelp.com/biz/hawaiian-kitchen-aloha-ma-maison-singapore?osq=Restaurants', 'yelp.com/biz/golden-jade-restaurant-culinary-group-singapore?osq=Restaurants', 'yelp.com/biz/tanglin-food-hall-singapore?osq=Restaurants', 'yelp.com/biz/old-street-bak-kut-teh-singapore-4?osq=Restaurants', 'yelp.com/biz/%E6%97%BA%E8%A7%92%E9%BB%9E%E5%BF%83-mongkok-dim-sum-singapore?osq=Restaurants', 'yelp.com/biz/puglia-alfresco-pizza-bar-singapore?osq=Restaurants', 'yelp.com/biz/hainanese-delicacy-chicken-rice-singapore?osq=Restaurants', 'yelp.com/biz/ippudo-singapore-6?osq=Restaurants', 'yelp.com/biz/fat-bird-singapore?osq=Restaurants', 'yelp.com/biz/five-oars-coffee-roasters-singapore-2?osq=Restaurants', 'yelp.com/biz/tian-fu-tea-room-singapore?osq=Restaurants', 'yelp.com/biz/jumbo-singapore?osq=Restaurants', 'yelp.com/biz/johor-road-boon-kee-pork-porridge-singapore?osq=Restaurants', 'yelp.com/biz/the-original-katong-laksa-singapore?osq=Restaurants', 'yelp.com/biz/jumbo-seafood-singapore-8?osq=Restaurants', 'yelp.com/biz/knots-cafe-and-living-singapore?osq=Restaurants', 'yelp.com/biz/%E4%BE%86%E5%A7%90%E5%AE%B6-singapore?osq=Restaurants', 'yelp.com/biz/empress-singapore?osq=Restaurants', 'yelp.com/biz/imperial-treasure-fine-chinese-cuisine-singapore-2?osq=Restaurants', 'yelp.com/biz/sichuan-village-restaurant-singapore?osq=Restaurants', 'yelp.com/biz/sushiro-singapore-2?osq=Restaurants', 'yelp.com/biz/bigmama-singapore?osq=Restaurants', 'yelp.com/biz/wing-seong-fattys-singapore?osq=Restaurants', 'yelp.com/biz/club55-singapore?osq=Restaurants', 'yelp.com/biz/nude-seafood-singapore-2?osq=Restaurants', 'yelp.com/biz/tono-cevicheria-singapore?osq=Restaurants', 'yelp.com/biz/famous-sungei-road-trishaw-laksa-singapore-2?osq=Restaurants', 'yelp.com/biz/going-om-singapore?osq=Restaurants', 'yelp.com/biz/chui-huay-lim-teochew-cusine-singapore?osq=Restaurants', 'yelp.com/biz/forty-hands-east-coast-singapore?osq=Restaurants', 'yelp.com/biz/warehouse-bistro-singapore?osq=Restaurants', 'yelp.com/biz/shinji-by-kanesaka-singapore-2?osq=Restaurants', 'yelp.com/biz/mtr-1924-singapore-2?osq=Restaurants', 'yelp.com/biz/santa-fe-all-american-tex-mex-grill-singapore?osq=Restaurants', 'yelp.com/biz/sidewalk-food-place-singapore?osq=Restaurants', 'yelp.com/biz/shang-palace-singapore?osq=Restaurants', 'yelp.com/biz/botanist-singapore?osq=Restaurants', 'yelp.com/biz/blanco-court-prawn-mee-singapore?osq=Restaurants', 'yelp.com/biz/paulaner-br%C3%A4uhaus-singapore-singapore-2?osq=Restaurants', 'yelp.com/biz/the-marmalade-pantry-singapore-4?osq=Restaurants', 'yelp.com/biz/ippudo-singapore-5?osq=Restaurants', 'yelp.com/biz/magurodonya-miuramisakikou-sushi-singapore?osq=Restaurants', 'yelp.com/biz/tiong-bahru-bakery-singapore-4?osq=Restaurants', 'yelp.com/biz/torasho-ramen-and-charcoal-bar-singapore?osq=Restaurants', 'yelp.com/biz/kaiserhaus-singapore?osq=Restaurants', 'yelp.com/biz/fat-belly-singapore?osq=Restaurants', 'yelp.com/biz/redpan-singapore?osq=Restaurants', 'yelp.com/biz/curate-southern-islands?osq=Restaurants', 'yelp.com/biz/publico-singapore?osq=Restaurants', 'yelp.com/biz/justin-flavours-of-asia-singapore?osq=Restaurants', 'yelp.com/biz/som-tam-singapore?osq=Restaurants', 'yelp.com/biz/vietnamese-stall-sim-lim-square-food-court-singapore?osq=Restaurants', 'yelp.com/biz/ah-tai-hainanese-chicken-rice-singapore?osq=Restaurants', 'yelp.com/biz/pasarbella-singapore-2?osq=Restaurants', 'yelp.com/biz/kai-sushi-and-robatayaki-singapore?osq=Restaurants', 'yelp.com/biz/the-black-swan-singapore?osq=Restaurants', 'yelp.com/biz/lukes-oyster-bar-and-chop-house-singapore-2?osq=Restaurants', 'yelp.com/biz/keng-eng-kee-seafood-singapore?osq=Restaurants', 'yelp.com/biz/yan-kee-noodle-house-singapore?osq=Restaurants', 'yelp.com/biz/sushi-jin-singapore?osq=Restaurants', 'yelp.com/biz/mr-and-mrs-mohgans-super-crispy-roti-prata-singapore?osq=Restaurants', 'yelp.com/biz/wang-dae-bak-korean-bbq-singapore-3?osq=Restaurants', 'yelp.com/biz/el-toro-singapore?osq=Restaurants', 'yelp.com/biz/maison-ikkoku-restaurant-and-bar-singapore-2?osq=Restaurants', 'yelp.com/biz/violet-oon-satay-and-grill-singapore?osq=Restaurants', 'yelp.com/biz/heart-of-darkness-singapore-singapore?osq=Restaurants', 'yelp.com/biz/zhen-hao-lor-mee-singapore?osq=Restaurants', 'yelp.com/biz/public-house-singapore?osq=Restaurants', 'yelp.com/biz/ippudo-singapore-4?osq=Restaurants', 'yelp.com/biz/bak-chor-mee-lorong-5-toa-payoh-singapore?osq=Restaurants', 'yelp.com/biz/brazil-churrasco-singapore-2?osq=Restaurants', 'yelp.com/biz/creatures-singapore?osq=Restaurants', 'yelp.com/biz/pu-dong-kitchen-singapore-2?osq=Restaurants', 'yelp.com/biz/nagae-singapore?osq=Restaurants', 'yelp.com/biz/nanjing-restaurant-singapore?osq=Restaurants', 'yelp.com/biz/indocafe-the-white-house-singapore?osq=Restaurants', 'yelp.com/biz/my-little-spanish-place-singapore-2?osq=Restaurants', 'yelp.com/biz/el-cubanos-singapore?osq=Restaurants', 'yelp.com/biz/xiang-yuan-ji-shanghai-sheng-jian-bao-singapore?osq=Restaurants', 'yelp.com/biz/korean-fusion-bbq-singapore-2?osq=Restaurants', 'yelp.com/biz/the-clueless-goat-singapore?osq=Restaurants', 'yelp.com/biz/the-american-taproom-singapore?osq=Restaurants', 'yelp.com/biz/hai-di-lao-singapore-4?osq=Restaurants', 'yelp.com/biz/the-ricetable-singapore?osq=Restaurants', 'yelp.com/biz/wheelers-yard-singapore?osq=Restaurants', 'yelp.com/biz/astons-specialities-singapore-3?osq=Restaurants', 'yelp.com/biz/earlybird-singapore?osq=Restaurants', 'yelp.com/biz/shukuu-izakaya-singapore?osq=Restaurants', 'yelp.com/biz/skirt-no-title?osq=Restaurants', 'yelp.com/biz/grain-traders-singapore?osq=Restaurants', 'yelp.com/biz/fatboys-the-burger-bar-singapore-7?osq=Restaurants', 'yelp.com/biz/hans-im-gl%C3%BCck-singapore-2?osq=Restaurants', 'yelp.com/biz/byblos-grill-singapore?osq=Restaurants', 'yelp.com/biz/crystal-jade-kitchen-singapore-10?osq=Restaurants', 'yelp.com/biz/singapore-seafood-republic-singapore?osq=Restaurants', 'yelp.com/biz/dumpling-darlings-singapore?osq=Restaurants', 'yelp.com/biz/chef-kangs-noodle-house-singapore?osq=Restaurants', 'yelp.com/biz/bread-yard-singapore-2?osq=Restaurants', 'yelp.com/biz/minang-house-singapore?osq=Restaurants', 'yelp.com/biz/limaa-singapore?osq=Restaurants', 'yelp.com/biz/pistachio-singapore-3?osq=Restaurants', 'yelp.com/biz/vespetta-italian-gastro-bar-singapore?osq=Restaurants', 'yelp.com/biz/yakitori-dickson-singapore?osq=Restaurants', 'yelp.com/biz/crab-song-singapore?osq=Restaurants', 'yelp.com/biz/gram-singapore-2?osq=Restaurants', 'yelp.com/biz/super-loco-customs-house-singapore?osq=Restaurants', 'yelp.com/biz/salted-and-hung-singapore?osq=Restaurants', 'yelp.com/biz/soon-kee-wanton-mee-singapore?osq=Restaurants', 'yelp.com/biz/red-stove-hokkien-prawn-mee-singapore?osq=Restaurants']\n",
      "220\n"
     ]
    }
   ],
   "source": [
    "print(names)\n",
    "print(len(names))\n",
    "print(no_ratings)\n",
    "print(len(no_ratings))\n",
    "print(res_types)\n",
    "print(len(res_types))\n",
    "print(affords)\n",
    "print(len(affords))\n",
    "print(ratings)\n",
    "print(len(ratings))\n",
    "print(reviews_links)\n",
    "print(len(reviews_links))"
   ]
  },
  {
   "cell_type": "code",
   "execution_count": 19,
   "metadata": {
    "scrolled": false
   },
   "outputs": [
    {
     "name": "stdout",
     "output_type": "stream",
     "text": [
      "<class 'pandas.core.frame.DataFrame'>\n",
      "RangeIndex: 220 entries, 0 to 219\n",
      "Data columns (total 6 columns):\n",
      " #   Column             Non-Null Count  Dtype \n",
      "---  ------             --------------  ----- \n",
      " 0   Restaurant         220 non-null    object\n",
      " 1   Number of Ratings  220 non-null    object\n",
      " 2   Restaurant Type    220 non-null    object\n",
      " 3   Affordability      220 non-null    object\n",
      " 4   Rating             220 non-null    object\n",
      " 5   Reviews Link       220 non-null    object\n",
      "dtypes: object(6)\n",
      "memory usage: 10.4+ KB\n",
      "None\n"
     ]
    },
    {
     "data": {
      "text/html": [
       "<div>\n",
       "<style scoped>\n",
       "    .dataframe tbody tr th:only-of-type {\n",
       "        vertical-align: middle;\n",
       "    }\n",
       "\n",
       "    .dataframe tbody tr th {\n",
       "        vertical-align: top;\n",
       "    }\n",
       "\n",
       "    .dataframe thead th {\n",
       "        text-align: right;\n",
       "    }\n",
       "</style>\n",
       "<table border=\"1\" class=\"dataframe\">\n",
       "  <thead>\n",
       "    <tr style=\"text-align: right;\">\n",
       "      <th></th>\n",
       "      <th>Restaurant</th>\n",
       "      <th>Number of Ratings</th>\n",
       "      <th>Restaurant Type</th>\n",
       "      <th>Affordability</th>\n",
       "      <th>Rating</th>\n",
       "      <th>Reviews Link</th>\n",
       "    </tr>\n",
       "  </thead>\n",
       "  <tbody>\n",
       "    <tr>\n",
       "      <th>0</th>\n",
       "      <td>Sungei Road Laksa</td>\n",
       "      <td>69</td>\n",
       "      <td>[Singaporean, Chinese, Noodles]</td>\n",
       "      <td>$</td>\n",
       "      <td>4.5 star</td>\n",
       "      <td>yelp.com/biz/sungei-road-laksa-singapore-2?osq...</td>\n",
       "    </tr>\n",
       "    <tr>\n",
       "      <th>1</th>\n",
       "      <td>Tian Tian Hainanese Chicken Rice</td>\n",
       "      <td>378</td>\n",
       "      <td>[Hainan, Chicken Shop]</td>\n",
       "      <td>$</td>\n",
       "      <td>4 star</td>\n",
       "      <td>yelp.com/biz/tian-tian-hainanese-chicken-rice-...</td>\n",
       "    </tr>\n",
       "    <tr>\n",
       "      <th>2</th>\n",
       "      <td>Coriander Leaf</td>\n",
       "      <td>11</td>\n",
       "      <td>[Asian Fusion]</td>\n",
       "      <td>N/A</td>\n",
       "      <td>4.5 star</td>\n",
       "      <td>yelp.com/biz/coriander-leaf-singapore-2?osq=Re...</td>\n",
       "    </tr>\n",
       "    <tr>\n",
       "      <th>3</th>\n",
       "      <td>Holycrab</td>\n",
       "      <td>17</td>\n",
       "      <td>[Singaporean, Chinese, Seafood]</td>\n",
       "      <td>$$$$</td>\n",
       "      <td>4.5 star</td>\n",
       "      <td>yelp.com/biz/holycrab-singapore?osq=Restaurants</td>\n",
       "    </tr>\n",
       "    <tr>\n",
       "      <th>4</th>\n",
       "      <td>Burnt Ends</td>\n",
       "      <td>72</td>\n",
       "      <td>[Australian, Steakhouses, Barbeque]</td>\n",
       "      <td>$$$$</td>\n",
       "      <td>4.5 star</td>\n",
       "      <td>yelp.com/biz/burnt-ends-singapore?osq=Restaurants</td>\n",
       "    </tr>\n",
       "    <tr>\n",
       "      <th>...</th>\n",
       "      <td>...</td>\n",
       "      <td>...</td>\n",
       "      <td>...</td>\n",
       "      <td>...</td>\n",
       "      <td>...</td>\n",
       "      <td>...</td>\n",
       "    </tr>\n",
       "    <tr>\n",
       "      <th>95</th>\n",
       "      <td>Crystal Jade Steamboat</td>\n",
       "      <td>2</td>\n",
       "      <td>[Cantonese, Soup, Do-It-Yourself Food]</td>\n",
       "      <td>N/A</td>\n",
       "      <td>3.5 star</td>\n",
       "      <td>yelp.com/biz/crystal-jade-steamboat-no-title?o...</td>\n",
       "    </tr>\n",
       "    <tr>\n",
       "      <th>96</th>\n",
       "      <td>Satay By The Bay</td>\n",
       "      <td>45</td>\n",
       "      <td>[Seafood, Barbeque]</td>\n",
       "      <td>$</td>\n",
       "      <td>3.5 star</td>\n",
       "      <td>yelp.com/biz/satay-by-the-bay-singapore?osq=Re...</td>\n",
       "    </tr>\n",
       "    <tr>\n",
       "      <th>97</th>\n",
       "      <td>Shabu Shabu Gen</td>\n",
       "      <td>1</td>\n",
       "      <td>[Japanese]</td>\n",
       "      <td>N/A</td>\n",
       "      <td>4 star</td>\n",
       "      <td>yelp.com/biz/shabu-shabu-gen-singapore-2?osq=R...</td>\n",
       "    </tr>\n",
       "    <tr>\n",
       "      <th>98</th>\n",
       "      <td>Culina</td>\n",
       "      <td>16</td>\n",
       "      <td>[Bistros, Specialty Food]</td>\n",
       "      <td>$$$</td>\n",
       "      <td>4 star</td>\n",
       "      <td>yelp.com/biz/culina-singapore-3?osq=Restaurants</td>\n",
       "    </tr>\n",
       "    <tr>\n",
       "      <th>99</th>\n",
       "      <td>Origin Grill &amp; Bar</td>\n",
       "      <td>1</td>\n",
       "      <td>[Bars, Steakhouses]</td>\n",
       "      <td>N/A</td>\n",
       "      <td>5 star</td>\n",
       "      <td>yelp.com/biz/origin-grill-and-bar-singapore?os...</td>\n",
       "    </tr>\n",
       "  </tbody>\n",
       "</table>\n",
       "<p>100 rows × 6 columns</p>\n",
       "</div>"
      ],
      "text/plain": [
       "                          Restaurant Number of Ratings  \\\n",
       "0                  Sungei Road Laksa                69   \n",
       "1   Tian Tian Hainanese Chicken Rice               378   \n",
       "2                     Coriander Leaf                11   \n",
       "3                           Holycrab                17   \n",
       "4                         Burnt Ends                72   \n",
       "..                               ...               ...   \n",
       "95            Crystal Jade Steamboat                 2   \n",
       "96                  Satay By The Bay                45   \n",
       "97                   Shabu Shabu Gen                 1   \n",
       "98                            Culina                16   \n",
       "99                Origin Grill & Bar                 1   \n",
       "\n",
       "                           Restaurant Type Affordability     Rating  \\\n",
       "0          [Singaporean, Chinese, Noodles]             $  4.5 star    \n",
       "1                   [Hainan, Chicken Shop]             $    4 star    \n",
       "2                           [Asian Fusion]           N/A  4.5 star    \n",
       "3          [Singaporean, Chinese, Seafood]          $$$$  4.5 star    \n",
       "4      [Australian, Steakhouses, Barbeque]          $$$$  4.5 star    \n",
       "..                                     ...           ...        ...   \n",
       "95  [Cantonese, Soup, Do-It-Yourself Food]           N/A  3.5 star    \n",
       "96                     [Seafood, Barbeque]             $  3.5 star    \n",
       "97                              [Japanese]           N/A    4 star    \n",
       "98               [Bistros, Specialty Food]           $$$    4 star    \n",
       "99                     [Bars, Steakhouses]           N/A    5 star    \n",
       "\n",
       "                                         Reviews Link  \n",
       "0   yelp.com/biz/sungei-road-laksa-singapore-2?osq...  \n",
       "1   yelp.com/biz/tian-tian-hainanese-chicken-rice-...  \n",
       "2   yelp.com/biz/coriander-leaf-singapore-2?osq=Re...  \n",
       "3     yelp.com/biz/holycrab-singapore?osq=Restaurants  \n",
       "4   yelp.com/biz/burnt-ends-singapore?osq=Restaurants  \n",
       "..                                                ...  \n",
       "95  yelp.com/biz/crystal-jade-steamboat-no-title?o...  \n",
       "96  yelp.com/biz/satay-by-the-bay-singapore?osq=Re...  \n",
       "97  yelp.com/biz/shabu-shabu-gen-singapore-2?osq=R...  \n",
       "98    yelp.com/biz/culina-singapore-3?osq=Restaurants  \n",
       "99  yelp.com/biz/origin-grill-and-bar-singapore?os...  \n",
       "\n",
       "[100 rows x 6 columns]"
      ]
     },
     "execution_count": 19,
     "metadata": {},
     "output_type": "execute_result"
    }
   ],
   "source": [
    "rest_ratings = pd.DataFrame({'Restaurant': names,\n",
    "'Number of Ratings': no_ratings,\n",
    "'Restaurant Type': res_types,\n",
    "'Affordability': affords,\n",
    "'Rating': ratings,\n",
    "'Reviews Link': reviews_links\n",
    "})\n",
    "rest_ratings['Rating'] = rest_ratings['Rating'].map(lambda x: x.rstrip('rating'))\n",
    "print(rest_ratings.info())\n",
    "rest_ratings.head(100)"
   ]
  },
  {
   "cell_type": "code",
   "execution_count": 20,
   "metadata": {},
   "outputs": [],
   "source": [
    "rest_ratings = rest_ratings[['Restaurant', 'Restaurant Type', 'Rating', 'Number of Ratings', 'Affordability', 'Reviews Link']]"
   ]
  },
  {
   "cell_type": "code",
   "execution_count": 21,
   "metadata": {},
   "outputs": [],
   "source": [
    "rest_ratings.to_csv('restaurant_ratings.csv')"
   ]
  },
  {
   "cell_type": "code",
   "execution_count": 22,
   "metadata": {},
   "outputs": [],
   "source": [
    "rest_ratings.to_pickle(\"rest_ratings.pkl\")"
   ]
  },
  {
   "cell_type": "code",
   "execution_count": 23,
   "metadata": {},
   "outputs": [
    {
     "name": "stdout",
     "output_type": "stream",
     "text": [
      "<generator object DataFrame.items at 0x7f7fc843fc50>\n"
     ]
    }
   ],
   "source": [
    "print(rest_ratings.items())"
   ]
  },
  {
   "cell_type": "code",
   "execution_count": null,
   "metadata": {},
   "outputs": [],
   "source": []
  }
 ],
 "metadata": {
  "kernelspec": {
   "display_name": "Python 3",
   "language": "python",
   "name": "python3"
  },
  "language_info": {
   "codemirror_mode": {
    "name": "ipython",
    "version": 3
   },
   "file_extension": ".py",
   "mimetype": "text/x-python",
   "name": "python",
   "nbconvert_exporter": "python",
   "pygments_lexer": "ipython3",
   "version": "3.7.9"
  }
 },
 "nbformat": 4,
 "nbformat_minor": 4
}
