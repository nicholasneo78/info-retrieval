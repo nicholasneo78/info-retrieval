{
 "cells": [
  {
   "cell_type": "code",
   "execution_count": 1,
   "metadata": {
    "colab": {
     "base_uri": "https://localhost:8080/"
    },
    "executionInfo": {
     "elapsed": 20730,
     "status": "ok",
     "timestamp": 1616000576945,
     "user": {
      "displayName": "Nicholas Neo",
      "photoUrl": "",
      "userId": "02359484661843204503"
     },
     "user_tz": -480
    },
    "id": "PXtZCy_fJti9",
    "outputId": "6b596598-5d17-4f6c-b503-89e046dad253"
   },
   "outputs": [
    {
     "name": "stdout",
     "output_type": "stream",
     "text": [
      "Mounted at /content/drive\n"
     ]
    }
   ],
   "source": [
    "# connect to google colab\n",
    "from google.colab import drive\n",
    "drive.mount(\"/content/drive\")"
   ]
  },
  {
   "cell_type": "code",
   "execution_count": 2,
   "metadata": {
    "executionInfo": {
     "elapsed": 5868,
     "status": "ok",
     "timestamp": 1616000579203,
     "user": {
      "displayName": "Nicholas Neo",
      "photoUrl": "",
      "userId": "02359484661843204503"
     },
     "user_tz": -480
    },
    "id": "jA6SynddLxWm"
   },
   "outputs": [],
   "source": [
    "%matplotlib inline\n",
    "import warnings\n",
    "warnings.filterwarnings(\"ignore\")\n",
    "\n",
    "import sqlite3\n",
    "import pandas as pd\n",
    "import numpy as np\n",
    "import nltk\n",
    "import string\n",
    "import matplotlib.pyplot as plt\n",
    "import seaborn as sns\n",
    "from sklearn.feature_extraction.text import TfidfTransformer\n",
    "from sklearn.feature_extraction.text import TfidfVectorizer\n",
    "\n",
    "from sklearn.feature_extraction.text import CountVectorizer\n",
    "#from sklearn.metrics import confusion_matrix\n",
    "from sklearn import metrics\n",
    "#from sklearn.metrics import roc_curve, auc\n",
    "from nltk.stem.porter import PorterStemmer\n",
    "\n",
    "import re\n",
    "import string\n",
    "from nltk.corpus import stopwords\n",
    "from nltk.stem import PorterStemmer\n",
    "from nltk.stem.wordnet import WordNetLemmatizer\n",
    "\n",
    "from gensim.models import Word2Vec\n",
    "from gensim.models import KeyedVectors\n",
    "import pickle\n",
    "\n",
    "from tqdm import tqdm\n",
    "import os\n",
    "\n",
    "#Importing keras\n",
    "import keras\n",
    "from keras.models import Sequential\n",
    "from keras.layers import Dense\n",
    "from keras.layers import LSTM\n",
    "from keras.layers.embeddings import Embedding\n",
    "from keras.preprocessing import sequence\n",
    "from keras.layers import Dropout\n",
    "from keras.callbacks import ModelCheckpoint\n",
    "np.random.seed(7)"
   ]
  },
  {
   "cell_type": "markdown",
   "metadata": {
    "id": "Uxcb8xxtMFAS"
   },
   "source": [
    "### Colab config"
   ]
  },
  {
   "cell_type": "code",
   "execution_count": 3,
   "metadata": {
    "executionInfo": {
     "elapsed": 3603,
     "status": "ok",
     "timestamp": 1616000579207,
     "user": {
      "displayName": "Nicholas Neo",
      "photoUrl": "",
      "userId": "02359484661843204503"
     },
     "user_tz": -480
    },
    "id": "Ja2Ar0dpL8pa"
   },
   "outputs": [],
   "source": [
    "# COLAB CONFIG\n",
    "# change colab flag to false if train using jupyter notebook\n",
    "COLAB_FLAG = True\n",
    "COLAB_FILEPATH = './drive/My Drive/4034-amazon-review-classification-new/' if COLAB_FLAG == True else './'\n",
    "pd.options.mode.chained_assignment = None  # default='warn'\n",
    "%matplotlib inline"
   ]
  },
  {
   "cell_type": "markdown",
   "metadata": {
    "id": "3b0VfKMEUk1y"
   },
   "source": [
    "# Pre-processing of data for training the model (Amazon dataset)"
   ]
  },
  {
   "cell_type": "markdown",
   "metadata": {
    "id": "oXh5lCQCMMfW"
   },
   "source": [
    "### Import training data"
   ]
  },
  {
   "cell_type": "code",
   "execution_count": 4,
   "metadata": {
    "executionInfo": {
     "elapsed": 7466,
     "status": "ok",
     "timestamp": 1616000589844,
     "user": {
      "displayName": "Nicholas Neo",
      "photoUrl": "",
      "userId": "02359484661843204503"
     },
     "user_tz": -480
    },
    "id": "zILc6XvIMHbu"
   },
   "outputs": [],
   "source": [
    "# using SQLite Table to read data.\n",
    "con = sqlite3.connect(COLAB_FILEPATH + 'data/database.sqlite')\n",
    "data_train_raw_ = pd.read_sql_query(\"\"\" SELECT * FROM Reviews \"\"\", con) "
   ]
  },
  {
   "cell_type": "code",
   "execution_count": 5,
   "metadata": {
    "colab": {
     "base_uri": "https://localhost:8080/",
     "height": 424
    },
    "executionInfo": {
     "elapsed": 7400,
     "status": "ok",
     "timestamp": 1616000589873,
     "user": {
      "displayName": "Nicholas Neo",
      "photoUrl": "",
      "userId": "02359484661843204503"
     },
     "user_tz": -480
    },
    "id": "PFdWhRpEMVC7",
    "outputId": "8e8cfdfa-986c-4587-e8d1-aa3ad4ed1729"
   },
   "outputs": [
    {
     "data": {
      "text/html": [
       "<div>\n",
       "<style scoped>\n",
       "    .dataframe tbody tr th:only-of-type {\n",
       "        vertical-align: middle;\n",
       "    }\n",
       "\n",
       "    .dataframe tbody tr th {\n",
       "        vertical-align: top;\n",
       "    }\n",
       "\n",
       "    .dataframe thead th {\n",
       "        text-align: right;\n",
       "    }\n",
       "</style>\n",
       "<table border=\"1\" class=\"dataframe\">\n",
       "  <thead>\n",
       "    <tr style=\"text-align: right;\">\n",
       "      <th></th>\n",
       "      <th>Id</th>\n",
       "      <th>ProductId</th>\n",
       "      <th>UserId</th>\n",
       "      <th>ProfileName</th>\n",
       "      <th>HelpfulnessNumerator</th>\n",
       "      <th>HelpfulnessDenominator</th>\n",
       "      <th>Score</th>\n",
       "      <th>Time</th>\n",
       "      <th>Summary</th>\n",
       "      <th>Text</th>\n",
       "    </tr>\n",
       "  </thead>\n",
       "  <tbody>\n",
       "    <tr>\n",
       "      <th>0</th>\n",
       "      <td>1</td>\n",
       "      <td>B001E4KFG0</td>\n",
       "      <td>A3SGXH7AUHU8GW</td>\n",
       "      <td>delmartian</td>\n",
       "      <td>1</td>\n",
       "      <td>1</td>\n",
       "      <td>5</td>\n",
       "      <td>1303862400</td>\n",
       "      <td>Good Quality Dog Food</td>\n",
       "      <td>I have bought several of the Vitality canned d...</td>\n",
       "    </tr>\n",
       "    <tr>\n",
       "      <th>1</th>\n",
       "      <td>2</td>\n",
       "      <td>B00813GRG4</td>\n",
       "      <td>A1D87F6ZCVE5NK</td>\n",
       "      <td>dll pa</td>\n",
       "      <td>0</td>\n",
       "      <td>0</td>\n",
       "      <td>1</td>\n",
       "      <td>1346976000</td>\n",
       "      <td>Not as Advertised</td>\n",
       "      <td>Product arrived labeled as Jumbo Salted Peanut...</td>\n",
       "    </tr>\n",
       "    <tr>\n",
       "      <th>2</th>\n",
       "      <td>3</td>\n",
       "      <td>B000LQOCH0</td>\n",
       "      <td>ABXLMWJIXXAIN</td>\n",
       "      <td>Natalia Corres \"Natalia Corres\"</td>\n",
       "      <td>1</td>\n",
       "      <td>1</td>\n",
       "      <td>4</td>\n",
       "      <td>1219017600</td>\n",
       "      <td>\"Delight\" says it all</td>\n",
       "      <td>This is a confection that has been around a fe...</td>\n",
       "    </tr>\n",
       "  </tbody>\n",
       "</table>\n",
       "</div>"
      ],
      "text/plain": [
       "   Id  ...                                               Text\n",
       "0   1  ...  I have bought several of the Vitality canned d...\n",
       "1   2  ...  Product arrived labeled as Jumbo Salted Peanut...\n",
       "2   3  ...  This is a confection that has been around a fe...\n",
       "\n",
       "[3 rows x 10 columns]"
      ]
     },
     "execution_count": 5,
     "metadata": {
      "tags": []
     },
     "output_type": "execute_result"
    }
   ],
   "source": [
    "data_train_raw_.head(3)"
   ]
  },
  {
   "cell_type": "code",
   "execution_count": 6,
   "metadata": {
    "colab": {
     "base_uri": "https://localhost:8080/"
    },
    "executionInfo": {
     "elapsed": 2127,
     "status": "ok",
     "timestamp": 1616000589874,
     "user": {
      "displayName": "Nicholas Neo",
      "photoUrl": "",
      "userId": "02359484661843204503"
     },
     "user_tz": -480
    },
    "id": "ElqTlwdcXVdA",
    "outputId": "29f4e36e-d262-464b-ce76-f54badcce3f0"
   },
   "outputs": [
    {
     "data": {
      "text/plain": [
       "(568454, 10)"
      ]
     },
     "execution_count": 6,
     "metadata": {
      "tags": []
     },
     "output_type": "execute_result"
    }
   ],
   "source": [
    "data_train_raw_.shape"
   ]
  },
  {
   "cell_type": "markdown",
   "metadata": {
    "id": "GmyP3ztlMixU"
   },
   "source": [
    "# Filtering of the train data"
   ]
  },
  {
   "cell_type": "markdown",
   "metadata": {
    "id": "5iaPZQkcMmRH"
   },
   "source": [
    "### Remove duplicate entries"
   ]
  },
  {
   "cell_type": "code",
   "execution_count": 7,
   "metadata": {
    "colab": {
     "base_uri": "https://localhost:8080/",
     "height": 574
    },
    "executionInfo": {
     "elapsed": 1255,
     "status": "ok",
     "timestamp": 1616000592036,
     "user": {
      "displayName": "Nicholas Neo",
      "photoUrl": "",
      "userId": "02359484661843204503"
     },
     "user_tz": -480
    },
    "id": "nFY0hMz9Meca",
    "outputId": "3da1c13e-d067-4ce7-c3df-3c482ac09245"
   },
   "outputs": [
    {
     "data": {
      "text/html": [
       "<div>\n",
       "<style scoped>\n",
       "    .dataframe tbody tr th:only-of-type {\n",
       "        vertical-align: middle;\n",
       "    }\n",
       "\n",
       "    .dataframe tbody tr th {\n",
       "        vertical-align: top;\n",
       "    }\n",
       "\n",
       "    .dataframe thead th {\n",
       "        text-align: right;\n",
       "    }\n",
       "</style>\n",
       "<table border=\"1\" class=\"dataframe\">\n",
       "  <thead>\n",
       "    <tr style=\"text-align: right;\">\n",
       "      <th></th>\n",
       "      <th>Id</th>\n",
       "      <th>ProductId</th>\n",
       "      <th>UserId</th>\n",
       "      <th>ProfileName</th>\n",
       "      <th>HelpfulnessNumerator</th>\n",
       "      <th>HelpfulnessDenominator</th>\n",
       "      <th>Score</th>\n",
       "      <th>Time</th>\n",
       "      <th>Summary</th>\n",
       "      <th>Text</th>\n",
       "    </tr>\n",
       "  </thead>\n",
       "  <tbody>\n",
       "    <tr>\n",
       "      <th>0</th>\n",
       "      <td>78445</td>\n",
       "      <td>B000HDL1RQ</td>\n",
       "      <td>AR5J8UI46CURR</td>\n",
       "      <td>Geetha Krishnan</td>\n",
       "      <td>2</td>\n",
       "      <td>2</td>\n",
       "      <td>5</td>\n",
       "      <td>1199577600</td>\n",
       "      <td>LOACKER QUADRATINI VANILLA WAFERS</td>\n",
       "      <td>DELICIOUS WAFERS. I FIND THAT EUROPEAN WAFERS ...</td>\n",
       "    </tr>\n",
       "    <tr>\n",
       "      <th>1</th>\n",
       "      <td>138317</td>\n",
       "      <td>B000HDOPYC</td>\n",
       "      <td>AR5J8UI46CURR</td>\n",
       "      <td>Geetha Krishnan</td>\n",
       "      <td>2</td>\n",
       "      <td>2</td>\n",
       "      <td>5</td>\n",
       "      <td>1199577600</td>\n",
       "      <td>LOACKER QUADRATINI VANILLA WAFERS</td>\n",
       "      <td>DELICIOUS WAFERS. I FIND THAT EUROPEAN WAFERS ...</td>\n",
       "    </tr>\n",
       "    <tr>\n",
       "      <th>2</th>\n",
       "      <td>138277</td>\n",
       "      <td>B000HDOPYM</td>\n",
       "      <td>AR5J8UI46CURR</td>\n",
       "      <td>Geetha Krishnan</td>\n",
       "      <td>2</td>\n",
       "      <td>2</td>\n",
       "      <td>5</td>\n",
       "      <td>1199577600</td>\n",
       "      <td>LOACKER QUADRATINI VANILLA WAFERS</td>\n",
       "      <td>DELICIOUS WAFERS. I FIND THAT EUROPEAN WAFERS ...</td>\n",
       "    </tr>\n",
       "    <tr>\n",
       "      <th>3</th>\n",
       "      <td>73791</td>\n",
       "      <td>B000HDOPZG</td>\n",
       "      <td>AR5J8UI46CURR</td>\n",
       "      <td>Geetha Krishnan</td>\n",
       "      <td>2</td>\n",
       "      <td>2</td>\n",
       "      <td>5</td>\n",
       "      <td>1199577600</td>\n",
       "      <td>LOACKER QUADRATINI VANILLA WAFERS</td>\n",
       "      <td>DELICIOUS WAFERS. I FIND THAT EUROPEAN WAFERS ...</td>\n",
       "    </tr>\n",
       "    <tr>\n",
       "      <th>4</th>\n",
       "      <td>155049</td>\n",
       "      <td>B000PAQ75C</td>\n",
       "      <td>AR5J8UI46CURR</td>\n",
       "      <td>Geetha Krishnan</td>\n",
       "      <td>2</td>\n",
       "      <td>2</td>\n",
       "      <td>5</td>\n",
       "      <td>1199577600</td>\n",
       "      <td>LOACKER QUADRATINI VANILLA WAFERS</td>\n",
       "      <td>DELICIOUS WAFERS. I FIND THAT EUROPEAN WAFERS ...</td>\n",
       "    </tr>\n",
       "  </tbody>\n",
       "</table>\n",
       "</div>"
      ],
      "text/plain": [
       "       Id  ...                                               Text\n",
       "0   78445  ...  DELICIOUS WAFERS. I FIND THAT EUROPEAN WAFERS ...\n",
       "1  138317  ...  DELICIOUS WAFERS. I FIND THAT EUROPEAN WAFERS ...\n",
       "2  138277  ...  DELICIOUS WAFERS. I FIND THAT EUROPEAN WAFERS ...\n",
       "3   73791  ...  DELICIOUS WAFERS. I FIND THAT EUROPEAN WAFERS ...\n",
       "4  155049  ...  DELICIOUS WAFERS. I FIND THAT EUROPEAN WAFERS ...\n",
       "\n",
       "[5 rows x 10 columns]"
      ]
     },
     "execution_count": 7,
     "metadata": {
      "tags": []
     },
     "output_type": "execute_result"
    }
   ],
   "source": [
    "# check duplication of an entry\n",
    "display= pd.read_sql_query(\"\"\"\n",
    "SELECT *\n",
    "FROM Reviews\n",
    "WHERE UserId=\"AR5J8UI46CURR\"\n",
    "ORDER BY ProductID\n",
    "\"\"\", con)\n",
    "display.head()"
   ]
  },
  {
   "cell_type": "code",
   "execution_count": 8,
   "metadata": {
    "executionInfo": {
     "elapsed": 1892,
     "status": "ok",
     "timestamp": 1616000592839,
     "user": {
      "displayName": "Nicholas Neo",
      "photoUrl": "",
      "userId": "02359484661843204503"
     },
     "user_tz": -480
    },
    "id": "7kGIwyNKMs4C"
   },
   "outputs": [],
   "source": [
    "#Sorting data according to ProductId in ascending order\n",
    "data_train_raw=data_train_raw_.sort_values('ProductId', axis=0, ascending=True, inplace=False, kind='quicksort', na_position='last')"
   ]
  },
  {
   "cell_type": "code",
   "execution_count": 9,
   "metadata": {
    "colab": {
     "base_uri": "https://localhost:8080/"
    },
    "executionInfo": {
     "elapsed": 3114,
     "status": "ok",
     "timestamp": 1616000594245,
     "user": {
      "displayName": "Nicholas Neo",
      "photoUrl": "",
      "userId": "02359484661843204503"
     },
     "user_tz": -480
    },
    "id": "tYhPckTsQpoy",
    "outputId": "e98940a2-fd3b-4021-9f71-c3ed36623eb9"
   },
   "outputs": [
    {
     "data": {
      "text/plain": [
       "(393933, 10)"
      ]
     },
     "execution_count": 9,
     "metadata": {
      "tags": []
     },
     "output_type": "execute_result"
    }
   ],
   "source": [
    "# remove duplication of entries\n",
    "data_train_raw=data_train_raw.drop_duplicates(subset={\"UserId\",\"ProfileName\",\"Time\",\"Text\"}, keep='first', inplace=False)\n",
    "data_train_raw.shape"
   ]
  },
  {
   "cell_type": "code",
   "execution_count": 10,
   "metadata": {
    "colab": {
     "base_uri": "https://localhost:8080/",
     "height": 441
    },
    "executionInfo": {
     "elapsed": 2939,
     "status": "ok",
     "timestamp": 1616000594260,
     "user": {
      "displayName": "Nicholas Neo",
      "photoUrl": "",
      "userId": "02359484661843204503"
     },
     "user_tz": -480
    },
    "id": "OUNelGpUQv6N",
    "outputId": "b7d5c2a2-b93e-42d2-a250-05cb68e6ff7a"
   },
   "outputs": [
    {
     "data": {
      "text/html": [
       "<div>\n",
       "<style scoped>\n",
       "    .dataframe tbody tr th:only-of-type {\n",
       "        vertical-align: middle;\n",
       "    }\n",
       "\n",
       "    .dataframe tbody tr th {\n",
       "        vertical-align: top;\n",
       "    }\n",
       "\n",
       "    .dataframe thead th {\n",
       "        text-align: right;\n",
       "    }\n",
       "</style>\n",
       "<table border=\"1\" class=\"dataframe\">\n",
       "  <thead>\n",
       "    <tr style=\"text-align: right;\">\n",
       "      <th></th>\n",
       "      <th>Id</th>\n",
       "      <th>ProductId</th>\n",
       "      <th>UserId</th>\n",
       "      <th>ProfileName</th>\n",
       "      <th>HelpfulnessNumerator</th>\n",
       "      <th>HelpfulnessDenominator</th>\n",
       "      <th>Score</th>\n",
       "      <th>Time</th>\n",
       "      <th>Summary</th>\n",
       "      <th>Text</th>\n",
       "    </tr>\n",
       "  </thead>\n",
       "  <tbody>\n",
       "    <tr>\n",
       "      <th>150528</th>\n",
       "      <td>150529</td>\n",
       "      <td>0006641040</td>\n",
       "      <td>A25ACLV5KPB4W</td>\n",
       "      <td>Matt Hetling \"Matt\"</td>\n",
       "      <td>0</td>\n",
       "      <td>1</td>\n",
       "      <td>4</td>\n",
       "      <td>1108425600</td>\n",
       "      <td>Nice cadence, catchy rhymes</td>\n",
       "      <td>In June&lt;br /&gt;I saw a charming group&lt;br /&gt;of ro...</td>\n",
       "    </tr>\n",
       "    <tr>\n",
       "      <th>150506</th>\n",
       "      <td>150507</td>\n",
       "      <td>0006641040</td>\n",
       "      <td>A1S4A3IQ2MU7V4</td>\n",
       "      <td>sally sue \"sally sue\"</td>\n",
       "      <td>1</td>\n",
       "      <td>1</td>\n",
       "      <td>4</td>\n",
       "      <td>1191456000</td>\n",
       "      <td>chicken soup with rice months</td>\n",
       "      <td>This is a fun way for children to learn their ...</td>\n",
       "    </tr>\n",
       "    <tr>\n",
       "      <th>150505</th>\n",
       "      <td>150506</td>\n",
       "      <td>0006641040</td>\n",
       "      <td>A2IW4PEEKO2R0U</td>\n",
       "      <td>Tracy</td>\n",
       "      <td>1</td>\n",
       "      <td>1</td>\n",
       "      <td>4</td>\n",
       "      <td>1194739200</td>\n",
       "      <td>Love the book, miss the hard cover version</td>\n",
       "      <td>I grew up reading these Sendak books, and watc...</td>\n",
       "    </tr>\n",
       "  </tbody>\n",
       "</table>\n",
       "</div>"
      ],
      "text/plain": [
       "            Id  ...                                               Text\n",
       "150528  150529  ...  In June<br />I saw a charming group<br />of ro...\n",
       "150506  150507  ...  This is a fun way for children to learn their ...\n",
       "150505  150506  ...  I grew up reading these Sendak books, and watc...\n",
       "\n",
       "[3 rows x 10 columns]"
      ]
     },
     "execution_count": 10,
     "metadata": {
      "tags": []
     },
     "output_type": "execute_result"
    }
   ],
   "source": [
    "data_train_raw.head(3)"
   ]
  },
  {
   "cell_type": "code",
   "execution_count": 11,
   "metadata": {
    "colab": {
     "base_uri": "https://localhost:8080/"
    },
    "executionInfo": {
     "elapsed": 722,
     "status": "ok",
     "timestamp": 1616000594261,
     "user": {
      "displayName": "Nicholas Neo",
      "photoUrl": "",
      "userId": "02359484661843204503"
     },
     "user_tz": -480
    },
    "id": "YV8uV1WMQyOa",
    "outputId": "7c3a078b-c75f-4276-f502-e2140aa4baf9"
   },
   "outputs": [
    {
     "data": {
      "text/plain": [
       "69.29901100176971"
      ]
     },
     "execution_count": 11,
     "metadata": {
      "tags": []
     },
     "output_type": "execute_result"
    }
   ],
   "source": [
    "# Checking to see how much % of data still remains\n",
    "(data_train_raw['Id'].size*1.0)/(data_train_raw_['Id'].size*1.0)*100"
   ]
  },
  {
   "cell_type": "code",
   "execution_count": 12,
   "metadata": {
    "colab": {
     "base_uri": "https://localhost:8080/",
     "height": 341
    },
    "executionInfo": {
     "elapsed": 1024,
     "status": "ok",
     "timestamp": 1616000594746,
     "user": {
      "displayName": "Nicholas Neo",
      "photoUrl": "",
      "userId": "02359484661843204503"
     },
     "user_tz": -480
    },
    "id": "l81CuQLrRTip",
    "outputId": "617a5a5a-f5b6-4bc3-e923-9e208bc9b043"
   },
   "outputs": [
    {
     "data": {
      "text/html": [
       "<div>\n",
       "<style scoped>\n",
       "    .dataframe tbody tr th:only-of-type {\n",
       "        vertical-align: middle;\n",
       "    }\n",
       "\n",
       "    .dataframe tbody tr th {\n",
       "        vertical-align: top;\n",
       "    }\n",
       "\n",
       "    .dataframe thead th {\n",
       "        text-align: right;\n",
       "    }\n",
       "</style>\n",
       "<table border=\"1\" class=\"dataframe\">\n",
       "  <thead>\n",
       "    <tr style=\"text-align: right;\">\n",
       "      <th></th>\n",
       "      <th>Id</th>\n",
       "      <th>ProductId</th>\n",
       "      <th>UserId</th>\n",
       "      <th>ProfileName</th>\n",
       "      <th>HelpfulnessNumerator</th>\n",
       "      <th>HelpfulnessDenominator</th>\n",
       "      <th>Score</th>\n",
       "      <th>Time</th>\n",
       "      <th>Summary</th>\n",
       "      <th>Text</th>\n",
       "    </tr>\n",
       "  </thead>\n",
       "  <tbody>\n",
       "    <tr>\n",
       "      <th>0</th>\n",
       "      <td>64422</td>\n",
       "      <td>B000MIDROQ</td>\n",
       "      <td>A161DK06JJMCYF</td>\n",
       "      <td>J. E. Stephens \"Jeanne\"</td>\n",
       "      <td>3</td>\n",
       "      <td>1</td>\n",
       "      <td>5</td>\n",
       "      <td>1224892800</td>\n",
       "      <td>Bought This for My Son at College</td>\n",
       "      <td>My son loves spaghetti so I didn't hesitate or...</td>\n",
       "    </tr>\n",
       "    <tr>\n",
       "      <th>1</th>\n",
       "      <td>44737</td>\n",
       "      <td>B001EQ55RW</td>\n",
       "      <td>A2V0I904FH7ABY</td>\n",
       "      <td>Ram</td>\n",
       "      <td>3</td>\n",
       "      <td>2</td>\n",
       "      <td>4</td>\n",
       "      <td>1212883200</td>\n",
       "      <td>Pure cocoa taste with crunchy almonds inside</td>\n",
       "      <td>It was almost a 'love at first bite' - the per...</td>\n",
       "    </tr>\n",
       "  </tbody>\n",
       "</table>\n",
       "</div>"
      ],
      "text/plain": [
       "      Id  ...                                               Text\n",
       "0  64422  ...  My son loves spaghetti so I didn't hesitate or...\n",
       "1  44737  ...  It was almost a 'love at first bite' - the per...\n",
       "\n",
       "[2 rows x 10 columns]"
      ]
     },
     "execution_count": 12,
     "metadata": {
      "tags": []
     },
     "output_type": "execute_result"
    }
   ],
   "source": [
    "# sample query\n",
    "display= pd.read_sql_query(\"\"\"\n",
    "SELECT *\n",
    "FROM Reviews\n",
    "WHERE Id=44737 OR Id=64422\n",
    "ORDER BY ProductID\n",
    "\"\"\", con)\n",
    "\n",
    "display.head()"
   ]
  },
  {
   "cell_type": "code",
   "execution_count": 13,
   "metadata": {
    "executionInfo": {
     "elapsed": 882,
     "status": "ok",
     "timestamp": 1616000594747,
     "user": {
      "displayName": "Nicholas Neo",
      "photoUrl": "",
      "userId": "02359484661843204503"
     },
     "user_tz": -480
    },
    "id": "PmiRPaM4RZui"
   },
   "outputs": [],
   "source": [
    "# choose data that the helpfulness numerator is higher than the denominator\n",
    "data_train_raw=data_train_raw[data_train_raw.HelpfulnessNumerator<=data_train_raw.HelpfulnessDenominator]"
   ]
  },
  {
   "cell_type": "code",
   "execution_count": 14,
   "metadata": {
    "colab": {
     "base_uri": "https://localhost:8080/"
    },
    "executionInfo": {
     "elapsed": 701,
     "status": "ok",
     "timestamp": 1616000594747,
     "user": {
      "displayName": "Nicholas Neo",
      "photoUrl": "",
      "userId": "02359484661843204503"
     },
     "user_tz": -480
    },
    "id": "7GWKPdCeRl3r",
    "outputId": "528cd2b7-b6f2-43c4-98d1-6c5e06aed1f0"
   },
   "outputs": [
    {
     "name": "stdout",
     "output_type": "stream",
     "text": [
      "(393931, 10)\n"
     ]
    },
    {
     "data": {
      "text/plain": [
       "5    250966\n",
       "4     56086\n",
       "1     36307\n",
       "3     29772\n",
       "2     20800\n",
       "Name: Score, dtype: int64"
      ]
     },
     "execution_count": 14,
     "metadata": {
      "tags": []
     },
     "output_type": "execute_result"
    }
   ],
   "source": [
    "#Before starting the next phase of preprocessing lets see the number of entries left\n",
    "print(data_train_raw.shape)\n",
    "\n",
    "# distribution of the score of the train data\n",
    "data_train_raw['Score'].value_counts()"
   ]
  },
  {
   "cell_type": "markdown",
   "metadata": {
    "id": "VVT-r7sHSdW5"
   },
   "source": [
    "### Create a training dataframe with only the comments and the ratings"
   ]
  },
  {
   "cell_type": "code",
   "execution_count": 15,
   "metadata": {
    "colab": {
     "base_uri": "https://localhost:8080/",
     "height": 206
    },
    "executionInfo": {
     "elapsed": 843,
     "status": "ok",
     "timestamp": 1616000595259,
     "user": {
      "displayName": "Nicholas Neo",
      "photoUrl": "",
      "userId": "02359484661843204503"
     },
     "user_tz": -480
    },
    "id": "gVXtlz3hRtIb",
    "outputId": "4f21ee59-358a-4e3e-fd14-91d0416018d8"
   },
   "outputs": [
    {
     "data": {
      "text/html": [
       "<div>\n",
       "<style scoped>\n",
       "    .dataframe tbody tr th:only-of-type {\n",
       "        vertical-align: middle;\n",
       "    }\n",
       "\n",
       "    .dataframe tbody tr th {\n",
       "        vertical-align: top;\n",
       "    }\n",
       "\n",
       "    .dataframe thead th {\n",
       "        text-align: right;\n",
       "    }\n",
       "</style>\n",
       "<table border=\"1\" class=\"dataframe\">\n",
       "  <thead>\n",
       "    <tr style=\"text-align: right;\">\n",
       "      <th></th>\n",
       "      <th>comments</th>\n",
       "      <th>ratings</th>\n",
       "      <th>type</th>\n",
       "    </tr>\n",
       "  </thead>\n",
       "  <tbody>\n",
       "    <tr>\n",
       "      <th>150528</th>\n",
       "      <td>In June&lt;br /&gt;I saw a charming group&lt;br /&gt;of ro...</td>\n",
       "      <td>4</td>\n",
       "      <td>train</td>\n",
       "    </tr>\n",
       "    <tr>\n",
       "      <th>150506</th>\n",
       "      <td>This is a fun way for children to learn their ...</td>\n",
       "      <td>4</td>\n",
       "      <td>train</td>\n",
       "    </tr>\n",
       "    <tr>\n",
       "      <th>150505</th>\n",
       "      <td>I grew up reading these Sendak books, and watc...</td>\n",
       "      <td>4</td>\n",
       "      <td>train</td>\n",
       "    </tr>\n",
       "    <tr>\n",
       "      <th>150504</th>\n",
       "      <td>Get the movie or sound track and sing along wi...</td>\n",
       "      <td>4</td>\n",
       "      <td>train</td>\n",
       "    </tr>\n",
       "    <tr>\n",
       "      <th>150503</th>\n",
       "      <td>A very entertaining rhyming story--cleaver and...</td>\n",
       "      <td>4</td>\n",
       "      <td>train</td>\n",
       "    </tr>\n",
       "  </tbody>\n",
       "</table>\n",
       "</div>"
      ],
      "text/plain": [
       "                                                 comments  ratings   type\n",
       "150528  In June<br />I saw a charming group<br />of ro...        4  train\n",
       "150506  This is a fun way for children to learn their ...        4  train\n",
       "150505  I grew up reading these Sendak books, and watc...        4  train\n",
       "150504  Get the movie or sound track and sing along wi...        4  train\n",
       "150503  A very entertaining rhyming story--cleaver and...        4  train"
      ]
     },
     "execution_count": 15,
     "metadata": {
      "tags": []
     },
     "output_type": "execute_result"
    }
   ],
   "source": [
    "# create an empty dataframe\n",
    "data_train = pd.DataFrame()\n",
    "\n",
    "# to store only the required columns into the new dataframe\n",
    "data_train['comments'] = data_train_raw['Text']\n",
    "data_train['ratings'] = data_train_raw['Score']\n",
    "data_train['type'] = \"train\"\n",
    "data_train.head()"
   ]
  },
  {
   "cell_type": "code",
   "execution_count": 16,
   "metadata": {
    "colab": {
     "base_uri": "https://localhost:8080/"
    },
    "executionInfo": {
     "elapsed": 582,
     "status": "ok",
     "timestamp": 1616000596493,
     "user": {
      "displayName": "Nicholas Neo",
      "photoUrl": "",
      "userId": "02359484661843204503"
     },
     "user_tz": -480
    },
    "id": "9u9LePGzSzJf",
    "outputId": "2d124db3-e725-41fd-860a-aa5272c92e90"
   },
   "outputs": [
    {
     "data": {
      "text/plain": [
       "(393931, 3)"
      ]
     },
     "execution_count": 16,
     "metadata": {
      "tags": []
     },
     "output_type": "execute_result"
    }
   ],
   "source": [
    "data_train.shape"
   ]
  },
  {
   "cell_type": "code",
   "execution_count": 17,
   "metadata": {
    "colab": {
     "base_uri": "https://localhost:8080/"
    },
    "executionInfo": {
     "elapsed": 928,
     "status": "ok",
     "timestamp": 1616000597139,
     "user": {
      "displayName": "Nicholas Neo",
      "photoUrl": "",
      "userId": "02359484661843204503"
     },
     "user_tz": -480
    },
    "id": "0RHV_k11nImF",
    "outputId": "b2a99b78-3ffc-4efa-a828-35b6d32168b7"
   },
   "outputs": [
    {
     "data": {
      "text/plain": [
       "comments    object\n",
       "ratings      int64\n",
       "type        object\n",
       "dtype: object"
      ]
     },
     "execution_count": 17,
     "metadata": {
      "tags": []
     },
     "output_type": "execute_result"
    }
   ],
   "source": [
    "data_train.dtypes"
   ]
  },
  {
   "cell_type": "markdown",
   "metadata": {
    "id": "3XPYZ2A4T2Dr"
   },
   "source": [
    "There are 393931 data that we will use to train and validate our model, now we will move on to pre-process our test data, which was scraped from trip advisor."
   ]
  },
  {
   "cell_type": "code",
   "execution_count": 17,
   "metadata": {
    "executionInfo": {
     "elapsed": 1250,
     "status": "ok",
     "timestamp": 1616000597800,
     "user": {
      "displayName": "Nicholas Neo",
      "photoUrl": "",
      "userId": "02359484661843204503"
     },
     "user_tz": -480
    },
    "id": "yTRW2hIKVHdM"
   },
   "outputs": [],
   "source": []
  },
  {
   "cell_type": "markdown",
   "metadata": {
    "id": "ad70KkDbU-M3"
   },
   "source": [
    "# Pre-processing the test set (scraped data from tripadvisor)\n",
    "The goal is to clean the data of the test set so that the both datasets have the same columns"
   ]
  },
  {
   "cell_type": "markdown",
   "metadata": {
    "id": "BDRMkX79YJJq"
   },
   "source": [
    "### Import test data"
   ]
  },
  {
   "cell_type": "code",
   "execution_count": 18,
   "metadata": {
    "colab": {
     "base_uri": "https://localhost:8080/",
     "height": 241
    },
    "executionInfo": {
     "elapsed": 2090,
     "status": "ok",
     "timestamp": 1616000599316,
     "user": {
      "displayName": "Nicholas Neo",
      "photoUrl": "",
      "userId": "02359484661843204503"
     },
     "user_tz": -480
    },
    "id": "mhmKRAGlTtcl",
    "outputId": "ff9bd076-c387-4875-aa42-c8b3f3c51942"
   },
   "outputs": [
    {
     "data": {
      "text/html": [
       "<div>\n",
       "<style scoped>\n",
       "    .dataframe tbody tr th:only-of-type {\n",
       "        vertical-align: middle;\n",
       "    }\n",
       "\n",
       "    .dataframe tbody tr th {\n",
       "        vertical-align: top;\n",
       "    }\n",
       "\n",
       "    .dataframe thead th {\n",
       "        text-align: right;\n",
       "    }\n",
       "</style>\n",
       "<table border=\"1\" class=\"dataframe\">\n",
       "  <thead>\n",
       "    <tr style=\"text-align: right;\">\n",
       "      <th></th>\n",
       "      <th>Restaurant Name</th>\n",
       "      <th>Restaurant Type</th>\n",
       "      <th>Reviewer's Name</th>\n",
       "      <th>Rating</th>\n",
       "      <th>Comment</th>\n",
       "    </tr>\n",
       "  </thead>\n",
       "  <tbody>\n",
       "    <tr>\n",
       "      <th>0</th>\n",
       "      <td>Positano @ RP</td>\n",
       "      <td>Italian, European</td>\n",
       "      <td>aisvslife98</td>\n",
       "      <td>5</td>\n",
       "      <td>I enjoyed my time here with my girlfriends! Fa...</td>\n",
       "    </tr>\n",
       "    <tr>\n",
       "      <th>1</th>\n",
       "      <td>Positano @ RP</td>\n",
       "      <td>Italian, European</td>\n",
       "      <td>Odyssey44198198885</td>\n",
       "      <td>5</td>\n",
       "      <td>Wonderful and amazing service experience. Defi...</td>\n",
       "    </tr>\n",
       "    <tr>\n",
       "      <th>2</th>\n",
       "      <td>Positano @ RP</td>\n",
       "      <td>Italian, European</td>\n",
       "      <td>Ninifazelin</td>\n",
       "      <td>5</td>\n",
       "      <td>Great food and wonderful service! Will definit...</td>\n",
       "    </tr>\n",
       "    <tr>\n",
       "      <th>3</th>\n",
       "      <td>Positano @ RP</td>\n",
       "      <td>Italian, European</td>\n",
       "      <td>Amaliamazlan</td>\n",
       "      <td>5</td>\n",
       "      <td>Not my first time in Positano and definitely w...</td>\n",
       "    </tr>\n",
       "    <tr>\n",
       "      <th>4</th>\n",
       "      <td>Positano @ RP</td>\n",
       "      <td>Italian, European</td>\n",
       "      <td>Shahzanstim</td>\n",
       "      <td>5</td>\n",
       "      <td>Excellent service from the staff. The beef was...</td>\n",
       "    </tr>\n",
       "  </tbody>\n",
       "</table>\n",
       "</div>"
      ],
      "text/plain": [
       "  Restaurant Name  ...                                            Comment\n",
       "0   Positano @ RP  ...  I enjoyed my time here with my girlfriends! Fa...\n",
       "1   Positano @ RP  ...  Wonderful and amazing service experience. Defi...\n",
       "2   Positano @ RP  ...  Great food and wonderful service! Will definit...\n",
       "3   Positano @ RP  ...  Not my first time in Positano and definitely w...\n",
       "4   Positano @ RP  ...  Excellent service from the staff. The beef was...\n",
       "\n",
       "[5 rows x 5 columns]"
      ]
     },
     "execution_count": 18,
     "metadata": {
      "tags": []
     },
     "output_type": "execute_result"
    }
   ],
   "source": [
    "# read the test data\n",
    "data_test_raw_ = pd.read_csv(COLAB_FILEPATH+'data/trip-advisor-comments.csv')\n",
    "data_test_raw_.head()"
   ]
  },
  {
   "cell_type": "code",
   "execution_count": 19,
   "metadata": {
    "colab": {
     "base_uri": "https://localhost:8080/"
    },
    "executionInfo": {
     "elapsed": 1905,
     "status": "ok",
     "timestamp": 1616000599322,
     "user": {
      "displayName": "Nicholas Neo",
      "photoUrl": "",
      "userId": "02359484661843204503"
     },
     "user_tz": -480
    },
    "id": "eT0O0vI4XFFX",
    "outputId": "c26559a2-a40b-4390-87f5-2a41654d1001"
   },
   "outputs": [
    {
     "data": {
      "text/plain": [
       "(97190, 5)"
      ]
     },
     "execution_count": 19,
     "metadata": {
      "tags": []
     },
     "output_type": "execute_result"
    }
   ],
   "source": [
    "data_test_raw_.shape"
   ]
  },
  {
   "cell_type": "markdown",
   "metadata": {
    "id": "n6SlyITWYR2I"
   },
   "source": [
    "### Filtering of the test data"
   ]
  },
  {
   "cell_type": "code",
   "execution_count": 20,
   "metadata": {
    "colab": {
     "base_uri": "https://localhost:8080/"
    },
    "executionInfo": {
     "elapsed": 1564,
     "status": "ok",
     "timestamp": 1616000599323,
     "user": {
      "displayName": "Nicholas Neo",
      "photoUrl": "",
      "userId": "02359484661843204503"
     },
     "user_tz": -480
    },
    "id": "G3P6bGH2WRfy",
    "outputId": "f89aed29-4f4b-406a-c45b-f348a9cf3247"
   },
   "outputs": [
    {
     "data": {
      "text/plain": [
       "(88045, 5)"
      ]
     },
     "execution_count": 20,
     "metadata": {
      "tags": []
     },
     "output_type": "execute_result"
    }
   ],
   "source": [
    "# remove duplication of entries\n",
    "data_test_raw=data_test_raw_.drop_duplicates(subset={\"Reviewer\\'s Name\",\"Rating\",\"Comment\"}, keep='first', inplace=False)\n",
    "data_test_raw.shape"
   ]
  },
  {
   "cell_type": "code",
   "execution_count": 21,
   "metadata": {
    "colab": {
     "base_uri": "https://localhost:8080/",
     "height": 178
    },
    "executionInfo": {
     "elapsed": 1424,
     "status": "ok",
     "timestamp": 1616000599323,
     "user": {
      "displayName": "Nicholas Neo",
      "photoUrl": "",
      "userId": "02359484661843204503"
     },
     "user_tz": -480
    },
    "id": "YzwadvhQXC9c",
    "outputId": "02070c4b-4d72-4824-e622-f9afc5dc5e9f"
   },
   "outputs": [
    {
     "data": {
      "text/html": [
       "<div>\n",
       "<style scoped>\n",
       "    .dataframe tbody tr th:only-of-type {\n",
       "        vertical-align: middle;\n",
       "    }\n",
       "\n",
       "    .dataframe tbody tr th {\n",
       "        vertical-align: top;\n",
       "    }\n",
       "\n",
       "    .dataframe thead th {\n",
       "        text-align: right;\n",
       "    }\n",
       "</style>\n",
       "<table border=\"1\" class=\"dataframe\">\n",
       "  <thead>\n",
       "    <tr style=\"text-align: right;\">\n",
       "      <th></th>\n",
       "      <th>Restaurant Name</th>\n",
       "      <th>Restaurant Type</th>\n",
       "      <th>Reviewer's Name</th>\n",
       "      <th>Rating</th>\n",
       "      <th>Comment</th>\n",
       "    </tr>\n",
       "  </thead>\n",
       "  <tbody>\n",
       "    <tr>\n",
       "      <th>0</th>\n",
       "      <td>Positano @ RP</td>\n",
       "      <td>Italian, European</td>\n",
       "      <td>aisvslife98</td>\n",
       "      <td>5</td>\n",
       "      <td>I enjoyed my time here with my girlfriends! Fa...</td>\n",
       "    </tr>\n",
       "    <tr>\n",
       "      <th>1</th>\n",
       "      <td>Positano @ RP</td>\n",
       "      <td>Italian, European</td>\n",
       "      <td>Odyssey44198198885</td>\n",
       "      <td>5</td>\n",
       "      <td>Wonderful and amazing service experience. Defi...</td>\n",
       "    </tr>\n",
       "    <tr>\n",
       "      <th>2</th>\n",
       "      <td>Positano @ RP</td>\n",
       "      <td>Italian, European</td>\n",
       "      <td>Ninifazelin</td>\n",
       "      <td>5</td>\n",
       "      <td>Great food and wonderful service! Will definit...</td>\n",
       "    </tr>\n",
       "  </tbody>\n",
       "</table>\n",
       "</div>"
      ],
      "text/plain": [
       "  Restaurant Name  ...                                            Comment\n",
       "0   Positano @ RP  ...  I enjoyed my time here with my girlfriends! Fa...\n",
       "1   Positano @ RP  ...  Wonderful and amazing service experience. Defi...\n",
       "2   Positano @ RP  ...  Great food and wonderful service! Will definit...\n",
       "\n",
       "[3 rows x 5 columns]"
      ]
     },
     "execution_count": 21,
     "metadata": {
      "tags": []
     },
     "output_type": "execute_result"
    }
   ],
   "source": [
    "data_test_raw.head(3)"
   ]
  },
  {
   "cell_type": "code",
   "execution_count": 22,
   "metadata": {
    "colab": {
     "base_uri": "https://localhost:8080/"
    },
    "executionInfo": {
     "elapsed": 1274,
     "status": "ok",
     "timestamp": 1616000599323,
     "user": {
      "displayName": "Nicholas Neo",
      "photoUrl": "",
      "userId": "02359484661843204503"
     },
     "user_tz": -480
    },
    "id": "MXuNnFwQXQ1t",
    "outputId": "6df470aa-6dea-4e0e-9fb8-50acd23a8a63"
   },
   "outputs": [
    {
     "data": {
      "text/plain": [
       "90.5905957403025"
      ]
     },
     "execution_count": 22,
     "metadata": {
      "tags": []
     },
     "output_type": "execute_result"
    }
   ],
   "source": [
    "#Checking to see how much % of data still remains after removing duplications\n",
    "(data_test_raw['Reviewer\\'s Name'].size*1.0)/(data_test_raw_['Reviewer\\'s Name'].size*1.0)*100"
   ]
  },
  {
   "cell_type": "code",
   "execution_count": 23,
   "metadata": {
    "colab": {
     "base_uri": "https://localhost:8080/"
    },
    "executionInfo": {
     "elapsed": 1107,
     "status": "ok",
     "timestamp": 1616000599324,
     "user": {
      "displayName": "Nicholas Neo",
      "photoUrl": "",
      "userId": "02359484661843204503"
     },
     "user_tz": -480
    },
    "id": "2eLon3atX1Bg",
    "outputId": "4c51ea21-9038-45d4-d49e-c2d05e61f8b0"
   },
   "outputs": [
    {
     "name": "stdout",
     "output_type": "stream",
     "text": [
      "(88045, 5)\n"
     ]
    },
    {
     "data": {
      "text/plain": [
       "5    46304\n",
       "4    25978\n",
       "3     8837\n",
       "1     3464\n",
       "2     3462\n",
       "Name: Rating, dtype: int64"
      ]
     },
     "execution_count": 23,
     "metadata": {
      "tags": []
     },
     "output_type": "execute_result"
    }
   ],
   "source": [
    "#Before starting the next phase of preprocessing lets see the number of entries left\n",
    "print(data_test_raw.shape)\n",
    "\n",
    "# distribution of the score of the train data\n",
    "data_test_raw['Rating'].value_counts()"
   ]
  },
  {
   "cell_type": "markdown",
   "metadata": {
    "id": "LLcBUTG8YzAA"
   },
   "source": [
    "### Create a test dataframe with only the comments and the ratings"
   ]
  },
  {
   "cell_type": "code",
   "execution_count": 24,
   "metadata": {
    "colab": {
     "base_uri": "https://localhost:8080/",
     "height": 206
    },
    "executionInfo": {
     "elapsed": 783,
     "status": "ok",
     "timestamp": 1616000599324,
     "user": {
      "displayName": "Nicholas Neo",
      "photoUrl": "",
      "userId": "02359484661843204503"
     },
     "user_tz": -480
    },
    "id": "xj1zl_LJYkNn",
    "outputId": "852114e4-5619-4a7d-a7f1-402ff094b7d7"
   },
   "outputs": [
    {
     "data": {
      "text/html": [
       "<div>\n",
       "<style scoped>\n",
       "    .dataframe tbody tr th:only-of-type {\n",
       "        vertical-align: middle;\n",
       "    }\n",
       "\n",
       "    .dataframe tbody tr th {\n",
       "        vertical-align: top;\n",
       "    }\n",
       "\n",
       "    .dataframe thead th {\n",
       "        text-align: right;\n",
       "    }\n",
       "</style>\n",
       "<table border=\"1\" class=\"dataframe\">\n",
       "  <thead>\n",
       "    <tr style=\"text-align: right;\">\n",
       "      <th></th>\n",
       "      <th>comments</th>\n",
       "      <th>ratings</th>\n",
       "      <th>type</th>\n",
       "    </tr>\n",
       "  </thead>\n",
       "  <tbody>\n",
       "    <tr>\n",
       "      <th>0</th>\n",
       "      <td>I enjoyed my time here with my girlfriends! Fa...</td>\n",
       "      <td>5</td>\n",
       "      <td>test</td>\n",
       "    </tr>\n",
       "    <tr>\n",
       "      <th>1</th>\n",
       "      <td>Wonderful and amazing service experience. Defi...</td>\n",
       "      <td>5</td>\n",
       "      <td>test</td>\n",
       "    </tr>\n",
       "    <tr>\n",
       "      <th>2</th>\n",
       "      <td>Great food and wonderful service! Will definit...</td>\n",
       "      <td>5</td>\n",
       "      <td>test</td>\n",
       "    </tr>\n",
       "    <tr>\n",
       "      <th>3</th>\n",
       "      <td>Not my first time in Positano and definitely w...</td>\n",
       "      <td>5</td>\n",
       "      <td>test</td>\n",
       "    </tr>\n",
       "    <tr>\n",
       "      <th>4</th>\n",
       "      <td>Excellent service from the staff. The beef was...</td>\n",
       "      <td>5</td>\n",
       "      <td>test</td>\n",
       "    </tr>\n",
       "  </tbody>\n",
       "</table>\n",
       "</div>"
      ],
      "text/plain": [
       "                                            comments  ratings  type\n",
       "0  I enjoyed my time here with my girlfriends! Fa...        5  test\n",
       "1  Wonderful and amazing service experience. Defi...        5  test\n",
       "2  Great food and wonderful service! Will definit...        5  test\n",
       "3  Not my first time in Positano and definitely w...        5  test\n",
       "4  Excellent service from the staff. The beef was...        5  test"
      ]
     },
     "execution_count": 24,
     "metadata": {
      "tags": []
     },
     "output_type": "execute_result"
    }
   ],
   "source": [
    "# create an empty dataframe\n",
    "data_test = pd.DataFrame()\n",
    "\n",
    "# to store only the required columns into the new dataframe\n",
    "data_test['comments'] = data_test_raw['Comment']\n",
    "data_test['ratings'] = data_test_raw['Rating']\n",
    "data_test['type'] = \"test\"\n",
    "data_test.head()"
   ]
  },
  {
   "cell_type": "code",
   "execution_count": 25,
   "metadata": {
    "colab": {
     "base_uri": "https://localhost:8080/"
    },
    "executionInfo": {
     "elapsed": 905,
     "status": "ok",
     "timestamp": 1616000599604,
     "user": {
      "displayName": "Nicholas Neo",
      "photoUrl": "",
      "userId": "02359484661843204503"
     },
     "user_tz": -480
    },
    "id": "qfwmLIocZS6G",
    "outputId": "5da76ee2-3cd4-47cc-8114-53388ea8c345"
   },
   "outputs": [
    {
     "data": {
      "text/plain": [
       "(88045, 3)"
      ]
     },
     "execution_count": 25,
     "metadata": {
      "tags": []
     },
     "output_type": "execute_result"
    }
   ],
   "source": [
    "data_test.shape"
   ]
  },
  {
   "cell_type": "code",
   "execution_count": 26,
   "metadata": {
    "colab": {
     "base_uri": "https://localhost:8080/"
    },
    "executionInfo": {
     "elapsed": 734,
     "status": "ok",
     "timestamp": 1616000600764,
     "user": {
      "displayName": "Nicholas Neo",
      "photoUrl": "",
      "userId": "02359484661843204503"
     },
     "user_tz": -480
    },
    "id": "CcZIDQHLZjab",
    "outputId": "25bd12ec-fe7f-4f06-a868-a68f4299d59f"
   },
   "outputs": [
    {
     "data": {
      "text/plain": [
       "comments    object\n",
       "ratings      int64\n",
       "type        object\n",
       "dtype: object"
      ]
     },
     "execution_count": 26,
     "metadata": {
      "tags": []
     },
     "output_type": "execute_result"
    }
   ],
   "source": [
    "data_test.dtypes"
   ]
  },
  {
   "cell_type": "markdown",
   "metadata": {
    "id": "cjsw2WpJZrWi"
   },
   "source": [
    "# Merge the 2 dataframes together\n",
    "Take note of the last entry of the train set and the first entry of the test set so that we can split the dataset to train-val and test set after tokenization"
   ]
  },
  {
   "cell_type": "code",
   "execution_count": 27,
   "metadata": {
    "colab": {
     "base_uri": "https://localhost:8080/"
    },
    "executionInfo": {
     "elapsed": 965,
     "status": "ok",
     "timestamp": 1616000602067,
     "user": {
      "displayName": "Nicholas Neo",
      "photoUrl": "",
      "userId": "02359484661843204503"
     },
     "user_tz": -480
    },
    "id": "_-eeplauZ33a",
    "outputId": "d470df5c-cdb7-46b4-8d07-e66fb4e160af"
   },
   "outputs": [
    {
     "name": "stdout",
     "output_type": "stream",
     "text": [
      "Train set dimension: (393931, 3)\n",
      "Test set dimension: (88045, 3)\n"
     ]
    }
   ],
   "source": [
    "# shape of train set\n",
    "print(f'Train set dimension: {data_train.shape}')\n",
    "# shape of test set\n",
    "print(f'Test set dimension: {data_test.shape}')"
   ]
  },
  {
   "cell_type": "code",
   "execution_count": 28,
   "metadata": {
    "colab": {
     "base_uri": "https://localhost:8080/",
     "height": 206
    },
    "executionInfo": {
     "elapsed": 810,
     "status": "ok",
     "timestamp": 1616000602079,
     "user": {
      "displayName": "Nicholas Neo",
      "photoUrl": "",
      "userId": "02359484661843204503"
     },
     "user_tz": -480
    },
    "id": "3jWtJQYEaWpK",
    "outputId": "0fdc9240-aa5a-47be-cc17-b4e7f17509c4"
   },
   "outputs": [
    {
     "data": {
      "text/html": [
       "<div>\n",
       "<style scoped>\n",
       "    .dataframe tbody tr th:only-of-type {\n",
       "        vertical-align: middle;\n",
       "    }\n",
       "\n",
       "    .dataframe tbody tr th {\n",
       "        vertical-align: top;\n",
       "    }\n",
       "\n",
       "    .dataframe thead th {\n",
       "        text-align: right;\n",
       "    }\n",
       "</style>\n",
       "<table border=\"1\" class=\"dataframe\">\n",
       "  <thead>\n",
       "    <tr style=\"text-align: right;\">\n",
       "      <th></th>\n",
       "      <th>comments</th>\n",
       "      <th>ratings</th>\n",
       "      <th>type</th>\n",
       "    </tr>\n",
       "  </thead>\n",
       "  <tbody>\n",
       "    <tr>\n",
       "      <th>150528</th>\n",
       "      <td>In June&lt;br /&gt;I saw a charming group&lt;br /&gt;of ro...</td>\n",
       "      <td>4</td>\n",
       "      <td>train</td>\n",
       "    </tr>\n",
       "    <tr>\n",
       "      <th>150506</th>\n",
       "      <td>This is a fun way for children to learn their ...</td>\n",
       "      <td>4</td>\n",
       "      <td>train</td>\n",
       "    </tr>\n",
       "    <tr>\n",
       "      <th>150505</th>\n",
       "      <td>I grew up reading these Sendak books, and watc...</td>\n",
       "      <td>4</td>\n",
       "      <td>train</td>\n",
       "    </tr>\n",
       "    <tr>\n",
       "      <th>150504</th>\n",
       "      <td>Get the movie or sound track and sing along wi...</td>\n",
       "      <td>4</td>\n",
       "      <td>train</td>\n",
       "    </tr>\n",
       "    <tr>\n",
       "      <th>150503</th>\n",
       "      <td>A very entertaining rhyming story--cleaver and...</td>\n",
       "      <td>4</td>\n",
       "      <td>train</td>\n",
       "    </tr>\n",
       "  </tbody>\n",
       "</table>\n",
       "</div>"
      ],
      "text/plain": [
       "                                                 comments  ratings   type\n",
       "150528  In June<br />I saw a charming group<br />of ro...        4  train\n",
       "150506  This is a fun way for children to learn their ...        4  train\n",
       "150505  I grew up reading these Sendak books, and watc...        4  train\n",
       "150504  Get the movie or sound track and sing along wi...        4  train\n",
       "150503  A very entertaining rhyming story--cleaver and...        4  train"
      ]
     },
     "execution_count": 28,
     "metadata": {
      "tags": []
     },
     "output_type": "execute_result"
    }
   ],
   "source": [
    "# merge the 2 dataframes together to perform tokenization\n",
    "frames = [data_train,data_test]\n",
    "data_overall = pd.concat(frames)\n",
    "data_overall.head()"
   ]
  },
  {
   "cell_type": "code",
   "execution_count": 29,
   "metadata": {
    "colab": {
     "base_uri": "https://localhost:8080/"
    },
    "executionInfo": {
     "elapsed": 985,
     "status": "ok",
     "timestamp": 1616000602417,
     "user": {
      "displayName": "Nicholas Neo",
      "photoUrl": "",
      "userId": "02359484661843204503"
     },
     "user_tz": -480
    },
    "id": "pCToj48Ya65-",
    "outputId": "2d34a193-2107-48f3-8bc9-534db03634d3"
   },
   "outputs": [
    {
     "data": {
      "text/plain": [
       "(481976, 3)"
      ]
     },
     "execution_count": 29,
     "metadata": {
      "tags": []
     },
     "output_type": "execute_result"
    }
   ],
   "source": [
    "# check the dimension of the merged dataframe\n",
    "data_overall.shape"
   ]
  },
  {
   "cell_type": "code",
   "execution_count": 30,
   "metadata": {
    "colab": {
     "base_uri": "https://localhost:8080/",
     "height": 175
    },
    "executionInfo": {
     "elapsed": 604,
     "status": "ok",
     "timestamp": 1616000603566,
     "user": {
      "displayName": "Nicholas Neo",
      "photoUrl": "",
      "userId": "02359484661843204503"
     },
     "user_tz": -480
    },
    "id": "FFhzbR3WbIWL",
    "outputId": "14b6ecef-db75-4d8f-853d-e981b6cd6789"
   },
   "outputs": [
    {
     "data": {
      "text/html": [
       "<div>\n",
       "<style scoped>\n",
       "    .dataframe tbody tr th:only-of-type {\n",
       "        vertical-align: middle;\n",
       "    }\n",
       "\n",
       "    .dataframe tbody tr th {\n",
       "        vertical-align: top;\n",
       "    }\n",
       "\n",
       "    .dataframe thead th {\n",
       "        text-align: right;\n",
       "    }\n",
       "</style>\n",
       "<table border=\"1\" class=\"dataframe\">\n",
       "  <thead>\n",
       "    <tr style=\"text-align: right;\">\n",
       "      <th></th>\n",
       "      <th>comments</th>\n",
       "      <th>ratings</th>\n",
       "      <th>type</th>\n",
       "    </tr>\n",
       "  </thead>\n",
       "  <tbody>\n",
       "    <tr>\n",
       "      <th>5702</th>\n",
       "      <td>Purchased this product at a local store in NY ...</td>\n",
       "      <td>5</td>\n",
       "      <td>train</td>\n",
       "    </tr>\n",
       "    <tr>\n",
       "      <th>327600</th>\n",
       "      <td>I purchased this to send to my son who's away ...</td>\n",
       "      <td>5</td>\n",
       "      <td>train</td>\n",
       "    </tr>\n",
       "    <tr>\n",
       "      <th>0</th>\n",
       "      <td>I enjoyed my time here with my girlfriends! Fa...</td>\n",
       "      <td>5</td>\n",
       "      <td>test</td>\n",
       "    </tr>\n",
       "    <tr>\n",
       "      <th>1</th>\n",
       "      <td>Wonderful and amazing service experience. Defi...</td>\n",
       "      <td>5</td>\n",
       "      <td>test</td>\n",
       "    </tr>\n",
       "  </tbody>\n",
       "</table>\n",
       "</div>"
      ],
      "text/plain": [
       "                                                 comments  ratings   type\n",
       "5702    Purchased this product at a local store in NY ...        5  train\n",
       "327600  I purchased this to send to my son who's away ...        5  train\n",
       "0       I enjoyed my time here with my girlfriends! Fa...        5   test\n",
       "1       Wonderful and amazing service experience. Defi...        5   test"
      ]
     },
     "execution_count": 30,
     "metadata": {
      "tags": []
     },
     "output_type": "execute_result"
    }
   ],
   "source": [
    "# check the range where the data changes from train set to test set\n",
    "# debug\n",
    "#data_overall.iloc[:,:]\n",
    "# finding the split\n",
    "data_overall.iloc[393929:393933,:]"
   ]
  },
  {
   "cell_type": "code",
   "execution_count": 31,
   "metadata": {
    "colab": {
     "base_uri": "https://localhost:8080/",
     "height": 81
    },
    "executionInfo": {
     "elapsed": 977,
     "status": "ok",
     "timestamp": 1616000606499,
     "user": {
      "displayName": "Nicholas Neo",
      "photoUrl": "",
      "userId": "02359484661843204503"
     },
     "user_tz": -480
    },
    "id": "Nx3LgdkhbYAI",
    "outputId": "644dc614-fa82-41ff-bdc2-08540d1ca997"
   },
   "outputs": [
    {
     "data": {
      "text/html": [
       "<div>\n",
       "<style scoped>\n",
       "    .dataframe tbody tr th:only-of-type {\n",
       "        vertical-align: middle;\n",
       "    }\n",
       "\n",
       "    .dataframe tbody tr th {\n",
       "        vertical-align: top;\n",
       "    }\n",
       "\n",
       "    .dataframe thead th {\n",
       "        text-align: right;\n",
       "    }\n",
       "</style>\n",
       "<table border=\"1\" class=\"dataframe\">\n",
       "  <thead>\n",
       "    <tr style=\"text-align: right;\">\n",
       "      <th></th>\n",
       "      <th>comments</th>\n",
       "      <th>ratings</th>\n",
       "      <th>type</th>\n",
       "    </tr>\n",
       "  </thead>\n",
       "  <tbody>\n",
       "    <tr>\n",
       "      <th>327600</th>\n",
       "      <td>I purchased this to send to my son who's away ...</td>\n",
       "      <td>5</td>\n",
       "      <td>train</td>\n",
       "    </tr>\n",
       "  </tbody>\n",
       "</table>\n",
       "</div>"
      ],
      "text/plain": [
       "                                                 comments  ratings   type\n",
       "327600  I purchased this to send to my son who's away ...        5  train"
      ]
     },
     "execution_count": 31,
     "metadata": {
      "tags": []
     },
     "output_type": "execute_result"
    }
   ],
   "source": [
    "# last entry of the train set\n",
    "data_overall.iloc[[393930]]"
   ]
  },
  {
   "cell_type": "code",
   "execution_count": 32,
   "metadata": {
    "colab": {
     "base_uri": "https://localhost:8080/"
    },
    "executionInfo": {
     "elapsed": 1306,
     "status": "ok",
     "timestamp": 1616000606999,
     "user": {
      "displayName": "Nicholas Neo",
      "photoUrl": "",
      "userId": "02359484661843204503"
     },
     "user_tz": -480
    },
    "id": "Qqp67HvPuHdZ",
    "outputId": "73b9cba3-1936-4bf2-fb21-527bfc953208"
   },
   "outputs": [
    {
     "data": {
      "text/plain": [
       "comments    object\n",
       "ratings      int64\n",
       "type        object\n",
       "dtype: object"
      ]
     },
     "execution_count": 32,
     "metadata": {
      "tags": []
     },
     "output_type": "execute_result"
    }
   ],
   "source": [
    "# check dtypes of the merged dataframe\n",
    "data_overall.dtypes"
   ]
  },
  {
   "cell_type": "markdown",
   "metadata": {
    "id": "DTo0bSwde7dR"
   },
   "source": [
    "# Stemming and Lemmatization"
   ]
  },
  {
   "cell_type": "code",
   "execution_count": 33,
   "metadata": {
    "executionInfo": {
     "elapsed": 1022,
     "status": "ok",
     "timestamp": 1616000607000,
     "user": {
      "displayName": "Nicholas Neo",
      "photoUrl": "",
      "userId": "02359484661843204503"
     },
     "user_tz": -480
    },
    "id": "ODWnN_H-enus"
   },
   "outputs": [],
   "source": [
    "import re"
   ]
  },
  {
   "cell_type": "code",
   "execution_count": 34,
   "metadata": {
    "executionInfo": {
     "elapsed": 1212,
     "status": "ok",
     "timestamp": 1616000607352,
     "user": {
      "displayName": "Nicholas Neo",
      "photoUrl": "",
      "userId": "02359484661843204503"
     },
     "user_tz": -480
    },
    "id": "n-aJP--jfBQv"
   },
   "outputs": [],
   "source": [
    "# remove contractions\n",
    "def contraction_removal(phrase):\n",
    "    phrase = re.sub(r\"won't\", \"will not\", phrase)\n",
    "    phrase = re.sub(r\"can\\'t\", \"can not\", phrase)\n",
    "\n",
    "    # general\n",
    "    phrase = re.sub(r\"n\\'t\", \" not\", phrase)\n",
    "    phrase = re.sub(r\"\\'re\", \" are\", phrase)\n",
    "    phrase = re.sub(r\"\\'s\", \" is\", phrase)\n",
    "    phrase = re.sub(r\"\\'d\", \" would\", phrase)\n",
    "    phrase = re.sub(r\"\\'ll\", \" will\", phrase)\n",
    "    phrase = re.sub(r\"\\'t\", \" not\", phrase)\n",
    "    phrase = re.sub(r\"\\'ve\", \" have\", phrase)\n",
    "    phrase = re.sub(r\"\\'m\", \" am\", phrase)\n",
    "    return phrase"
   ]
  },
  {
   "cell_type": "code",
   "execution_count": 35,
   "metadata": {
    "executionInfo": {
     "elapsed": 1059,
     "status": "ok",
     "timestamp": 1616000607353,
     "user": {
      "displayName": "Nicholas Neo",
      "photoUrl": "",
      "userId": "02359484661843204503"
     },
     "user_tz": -480
    },
    "id": "ILI9TKcvfG1O"
   },
   "outputs": [],
   "source": [
    "# https://gist.github.com/sebleier/554280\n",
    "# we are removing the words from the stop words list: 'no', 'nor', 'not'\n",
    "# <br /><br /> ==> after the above steps, we are getting \"br br\"\n",
    "# we are including them into stop words list\n",
    "# instead of <br /> if we have <br/> these tags would have revmoved in the 1st step\n",
    "\n",
    "stopwords= set(['br', 'the', 'i', 'me', 'my', 'myself', 'we', 'our', 'ours', 'ourselves', 'you', \"you're\", \"you've\",\\\n",
    "            \"you'll\", \"you'd\", 'your', 'yours', 'yourself', 'yourselves', 'he', 'him', 'his', 'himself', \\\n",
    "            'she', \"she's\", 'her', 'hers', 'herself', 'it', \"it's\", 'its', 'itself', 'they', 'them', 'their',\\\n",
    "            'theirs', 'themselves', 'what', 'which', 'who', 'whom', 'this', 'that', \"that'll\", 'these', 'those', \\\n",
    "            'am', 'is', 'are', 'was', 'were', 'be', 'been', 'being', 'have', 'has', 'had', 'having', 'do', 'does', \\\n",
    "            'did', 'doing', 'a', 'an', 'the', 'and', 'but', 'if', 'or', 'because', 'as', 'until', 'while', 'of', \\\n",
    "            'at', 'by', 'for', 'with', 'about', 'against', 'between', 'into', 'through', 'during', 'before', 'after',\\\n",
    "            'above', 'below', 'to', 'from', 'up', 'down', 'in', 'out', 'on', 'off', 'over', 'under', 'again', 'further',\\\n",
    "            'then', 'once', 'here', 'there', 'when', 'where', 'why', 'how', 'all', 'any', 'both', 'each', 'few', 'more',\\\n",
    "            'most', 'other', 'some', 'such', 'only', 'own', 'same', 'so', 'than', 'too', 'very', \\\n",
    "            's', 't', 'can', 'will', 'just', 'don', \"don't\", 'should', \"should've\", 'now', 'd', 'll', 'm', 'o', 're', \\\n",
    "            've', 'y', 'ain', 'aren', \"aren't\", 'couldn', \"couldn't\", 'didn', \"didn't\", 'doesn', \"doesn't\", 'hadn',\\\n",
    "            \"hadn't\", 'hasn', \"hasn't\", 'haven', \"haven't\", 'isn', \"isn't\", 'ma', 'mightn', \"mightn't\", 'mustn',\\\n",
    "            \"mustn't\", 'needn', \"needn't\", 'shan', \"shan't\", 'shouldn', \"shouldn't\", 'wasn', \"wasn't\", 'weren', \"weren't\", \\\n",
    "            'won', \"won't\", 'wouldn', \"wouldn't\", \"\\n\"])"
   ]
  },
  {
   "cell_type": "code",
   "execution_count": 36,
   "metadata": {
    "colab": {
     "base_uri": "https://localhost:8080/"
    },
    "executionInfo": {
     "elapsed": 141676,
     "status": "ok",
     "timestamp": 1616000748105,
     "user": {
      "displayName": "Nicholas Neo",
      "photoUrl": "",
      "userId": "02359484661843204503"
     },
     "user_tz": -480
    },
    "id": "5qbcpmWqfNEb",
    "outputId": "c2969bfd-7caf-43d1-9f54-d2e0641b225a"
   },
   "outputs": [
    {
     "name": "stderr",
     "output_type": "stream",
     "text": [
      "100%|██████████| 481976/481976 [02:20<00:00, 3432.96it/s]\n"
     ]
    }
   ],
   "source": [
    "from bs4 import BeautifulSoup\n",
    "# Combining all the above stundents \n",
    "from tqdm import tqdm\n",
    "preprocessed_reviews = []\n",
    "# tqdm is for printing the status bar\n",
    "for sentance in tqdm(data_overall['comments'].values):\n",
    "    sentance = re.sub(r\"http\\S+\", \"\", sentance)\n",
    "    sentance = BeautifulSoup(sentance, 'lxml').get_text()\n",
    "    sentance = contraction_removal(sentance)\n",
    "    sentance = re.sub(\"\\S*\\d\\S*\", \"\", sentance).strip()\n",
    "    sentance = re.sub('[^A-Za-z]+', ' ', sentance)\n",
    "    # https://gist.github.com/sebleier/554280\n",
    "    sentance = ' '.join(e.lower() for e in sentance.split() if e.lower() not in stopwords)\n",
    "    preprocessed_reviews.append(sentance.strip())"
   ]
  },
  {
   "cell_type": "code",
   "execution_count": 37,
   "metadata": {
    "colab": {
     "base_uri": "https://localhost:8080/",
     "height": 258
    },
    "executionInfo": {
     "elapsed": 141534,
     "status": "ok",
     "timestamp": 1616000748119,
     "user": {
      "displayName": "Nicholas Neo",
      "photoUrl": "",
      "userId": "02359484661843204503"
     },
     "user_tz": -480
    },
    "id": "fLYyS0d0f_X6",
    "outputId": "49d88398-e9ee-4265-f7b3-91617b41dba0"
   },
   "outputs": [
    {
     "data": {
      "text/html": [
       "<div>\n",
       "<style scoped>\n",
       "    .dataframe tbody tr th:only-of-type {\n",
       "        vertical-align: middle;\n",
       "    }\n",
       "\n",
       "    .dataframe tbody tr th {\n",
       "        vertical-align: top;\n",
       "    }\n",
       "\n",
       "    .dataframe thead th {\n",
       "        text-align: right;\n",
       "    }\n",
       "</style>\n",
       "<table border=\"1\" class=\"dataframe\">\n",
       "  <thead>\n",
       "    <tr style=\"text-align: right;\">\n",
       "      <th></th>\n",
       "      <th>comments</th>\n",
       "      <th>ratings</th>\n",
       "      <th>type</th>\n",
       "      <th>comments_cleaned</th>\n",
       "    </tr>\n",
       "  </thead>\n",
       "  <tbody>\n",
       "    <tr>\n",
       "      <th>150528</th>\n",
       "      <td>In June&lt;br /&gt;I saw a charming group&lt;br /&gt;of ro...</td>\n",
       "      <td>4</td>\n",
       "      <td>train</td>\n",
       "      <td>junei saw charming groupof roses beginto droop...</td>\n",
       "    </tr>\n",
       "    <tr>\n",
       "      <th>150506</th>\n",
       "      <td>This is a fun way for children to learn their ...</td>\n",
       "      <td>4</td>\n",
       "      <td>train</td>\n",
       "      <td>fun way children learn months year learn poems...</td>\n",
       "    </tr>\n",
       "    <tr>\n",
       "      <th>150505</th>\n",
       "      <td>I grew up reading these Sendak books, and watc...</td>\n",
       "      <td>4</td>\n",
       "      <td>train</td>\n",
       "      <td>grew reading sendak books watching really rosi...</td>\n",
       "    </tr>\n",
       "    <tr>\n",
       "      <th>150504</th>\n",
       "      <td>Get the movie or sound track and sing along wi...</td>\n",
       "      <td>4</td>\n",
       "      <td>train</td>\n",
       "      <td>get movie sound track sing along carol king gr...</td>\n",
       "    </tr>\n",
       "    <tr>\n",
       "      <th>150503</th>\n",
       "      <td>A very entertaining rhyming story--cleaver and...</td>\n",
       "      <td>4</td>\n",
       "      <td>train</td>\n",
       "      <td>entertaining rhyming story cleaver catchy illu...</td>\n",
       "    </tr>\n",
       "  </tbody>\n",
       "</table>\n",
       "</div>"
      ],
      "text/plain": [
       "                                                 comments  ...                                   comments_cleaned\n",
       "150528  In June<br />I saw a charming group<br />of ro...  ...  junei saw charming groupof roses beginto droop...\n",
       "150506  This is a fun way for children to learn their ...  ...  fun way children learn months year learn poems...\n",
       "150505  I grew up reading these Sendak books, and watc...  ...  grew reading sendak books watching really rosi...\n",
       "150504  Get the movie or sound track and sing along wi...  ...  get movie sound track sing along carol king gr...\n",
       "150503  A very entertaining rhyming story--cleaver and...  ...  entertaining rhyming story cleaver catchy illu...\n",
       "\n",
       "[5 rows x 4 columns]"
      ]
     },
     "execution_count": 37,
     "metadata": {
      "tags": []
     },
     "output_type": "execute_result"
    }
   ],
   "source": [
    "data_overall['comments_cleaned'] = preprocessed_reviews\n",
    "data_overall.head()"
   ]
  },
  {
   "cell_type": "code",
   "execution_count": 38,
   "metadata": {
    "colab": {
     "base_uri": "https://localhost:8080/"
    },
    "executionInfo": {
     "elapsed": 141391,
     "status": "ok",
     "timestamp": 1616000748120,
     "user": {
      "displayName": "Nicholas Neo",
      "photoUrl": "",
      "userId": "02359484661843204503"
     },
     "user_tz": -480
    },
    "id": "WeEnKHYDkTQL",
    "outputId": "d63a1139-e5e6-46c2-e9cf-d5cb2db755db"
   },
   "outputs": [
    {
     "data": {
      "text/plain": [
       "(481976, 4)"
      ]
     },
     "execution_count": 38,
     "metadata": {
      "tags": []
     },
     "output_type": "execute_result"
    }
   ],
   "source": [
    "data_overall.shape"
   ]
  },
  {
   "cell_type": "markdown",
   "metadata": {
    "id": "9FUDlAM2hwfL"
   },
   "source": [
    "# Partition the ratings to 3 classes only\n",
    "-1 (negative) <- 1,2  \n",
    "0 (neutral) <- 3  \n",
    "1 (positive) <- 4,5\n"
   ]
  },
  {
   "cell_type": "code",
   "execution_count": 39,
   "metadata": {
    "executionInfo": {
     "elapsed": 139823,
     "status": "ok",
     "timestamp": 1616000748122,
     "user": {
      "displayName": "Nicholas Neo",
      "photoUrl": "",
      "userId": "02359484661843204503"
     },
     "user_tz": -480
    },
    "id": "uJYy_lZEgOal"
   },
   "outputs": [],
   "source": [
    "def partition(x):\n",
    "    if x < 3:\n",
    "        return -1\n",
    "    elif x == 3:\n",
    "        return 0\n",
    "    else:   \n",
    "        return 1"
   ]
  },
  {
   "cell_type": "code",
   "execution_count": 40,
   "metadata": {
    "colab": {
     "base_uri": "https://localhost:8080/",
     "height": 214
    },
    "executionInfo": {
     "elapsed": 1443,
     "status": "ok",
     "timestamp": 1616000753263,
     "user": {
      "displayName": "Nicholas Neo",
      "photoUrl": "",
      "userId": "02359484661843204503"
     },
     "user_tz": -480
    },
    "id": "PGloG6oQiJ5e",
    "outputId": "e2220fdc-eb19-4596-d75e-44b629d32bad"
   },
   "outputs": [
    {
     "name": "stdout",
     "output_type": "stream",
     "text": [
      "Number of data points in our data (481976, 5)\n"
     ]
    },
    {
     "data": {
      "text/html": [
       "<div>\n",
       "<style scoped>\n",
       "    .dataframe tbody tr th:only-of-type {\n",
       "        vertical-align: middle;\n",
       "    }\n",
       "\n",
       "    .dataframe tbody tr th {\n",
       "        vertical-align: top;\n",
       "    }\n",
       "\n",
       "    .dataframe thead th {\n",
       "        text-align: right;\n",
       "    }\n",
       "</style>\n",
       "<table border=\"1\" class=\"dataframe\">\n",
       "  <thead>\n",
       "    <tr style=\"text-align: right;\">\n",
       "      <th></th>\n",
       "      <th>comments</th>\n",
       "      <th>ratings</th>\n",
       "      <th>type</th>\n",
       "      <th>comments_cleaned</th>\n",
       "      <th>ratings_class</th>\n",
       "    </tr>\n",
       "  </thead>\n",
       "  <tbody>\n",
       "    <tr>\n",
       "      <th>150528</th>\n",
       "      <td>In June&lt;br /&gt;I saw a charming group&lt;br /&gt;of ro...</td>\n",
       "      <td>4</td>\n",
       "      <td>train</td>\n",
       "      <td>junei saw charming groupof roses beginto droop...</td>\n",
       "      <td>1</td>\n",
       "    </tr>\n",
       "    <tr>\n",
       "      <th>150506</th>\n",
       "      <td>This is a fun way for children to learn their ...</td>\n",
       "      <td>4</td>\n",
       "      <td>train</td>\n",
       "      <td>fun way children learn months year learn poems...</td>\n",
       "      <td>1</td>\n",
       "    </tr>\n",
       "    <tr>\n",
       "      <th>150505</th>\n",
       "      <td>I grew up reading these Sendak books, and watc...</td>\n",
       "      <td>4</td>\n",
       "      <td>train</td>\n",
       "      <td>grew reading sendak books watching really rosi...</td>\n",
       "      <td>1</td>\n",
       "    </tr>\n",
       "  </tbody>\n",
       "</table>\n",
       "</div>"
      ],
      "text/plain": [
       "                                                 comments  ...  ratings_class\n",
       "150528  In June<br />I saw a charming group<br />of ro...  ...              1\n",
       "150506  This is a fun way for children to learn their ...  ...              1\n",
       "150505  I grew up reading these Sendak books, and watc...  ...              1\n",
       "\n",
       "[3 rows x 5 columns]"
      ]
     },
     "execution_count": 40,
     "metadata": {
      "tags": []
     },
     "output_type": "execute_result"
    }
   ],
   "source": [
    "actualScore = data_overall['ratings']\n",
    "class_ = actualScore.map(partition) \n",
    "data_overall['ratings_class'] = class_\n",
    "print(\"Number of data points in our data\", data_overall.shape)\n",
    "data_overall.head(3)"
   ]
  },
  {
   "cell_type": "code",
   "execution_count": 41,
   "metadata": {
    "colab": {
     "base_uri": "https://localhost:8080/"
    },
    "executionInfo": {
     "elapsed": 859,
     "status": "ok",
     "timestamp": 1616000756499,
     "user": {
      "displayName": "Nicholas Neo",
      "photoUrl": "",
      "userId": "02359484661843204503"
     },
     "user_tz": -480
    },
    "id": "W5DzrijgxKO4",
    "outputId": "0b0b34c4-8f07-4ab7-fe35-7b4edd329de6"
   },
   "outputs": [
    {
     "data": {
      "text/plain": [
       "comments            object\n",
       "ratings              int64\n",
       "type                object\n",
       "comments_cleaned    object\n",
       "ratings_class        int64\n",
       "dtype: object"
      ]
     },
     "execution_count": 41,
     "metadata": {
      "tags": []
     },
     "output_type": "execute_result"
    }
   ],
   "source": [
    "data_overall.dtypes"
   ]
  },
  {
   "cell_type": "code",
   "execution_count": 42,
   "metadata": {
    "colab": {
     "base_uri": "https://localhost:8080/"
    },
    "executionInfo": {
     "elapsed": 881,
     "status": "ok",
     "timestamp": 1616000761416,
     "user": {
      "displayName": "Nicholas Neo",
      "photoUrl": "",
      "userId": "02359484661843204503"
     },
     "user_tz": -480
    },
    "id": "BLFasaHLbv96",
    "outputId": "9301e3d3-57c4-4669-c225-0c17990daa14"
   },
   "outputs": [
    {
     "data": {
      "text/plain": [
       " 1    379334\n",
       "-1     64033\n",
       " 0     38609\n",
       "Name: ratings_class, dtype: int64"
      ]
     },
     "execution_count": 42,
     "metadata": {
      "tags": []
     },
     "output_type": "execute_result"
    }
   ],
   "source": [
    "data_overall['ratings_class'].value_counts()"
   ]
  },
  {
   "cell_type": "markdown",
   "metadata": {
    "id": "sB5x0aVFgNya"
   },
   "source": [
    "# Export cleaned corpus to csv\n",
    "To save the progress of the data cleaning at this point of time"
   ]
  },
  {
   "cell_type": "code",
   "execution_count": 43,
   "metadata": {
    "executionInfo": {
     "elapsed": 10440,
     "status": "ok",
     "timestamp": 1616000776999,
     "user": {
      "displayName": "Nicholas Neo",
      "photoUrl": "",
      "userId": "02359484661843204503"
     },
     "user_tz": -480
    },
    "id": "IFgzh-MPgCsK"
   },
   "outputs": [],
   "source": [
    "data_overall.to_csv(COLAB_FILEPATH + 'data/data_overall_test_tripadvisor.csv', index=False)"
   ]
  },
  {
   "cell_type": "code",
   "execution_count": null,
   "metadata": {
    "id": "qhVbm96Th_fD"
   },
   "outputs": [],
   "source": []
  },
  {
   "cell_type": "markdown",
   "metadata": {
    "id": "AaNi3S76gkq0"
   },
   "source": [
    "# Import the cleaned corpus"
   ]
  },
  {
   "cell_type": "code",
   "execution_count": 44,
   "metadata": {
    "colab": {
     "base_uri": "https://localhost:8080/",
     "height": 293
    },
    "executionInfo": {
     "elapsed": 7829,
     "status": "ok",
     "timestamp": 1616000780524,
     "user": {
      "displayName": "Nicholas Neo",
      "photoUrl": "",
      "userId": "02359484661843204503"
     },
     "user_tz": -480
    },
    "id": "mphvZY6ygjaR",
    "outputId": "619c262b-7e5c-4083-8e9d-e453c1671e8c"
   },
   "outputs": [
    {
     "data": {
      "text/html": [
       "<div>\n",
       "<style scoped>\n",
       "    .dataframe tbody tr th:only-of-type {\n",
       "        vertical-align: middle;\n",
       "    }\n",
       "\n",
       "    .dataframe tbody tr th {\n",
       "        vertical-align: top;\n",
       "    }\n",
       "\n",
       "    .dataframe thead th {\n",
       "        text-align: right;\n",
       "    }\n",
       "</style>\n",
       "<table border=\"1\" class=\"dataframe\">\n",
       "  <thead>\n",
       "    <tr style=\"text-align: right;\">\n",
       "      <th></th>\n",
       "      <th>comments</th>\n",
       "      <th>ratings</th>\n",
       "      <th>type</th>\n",
       "      <th>comments_cleaned</th>\n",
       "      <th>ratings_class</th>\n",
       "    </tr>\n",
       "  </thead>\n",
       "  <tbody>\n",
       "    <tr>\n",
       "      <th>0</th>\n",
       "      <td>In June&lt;br /&gt;I saw a charming group&lt;br /&gt;of ro...</td>\n",
       "      <td>4</td>\n",
       "      <td>train</td>\n",
       "      <td>junei saw charming groupof roses beginto droop...</td>\n",
       "      <td>1</td>\n",
       "    </tr>\n",
       "    <tr>\n",
       "      <th>1</th>\n",
       "      <td>This is a fun way for children to learn their ...</td>\n",
       "      <td>4</td>\n",
       "      <td>train</td>\n",
       "      <td>fun way children learn months year learn poems...</td>\n",
       "      <td>1</td>\n",
       "    </tr>\n",
       "    <tr>\n",
       "      <th>2</th>\n",
       "      <td>I grew up reading these Sendak books, and watc...</td>\n",
       "      <td>4</td>\n",
       "      <td>train</td>\n",
       "      <td>grew reading sendak books watching really rosi...</td>\n",
       "      <td>1</td>\n",
       "    </tr>\n",
       "    <tr>\n",
       "      <th>3</th>\n",
       "      <td>Get the movie or sound track and sing along wi...</td>\n",
       "      <td>4</td>\n",
       "      <td>train</td>\n",
       "      <td>get movie sound track sing along carol king gr...</td>\n",
       "      <td>1</td>\n",
       "    </tr>\n",
       "    <tr>\n",
       "      <th>4</th>\n",
       "      <td>A very entertaining rhyming story--cleaver and...</td>\n",
       "      <td>4</td>\n",
       "      <td>train</td>\n",
       "      <td>entertaining rhyming story cleaver catchy illu...</td>\n",
       "      <td>1</td>\n",
       "    </tr>\n",
       "  </tbody>\n",
       "</table>\n",
       "</div>"
      ],
      "text/plain": [
       "                                            comments  ...  ratings_class\n",
       "0  In June<br />I saw a charming group<br />of ro...  ...              1\n",
       "1  This is a fun way for children to learn their ...  ...              1\n",
       "2  I grew up reading these Sendak books, and watc...  ...              1\n",
       "3  Get the movie or sound track and sing along wi...  ...              1\n",
       "4  A very entertaining rhyming story--cleaver and...  ...              1\n",
       "\n",
       "[5 rows x 5 columns]"
      ]
     },
     "execution_count": 44,
     "metadata": {
      "tags": []
     },
     "output_type": "execute_result"
    }
   ],
   "source": [
    "data_overall_ = pd.read_csv(COLAB_FILEPATH + 'data/data_overall_test_tripadvisor.csv')\n",
    "data_overall_.head()"
   ]
  },
  {
   "cell_type": "code",
   "execution_count": 45,
   "metadata": {
    "colab": {
     "base_uri": "https://localhost:8080/"
    },
    "executionInfo": {
     "elapsed": 781,
     "status": "ok",
     "timestamp": 1616000782494,
     "user": {
      "displayName": "Nicholas Neo",
      "photoUrl": "",
      "userId": "02359484661843204503"
     },
     "user_tz": -480
    },
    "id": "gZTMVlwe3BIX",
    "outputId": "902ca548-2924-49b6-c100-3af303a3ad3c"
   },
   "outputs": [
    {
     "data": {
      "text/plain": [
       "comments            object\n",
       "ratings              int64\n",
       "type                object\n",
       "comments_cleaned    object\n",
       "ratings_class        int64\n",
       "dtype: object"
      ]
     },
     "execution_count": 45,
     "metadata": {
      "tags": []
     },
     "output_type": "execute_result"
    }
   ],
   "source": [
    "data_overall_.dtypes"
   ]
  },
  {
   "cell_type": "code",
   "execution_count": 47,
   "metadata": {
    "colab": {
     "base_uri": "https://localhost:8080/"
    },
    "executionInfo": {
     "elapsed": 907,
     "status": "ok",
     "timestamp": 1616000787612,
     "user": {
      "displayName": "Nicholas Neo",
      "photoUrl": "",
      "userId": "02359484661843204503"
     },
     "user_tz": -480
    },
    "id": "6M-fuAtWcViw",
    "outputId": "72c5baef-9600-419f-c7a5-34e876bd3596"
   },
   "outputs": [
    {
     "data": {
      "text/plain": [
       " 1    379334\n",
       "-1     64033\n",
       " 0     38609\n",
       "Name: ratings_class, dtype: int64"
      ]
     },
     "execution_count": 47,
     "metadata": {
      "tags": []
     },
     "output_type": "execute_result"
    }
   ],
   "source": [
    "data_overall['ratings_class'].value_counts()"
   ]
  },
  {
   "cell_type": "code",
   "execution_count": null,
   "metadata": {
    "id": "-GPT9th63E2a"
   },
   "outputs": [],
   "source": [
    "# change the dtypes of object to string for some columns\n",
    "#data_overall = data_overall.astype({'comments_cleaned': 'string'})"
   ]
  },
  {
   "cell_type": "code",
   "execution_count": 48,
   "metadata": {
    "colab": {
     "base_uri": "https://localhost:8080/"
    },
    "executionInfo": {
     "elapsed": 927,
     "status": "ok",
     "timestamp": 1616000791916,
     "user": {
      "displayName": "Nicholas Neo",
      "photoUrl": "",
      "userId": "02359484661843204503"
     },
     "user_tz": -480
    },
    "id": "b043H7MxCndW",
    "outputId": "0c300b14-3330-453e-b72a-5324d9cefdd3"
   },
   "outputs": [
    {
     "data": {
      "text/plain": [
       "comments            481976\n",
       "ratings             481976\n",
       "type                481976\n",
       "comments_cleaned    480958\n",
       "ratings_class       481976\n",
       "dtype: int64"
      ]
     },
     "execution_count": 48,
     "metadata": {
      "tags": []
     },
     "output_type": "execute_result"
    }
   ],
   "source": [
    "data_overall_.count()"
   ]
  },
  {
   "cell_type": "code",
   "execution_count": 49,
   "metadata": {
    "executionInfo": {
     "elapsed": 1043,
     "status": "ok",
     "timestamp": 1616000794083,
     "user": {
      "displayName": "Nicholas Neo",
      "photoUrl": "",
      "userId": "02359484661843204503"
     },
     "user_tz": -480
    },
    "id": "NSGoYPnVA0dm"
   },
   "outputs": [],
   "source": [
    "# dropna for the row where the comments cleaned are empty\n",
    "df = data_overall_.dropna()"
   ]
  },
  {
   "cell_type": "code",
   "execution_count": 50,
   "metadata": {
    "colab": {
     "base_uri": "https://localhost:8080/"
    },
    "executionInfo": {
     "elapsed": 714,
     "status": "ok",
     "timestamp": 1616000794084,
     "user": {
      "displayName": "Nicholas Neo",
      "photoUrl": "",
      "userId": "02359484661843204503"
     },
     "user_tz": -480
    },
    "id": "-r4LpZOwFPWQ",
    "outputId": "eec9e50b-a779-402b-ef98-f0af0e975f73"
   },
   "outputs": [
    {
     "data": {
      "text/plain": [
       "comments            480958\n",
       "ratings             480958\n",
       "type                480958\n",
       "comments_cleaned    480958\n",
       "ratings_class       480958\n",
       "dtype: int64"
      ]
     },
     "execution_count": 50,
     "metadata": {
      "tags": []
     },
     "output_type": "execute_result"
    }
   ],
   "source": [
    "# check\n",
    "df.count()"
   ]
  },
  {
   "cell_type": "code",
   "execution_count": 51,
   "metadata": {
    "colab": {
     "base_uri": "https://localhost:8080/",
     "height": 677
    },
    "executionInfo": {
     "elapsed": 815,
     "status": "ok",
     "timestamp": 1616000798083,
     "user": {
      "displayName": "Nicholas Neo",
      "photoUrl": "",
      "userId": "02359484661843204503"
     },
     "user_tz": -480
    },
    "id": "7qj4rQqWg4tz",
    "outputId": "1871a14d-bb77-4138-9aab-094725db550e"
   },
   "outputs": [
    {
     "data": {
      "text/html": [
       "<div>\n",
       "<style scoped>\n",
       "    .dataframe tbody tr th:only-of-type {\n",
       "        vertical-align: middle;\n",
       "    }\n",
       "\n",
       "    .dataframe tbody tr th {\n",
       "        vertical-align: top;\n",
       "    }\n",
       "\n",
       "    .dataframe thead th {\n",
       "        text-align: right;\n",
       "    }\n",
       "</style>\n",
       "<table border=\"1\" class=\"dataframe\">\n",
       "  <thead>\n",
       "    <tr style=\"text-align: right;\">\n",
       "      <th></th>\n",
       "      <th>type</th>\n",
       "      <th>comments_cleaned</th>\n",
       "      <th>ratings_class</th>\n",
       "    </tr>\n",
       "  </thead>\n",
       "  <tbody>\n",
       "    <tr>\n",
       "      <th>0</th>\n",
       "      <td>train</td>\n",
       "      <td>junei saw charming groupof roses beginto droop...</td>\n",
       "      <td>1</td>\n",
       "    </tr>\n",
       "    <tr>\n",
       "      <th>1</th>\n",
       "      <td>train</td>\n",
       "      <td>fun way children learn months year learn poems...</td>\n",
       "      <td>1</td>\n",
       "    </tr>\n",
       "    <tr>\n",
       "      <th>2</th>\n",
       "      <td>train</td>\n",
       "      <td>grew reading sendak books watching really rosi...</td>\n",
       "      <td>1</td>\n",
       "    </tr>\n",
       "    <tr>\n",
       "      <th>3</th>\n",
       "      <td>train</td>\n",
       "      <td>get movie sound track sing along carol king gr...</td>\n",
       "      <td>1</td>\n",
       "    </tr>\n",
       "    <tr>\n",
       "      <th>4</th>\n",
       "      <td>train</td>\n",
       "      <td>entertaining rhyming story cleaver catchy illu...</td>\n",
       "      <td>1</td>\n",
       "    </tr>\n",
       "    <tr>\n",
       "      <th>5</th>\n",
       "      <td>train</td>\n",
       "      <td>grand daughter favorite book read loves rhythm...</td>\n",
       "      <td>1</td>\n",
       "    </tr>\n",
       "    <tr>\n",
       "      <th>6</th>\n",
       "      <td>train</td>\n",
       "      <td>copy smaller expected mostly not pay attention...</td>\n",
       "      <td>1</td>\n",
       "    </tr>\n",
       "    <tr>\n",
       "      <th>7</th>\n",
       "      <td>train</td>\n",
       "      <td>remember seeing show aired television years ag...</td>\n",
       "      <td>1</td>\n",
       "    </tr>\n",
       "    <tr>\n",
       "      <th>8</th>\n",
       "      <td>train</td>\n",
       "      <td>book favorite mine since able read one first i...</td>\n",
       "      <td>1</td>\n",
       "    </tr>\n",
       "    <tr>\n",
       "      <th>9</th>\n",
       "      <td>train</td>\n",
       "      <td>wonderful little book loved years ago twins lo...</td>\n",
       "      <td>1</td>\n",
       "    </tr>\n",
       "    <tr>\n",
       "      <th>10</th>\n",
       "      <td>train</td>\n",
       "      <td>give five stars maurice sendak story one star ...</td>\n",
       "      <td>-1</td>\n",
       "    </tr>\n",
       "    <tr>\n",
       "      <th>11</th>\n",
       "      <td>train</td>\n",
       "      <td>one earliest memories book mother read us cons...</td>\n",
       "      <td>1</td>\n",
       "    </tr>\n",
       "    <tr>\n",
       "      <th>12</th>\n",
       "      <td>train</td>\n",
       "      <td>ordered large amount books share child care pr...</td>\n",
       "      <td>0</td>\n",
       "    </tr>\n",
       "    <tr>\n",
       "      <th>13</th>\n",
       "      <td>train</td>\n",
       "      <td>children love book first grader got christmas ...</td>\n",
       "      <td>1</td>\n",
       "    </tr>\n",
       "    <tr>\n",
       "      <th>14</th>\n",
       "      <td>train</td>\n",
       "      <td>days person says chicken soup probably going f...</td>\n",
       "      <td>1</td>\n",
       "    </tr>\n",
       "    <tr>\n",
       "      <th>15</th>\n",
       "      <td>train</td>\n",
       "      <td>book purchased used classroom setting read lou...</td>\n",
       "      <td>0</td>\n",
       "    </tr>\n",
       "    <tr>\n",
       "      <th>16</th>\n",
       "      <td>train</td>\n",
       "      <td>great little book read aloud nice rhythm well ...</td>\n",
       "      <td>1</td>\n",
       "    </tr>\n",
       "    <tr>\n",
       "      <th>17</th>\n",
       "      <td>train</td>\n",
       "      <td>book poetry months year goes month cute little...</td>\n",
       "      <td>1</td>\n",
       "    </tr>\n",
       "    <tr>\n",
       "      <th>18</th>\n",
       "      <td>train</td>\n",
       "      <td>favorite book mine little girl would read time...</td>\n",
       "      <td>1</td>\n",
       "    </tr>\n",
       "    <tr>\n",
       "      <th>19</th>\n",
       "      <td>train</td>\n",
       "      <td>charming rhyming book describes circumstances ...</td>\n",
       "      <td>1</td>\n",
       "    </tr>\n",
       "  </tbody>\n",
       "</table>\n",
       "</div>"
      ],
      "text/plain": [
       "     type                                   comments_cleaned  ratings_class\n",
       "0   train  junei saw charming groupof roses beginto droop...              1\n",
       "1   train  fun way children learn months year learn poems...              1\n",
       "2   train  grew reading sendak books watching really rosi...              1\n",
       "3   train  get movie sound track sing along carol king gr...              1\n",
       "4   train  entertaining rhyming story cleaver catchy illu...              1\n",
       "5   train  grand daughter favorite book read loves rhythm...              1\n",
       "6   train  copy smaller expected mostly not pay attention...              1\n",
       "7   train  remember seeing show aired television years ag...              1\n",
       "8   train  book favorite mine since able read one first i...              1\n",
       "9   train  wonderful little book loved years ago twins lo...              1\n",
       "10  train  give five stars maurice sendak story one star ...             -1\n",
       "11  train  one earliest memories book mother read us cons...              1\n",
       "12  train  ordered large amount books share child care pr...              0\n",
       "13  train  children love book first grader got christmas ...              1\n",
       "14  train  days person says chicken soup probably going f...              1\n",
       "15  train  book purchased used classroom setting read lou...              0\n",
       "16  train  great little book read aloud nice rhythm well ...              1\n",
       "17  train  book poetry months year goes month cute little...              1\n",
       "18  train  favorite book mine little girl would read time...              1\n",
       "19  train  charming rhyming book describes circumstances ...              1"
      ]
     },
     "execution_count": 51,
     "metadata": {
      "tags": []
     },
     "output_type": "execute_result"
    }
   ],
   "source": [
    "# remove not useful columns\n",
    "data_overall = df.drop(labels='comments', axis=1)\n",
    "data_overall = data_overall.drop(labels='ratings', axis=1)\n",
    "data_overall.head(20)"
   ]
  },
  {
   "cell_type": "code",
   "execution_count": 52,
   "metadata": {
    "colab": {
     "base_uri": "https://localhost:8080/"
    },
    "executionInfo": {
     "elapsed": 877,
     "status": "ok",
     "timestamp": 1616000802942,
     "user": {
      "displayName": "Nicholas Neo",
      "photoUrl": "",
      "userId": "02359484661843204503"
     },
     "user_tz": -480
    },
    "id": "W5SDCefY2_NL",
    "outputId": "835eb393-c492-4ff1-a903-73a88c5bc853"
   },
   "outputs": [
    {
     "data": {
      "text/plain": [
       "392915"
      ]
     },
     "execution_count": 52,
     "metadata": {
      "tags": []
     },
     "output_type": "execute_result"
    }
   ],
   "source": [
    "# check the range where the data changes from train set to test set\n",
    "# debug\n",
    "#data_overall.iloc[:,:]\n",
    "# count number of dataset that belongs to train\n",
    "data_overall['type'].value_counts()['train']"
   ]
  },
  {
   "cell_type": "code",
   "execution_count": 53,
   "metadata": {
    "colab": {
     "base_uri": "https://localhost:8080/",
     "height": 175
    },
    "executionInfo": {
     "elapsed": 838,
     "status": "ok",
     "timestamp": 1616000803296,
     "user": {
      "displayName": "Nicholas Neo",
      "photoUrl": "",
      "userId": "02359484661843204503"
     },
     "user_tz": -480
    },
    "id": "cKSaJ5neIcbY",
    "outputId": "54a28d0a-8be2-4ae3-ada1-ccdcf708b75f"
   },
   "outputs": [
    {
     "data": {
      "text/html": [
       "<div>\n",
       "<style scoped>\n",
       "    .dataframe tbody tr th:only-of-type {\n",
       "        vertical-align: middle;\n",
       "    }\n",
       "\n",
       "    .dataframe tbody tr th {\n",
       "        vertical-align: top;\n",
       "    }\n",
       "\n",
       "    .dataframe thead th {\n",
       "        text-align: right;\n",
       "    }\n",
       "</style>\n",
       "<table border=\"1\" class=\"dataframe\">\n",
       "  <thead>\n",
       "    <tr style=\"text-align: right;\">\n",
       "      <th></th>\n",
       "      <th>type</th>\n",
       "      <th>comments_cleaned</th>\n",
       "      <th>ratings_class</th>\n",
       "    </tr>\n",
       "  </thead>\n",
       "  <tbody>\n",
       "    <tr>\n",
       "      <th>393930</th>\n",
       "      <td>train</td>\n",
       "      <td>purchased send son away college delivered righ...</td>\n",
       "      <td>1</td>\n",
       "    </tr>\n",
       "    <tr>\n",
       "      <th>393931</th>\n",
       "      <td>test</td>\n",
       "      <td>enjoyed time girlfriends fajar server gave rec...</td>\n",
       "      <td>1</td>\n",
       "    </tr>\n",
       "    <tr>\n",
       "      <th>393932</th>\n",
       "      <td>test</td>\n",
       "      <td>wonderful amazing service experience definitel...</td>\n",
       "      <td>1</td>\n",
       "    </tr>\n",
       "    <tr>\n",
       "      <th>393933</th>\n",
       "      <td>test</td>\n",
       "      <td>great food wonderful service definitely return...</td>\n",
       "      <td>1</td>\n",
       "    </tr>\n",
       "  </tbody>\n",
       "</table>\n",
       "</div>"
      ],
      "text/plain": [
       "         type                                   comments_cleaned  ratings_class\n",
       "393930  train  purchased send son away college delivered righ...              1\n",
       "393931   test  enjoyed time girlfriends fajar server gave rec...              1\n",
       "393932   test  wonderful amazing service experience definitel...              1\n",
       "393933   test  great food wonderful service definitely return...              1"
      ]
     },
     "execution_count": 53,
     "metadata": {
      "tags": []
     },
     "output_type": "execute_result"
    }
   ],
   "source": [
    "# finding the split\n",
    "data_overall.iloc[392914:392918,:]"
   ]
  },
  {
   "cell_type": "code",
   "execution_count": 54,
   "metadata": {
    "colab": {
     "base_uri": "https://localhost:8080/",
     "height": 54
    },
    "executionInfo": {
     "elapsed": 834,
     "status": "ok",
     "timestamp": 1616000805512,
     "user": {
      "displayName": "Nicholas Neo",
      "photoUrl": "",
      "userId": "02359484661843204503"
     },
     "user_tz": -480
    },
    "id": "w-05ddGcIYsL",
    "outputId": "3b262f4b-6f3b-4f37-c845-216d1970f089"
   },
   "outputs": [
    {
     "data": {
      "application/vnd.google.colaboratory.intrinsic+json": {
       "type": "string"
      },
      "text/plain": [
       "'purchased send son away college delivered right dorm room fast shipping loved much called thank sadly hardly ever calls anymore want kids call home good snack get midterms send'"
      ]
     },
     "execution_count": 54,
     "metadata": {
      "tags": []
     },
     "output_type": "execute_result"
    }
   ],
   "source": [
    "data_overall.iloc[392914,1]"
   ]
  },
  {
   "cell_type": "markdown",
   "metadata": {
    "id": "ridQjP3ajK2A"
   },
   "source": [
    "# Label and define the predictor and the response"
   ]
  },
  {
   "cell_type": "code",
   "execution_count": 55,
   "metadata": {
    "executionInfo": {
     "elapsed": 1229,
     "status": "ok",
     "timestamp": 1616000811553,
     "user": {
      "displayName": "Nicholas Neo",
      "photoUrl": "",
      "userId": "02359484661843204503"
     },
     "user_tz": -480
    },
    "id": "gtias0JgjSv4"
   },
   "outputs": [],
   "source": [
    "X = data_overall['comments_cleaned'].values\n",
    "y = data_overall['ratings_class']\n",
    "# one hot the classifier\n",
    "y_oh = pd.get_dummies(y)"
   ]
  },
  {
   "cell_type": "code",
   "execution_count": 56,
   "metadata": {
    "executionInfo": {
     "elapsed": 1063,
     "status": "ok",
     "timestamp": 1616000813665,
     "user": {
      "displayName": "Nicholas Neo",
      "photoUrl": "",
      "userId": "02359484661843204503"
     },
     "user_tz": -480
    },
    "id": "YRzqUcjS8YUq"
   },
   "outputs": [],
   "source": [
    "#X = data_train['comments'].values"
   ]
  },
  {
   "cell_type": "code",
   "execution_count": 57,
   "metadata": {
    "colab": {
     "base_uri": "https://localhost:8080/",
     "height": 143
    },
    "executionInfo": {
     "elapsed": 890,
     "status": "ok",
     "timestamp": 1616000813676,
     "user": {
      "displayName": "Nicholas Neo",
      "photoUrl": "",
      "userId": "02359484661843204503"
     },
     "user_tz": -480
    },
    "id": "YTZJcLT8jOyN",
    "outputId": "9459310f-e40e-45f1-fcbe-b3775a822331"
   },
   "outputs": [
    {
     "data": {
      "text/html": [
       "<div>\n",
       "<style scoped>\n",
       "    .dataframe tbody tr th:only-of-type {\n",
       "        vertical-align: middle;\n",
       "    }\n",
       "\n",
       "    .dataframe tbody tr th {\n",
       "        vertical-align: top;\n",
       "    }\n",
       "\n",
       "    .dataframe thead th {\n",
       "        text-align: right;\n",
       "    }\n",
       "</style>\n",
       "<table border=\"1\" class=\"dataframe\">\n",
       "  <thead>\n",
       "    <tr style=\"text-align: right;\">\n",
       "      <th></th>\n",
       "      <th>-1</th>\n",
       "      <th>0</th>\n",
       "      <th>1</th>\n",
       "    </tr>\n",
       "  </thead>\n",
       "  <tbody>\n",
       "    <tr>\n",
       "      <th>0</th>\n",
       "      <td>0</td>\n",
       "      <td>0</td>\n",
       "      <td>1</td>\n",
       "    </tr>\n",
       "    <tr>\n",
       "      <th>1</th>\n",
       "      <td>0</td>\n",
       "      <td>0</td>\n",
       "      <td>1</td>\n",
       "    </tr>\n",
       "    <tr>\n",
       "      <th>2</th>\n",
       "      <td>0</td>\n",
       "      <td>0</td>\n",
       "      <td>1</td>\n",
       "    </tr>\n",
       "  </tbody>\n",
       "</table>\n",
       "</div>"
      ],
      "text/plain": [
       "   -1   0   1\n",
       "0   0   0   1\n",
       "1   0   0   1\n",
       "2   0   0   1"
      ]
     },
     "execution_count": 57,
     "metadata": {
      "tags": []
     },
     "output_type": "execute_result"
    }
   ],
   "source": [
    "# check the one-hot classifier\n",
    "y_oh[:3]"
   ]
  },
  {
   "cell_type": "code",
   "execution_count": 58,
   "metadata": {
    "colab": {
     "base_uri": "https://localhost:8080/"
    },
    "executionInfo": {
     "elapsed": 767,
     "status": "ok",
     "timestamp": 1616000815942,
     "user": {
      "displayName": "Nicholas Neo",
      "photoUrl": "",
      "userId": "02359484661843204503"
     },
     "user_tz": -480
    },
    "id": "V-m1upuJ47BJ",
    "outputId": "3e4c2120-f16d-4cf2-9841-02f3fbe8c02c"
   },
   "outputs": [
    {
     "data": {
      "text/plain": [
       "dtype('O')"
      ]
     },
     "execution_count": 58,
     "metadata": {
      "tags": []
     },
     "output_type": "execute_result"
    }
   ],
   "source": [
    "X.dtype"
   ]
  },
  {
   "cell_type": "code",
   "execution_count": 59,
   "metadata": {
    "executionInfo": {
     "elapsed": 884,
     "status": "ok",
     "timestamp": 1616000816232,
     "user": {
      "displayName": "Nicholas Neo",
      "photoUrl": "",
      "userId": "02359484661843204503"
     },
     "user_tz": -480
    },
    "id": "XrHh5trM5bSw"
   },
   "outputs": [],
   "source": [
    "#X = X.astype('str')\n",
    "#X.dtype"
   ]
  },
  {
   "cell_type": "code",
   "execution_count": 60,
   "metadata": {
    "colab": {
     "base_uri": "https://localhost:8080/"
    },
    "executionInfo": {
     "elapsed": 1031,
     "status": "ok",
     "timestamp": 1616000816727,
     "user": {
      "displayName": "Nicholas Neo",
      "photoUrl": "",
      "userId": "02359484661843204503"
     },
     "user_tz": -480
    },
    "id": "ugNSwL6A9n6l",
    "outputId": "63cb4506-5931-4dbd-c76a-f41f2833fe6b"
   },
   "outputs": [
    {
     "data": {
      "text/plain": [
       "array(['junei saw charming groupof roses beginto droopi pepped upwith chicken soup sprinkle oncesprinkle twicesprinkle chicken soupwith ricethis great book teach children months year repetition phrases funny little stories accompanying pictures make ideal bedtime read not nearly good sendak books like wild things pierre boy not care still carries unique brand charm',\n",
       "       'fun way children learn months year learn poems throughout school year like handmotions invent poem',\n",
       "       'grew reading sendak books watching really rosie movie incorporates love son loves however miss hard cover version paperbacks seem kind flimsy takes two hands keep pages open',\n",
       "       ...,\n",
       "       'nice spacious restaurant sunlight thru roof cool nice place relax buffet spread variety dishes japanese cuisine northern indian western roast beef pork asian local favourites like laksa crayfish seafood spread covering',\n",
       "       'restraunt replaces cafe swiss location chefs diff name good brewed coffee dilmah tea place know serves water bubbly water tap good spread japanese sushi japanese seafood rice cheese platters',\n",
       "       'restaurant opened month plus took cafe swiss offers mix asian western cuisine spread reasonable get health conscious wish good choice diy food dishes'],\n",
       "      dtype=object)"
      ]
     },
     "execution_count": 60,
     "metadata": {
      "tags": []
     },
     "output_type": "execute_result"
    }
   ],
   "source": [
    "X"
   ]
  },
  {
   "cell_type": "code",
   "execution_count": null,
   "metadata": {
    "id": "lgLNwwU3lQSr"
   },
   "outputs": [],
   "source": []
  },
  {
   "cell_type": "code",
   "execution_count": 61,
   "metadata": {
    "colab": {
     "base_uri": "https://localhost:8080/",
     "height": 206
    },
    "executionInfo": {
     "elapsed": 884,
     "status": "ok",
     "timestamp": 1616000819167,
     "user": {
      "displayName": "Nicholas Neo",
      "photoUrl": "",
      "userId": "02359484661843204503"
     },
     "user_tz": -480
    },
    "id": "WS45X3hLjYsl",
    "outputId": "760b7355-fa65-4599-9102-68cac7c5c33b"
   },
   "outputs": [
    {
     "data": {
      "text/html": [
       "<div>\n",
       "<style scoped>\n",
       "    .dataframe tbody tr th:only-of-type {\n",
       "        vertical-align: middle;\n",
       "    }\n",
       "\n",
       "    .dataframe tbody tr th {\n",
       "        vertical-align: top;\n",
       "    }\n",
       "\n",
       "    .dataframe thead th {\n",
       "        text-align: right;\n",
       "    }\n",
       "</style>\n",
       "<table border=\"1\" class=\"dataframe\">\n",
       "  <thead>\n",
       "    <tr style=\"text-align: right;\">\n",
       "      <th></th>\n",
       "      <th>-1</th>\n",
       "      <th>0</th>\n",
       "      <th>1</th>\n",
       "    </tr>\n",
       "  </thead>\n",
       "  <tbody>\n",
       "    <tr>\n",
       "      <th>0</th>\n",
       "      <td>0</td>\n",
       "      <td>0</td>\n",
       "      <td>1</td>\n",
       "    </tr>\n",
       "    <tr>\n",
       "      <th>1</th>\n",
       "      <td>0</td>\n",
       "      <td>0</td>\n",
       "      <td>1</td>\n",
       "    </tr>\n",
       "    <tr>\n",
       "      <th>2</th>\n",
       "      <td>0</td>\n",
       "      <td>0</td>\n",
       "      <td>1</td>\n",
       "    </tr>\n",
       "    <tr>\n",
       "      <th>3</th>\n",
       "      <td>0</td>\n",
       "      <td>0</td>\n",
       "      <td>1</td>\n",
       "    </tr>\n",
       "    <tr>\n",
       "      <th>4</th>\n",
       "      <td>0</td>\n",
       "      <td>0</td>\n",
       "      <td>1</td>\n",
       "    </tr>\n",
       "  </tbody>\n",
       "</table>\n",
       "</div>"
      ],
      "text/plain": [
       "   -1   0   1\n",
       "0   0   0   1\n",
       "1   0   0   1\n",
       "2   0   0   1\n",
       "3   0   0   1\n",
       "4   0   0   1"
      ]
     },
     "execution_count": 61,
     "metadata": {
      "tags": []
     },
     "output_type": "execute_result"
    }
   ],
   "source": [
    "pd.DataFrame(y_oh).head()"
   ]
  },
  {
   "cell_type": "code",
   "execution_count": 62,
   "metadata": {
    "colab": {
     "base_uri": "https://localhost:8080/",
     "height": 206
    },
    "executionInfo": {
     "elapsed": 822,
     "status": "ok",
     "timestamp": 1616000821161,
     "user": {
      "displayName": "Nicholas Neo",
      "photoUrl": "",
      "userId": "02359484661843204503"
     },
     "user_tz": -480
    },
    "id": "c-NdF1fkjfYR",
    "outputId": "3e3ff363-e9fb-4ada-bf59-281ef8fe6b6f"
   },
   "outputs": [
    {
     "data": {
      "text/html": [
       "<div>\n",
       "<style scoped>\n",
       "    .dataframe tbody tr th:only-of-type {\n",
       "        vertical-align: middle;\n",
       "    }\n",
       "\n",
       "    .dataframe tbody tr th {\n",
       "        vertical-align: top;\n",
       "    }\n",
       "\n",
       "    .dataframe thead th {\n",
       "        text-align: right;\n",
       "    }\n",
       "</style>\n",
       "<table border=\"1\" class=\"dataframe\">\n",
       "  <thead>\n",
       "    <tr style=\"text-align: right;\">\n",
       "      <th></th>\n",
       "      <th>cleaned_comments</th>\n",
       "    </tr>\n",
       "  </thead>\n",
       "  <tbody>\n",
       "    <tr>\n",
       "      <th>0</th>\n",
       "      <td>junei saw charming groupof roses beginto droop...</td>\n",
       "    </tr>\n",
       "    <tr>\n",
       "      <th>1</th>\n",
       "      <td>fun way children learn months year learn poems...</td>\n",
       "    </tr>\n",
       "    <tr>\n",
       "      <th>2</th>\n",
       "      <td>grew reading sendak books watching really rosi...</td>\n",
       "    </tr>\n",
       "    <tr>\n",
       "      <th>3</th>\n",
       "      <td>get movie sound track sing along carol king gr...</td>\n",
       "    </tr>\n",
       "    <tr>\n",
       "      <th>4</th>\n",
       "      <td>entertaining rhyming story cleaver catchy illu...</td>\n",
       "    </tr>\n",
       "  </tbody>\n",
       "</table>\n",
       "</div>"
      ],
      "text/plain": [
       "                                    cleaned_comments\n",
       "0  junei saw charming groupof roses beginto droop...\n",
       "1  fun way children learn months year learn poems...\n",
       "2  grew reading sendak books watching really rosi...\n",
       "3  get movie sound track sing along carol king gr...\n",
       "4  entertaining rhyming story cleaver catchy illu..."
      ]
     },
     "execution_count": 62,
     "metadata": {
      "tags": []
     },
     "output_type": "execute_result"
    }
   ],
   "source": [
    "X_df = pd.DataFrame(X)\n",
    "X_df.columns = [\"cleaned_comments\"]\n",
    "X_df.head()"
   ]
  },
  {
   "cell_type": "code",
   "execution_count": null,
   "metadata": {
    "colab": {
     "base_uri": "https://localhost:8080/"
    },
    "executionInfo": {
     "elapsed": 13021,
     "status": "ok",
     "timestamp": 1615989700586,
     "user": {
      "displayName": "Nicholas Neo",
      "photoUrl": "",
      "userId": "02359484661843204503"
     },
     "user_tz": -480
    },
    "id": "gh2miwx7jliO",
    "outputId": "efbb2dbd-b936-40e1-dea6-2e020d2e6c3b"
   },
   "outputs": [
    {
     "name": "stdout",
     "output_type": "stream",
     "text": [
      "Words in the Vocabulary :  135893\n"
     ]
    }
   ],
   "source": [
    "# Count the Vocabulary\n",
    "count_vect = CountVectorizer()\n",
    "count_vect.fit(X)\n",
    "\n",
    "vocabulary = count_vect.get_feature_names()\n",
    "print('Words in the Vocabulary : ',len(vocabulary))"
   ]
  },
  {
   "cell_type": "markdown",
   "metadata": {
    "id": "czLUQ8iy7_gW"
   },
   "source": [
    "# Pre-processing of text by doing tokenization of data"
   ]
  },
  {
   "cell_type": "code",
   "execution_count": null,
   "metadata": {
    "id": "Y6O4HbNf7-M2"
   },
   "outputs": [],
   "source": [
    "#Creating dictionary\n",
    "corpus = dict()\n",
    "ind = 0\n",
    "for sent in X:\n",
    "  for word in sent.split():\n",
    "    corpus.setdefault(word,[])\n",
    "    corpus[word].append(ind)\n",
    "    ind += 1\n",
    "\n",
    "#Frequency for each word of vocabulary\n",
    "freq = []\n",
    "for w in vocabulary:\n",
    "  freq.append(len(corpus[w]))"
   ]
  },
  {
   "cell_type": "code",
   "execution_count": null,
   "metadata": {
    "id": "qGNS1TgbjrVm"
   },
   "outputs": [],
   "source": [
    "#Frequencies in decreasing order\n",
    "inc_index =np.argsort(np.array(freq))[::-1]\n",
    "\n",
    "#Allocating ranks \n",
    "word_rank = dict()\n",
    "rank = 1\n",
    "for i in inc_index:\n",
    "  word_rank[vocabulary[i]] = rank\n",
    "  rank +=1"
   ]
  },
  {
   "cell_type": "code",
   "execution_count": null,
   "metadata": {
    "id": "edfBpXZJ8qTP"
   },
   "outputs": [],
   "source": [
    "data = []\n",
    "for sent in X:\n",
    "  row = []\n",
    "  for word in sent.split():\n",
    "    if(len(word)>1):\n",
    "      row.append(word_rank[word])\n",
    "  data.append(row)"
   ]
  },
  {
   "cell_type": "code",
   "execution_count": null,
   "metadata": {
    "colab": {
     "base_uri": "https://localhost:8080/"
    },
    "executionInfo": {
     "elapsed": 3598,
     "status": "ok",
     "timestamp": 1615989989946,
     "user": {
      "displayName": "Nicholas Neo",
      "photoUrl": "",
      "userId": "02359484661843204503"
     },
     "user_tz": -480
    },
    "id": "gEmkOomGF3ed",
    "outputId": "99ac97db-2ea9-4b40-d165-76294c1d8e83"
   },
   "outputs": [
    {
     "name": "stdout",
     "output_type": "stream",
     "text": [
      "[189, 998, 398, 204, 2166, 659, 90, 7117, 751, 312, 162, 185, 18, 558, 345, 1750, 1591, 98, 2148, 765, 74, 248, 723, 210, 3, 138, 16, 66659, 998] "
     ]
    }
   ],
   "source": [
    "# check the tokenized representation\n",
    "print(data[392914], end= ' ')"
   ]
  },
  {
   "cell_type": "code",
   "execution_count": null,
   "metadata": {
    "id": "bcdWsPYxF9-K"
   },
   "outputs": [],
   "source": [
    "# splitting of data\n",
    "X_train, X_test = data[:392915], data[392915:]\n",
    "Y_train, Y_test = y[:392915], y[392915:]\n",
    "Y_train_oh , Y_test_oh = y_oh[:392915], y_oh[392915:]"
   ]
  },
  {
   "cell_type": "markdown",
   "metadata": {
    "id": "ajq4LVejJqQK"
   },
   "source": [
    "# Deep Learning Portion"
   ]
  },
  {
   "cell_type": "code",
   "execution_count": null,
   "metadata": {
    "colab": {
     "base_uri": "https://localhost:8080/"
    },
    "executionInfo": {
     "elapsed": 3708,
     "status": "ok",
     "timestamp": 1615990780572,
     "user": {
      "displayName": "Nicholas Neo",
      "photoUrl": "",
      "userId": "02359484661843204503"
     },
     "user_tz": -480
    },
    "id": "SsDChTRNJsKa",
    "outputId": "44321e68-e942-4486-a2b1-8f939dcf301f"
   },
   "outputs": [
    {
     "name": "stdout",
     "output_type": "stream",
     "text": [
      "(392915, 100)\n",
      "[    0     0     0     0     0     0     0     0     0     0     0     0\n",
      "     0     0     0     0     0     0     0     0     0     0     0     0\n",
      "     0     0     0     0     0     0     0     0     0     0     0     0\n",
      "     0     0     0     0     0     0    50  1647  3092   600    15   381\n",
      "    15   301    15   439   256  1031   232   156    52     7   958  1151\n",
      "    98    26  9955  5094  8697 10961   386   447  1214  2002   316   817\n",
      "    32  1308  2002   359   487   198   543     2   381  1849   152     2\n",
      "     7    50   359    52  1111   255   156  5611    47  4960   147  1185\n",
      "    55     7  3092  2526]\n"
     ]
    }
   ],
   "source": [
    "# padding input sequences\n",
    "max_review_length = 100\n",
    "X_train = sequence.pad_sequences(X_train, maxlen=max_review_length)\n",
    "X_test = sequence.pad_sequences(X_test, maxlen=max_review_length)\n",
    "\n",
    "print(X_train.shape)\n",
    "print(X_train[2000])"
   ]
  },
  {
   "cell_type": "code",
   "execution_count": null,
   "metadata": {
    "colab": {
     "base_uri": "https://localhost:8080/",
     "height": 677
    },
    "executionInfo": {
     "elapsed": 983,
     "status": "ok",
     "timestamp": 1615990782777,
     "user": {
      "displayName": "Nicholas Neo",
      "photoUrl": "",
      "userId": "02359484661843204503"
     },
     "user_tz": -480
    },
    "id": "phSi7_Qtd-Vg",
    "outputId": "6e92b7b4-6584-4794-b625-b9abf8525809"
   },
   "outputs": [
    {
     "data": {
      "text/html": [
       "<div>\n",
       "<style scoped>\n",
       "    .dataframe tbody tr th:only-of-type {\n",
       "        vertical-align: middle;\n",
       "    }\n",
       "\n",
       "    .dataframe tbody tr th {\n",
       "        vertical-align: top;\n",
       "    }\n",
       "\n",
       "    .dataframe thead th {\n",
       "        text-align: right;\n",
       "    }\n",
       "</style>\n",
       "<table border=\"1\" class=\"dataframe\">\n",
       "  <thead>\n",
       "    <tr style=\"text-align: right;\">\n",
       "      <th></th>\n",
       "      <th>-1</th>\n",
       "      <th>0</th>\n",
       "      <th>1</th>\n",
       "    </tr>\n",
       "  </thead>\n",
       "  <tbody>\n",
       "    <tr>\n",
       "      <th>0</th>\n",
       "      <td>0</td>\n",
       "      <td>0</td>\n",
       "      <td>1</td>\n",
       "    </tr>\n",
       "    <tr>\n",
       "      <th>1</th>\n",
       "      <td>0</td>\n",
       "      <td>0</td>\n",
       "      <td>1</td>\n",
       "    </tr>\n",
       "    <tr>\n",
       "      <th>2</th>\n",
       "      <td>0</td>\n",
       "      <td>0</td>\n",
       "      <td>1</td>\n",
       "    </tr>\n",
       "    <tr>\n",
       "      <th>3</th>\n",
       "      <td>0</td>\n",
       "      <td>0</td>\n",
       "      <td>1</td>\n",
       "    </tr>\n",
       "    <tr>\n",
       "      <th>4</th>\n",
       "      <td>0</td>\n",
       "      <td>0</td>\n",
       "      <td>1</td>\n",
       "    </tr>\n",
       "    <tr>\n",
       "      <th>5</th>\n",
       "      <td>0</td>\n",
       "      <td>0</td>\n",
       "      <td>1</td>\n",
       "    </tr>\n",
       "    <tr>\n",
       "      <th>6</th>\n",
       "      <td>0</td>\n",
       "      <td>0</td>\n",
       "      <td>1</td>\n",
       "    </tr>\n",
       "    <tr>\n",
       "      <th>7</th>\n",
       "      <td>0</td>\n",
       "      <td>0</td>\n",
       "      <td>1</td>\n",
       "    </tr>\n",
       "    <tr>\n",
       "      <th>8</th>\n",
       "      <td>0</td>\n",
       "      <td>0</td>\n",
       "      <td>1</td>\n",
       "    </tr>\n",
       "    <tr>\n",
       "      <th>9</th>\n",
       "      <td>0</td>\n",
       "      <td>0</td>\n",
       "      <td>1</td>\n",
       "    </tr>\n",
       "    <tr>\n",
       "      <th>10</th>\n",
       "      <td>1</td>\n",
       "      <td>0</td>\n",
       "      <td>0</td>\n",
       "    </tr>\n",
       "    <tr>\n",
       "      <th>11</th>\n",
       "      <td>0</td>\n",
       "      <td>0</td>\n",
       "      <td>1</td>\n",
       "    </tr>\n",
       "    <tr>\n",
       "      <th>12</th>\n",
       "      <td>0</td>\n",
       "      <td>1</td>\n",
       "      <td>0</td>\n",
       "    </tr>\n",
       "    <tr>\n",
       "      <th>13</th>\n",
       "      <td>0</td>\n",
       "      <td>0</td>\n",
       "      <td>1</td>\n",
       "    </tr>\n",
       "    <tr>\n",
       "      <th>14</th>\n",
       "      <td>0</td>\n",
       "      <td>0</td>\n",
       "      <td>1</td>\n",
       "    </tr>\n",
       "    <tr>\n",
       "      <th>15</th>\n",
       "      <td>0</td>\n",
       "      <td>1</td>\n",
       "      <td>0</td>\n",
       "    </tr>\n",
       "    <tr>\n",
       "      <th>16</th>\n",
       "      <td>0</td>\n",
       "      <td>0</td>\n",
       "      <td>1</td>\n",
       "    </tr>\n",
       "    <tr>\n",
       "      <th>17</th>\n",
       "      <td>0</td>\n",
       "      <td>0</td>\n",
       "      <td>1</td>\n",
       "    </tr>\n",
       "    <tr>\n",
       "      <th>18</th>\n",
       "      <td>0</td>\n",
       "      <td>0</td>\n",
       "      <td>1</td>\n",
       "    </tr>\n",
       "    <tr>\n",
       "      <th>19</th>\n",
       "      <td>0</td>\n",
       "      <td>0</td>\n",
       "      <td>1</td>\n",
       "    </tr>\n",
       "  </tbody>\n",
       "</table>\n",
       "</div>"
      ],
      "text/plain": [
       "    -1   0   1\n",
       "0    0   0   1\n",
       "1    0   0   1\n",
       "2    0   0   1\n",
       "3    0   0   1\n",
       "4    0   0   1\n",
       "5    0   0   1\n",
       "6    0   0   1\n",
       "7    0   0   1\n",
       "8    0   0   1\n",
       "9    0   0   1\n",
       "10   1   0   0\n",
       "11   0   0   1\n",
       "12   0   1   0\n",
       "13   0   0   1\n",
       "14   0   0   1\n",
       "15   0   1   0\n",
       "16   0   0   1\n",
       "17   0   0   1\n",
       "18   0   0   1\n",
       "19   0   0   1"
      ]
     },
     "execution_count": 79,
     "metadata": {
      "tags": []
     },
     "output_type": "execute_result"
    }
   ],
   "source": [
    "Y_train_oh[:20]"
   ]
  },
  {
   "cell_type": "code",
   "execution_count": null,
   "metadata": {
    "id": "eDUwu37Si9BW"
   },
   "outputs": [],
   "source": []
  },
  {
   "cell_type": "code",
   "execution_count": null,
   "metadata": {
    "id": "U7_hh0lHKOG8"
   },
   "outputs": [],
   "source": [
    "# plot function for the accuracy and loss curve\n",
    "import matplotlib.pyplot as plt\n",
    "import numpy as np\n",
    "import time\n",
    "# https://gist.github.com/greydanus/f6eee59eaf1d90fcb3b534a25362cea4\n",
    "# https://stackoverflow.com/a/14434334\n",
    "# this function is used to update the plots for each epoch and error\n",
    "def plt_dynamic(x, vy, ty, ax, colors=['b']):\n",
    "    ax.plot(x, vy, 'b', label=\"Validation Loss\")\n",
    "    ax.plot(x, ty, 'r', label=\"Train Loss\")\n",
    "    plt.legend()\n",
    "    plt.grid(True)\n",
    "    fig.canvas.draw()"
   ]
  },
  {
   "cell_type": "code",
   "execution_count": null,
   "metadata": {
    "id": "9IW9fEjvKaO3"
   },
   "outputs": [],
   "source": []
  },
  {
   "cell_type": "markdown",
   "metadata": {
    "id": "rSf6mlOmKcbs"
   },
   "source": [
    "### LSTM one layer"
   ]
  },
  {
   "cell_type": "code",
   "execution_count": null,
   "metadata": {
    "colab": {
     "base_uri": "https://localhost:8080/"
    },
    "executionInfo": {
     "elapsed": 1032,
     "status": "ok",
     "timestamp": 1615993830662,
     "user": {
      "displayName": "Nicholas Neo",
      "photoUrl": "",
      "userId": "02359484661843204503"
     },
     "user_tz": -480
    },
    "id": "yk3ALDe-Kfjx",
    "outputId": "63d7d150-bdc2-43d4-dace-3f36c7ab1744"
   },
   "outputs": [
    {
     "name": "stdout",
     "output_type": "stream",
     "text": [
      "Model: \"sequential_5\"\n",
      "_________________________________________________________________\n",
      "Layer (type)                 Output Shape              Param #   \n",
      "=================================================================\n",
      "embedding_5 (Embedding)      (None, 100, 32)           4348608   \n",
      "_________________________________________________________________\n",
      "dropout_2 (Dropout)          (None, 100, 32)           0         \n",
      "_________________________________________________________________\n",
      "lstm_9 (LSTM)                (None, 128)               82432     \n",
      "_________________________________________________________________\n",
      "dropout_3 (Dropout)          (None, 128)               0         \n",
      "_________________________________________________________________\n",
      "dense_5 (Dense)              (None, 3)                 387       \n",
      "=================================================================\n",
      "Total params: 4,431,427\n",
      "Trainable params: 4,431,427\n",
      "Non-trainable params: 0\n",
      "_________________________________________________________________\n",
      "None\n"
     ]
    }
   ],
   "source": [
    "vocab_size = len(vocabulary)\n",
    "embedding_vector_length = 32\n",
    "EPOCHS = 5\n",
    "\n",
    "model = Sequential()\n",
    "model.add(Embedding(vocab_size+1, embedding_vector_length, input_length=max_review_length))\n",
    "model.add(Dropout(0.2))\n",
    "model.add(LSTM(128))\n",
    "model.add(Dropout(0.2))\n",
    "model.add(Dense(3, activation='softmax'))\n",
    "\n",
    "print(model.summary())"
   ]
  },
  {
   "cell_type": "code",
   "execution_count": null,
   "metadata": {
    "colab": {
     "base_uri": "https://localhost:8080/"
    },
    "executionInfo": {
     "elapsed": 215171,
     "status": "ok",
     "timestamp": 1615994046518,
     "user": {
      "displayName": "Nicholas Neo",
      "photoUrl": "",
      "userId": "02359484661843204503"
     },
     "user_tz": -480
    },
    "id": "xPXKozB6KgxK",
    "outputId": "80361eb8-9737-43da-cea5-8c66d75a2a82"
   },
   "outputs": [
    {
     "name": "stdout",
     "output_type": "stream",
     "text": [
      "Epoch 1/5\n",
      "614/614 [==============================] - 45s 71ms/step - loss: 0.5218 - accuracy: 0.8218 - val_loss: 0.4411 - val_accuracy: 0.8366\n",
      "\n",
      "Epoch 00001: val_loss improved from inf to 0.44108, saving model to ./drive/My Drive/4034-amazon-review-classification-new/data/LSTM-1layer-3-class.h5\n",
      "Epoch 2/5\n",
      "614/614 [==============================] - 42s 69ms/step - loss: 0.3433 - accuracy: 0.8741 - val_loss: 0.4106 - val_accuracy: 0.8425\n",
      "\n",
      "Epoch 00002: val_loss improved from 0.44108 to 0.41064, saving model to ./drive/My Drive/4034-amazon-review-classification-new/data/LSTM-1layer-3-class.h5\n",
      "Epoch 3/5\n",
      "614/614 [==============================] - 42s 69ms/step - loss: 0.3078 - accuracy: 0.8855 - val_loss: 0.4203 - val_accuracy: 0.8437\n",
      "\n",
      "Epoch 00003: val_loss did not improve from 0.41064\n",
      "Epoch 4/5\n",
      "614/614 [==============================] - 42s 68ms/step - loss: 0.2817 - accuracy: 0.8945 - val_loss: 0.4283 - val_accuracy: 0.8389\n",
      "\n",
      "Epoch 00004: val_loss did not improve from 0.41064\n",
      "Epoch 5/5\n",
      "614/614 [==============================] - 42s 68ms/step - loss: 0.2591 - accuracy: 0.9043 - val_loss: 0.4308 - val_accuracy: 0.8421\n",
      "\n",
      "Epoch 00005: val_loss did not improve from 0.41064\n"
     ]
    }
   ],
   "source": [
    "model.compile(loss='categorical_crossentropy', optimizer='adam', metrics=['accuracy'])\n",
    "callbacks_list=[ModelCheckpoint(filepath=COLAB_FILEPATH+'model/LSTM-1layer-3-class.h5',save_best_only=True,verbose=1,)]\n",
    "#Fitting the data to the model\n",
    "history = model.fit(X_train, \n",
    "                    Y_train_oh, \n",
    "                    epochs=EPOCHS, \n",
    "                    batch_size=512,\n",
    "                    verbose=1,\n",
    "                    #validation_data=(X_test, Y_test),\n",
    "                    validation_split=0.2,\n",
    "                    callbacks=callbacks_list)"
   ]
  },
  {
   "cell_type": "code",
   "execution_count": null,
   "metadata": {
    "colab": {
     "base_uri": "https://localhost:8080/",
     "height": 279
    },
    "executionInfo": {
     "elapsed": 845,
     "status": "ok",
     "timestamp": 1615994051699,
     "user": {
      "displayName": "Nicholas Neo",
      "photoUrl": "",
      "userId": "02359484661843204503"
     },
     "user_tz": -480
    },
    "id": "BfN43zsm0z0e",
    "outputId": "9a736629-3988-45af-c3ca-7ee0564e570b"
   },
   "outputs": [
    {
     "data": {
      "image/png": "[encoded data removed]",
      "text/plain": [
       "<Figure size 432x288 with 1 Axes>"
      ]
     },
     "metadata": {
      "needs_background": "light",
      "tags": []
     },
     "output_type": "display_data"
    }
   ],
   "source": [
    "#score = model.evaluate(X_test, Y_test, verbose=0) \n",
    "#print('Test score:', score[0]) \n",
    "#print('Test accuracy:', score[1])\n",
    "\n",
    "fig,ax = plt.subplots(1,1)\n",
    "ax.set_xlabel('epoch') ; ax.set_ylabel('categorical_crossentropy')\n",
    "\n",
    "# list of epoch numbers\n",
    "x = list(range(1,EPOCHS+1))\n",
    "\n",
    "vy = history.history['val_loss']\n",
    "ty = history.history['loss']\n",
    "plt_dynamic(x, vy, ty, ax)"
   ]
  },
  {
   "cell_type": "code",
   "execution_count": null,
   "metadata": {
    "colab": {
     "base_uri": "https://localhost:8080/"
    },
    "executionInfo": {
     "elapsed": 12089,
     "status": "ok",
     "timestamp": 1615994068061,
     "user": {
      "displayName": "Nicholas Neo",
      "photoUrl": "",
      "userId": "02359484661843204503"
     },
     "user_tz": -480
    },
    "id": "PvUkdLlxKkpt",
    "outputId": "e4b67972-9c0d-4f73-a92c-5fdf4a9da2c6"
   },
   "outputs": [
    {
     "name": "stdout",
     "output_type": "stream",
     "text": [
      "Test loss: 0.47899290919303894\n",
      "Test accuracy: 0.8426677584648132\n"
     ]
    }
   ],
   "source": [
    "# evaluate model with test set\n",
    "#model.save(COLAB_FILEPATH+'model/LSTM-1layer.h5')\n",
    "model_lstm_1layer = keras.models.load_model(COLAB_FILEPATH+'model/LSTM-1layer-3-class.h5')\n",
    "\n",
    "# accuracy on test data\n",
    "score_1layer = model_lstm_1layer.evaluate(X_test,Y_test_oh, verbose=0)\n",
    "print('Test loss:', score_1layer[0]) \n",
    "print('Test accuracy:', score_1layer[1])"
   ]
  },
  {
   "cell_type": "code",
   "execution_count": null,
   "metadata": {
    "id": "QIsjmWUXK37X"
   },
   "outputs": [],
   "source": []
  },
  {
   "cell_type": "markdown",
   "metadata": {
    "id": "ErtLuTV4K4DO"
   },
   "source": [
    "### Two LSTM layer"
   ]
  },
  {
   "cell_type": "code",
   "execution_count": null,
   "metadata": {
    "colab": {
     "base_uri": "https://localhost:8080/"
    },
    "executionInfo": {
     "elapsed": 1328,
     "status": "ok",
     "timestamp": 1615991156476,
     "user": {
      "displayName": "Nicholas Neo",
      "photoUrl": "",
      "userId": "02359484661843204503"
     },
     "user_tz": -480
    },
    "id": "ffQVcw8hK7yo",
    "outputId": "9f49db4f-5782-4b77-eb4f-0e88cd1c08a4"
   },
   "outputs": [
    {
     "name": "stdout",
     "output_type": "stream",
     "text": [
      "WARNING:tensorflow:Layer lstm_7 will not use cuDNN kernel since it doesn't meet the cuDNN kernel criteria. It will use generic GPU kernel as fallback when running on GPU\n",
      "WARNING:tensorflow:Layer lstm_8 will not use cuDNN kernel since it doesn't meet the cuDNN kernel criteria. It will use generic GPU kernel as fallback when running on GPU\n",
      "Model: \"sequential_4\"\n",
      "_________________________________________________________________\n",
      "Layer (type)                 Output Shape              Param #   \n",
      "=================================================================\n",
      "embedding_4 (Embedding)      (None, 100, 32)           4348608   \n",
      "_________________________________________________________________\n",
      "lstm_7 (LSTM)                (None, 100, 128)          82432     \n",
      "_________________________________________________________________\n",
      "lstm_8 (LSTM)                (None, 128)               131584    \n",
      "_________________________________________________________________\n",
      "dense_4 (Dense)              (None, 3)                 387       \n",
      "=================================================================\n",
      "Total params: 4,563,011\n",
      "Trainable params: 4,563,011\n",
      "Non-trainable params: 0\n",
      "_________________________________________________________________\n",
      "None\n"
     ]
    }
   ],
   "source": [
    "vocab_size = len(vocabulary)\n",
    "embedding_vector_length = 32\n",
    "EPOCHS = 5\n",
    "\n",
    "model = Sequential()\n",
    "model.add(Embedding(vocab_size+1, embedding_vector_length, input_length=max_review_length))\n",
    "model.add(LSTM(128,return_sequences=True, dropout=0.4, recurrent_dropout=0.4))\n",
    "model.add(LSTM(128, dropout=0.4, recurrent_dropout=0.4))\n",
    "model.add(Dense(3, activation='softmax'))\n",
    "\n",
    "print(model.summary())"
   ]
  },
  {
   "cell_type": "code",
   "execution_count": null,
   "metadata": {
    "colab": {
     "base_uri": "https://localhost:8080/"
    },
    "executionInfo": {
     "elapsed": 2425162,
     "status": "ok",
     "timestamp": 1615993584294,
     "user": {
      "displayName": "Nicholas Neo",
      "photoUrl": "",
      "userId": "02359484661843204503"
     },
     "user_tz": -480
    },
    "id": "6ioNWzU7K98O",
    "outputId": "ebf35433-6570-45a7-8208-ff715688146f"
   },
   "outputs": [
    {
     "name": "stdout",
     "output_type": "stream",
     "text": [
      "Epoch 1/5\n",
      "614/614 [==============================] - 487s 787ms/step - loss: 0.5085 - accuracy: 0.8243 - val_loss: 0.4325 - val_accuracy: 0.8361\n",
      "\n",
      "Epoch 00001: val_loss improved from inf to 0.43251, saving model to ./drive/My Drive/4034-amazon-review-classification-new/data/LSTM-2layer-3-class.h5\n",
      "Epoch 2/5\n",
      "614/614 [==============================] - 479s 780ms/step - loss: 0.3508 - accuracy: 0.8717 - val_loss: 0.4118 - val_accuracy: 0.8421\n",
      "\n",
      "Epoch 00002: val_loss improved from 0.43251 to 0.41177, saving model to ./drive/My Drive/4034-amazon-review-classification-new/data/LSTM-2layer-3-class.h5\n",
      "Epoch 3/5\n",
      "614/614 [==============================] - 481s 784ms/step - loss: 0.3199 - accuracy: 0.8814 - val_loss: 0.4112 - val_accuracy: 0.8449\n",
      "\n",
      "Epoch 00003: val_loss improved from 0.41177 to 0.41121, saving model to ./drive/My Drive/4034-amazon-review-classification-new/data/LSTM-2layer-3-class.h5\n",
      "Epoch 4/5\n",
      "614/614 [==============================] - 486s 792ms/step - loss: 0.2942 - accuracy: 0.8903 - val_loss: 0.4054 - val_accuracy: 0.8474\n",
      "\n",
      "Epoch 00004: val_loss improved from 0.41121 to 0.40544, saving model to ./drive/My Drive/4034-amazon-review-classification-new/data/LSTM-2layer-3-class.h5\n",
      "Epoch 5/5\n",
      "614/614 [==============================] - 488s 794ms/step - loss: 0.2728 - accuracy: 0.8982 - val_loss: 0.4103 - val_accuracy: 0.8487\n",
      "\n",
      "Epoch 00005: val_loss did not improve from 0.40544\n"
     ]
    }
   ],
   "source": [
    "model.compile(loss='categorical_crossentropy', optimizer='adam', metrics=['accuracy'])\n",
    "callbacks_list=[ModelCheckpoint(filepath=COLAB_FILEPATH+'model/LSTM-2layer-3-class.h5',save_best_only=True,verbose=1,)]\n",
    "#Fitting the data to the model\n",
    "history = model.fit(X_train, \n",
    "                    Y_train_oh, \n",
    "                    epochs=EPOCHS, \n",
    "                    batch_size=512,\n",
    "                    verbose=1,\n",
    "                    #validation_data=(X_test, Y_test),\n",
    "                    validation_split=0.2,\n",
    "                    callbacks=callbacks_list)"
   ]
  },
  {
   "cell_type": "code",
   "execution_count": null,
   "metadata": {
    "colab": {
     "base_uri": "https://localhost:8080/",
     "height": 283
    },
    "executionInfo": {
     "elapsed": 898,
     "status": "ok",
     "timestamp": 1615993654036,
     "user": {
      "displayName": "Nicholas Neo",
      "photoUrl": "",
      "userId": "02359484661843204503"
     },
     "user_tz": -480
    },
    "id": "8P3ldH0FK_kU",
    "outputId": "c84d39da-471c-4ade-955e-7aa5622d823a"
   },
   "outputs": [
    {
     "data": {
      "image/png": "[encoded data removed]",
      "text/plain": [
       "<Figure size 432x288 with 1 Axes>"
      ]
     },
     "metadata": {
      "needs_background": "light",
      "tags": []
     },
     "output_type": "display_data"
    }
   ],
   "source": [
    "#score = model.evaluate(X_test, Y_test, verbose=0) \n",
    "#print('Test score:', score[0]) \n",
    "#print('Test accuracy:', score[1])\n",
    "\n",
    "fig,ax = plt.subplots(1,1)\n",
    "ax.set_xlabel('epoch') ; ax.set_ylabel('categorical_crossentropy')\n",
    "\n",
    "# list of epoch numbers\n",
    "x = list(range(1,EPOCHS+1))\n",
    "\n",
    "vy = history.history['val_loss']\n",
    "ty = history.history['loss']\n",
    "plt_dynamic(x, vy, ty, ax)"
   ]
  },
  {
   "cell_type": "code",
   "execution_count": null,
   "metadata": {
    "colab": {
     "base_uri": "https://localhost:8080/"
    },
    "executionInfo": {
     "elapsed": 121559,
     "status": "ok",
     "timestamp": 1615993803465,
     "user": {
      "displayName": "Nicholas Neo",
      "photoUrl": "",
      "userId": "02359484661843204503"
     },
     "user_tz": -480
    },
    "id": "1D7Qy5GWLENA",
    "outputId": "19dc2cec-0022-41cf-ae8e-5dee2d8d66d7"
   },
   "outputs": [
    {
     "name": "stdout",
     "output_type": "stream",
     "text": [
      "WARNING:tensorflow:Layer lstm_7 will not use cuDNN kernel since it doesn't meet the cuDNN kernel criteria. It will use generic GPU kernel as fallback when running on GPU\n",
      "WARNING:tensorflow:Layer lstm_8 will not use cuDNN kernel since it doesn't meet the cuDNN kernel criteria. It will use generic GPU kernel as fallback when running on GPU\n",
      "Test loss: 0.5000984072685242\n",
      "Test accuracy: 0.846143364906311\n"
     ]
    }
   ],
   "source": [
    "# evaluate model with test set\n",
    "#model.save(COLAB_FILEPATH+'model/LSTM-2layer.h5')\n",
    "model_lstm_2layer = keras.models.load_model(COLAB_FILEPATH+'model/LSTM-2layer-3-class.h5')\n",
    "\n",
    "# accuracy on test data\n",
    "score_2layer = model_lstm_2layer.evaluate(X_test,Y_test_oh, verbose=0)\n",
    "print('Test loss:', score_2layer[0]) \n",
    "print('Test accuracy:', score_2layer[1])"
   ]
  },
  {
   "cell_type": "code",
   "execution_count": null,
   "metadata": {
    "id": "bExbyy71iF6t"
   },
   "outputs": [],
   "source": []
  }
 ],
 "metadata": {
  "accelerator": "GPU",
  "colab": {
   "authorship_tag": "ABX9TyNpe/fybKpsV8cwZ/MrWTn9",
   "collapsed_sections": [],
   "name": "amazon-review-dataset-3-class.ipynb",
   "provenance": []
  },
  "kernelspec": {
   "display_name": "Python 3",
   "language": "python",
   "name": "python3"
  },
  "language_info": {
   "codemirror_mode": {
    "name": "ipython",
    "version": 3
   },
   "file_extension": ".py",
   "mimetype": "text/x-python",
   "name": "python",
   "nbconvert_exporter": "python",
   "pygments_lexer": "ipython3",
   "version": "3.7.7"
  }
 },
 "nbformat": 4,
 "nbformat_minor": 1
}
